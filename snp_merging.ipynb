{
 "cells": [
  {
   "cell_type": "code",
   "execution_count": 17,
   "metadata": {},
   "outputs": [],
   "source": [
    "import pandas as pd\n",
    "import  numpy as np\n",
    "import os\n",
    "import re"
   ]
  },
  {
   "cell_type": "code",
   "execution_count": 83,
   "metadata": {},
   "outputs": [],
   "source": [
    "# Automatic loop for 20 files"
   ]
  },
  {
   "cell_type": "code",
   "execution_count": 11,
   "metadata": {
    "scrolled": true
   },
   "outputs": [
    {
     "data": {
      "text/plain": [
       "['873_case.csv',\n",
       " '875_case.csv',\n",
       " '880_case.csv',\n",
       " '910_case.csv',\n",
       " '1134_control.csv']"
      ]
     },
     "execution_count": 11,
     "metadata": {},
     "output_type": "execute_result"
    }
   ],
   "source": [
    "files_names = os.listdir(\"../snp_small_files/\")\n",
    "#len(files_names)\n",
    "#os.getcwd()\n",
    "#files_names[:5]\n"
   ]
  },
  {
   "cell_type": "code",
   "execution_count": 10,
   "metadata": {},
   "outputs": [],
   "source": [
    " df= pd.read_csv(\"../snp_small_files/\"+\"1093_control.csv\")  #read the files"
   ]
  },
  {
   "cell_type": "code",
   "execution_count": 5,
   "metadata": {},
   "outputs": [
    {
     "data": {
      "text/plain": [
       "Index(['#CHROM', 'POS', 'ID', 'REF', 'ALT', 'GEN_989'], dtype='object')"
      ]
     },
     "execution_count": 5,
     "metadata": {},
     "output_type": "execute_result"
    }
   ],
   "source": [
    "df.columns"
   ]
  },
  {
   "cell_type": "code",
   "execution_count": 7,
   "metadata": {},
   "outputs": [
    {
     "data": {
      "text/html": [
       "<div>\n",
       "<style scoped>\n",
       "    .dataframe tbody tr th:only-of-type {\n",
       "        vertical-align: middle;\n",
       "    }\n",
       "\n",
       "    .dataframe tbody tr th {\n",
       "        vertical-align: top;\n",
       "    }\n",
       "\n",
       "    .dataframe thead th {\n",
       "        text-align: right;\n",
       "    }\n",
       "</style>\n",
       "<table border=\"1\" class=\"dataframe\">\n",
       "  <thead>\n",
       "    <tr style=\"text-align: right;\">\n",
       "      <th></th>\n",
       "      <th>#CHROM</th>\n",
       "      <th>POS</th>\n",
       "      <th>ID</th>\n",
       "      <th>REF</th>\n",
       "      <th>ALT</th>\n",
       "      <th>GEN_989_case</th>\n",
       "    </tr>\n",
       "  </thead>\n",
       "  <tbody>\n",
       "    <tr>\n",
       "      <td>0</td>\n",
       "      <td>chr1</td>\n",
       "      <td>13868</td>\n",
       "      <td>.</td>\n",
       "      <td>A</td>\n",
       "      <td>G</td>\n",
       "      <td>0/1</td>\n",
       "    </tr>\n",
       "    <tr>\n",
       "      <td>1</td>\n",
       "      <td>chr1</td>\n",
       "      <td>13868</td>\n",
       "      <td>.</td>\n",
       "      <td>A</td>\n",
       "      <td>G</td>\n",
       "      <td>0/1</td>\n",
       "    </tr>\n",
       "    <tr>\n",
       "      <td>2</td>\n",
       "      <td>chr1</td>\n",
       "      <td>13868</td>\n",
       "      <td>.</td>\n",
       "      <td>A</td>\n",
       "      <td>G</td>\n",
       "      <td>0/1</td>\n",
       "    </tr>\n",
       "    <tr>\n",
       "      <td>3</td>\n",
       "      <td>chr1</td>\n",
       "      <td>13868</td>\n",
       "      <td>.</td>\n",
       "      <td>A</td>\n",
       "      <td>G</td>\n",
       "      <td>0/1</td>\n",
       "    </tr>\n",
       "    <tr>\n",
       "      <td>4</td>\n",
       "      <td>chr1</td>\n",
       "      <td>13868</td>\n",
       "      <td>.</td>\n",
       "      <td>A</td>\n",
       "      <td>G</td>\n",
       "      <td>0/1</td>\n",
       "    </tr>\n",
       "  </tbody>\n",
       "</table>\n",
       "</div>"
      ],
      "text/plain": [
       "  #CHROM    POS ID REF ALT GEN_989_case\n",
       "0   chr1  13868  .   A   G          0/1\n",
       "1   chr1  13868  .   A   G          0/1\n",
       "2   chr1  13868  .   A   G          0/1\n",
       "3   chr1  13868  .   A   G          0/1\n",
       "4   chr1  13868  .   A   G          0/1"
      ]
     },
     "execution_count": 7,
     "metadata": {},
     "output_type": "execute_result"
    }
   ],
   "source": [
    "#df[df[\"ID\"]==\"rs2963463\"]\n",
    "df.head()"
   ]
  },
  {
   "cell_type": "code",
   "execution_count": 15,
   "metadata": {},
   "outputs": [],
   "source": [
    "files_names = [\"1093_control.csv\",\"989_case.csv\",\"1316_control.csv\",\"1119_case.csv\",\"1282_case.csv\"]"
   ]
  },
  {
   "cell_type": "code",
   "execution_count": 19,
   "metadata": {
    "scrolled": true
   },
   "outputs": [
    {
     "name": "stdout",
     "output_type": "stream",
     "text": [
      "Loading 1093_control.csv>>Loading 989_case.csv>>Loading 1316_control.csv>>Loading 1119_case.csv>>Loading 1282_case.csv>>\n",
      " All task Complete\n"
     ]
    }
   ],
   "source": [
    "for data in files_names:\n",
    "    print(\"Loading \"+data, end =\">>\")\n",
    "    df= pd.read_csv(\"../snp_small_files/\"+data)  #read the files\n",
    "    df = df.drop_duplicates()  #duplicates the rows by same values\n",
    "    df[\"GEN\"+\"_\"+data] = np.where(df.iloc[:,-1]==\"0/1\",(df[\"REF\"].astype(str)+\"/\"+df[\"ALT\"]),\n",
    "                      (df[\"ALT\"].astype(str)+\"/\"+df[\"ALT\"]))\n",
    "    df = df.iloc[:,[0,1,2,3,-1]] #We Need only first ,Second,third , fourh and last columns\n",
    "    df.to_csv(\"/BiO/Preterm/krishna_test/snp_analysis/\"+data,index = None, header=True)\n",
    "print(\"\\n All task Complete\")"
   ]
  },
  {
   "cell_type": "code",
   "execution_count": 124,
   "metadata": {},
   "outputs": [
    {
     "data": {
      "text/plain": [
       "(4170064, 7)"
      ]
     },
     "execution_count": 124,
     "metadata": {},
     "output_type": "execute_result"
    }
   ],
   "source": [
    "#df.shape"
   ]
  },
  {
   "cell_type": "code",
   "execution_count": 90,
   "metadata": {},
   "outputs": [],
   "source": [
    "#df1 = pd.read_csv(\"1009_case.csv\")\n",
    "#df2 = pd.read_csv(\"1428_control.csv\")"
   ]
  },
  {
   "cell_type": "code",
   "execution_count": 93,
   "metadata": {
    "scrolled": true
   },
   "outputs": [],
   "source": [
    "#df1 = df1.drop_duplicates()\n",
    "#df2 = df2.drop_duplicates()"
   ]
  },
  {
   "cell_type": "code",
   "execution_count": null,
   "metadata": {},
   "outputs": [],
   "source": [
    "#df1.shape ,  df2.shape"
   ]
  },
  {
   "cell_type": "code",
   "execution_count": 95,
   "metadata": {},
   "outputs": [],
   "source": [
    "#df1 = df1.head(100) #For fast Processing Only short Purpose\n",
    "#df2 = df2.head(100)"
   ]
  },
  {
   "cell_type": "code",
   "execution_count": null,
   "metadata": {},
   "outputs": [],
   "source": [
    "#df1.head()"
   ]
  },
  {
   "cell_type": "code",
   "execution_count": 55,
   "metadata": {
    "scrolled": true
   },
   "outputs": [],
   "source": [
    "#df1[\"ALT\"] = if df1[\"REF\"].astype(str)+\"/\"+df1[\"ALT\"]"
   ]
  },
  {
   "cell_type": "code",
   "execution_count": 105,
   "metadata": {},
   "outputs": [],
   "source": [
    "#df1[\"GEN\"] = np.where(df1.iloc[:,-1]==\"0/1\",(df1[\"REF\"].astype(str)+\"/\"+df1[\"ALT\"]),\n",
    "#                      (df1[\"ALT\"].astype(str)+\"/\"+df1[\"ALT\"]))"
   ]
  },
  {
   "cell_type": "code",
   "execution_count": 120,
   "metadata": {},
   "outputs": [],
   "source": [
    "#df1 = df1.iloc[:,[0,1,2,3,-1]]\n",
    "#df1[df1[\"GEN\"]==(\"A/A\" or \"C/C\" or \"T/T\")]\n",
    "#df1.to_csv(\"/BiO/Preterm/krishna_test/snp_analysis/\"+\"test.csv\",index = None, header=True)"
   ]
  }
 ],
 "metadata": {
  "kernelspec": {
   "display_name": "Python 3",
   "language": "python",
   "name": "python3"
  },
  "language_info": {
   "codemirror_mode": {
    "name": "ipython",
    "version": 3
   },
   "file_extension": ".py",
   "mimetype": "text/x-python",
   "name": "python",
   "nbconvert_exporter": "python",
   "pygments_lexer": "ipython3",
   "version": "3.7.4"
  }
 },
 "nbformat": 4,
 "nbformat_minor": 2
}
