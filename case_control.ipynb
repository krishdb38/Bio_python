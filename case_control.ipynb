{
 "cells": [
  {
   "cell_type": "code",
   "execution_count": 139,
   "metadata": {},
   "outputs": [],
   "source": [
    "import pandas as pd\n",
    "import numpy as np"
   ]
  },
  {
   "cell_type": "code",
   "execution_count": 140,
   "metadata": {},
   "outputs": [],
   "source": [
    "df1 = pd.read_csv(\"../case_con_mer.csv\")"
   ]
  },
  {
   "cell_type": "code",
   "execution_count": 141,
   "metadata": {
    "scrolled": false
   },
   "outputs": [
    {
     "data": {
      "text/html": [
       "<div>\n",
       "<style scoped>\n",
       "    .dataframe tbody tr th:only-of-type {\n",
       "        vertical-align: middle;\n",
       "    }\n",
       "\n",
       "    .dataframe tbody tr th {\n",
       "        vertical-align: top;\n",
       "    }\n",
       "\n",
       "    .dataframe thead th {\n",
       "        text-align: right;\n",
       "    }\n",
       "</style>\n",
       "<table border=\"1\" class=\"dataframe\">\n",
       "  <thead>\n",
       "    <tr style=\"text-align: right;\">\n",
       "      <th></th>\n",
       "      <th>CHROM</th>\n",
       "      <th>POS</th>\n",
       "      <th>ID</th>\n",
       "      <th>REF</th>\n",
       "      <th>1c</th>\n",
       "      <th>2c</th>\n",
       "      <th>3c</th>\n",
       "      <th>4c</th>\n",
       "      <th>5c</th>\n",
       "      <th>6c</th>\n",
       "      <th>...</th>\n",
       "      <th>1cn</th>\n",
       "      <th>2cn</th>\n",
       "      <th>3cn</th>\n",
       "      <th>4cn</th>\n",
       "      <th>5cn</th>\n",
       "      <th>6cn</th>\n",
       "      <th>7cn</th>\n",
       "      <th>8cn</th>\n",
       "      <th>9cn</th>\n",
       "      <th>10cn</th>\n",
       "    </tr>\n",
       "  </thead>\n",
       "  <tbody>\n",
       "    <tr>\n",
       "      <td>0</td>\n",
       "      <td>chrM</td>\n",
       "      <td>146</td>\n",
       "      <td>.</td>\n",
       "      <td>T</td>\n",
       "      <td>NaN</td>\n",
       "      <td>NaN</td>\n",
       "      <td>NaN</td>\n",
       "      <td>NaN</td>\n",
       "      <td>NaN</td>\n",
       "      <td>NaN</td>\n",
       "      <td>...</td>\n",
       "      <td>NaN</td>\n",
       "      <td>C/C</td>\n",
       "      <td>NaN</td>\n",
       "      <td>NaN</td>\n",
       "      <td>NaN</td>\n",
       "      <td>NaN</td>\n",
       "      <td>NaN</td>\n",
       "      <td>NaN</td>\n",
       "      <td>NaN</td>\n",
       "      <td>NaN</td>\n",
       "    </tr>\n",
       "    <tr>\n",
       "      <td>1</td>\n",
       "      <td>chrM</td>\n",
       "      <td>150</td>\n",
       "      <td>.</td>\n",
       "      <td>T</td>\n",
       "      <td>C/C</td>\n",
       "      <td>C/C</td>\n",
       "      <td>C/C</td>\n",
       "      <td>NaN</td>\n",
       "      <td>NaN</td>\n",
       "      <td>NaN</td>\n",
       "      <td>...</td>\n",
       "      <td>C/C</td>\n",
       "      <td>C/C</td>\n",
       "      <td>C/C</td>\n",
       "      <td>C/C</td>\n",
       "      <td>C/C</td>\n",
       "      <td>NaN</td>\n",
       "      <td>C/C</td>\n",
       "      <td>NaN</td>\n",
       "      <td>NaN</td>\n",
       "      <td>NaN</td>\n",
       "    </tr>\n",
       "    <tr>\n",
       "      <td>2</td>\n",
       "      <td>chrM</td>\n",
       "      <td>152</td>\n",
       "      <td>.</td>\n",
       "      <td>T</td>\n",
       "      <td>NaN</td>\n",
       "      <td>NaN</td>\n",
       "      <td>NaN</td>\n",
       "      <td>NaN</td>\n",
       "      <td>NaN</td>\n",
       "      <td>NaN</td>\n",
       "      <td>...</td>\n",
       "      <td>NaN</td>\n",
       "      <td>NaN</td>\n",
       "      <td>C/C</td>\n",
       "      <td>NaN</td>\n",
       "      <td>NaN</td>\n",
       "      <td>NaN</td>\n",
       "      <td>C/C</td>\n",
       "      <td>NaN</td>\n",
       "      <td>NaN</td>\n",
       "      <td>C/C</td>\n",
       "    </tr>\n",
       "    <tr>\n",
       "      <td>3</td>\n",
       "      <td>chr17</td>\n",
       "      <td>169</td>\n",
       "      <td>.</td>\n",
       "      <td>C</td>\n",
       "      <td>NaN</td>\n",
       "      <td>NaN</td>\n",
       "      <td>NaN</td>\n",
       "      <td>NaN</td>\n",
       "      <td>NaN</td>\n",
       "      <td>NaN</td>\n",
       "      <td>...</td>\n",
       "      <td>NaN</td>\n",
       "      <td>NaN</td>\n",
       "      <td>NaN</td>\n",
       "      <td>NaN</td>\n",
       "      <td>NaN</td>\n",
       "      <td>NaN</td>\n",
       "      <td>NaN</td>\n",
       "      <td>NaN</td>\n",
       "      <td>C/G</td>\n",
       "      <td>NaN</td>\n",
       "    </tr>\n",
       "    <tr>\n",
       "      <td>4</td>\n",
       "      <td>chrM</td>\n",
       "      <td>183</td>\n",
       "      <td>.</td>\n",
       "      <td>A</td>\n",
       "      <td>NaN</td>\n",
       "      <td>NaN</td>\n",
       "      <td>NaN</td>\n",
       "      <td>NaN</td>\n",
       "      <td>NaN</td>\n",
       "      <td>NaN</td>\n",
       "      <td>...</td>\n",
       "      <td>NaN</td>\n",
       "      <td>NaN</td>\n",
       "      <td>NaN</td>\n",
       "      <td>NaN</td>\n",
       "      <td>NaN</td>\n",
       "      <td>NaN</td>\n",
       "      <td>NaN</td>\n",
       "      <td>NaN</td>\n",
       "      <td>NaN</td>\n",
       "      <td>G/G</td>\n",
       "    </tr>\n",
       "  </tbody>\n",
       "</table>\n",
       "<p>5 rows × 24 columns</p>\n",
       "</div>"
      ],
      "text/plain": [
       "   CHROM  POS ID REF   1c   2c   3c   4c   5c   6c  ...  1cn  2cn  3cn  4cn  \\\n",
       "0   chrM  146  .   T  NaN  NaN  NaN  NaN  NaN  NaN  ...  NaN  C/C  NaN  NaN   \n",
       "1   chrM  150  .   T  C/C  C/C  C/C  NaN  NaN  NaN  ...  C/C  C/C  C/C  C/C   \n",
       "2   chrM  152  .   T  NaN  NaN  NaN  NaN  NaN  NaN  ...  NaN  NaN  C/C  NaN   \n",
       "3  chr17  169  .   C  NaN  NaN  NaN  NaN  NaN  NaN  ...  NaN  NaN  NaN  NaN   \n",
       "4   chrM  183  .   A  NaN  NaN  NaN  NaN  NaN  NaN  ...  NaN  NaN  NaN  NaN   \n",
       "\n",
       "   5cn  6cn  7cn  8cn  9cn 10cn  \n",
       "0  NaN  NaN  NaN  NaN  NaN  NaN  \n",
       "1  C/C  NaN  C/C  NaN  NaN  NaN  \n",
       "2  NaN  NaN  C/C  NaN  NaN  C/C  \n",
       "3  NaN  NaN  NaN  NaN  C/G  NaN  \n",
       "4  NaN  NaN  NaN  NaN  NaN  G/G  \n",
       "\n",
       "[5 rows x 24 columns]"
      ]
     },
     "execution_count": 141,
     "metadata": {},
     "output_type": "execute_result"
    }
   ],
   "source": [
    "df1.head()"
   ]
  },
  {
   "cell_type": "code",
   "execution_count": 142,
   "metadata": {},
   "outputs": [
    {
     "data": {
      "text/plain": [
       "(11176568, 24)"
      ]
     },
     "execution_count": 142,
     "metadata": {},
     "output_type": "execute_result"
    }
   ],
   "source": [
    "df1.shape"
   ]
  },
  {
   "cell_type": "markdown",
   "metadata": {},
   "source": [
    "### Checking weather NAN values exists in case and not in Control and Vise -versa\n",
    "## In this case we use 100 % means SNPs are according to reference in case and not in control and vice-versha"
   ]
  },
  {
   "cell_type": "code",
   "execution_count": 143,
   "metadata": {},
   "outputs": [],
   "source": [
    "#df1 = df1[df1.isnull().sum(axis=1)<17]\n",
    "case_con = df1[(df1.iloc[:,[4,5,6,7,8,9,10,11,12,13]].isnull().sum(axis =1)<1)\n",
    "    &(df1.iloc[:,[14,15,16,17,18,19,20,21,22,23]].isnull().sum(axis =1)>9)] #We Can accept up to  80 %\n",
    "\n",
    "#case NAN more and Control NAN is Less\n",
    "con_case = df1[(df1.iloc[:,[4,5,6,7,8,9,10,11,12,13]].isnull().sum(axis =1)>9) \\\n",
    "    &(df1.iloc[:,[14,15,16,17,18,19,20,21,22,23]].isnull().sum(axis =1)<1)]\n",
    "#case_on_con means nan value in more than 9 (10) in control but all SNP in case\n",
    "#con_on_case means all SNP value exists in Control but not in case"
   ]
  },
  {
   "cell_type": "code",
   "execution_count": 144,
   "metadata": {},
   "outputs": [],
   "source": [
    "#case_con.shape"
   ]
  },
  {
   "cell_type": "code",
   "execution_count": 145,
   "metadata": {},
   "outputs": [],
   "source": [
    "#con_case.shape"
   ]
  },
  {
   "cell_type": "code",
   "execution_count": 146,
   "metadata": {},
   "outputs": [],
   "source": [
    "#case_con.head()"
   ]
  },
  {
   "cell_type": "code",
   "execution_count": 147,
   "metadata": {},
   "outputs": [],
   "source": [
    "#con_case.head()"
   ]
  },
  {
   "cell_type": "code",
   "execution_count": 148,
   "metadata": {},
   "outputs": [],
   "source": [
    "#case_con.to_csv(\"../case8_con0.csv\",index=False)"
   ]
  },
  {
   "cell_type": "code",
   "execution_count": 149,
   "metadata": {},
   "outputs": [],
   "source": [
    "#lilst = df1.ID"
   ]
  },
  {
   "cell_type": "code",
   "execution_count": 150,
   "metadata": {
    "scrolled": true
   },
   "outputs": [],
   "source": [
    "#case_con.iloc[:,[0,1,2,3,4,5,6,7,8,9,10,11,12,13]].tail(20)"
   ]
  },
  {
   "cell_type": "code",
   "execution_count": 151,
   "metadata": {},
   "outputs": [
    {
     "ename": "NameError",
     "evalue": "name 'a' is not defined",
     "output_type": "error",
     "traceback": [
      "\u001b[1;31m---------------------------------------------------------------------------\u001b[0m",
      "\u001b[1;31mNameError\u001b[0m                                 Traceback (most recent call last)",
      "\u001b[1;32m<ipython-input-151-f828f577a819>\u001b[0m in \u001b[0;36m<module>\u001b[1;34m\u001b[0m\n\u001b[1;32m----> 1\u001b[1;33m \u001b[0mdf1\u001b[0m\u001b[1;33m[\u001b[0m\u001b[0mdf1\u001b[0m\u001b[1;33m.\u001b[0m\u001b[0mID\u001b[0m \u001b[1;33m==\u001b[0m \u001b[0ma\u001b[0m\u001b[1;33m]\u001b[0m\u001b[1;33m\u001b[0m\u001b[1;33m\u001b[0m\u001b[0m\n\u001b[0m",
      "\u001b[1;31mNameError\u001b[0m: name 'a' is not defined"
     ]
    }
   ],
   "source": [
    "df1[df1.ID == a]"
   ]
  },
  {
   "cell_type": "code",
   "execution_count": null,
   "metadata": {},
   "outputs": [],
   "source": [
    "#test = pd.read_csv(\"../direct.hg19_multianno.txt.intervar\",sep=\"\\t\")"
   ]
  },
  {
   "cell_type": "code",
   "execution_count": null,
   "metadata": {
    "scrolled": false
   },
   "outputs": [],
   "source": [
    "#test.head()"
   ]
  },
  {
   "cell_type": "code",
   "execution_count": null,
   "metadata": {
    "scrolled": true
   },
   "outputs": [],
   "source": [
    "#test[\"Ref.Gene\"]\n",
    "#pd.options.display.max_columns = None"
   ]
  },
  {
   "cell_type": "markdown",
   "metadata": {},
   "source": [
    "###  2. Method \n",
    "#### We remove sum of nan more than 15 in all row wise \n",
    "15/20\n"
   ]
  },
  {
   "cell_type": "code",
   "execution_count": 152,
   "metadata": {},
   "outputs": [
    {
     "data": {
      "text/plain": [
       "(4246244, 24)"
      ]
     },
     "execution_count": 152,
     "metadata": {},
     "output_type": "execute_result"
    }
   ],
   "source": [
    "df1 =df1[df1.isna().sum(axis=1)<12]\n",
    "df1.shape"
   ]
  },
  {
   "cell_type": "code",
   "execution_count": 153,
   "metadata": {},
   "outputs": [
    {
     "data": {
      "text/html": [
       "<div>\n",
       "<style scoped>\n",
       "    .dataframe tbody tr th:only-of-type {\n",
       "        vertical-align: middle;\n",
       "    }\n",
       "\n",
       "    .dataframe tbody tr th {\n",
       "        vertical-align: top;\n",
       "    }\n",
       "\n",
       "    .dataframe thead th {\n",
       "        text-align: right;\n",
       "    }\n",
       "</style>\n",
       "<table border=\"1\" class=\"dataframe\">\n",
       "  <thead>\n",
       "    <tr style=\"text-align: right;\">\n",
       "      <th></th>\n",
       "      <th>CHROM</th>\n",
       "      <th>POS</th>\n",
       "      <th>ID</th>\n",
       "      <th>REF</th>\n",
       "      <th>1c</th>\n",
       "      <th>2c</th>\n",
       "      <th>3c</th>\n",
       "      <th>4c</th>\n",
       "      <th>5c</th>\n",
       "      <th>6c</th>\n",
       "      <th>...</th>\n",
       "      <th>1cn</th>\n",
       "      <th>2cn</th>\n",
       "      <th>3cn</th>\n",
       "      <th>4cn</th>\n",
       "      <th>5cn</th>\n",
       "      <th>6cn</th>\n",
       "      <th>7cn</th>\n",
       "      <th>8cn</th>\n",
       "      <th>9cn</th>\n",
       "      <th>10cn</th>\n",
       "    </tr>\n",
       "  </thead>\n",
       "  <tbody>\n",
       "    <tr>\n",
       "      <td>1</td>\n",
       "      <td>chrM</td>\n",
       "      <td>150</td>\n",
       "      <td>.</td>\n",
       "      <td>T</td>\n",
       "      <td>C/C</td>\n",
       "      <td>C/C</td>\n",
       "      <td>C/C</td>\n",
       "      <td>NaN</td>\n",
       "      <td>NaN</td>\n",
       "      <td>NaN</td>\n",
       "      <td>...</td>\n",
       "      <td>C/C</td>\n",
       "      <td>C/C</td>\n",
       "      <td>C/C</td>\n",
       "      <td>C/C</td>\n",
       "      <td>C/C</td>\n",
       "      <td>NaN</td>\n",
       "      <td>C/C</td>\n",
       "      <td>NaN</td>\n",
       "      <td>NaN</td>\n",
       "      <td>NaN</td>\n",
       "    </tr>\n",
       "    <tr>\n",
       "      <td>5</td>\n",
       "      <td>chrM</td>\n",
       "      <td>195</td>\n",
       "      <td>.</td>\n",
       "      <td>C</td>\n",
       "      <td>T/T</td>\n",
       "      <td>T/T</td>\n",
       "      <td>T/T</td>\n",
       "      <td>T/T</td>\n",
       "      <td>T/T</td>\n",
       "      <td>T/T</td>\n",
       "      <td>...</td>\n",
       "      <td>T/T</td>\n",
       "      <td>T/T</td>\n",
       "      <td>T/T</td>\n",
       "      <td>NaN</td>\n",
       "      <td>T/T</td>\n",
       "      <td>T/T</td>\n",
       "      <td>T/T</td>\n",
       "      <td>NaN</td>\n",
       "      <td>T/T</td>\n",
       "      <td>T/T</td>\n",
       "    </tr>\n",
       "    <tr>\n",
       "      <td>14</td>\n",
       "      <td>chrM</td>\n",
       "      <td>302</td>\n",
       "      <td>.</td>\n",
       "      <td>AC</td>\n",
       "      <td>NaN</td>\n",
       "      <td>AC/A</td>\n",
       "      <td>AC/A</td>\n",
       "      <td>NaN</td>\n",
       "      <td>AC/A</td>\n",
       "      <td>AC/A</td>\n",
       "      <td>...</td>\n",
       "      <td>NaN</td>\n",
       "      <td>NaN</td>\n",
       "      <td>NaN</td>\n",
       "      <td>NaN</td>\n",
       "      <td>AC/A</td>\n",
       "      <td>NaN</td>\n",
       "      <td>NaN</td>\n",
       "      <td>AC/A</td>\n",
       "      <td>AC/A</td>\n",
       "      <td>AC/A</td>\n",
       "    </tr>\n",
       "    <tr>\n",
       "      <td>15</td>\n",
       "      <td>chr17</td>\n",
       "      <td>302</td>\n",
       "      <td>rs35998167</td>\n",
       "      <td>T</td>\n",
       "      <td>TA/TA</td>\n",
       "      <td>TA/TA</td>\n",
       "      <td>TA/TA</td>\n",
       "      <td>TA/TA</td>\n",
       "      <td>T/TA</td>\n",
       "      <td>TA/TA</td>\n",
       "      <td>...</td>\n",
       "      <td>TA/TA</td>\n",
       "      <td>TA/TA</td>\n",
       "      <td>TA/TA</td>\n",
       "      <td>TA/TA</td>\n",
       "      <td>TA/TA</td>\n",
       "      <td>TA/TA</td>\n",
       "      <td>TA/TA</td>\n",
       "      <td>TA/TA</td>\n",
       "      <td>TA/TA</td>\n",
       "      <td>TA/TA</td>\n",
       "    </tr>\n",
       "    <tr>\n",
       "      <td>17</td>\n",
       "      <td>chrM</td>\n",
       "      <td>410</td>\n",
       "      <td>.</td>\n",
       "      <td>A</td>\n",
       "      <td>T/T</td>\n",
       "      <td>T/T</td>\n",
       "      <td>T/T</td>\n",
       "      <td>T/T</td>\n",
       "      <td>T/T</td>\n",
       "      <td>T/T</td>\n",
       "      <td>...</td>\n",
       "      <td>T/T</td>\n",
       "      <td>T/T</td>\n",
       "      <td>T/T</td>\n",
       "      <td>T/T</td>\n",
       "      <td>T/T</td>\n",
       "      <td>T/T</td>\n",
       "      <td>T/T</td>\n",
       "      <td>T/T</td>\n",
       "      <td>T/T</td>\n",
       "      <td>T/T</td>\n",
       "    </tr>\n",
       "  </tbody>\n",
       "</table>\n",
       "<p>5 rows × 24 columns</p>\n",
       "</div>"
      ],
      "text/plain": [
       "    CHROM  POS          ID REF     1c     2c     3c     4c    5c     6c  ...  \\\n",
       "1    chrM  150           .   T    C/C    C/C    C/C    NaN   NaN    NaN  ...   \n",
       "5    chrM  195           .   C    T/T    T/T    T/T    T/T   T/T    T/T  ...   \n",
       "14   chrM  302           .  AC    NaN   AC/A   AC/A    NaN  AC/A   AC/A  ...   \n",
       "15  chr17  302  rs35998167   T  TA/TA  TA/TA  TA/TA  TA/TA  T/TA  TA/TA  ...   \n",
       "17   chrM  410           .   A    T/T    T/T    T/T    T/T   T/T    T/T  ...   \n",
       "\n",
       "      1cn    2cn    3cn    4cn    5cn    6cn    7cn    8cn    9cn   10cn  \n",
       "1     C/C    C/C    C/C    C/C    C/C    NaN    C/C    NaN    NaN    NaN  \n",
       "5     T/T    T/T    T/T    NaN    T/T    T/T    T/T    NaN    T/T    T/T  \n",
       "14    NaN    NaN    NaN    NaN   AC/A    NaN    NaN   AC/A   AC/A   AC/A  \n",
       "15  TA/TA  TA/TA  TA/TA  TA/TA  TA/TA  TA/TA  TA/TA  TA/TA  TA/TA  TA/TA  \n",
       "17    T/T    T/T    T/T    T/T    T/T    T/T    T/T    T/T    T/T    T/T  \n",
       "\n",
       "[5 rows x 24 columns]"
      ]
     },
     "execution_count": 153,
     "metadata": {},
     "output_type": "execute_result"
    }
   ],
   "source": [
    "df1.head()"
   ]
  },
  {
   "cell_type": "code",
   "execution_count": 30,
   "metadata": {},
   "outputs": [],
   "source": [
    "#t[t.isna().sum(axis =1)<12]"
   ]
  },
  {
   "cell_type": "code",
   "execution_count": 154,
   "metadata": {},
   "outputs": [],
   "source": [
    "#df1[(df1[\"1c\"].isin(df1[\"1cn\"])) & (df1[\"2c\"].isin(df1[\"2cn\"]))]\n",
    "df_eq = df1[(df1[\"1c\"]==df1[\"1cn\"])&(df1[\"2c\"]==df1[\"2cn\"])&(df1[\"3c\"]==df1[\"3cn\"])&(df1[\"4c\"]==df1[\"4cn\"])\\\n",
    "        &(df1[\"5c\"]==df1[\"5cn\"])&(df1[\"6c\"]==df1[\"6cn\"])&(df1[\"7c\"]==df1[\"7cn\"])&(df1[\"8c\"]==df1[\"8cn\"])\\\n",
    "        &(df1[\"9c\"]==df1[\"9cn\"])&(df1[\"10c\"]==df1[\"10cn\"])]\n",
    "\n",
    "df_noeq = df1[~((df1[\"1c\"]==df1[\"1cn\"])&(df1[\"2c\"]==df1[\"2cn\"])&(df1[\"3c\"]==df1[\"3cn\"])&(df1[\"4c\"]==df1[\"4cn\"])\\\n",
    "        &(df1[\"5c\"]==df1[\"5cn\"])&(df1[\"6c\"]==df1[\"6cn\"])&(df1[\"7c\"]==df1[\"7cn\"])&(df1[\"8c\"]==df1[\"8cn\"])\\\n",
    "        &(df1[\"9c\"]==df1[\"9cn\"])&(df1[\"10c\"]==df1[\"10cn\"]))]"
   ]
  },
  {
   "cell_type": "code",
   "execution_count": 155,
   "metadata": {},
   "outputs": [
    {
     "data": {
      "text/plain": [
       "((412017, 24), (3834227, 24))"
      ]
     },
     "execution_count": 155,
     "metadata": {},
     "output_type": "execute_result"
    }
   ],
   "source": [
    "df_eq.shape , df_noeq.shape"
   ]
  },
  {
   "cell_type": "code",
   "execution_count": 156,
   "metadata": {},
   "outputs": [
    {
     "data": {
      "text/plain": [
       "True"
      ]
     },
     "execution_count": 156,
     "metadata": {},
     "output_type": "execute_result"
    }
   ],
   "source": [
    "(df_eq.shape[0] + df_noeq.shape[0]) ==df1.shape[0]"
   ]
  },
  {
   "cell_type": "code",
   "execution_count": 157,
   "metadata": {},
   "outputs": [],
   "source": [
    "#Since all rows having Same values no need to Compare so lets Avoid same data\n",
    "#df_eq.head()\n",
    "df1 = df_noeq"
   ]
  },
  {
   "cell_type": "code",
   "execution_count": 158,
   "metadata": {},
   "outputs": [
    {
     "data": {
      "text/html": [
       "<div>\n",
       "<style scoped>\n",
       "    .dataframe tbody tr th:only-of-type {\n",
       "        vertical-align: middle;\n",
       "    }\n",
       "\n",
       "    .dataframe tbody tr th {\n",
       "        vertical-align: top;\n",
       "    }\n",
       "\n",
       "    .dataframe thead th {\n",
       "        text-align: right;\n",
       "    }\n",
       "</style>\n",
       "<table border=\"1\" class=\"dataframe\">\n",
       "  <thead>\n",
       "    <tr style=\"text-align: right;\">\n",
       "      <th></th>\n",
       "      <th>CHROM</th>\n",
       "      <th>POS</th>\n",
       "      <th>ID</th>\n",
       "      <th>REF</th>\n",
       "      <th>1c</th>\n",
       "      <th>2c</th>\n",
       "      <th>3c</th>\n",
       "      <th>4c</th>\n",
       "      <th>5c</th>\n",
       "      <th>6c</th>\n",
       "      <th>...</th>\n",
       "      <th>1cn</th>\n",
       "      <th>2cn</th>\n",
       "      <th>3cn</th>\n",
       "      <th>4cn</th>\n",
       "      <th>5cn</th>\n",
       "      <th>6cn</th>\n",
       "      <th>7cn</th>\n",
       "      <th>8cn</th>\n",
       "      <th>9cn</th>\n",
       "      <th>10cn</th>\n",
       "    </tr>\n",
       "  </thead>\n",
       "  <tbody>\n",
       "    <tr>\n",
       "      <td>1</td>\n",
       "      <td>chrM</td>\n",
       "      <td>150</td>\n",
       "      <td>.</td>\n",
       "      <td>T</td>\n",
       "      <td>C/C</td>\n",
       "      <td>C/C</td>\n",
       "      <td>C/C</td>\n",
       "      <td>NaN</td>\n",
       "      <td>NaN</td>\n",
       "      <td>NaN</td>\n",
       "      <td>...</td>\n",
       "      <td>C/C</td>\n",
       "      <td>C/C</td>\n",
       "      <td>C/C</td>\n",
       "      <td>C/C</td>\n",
       "      <td>C/C</td>\n",
       "      <td>NaN</td>\n",
       "      <td>C/C</td>\n",
       "      <td>NaN</td>\n",
       "      <td>NaN</td>\n",
       "      <td>NaN</td>\n",
       "    </tr>\n",
       "    <tr>\n",
       "      <td>5</td>\n",
       "      <td>chrM</td>\n",
       "      <td>195</td>\n",
       "      <td>.</td>\n",
       "      <td>C</td>\n",
       "      <td>T/T</td>\n",
       "      <td>T/T</td>\n",
       "      <td>T/T</td>\n",
       "      <td>T/T</td>\n",
       "      <td>T/T</td>\n",
       "      <td>T/T</td>\n",
       "      <td>...</td>\n",
       "      <td>T/T</td>\n",
       "      <td>T/T</td>\n",
       "      <td>T/T</td>\n",
       "      <td>NaN</td>\n",
       "      <td>T/T</td>\n",
       "      <td>T/T</td>\n",
       "      <td>T/T</td>\n",
       "      <td>NaN</td>\n",
       "      <td>T/T</td>\n",
       "      <td>T/T</td>\n",
       "    </tr>\n",
       "    <tr>\n",
       "      <td>14</td>\n",
       "      <td>chrM</td>\n",
       "      <td>302</td>\n",
       "      <td>.</td>\n",
       "      <td>AC</td>\n",
       "      <td>NaN</td>\n",
       "      <td>AC/A</td>\n",
       "      <td>AC/A</td>\n",
       "      <td>NaN</td>\n",
       "      <td>AC/A</td>\n",
       "      <td>AC/A</td>\n",
       "      <td>...</td>\n",
       "      <td>NaN</td>\n",
       "      <td>NaN</td>\n",
       "      <td>NaN</td>\n",
       "      <td>NaN</td>\n",
       "      <td>AC/A</td>\n",
       "      <td>NaN</td>\n",
       "      <td>NaN</td>\n",
       "      <td>AC/A</td>\n",
       "      <td>AC/A</td>\n",
       "      <td>AC/A</td>\n",
       "    </tr>\n",
       "    <tr>\n",
       "      <td>15</td>\n",
       "      <td>chr17</td>\n",
       "      <td>302</td>\n",
       "      <td>rs35998167</td>\n",
       "      <td>T</td>\n",
       "      <td>TA/TA</td>\n",
       "      <td>TA/TA</td>\n",
       "      <td>TA/TA</td>\n",
       "      <td>TA/TA</td>\n",
       "      <td>T/TA</td>\n",
       "      <td>TA/TA</td>\n",
       "      <td>...</td>\n",
       "      <td>TA/TA</td>\n",
       "      <td>TA/TA</td>\n",
       "      <td>TA/TA</td>\n",
       "      <td>TA/TA</td>\n",
       "      <td>TA/TA</td>\n",
       "      <td>TA/TA</td>\n",
       "      <td>TA/TA</td>\n",
       "      <td>TA/TA</td>\n",
       "      <td>TA/TA</td>\n",
       "      <td>TA/TA</td>\n",
       "    </tr>\n",
       "    <tr>\n",
       "      <td>25</td>\n",
       "      <td>chr17</td>\n",
       "      <td>828</td>\n",
       "      <td>rs62053745</td>\n",
       "      <td>T</td>\n",
       "      <td>C/C</td>\n",
       "      <td>C/C</td>\n",
       "      <td>C/C</td>\n",
       "      <td>C/C</td>\n",
       "      <td>T/C</td>\n",
       "      <td>C/C</td>\n",
       "      <td>...</td>\n",
       "      <td>C/C</td>\n",
       "      <td>C/C</td>\n",
       "      <td>C/C</td>\n",
       "      <td>C/C</td>\n",
       "      <td>C/C</td>\n",
       "      <td>C/C</td>\n",
       "      <td>C/C</td>\n",
       "      <td>C/C</td>\n",
       "      <td>C/C</td>\n",
       "      <td>C/C</td>\n",
       "    </tr>\n",
       "  </tbody>\n",
       "</table>\n",
       "<p>5 rows × 24 columns</p>\n",
       "</div>"
      ],
      "text/plain": [
       "    CHROM  POS          ID REF     1c     2c     3c     4c    5c     6c  ...  \\\n",
       "1    chrM  150           .   T    C/C    C/C    C/C    NaN   NaN    NaN  ...   \n",
       "5    chrM  195           .   C    T/T    T/T    T/T    T/T   T/T    T/T  ...   \n",
       "14   chrM  302           .  AC    NaN   AC/A   AC/A    NaN  AC/A   AC/A  ...   \n",
       "15  chr17  302  rs35998167   T  TA/TA  TA/TA  TA/TA  TA/TA  T/TA  TA/TA  ...   \n",
       "25  chr17  828  rs62053745   T    C/C    C/C    C/C    C/C   T/C    C/C  ...   \n",
       "\n",
       "      1cn    2cn    3cn    4cn    5cn    6cn    7cn    8cn    9cn   10cn  \n",
       "1     C/C    C/C    C/C    C/C    C/C    NaN    C/C    NaN    NaN    NaN  \n",
       "5     T/T    T/T    T/T    NaN    T/T    T/T    T/T    NaN    T/T    T/T  \n",
       "14    NaN    NaN    NaN    NaN   AC/A    NaN    NaN   AC/A   AC/A   AC/A  \n",
       "15  TA/TA  TA/TA  TA/TA  TA/TA  TA/TA  TA/TA  TA/TA  TA/TA  TA/TA  TA/TA  \n",
       "25    C/C    C/C    C/C    C/C    C/C    C/C    C/C    C/C    C/C    C/C  \n",
       "\n",
       "[5 rows x 24 columns]"
      ]
     },
     "execution_count": 158,
     "metadata": {},
     "output_type": "execute_result"
    }
   ],
   "source": [
    "df1.head()"
   ]
  },
  {
   "cell_type": "code",
   "execution_count": 159,
   "metadata": {},
   "outputs": [],
   "source": [
    "df1 = df1.drop_duplicates(keep=False) #drop duplicates"
   ]
  },
  {
   "cell_type": "code",
   "execution_count": 160,
   "metadata": {},
   "outputs": [
    {
     "data": {
      "text/plain": [
       "(3789666, 24)"
      ]
     },
     "execution_count": 160,
     "metadata": {},
     "output_type": "execute_result"
    }
   ],
   "source": [
    "df1.shape"
   ]
  },
  {
   "cell_type": "code",
   "execution_count": 161,
   "metadata": {},
   "outputs": [
    {
     "data": {
      "text/plain": [
       "(459779, 24)"
      ]
     },
     "execution_count": 161,
     "metadata": {},
     "output_type": "execute_result"
    }
   ],
   "source": [
    "df1 = df1.dropna()\n",
    "df1.shape\n",
    "#Remove all NaN values"
   ]
  },
  {
   "cell_type": "code",
   "execution_count": 63,
   "metadata": {},
   "outputs": [],
   "source": [
    "#df1[df1.ID ==\"rs2963463\"]"
   ]
  },
  {
   "cell_type": "code",
   "execution_count": 162,
   "metadata": {},
   "outputs": [],
   "source": [
    "df1[\"case\"]=df1[\"1c\"]+\",\" +df1[\"2c\"] +\",\" + df1[\"3c\"]+\",\" +df1[\"4c\"]+\",\"  +df1[\"5c\"]+\",\" +df1[\"6c\"]+\",\"+ df1[\"7c\"]+\",\" +df1[\"8c\"]+\",\" + df1[\"9c\"]+\",\" +df1[\"10c\"]\n",
    "df1[\"Control\"]=df1[\"1cn\"]+\",\" +df1[\"2cn\"] +\",\" + df1[\"3cn\"]+\",\"+df1[\"4cn\"]+\",\" +df1[\"5cn\"]+\",\"+df1[\"6cn\"]+\",\" + df1[\"7cn\"]+\",\" +df1[\"8cn\"]+\",\"+ df1[\"9cn\"]+\",\" +df1[\"10cn\"]\n"
   ]
  },
  {
   "cell_type": "code",
   "execution_count": 163,
   "metadata": {},
   "outputs": [],
   "source": [
    "df1 =df1.iloc[:,[0,1,2,3,24,25]]"
   ]
  },
  {
   "cell_type": "code",
   "execution_count": 164,
   "metadata": {},
   "outputs": [
    {
     "data": {
      "text/html": [
       "<div>\n",
       "<style scoped>\n",
       "    .dataframe tbody tr th:only-of-type {\n",
       "        vertical-align: middle;\n",
       "    }\n",
       "\n",
       "    .dataframe tbody tr th {\n",
       "        vertical-align: top;\n",
       "    }\n",
       "\n",
       "    .dataframe thead th {\n",
       "        text-align: right;\n",
       "    }\n",
       "</style>\n",
       "<table border=\"1\" class=\"dataframe\">\n",
       "  <thead>\n",
       "    <tr style=\"text-align: right;\">\n",
       "      <th></th>\n",
       "      <th>CHROM</th>\n",
       "      <th>POS</th>\n",
       "      <th>ID</th>\n",
       "      <th>REF</th>\n",
       "      <th>case</th>\n",
       "      <th>Control</th>\n",
       "    </tr>\n",
       "  </thead>\n",
       "  <tbody>\n",
       "    <tr>\n",
       "      <td>15</td>\n",
       "      <td>chr17</td>\n",
       "      <td>302</td>\n",
       "      <td>rs35998167</td>\n",
       "      <td>T</td>\n",
       "      <td>TA/TA,TA/TA,TA/TA,TA/TA,T/TA,TA/TA,TA/TA,TA/TA...</td>\n",
       "      <td>TA/TA,TA/TA,TA/TA,TA/TA,TA/TA,TA/TA,TA/TA,TA/T...</td>\n",
       "    </tr>\n",
       "    <tr>\n",
       "      <td>25</td>\n",
       "      <td>chr17</td>\n",
       "      <td>828</td>\n",
       "      <td>rs62053745</td>\n",
       "      <td>T</td>\n",
       "      <td>C/C,C/C,C/C,C/C,T/C,C/C,C/C,C/C,C/C,C/C</td>\n",
       "      <td>C/C,C/C,C/C,C/C,C/C,C/C,C/C,C/C,C/C,C/C</td>\n",
       "    </tr>\n",
       "    <tr>\n",
       "      <td>26</td>\n",
       "      <td>chr17</td>\n",
       "      <td>834</td>\n",
       "      <td>rs9747082</td>\n",
       "      <td>G</td>\n",
       "      <td>A/A,A/A,A/A,A/A,G/A,A/A,A/A,A/A,A/A,A/A</td>\n",
       "      <td>A/A,A/A,A/A,A/A,A/A,A/A,A/A,A/A,A/A,A/A</td>\n",
       "    </tr>\n",
       "    <tr>\n",
       "      <td>35</td>\n",
       "      <td>chr17</td>\n",
       "      <td>1869</td>\n",
       "      <td>rs62053748</td>\n",
       "      <td>A</td>\n",
       "      <td>T/T,T/T,T/T,T/T,A/T,T/T,T/T,T/T,T/T,T/T</td>\n",
       "      <td>T/T,T/T,T/T,T/T,T/T,T/T,T/T,T/T,T/T,T/T</td>\n",
       "    </tr>\n",
       "    <tr>\n",
       "      <td>36</td>\n",
       "      <td>chr17</td>\n",
       "      <td>2041</td>\n",
       "      <td>rs35054424</td>\n",
       "      <td>G</td>\n",
       "      <td>A/A,A/A,A/A,A/A,G/A,A/A,A/A,A/A,A/A,A/A</td>\n",
       "      <td>A/A,A/A,A/A,A/A,A/A,A/A,A/A,A/A,A/A,A/A</td>\n",
       "    </tr>\n",
       "  </tbody>\n",
       "</table>\n",
       "</div>"
      ],
      "text/plain": [
       "    CHROM   POS          ID REF  \\\n",
       "15  chr17   302  rs35998167   T   \n",
       "25  chr17   828  rs62053745   T   \n",
       "26  chr17   834   rs9747082   G   \n",
       "35  chr17  1869  rs62053748   A   \n",
       "36  chr17  2041  rs35054424   G   \n",
       "\n",
       "                                                 case  \\\n",
       "15  TA/TA,TA/TA,TA/TA,TA/TA,T/TA,TA/TA,TA/TA,TA/TA...   \n",
       "25            C/C,C/C,C/C,C/C,T/C,C/C,C/C,C/C,C/C,C/C   \n",
       "26            A/A,A/A,A/A,A/A,G/A,A/A,A/A,A/A,A/A,A/A   \n",
       "35            T/T,T/T,T/T,T/T,A/T,T/T,T/T,T/T,T/T,T/T   \n",
       "36            A/A,A/A,A/A,A/A,G/A,A/A,A/A,A/A,A/A,A/A   \n",
       "\n",
       "                                              Control  \n",
       "15  TA/TA,TA/TA,TA/TA,TA/TA,TA/TA,TA/TA,TA/TA,TA/T...  \n",
       "25            C/C,C/C,C/C,C/C,C/C,C/C,C/C,C/C,C/C,C/C  \n",
       "26            A/A,A/A,A/A,A/A,A/A,A/A,A/A,A/A,A/A,A/A  \n",
       "35            T/T,T/T,T/T,T/T,T/T,T/T,T/T,T/T,T/T,T/T  \n",
       "36            A/A,A/A,A/A,A/A,A/A,A/A,A/A,A/A,A/A,A/A  "
      ]
     },
     "execution_count": 164,
     "metadata": {},
     "output_type": "execute_result"
    }
   ],
   "source": [
    "df1.head()"
   ]
  },
  {
   "cell_type": "code",
   "execution_count": 195,
   "metadata": {},
   "outputs": [
    {
     "data": {
      "text/plain": [
       "[('TA/TA', 9)]"
      ]
     },
     "execution_count": 195,
     "metadata": {},
     "output_type": "execute_result"
    }
   ],
   "source": [
    "#df1[\"Count\"] = df1[\"case\",\"Control\"]\n",
    "#import statistics\n",
    "from collections import Counter\n",
    "#rep = statistics.mode(list(df1.iloc[1,[4,5]][0].split(\",\")))\n",
    "(Counter((list(df1.iloc[0,[4]][0].split(\",\"))))).most_common(1)#[0][1]"
   ]
  },
  {
   "cell_type": "code",
   "execution_count": 285,
   "metadata": {},
   "outputs": [
    {
     "data": {
      "text/html": [
       "<div>\n",
       "<style scoped>\n",
       "    .dataframe tbody tr th:only-of-type {\n",
       "        vertical-align: middle;\n",
       "    }\n",
       "\n",
       "    .dataframe tbody tr th {\n",
       "        vertical-align: top;\n",
       "    }\n",
       "\n",
       "    .dataframe thead th {\n",
       "        text-align: right;\n",
       "    }\n",
       "</style>\n",
       "<table border=\"1\" class=\"dataframe\">\n",
       "  <thead>\n",
       "    <tr style=\"text-align: right;\">\n",
       "      <th></th>\n",
       "      <th>CHROM</th>\n",
       "      <th>POS</th>\n",
       "      <th>ID</th>\n",
       "      <th>REF</th>\n",
       "      <th>case</th>\n",
       "      <th>Control</th>\n",
       "      <th>case_max</th>\n",
       "      <th>control_max</th>\n",
       "    </tr>\n",
       "  </thead>\n",
       "  <tbody>\n",
       "    <tr>\n",
       "      <td>15</td>\n",
       "      <td>chr17</td>\n",
       "      <td>302</td>\n",
       "      <td>rs35998167</td>\n",
       "      <td>T</td>\n",
       "      <td>TA/TA,TA/TA,TA/TA,TA/TA,T/TA,TA/TA,TA/TA,TA/TA...</td>\n",
       "      <td>TA/TA,TA/TA,TA/TA,TA/TA,TA/TA,TA/TA,TA/TA,TA/T...</td>\n",
       "      <td>[(TA/TA, 9)]</td>\n",
       "      <td>[(TA/TA, 10)]</td>\n",
       "    </tr>\n",
       "    <tr>\n",
       "      <td>25</td>\n",
       "      <td>chr17</td>\n",
       "      <td>828</td>\n",
       "      <td>rs62053745</td>\n",
       "      <td>T</td>\n",
       "      <td>C/C,C/C,C/C,C/C,T/C,C/C,C/C,C/C,C/C,C/C</td>\n",
       "      <td>C/C,C/C,C/C,C/C,C/C,C/C,C/C,C/C,C/C,C/C</td>\n",
       "      <td>[(C/C, 9)]</td>\n",
       "      <td>[(C/C, 10)]</td>\n",
       "    </tr>\n",
       "    <tr>\n",
       "      <td>26</td>\n",
       "      <td>chr17</td>\n",
       "      <td>834</td>\n",
       "      <td>rs9747082</td>\n",
       "      <td>G</td>\n",
       "      <td>A/A,A/A,A/A,A/A,G/A,A/A,A/A,A/A,A/A,A/A</td>\n",
       "      <td>A/A,A/A,A/A,A/A,A/A,A/A,A/A,A/A,A/A,A/A</td>\n",
       "      <td>[(A/A, 9)]</td>\n",
       "      <td>[(A/A, 10)]</td>\n",
       "    </tr>\n",
       "    <tr>\n",
       "      <td>35</td>\n",
       "      <td>chr17</td>\n",
       "      <td>1869</td>\n",
       "      <td>rs62053748</td>\n",
       "      <td>A</td>\n",
       "      <td>T/T,T/T,T/T,T/T,A/T,T/T,T/T,T/T,T/T,T/T</td>\n",
       "      <td>T/T,T/T,T/T,T/T,T/T,T/T,T/T,T/T,T/T,T/T</td>\n",
       "      <td>[(T/T, 9)]</td>\n",
       "      <td>[(T/T, 10)]</td>\n",
       "    </tr>\n",
       "    <tr>\n",
       "      <td>36</td>\n",
       "      <td>chr17</td>\n",
       "      <td>2041</td>\n",
       "      <td>rs35054424</td>\n",
       "      <td>G</td>\n",
       "      <td>A/A,A/A,A/A,A/A,G/A,A/A,A/A,A/A,A/A,A/A</td>\n",
       "      <td>A/A,A/A,A/A,A/A,A/A,A/A,A/A,A/A,A/A,A/A</td>\n",
       "      <td>[(A/A, 9)]</td>\n",
       "      <td>[(A/A, 10)]</td>\n",
       "    </tr>\n",
       "  </tbody>\n",
       "</table>\n",
       "</div>"
      ],
      "text/plain": [
       "    CHROM   POS          ID REF  \\\n",
       "15  chr17   302  rs35998167   T   \n",
       "25  chr17   828  rs62053745   T   \n",
       "26  chr17   834   rs9747082   G   \n",
       "35  chr17  1869  rs62053748   A   \n",
       "36  chr17  2041  rs35054424   G   \n",
       "\n",
       "                                                 case  \\\n",
       "15  TA/TA,TA/TA,TA/TA,TA/TA,T/TA,TA/TA,TA/TA,TA/TA...   \n",
       "25            C/C,C/C,C/C,C/C,T/C,C/C,C/C,C/C,C/C,C/C   \n",
       "26            A/A,A/A,A/A,A/A,G/A,A/A,A/A,A/A,A/A,A/A   \n",
       "35            T/T,T/T,T/T,T/T,A/T,T/T,T/T,T/T,T/T,T/T   \n",
       "36            A/A,A/A,A/A,A/A,G/A,A/A,A/A,A/A,A/A,A/A   \n",
       "\n",
       "                                              Control      case_max  \\\n",
       "15  TA/TA,TA/TA,TA/TA,TA/TA,TA/TA,TA/TA,TA/TA,TA/T...  [(TA/TA, 9)]   \n",
       "25            C/C,C/C,C/C,C/C,C/C,C/C,C/C,C/C,C/C,C/C    [(C/C, 9)]   \n",
       "26            A/A,A/A,A/A,A/A,A/A,A/A,A/A,A/A,A/A,A/A    [(A/A, 9)]   \n",
       "35            T/T,T/T,T/T,T/T,T/T,T/T,T/T,T/T,T/T,T/T    [(T/T, 9)]   \n",
       "36            A/A,A/A,A/A,A/A,A/A,A/A,A/A,A/A,A/A,A/A    [(A/A, 9)]   \n",
       "\n",
       "      control_max  \n",
       "15  [(TA/TA, 10)]  \n",
       "25    [(C/C, 10)]  \n",
       "26    [(A/A, 10)]  \n",
       "35    [(T/T, 10)]  \n",
       "36    [(A/A, 10)]  "
      ]
     },
     "execution_count": 285,
     "metadata": {},
     "output_type": "execute_result"
    }
   ],
   "source": [
    "#df1[\"case_max\"] = df1[\"case\"].apply(lambda x :(Counter((list(x.split(\",\"))))).most_common(1))\n",
    "df1[\"control_max\"] = df1[\"Control\"].apply(lambda x:(Counter(x.split(\",\"))).most_common(1))\n",
    "df1.head()"
   ]
  },
  {
   "cell_type": "code",
   "execution_count": 295,
   "metadata": {},
   "outputs": [
    {
     "data": {
      "text/plain": [
       "('TA/TA', 9)"
      ]
     },
     "execution_count": 295,
     "metadata": {},
     "output_type": "execute_result"
    }
   ],
   "source": [
    "l = [(\"TA/TA\", 9)]\n",
    "l[0]"
   ]
  },
  {
   "cell_type": "code",
   "execution_count": 302,
   "metadata": {
    "scrolled": false
   },
   "outputs": [
    {
     "data": {
      "text/html": [
       "<div>\n",
       "<style scoped>\n",
       "    .dataframe tbody tr th:only-of-type {\n",
       "        vertical-align: middle;\n",
       "    }\n",
       "\n",
       "    .dataframe tbody tr th {\n",
       "        vertical-align: top;\n",
       "    }\n",
       "\n",
       "    .dataframe thead th {\n",
       "        text-align: right;\n",
       "    }\n",
       "</style>\n",
       "<table border=\"1\" class=\"dataframe\">\n",
       "  <thead>\n",
       "    <tr style=\"text-align: right;\">\n",
       "      <th></th>\n",
       "      <th>CHROM</th>\n",
       "      <th>POS</th>\n",
       "      <th>ID</th>\n",
       "      <th>REF</th>\n",
       "      <th>case</th>\n",
       "      <th>Control</th>\n",
       "      <th>case_r</th>\n",
       "      <th>con_r</th>\n",
       "    </tr>\n",
       "  </thead>\n",
       "  <tbody>\n",
       "    <tr>\n",
       "      <td>15</td>\n",
       "      <td>chr17</td>\n",
       "      <td>302</td>\n",
       "      <td>rs35998167</td>\n",
       "      <td>T</td>\n",
       "      <td>TA/TA,TA/TA,TA/TA,TA/TA,T/TA,TA/TA,TA/TA,TA/TA...</td>\n",
       "      <td>TA/TA,TA/TA,TA/TA,TA/TA,TA/TA,TA/TA,TA/TA,TA/T...</td>\n",
       "      <td>(TA/TA, 9)</td>\n",
       "      <td>(TA/TA, 10)</td>\n",
       "    </tr>\n",
       "    <tr>\n",
       "      <td>25</td>\n",
       "      <td>chr17</td>\n",
       "      <td>828</td>\n",
       "      <td>rs62053745</td>\n",
       "      <td>T</td>\n",
       "      <td>C/C,C/C,C/C,C/C,T/C,C/C,C/C,C/C,C/C,C/C</td>\n",
       "      <td>C/C,C/C,C/C,C/C,C/C,C/C,C/C,C/C,C/C,C/C</td>\n",
       "      <td>(C/C, 9)</td>\n",
       "      <td>(C/C, 10)</td>\n",
       "    </tr>\n",
       "    <tr>\n",
       "      <td>26</td>\n",
       "      <td>chr17</td>\n",
       "      <td>834</td>\n",
       "      <td>rs9747082</td>\n",
       "      <td>G</td>\n",
       "      <td>A/A,A/A,A/A,A/A,G/A,A/A,A/A,A/A,A/A,A/A</td>\n",
       "      <td>A/A,A/A,A/A,A/A,A/A,A/A,A/A,A/A,A/A,A/A</td>\n",
       "      <td>(A/A, 9)</td>\n",
       "      <td>(A/A, 10)</td>\n",
       "    </tr>\n",
       "    <tr>\n",
       "      <td>35</td>\n",
       "      <td>chr17</td>\n",
       "      <td>1869</td>\n",
       "      <td>rs62053748</td>\n",
       "      <td>A</td>\n",
       "      <td>T/T,T/T,T/T,T/T,A/T,T/T,T/T,T/T,T/T,T/T</td>\n",
       "      <td>T/T,T/T,T/T,T/T,T/T,T/T,T/T,T/T,T/T,T/T</td>\n",
       "      <td>(T/T, 9)</td>\n",
       "      <td>(T/T, 10)</td>\n",
       "    </tr>\n",
       "    <tr>\n",
       "      <td>36</td>\n",
       "      <td>chr17</td>\n",
       "      <td>2041</td>\n",
       "      <td>rs35054424</td>\n",
       "      <td>G</td>\n",
       "      <td>A/A,A/A,A/A,A/A,G/A,A/A,A/A,A/A,A/A,A/A</td>\n",
       "      <td>A/A,A/A,A/A,A/A,A/A,A/A,A/A,A/A,A/A,A/A</td>\n",
       "      <td>(A/A, 9)</td>\n",
       "      <td>(A/A, 10)</td>\n",
       "    </tr>\n",
       "  </tbody>\n",
       "</table>\n",
       "</div>"
      ],
      "text/plain": [
       "    CHROM   POS          ID REF  \\\n",
       "15  chr17   302  rs35998167   T   \n",
       "25  chr17   828  rs62053745   T   \n",
       "26  chr17   834   rs9747082   G   \n",
       "35  chr17  1869  rs62053748   A   \n",
       "36  chr17  2041  rs35054424   G   \n",
       "\n",
       "                                                 case  \\\n",
       "15  TA/TA,TA/TA,TA/TA,TA/TA,T/TA,TA/TA,TA/TA,TA/TA...   \n",
       "25            C/C,C/C,C/C,C/C,T/C,C/C,C/C,C/C,C/C,C/C   \n",
       "26            A/A,A/A,A/A,A/A,G/A,A/A,A/A,A/A,A/A,A/A   \n",
       "35            T/T,T/T,T/T,T/T,A/T,T/T,T/T,T/T,T/T,T/T   \n",
       "36            A/A,A/A,A/A,A/A,G/A,A/A,A/A,A/A,A/A,A/A   \n",
       "\n",
       "                                              Control      case_r        con_r  \n",
       "15  TA/TA,TA/TA,TA/TA,TA/TA,TA/TA,TA/TA,TA/TA,TA/T...  (TA/TA, 9)  (TA/TA, 10)  \n",
       "25            C/C,C/C,C/C,C/C,C/C,C/C,C/C,C/C,C/C,C/C    (C/C, 9)    (C/C, 10)  \n",
       "26            A/A,A/A,A/A,A/A,A/A,A/A,A/A,A/A,A/A,A/A    (A/A, 9)    (A/A, 10)  \n",
       "35            T/T,T/T,T/T,T/T,T/T,T/T,T/T,T/T,T/T,T/T    (T/T, 9)    (T/T, 10)  \n",
       "36            A/A,A/A,A/A,A/A,A/A,A/A,A/A,A/A,A/A,A/A    (A/A, 9)    (A/A, 10)  "
      ]
     },
     "execution_count": 302,
     "metadata": {},
     "output_type": "execute_result"
    }
   ],
   "source": [
    "#df1[\"case_r\"]= df1[\"case_max\"].apply(lambda x : x[0])\n",
    "df1 =df1.drop(\"case_max\",axis=1)\n",
    "#df1[\"con_r\"]= df1[\"control_max\"].apply(lambda x : x[0])\n",
    "df1 = df1.drop(\"control_max\",axis =1)\n",
    "df1.head()"
   ]
  },
  {
   "cell_type": "code",
   "execution_count": 317,
   "metadata": {},
   "outputs": [],
   "source": [
    "df1[\"case_con\"] = df1[\"case_r\"]+df1[\"con_r\"]"
   ]
  },
  {
   "cell_type": "code",
   "execution_count": 327,
   "metadata": {},
   "outputs": [
    {
     "data": {
      "text/html": [
       "<div>\n",
       "<style scoped>\n",
       "    .dataframe tbody tr th:only-of-type {\n",
       "        vertical-align: middle;\n",
       "    }\n",
       "\n",
       "    .dataframe tbody tr th {\n",
       "        vertical-align: top;\n",
       "    }\n",
       "\n",
       "    .dataframe thead th {\n",
       "        text-align: right;\n",
       "    }\n",
       "</style>\n",
       "<table border=\"1\" class=\"dataframe\">\n",
       "  <thead>\n",
       "    <tr style=\"text-align: right;\">\n",
       "      <th></th>\n",
       "      <th>CHROM</th>\n",
       "      <th>POS</th>\n",
       "      <th>ID</th>\n",
       "      <th>REF</th>\n",
       "      <th>case_con</th>\n",
       "    </tr>\n",
       "  </thead>\n",
       "  <tbody>\n",
       "    <tr>\n",
       "      <td>15</td>\n",
       "      <td>chr17</td>\n",
       "      <td>302</td>\n",
       "      <td>rs35998167</td>\n",
       "      <td>T</td>\n",
       "      <td>(TA/TA, 9, TA/TA, 10)</td>\n",
       "    </tr>\n",
       "    <tr>\n",
       "      <td>25</td>\n",
       "      <td>chr17</td>\n",
       "      <td>828</td>\n",
       "      <td>rs62053745</td>\n",
       "      <td>T</td>\n",
       "      <td>(C/C, 9, C/C, 10)</td>\n",
       "    </tr>\n",
       "    <tr>\n",
       "      <td>26</td>\n",
       "      <td>chr17</td>\n",
       "      <td>834</td>\n",
       "      <td>rs9747082</td>\n",
       "      <td>G</td>\n",
       "      <td>(A/A, 9, A/A, 10)</td>\n",
       "    </tr>\n",
       "    <tr>\n",
       "      <td>35</td>\n",
       "      <td>chr17</td>\n",
       "      <td>1869</td>\n",
       "      <td>rs62053748</td>\n",
       "      <td>A</td>\n",
       "      <td>(T/T, 9, T/T, 10)</td>\n",
       "    </tr>\n",
       "    <tr>\n",
       "      <td>36</td>\n",
       "      <td>chr17</td>\n",
       "      <td>2041</td>\n",
       "      <td>rs35054424</td>\n",
       "      <td>G</td>\n",
       "      <td>(A/A, 9, A/A, 10)</td>\n",
       "    </tr>\n",
       "    <tr>\n",
       "      <td>...</td>\n",
       "      <td>...</td>\n",
       "      <td>...</td>\n",
       "      <td>...</td>\n",
       "      <td>...</td>\n",
       "      <td>...</td>\n",
       "    </tr>\n",
       "    <tr>\n",
       "      <td>11176073</td>\n",
       "      <td>chr1</td>\n",
       "      <td>249084373</td>\n",
       "      <td>rs12726124</td>\n",
       "      <td>A</td>\n",
       "      <td>(A/T, 5, A/T, 7)</td>\n",
       "    </tr>\n",
       "    <tr>\n",
       "      <td>11176204</td>\n",
       "      <td>chr1</td>\n",
       "      <td>249128317</td>\n",
       "      <td>rs6587757</td>\n",
       "      <td>A</td>\n",
       "      <td>(T/T, 9, T/T, 9)</td>\n",
       "    </tr>\n",
       "    <tr>\n",
       "      <td>11176259</td>\n",
       "      <td>chr1</td>\n",
       "      <td>249155909</td>\n",
       "      <td>rs4926499</td>\n",
       "      <td>G</td>\n",
       "      <td>(C/C, 9, C/C, 9)</td>\n",
       "    </tr>\n",
       "    <tr>\n",
       "      <td>11176353</td>\n",
       "      <td>chr1</td>\n",
       "      <td>249182887</td>\n",
       "      <td>rs6697193;rs78930746</td>\n",
       "      <td>T</td>\n",
       "      <td>(C/C, 5, C/C, 8)</td>\n",
       "    </tr>\n",
       "    <tr>\n",
       "      <td>11176382</td>\n",
       "      <td>chr1</td>\n",
       "      <td>249191706</td>\n",
       "      <td>rs4335411</td>\n",
       "      <td>G</td>\n",
       "      <td>(A/A, 5, A/A, 8)</td>\n",
       "    </tr>\n",
       "  </tbody>\n",
       "</table>\n",
       "<p>459779 rows × 5 columns</p>\n",
       "</div>"
      ],
      "text/plain": [
       "          CHROM        POS                    ID REF               case_con\n",
       "15        chr17        302            rs35998167   T  (TA/TA, 9, TA/TA, 10)\n",
       "25        chr17        828            rs62053745   T      (C/C, 9, C/C, 10)\n",
       "26        chr17        834             rs9747082   G      (A/A, 9, A/A, 10)\n",
       "35        chr17       1869            rs62053748   A      (T/T, 9, T/T, 10)\n",
       "36        chr17       2041            rs35054424   G      (A/A, 9, A/A, 10)\n",
       "...         ...        ...                   ...  ..                    ...\n",
       "11176073   chr1  249084373            rs12726124   A       (A/T, 5, A/T, 7)\n",
       "11176204   chr1  249128317             rs6587757   A       (T/T, 9, T/T, 9)\n",
       "11176259   chr1  249155909             rs4926499   G       (C/C, 9, C/C, 9)\n",
       "11176353   chr1  249182887  rs6697193;rs78930746   T       (C/C, 5, C/C, 8)\n",
       "11176382   chr1  249191706             rs4335411   G       (A/A, 5, A/A, 8)\n",
       "\n",
       "[459779 rows x 5 columns]"
      ]
     },
     "execution_count": 327,
     "metadata": {},
     "output_type": "execute_result"
    }
   ],
   "source": [
    "df1 = df1.iloc[:,[0,1,2,3,8]]"
   ]
  },
  {
   "cell_type": "code",
   "execution_count": null,
   "metadata": {},
   "outputs": [],
   "source": []
  },
  {
   "cell_type": "code",
   "execution_count": null,
   "metadata": {},
   "outputs": [],
   "source": []
  },
  {
   "cell_type": "code",
   "execution_count": 272,
   "metadata": {},
   "outputs": [],
   "source": [
    "\n",
    "#df1[(list(df1.iloc[:,6])[0][0][0]==list(df1.iloc[:,7])[0][0][0]) & ((list(df1.iloc[:,6])[0][0][1]>2)&list(df1.iloc[:,7])[0][0][1]>3)]\n",
    "\n",
    "#case_max first is same and both repeating is greater than 2 (No need to Compare upto 80 % same data)\n",
    "# all rows and col6 for case _ max and Column 7 for Column Max and also [0][0] is for SNP and [0][1] is for Number Repeting\\\n",
    "#list(df1.iloc[:,6])[0][0][1]"
   ]
  },
  {
   "cell_type": "code",
   "execution_count": 273,
   "metadata": {},
   "outputs": [
    {
     "data": {
      "text/html": [
       "<div>\n",
       "<style scoped>\n",
       "    .dataframe tbody tr th:only-of-type {\n",
       "        vertical-align: middle;\n",
       "    }\n",
       "\n",
       "    .dataframe tbody tr th {\n",
       "        vertical-align: top;\n",
       "    }\n",
       "\n",
       "    .dataframe thead th {\n",
       "        text-align: right;\n",
       "    }\n",
       "</style>\n",
       "<table border=\"1\" class=\"dataframe\">\n",
       "  <thead>\n",
       "    <tr style=\"text-align: right;\">\n",
       "      <th></th>\n",
       "      <th>CHROM</th>\n",
       "      <th>POS</th>\n",
       "      <th>ID</th>\n",
       "      <th>REF</th>\n",
       "      <th>case</th>\n",
       "      <th>Control</th>\n",
       "      <th>case_max</th>\n",
       "      <th>control_max</th>\n",
       "    </tr>\n",
       "  </thead>\n",
       "  <tbody>\n",
       "    <tr>\n",
       "      <td>15</td>\n",
       "      <td>chr17</td>\n",
       "      <td>302</td>\n",
       "      <td>rs35998167</td>\n",
       "      <td>T</td>\n",
       "      <td>TA/TA,TA/TA,TA/TA,TA/TA,T/TA,TA/TA,TA/TA,TA/TA...</td>\n",
       "      <td>TA/TA,TA/TA,TA/TA,TA/TA,TA/TA,TA/TA,TA/TA,TA/T...</td>\n",
       "      <td>[(TA/TA, 9)]</td>\n",
       "      <td>[(TA/TA, 10)]</td>\n",
       "    </tr>\n",
       "    <tr>\n",
       "      <td>25</td>\n",
       "      <td>chr17</td>\n",
       "      <td>828</td>\n",
       "      <td>rs62053745</td>\n",
       "      <td>T</td>\n",
       "      <td>C/C,C/C,C/C,C/C,T/C,C/C,C/C,C/C,C/C,C/C</td>\n",
       "      <td>C/C,C/C,C/C,C/C,C/C,C/C,C/C,C/C,C/C,C/C</td>\n",
       "      <td>[(C/C, 9)]</td>\n",
       "      <td>[(C/C, 10)]</td>\n",
       "    </tr>\n",
       "  </tbody>\n",
       "</table>\n",
       "</div>"
      ],
      "text/plain": [
       "    CHROM  POS          ID REF  \\\n",
       "15  chr17  302  rs35998167   T   \n",
       "25  chr17  828  rs62053745   T   \n",
       "\n",
       "                                                 case  \\\n",
       "15  TA/TA,TA/TA,TA/TA,TA/TA,T/TA,TA/TA,TA/TA,TA/TA...   \n",
       "25            C/C,C/C,C/C,C/C,T/C,C/C,C/C,C/C,C/C,C/C   \n",
       "\n",
       "                                              Control      case_max  \\\n",
       "15  TA/TA,TA/TA,TA/TA,TA/TA,TA/TA,TA/TA,TA/TA,TA/T...  [(TA/TA, 9)]   \n",
       "25            C/C,C/C,C/C,C/C,C/C,C/C,C/C,C/C,C/C,C/C    [(C/C, 9)]   \n",
       "\n",
       "      control_max  \n",
       "15  [(TA/TA, 10)]  \n",
       "25    [(C/C, 10)]  "
      ]
     },
     "execution_count": 273,
     "metadata": {},
     "output_type": "execute_result"
    }
   ],
   "source": [
    "df1.head(2)\n",
    "df1['Result'] = np.where((df1['case_max'] >= df['two']) & (df['one'] <= df['three'])\n",
    "                     , df['one'], np.nan)"
   ]
  },
  {
   "cell_type": "code",
   "execution_count": 281,
   "metadata": {},
   "outputs": [
    {
     "ename": "KeyError",
     "evalue": "0",
     "output_type": "error",
     "traceback": [
      "\u001b[1;31m---------------------------------------------------------------------------\u001b[0m",
      "\u001b[1;31mKeyError\u001b[0m                                  Traceback (most recent call last)",
      "\u001b[1;32m<ipython-input-281-ca8acc7a420f>\u001b[0m in \u001b[0;36m<module>\u001b[1;34m\u001b[0m\n\u001b[0;32m      1\u001b[0m \u001b[1;31m#list(test[\"case_max\"])[0][0][0] == list(test[\"control_max\"])[0][0][0]\u001b[0m\u001b[1;33m\u001b[0m\u001b[1;33m\u001b[0m\u001b[1;33m\u001b[0m\u001b[0m\n\u001b[0;32m      2\u001b[0m \u001b[1;31m#df1.case_max[0][0][1]\u001b[0m\u001b[1;33m\u001b[0m\u001b[1;33m\u001b[0m\u001b[1;33m\u001b[0m\u001b[0m\n\u001b[1;32m----> 3\u001b[1;33m \u001b[1;33m(\u001b[0m\u001b[0mdf1\u001b[0m\u001b[1;33m.\u001b[0m\u001b[0miloc\u001b[0m\u001b[1;33m[\u001b[0m\u001b[1;33m:\u001b[0m\u001b[1;33m,\u001b[0m\u001b[1;36m6\u001b[0m\u001b[1;33m]\u001b[0m\u001b[1;33m)\u001b[0m\u001b[1;33m[\u001b[0m\u001b[1;36m0\u001b[0m\u001b[1;33m]\u001b[0m\u001b[1;33m[\u001b[0m\u001b[1;36m0\u001b[0m\u001b[1;33m]\u001b[0m\u001b[1;33m\u001b[0m\u001b[1;33m\u001b[0m\u001b[0m\n\u001b[0m",
      "\u001b[1;32mC:\\ProgramData\\Anaconda3\\lib\\site-packages\\pandas\\core\\series.py\u001b[0m in \u001b[0;36m__getitem__\u001b[1;34m(self, key)\u001b[0m\n\u001b[0;32m   1066\u001b[0m         \u001b[0mkey\u001b[0m \u001b[1;33m=\u001b[0m \u001b[0mcom\u001b[0m\u001b[1;33m.\u001b[0m\u001b[0mapply_if_callable\u001b[0m\u001b[1;33m(\u001b[0m\u001b[0mkey\u001b[0m\u001b[1;33m,\u001b[0m \u001b[0mself\u001b[0m\u001b[1;33m)\u001b[0m\u001b[1;33m\u001b[0m\u001b[1;33m\u001b[0m\u001b[0m\n\u001b[0;32m   1067\u001b[0m         \u001b[1;32mtry\u001b[0m\u001b[1;33m:\u001b[0m\u001b[1;33m\u001b[0m\u001b[1;33m\u001b[0m\u001b[0m\n\u001b[1;32m-> 1068\u001b[1;33m             \u001b[0mresult\u001b[0m \u001b[1;33m=\u001b[0m \u001b[0mself\u001b[0m\u001b[1;33m.\u001b[0m\u001b[0mindex\u001b[0m\u001b[1;33m.\u001b[0m\u001b[0mget_value\u001b[0m\u001b[1;33m(\u001b[0m\u001b[0mself\u001b[0m\u001b[1;33m,\u001b[0m \u001b[0mkey\u001b[0m\u001b[1;33m)\u001b[0m\u001b[1;33m\u001b[0m\u001b[1;33m\u001b[0m\u001b[0m\n\u001b[0m\u001b[0;32m   1069\u001b[0m \u001b[1;33m\u001b[0m\u001b[0m\n\u001b[0;32m   1070\u001b[0m             \u001b[1;32mif\u001b[0m \u001b[1;32mnot\u001b[0m \u001b[0mis_scalar\u001b[0m\u001b[1;33m(\u001b[0m\u001b[0mresult\u001b[0m\u001b[1;33m)\u001b[0m\u001b[1;33m:\u001b[0m\u001b[1;33m\u001b[0m\u001b[1;33m\u001b[0m\u001b[0m\n",
      "\u001b[1;32mC:\\ProgramData\\Anaconda3\\lib\\site-packages\\pandas\\core\\indexes\\base.py\u001b[0m in \u001b[0;36mget_value\u001b[1;34m(self, series, key)\u001b[0m\n\u001b[0;32m   4728\u001b[0m         \u001b[0mk\u001b[0m \u001b[1;33m=\u001b[0m \u001b[0mself\u001b[0m\u001b[1;33m.\u001b[0m\u001b[0m_convert_scalar_indexer\u001b[0m\u001b[1;33m(\u001b[0m\u001b[0mk\u001b[0m\u001b[1;33m,\u001b[0m \u001b[0mkind\u001b[0m\u001b[1;33m=\u001b[0m\u001b[1;34m\"getitem\"\u001b[0m\u001b[1;33m)\u001b[0m\u001b[1;33m\u001b[0m\u001b[1;33m\u001b[0m\u001b[0m\n\u001b[0;32m   4729\u001b[0m         \u001b[1;32mtry\u001b[0m\u001b[1;33m:\u001b[0m\u001b[1;33m\u001b[0m\u001b[1;33m\u001b[0m\u001b[0m\n\u001b[1;32m-> 4730\u001b[1;33m             \u001b[1;32mreturn\u001b[0m \u001b[0mself\u001b[0m\u001b[1;33m.\u001b[0m\u001b[0m_engine\u001b[0m\u001b[1;33m.\u001b[0m\u001b[0mget_value\u001b[0m\u001b[1;33m(\u001b[0m\u001b[0ms\u001b[0m\u001b[1;33m,\u001b[0m \u001b[0mk\u001b[0m\u001b[1;33m,\u001b[0m \u001b[0mtz\u001b[0m\u001b[1;33m=\u001b[0m\u001b[0mgetattr\u001b[0m\u001b[1;33m(\u001b[0m\u001b[0mseries\u001b[0m\u001b[1;33m.\u001b[0m\u001b[0mdtype\u001b[0m\u001b[1;33m,\u001b[0m \u001b[1;34m\"tz\"\u001b[0m\u001b[1;33m,\u001b[0m \u001b[1;32mNone\u001b[0m\u001b[1;33m)\u001b[0m\u001b[1;33m)\u001b[0m\u001b[1;33m\u001b[0m\u001b[1;33m\u001b[0m\u001b[0m\n\u001b[0m\u001b[0;32m   4731\u001b[0m         \u001b[1;32mexcept\u001b[0m \u001b[0mKeyError\u001b[0m \u001b[1;32mas\u001b[0m \u001b[0me1\u001b[0m\u001b[1;33m:\u001b[0m\u001b[1;33m\u001b[0m\u001b[1;33m\u001b[0m\u001b[0m\n\u001b[0;32m   4732\u001b[0m             \u001b[1;32mif\u001b[0m \u001b[0mlen\u001b[0m\u001b[1;33m(\u001b[0m\u001b[0mself\u001b[0m\u001b[1;33m)\u001b[0m \u001b[1;33m>\u001b[0m \u001b[1;36m0\u001b[0m \u001b[1;32mand\u001b[0m \u001b[1;33m(\u001b[0m\u001b[0mself\u001b[0m\u001b[1;33m.\u001b[0m\u001b[0mholds_integer\u001b[0m\u001b[1;33m(\u001b[0m\u001b[1;33m)\u001b[0m \u001b[1;32mor\u001b[0m \u001b[0mself\u001b[0m\u001b[1;33m.\u001b[0m\u001b[0mis_boolean\u001b[0m\u001b[1;33m(\u001b[0m\u001b[1;33m)\u001b[0m\u001b[1;33m)\u001b[0m\u001b[1;33m:\u001b[0m\u001b[1;33m\u001b[0m\u001b[1;33m\u001b[0m\u001b[0m\n",
      "\u001b[1;32mpandas\\_libs\\index.pyx\u001b[0m in \u001b[0;36mpandas._libs.index.IndexEngine.get_value\u001b[1;34m()\u001b[0m\n",
      "\u001b[1;32mpandas\\_libs\\index.pyx\u001b[0m in \u001b[0;36mpandas._libs.index.IndexEngine.get_value\u001b[1;34m()\u001b[0m\n",
      "\u001b[1;32mpandas\\_libs\\index.pyx\u001b[0m in \u001b[0;36mpandas._libs.index.IndexEngine.get_loc\u001b[1;34m()\u001b[0m\n",
      "\u001b[1;32mpandas\\_libs\\hashtable_class_helper.pxi\u001b[0m in \u001b[0;36mpandas._libs.hashtable.Int64HashTable.get_item\u001b[1;34m()\u001b[0m\n",
      "\u001b[1;32mpandas\\_libs\\hashtable_class_helper.pxi\u001b[0m in \u001b[0;36mpandas._libs.hashtable.Int64HashTable.get_item\u001b[1;34m()\u001b[0m\n",
      "\u001b[1;31mKeyError\u001b[0m: 0"
     ]
    }
   ],
   "source": [
    "#list(test[\"case_max\"])[0][0][0] == list(test[\"control_max\"])[0][0][0]\n",
    "#df1.case_max[0][0][1]\n",
    "df1.iloc[:,6]"
   ]
  },
  {
   "cell_type": "code",
   "execution_count": 271,
   "metadata": {},
   "outputs": [
    {
     "data": {
      "text/html": [
       "<div>\n",
       "<style scoped>\n",
       "    .dataframe tbody tr th:only-of-type {\n",
       "        vertical-align: middle;\n",
       "    }\n",
       "\n",
       "    .dataframe tbody tr th {\n",
       "        vertical-align: top;\n",
       "    }\n",
       "\n",
       "    .dataframe thead th {\n",
       "        text-align: right;\n",
       "    }\n",
       "</style>\n",
       "<table border=\"1\" class=\"dataframe\">\n",
       "  <thead>\n",
       "    <tr style=\"text-align: right;\">\n",
       "      <th></th>\n",
       "      <th>CHROM</th>\n",
       "      <th>POS</th>\n",
       "      <th>ID</th>\n",
       "      <th>REF</th>\n",
       "      <th>case</th>\n",
       "      <th>Control</th>\n",
       "      <th>case_max</th>\n",
       "      <th>control_max</th>\n",
       "    </tr>\n",
       "  </thead>\n",
       "  <tbody>\n",
       "    <tr>\n",
       "      <td>15</td>\n",
       "      <td>chr17</td>\n",
       "      <td>302</td>\n",
       "      <td>rs35998167</td>\n",
       "      <td>T</td>\n",
       "      <td>TA/TA,TA/TA,TA/TA,TA/TA,T/TA,TA/TA,TA/TA,TA/TA...</td>\n",
       "      <td>TA/TA,TA/TA,TA/TA,TA/TA,TA/TA,TA/TA,TA/TA,TA/T...</td>\n",
       "      <td>[(TA/TA, 9)]</td>\n",
       "      <td>[(TA/TA, 10)]</td>\n",
       "    </tr>\n",
       "    <tr>\n",
       "      <td>25</td>\n",
       "      <td>chr17</td>\n",
       "      <td>828</td>\n",
       "      <td>rs62053745</td>\n",
       "      <td>T</td>\n",
       "      <td>C/C,C/C,C/C,C/C,T/C,C/C,C/C,C/C,C/C,C/C</td>\n",
       "      <td>C/C,C/C,C/C,C/C,C/C,C/C,C/C,C/C,C/C,C/C</td>\n",
       "      <td>[(C/C, 9)]</td>\n",
       "      <td>[(C/C, 10)]</td>\n",
       "    </tr>\n",
       "    <tr>\n",
       "      <td>26</td>\n",
       "      <td>chr17</td>\n",
       "      <td>834</td>\n",
       "      <td>rs9747082</td>\n",
       "      <td>G</td>\n",
       "      <td>A/A,A/A,A/A,A/A,G/A,A/A,A/A,A/A,A/A,A/A</td>\n",
       "      <td>A/A,A/A,A/A,A/A,A/A,A/A,A/A,A/A,A/A,A/A</td>\n",
       "      <td>[(A/A, 9)]</td>\n",
       "      <td>[(A/A, 10)]</td>\n",
       "    </tr>\n",
       "    <tr>\n",
       "      <td>35</td>\n",
       "      <td>chr17</td>\n",
       "      <td>1869</td>\n",
       "      <td>rs62053748</td>\n",
       "      <td>A</td>\n",
       "      <td>T/T,T/T,T/T,T/T,A/T,T/T,T/T,T/T,T/T,T/T</td>\n",
       "      <td>T/T,T/T,T/T,T/T,T/T,T/T,T/T,T/T,T/T,T/T</td>\n",
       "      <td>[(T/T, 9)]</td>\n",
       "      <td>[(T/T, 10)]</td>\n",
       "    </tr>\n",
       "    <tr>\n",
       "      <td>36</td>\n",
       "      <td>chr17</td>\n",
       "      <td>2041</td>\n",
       "      <td>rs35054424</td>\n",
       "      <td>G</td>\n",
       "      <td>A/A,A/A,A/A,A/A,G/A,A/A,A/A,A/A,A/A,A/A</td>\n",
       "      <td>A/A,A/A,A/A,A/A,A/A,A/A,A/A,A/A,A/A,A/A</td>\n",
       "      <td>[(A/A, 9)]</td>\n",
       "      <td>[(A/A, 10)]</td>\n",
       "    </tr>\n",
       "  </tbody>\n",
       "</table>\n",
       "</div>"
      ],
      "text/plain": [
       "    CHROM   POS          ID REF  \\\n",
       "15  chr17   302  rs35998167   T   \n",
       "25  chr17   828  rs62053745   T   \n",
       "26  chr17   834   rs9747082   G   \n",
       "35  chr17  1869  rs62053748   A   \n",
       "36  chr17  2041  rs35054424   G   \n",
       "\n",
       "                                                 case  \\\n",
       "15  TA/TA,TA/TA,TA/TA,TA/TA,T/TA,TA/TA,TA/TA,TA/TA...   \n",
       "25            C/C,C/C,C/C,C/C,T/C,C/C,C/C,C/C,C/C,C/C   \n",
       "26            A/A,A/A,A/A,A/A,G/A,A/A,A/A,A/A,A/A,A/A   \n",
       "35            T/T,T/T,T/T,T/T,A/T,T/T,T/T,T/T,T/T,T/T   \n",
       "36            A/A,A/A,A/A,A/A,G/A,A/A,A/A,A/A,A/A,A/A   \n",
       "\n",
       "                                              Control      case_max  \\\n",
       "15  TA/TA,TA/TA,TA/TA,TA/TA,TA/TA,TA/TA,TA/TA,TA/T...  [(TA/TA, 9)]   \n",
       "25            C/C,C/C,C/C,C/C,C/C,C/C,C/C,C/C,C/C,C/C    [(C/C, 9)]   \n",
       "26            A/A,A/A,A/A,A/A,A/A,A/A,A/A,A/A,A/A,A/A    [(A/A, 9)]   \n",
       "35            T/T,T/T,T/T,T/T,T/T,T/T,T/T,T/T,T/T,T/T    [(T/T, 9)]   \n",
       "36            A/A,A/A,A/A,A/A,A/A,A/A,A/A,A/A,A/A,A/A    [(A/A, 9)]   \n",
       "\n",
       "      control_max  \n",
       "15  [(TA/TA, 10)]  \n",
       "25    [(C/C, 10)]  \n",
       "26    [(A/A, 10)]  \n",
       "35    [(T/T, 10)]  \n",
       "36    [(A/A, 10)]  "
      ]
     },
     "execution_count": 271,
     "metadata": {},
     "output_type": "execute_result"
    }
   ],
   "source": [
    "df1.head()"
   ]
  },
  {
   "cell_type": "code",
   "execution_count": null,
   "metadata": {},
   "outputs": [],
   "source": []
  },
  {
   "cell_type": "code",
   "execution_count": null,
   "metadata": {},
   "outputs": [],
   "source": []
  },
  {
   "cell_type": "code",
   "execution_count": null,
   "metadata": {},
   "outputs": [],
   "source": []
  },
  {
   "cell_type": "code",
   "execution_count": null,
   "metadata": {},
   "outputs": [],
   "source": []
  },
  {
   "cell_type": "code",
   "execution_count": 43,
   "metadata": {},
   "outputs": [],
   "source": [
    "#df1.isnull().sum(axis=1)\n",
    "#test1 = df1[(df1.iloc[:,[4,5,6,7,8,9,10,11,12,13]].isnull().sum(axis =1)<3) & (df1.iloc[:,[14,15,16,17,18,19,20,21,22,23]].isnull().sum(axis =1)<3)]\n",
    "#df1[df1[\"POS\"]==157895049]"
   ]
  },
  {
   "cell_type": "code",
   "execution_count": 224,
   "metadata": {},
   "outputs": [
    {
     "data": {
      "text/plain": [
       "(1927371, 24)"
      ]
     },
     "execution_count": 224,
     "metadata": {},
     "output_type": "execute_result"
    }
   ],
   "source": [
    "#len(test1[\"1c\"].unique())\n",
    "test1.shape"
   ]
  },
  {
   "cell_type": "code",
   "execution_count": 116,
   "metadata": {},
   "outputs": [],
   "source": [
    "#t1 = df1[((df1[\"1c\"].isin(df1[\"1cn\"]))&(df1[\"2c\"].isin(df1[\"2cn\"]))&(df1[\"3c\"].isin(df1[\"3cn\"]))&(df1[\"4c\"].isin(df1[\"4cn\"]))&\\\n",
    "#    (df1[\"5c\"].isin(df1[\"5cn\"]))&(df1[\"6c\"].isin(df1[\"6cn\"]))&(df1[\"7c\"].isin(df1[\"7cn\"]))&(df1[\"8c\"].isin(df1[\"8cn\"]))&(df1[\"9c\"].isin(df1[\"9cn\"]))&(df1[\"10c\"].isin(df1[\"10cn\"])))]\n",
    "\n",
    "#t2 = df1[~((df1[\"1c\"].isin(df1[\"1cn\"]))&(df1[\"2c\"].isin(df1[\"2cn\"]))&(df1[\"3c\"].isin(df1[\"3cn\"]))&(df1[\"4c\"].isin(df1[\"4cn\"]))&\\\n",
    "#    (df1[\"5c\"].isin(df1[\"5cn\"]))&(df1[\"6c\"].isin(df1[\"6cn\"]))&(df1[\"7c\"].isin(df1[\"7cn\"]))&(df1[\"8c\"].isin(df1[\"8cn\"]))&(df1[\"9c\"].isin(df1[\"9cn\"]))&(df1[\"10c\"].isin(df1[\"10cn\"])))]"
   ]
  },
  {
   "cell_type": "code",
   "execution_count": 229,
   "metadata": {},
   "outputs": [
    {
     "data": {
      "text/plain": [
       "(1515354, 24)"
      ]
     },
     "execution_count": 229,
     "metadata": {},
     "output_type": "execute_result"
    }
   ],
   "source": [
    "test3.shape"
   ]
  },
  {
   "cell_type": "code",
   "execution_count": 233,
   "metadata": {},
   "outputs": [],
   "source": [
    "atleast_1diff = test1[(test1[\"1c\"] != test1['1cn'])&(test1[\"2c\"] != test1['2cn'])&(test1[\"3c\"] != test1['3cn'])&(test1[\"4c\"] != test1['4cn'])\\\n",
    "     &(test1[\"4c\"] != test1['4cn'])&(test1[\"5c\"] != test1['5cn'])&(test1[\"6c\"] != test1['6cn'])&(test1[\"7c\"] != test1['7cn'])\\\n",
    "      &(test1[\"8c\"] != test1['8cn'])&(test1[\"9c\"] != test1['9cn'])&(test1[\"10c\"] != test1['10cn'])]"
   ]
  },
  {
   "cell_type": "code",
   "execution_count": 237,
   "metadata": {},
   "outputs": [],
   "source": [
    "atleast_1diff = atleast_1diff.reset_index()"
   ]
  },
  {
   "cell_type": "code",
   "execution_count": 243,
   "metadata": {},
   "outputs": [
    {
     "data": {
      "text/html": [
       "<div>\n",
       "<style scoped>\n",
       "    .dataframe tbody tr th:only-of-type {\n",
       "        vertical-align: middle;\n",
       "    }\n",
       "\n",
       "    .dataframe tbody tr th {\n",
       "        vertical-align: top;\n",
       "    }\n",
       "\n",
       "    .dataframe thead th {\n",
       "        text-align: right;\n",
       "    }\n",
       "</style>\n",
       "<table border=\"1\" class=\"dataframe\">\n",
       "  <thead>\n",
       "    <tr style=\"text-align: right;\">\n",
       "      <th></th>\n",
       "      <th>index</th>\n",
       "      <th>CHROM</th>\n",
       "      <th>POS</th>\n",
       "      <th>ID</th>\n",
       "      <th>REF</th>\n",
       "      <th>1c</th>\n",
       "      <th>2c</th>\n",
       "      <th>3c</th>\n",
       "      <th>4c</th>\n",
       "      <th>5c</th>\n",
       "      <th>...</th>\n",
       "      <th>1cn</th>\n",
       "      <th>2cn</th>\n",
       "      <th>3cn</th>\n",
       "      <th>4cn</th>\n",
       "      <th>5cn</th>\n",
       "      <th>6cn</th>\n",
       "      <th>7cn</th>\n",
       "      <th>8cn</th>\n",
       "      <th>9cn</th>\n",
       "      <th>10cn</th>\n",
       "    </tr>\n",
       "  </thead>\n",
       "  <tbody>\n",
       "  </tbody>\n",
       "</table>\n",
       "<p>0 rows × 25 columns</p>\n",
       "</div>"
      ],
      "text/plain": [
       "Empty DataFrame\n",
       "Columns: [index, CHROM, POS, ID, REF, 1c, 2c, 3c, 4c, 5c, 6c, 7c, 8c, 9c, 10c, 1cn, 2cn, 3cn, 4cn, 5cn, 6cn, 7cn, 8cn, 9cn, 10cn]\n",
       "Index: []\n",
       "\n",
       "[0 rows x 25 columns]"
      ]
     },
     "execution_count": 243,
     "metadata": {},
     "output_type": "execute_result"
    }
   ],
   "source": [
    "#atleast_1diff[atleast_1diff.POS ==157895049 ]"
   ]
  },
  {
   "cell_type": "code",
   "execution_count": 281,
   "metadata": {},
   "outputs": [],
   "source": [
    "test1 = atleast_1diff #Dont do this\n",
    "#rename below fiel as atleast_1diff"
   ]
  },
  {
   "cell_type": "code",
   "execution_count": 287,
   "metadata": {},
   "outputs": [],
   "source": [
    "case = (test1[\"1c\"] == test1['2c'])&(test1[\"2c\"] == test1['3c'])&(test1[\"3c\"] == test1['4c'])&(test1[\"4c\"] == test1['5c'])\\\n",
    "     &(test1[\"5c\"] == test1['6c'])&(test1[\"6c\"] == test1['7c'])&(test1[\"7c\"] == test1['8c'])&(test1[\"8c\"] == test1['8c'])\\\n",
    "      &(test1[\"8c\"] == test1['9c'])&(test1[\"9c\"] == test1['10c'])"
   ]
  },
  {
   "cell_type": "code",
   "execution_count": 288,
   "metadata": {},
   "outputs": [],
   "source": [
    "control = (test1[\"1cn\"] == test1['2cn'])&(test1[\"2cn\"] == test1['3cn'])&(test1[\"3cn\"] == test1['4cn'])&(test1[\"4cn\"] == test1['5cn'])\\\n",
    "     &(test1[\"5cn\"] == test1['6cn'])&(test1[\"6cn\"] == test1['7c'])&(test1[\"7cn\"] == test1['8cn'])&(test1[\"8cn\"] == test1['8cn'])\\\n",
    "      &(test1[\"8cn\"] == test1['9cn'])&(test1[\"9cn\"] == test1['10cn'])"
   ]
  },
  {
   "cell_type": "code",
   "execution_count": 49,
   "metadata": {},
   "outputs": [],
   "source": [
    "#atleast_1diff[both]\n"
   ]
  },
  {
   "cell_type": "code",
   "execution_count": 275,
   "metadata": {},
   "outputs": [
    {
     "data": {
      "text/plain": [
       "5           False\n",
       "15          False\n",
       "17           True\n",
       "25          False\n",
       "26          False\n",
       "            ...  \n",
       "11176353    False\n",
       "11176382    False\n",
       "11176433    False\n",
       "11176435    False\n",
       "11176449     True\n",
       "Length: 1927371, dtype: bool"
      ]
     },
     "execution_count": 275,
     "metadata": {},
     "output_type": "execute_result"
    }
   ],
   "source": []
  },
  {
   "cell_type": "code",
   "execution_count": 276,
   "metadata": {},
   "outputs": [
    {
     "data": {
      "text/plain": [
       "5           False\n",
       "15          False\n",
       "17           True\n",
       "25          False\n",
       "26          False\n",
       "            ...  \n",
       "11176353    False\n",
       "11176382    False\n",
       "11176433     True\n",
       "11176435     True\n",
       "11176449     True\n",
       "Length: 1927371, dtype: bool"
      ]
     },
     "execution_count": 276,
     "metadata": {},
     "output_type": "execute_result"
    }
   ],
   "source": [
    "case"
   ]
  },
  {
   "cell_type": "code",
   "execution_count": 277,
   "metadata": {},
   "outputs": [
    {
     "data": {
      "text/plain": [
       "5           False\n",
       "15           True\n",
       "17           True\n",
       "25           True\n",
       "26           True\n",
       "            ...  \n",
       "11176353    False\n",
       "11176382    False\n",
       "11176433    False\n",
       "11176435    False\n",
       "11176449     True\n",
       "Length: 1927371, dtype: bool"
      ]
     },
     "execution_count": 277,
     "metadata": {},
     "output_type": "execute_result"
    }
   ],
   "source": [
    "control"
   ]
  },
  {
   "cell_type": "code",
   "execution_count": 271,
   "metadata": {},
   "outputs": [
    {
     "name": "stderr",
     "output_type": "stream",
     "text": [
      "C:\\ProgramData\\Anaconda3\\lib\\site-packages\\ipykernel_launcher.py:1: UserWarning: Boolean Series key will be reindexed to match DataFrame index.\n",
      "  \"\"\"Entry point for launching an IPython kernel.\n"
     ]
    },
    {
     "ename": "IndexingError",
     "evalue": "Unalignable boolean Series provided as indexer (index of the boolean Series and of the indexed object do not match).",
     "output_type": "error",
     "traceback": [
      "\u001b[1;31m---------------------------------------------------------------------------\u001b[0m",
      "\u001b[1;31mIndexingError\u001b[0m                             Traceback (most recent call last)",
      "\u001b[1;32m<ipython-input-271-45b7e254876a>\u001b[0m in \u001b[0;36m<module>\u001b[1;34m\u001b[0m\n\u001b[1;32m----> 1\u001b[1;33m \u001b[0matleast_1diff\u001b[0m\u001b[1;33m[\u001b[0m\u001b[0mcase\u001b[0m\u001b[1;33m]\u001b[0m\u001b[1;33m\u001b[0m\u001b[1;33m\u001b[0m\u001b[0m\n\u001b[0m",
      "\u001b[1;32mC:\\ProgramData\\Anaconda3\\lib\\site-packages\\pandas\\core\\frame.py\u001b[0m in \u001b[0;36m__getitem__\u001b[1;34m(self, key)\u001b[0m\n\u001b[0;32m   2969\u001b[0m         \u001b[1;31m# Do we have a (boolean) 1d indexer?\u001b[0m\u001b[1;33m\u001b[0m\u001b[1;33m\u001b[0m\u001b[1;33m\u001b[0m\u001b[0m\n\u001b[0;32m   2970\u001b[0m         \u001b[1;32mif\u001b[0m \u001b[0mcom\u001b[0m\u001b[1;33m.\u001b[0m\u001b[0mis_bool_indexer\u001b[0m\u001b[1;33m(\u001b[0m\u001b[0mkey\u001b[0m\u001b[1;33m)\u001b[0m\u001b[1;33m:\u001b[0m\u001b[1;33m\u001b[0m\u001b[1;33m\u001b[0m\u001b[0m\n\u001b[1;32m-> 2971\u001b[1;33m             \u001b[1;32mreturn\u001b[0m \u001b[0mself\u001b[0m\u001b[1;33m.\u001b[0m\u001b[0m_getitem_bool_array\u001b[0m\u001b[1;33m(\u001b[0m\u001b[0mkey\u001b[0m\u001b[1;33m)\u001b[0m\u001b[1;33m\u001b[0m\u001b[1;33m\u001b[0m\u001b[0m\n\u001b[0m\u001b[0;32m   2972\u001b[0m \u001b[1;33m\u001b[0m\u001b[0m\n\u001b[0;32m   2973\u001b[0m         \u001b[1;31m# We are left with two options: a single key, and a collection of keys,\u001b[0m\u001b[1;33m\u001b[0m\u001b[1;33m\u001b[0m\u001b[1;33m\u001b[0m\u001b[0m\n",
      "\u001b[1;32mC:\\ProgramData\\Anaconda3\\lib\\site-packages\\pandas\\core\\frame.py\u001b[0m in \u001b[0;36m_getitem_bool_array\u001b[1;34m(self, key)\u001b[0m\n\u001b[0;32m   3021\u001b[0m         \u001b[1;31m# check_bool_indexer will throw exception if Series key cannot\u001b[0m\u001b[1;33m\u001b[0m\u001b[1;33m\u001b[0m\u001b[1;33m\u001b[0m\u001b[0m\n\u001b[0;32m   3022\u001b[0m         \u001b[1;31m# be reindexed to match DataFrame rows\u001b[0m\u001b[1;33m\u001b[0m\u001b[1;33m\u001b[0m\u001b[1;33m\u001b[0m\u001b[0m\n\u001b[1;32m-> 3023\u001b[1;33m         \u001b[0mkey\u001b[0m \u001b[1;33m=\u001b[0m \u001b[0mcheck_bool_indexer\u001b[0m\u001b[1;33m(\u001b[0m\u001b[0mself\u001b[0m\u001b[1;33m.\u001b[0m\u001b[0mindex\u001b[0m\u001b[1;33m,\u001b[0m \u001b[0mkey\u001b[0m\u001b[1;33m)\u001b[0m\u001b[1;33m\u001b[0m\u001b[1;33m\u001b[0m\u001b[0m\n\u001b[0m\u001b[0;32m   3024\u001b[0m         \u001b[0mindexer\u001b[0m \u001b[1;33m=\u001b[0m \u001b[0mkey\u001b[0m\u001b[1;33m.\u001b[0m\u001b[0mnonzero\u001b[0m\u001b[1;33m(\u001b[0m\u001b[1;33m)\u001b[0m\u001b[1;33m[\u001b[0m\u001b[1;36m0\u001b[0m\u001b[1;33m]\u001b[0m\u001b[1;33m\u001b[0m\u001b[1;33m\u001b[0m\u001b[0m\n\u001b[0;32m   3025\u001b[0m         \u001b[1;32mreturn\u001b[0m \u001b[0mself\u001b[0m\u001b[1;33m.\u001b[0m\u001b[0mtake\u001b[0m\u001b[1;33m(\u001b[0m\u001b[0mindexer\u001b[0m\u001b[1;33m,\u001b[0m \u001b[0maxis\u001b[0m\u001b[1;33m=\u001b[0m\u001b[1;36m0\u001b[0m\u001b[1;33m)\u001b[0m\u001b[1;33m\u001b[0m\u001b[1;33m\u001b[0m\u001b[0m\n",
      "\u001b[1;32mC:\\ProgramData\\Anaconda3\\lib\\site-packages\\pandas\\core\\indexing.py\u001b[0m in \u001b[0;36mcheck_bool_indexer\u001b[1;34m(index, key)\u001b[0m\n\u001b[0;32m   2409\u001b[0m         \u001b[1;32mif\u001b[0m \u001b[0mmask\u001b[0m\u001b[1;33m.\u001b[0m\u001b[0many\u001b[0m\u001b[1;33m(\u001b[0m\u001b[1;33m)\u001b[0m\u001b[1;33m:\u001b[0m\u001b[1;33m\u001b[0m\u001b[1;33m\u001b[0m\u001b[0m\n\u001b[0;32m   2410\u001b[0m             raise IndexingError(\n\u001b[1;32m-> 2411\u001b[1;33m                 \u001b[1;34m\"Unalignable boolean Series provided as \"\u001b[0m\u001b[1;33m\u001b[0m\u001b[1;33m\u001b[0m\u001b[0m\n\u001b[0m\u001b[0;32m   2412\u001b[0m                 \u001b[1;34m\"indexer (index of the boolean Series and of \"\u001b[0m\u001b[1;33m\u001b[0m\u001b[1;33m\u001b[0m\u001b[0m\n\u001b[0;32m   2413\u001b[0m                 \u001b[1;34m\"the indexed object do not match).\"\u001b[0m\u001b[1;33m\u001b[0m\u001b[1;33m\u001b[0m\u001b[0m\n",
      "\u001b[1;31mIndexingError\u001b[0m: Unalignable boolean Series provided as indexer (index of the boolean Series and of the indexed object do not match)."
     ]
    }
   ],
   "source": [
    "atleast_1diff[case]"
   ]
  },
  {
   "cell_type": "code",
   "execution_count": 119,
   "metadata": {},
   "outputs": [],
   "source": [
    "#t2.iloc[0,:]"
   ]
  },
  {
   "cell_type": "code",
   "execution_count": 120,
   "metadata": {},
   "outputs": [],
   "source": [
    "#t1.iloc[5000,4:]"
   ]
  },
  {
   "cell_type": "code",
   "execution_count": 84,
   "metadata": {},
   "outputs": [],
   "source": [
    "#case = t2.loc[:,['CHROM', 'POS', 'ID', 'REF', '1c', '2c', '3c', '4c', '5c', '6c', '7c','8c', '9c', '10c']]"
   ]
  },
  {
   "cell_type": "code",
   "execution_count": 85,
   "metadata": {},
   "outputs": [],
   "source": [
    "#case.head()"
   ]
  },
  {
   "cell_type": "code",
   "execution_count": 86,
   "metadata": {},
   "outputs": [],
   "source": [
    "#control = t2.loc[:,['CHROM', 'POS', 'ID', 'REF','1cn', '2cn', '3cn', '4cn', '5cn', '6cn', '7cn','8cn', '9cn', '10cn']]"
   ]
  },
  {
   "cell_type": "code",
   "execution_count": 87,
   "metadata": {},
   "outputs": [],
   "source": [
    "#case.shape ==control.shape"
   ]
  },
  {
   "cell_type": "code",
   "execution_count": 89,
   "metadata": {},
   "outputs": [],
   "source": [
    "#col = ['CHROM', 'POS', 'ID', 'REF', '1', '2', '3', '4', '5', '6', '7',\n",
    "#       '8', '9', '10']"
   ]
  },
  {
   "cell_type": "code",
   "execution_count": 90,
   "metadata": {},
   "outputs": [],
   "source": [
    "#case.columns = col\n",
    "#control.columnsl = col"
   ]
  },
  {
   "cell_type": "code",
   "execution_count": 121,
   "metadata": {},
   "outputs": [],
   "source": [
    "#case.head()"
   ]
  },
  {
   "cell_type": "code",
   "execution_count": 122,
   "metadata": {},
   "outputs": [],
   "source": [
    "#control.head()"
   ]
  },
  {
   "cell_type": "code",
   "execution_count": 123,
   "metadata": {},
   "outputs": [],
   "source": [
    "#case"
   ]
  },
  {
   "cell_type": "code",
   "execution_count": 124,
   "metadata": {},
   "outputs": [],
   "source": [
    "#control[control.POS == 157895049]"
   ]
  },
  {
   "cell_type": "code",
   "execution_count": null,
   "metadata": {},
   "outputs": [],
   "source": []
  }
 ],
 "metadata": {
  "kernelspec": {
   "display_name": "Python 3",
   "language": "python",
   "name": "python3"
  },
  "language_info": {
   "codemirror_mode": {
    "name": "ipython",
    "version": 3
   },
   "file_extension": ".py",
   "mimetype": "text/x-python",
   "name": "python",
   "nbconvert_exporter": "python",
   "pygments_lexer": "ipython3",
   "version": "3.7.3"
  }
 },
 "nbformat": 4,
 "nbformat_minor": 2
}
