{
 "cells": [
  {
   "cell_type": "code",
   "execution_count": null,
   "metadata": {},
   "outputs": [],
   "source": [
    "import pandas as pd\n",
    "import numpy as np\n",
    "import os\n",
    "import sys"
   ]
  },
  {
   "cell_type": "code",
   "execution_count": null,
   "metadata": {},
   "outputs": [],
   "source": [
    "pd.set_option('display.max_rows', 500)\n",
    "pd.set_option('display.max_columns', 500)\n",
    "pd.set_option('display.width', 1000)"
   ]
  },
  {
   "cell_type": "code",
   "execution_count": null,
   "metadata": {},
   "outputs": [],
   "source": [
    "case = ['1119','910','873','1489','989','880','1282','1584','875','1009','MWB_110',\n",
    "        'MWB_161','MWB_174','MWB_242','MWB_276','MWB_437','MWB_490','MWB_506',\n",
    "        'MWB_540','MWB_548','MWB_564','MWB_626','MWB_719','MWB_740','MWB_746',\n",
    "        'MWB_815','MWB_870','MWB_1226','MWB_1276',\n",
    "        'MWB_1445']\n",
    "\n",
    "\n",
    "control = ['1093','1134','1293','1316','1389','1428','1477','1481','1557','1591','MWB_895','MWB_911',\n",
    "           'MWB_941','MWB_956','MWB_961',\"MWB_1008\",'MWB_1040','MWB_1151','MWB_1244',\n",
    "           'MWB_1250','MWB_1443','MWB_1676','MWB_1960','MWB_1964','MWB_1975',\n",
    "           'MWB_1977','MWB_1982','MWB_1995','MWB_2007','MWB_2008']\n",
    "\n",
    "print(len(case))\n",
    "print(len(control))"
   ]
  },
  {
   "cell_type": "code",
   "execution_count": null,
   "metadata": {},
   "outputs": [],
   "source": [
    "# These Are the New COlumns that are used to Replace the Column Name\n",
    "new_col = ['Chr', 'Start', 'End', 'Ref', 'Alt', 'Ref_Gene', 'Func_refGene',\n",
    "       'ExonicFunc_refGene', 'Gene_ensGene', 'avsnp147', 'AAChange_ensGene',\n",
    "       'AAChange_refGene', 'Clinvar','InterVar_Evidence','Freq_gnomAD_genome_ALL',\n",
    "       'Freq_esp6500siv2_all', 'Freq_1000g2015aug_all', 'CADD_raw',\n",
    "       'CADD_phred', 'SIFT_score', 'GERP++_RS', 'phyloP46way_placental',\n",
    "       'dbscSNV_ADA_SCORE', 'dbscSNV_RF_SCORE', 'Interpro_domain',#\n",
    "       'AAChange.knownGene', 'rmsk', 'MetaSVM_score',\n",
    "       'Freq_gnomAD_genome_POPs', 'OMIM', 'Phenotype_MIM', 'OrphaNumber',\n",
    "       'Orpha', 'Otherinfo']"
   ]
  },
  {
   "cell_type": "code",
   "execution_count": null,
   "metadata": {},
   "outputs": [],
   "source": [
    "open_col_only = ['#Chr', 'Start', 'End', 'Ref', 'Alt', 'Ref.Gene', 'Func.refGene',\n",
    "        'avsnp147','clinvar: Clinvar ',' InterVar: InterVar and Evidence ', 'OMIM']\n",
    "# these columns are need to open while opening intervar file\n",
    "# After Opening we will change the column Name\n",
    "out_col = ['Chr', 'Start', 'End', 'Ref', 'Alt', 'Ref_Gene', 'Func_refGene',\n",
    "        'avsnp147','Clinvar','InterVar', 'OMIM']\n",
    "## \n",
    "\n",
    "# In Case fo SNV the start and end position is same so we dont need Start and End\n",
    "# But in case of indels the insertion and deletion might not be same so we need\n",
    "len(open_col_only) == len(out_col)"
   ]
  },
  {
   "cell_type": "code",
   "execution_count": null,
   "metadata": {},
   "outputs": [],
   "source": [
    "def check_file(case_or_control, file_extension = \".hg19_multianno.txt.intervar\"):\n",
    "    # \"Annovar_result/1119/1119.hg19_multianno.txt.intervar\"\n",
    "    \"\"\"This Function us useful to check weather file exists or Not and return 0 if \n",
    "    any file not exists\"\"\"\n",
    "    import os\n",
    "    file_extension = file_extension\n",
    "    for _ in case_or_control:\n",
    "        \n",
    "        condition = os.path.exists(_+\"/\"+_+file_extension)\n",
    "        if condition:\n",
    "            print(_, \"exist\", end= \"-->\")\n",
    "        else:\n",
    "            print()\n",
    "            print(\"\\n\")\n",
    "            print(\"X-#-!\"*20)\n",
    "            print(_,\"not exist\")\n",
    "            print(\"###\"*20,\"\\n\")\n",
    "            print(\"Check this file and run\",_)\n",
    "            return 0\n",
    "    print(\"\\n\\nAll File exists\")\n",
    "    return 1"
   ]
  },
  {
   "cell_type": "code",
   "execution_count": null,
   "metadata": {},
   "outputs": [],
   "source": [
    "check_file(case)"
   ]
  },
  {
   "cell_type": "code",
   "execution_count": null,
   "metadata": {},
   "outputs": [],
   "source": [
    "check_file(control)"
   ]
  },
  {
   "cell_type": "markdown",
   "metadata": {},
   "source": [
    "##### Since all file exists Now we need to create different file snv and Indel"
   ]
  },
  {
   "cell_type": "code",
   "execution_count": null,
   "metadata": {},
   "outputs": [],
   "source": [
    "def split(x):\n",
    "    x = x[10:]\n",
    "    splitted = x.rsplit()\n",
    "    if splitted[0] in [\"Pathogenic\", \"Benign\"]:\n",
    "        return splitted[:1][0]\n",
    "    else:\n",
    "        return \"_\".join(splitted[:2])"
   ]
  },
  {
   "cell_type": "markdown",
   "metadata": {},
   "source": [
    "# For Python Change to Code from setting\n",
    "for _ in case:\n",
    "    condition = os.path.exists(_+\"/\"+_+\"_indels.csv\")\n",
    "    if condition:\n",
    "        print(\"Doing\", _)\n",
    "        df = pd.read_csv(_+\"/\"+_+\".hg19_multianno.txt.intervar\",\n",
    "                 low_memory=False,sep = \"\\t\",usecols = open_col_only)\n",
    "        df.columns = out_col\n",
    "        df.Clinvar = df.Clinvar.apply(lambda x : x[9:]) # Skip name \n",
    "        df.InterVar = df.InterVar.apply(lambda x : split(x)) # Skip name Intervar\n",
    "\n",
    "        df_snvs = df.loc[(df.Ref != \"-\") & (df.Alt.str.len()== 1) & \n",
    "                         (df.Ref.str.len() == 1)&(df.Alt != \"-\")]\n",
    "        df_indels = df.loc[(df.Ref == \"-\") | (df.Alt == \"-\")]\n",
    "        df_snvs.to_csv(_+\"/\"+_+\"_snv.csv\", index = False)\n",
    "        df_indels.to_csv(_+\"/\"+_+\"_indels.csv\", index = False)\n",
    "        \n",
    "        del df\n",
    "    else:\n",
    "        print(\"skipping\", _)\n",
    "    print(\"done\",_)"
   ]
  },
  {
   "cell_type": "code",
   "execution_count": null,
   "metadata": {},
   "outputs": [],
   "source": [
    "#_ = \"1119\"\n",
    "#df = pd.read_csv(_+\"/\"+_+\".hg19_multianno.txt.intervar\",\n",
    "#                 low_memory=False,nrows = 1000,sep = \"\\t\",usecols = open_col_only)\n",
    "#df.columns = out_col\n",
    "#df.Clinvar = df.Clinvar.apply(lambda x : x[9:])\n",
    "#df.InterVar = df.InterVar.apply(lambda x : x[10:])\n",
    "#df_snvs = df.loc[(df.Ref != \"-\") & (df.Alt.str.len()== 1) & (df.Ref.str.len() == 1)]\n",
    "#df_indels = df.loc[(df.Ref == \"-\") | (df.Alt == \"-\")]\n",
    "#df_snvs.to_csv(_+\"/\"+_+\"_snv.csv\", index = False)\n",
    "#df_indels.to_csv(_+\"/\"+_+\"_indels.csv\", index = False)"
   ]
  },
  {
   "cell_type": "code",
   "execution_count": null,
   "metadata": {},
   "outputs": [],
   "source": [
    "#df_snvs = df.loc[(df.Ref.str.len() == 1) & (df.Alt.str.len()== 1)]\n",
    "#df_indels = df.loc[df.Ref.str.len()>1 | (df.Alt.str.len()>1)]\n",
    "\n",
    "df_snvs = df.loc[(df.Ref != \"-\") & (df.Alt.str.len()== 1) & (df.Ref.str.len() == 1)]\n",
    "df_indels = df.loc[(df.Ref == \"-\") | (df.Alt == \"-\")]"
   ]
  },
  {
   "cell_type": "code",
   "execution_count": null,
   "metadata": {},
   "outputs": [],
   "source": [
    "#df_snvs.head()\n",
    "#df_snvs.to_csv(_+\"/\"+_+\"_snv.csv\", index = False)"
   ]
  },
  {
   "cell_type": "markdown",
   "metadata": {},
   "source": [
    "#  Merging Indel data as a single File"
   ]
  },
  {
   "cell_type": "code",
   "execution_count": null,
   "metadata": {},
   "outputs": [],
   "source": [
    "case_merged = None  # To clear Memory\n",
    "control_merged = None\n",
    "open_cols = [\"Chr\", 'Start', 'Ref',\"Alt\"]\n",
    "merged_cols = [\"Chr\", 'Start', 'Ref',\"Alt\",\"SNP\"]\n",
    "control_merged = pd.read_csv(\"1093/1093_indels.csv\", low_memory= False,usecols=open_cols, dtype=\"object\")\n",
    "control_merged.drop_duplicates(subset = \"Start\", keep = False, inplace = True)\n",
    "control_merged[\"SNP\"] = 1\n",
    "print(control_merged.shape)\n",
    "control_merged.head()"
   ]
  },
  {
   "cell_type": "code",
   "execution_count": null,
   "metadata": {},
   "outputs": [],
   "source": [
    "control_merged.head()"
   ]
  }
 ],
 "metadata": {
  "kernelspec": {
   "display_name": "Python 3",
   "language": "python",
   "name": "python3"
  },
  "language_info": {
   "codemirror_mode": {
    "name": "ipython",
    "version": 3
   },
   "file_extension": ".py",
   "mimetype": "text/x-python",
   "name": "python",
   "nbconvert_exporter": "python",
   "pygments_lexer": "ipython3",
   "version": "3.7.6"
  },
  "nbTranslate": {
   "displayLangs": [
    "*"
   ],
   "hotkey": "alt-t",
   "langInMainMenu": true,
   "sourceLang": "en",
   "targetLang": "fr",
   "useGoogleTranslate": true
  },
  "toc": {
   "base_numbering": 1,
   "nav_menu": {},
   "number_sections": true,
   "sideBar": true,
   "skip_h1_title": false,
   "title_cell": "Table of Contents",
   "title_sidebar": "Contents",
   "toc_cell": false,
   "toc_position": {},
   "toc_section_display": true,
   "toc_window_display": false
  }
 },
 "nbformat": 4,
 "nbformat_minor": 4
}
