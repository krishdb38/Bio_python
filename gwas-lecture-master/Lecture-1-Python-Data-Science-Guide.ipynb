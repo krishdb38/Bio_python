{
 "cells": [
  {
   "cell_type": "markdown",
   "metadata": {},
   "source": [
    "# Python Data Science Guide\n",
    "\n",
    "This notebook provides an introduction to the tools and libraries that we use in this GWAS lecture. These are: \n",
    "\n",
    "1. [NumPy](http://www.numpy.org/)\n",
    "2. [h5py](https://www.h5py.org/)\n",
    "3. [pandas](https://pandas.pydata.org/)\n",
    "4. [matplotlib](https://matplotlib.org/)"
   ]
  },
  {
   "cell_type": "markdown",
   "metadata": {},
   "source": [
    "## NumPy\n",
    "\n",
    "NumPy stands for ‘Numerical Python’ or ‘Numeric Python’. It is an open source module of Python which provides fast mathematical computation on arrays and matrices.\n",
    "\n",
    "Numpy can be imported into the notebook using"
   ]
  },
  {
   "cell_type": "code",
   "execution_count": 1,
   "metadata": {},
   "outputs": [],
   "source": [
    "%matplotlib inline\n",
    "import numpy as np"
   ]
  },
  {
   "cell_type": "markdown",
   "metadata": {},
   "source": [
    "### Creating NumPy array \n",
    "\n",
    "NumPy’s main object is the homogeneous multidimensional array. It is a table with same type elements, i.e, integers or string or characters (homogeneous), usually integers. In NumPy, dimensions are called axes. The number of axes is called the rank.\n",
    "\n",
    "There are several ways to create an array in NumPy like np.array, np.zeros, no.ones, etc. Each of them provides some flexibility.\n",
    "\n",
    "| Numpy function | What it does ?                                                                                                        |\n",
    "|----------------|-----------------------------------------------------------------------------------------------------------------------|\n",
    "| np.array       | Convert array like python object to NumPy array                                                                       |\n",
    "| np.arange      | Create arrays with regularly incrementing values.                                                                     |\n",
    "| np.ones        | Create an array filled with 1 values                                                                                  |\n",
    "| np.zeros       | Create an array filled with 0 values                                                                                  |\n",
    "| np.full        | Create an array filled with the specified value                                                                       |\n",
    "| np.random.rand | Generate arrays of random values in the specified shape                                                               |\n",
    "| np.linspace    | Create arrays with a specified number of elements, and spaced equally between the specified beginning and end values. |"
   ]
  },
  {
   "cell_type": "code",
   "execution_count": null,
   "metadata": {},
   "outputs": [],
   "source": []
  },
  {
   "cell_type": "code",
   "execution_count": 2,
   "metadata": {},
   "outputs": [
    {
     "data": {
      "text/plain": [
       "array([2, 3, 4])"
      ]
     },
     "execution_count": 2,
     "metadata": {},
     "output_type": "execute_result"
    }
   ],
   "source": [
    "# Convert array like python object to NumPy array\n",
    "np.array([2,3,4])"
   ]
  },
  {
   "cell_type": "code",
   "execution_count": 3,
   "metadata": {},
   "outputs": [
    {
     "data": {
      "text/plain": [
       "array([2. , 2.1, 2.2, 2.3, 2.4, 2.5, 2.6, 2.7, 2.8, 2.9])"
      ]
     },
     "execution_count": 3,
     "metadata": {},
     "output_type": "execute_result"
    }
   ],
   "source": [
    "# Create arrays with regularly incrementing values.\n",
    "np.arange(2, 3, 0.1)  # Number between 2, 3 with gap of 0.1"
   ]
  },
  {
   "cell_type": "code",
   "execution_count": 5,
   "metadata": {},
   "outputs": [
    {
     "data": {
      "text/plain": [
       "array([[0., 0., 0.],\n",
       "       [0., 0., 0.]])"
      ]
     },
     "execution_count": 5,
     "metadata": {},
     "output_type": "execute_result"
    }
   ],
   "source": [
    "# Create an array filled with 0 values\n",
    "np.zeros((2, 3))"
   ]
  },
  {
   "cell_type": "code",
   "execution_count": 6,
   "metadata": {},
   "outputs": [
    {
     "data": {
      "text/plain": [
       "array([[1., 1., 1.],\n",
       "       [1., 1., 1.]])"
      ]
     },
     "execution_count": 6,
     "metadata": {},
     "output_type": "execute_result"
    }
   ],
   "source": [
    "# Create an array filled with 1 values\n",
    "np.ones((2, 3))  # "
   ]
  },
  {
   "cell_type": "code",
   "execution_count": 6,
   "metadata": {},
   "outputs": [
    {
     "data": {
      "text/plain": [
       "array([[0.11, 0.11, 0.11, 0.11],\n",
       "       [0.11, 0.11, 0.11, 0.11],\n",
       "       [0.11, 0.11, 0.11, 0.11]])"
      ]
     },
     "execution_count": 6,
     "metadata": {},
     "output_type": "execute_result"
    }
   ],
   "source": [
    "# Create an array filled with the specified value\n",
    "np.full( (3,4), 0.11 )  "
   ]
  },
  {
   "cell_type": "code",
   "execution_count": 7,
   "metadata": {},
   "outputs": [
    {
     "data": {
      "text/plain": [
       "array([[0.75061919, 0.22210586, 0.39882487],\n",
       "       [0.16872907, 0.32425882, 0.44510628]])"
      ]
     },
     "execution_count": 7,
     "metadata": {},
     "output_type": "execute_result"
    }
   ],
   "source": [
    "# Generate arrays of random values in the specified shape\n",
    "np.random.rand(2,3)"
   ]
  },
  {
   "cell_type": "code",
   "execution_count": 8,
   "metadata": {},
   "outputs": [
    {
     "data": {
      "text/plain": [
       "array([0. , 0.2, 0.4, 0.6, 0.8, 1. ])"
      ]
     },
     "execution_count": 8,
     "metadata": {},
     "output_type": "execute_result"
    }
   ],
   "source": [
    "# Create arrays with a specified number of elements, and spaced equally between the specified beginning and end values\n",
    "np.linspace(0, 5/3, 6)"
   ]
  },
  {
   "cell_type": "markdown",
   "metadata": {},
   "source": [
    "Some of the important attributes of a NumPy object are:\n",
    "\n",
    "- **ndim**: displays the dimension of the array\n",
    "- **shape**: returns a tuple of integers indicating the size of the array\n",
    "- **size**: returns the total number of elements in the NumPy array\n",
    "- **dtype**: returns the type of elements in the array, i.e., int64, character\n",
    "- **itemsize**: returns the size in bytes of each item\n",
    "- **reshape**: Reshapes the NumPy array"
   ]
  },
  {
   "cell_type": "code",
   "execution_count": 9,
   "metadata": {},
   "outputs": [
    {
     "name": "stdout",
     "output_type": "stream",
     "text": [
      "[[1. 1. 1.]\n",
      " [1. 1. 1.]]\n",
      "ndim: 2\n",
      "shape: (2,3)\n",
      "size: 6\n",
      "dtype: float64\n",
      "itemsize: 8\n"
     ]
    },
    {
     "data": {
      "text/plain": [
       "array([[1., 1.],\n",
       "       [1., 1.],\n",
       "       [1., 1.]])"
      ]
     },
     "execution_count": 9,
     "metadata": {},
     "output_type": "execute_result"
    }
   ],
   "source": [
    "arr = np.ones((2,3))\n",
    "print arr\n",
    "print(\"ndim: %s\" % arr.ndim)\n",
    "print(\"shape: (%s,%s)\" % arr.shape)\n",
    "print(\"size: %s\" % arr.size)\n",
    "print(\"dtype: %s\" % arr.dtype)\n",
    "print(\"itemsize: %s\" % arr.itemsize)\n",
    "arr.reshape((3,2))"
   ]
  },
  {
   "cell_type": "markdown",
   "metadata": {},
   "source": [
    "By default NumPy numeric arrays will be created using *float64* type. \n",
    "This can be overridden by providing an explicit dtype.\n",
    "For example to create a numpy array with 32bit integer elements use:"
   ]
  },
  {
   "cell_type": "code",
   "execution_count": 10,
   "metadata": {},
   "outputs": [
    {
     "data": {
      "text/plain": [
       "array([[1, 1, 1],\n",
       "       [1, 1, 1]], dtype=int32)"
      ]
     },
     "execution_count": 10,
     "metadata": {},
     "output_type": "execute_result"
    }
   ],
   "source": [
    "np.ones((2,3), dtype=np.int32)"
   ]
  },
  {
   "cell_type": "markdown",
   "metadata": {},
   "source": [
    "### Accessing NumPy array\n",
    "\n",
    "NumPy array elements can be accessed using indexing. Below are some of the useful examples:\n",
    "\n",
    "- arr[2:5] will print items 2 to 4. Index in NumPy arrays starts from 0\n",
    "- arr[2::2] will print items 2 to end skipping 2 items\n",
    "- arr[::-1] will print the array in the reverse order\n",
    "- arr[1:] will print from row 1 to end\n",
    "\n",
    "Accessing a multi-dimensional NumPy array can be done using following form:\n",
    "\n",
    "```Array[row_start_index:row_end_index, column_start_index: column_end_index]```"
   ]
  },
  {
   "cell_type": "code",
   "execution_count": 11,
   "metadata": {},
   "outputs": [
    {
     "data": {
      "text/plain": [
       "array([[ 0,  1,  2,  3,  4],\n",
       "       [ 5,  6,  7,  8,  9],\n",
       "       [10, 11, 12, 13, 14],\n",
       "       [15, 16, 17, 18, 19],\n",
       "       [20, 21, 22, 23, 24]])"
      ]
     },
     "execution_count": 11,
     "metadata": {},
     "output_type": "execute_result"
    }
   ],
   "source": [
    "arr = a = np.arange(25).reshape(5, 5)\n",
    "arr"
   ]
  },
  {
   "cell_type": "code",
   "execution_count": 12,
   "metadata": {},
   "outputs": [
    {
     "data": {
      "text/plain": [
       "array([[10, 11, 12, 13, 14],\n",
       "       [15, 16, 17, 18, 19]])"
      ]
     },
     "execution_count": 12,
     "metadata": {},
     "output_type": "execute_result"
    }
   ],
   "source": [
    "# access rows 2 to 4 and all columns\n",
    "arr[2:4]"
   ]
  },
  {
   "cell_type": "code",
   "execution_count": 13,
   "metadata": {},
   "outputs": [
    {
     "data": {
      "text/plain": [
       "array([[ 2,  3],\n",
       "       [ 7,  8],\n",
       "       [12, 13],\n",
       "       [17, 18],\n",
       "       [22, 23]])"
      ]
     },
     "execution_count": 13,
     "metadata": {},
     "output_type": "execute_result"
    }
   ],
   "source": [
    "# access colum 2 to 4 and all rows\n",
    "arr[:,2:4]"
   ]
  },
  {
   "cell_type": "code",
   "execution_count": 14,
   "metadata": {},
   "outputs": [
    {
     "data": {
      "text/plain": [
       "array([[12, 13],\n",
       "       [17, 18]])"
      ]
     },
     "execution_count": 14,
     "metadata": {},
     "output_type": "execute_result"
    }
   ],
   "source": [
    "# access colum 2 to 4 and row 2 to 4\n",
    "arr[2:4,2:4]"
   ]
  },
  {
   "cell_type": "code",
   "execution_count": 15,
   "metadata": {},
   "outputs": [
    {
     "data": {
      "text/plain": [
       "array([20, 21, 22, 23, 24])"
      ]
     },
     "execution_count": 15,
     "metadata": {},
     "output_type": "execute_result"
    }
   ],
   "source": [
    "# access last row \n",
    "arr[-1]"
   ]
  },
  {
   "cell_type": "code",
   "execution_count": 16,
   "metadata": {},
   "outputs": [
    {
     "data": {
      "text/plain": [
       "array([ 4,  9, 14, 19, 24])"
      ]
     },
     "execution_count": 16,
     "metadata": {},
     "output_type": "execute_result"
    }
   ],
   "source": [
    "# access last column \n",
    "arr[:,-1]"
   ]
  },
  {
   "cell_type": "code",
   "execution_count": 17,
   "metadata": {},
   "outputs": [
    {
     "data": {
      "text/plain": [
       "13"
      ]
     },
     "execution_count": 17,
     "metadata": {},
     "output_type": "execute_result"
    }
   ],
   "source": [
    "# access second row and third column\n",
    "arr[2,3]"
   ]
  },
  {
   "cell_type": "markdown",
   "metadata": {},
   "source": [
    "NumPy arrays can also be accessed using boolean indexing."
   ]
  },
  {
   "cell_type": "code",
   "execution_count": 18,
   "metadata": {},
   "outputs": [
    {
     "data": {
      "text/plain": [
       "array([[ 0,  1,  2,  3],\n",
       "       [ 4,  5,  6,  7],\n",
       "       [ 8,  9, 10, 11]])"
      ]
     },
     "execution_count": 18,
     "metadata": {},
     "output_type": "execute_result"
    }
   ],
   "source": [
    "a = np.arange(12).reshape(3, 4)\n",
    "a"
   ]
  },
  {
   "cell_type": "code",
   "execution_count": 19,
   "metadata": {},
   "outputs": [
    {
     "data": {
      "text/plain": [
       "array([ True, False,  True])"
      ]
     },
     "execution_count": 19,
     "metadata": {},
     "output_type": "execute_result"
    }
   ],
   "source": [
    "rows_on = np.array([True, False, True])\n",
    "rows_on"
   ]
  },
  {
   "cell_type": "code",
   "execution_count": 20,
   "metadata": {},
   "outputs": [
    {
     "data": {
      "text/plain": [
       "array([[ 0,  1,  2,  3],\n",
       "       [ 8,  9, 10, 11]])"
      ]
     },
     "execution_count": 20,
     "metadata": {},
     "output_type": "execute_result"
    }
   ],
   "source": [
    "a[rows_on,:]"
   ]
  },
  {
   "cell_type": "markdown",
   "metadata": {},
   "source": [
    "### NumPy array manipulation \n",
    "\n",
    "NumPy arrays are capable of performing all basic operations such as addition, subtraction, element-wise product, matrix dot product, element-wise division, element-wise modulo, element-wise exponents and conditional operations.\n",
    "\n",
    "An important feature with NumPy arrays is broadcasting:  \n",
    "![Broadcasting Rules](https://jakevdp.github.io/PythonDataScienceHandbook/figures/02.05-broadcasting.png \"Broadcasting Rules\")"
   ]
  },
  {
   "cell_type": "code",
   "execution_count": 21,
   "metadata": {},
   "outputs": [
    {
     "data": {
      "text/plain": [
       "array([5, 6, 7])"
      ]
     },
     "execution_count": 21,
     "metadata": {},
     "output_type": "execute_result"
    }
   ],
   "source": [
    "# Without broadcasting\n",
    "a = np.array([0, 1, 2])\n",
    "b = np.array([5, 5, 5])\n",
    "a + b"
   ]
  },
  {
   "cell_type": "code",
   "execution_count": 22,
   "metadata": {},
   "outputs": [
    {
     "data": {
      "text/plain": [
       "array([5, 6, 7])"
      ]
     },
     "execution_count": 22,
     "metadata": {},
     "output_type": "execute_result"
    }
   ],
   "source": [
    "# With broadcasting\n",
    "a + 5"
   ]
  },
  {
   "cell_type": "markdown",
   "metadata": {},
   "source": [
    "NumPy provides basic mathematical and statistical functions like mean, min, max, sum, prod, std, var, summation across different axes, transposing of a matrix, etc."
   ]
  },
  {
   "cell_type": "code",
   "execution_count": 23,
   "metadata": {},
   "outputs": [
    {
     "name": "stdout",
     "output_type": "stream",
     "text": [
      "mean: 6.0\n",
      "std: 0.816496580927726\n",
      "sum: 18\n",
      "var: 0.6666666666666666\n",
      "min: 5\n",
      "max: 7\n"
     ]
    }
   ],
   "source": [
    "c = a + b\n",
    "print(\"mean: %s\" % c.mean())\n",
    "print(\"std: %s\" % c.std())\n",
    "print(\"sum: %s\" % c.sum())\n",
    "print(\"var: %s\" % c.var())\n",
    "print(\"min: %s\" % c.min())\n",
    "print(\"max: %s\" % c.max())"
   ]
  },
  {
   "cell_type": "markdown",
   "metadata": {},
   "source": [
    "A particular NumPy feature of interest is solving a system of linear equations. NumPy has a function to solve linear equations. \n",
    "For example these linear equations \n",
    "\n",
    "\\begin{align}\n",
    "2x + 6y & =  6 \\\\\n",
    "5x + 3y & =  -9 \n",
    "\\end{align}\n",
    "\n",
    "can be solved by:"
   ]
  },
  {
   "cell_type": "code",
   "execution_count": 24,
   "metadata": {},
   "outputs": [
    {
     "data": {
      "text/plain": [
       "array([-3.,  2.])"
      ]
     },
     "execution_count": 24,
     "metadata": {},
     "output_type": "execute_result"
    }
   ],
   "source": [
    "coeffs  = np.array([[2, 6], [5, 3]])\n",
    "depvars = np.array([6, -9])\n",
    "solution = np.linalg.solve(coeffs, depvars)\n",
    "solution"
   ]
  },
  {
   "cell_type": "markdown",
   "metadata": {},
   "source": [
    "---\n",
    "## HDF5 & h5py\n",
    "\n",
    "The h5py package is a Pythonic interface to the HDF5 binary data format.\n",
    "\n",
    "It lets you store huge amounts of numerical data, and easily manipulate that data from NumPy. For example, you can slice into multi-terabyte datasets stored on disk, as if they were real NumPy arrays. Thousands of datasets can be stored in a single file, categorized and tagged however you want."
   ]
  },
  {
   "cell_type": "code",
   "execution_count": 25,
   "metadata": {},
   "outputs": [
    {
     "name": "stdout",
     "output_type": "stream",
     "text": [
      "file not found, downloading from https://www.ebi.ac.uk/~stegle/limix/tutorials/data/BYxRM/BYxRM.hdf5\n"
     ]
    }
   ],
   "source": [
    "# First we download the data\n",
    "import sys\n",
    "sys.path.append('./..')\n",
    "import data as tutorial_data\n",
    "file_name = tutorial_data.get_file('BYxRM')"
   ]
  },
  {
   "cell_type": "markdown",
   "metadata": {},
   "source": [
    "An HDF5 file is a container for two kinds of objects: datasets, which are array-like collections of data, and groups, which are folder-like containers that hold datasets and other groups. The most fundamental thing to remember when using h5py is:\n",
    "\n",
    "**Groups work like dictionaries, and datasets work like NumPy arrays**\n",
    "\n",
    "Open an existing HDF5 file:"
   ]
  },
  {
   "cell_type": "code",
   "execution_count": 26,
   "metadata": {},
   "outputs": [],
   "source": [
    "import h5py\n",
    "f = h5py.File(file_name,'r')"
   ]
  },
  {
   "cell_type": "markdown",
   "metadata": {},
   "source": [
    "**HDF** stands for *Hierarchical Data Format*.   \n",
    "Every object in an HDF5 file has a name, and they’re arranged in a POSIX-style hierarchy with `/`-separators.  \n",
    "The “folders” in this system are called groups. The **File** object we created is itself a *group*, in this case the *root* group, named `/`  \n",
    "\n",
    "![hdf5_structure](https://www.neonscience.org/sites/default/files/images/HDF5/hdf5_structure4.jpg \"HDF5 structure\")\n",
    "\n",
    "What is stored in this file? \n",
    "Remember **h5py.File** acts like a Python dictionary, thus we can check the keys,"
   ]
  },
  {
   "cell_type": "code",
   "execution_count": 27,
   "metadata": {},
   "outputs": [
    {
     "data": {
      "text/plain": [
       "[u'genotype', u'phenotype']"
      ]
     },
     "execution_count": 27,
     "metadata": {},
     "output_type": "execute_result"
    }
   ],
   "source": [
    "list(f.keys())"
   ]
  },
  {
   "cell_type": "markdown",
   "metadata": {},
   "source": [
    "The root object contains two children (*genotype* and *phenotype*).  \n",
    "To find out what type (dataset or group) of object the *phenotype* is we can run: "
   ]
  },
  {
   "cell_type": "code",
   "execution_count": 28,
   "metadata": {},
   "outputs": [
    {
     "data": {
      "text/plain": [
       "<HDF5 group \"/phenotype\" (3 members)>"
      ]
     },
     "execution_count": 28,
     "metadata": {},
     "output_type": "execute_result"
    }
   ],
   "source": [
    "f['phenotype']"
   ]
  },
  {
   "cell_type": "markdown",
   "metadata": {},
   "source": [
    "It looks like the *phenotype* object itself is a group with 3 children"
   ]
  },
  {
   "cell_type": "code",
   "execution_count": 29,
   "metadata": {},
   "outputs": [
    {
     "data": {
      "text/plain": [
       "[u'col_header', u'matrix', u'row_header']"
      ]
     },
     "execution_count": 29,
     "metadata": {},
     "output_type": "execute_result"
    }
   ],
   "source": [
    "list(f['phenotype'].keys())"
   ]
  },
  {
   "cell_type": "markdown",
   "metadata": {},
   "source": [
    "An easy way to iterate over all elements of a HDF5 file is to use the visit method:"
   ]
  },
  {
   "cell_type": "code",
   "execution_count": 30,
   "metadata": {},
   "outputs": [
    {
     "name": "stdout",
     "output_type": "stream",
     "text": [
      "genotype: <HDF5 group \"/genotype\" (3 members)> \n",
      "genotype/col_header: <HDF5 group \"/genotype/col_header\" (3 members)> \n",
      "genotype/col_header/alleles: <HDF5 dataset \"alleles\": shape (11623, 2), type \"|S37\"> \n",
      "genotype/col_header/chrom: <HDF5 dataset \"chrom\": shape (11623,), type \"<i8\"> \n",
      "genotype/col_header/pos: <HDF5 dataset \"pos\": shape (11623,), type \"<i8\"> \n",
      "genotype/matrix: <HDF5 dataset \"matrix\": shape (1008, 11623), type \"|u1\"> \n",
      "genotype/row_header: <HDF5 group \"/genotype/row_header\" (1 members)> \n",
      "genotype/row_header/sample_ID: <HDF5 dataset \"sample_ID\": shape (1008,), type \"|S99\"> \n",
      "phenotype: <HDF5 group \"/phenotype\" (3 members)> \n",
      "phenotype/col_header: <HDF5 group \"/phenotype/col_header\" (1 members)> \n",
      "phenotype/col_header/phenotype_ID: <HDF5 dataset \"phenotype_ID\": shape (46,), type \"|S22\"> \n",
      "phenotype/matrix: <HDF5 dataset \"matrix\": shape (1008, 46), type \"<f8\"> \n",
      "phenotype/row_header: <HDF5 group \"/phenotype/row_header\" (1 members)> \n",
      "phenotype/row_header/sample_ID: <HDF5 dataset \"sample_ID\": shape (1008,), type \"|S22\"> \n"
     ]
    }
   ],
   "source": [
    "def printname(name):\n",
    "    print(\"%s: %s \" % (name, f[name]))\n",
    "f.visit(printname)"
   ]
  },
  {
   "cell_type": "markdown",
   "metadata": {},
   "source": [
    "Every object in an HDF5 file can have custom attributes which can be checked like any other dictionary:"
   ]
  },
  {
   "cell_type": "code",
   "execution_count": 31,
   "metadata": {},
   "outputs": [
    {
     "data": {
      "text/plain": [
       "[]"
      ]
     },
     "execution_count": 31,
     "metadata": {},
     "output_type": "execute_result"
    }
   ],
   "source": [
    "list(f['phenotype']['matrix'].attrs.keys())"
   ]
  },
  {
   "cell_type": "markdown",
   "metadata": {},
   "source": [
    "Let us examine the *phenotype/matrix* dataset as a `Dataset` object.   \n",
    "The object we obtained isn’t an array, but an *HDF5* dataset. Like *NumPy* arrays, datasets have both a *shape* and a *data type*:"
   ]
  },
  {
   "cell_type": "code",
   "execution_count": 32,
   "metadata": {},
   "outputs": [
    {
     "name": "stdout",
     "output_type": "stream",
     "text": [
      "shape: (1008,46)\n",
      "dtype: float64\n"
     ]
    }
   ],
   "source": [
    "dset = f['phenotype/matrix']\n",
    "print('shape: (%s,%s)' % dset.shape)\n",
    "print('dtype: %s' % dset.dtype)"
   ]
  },
  {
   "cell_type": "markdown",
   "metadata": {},
   "source": [
    "They also support array-style slicing. This is how you read and write data from a dataset in the file. "
   ]
  },
  {
   "cell_type": "code",
   "execution_count": 33,
   "metadata": {},
   "outputs": [
    {
     "data": {
      "text/plain": [
       "array([ 2.24597261,  2.6897812 , -0.46048117,  0.03086018, -0.29291799,\n",
       "       -1.09117648,  0.70117087, -0.86986989, -0.13682744, -0.28441332])"
      ]
     },
     "execution_count": 33,
     "metadata": {},
     "output_type": "execute_result"
    }
   ],
   "source": [
    "# retrieve all rows between 10 and 20 for the the second column\n",
    "dset[10:20, 2]"
   ]
  },
  {
   "cell_type": "markdown",
   "metadata": {},
   "source": [
    "When filtering/slicing/indexing rows and columns of a dataset, not the entire dataset is loaded into the main memory. This is very useful if you need to retrieve a subset of the data from a terabyte big HDF5 file.  \n",
    "To read the entire dataset into the memory run:"
   ]
  },
  {
   "cell_type": "code",
   "execution_count": 34,
   "metadata": {},
   "outputs": [
    {
     "data": {
      "text/plain": [
       "array([[-7.32351971e+00,  2.79992827e-01,  3.13118166e-01, ...,\n",
       "         8.90841948e-01,  4.11837231e+00,  8.59281836e+00],\n",
       "       [-8.09823582e+00, -2.06326076e-01, -5.34843783e-01, ...,\n",
       "         6.06164117e-03,  6.65150029e-02, -4.22047646e+00],\n",
       "       [ 7.60571968e+00, -1.27959825e-01, -3.11102424e-01, ...,\n",
       "         1.72315729e+00,  5.71408803e+00, -6.50651895e+00],\n",
       "       ...,\n",
       "       [            nan,  3.21844466e-01,             nan, ...,\n",
       "         1.80142187e+00,             nan, -4.99069190e-01],\n",
       "       [            nan, -1.00150686e+00,             nan, ...,\n",
       "        -1.74752575e+00,             nan, -7.43596147e+00],\n",
       "       [            nan,             nan,             nan, ...,\n",
       "                    nan,             nan,             nan]])"
      ]
     },
     "execution_count": 34,
     "metadata": {},
     "output_type": "execute_result"
    }
   ],
   "source": [
    "dset[:]"
   ]
  },
  {
   "cell_type": "code",
   "execution_count": 35,
   "metadata": {},
   "outputs": [
    {
     "name": "stdout",
     "output_type": "stream",
     "text": [
      "<type 'numpy.ndarray'>\n"
     ]
    },
    {
     "data": {
      "text/plain": [
       "array([[-7.32351971e+00,  2.79992827e-01,  3.13118166e-01, ...,\n",
       "         8.90841948e-01,  4.11837231e+00,  8.59281836e+00],\n",
       "       [-8.09823582e+00, -2.06326076e-01, -5.34843783e-01, ...,\n",
       "         6.06164117e-03,  6.65150029e-02, -4.22047646e+00],\n",
       "       [ 7.60571968e+00, -1.27959825e-01, -3.11102424e-01, ...,\n",
       "         1.72315729e+00,  5.71408803e+00, -6.50651895e+00],\n",
       "       ...,\n",
       "       [            nan,  3.21844466e-01,             nan, ...,\n",
       "         1.80142187e+00,             nan, -4.99069190e-01],\n",
       "       [            nan, -1.00150686e+00,             nan, ...,\n",
       "        -1.74752575e+00,             nan, -7.43596147e+00],\n",
       "       [            nan,             nan,             nan, ...,\n",
       "                    nan,             nan,             nan]])"
      ]
     },
     "execution_count": 35,
     "metadata": {},
     "output_type": "execute_result"
    }
   ],
   "source": [
    "arr = dset[:]\n",
    "print(type(arr))\n",
    "arr"
   ]
  },
  {
   "cell_type": "markdown",
   "metadata": {},
   "source": [
    "---\n",
    "## Pandas\n",
    "\n",
    "Similar to *NumPy*, *Pandas* is one of the most widely used python libraries in data science. It provides high-performance, easy to use structures and data analysis tools. Unlike *NumPy* library which provides objects for multi-dimensional arrays, *Pandas* provides in-memory 2d table object called *Dataframe*. It is like a spreadsheet with column names and row label.  \n",
    "\n",
    "Some commonly used data structures in pandas are:\n",
    "\n",
    "- *Series* objects: 1D array, similar to a column in a spreadsheet\n",
    "- *DataFrame* objects: 2D table, similar to a spreadsheet\n",
    "- *Panel* objects: Dictionary of DataFrames, similar to sheet in MS Excel\n",
    "\n",
    "Pandas can be imported into Python using:"
   ]
  },
  {
   "cell_type": "code",
   "execution_count": 36,
   "metadata": {},
   "outputs": [],
   "source": [
    "import pandas as pd"
   ]
  },
  {
   "cell_type": "markdown",
   "metadata": {},
   "source": [
    "### Pandas Series\n",
    "\n",
    "Pandas Series object is created using *pd.Series* function. Each row is provided with an index and by defaults is assigned numerical values starting from *0*. Like *NumPy*, Pandas also provide the basic mathematical functionalities like addition, subtraction and conditional operations and broadcasting."
   ]
  },
  {
   "cell_type": "code",
   "execution_count": 37,
   "metadata": {},
   "outputs": [
    {
     "name": "stdout",
     "output_type": "stream",
     "text": [
      "alice       68\n",
      "bob         83\n",
      "charles    112\n",
      "dtype: int64\n",
      "---\n",
      "[ 68  83 112]\n"
     ]
    }
   ],
   "source": [
    "weight = pd.Series([68, 83, 112],index=[\"alice\", \"bob\", \"charles\"])\n",
    "birthyear = pd.Series([1984, 1985, 1992], index=[\"bob\", \"alice\", \"charles\"], name=\"year\")\n",
    "children = pd.Series([0, 3], index=[\"charles\", \"bob\"])\n",
    "hobby = pd.Series([\"Biking\", \"Dancing\"], index=[\"alice\", \"bob\"])\n",
    "print(weight)\n",
    "print('---')\n",
    "print(weight.values)"
   ]
  },
  {
   "cell_type": "markdown",
   "metadata": {},
   "source": [
    "For a lot of applications, a plain old *Series* is probably not a lot of use, but it is the core component of the Pandas workhorse, the *DataFrame*, so it’s useful to know about.   \n",
    "\n",
    "The *DataFrame* represents tabular data, a bit like a spreadsheet. *DataFrames* are organised into colums (each of which is a *Series*), and each column can store a single data-type, such as floating point numbers, strings, boolean values etc. *DataFrames* can be indexed by either their row or column names. (They are similar in many ways to R’s `data.frame`.).  \n",
    "\n",
    "We can create a *DataFrame* in *Pandas* from a Python dictionary, or by loading in a text file containing tabular data. First we are going to look at how to create one from a dictionary.\n"
   ]
  },
  {
   "cell_type": "code",
   "execution_count": 38,
   "metadata": {},
   "outputs": [
    {
     "data": {
      "text/html": [
       "<div>\n",
       "<style scoped>\n",
       "    .dataframe tbody tr th:only-of-type {\n",
       "        vertical-align: middle;\n",
       "    }\n",
       "\n",
       "    .dataframe tbody tr th {\n",
       "        vertical-align: top;\n",
       "    }\n",
       "\n",
       "    .dataframe thead th {\n",
       "        text-align: right;\n",
       "    }\n",
       "</style>\n",
       "<table border=\"1\" class=\"dataframe\">\n",
       "  <thead>\n",
       "    <tr style=\"text-align: right;\">\n",
       "      <th></th>\n",
       "      <th>birthyear</th>\n",
       "      <th>children</th>\n",
       "      <th>hobby</th>\n",
       "      <th>weight</th>\n",
       "    </tr>\n",
       "  </thead>\n",
       "  <tbody>\n",
       "    <tr>\n",
       "      <th>alice</th>\n",
       "      <td>1985</td>\n",
       "      <td>NaN</td>\n",
       "      <td>Biking</td>\n",
       "      <td>68</td>\n",
       "    </tr>\n",
       "    <tr>\n",
       "      <th>bob</th>\n",
       "      <td>1984</td>\n",
       "      <td>3.0</td>\n",
       "      <td>Dancing</td>\n",
       "      <td>83</td>\n",
       "    </tr>\n",
       "    <tr>\n",
       "      <th>charles</th>\n",
       "      <td>1992</td>\n",
       "      <td>0.0</td>\n",
       "      <td>NaN</td>\n",
       "      <td>112</td>\n",
       "    </tr>\n",
       "  </tbody>\n",
       "</table>\n",
       "</div>"
      ],
      "text/plain": [
       "         birthyear  children    hobby  weight\n",
       "alice         1985       NaN   Biking      68\n",
       "bob           1984       3.0  Dancing      83\n",
       "charles       1992       0.0      NaN     112"
      ]
     },
     "execution_count": 38,
     "metadata": {},
     "output_type": "execute_result"
    }
   ],
   "source": [
    "df = pd.DataFrame({'weight': weight, 'birthyear': birthyear, 'children': children, 'hobby': hobby})\n",
    "df"
   ]
  },
  {
   "cell_type": "markdown",
   "metadata": {},
   "source": [
    "An alternative way to create a *DataFrame* is to load it from existing files. There are various loading function to load data from different file sources which can be found [here](https://pandas.pydata.org/pandas-docs/stable/api.html#input-output). The most important ones are:\n",
    "- *pd.read_pickle*: Load pickled pandas object (or any object) from file\n",
    "- *pd.read_csv*: Read CSV (comma-separated) file into DataFrame\n",
    "- *pd.read_json*: Convert a JSON string to pandas object\n",
    "- *pd.read_excel*: Read an Excel table into a pandas DataFrame\n",
    "- *pd.read_hdf*: Read from the HDF5 file (PyTasbles format)\n",
    "\n",
    "Let's return now to our HDF5 file that we previously examined.\n",
    "The *phenotype* group contains 3 datasets:"
   ]
  },
  {
   "cell_type": "code",
   "execution_count": 39,
   "metadata": {},
   "outputs": [
    {
     "name": "stdout",
     "output_type": "stream",
     "text": [
      "[u'col_header', u'matrix', u'row_header']\n",
      "<HDF5 dataset \"phenotype_ID\": shape (46,), type \"|S22\">\n",
      "<HDF5 dataset \"sample_ID\": shape (1008,), type \"|S22\">\n"
     ]
    }
   ],
   "source": [
    "print(list(f['phenotype'].keys()))\n",
    "print(f['phenotype/col_header/phenotype_ID'])\n",
    "print(f['phenotype/row_header/sample_ID'])"
   ]
  },
  {
   "cell_type": "markdown",
   "metadata": {},
   "source": [
    "This seems to be a phenotype matrix where the *matrix* dataset contains the 2d array with the phenotype values and the *col_header/phenotype_ID* contains the phenotype names and the *row_header/sample_ID* contains the accession ids.  \n",
    "We can construct a Panda *dataframe* in the following way:"
   ]
  },
  {
   "cell_type": "code",
   "execution_count": 40,
   "metadata": {},
   "outputs": [],
   "source": [
    "pheno_group = f['phenotype']\n",
    "df = pd.DataFrame(pheno_group['matrix'][:], \n",
    "                        columns=pheno_group['col_header']['phenotype_ID'][:],\n",
    "                        index=pheno_group['row_header']['sample_ID'][:])\n"
   ]
  },
  {
   "cell_type": "markdown",
   "metadata": {},
   "source": [
    "**Dataframes** have some essential methods to access the data:\n",
    "- **head()**: returns the top 5 rows in the dataframe object\n",
    "- **tail()**: returns the bottom 5 rows in the dataframe\n",
    "- **info()**: prints the summary of the dataframe\n",
    "- **describe()**: gives a nice overview of the main aggregated values over each column"
   ]
  },
  {
   "cell_type": "code",
   "execution_count": 41,
   "metadata": {},
   "outputs": [
    {
     "data": {
      "text/html": [
       "<div>\n",
       "<style scoped>\n",
       "    .dataframe tbody tr th:only-of-type {\n",
       "        vertical-align: middle;\n",
       "    }\n",
       "\n",
       "    .dataframe tbody tr th {\n",
       "        vertical-align: top;\n",
       "    }\n",
       "\n",
       "    .dataframe thead th {\n",
       "        text-align: right;\n",
       "    }\n",
       "</style>\n",
       "<table border=\"1\" class=\"dataframe\">\n",
       "  <thead>\n",
       "    <tr style=\"text-align: right;\">\n",
       "      <th></th>\n",
       "      <th>Cadmium_Chloride</th>\n",
       "      <th>Caffeine</th>\n",
       "      <th>Calcium_Chloride</th>\n",
       "      <th>Cisplatin</th>\n",
       "      <th>Cobalt_Chloride</th>\n",
       "      <th>Congo_red</th>\n",
       "      <th>Copper</th>\n",
       "      <th>Cycloheximide</th>\n",
       "      <th>Diamide</th>\n",
       "      <th>E6_Berbamine</th>\n",
       "      <th>...</th>\n",
       "      <th>x6-Azauracil</th>\n",
       "      <th>Xylose</th>\n",
       "      <th>YNB</th>\n",
       "      <th>YNB:ph3</th>\n",
       "      <th>YNB:ph8</th>\n",
       "      <th>YPD</th>\n",
       "      <th>YPD:15C</th>\n",
       "      <th>YPD:37C</th>\n",
       "      <th>YPD:4C</th>\n",
       "      <th>Zeocin</th>\n",
       "    </tr>\n",
       "  </thead>\n",
       "  <tbody>\n",
       "    <tr>\n",
       "      <th>A01_01</th>\n",
       "      <td>-7.323520</td>\n",
       "      <td>0.279993</td>\n",
       "      <td>0.313118</td>\n",
       "      <td>1.658179</td>\n",
       "      <td>-1.604442</td>\n",
       "      <td>5.841617</td>\n",
       "      <td>-4.130950</td>\n",
       "      <td>0.821226</td>\n",
       "      <td>3.622602</td>\n",
       "      <td>-0.378747</td>\n",
       "      <td>...</td>\n",
       "      <td>1.199054</td>\n",
       "      <td>-0.309149</td>\n",
       "      <td>17.470822</td>\n",
       "      <td>0.055225</td>\n",
       "      <td>-0.184268</td>\n",
       "      <td>24.548971</td>\n",
       "      <td>0.712171</td>\n",
       "      <td>0.890842</td>\n",
       "      <td>4.118372</td>\n",
       "      <td>8.592818</td>\n",
       "    </tr>\n",
       "    <tr>\n",
       "      <th>A01_02</th>\n",
       "      <td>-8.098236</td>\n",
       "      <td>-0.206326</td>\n",
       "      <td>-0.534844</td>\n",
       "      <td>-0.918012</td>\n",
       "      <td>0.892198</td>\n",
       "      <td>-1.618172</td>\n",
       "      <td>1.131947</td>\n",
       "      <td>-0.764736</td>\n",
       "      <td>-2.946279</td>\n",
       "      <td>-2.475193</td>\n",
       "      <td>...</td>\n",
       "      <td>0.443182</td>\n",
       "      <td>0.697908</td>\n",
       "      <td>18.052925</td>\n",
       "      <td>0.283462</td>\n",
       "      <td>1.662201</td>\n",
       "      <td>26.808476</td>\n",
       "      <td>-1.522498</td>\n",
       "      <td>0.006062</td>\n",
       "      <td>0.066515</td>\n",
       "      <td>-4.220476</td>\n",
       "    </tr>\n",
       "    <tr>\n",
       "      <th>A01_03</th>\n",
       "      <td>7.605720</td>\n",
       "      <td>-0.127960</td>\n",
       "      <td>-0.311102</td>\n",
       "      <td>-2.712088</td>\n",
       "      <td>3.301709</td>\n",
       "      <td>-6.680571</td>\n",
       "      <td>-1.138056</td>\n",
       "      <td>-3.382532</td>\n",
       "      <td>-3.157866</td>\n",
       "      <td>-4.178616</td>\n",
       "      <td>...</td>\n",
       "      <td>1.472629</td>\n",
       "      <td>1.474329</td>\n",
       "      <td>18.163782</td>\n",
       "      <td>-0.951379</td>\n",
       "      <td>0.369565</td>\n",
       "      <td>26.183975</td>\n",
       "      <td>1.082289</td>\n",
       "      <td>1.723157</td>\n",
       "      <td>5.714088</td>\n",
       "      <td>-6.506519</td>\n",
       "    </tr>\n",
       "    <tr>\n",
       "      <th>A01_04</th>\n",
       "      <td>-6.147649</td>\n",
       "      <td>0.878392</td>\n",
       "      <td>-0.563331</td>\n",
       "      <td>-0.827358</td>\n",
       "      <td>-1.291270</td>\n",
       "      <td>2.753851</td>\n",
       "      <td>-2.268121</td>\n",
       "      <td>0.867456</td>\n",
       "      <td>-6.832079</td>\n",
       "      <td>-1.970630</td>\n",
       "      <td>...</td>\n",
       "      <td>0.054694</td>\n",
       "      <td>-0.739040</td>\n",
       "      <td>15.575856</td>\n",
       "      <td>-1.690867</td>\n",
       "      <td>-0.840344</td>\n",
       "      <td>20.893646</td>\n",
       "      <td>-0.636280</td>\n",
       "      <td>0.053258</td>\n",
       "      <td>-3.196936</td>\n",
       "      <td>0.294462</td>\n",
       "    </tr>\n",
       "    <tr>\n",
       "      <th>A01_05</th>\n",
       "      <td>9.379060</td>\n",
       "      <td>-1.353169</td>\n",
       "      <td>0.405204</td>\n",
       "      <td>-1.137234</td>\n",
       "      <td>4.260286</td>\n",
       "      <td>-7.391216</td>\n",
       "      <td>-3.222742</td>\n",
       "      <td>1.586376</td>\n",
       "      <td>1.048391</td>\n",
       "      <td>-3.971730</td>\n",
       "      <td>...</td>\n",
       "      <td>0.267463</td>\n",
       "      <td>0.959138</td>\n",
       "      <td>17.808444</td>\n",
       "      <td>0.127621</td>\n",
       "      <td>1.967267</td>\n",
       "      <td>28.621507</td>\n",
       "      <td>-3.720999</td>\n",
       "      <td>-0.768724</td>\n",
       "      <td>-4.002786</td>\n",
       "      <td>7.045575</td>\n",
       "    </tr>\n",
       "    <tr>\n",
       "      <th>A01_06</th>\n",
       "      <td>9.394562</td>\n",
       "      <td>1.655436</td>\n",
       "      <td>0.531654</td>\n",
       "      <td>-2.044903</td>\n",
       "      <td>1.577325</td>\n",
       "      <td>-5.769939</td>\n",
       "      <td>1.355905</td>\n",
       "      <td>2.336068</td>\n",
       "      <td>4.038331</td>\n",
       "      <td>-2.917101</td>\n",
       "      <td>...</td>\n",
       "      <td>0.591233</td>\n",
       "      <td>-0.134019</td>\n",
       "      <td>16.085601</td>\n",
       "      <td>-0.100294</td>\n",
       "      <td>0.710547</td>\n",
       "      <td>23.549116</td>\n",
       "      <td>-2.680231</td>\n",
       "      <td>2.025716</td>\n",
       "      <td>-0.889829</td>\n",
       "      <td>-4.108786</td>\n",
       "    </tr>\n",
       "    <tr>\n",
       "      <th>A01_07</th>\n",
       "      <td>-7.229972</td>\n",
       "      <td>-1.423605</td>\n",
       "      <td>-0.007546</td>\n",
       "      <td>-1.714243</td>\n",
       "      <td>0.954948</td>\n",
       "      <td>2.111495</td>\n",
       "      <td>0.590067</td>\n",
       "      <td>1.415252</td>\n",
       "      <td>-4.861309</td>\n",
       "      <td>-4.082216</td>\n",
       "      <td>...</td>\n",
       "      <td>-0.330839</td>\n",
       "      <td>0.294128</td>\n",
       "      <td>16.472448</td>\n",
       "      <td>-0.612281</td>\n",
       "      <td>-0.242591</td>\n",
       "      <td>23.901629</td>\n",
       "      <td>-1.834152</td>\n",
       "      <td>-3.487390</td>\n",
       "      <td>3.618048</td>\n",
       "      <td>-0.035142</td>\n",
       "    </tr>\n",
       "    <tr>\n",
       "      <th>A01_08</th>\n",
       "      <td>-7.585476</td>\n",
       "      <td>1.750342</td>\n",
       "      <td>0.941181</td>\n",
       "      <td>0.306306</td>\n",
       "      <td>-2.997501</td>\n",
       "      <td>0.063007</td>\n",
       "      <td>-4.352137</td>\n",
       "      <td>2.634605</td>\n",
       "      <td>3.147146</td>\n",
       "      <td>8.292883</td>\n",
       "      <td>...</td>\n",
       "      <td>0.043294</td>\n",
       "      <td>-0.826648</td>\n",
       "      <td>16.210856</td>\n",
       "      <td>NaN</td>\n",
       "      <td>-0.538390</td>\n",
       "      <td>23.595423</td>\n",
       "      <td>-1.449024</td>\n",
       "      <td>1.679693</td>\n",
       "      <td>-2.227455</td>\n",
       "      <td>-5.773160</td>\n",
       "    </tr>\n",
       "    <tr>\n",
       "      <th>A01_09</th>\n",
       "      <td>-7.890982</td>\n",
       "      <td>-0.559696</td>\n",
       "      <td>-1.396937</td>\n",
       "      <td>-0.879233</td>\n",
       "      <td>-1.044798</td>\n",
       "      <td>-6.214873</td>\n",
       "      <td>0.211404</td>\n",
       "      <td>-0.006420</td>\n",
       "      <td>-9.470146</td>\n",
       "      <td>-4.480685</td>\n",
       "      <td>...</td>\n",
       "      <td>-0.048497</td>\n",
       "      <td>-0.483113</td>\n",
       "      <td>15.161760</td>\n",
       "      <td>-0.035535</td>\n",
       "      <td>-0.398174</td>\n",
       "      <td>22.693341</td>\n",
       "      <td>-1.580512</td>\n",
       "      <td>-1.320567</td>\n",
       "      <td>-4.863302</td>\n",
       "      <td>9.024782</td>\n",
       "    </tr>\n",
       "    <tr>\n",
       "      <th>A01_10</th>\n",
       "      <td>-8.144131</td>\n",
       "      <td>-2.787328</td>\n",
       "      <td>-1.111711</td>\n",
       "      <td>-0.239611</td>\n",
       "      <td>-2.933533</td>\n",
       "      <td>1.231604</td>\n",
       "      <td>1.397043</td>\n",
       "      <td>2.405056</td>\n",
       "      <td>8.532335</td>\n",
       "      <td>14.355684</td>\n",
       "      <td>...</td>\n",
       "      <td>0.685319</td>\n",
       "      <td>-0.594544</td>\n",
       "      <td>16.388451</td>\n",
       "      <td>-0.742849</td>\n",
       "      <td>-0.427930</td>\n",
       "      <td>23.697733</td>\n",
       "      <td>-2.967864</td>\n",
       "      <td>-1.553708</td>\n",
       "      <td>-5.314155</td>\n",
       "      <td>-1.229565</td>\n",
       "    </tr>\n",
       "  </tbody>\n",
       "</table>\n",
       "<p>10 rows × 46 columns</p>\n",
       "</div>"
      ],
      "text/plain": [
       "        Cadmium_Chloride  Caffeine  Calcium_Chloride  Cisplatin  \\\n",
       "A01_01         -7.323520  0.279993          0.313118   1.658179   \n",
       "A01_02         -8.098236 -0.206326         -0.534844  -0.918012   \n",
       "A01_03          7.605720 -0.127960         -0.311102  -2.712088   \n",
       "A01_04         -6.147649  0.878392         -0.563331  -0.827358   \n",
       "A01_05          9.379060 -1.353169          0.405204  -1.137234   \n",
       "A01_06          9.394562  1.655436          0.531654  -2.044903   \n",
       "A01_07         -7.229972 -1.423605         -0.007546  -1.714243   \n",
       "A01_08         -7.585476  1.750342          0.941181   0.306306   \n",
       "A01_09         -7.890982 -0.559696         -1.396937  -0.879233   \n",
       "A01_10         -8.144131 -2.787328         -1.111711  -0.239611   \n",
       "\n",
       "        Cobalt_Chloride  Congo_red    Copper  Cycloheximide   Diamide  \\\n",
       "A01_01        -1.604442   5.841617 -4.130950       0.821226  3.622602   \n",
       "A01_02         0.892198  -1.618172  1.131947      -0.764736 -2.946279   \n",
       "A01_03         3.301709  -6.680571 -1.138056      -3.382532 -3.157866   \n",
       "A01_04        -1.291270   2.753851 -2.268121       0.867456 -6.832079   \n",
       "A01_05         4.260286  -7.391216 -3.222742       1.586376  1.048391   \n",
       "A01_06         1.577325  -5.769939  1.355905       2.336068  4.038331   \n",
       "A01_07         0.954948   2.111495  0.590067       1.415252 -4.861309   \n",
       "A01_08        -2.997501   0.063007 -4.352137       2.634605  3.147146   \n",
       "A01_09        -1.044798  -6.214873  0.211404      -0.006420 -9.470146   \n",
       "A01_10        -2.933533   1.231604  1.397043       2.405056  8.532335   \n",
       "\n",
       "        E6_Berbamine    ...     x6-Azauracil    Xylose        YNB   YNB:ph3  \\\n",
       "A01_01     -0.378747    ...         1.199054 -0.309149  17.470822  0.055225   \n",
       "A01_02     -2.475193    ...         0.443182  0.697908  18.052925  0.283462   \n",
       "A01_03     -4.178616    ...         1.472629  1.474329  18.163782 -0.951379   \n",
       "A01_04     -1.970630    ...         0.054694 -0.739040  15.575856 -1.690867   \n",
       "A01_05     -3.971730    ...         0.267463  0.959138  17.808444  0.127621   \n",
       "A01_06     -2.917101    ...         0.591233 -0.134019  16.085601 -0.100294   \n",
       "A01_07     -4.082216    ...        -0.330839  0.294128  16.472448 -0.612281   \n",
       "A01_08      8.292883    ...         0.043294 -0.826648  16.210856       NaN   \n",
       "A01_09     -4.480685    ...        -0.048497 -0.483113  15.161760 -0.035535   \n",
       "A01_10     14.355684    ...         0.685319 -0.594544  16.388451 -0.742849   \n",
       "\n",
       "         YNB:ph8        YPD   YPD:15C   YPD:37C    YPD:4C    Zeocin  \n",
       "A01_01 -0.184268  24.548971  0.712171  0.890842  4.118372  8.592818  \n",
       "A01_02  1.662201  26.808476 -1.522498  0.006062  0.066515 -4.220476  \n",
       "A01_03  0.369565  26.183975  1.082289  1.723157  5.714088 -6.506519  \n",
       "A01_04 -0.840344  20.893646 -0.636280  0.053258 -3.196936  0.294462  \n",
       "A01_05  1.967267  28.621507 -3.720999 -0.768724 -4.002786  7.045575  \n",
       "A01_06  0.710547  23.549116 -2.680231  2.025716 -0.889829 -4.108786  \n",
       "A01_07 -0.242591  23.901629 -1.834152 -3.487390  3.618048 -0.035142  \n",
       "A01_08 -0.538390  23.595423 -1.449024  1.679693 -2.227455 -5.773160  \n",
       "A01_09 -0.398174  22.693341 -1.580512 -1.320567 -4.863302  9.024782  \n",
       "A01_10 -0.427930  23.697733 -2.967864 -1.553708 -5.314155 -1.229565  \n",
       "\n",
       "[10 rows x 46 columns]"
      ]
     },
     "execution_count": 41,
     "metadata": {},
     "output_type": "execute_result"
    }
   ],
   "source": [
    "# retrieve first 10 rows\n",
    "df.head(10)"
   ]
  },
  {
   "cell_type": "code",
   "execution_count": 42,
   "metadata": {},
   "outputs": [
    {
     "data": {
      "text/html": [
       "<div>\n",
       "<style scoped>\n",
       "    .dataframe tbody tr th:only-of-type {\n",
       "        vertical-align: middle;\n",
       "    }\n",
       "\n",
       "    .dataframe tbody tr th {\n",
       "        vertical-align: top;\n",
       "    }\n",
       "\n",
       "    .dataframe thead th {\n",
       "        text-align: right;\n",
       "    }\n",
       "</style>\n",
       "<table border=\"1\" class=\"dataframe\">\n",
       "  <thead>\n",
       "    <tr style=\"text-align: right;\">\n",
       "      <th></th>\n",
       "      <th>Cadmium_Chloride</th>\n",
       "      <th>Caffeine</th>\n",
       "      <th>Calcium_Chloride</th>\n",
       "      <th>Cisplatin</th>\n",
       "      <th>Cobalt_Chloride</th>\n",
       "      <th>Congo_red</th>\n",
       "      <th>Copper</th>\n",
       "      <th>Cycloheximide</th>\n",
       "      <th>Diamide</th>\n",
       "      <th>E6_Berbamine</th>\n",
       "      <th>...</th>\n",
       "      <th>x6-Azauracil</th>\n",
       "      <th>Xylose</th>\n",
       "      <th>YNB</th>\n",
       "      <th>YNB:ph3</th>\n",
       "      <th>YNB:ph8</th>\n",
       "      <th>YPD</th>\n",
       "      <th>YPD:15C</th>\n",
       "      <th>YPD:37C</th>\n",
       "      <th>YPD:4C</th>\n",
       "      <th>Zeocin</th>\n",
       "    </tr>\n",
       "  </thead>\n",
       "  <tbody>\n",
       "    <tr>\n",
       "      <th>A11_92</th>\n",
       "      <td>-4.262720</td>\n",
       "      <td>-0.893290</td>\n",
       "      <td>-0.329504</td>\n",
       "      <td>0.257061</td>\n",
       "      <td>-3.120957</td>\n",
       "      <td>2.556543</td>\n",
       "      <td>2.567092</td>\n",
       "      <td>2.054232</td>\n",
       "      <td>1.672347</td>\n",
       "      <td>5.465978</td>\n",
       "      <td>...</td>\n",
       "      <td>0.232614</td>\n",
       "      <td>1.130568</td>\n",
       "      <td>16.629005</td>\n",
       "      <td>0.531583</td>\n",
       "      <td>NaN</td>\n",
       "      <td>23.520842</td>\n",
       "      <td>0.159946</td>\n",
       "      <td>-5.158120</td>\n",
       "      <td>-0.090273</td>\n",
       "      <td>-7.030154</td>\n",
       "    </tr>\n",
       "    <tr>\n",
       "      <th>A11_93</th>\n",
       "      <td>-10.147285</td>\n",
       "      <td>1.145573</td>\n",
       "      <td>0.048948</td>\n",
       "      <td>-1.089350</td>\n",
       "      <td>0.539833</td>\n",
       "      <td>2.720952</td>\n",
       "      <td>-3.445357</td>\n",
       "      <td>0.891066</td>\n",
       "      <td>3.003684</td>\n",
       "      <td>-1.667592</td>\n",
       "      <td>...</td>\n",
       "      <td>-0.317916</td>\n",
       "      <td>1.977915</td>\n",
       "      <td>15.687951</td>\n",
       "      <td>-0.098451</td>\n",
       "      <td>NaN</td>\n",
       "      <td>21.553930</td>\n",
       "      <td>2.977722</td>\n",
       "      <td>-1.913176</td>\n",
       "      <td>4.279626</td>\n",
       "      <td>-4.650492</td>\n",
       "    </tr>\n",
       "    <tr>\n",
       "      <th>A11_94</th>\n",
       "      <td>NaN</td>\n",
       "      <td>0.321844</td>\n",
       "      <td>NaN</td>\n",
       "      <td>1.016712</td>\n",
       "      <td>1.801923</td>\n",
       "      <td>-4.157083</td>\n",
       "      <td>-0.097598</td>\n",
       "      <td>-1.954080</td>\n",
       "      <td>-1.739499</td>\n",
       "      <td>-6.520551</td>\n",
       "      <td>...</td>\n",
       "      <td>-1.698334</td>\n",
       "      <td>1.363267</td>\n",
       "      <td>17.357844</td>\n",
       "      <td>0.390511</td>\n",
       "      <td>NaN</td>\n",
       "      <td>23.977236</td>\n",
       "      <td>0.078992</td>\n",
       "      <td>1.801422</td>\n",
       "      <td>NaN</td>\n",
       "      <td>-0.499069</td>\n",
       "    </tr>\n",
       "    <tr>\n",
       "      <th>A11_95</th>\n",
       "      <td>NaN</td>\n",
       "      <td>-1.001507</td>\n",
       "      <td>NaN</td>\n",
       "      <td>0.004191</td>\n",
       "      <td>4.675717</td>\n",
       "      <td>-10.240998</td>\n",
       "      <td>1.244410</td>\n",
       "      <td>-0.810857</td>\n",
       "      <td>2.305318</td>\n",
       "      <td>9.321186</td>\n",
       "      <td>...</td>\n",
       "      <td>0.259829</td>\n",
       "      <td>0.942454</td>\n",
       "      <td>17.098753</td>\n",
       "      <td>-0.432459</td>\n",
       "      <td>NaN</td>\n",
       "      <td>22.927686</td>\n",
       "      <td>-0.254905</td>\n",
       "      <td>-1.747526</td>\n",
       "      <td>NaN</td>\n",
       "      <td>-7.435961</td>\n",
       "    </tr>\n",
       "    <tr>\n",
       "      <th>A11_96</th>\n",
       "      <td>NaN</td>\n",
       "      <td>NaN</td>\n",
       "      <td>NaN</td>\n",
       "      <td>NaN</td>\n",
       "      <td>-0.155556</td>\n",
       "      <td>NaN</td>\n",
       "      <td>2.603438</td>\n",
       "      <td>-0.026752</td>\n",
       "      <td>NaN</td>\n",
       "      <td>NaN</td>\n",
       "      <td>...</td>\n",
       "      <td>NaN</td>\n",
       "      <td>1.776737</td>\n",
       "      <td>17.924399</td>\n",
       "      <td>-0.165314</td>\n",
       "      <td>NaN</td>\n",
       "      <td>NaN</td>\n",
       "      <td>1.553372</td>\n",
       "      <td>NaN</td>\n",
       "      <td>NaN</td>\n",
       "      <td>NaN</td>\n",
       "    </tr>\n",
       "  </tbody>\n",
       "</table>\n",
       "<p>5 rows × 46 columns</p>\n",
       "</div>"
      ],
      "text/plain": [
       "        Cadmium_Chloride  Caffeine  Calcium_Chloride  Cisplatin  \\\n",
       "A11_92         -4.262720 -0.893290         -0.329504   0.257061   \n",
       "A11_93        -10.147285  1.145573          0.048948  -1.089350   \n",
       "A11_94               NaN  0.321844               NaN   1.016712   \n",
       "A11_95               NaN -1.001507               NaN   0.004191   \n",
       "A11_96               NaN       NaN               NaN        NaN   \n",
       "\n",
       "        Cobalt_Chloride  Congo_red    Copper  Cycloheximide   Diamide  \\\n",
       "A11_92        -3.120957   2.556543  2.567092       2.054232  1.672347   \n",
       "A11_93         0.539833   2.720952 -3.445357       0.891066  3.003684   \n",
       "A11_94         1.801923  -4.157083 -0.097598      -1.954080 -1.739499   \n",
       "A11_95         4.675717 -10.240998  1.244410      -0.810857  2.305318   \n",
       "A11_96        -0.155556        NaN  2.603438      -0.026752       NaN   \n",
       "\n",
       "        E6_Berbamine    ...     x6-Azauracil    Xylose        YNB   YNB:ph3  \\\n",
       "A11_92      5.465978    ...         0.232614  1.130568  16.629005  0.531583   \n",
       "A11_93     -1.667592    ...        -0.317916  1.977915  15.687951 -0.098451   \n",
       "A11_94     -6.520551    ...        -1.698334  1.363267  17.357844  0.390511   \n",
       "A11_95      9.321186    ...         0.259829  0.942454  17.098753 -0.432459   \n",
       "A11_96           NaN    ...              NaN  1.776737  17.924399 -0.165314   \n",
       "\n",
       "        YNB:ph8        YPD   YPD:15C   YPD:37C    YPD:4C    Zeocin  \n",
       "A11_92      NaN  23.520842  0.159946 -5.158120 -0.090273 -7.030154  \n",
       "A11_93      NaN  21.553930  2.977722 -1.913176  4.279626 -4.650492  \n",
       "A11_94      NaN  23.977236  0.078992  1.801422       NaN -0.499069  \n",
       "A11_95      NaN  22.927686 -0.254905 -1.747526       NaN -7.435961  \n",
       "A11_96      NaN        NaN  1.553372       NaN       NaN       NaN  \n",
       "\n",
       "[5 rows x 46 columns]"
      ]
     },
     "execution_count": 42,
     "metadata": {},
     "output_type": "execute_result"
    }
   ],
   "source": [
    "# retrieve last 5 rows\n",
    "df.tail()"
   ]
  },
  {
   "cell_type": "code",
   "execution_count": 43,
   "metadata": {},
   "outputs": [
    {
     "name": "stdout",
     "output_type": "stream",
     "text": [
      "<class 'pandas.core.frame.DataFrame'>\n",
      "Index: 1008 entries, A01_01 to A11_96\n",
      "Data columns (total 46 columns):\n",
      "Cadmium_Chloride          799 non-null float64\n",
      "Caffeine                  1004 non-null float64\n",
      "Calcium_Chloride          949 non-null float64\n",
      "Cisplatin                 990 non-null float64\n",
      "Cobalt_Chloride           1007 non-null float64\n",
      "Congo_red                 979 non-null float64\n",
      "Copper                    972 non-null float64\n",
      "Cycloheximide             1004 non-null float64\n",
      "Diamide                   1003 non-null float64\n",
      "E6_Berbamine              1005 non-null float64\n",
      "Ethanol                   967 non-null float64\n",
      "Formamide                 999 non-null float64\n",
      "Galactose                 962 non-null float64\n",
      "Hydrogen_Peroxide         769 non-null float64\n",
      "Hydroquinone              960 non-null float64\n",
      "Hydroxyurea               944 non-null float64\n",
      "Indoleacetic_Acid         994 non-null float64\n",
      "Lactate                   973 non-null float64\n",
      "Lactose                   1004 non-null float64\n",
      "Lithium_Chloride          1002 non-null float64\n",
      "Magnesium_Chloride        964 non-null float64\n",
      "Magnesium_Sulfate         1006 non-null float64\n",
      "Maltose                   1005 non-null float64\n",
      "Mannose                   957 non-null float64\n",
      "Menadione                 1005 non-null float64\n",
      "Neomycin                  1005 non-null float64\n",
      "Paraquat                  1004 non-null float64\n",
      "Raffinose                 662 non-null float64\n",
      "SDS                       873 non-null float64\n",
      "Sorbitol                  599 non-null float64\n",
      "Trehalose                 1003 non-null float64\n",
      "Tunicamycin               1006 non-null float64\n",
      "x4-Hydroxybenzaldehyde    964 non-null float64\n",
      "x4NQO                     1005 non-null float64\n",
      "x5-Fluorocytosine         957 non-null float64\n",
      "x5-Fluorouracil           992 non-null float64\n",
      "x6-Azauracil              1001 non-null float64\n",
      "Xylose                    1003 non-null float64\n",
      "YNB                       1006 non-null float64\n",
      "YNB:ph3                   979 non-null float64\n",
      "YNB:ph8                   887 non-null float64\n",
      "YPD                       1006 non-null float64\n",
      "YPD:15C                   1005 non-null float64\n",
      "YPD:37C                   1003 non-null float64\n",
      "YPD:4C                    806 non-null float64\n",
      "Zeocin                    957 non-null float64\n",
      "dtypes: float64(46)\n",
      "memory usage: 370.1+ KB\n"
     ]
    }
   ],
   "source": [
    "# Summary of dataframe\n",
    "df.info()"
   ]
  },
  {
   "cell_type": "code",
   "execution_count": 44,
   "metadata": {},
   "outputs": [
    {
     "data": {
      "text/html": [
       "<div>\n",
       "<style scoped>\n",
       "    .dataframe tbody tr th:only-of-type {\n",
       "        vertical-align: middle;\n",
       "    }\n",
       "\n",
       "    .dataframe tbody tr th {\n",
       "        vertical-align: top;\n",
       "    }\n",
       "\n",
       "    .dataframe thead th {\n",
       "        text-align: right;\n",
       "    }\n",
       "</style>\n",
       "<table border=\"1\" class=\"dataframe\">\n",
       "  <thead>\n",
       "    <tr style=\"text-align: right;\">\n",
       "      <th></th>\n",
       "      <th>Cadmium_Chloride</th>\n",
       "      <th>Caffeine</th>\n",
       "      <th>Calcium_Chloride</th>\n",
       "      <th>Cisplatin</th>\n",
       "      <th>Cobalt_Chloride</th>\n",
       "      <th>Congo_red</th>\n",
       "      <th>Copper</th>\n",
       "      <th>Cycloheximide</th>\n",
       "      <th>Diamide</th>\n",
       "      <th>E6_Berbamine</th>\n",
       "      <th>...</th>\n",
       "      <th>x6-Azauracil</th>\n",
       "      <th>Xylose</th>\n",
       "      <th>YNB</th>\n",
       "      <th>YNB:ph3</th>\n",
       "      <th>YNB:ph8</th>\n",
       "      <th>YPD</th>\n",
       "      <th>YPD:15C</th>\n",
       "      <th>YPD:37C</th>\n",
       "      <th>YPD:4C</th>\n",
       "      <th>Zeocin</th>\n",
       "    </tr>\n",
       "  </thead>\n",
       "  <tbody>\n",
       "    <tr>\n",
       "      <th>count</th>\n",
       "      <td>799.000000</td>\n",
       "      <td>1004.000000</td>\n",
       "      <td>949.000000</td>\n",
       "      <td>990.000000</td>\n",
       "      <td>1007.000000</td>\n",
       "      <td>979.000000</td>\n",
       "      <td>972.000000</td>\n",
       "      <td>1004.000000</td>\n",
       "      <td>1003.000000</td>\n",
       "      <td>1005.000000</td>\n",
       "      <td>...</td>\n",
       "      <td>1001.000000</td>\n",
       "      <td>1003.000000</td>\n",
       "      <td>1006.000000</td>\n",
       "      <td>979.000000</td>\n",
       "      <td>887.000000</td>\n",
       "      <td>1006.000000</td>\n",
       "      <td>1005.000000</td>\n",
       "      <td>1003.000000</td>\n",
       "      <td>806.000000</td>\n",
       "      <td>957.000000</td>\n",
       "    </tr>\n",
       "    <tr>\n",
       "      <th>mean</th>\n",
       "      <td>-0.235763</td>\n",
       "      <td>0.056543</td>\n",
       "      <td>0.012039</td>\n",
       "      <td>-0.080343</td>\n",
       "      <td>-0.021220</td>\n",
       "      <td>-0.580926</td>\n",
       "      <td>0.067722</td>\n",
       "      <td>0.157040</td>\n",
       "      <td>0.139683</td>\n",
       "      <td>0.264369</td>\n",
       "      <td>...</td>\n",
       "      <td>0.112644</td>\n",
       "      <td>0.060641</td>\n",
       "      <td>16.315382</td>\n",
       "      <td>0.007996</td>\n",
       "      <td>0.007482</td>\n",
       "      <td>23.502212</td>\n",
       "      <td>0.047823</td>\n",
       "      <td>-0.140778</td>\n",
       "      <td>-0.190777</td>\n",
       "      <td>0.166791</td>\n",
       "    </tr>\n",
       "    <tr>\n",
       "      <th>std</th>\n",
       "      <td>6.306318</td>\n",
       "      <td>0.910155</td>\n",
       "      <td>0.773159</td>\n",
       "      <td>1.045181</td>\n",
       "      <td>2.808820</td>\n",
       "      <td>6.411729</td>\n",
       "      <td>1.808578</td>\n",
       "      <td>1.683631</td>\n",
       "      <td>4.749402</td>\n",
       "      <td>7.083140</td>\n",
       "      <td>...</td>\n",
       "      <td>0.853002</td>\n",
       "      <td>0.939542</td>\n",
       "      <td>1.034526</td>\n",
       "      <td>0.674851</td>\n",
       "      <td>0.902919</td>\n",
       "      <td>1.815418</td>\n",
       "      <td>2.541834</td>\n",
       "      <td>2.642301</td>\n",
       "      <td>4.649077</td>\n",
       "      <td>6.433438</td>\n",
       "    </tr>\n",
       "    <tr>\n",
       "      <th>min</th>\n",
       "      <td>-10.381891</td>\n",
       "      <td>-4.141899</td>\n",
       "      <td>-2.452206</td>\n",
       "      <td>-4.557306</td>\n",
       "      <td>-6.184913</td>\n",
       "      <td>-13.488314</td>\n",
       "      <td>-8.944908</td>\n",
       "      <td>-5.980597</td>\n",
       "      <td>-17.291493</td>\n",
       "      <td>-12.513969</td>\n",
       "      <td>...</td>\n",
       "      <td>-3.327925</td>\n",
       "      <td>-2.911638</td>\n",
       "      <td>11.981303</td>\n",
       "      <td>-2.570029</td>\n",
       "      <td>-3.724701</td>\n",
       "      <td>16.979292</td>\n",
       "      <td>-6.493270</td>\n",
       "      <td>-7.377041</td>\n",
       "      <td>-9.588223</td>\n",
       "      <td>-13.359268</td>\n",
       "    </tr>\n",
       "    <tr>\n",
       "      <th>25%</th>\n",
       "      <td>-6.456470</td>\n",
       "      <td>-0.507907</td>\n",
       "      <td>-0.498740</td>\n",
       "      <td>-0.741802</td>\n",
       "      <td>-2.288283</td>\n",
       "      <td>-6.620026</td>\n",
       "      <td>-0.665649</td>\n",
       "      <td>-0.963134</td>\n",
       "      <td>-3.193845</td>\n",
       "      <td>-4.880492</td>\n",
       "      <td>...</td>\n",
       "      <td>-0.449021</td>\n",
       "      <td>-0.599287</td>\n",
       "      <td>15.661717</td>\n",
       "      <td>-0.451187</td>\n",
       "      <td>-0.571156</td>\n",
       "      <td>22.380371</td>\n",
       "      <td>-1.879136</td>\n",
       "      <td>-2.168742</td>\n",
       "      <td>-3.680280</td>\n",
       "      <td>-5.159223</td>\n",
       "    </tr>\n",
       "    <tr>\n",
       "      <th>50%</th>\n",
       "      <td>1.022356</td>\n",
       "      <td>0.067418</td>\n",
       "      <td>0.042018</td>\n",
       "      <td>-0.019068</td>\n",
       "      <td>-0.377311</td>\n",
       "      <td>-0.568692</td>\n",
       "      <td>0.396090</td>\n",
       "      <td>0.234640</td>\n",
       "      <td>0.892107</td>\n",
       "      <td>-2.475193</td>\n",
       "      <td>...</td>\n",
       "      <td>0.146145</td>\n",
       "      <td>0.047475</td>\n",
       "      <td>16.358272</td>\n",
       "      <td>0.024450</td>\n",
       "      <td>-0.003055</td>\n",
       "      <td>23.403000</td>\n",
       "      <td>-0.132709</td>\n",
       "      <td>-0.047865</td>\n",
       "      <td>-0.977779</td>\n",
       "      <td>-2.015229</td>\n",
       "    </tr>\n",
       "    <tr>\n",
       "      <th>75%</th>\n",
       "      <td>5.813172</td>\n",
       "      <td>0.622523</td>\n",
       "      <td>0.503318</td>\n",
       "      <td>0.645479</td>\n",
       "      <td>1.998527</td>\n",
       "      <td>4.537839</td>\n",
       "      <td>1.235156</td>\n",
       "      <td>1.324370</td>\n",
       "      <td>3.327036</td>\n",
       "      <td>4.487006</td>\n",
       "      <td>...</td>\n",
       "      <td>0.700031</td>\n",
       "      <td>0.717306</td>\n",
       "      <td>17.006638</td>\n",
       "      <td>0.479301</td>\n",
       "      <td>0.628253</td>\n",
       "      <td>24.629824</td>\n",
       "      <td>1.832583</td>\n",
       "      <td>1.966580</td>\n",
       "      <td>2.605938</td>\n",
       "      <td>5.751830</td>\n",
       "    </tr>\n",
       "    <tr>\n",
       "      <th>max</th>\n",
       "      <td>12.876948</td>\n",
       "      <td>3.372236</td>\n",
       "      <td>2.689781</td>\n",
       "      <td>3.763224</td>\n",
       "      <td>8.467436</td>\n",
       "      <td>15.984204</td>\n",
       "      <td>4.924384</td>\n",
       "      <td>6.516210</td>\n",
       "      <td>11.349569</td>\n",
       "      <td>23.116821</td>\n",
       "      <td>...</td>\n",
       "      <td>2.816535</td>\n",
       "      <td>3.286086</td>\n",
       "      <td>19.067704</td>\n",
       "      <td>1.773026</td>\n",
       "      <td>2.956204</td>\n",
       "      <td>29.985755</td>\n",
       "      <td>7.287769</td>\n",
       "      <td>7.474741</td>\n",
       "      <td>15.552609</td>\n",
       "      <td>16.662919</td>\n",
       "    </tr>\n",
       "  </tbody>\n",
       "</table>\n",
       "<p>8 rows × 46 columns</p>\n",
       "</div>"
      ],
      "text/plain": [
       "       Cadmium_Chloride     Caffeine  Calcium_Chloride   Cisplatin  \\\n",
       "count        799.000000  1004.000000        949.000000  990.000000   \n",
       "mean          -0.235763     0.056543          0.012039   -0.080343   \n",
       "std            6.306318     0.910155          0.773159    1.045181   \n",
       "min          -10.381891    -4.141899         -2.452206   -4.557306   \n",
       "25%           -6.456470    -0.507907         -0.498740   -0.741802   \n",
       "50%            1.022356     0.067418          0.042018   -0.019068   \n",
       "75%            5.813172     0.622523          0.503318    0.645479   \n",
       "max           12.876948     3.372236          2.689781    3.763224   \n",
       "\n",
       "       Cobalt_Chloride   Congo_red      Copper  Cycloheximide      Diamide  \\\n",
       "count      1007.000000  979.000000  972.000000    1004.000000  1003.000000   \n",
       "mean         -0.021220   -0.580926    0.067722       0.157040     0.139683   \n",
       "std           2.808820    6.411729    1.808578       1.683631     4.749402   \n",
       "min          -6.184913  -13.488314   -8.944908      -5.980597   -17.291493   \n",
       "25%          -2.288283   -6.620026   -0.665649      -0.963134    -3.193845   \n",
       "50%          -0.377311   -0.568692    0.396090       0.234640     0.892107   \n",
       "75%           1.998527    4.537839    1.235156       1.324370     3.327036   \n",
       "max           8.467436   15.984204    4.924384       6.516210    11.349569   \n",
       "\n",
       "       E6_Berbamine     ...      x6-Azauracil       Xylose          YNB  \\\n",
       "count   1005.000000     ...       1001.000000  1003.000000  1006.000000   \n",
       "mean       0.264369     ...          0.112644     0.060641    16.315382   \n",
       "std        7.083140     ...          0.853002     0.939542     1.034526   \n",
       "min      -12.513969     ...         -3.327925    -2.911638    11.981303   \n",
       "25%       -4.880492     ...         -0.449021    -0.599287    15.661717   \n",
       "50%       -2.475193     ...          0.146145     0.047475    16.358272   \n",
       "75%        4.487006     ...          0.700031     0.717306    17.006638   \n",
       "max       23.116821     ...          2.816535     3.286086    19.067704   \n",
       "\n",
       "          YNB:ph3     YNB:ph8          YPD      YPD:15C      YPD:37C  \\\n",
       "count  979.000000  887.000000  1006.000000  1005.000000  1003.000000   \n",
       "mean     0.007996    0.007482    23.502212     0.047823    -0.140778   \n",
       "std      0.674851    0.902919     1.815418     2.541834     2.642301   \n",
       "min     -2.570029   -3.724701    16.979292    -6.493270    -7.377041   \n",
       "25%     -0.451187   -0.571156    22.380371    -1.879136    -2.168742   \n",
       "50%      0.024450   -0.003055    23.403000    -0.132709    -0.047865   \n",
       "75%      0.479301    0.628253    24.629824     1.832583     1.966580   \n",
       "max      1.773026    2.956204    29.985755     7.287769     7.474741   \n",
       "\n",
       "           YPD:4C      Zeocin  \n",
       "count  806.000000  957.000000  \n",
       "mean    -0.190777    0.166791  \n",
       "std      4.649077    6.433438  \n",
       "min     -9.588223  -13.359268  \n",
       "25%     -3.680280   -5.159223  \n",
       "50%     -0.977779   -2.015229  \n",
       "75%      2.605938    5.751830  \n",
       "max     15.552609   16.662919  \n",
       "\n",
       "[8 rows x 46 columns]"
      ]
     },
     "execution_count": 44,
     "metadata": {},
     "output_type": "execute_result"
    }
   ],
   "source": [
    "# calculate some summary statistics\n",
    "df.describe()"
   ]
  },
  {
   "cell_type": "markdown",
   "metadata": {},
   "source": [
    "### Accessing data in a DataFrame\n",
    "\n",
    "Our columns in the dataframe object are individual Series of data. We can access them by referring to the column name e.g. dataframe['column-name']. For example to access the *Caffeine* column run this:"
   ]
  },
  {
   "cell_type": "code",
   "execution_count": 45,
   "metadata": {},
   "outputs": [
    {
     "name": "stdout",
     "output_type": "stream",
     "text": [
      "A01_01    0.279993\n",
      "A01_02   -0.206326\n",
      "A01_03   -0.127960\n",
      "A01_04    0.878392\n",
      "A01_05   -1.353169\n",
      "Name: Caffeine, dtype: float64\n",
      "============= or ===========\n",
      "A01_01    0.279993\n",
      "A01_02   -0.206326\n",
      "A01_03   -0.127960\n",
      "A01_04    0.878392\n",
      "A01_05   -1.353169\n",
      "Name: Caffeine, dtype: float64\n"
     ]
    }
   ],
   "source": [
    "print(df['Caffeine'].head())\n",
    "print('============= or ===========')\n",
    "print(df.Caffeine.head())"
   ]
  },
  {
   "cell_type": "markdown",
   "metadata": {},
   "source": [
    "To filter by row we have to use the *iloc* or *loc* function on the *dataframe*. The *iloc* function allows to filter by the integer index of the row while the *loc* function allows to index by the index label (accession id):"
   ]
  },
  {
   "cell_type": "code",
   "execution_count": 46,
   "metadata": {},
   "outputs": [
    {
     "data": {
      "text/plain": [
       "-0.127959825210201"
      ]
     },
     "execution_count": 46,
     "metadata": {},
     "output_type": "execute_result"
    }
   ],
   "source": [
    "df.iloc[2].Caffeine"
   ]
  },
  {
   "cell_type": "code",
   "execution_count": 47,
   "metadata": {},
   "outputs": [
    {
     "data": {
      "text/plain": [
       "-0.127959825210201"
      ]
     },
     "execution_count": 47,
     "metadata": {},
     "output_type": "execute_result"
    }
   ],
   "source": [
    "df.loc['A01_03'].Caffeine"
   ]
  },
  {
   "cell_type": "markdown",
   "metadata": {},
   "source": [
    "It is also possible to retrieve multiple rows either by specifying the exact row index labels or integer positions:"
   ]
  },
  {
   "cell_type": "code",
   "execution_count": 48,
   "metadata": {},
   "outputs": [
    {
     "data": {
      "text/plain": [
       "A01_02   -0.206326\n",
       "A01_06    1.655436\n",
       "A01_07   -1.423605\n",
       "A01_10   -2.787328\n",
       "Name: Caffeine, dtype: float64"
      ]
     },
     "execution_count": 48,
     "metadata": {},
     "output_type": "execute_result"
    }
   ],
   "source": [
    "df.iloc[[1, 5, 6, 9]].Caffeine"
   ]
  },
  {
   "cell_type": "code",
   "execution_count": 49,
   "metadata": {},
   "outputs": [
    {
     "data": {
      "text/plain": [
       "A01_02   -0.206326\n",
       "A01_06    1.655436\n",
       "A01_07   -1.423605\n",
       "A01_10   -2.787328\n",
       "Name: Caffeine, dtype: float64"
      ]
     },
     "execution_count": 49,
     "metadata": {},
     "output_type": "execute_result"
    }
   ],
   "source": [
    "df.loc[['A01_02', 'A01_06', 'A01_07', 'A01_10']].Caffeine"
   ]
  },
  {
   "cell_type": "code",
   "execution_count": 50,
   "metadata": {},
   "outputs": [
    {
     "data": {
      "text/html": [
       "<div>\n",
       "<style scoped>\n",
       "    .dataframe tbody tr th:only-of-type {\n",
       "        vertical-align: middle;\n",
       "    }\n",
       "\n",
       "    .dataframe tbody tr th {\n",
       "        vertical-align: top;\n",
       "    }\n",
       "\n",
       "    .dataframe thead th {\n",
       "        text-align: right;\n",
       "    }\n",
       "</style>\n",
       "<table border=\"1\" class=\"dataframe\">\n",
       "  <thead>\n",
       "    <tr style=\"text-align: right;\">\n",
       "      <th></th>\n",
       "      <th>Caffeine</th>\n",
       "      <th>Cisplatin</th>\n",
       "    </tr>\n",
       "  </thead>\n",
       "  <tbody>\n",
       "    <tr>\n",
       "      <th>A01_01</th>\n",
       "      <td>0.279993</td>\n",
       "      <td>1.658179</td>\n",
       "    </tr>\n",
       "    <tr>\n",
       "      <th>A01_02</th>\n",
       "      <td>-0.206326</td>\n",
       "      <td>-0.918012</td>\n",
       "    </tr>\n",
       "    <tr>\n",
       "      <th>A01_03</th>\n",
       "      <td>-0.127960</td>\n",
       "      <td>-2.712088</td>\n",
       "    </tr>\n",
       "    <tr>\n",
       "      <th>A01_04</th>\n",
       "      <td>0.878392</td>\n",
       "      <td>-0.827358</td>\n",
       "    </tr>\n",
       "    <tr>\n",
       "      <th>A01_05</th>\n",
       "      <td>-1.353169</td>\n",
       "      <td>-1.137234</td>\n",
       "    </tr>\n",
       "    <tr>\n",
       "      <th>A01_06</th>\n",
       "      <td>1.655436</td>\n",
       "      <td>-2.044903</td>\n",
       "    </tr>\n",
       "    <tr>\n",
       "      <th>A01_07</th>\n",
       "      <td>-1.423605</td>\n",
       "      <td>-1.714243</td>\n",
       "    </tr>\n",
       "    <tr>\n",
       "      <th>A01_08</th>\n",
       "      <td>1.750342</td>\n",
       "      <td>0.306306</td>\n",
       "    </tr>\n",
       "    <tr>\n",
       "      <th>A01_09</th>\n",
       "      <td>-0.559696</td>\n",
       "      <td>-0.879233</td>\n",
       "    </tr>\n",
       "    <tr>\n",
       "      <th>A01_10</th>\n",
       "      <td>-2.787328</td>\n",
       "      <td>-0.239611</td>\n",
       "    </tr>\n",
       "  </tbody>\n",
       "</table>\n",
       "</div>"
      ],
      "text/plain": [
       "        Caffeine  Cisplatin\n",
       "A01_01  0.279993   1.658179\n",
       "A01_02 -0.206326  -0.918012\n",
       "A01_03 -0.127960  -2.712088\n",
       "A01_04  0.878392  -0.827358\n",
       "A01_05 -1.353169  -1.137234\n",
       "A01_06  1.655436  -2.044903\n",
       "A01_07 -1.423605  -1.714243\n",
       "A01_08  1.750342   0.306306\n",
       "A01_09 -0.559696  -0.879233\n",
       "A01_10 -2.787328  -0.239611"
      ]
     },
     "execution_count": 50,
     "metadata": {},
     "output_type": "execute_result"
    }
   ],
   "source": [
    "# retrieve the first 10 rows for the columns Caffeine (column 1 ) and Cisplatin (column 2)\n",
    "df.iloc[:10,[1,3]]"
   ]
  },
  {
   "cell_type": "markdown",
   "metadata": {},
   "source": [
    "### Filtering data\n",
    "\n",
    "We can also apply conditions to the data we are inspecting, such as to filter our data.\n",
    "Let's examine the Caffeine column and check the lowest value."
   ]
  },
  {
   "cell_type": "code",
   "execution_count": 51,
   "metadata": {},
   "outputs": [
    {
     "data": {
      "text/plain": [
       "-4.14189858085831"
      ]
     },
     "execution_count": 51,
     "metadata": {},
     "output_type": "execute_result"
    }
   ],
   "source": [
    "df.Caffeine.min()"
   ]
  },
  {
   "cell_type": "markdown",
   "metadata": {},
   "source": [
    "Let's now filter the Caffeine column for values that are greater than 0 "
   ]
  },
  {
   "cell_type": "code",
   "execution_count": 52,
   "metadata": {},
   "outputs": [
    {
     "data": {
      "text/plain": [
       "A01_01     True\n",
       "A01_02    False\n",
       "A01_03    False\n",
       "A01_04     True\n",
       "A01_05    False\n",
       "A01_06     True\n",
       "A01_07    False\n",
       "A01_08     True\n",
       "A01_09    False\n",
       "A01_10    False\n",
       "A01_11    False\n",
       "A01_12    False\n",
       "A01_13     True\n",
       "A01_14     True\n",
       "A01_15    False\n",
       "A01_16    False\n",
       "A01_17     True\n",
       "A01_18     True\n",
       "A01_19    False\n",
       "A01_20     True\n",
       "A01_21     True\n",
       "A01_22     True\n",
       "A01_23     True\n",
       "A01_24    False\n",
       "A01_25     True\n",
       "A01_26     True\n",
       "A01_27     True\n",
       "A01_28    False\n",
       "A01_29     True\n",
       "A01_30    False\n",
       "          ...  \n",
       "A11_67    False\n",
       "A11_68     True\n",
       "A11_69     True\n",
       "A11_70    False\n",
       "A11_71    False\n",
       "A11_72     True\n",
       "A11_73     True\n",
       "A11_74    False\n",
       "A11_75    False\n",
       "A11_76    False\n",
       "A11_77     True\n",
       "A11_78     True\n",
       "A11_79     True\n",
       "A11_80     True\n",
       "A11_81    False\n",
       "A11_82    False\n",
       "A11_83    False\n",
       "A11_84    False\n",
       "A11_85     True\n",
       "A11_86     True\n",
       "A11_87     True\n",
       "A11_88    False\n",
       "A11_89     True\n",
       "A11_90     True\n",
       "A11_91     True\n",
       "A11_92    False\n",
       "A11_93     True\n",
       "A11_94     True\n",
       "A11_95    False\n",
       "A11_96    False\n",
       "Name: Caffeine, Length: 1008, dtype: bool"
      ]
     },
     "execution_count": 52,
     "metadata": {},
     "output_type": "execute_result"
    }
   ],
   "source": [
    "df.Caffeine > 0"
   ]
  },
  {
   "cell_type": "markdown",
   "metadata": {},
   "source": [
    "This returns a new *Series* of *True*/*False* values though. To actually filter the data, we need to use this *Series* to mask our original *DataFrame*"
   ]
  },
  {
   "cell_type": "code",
   "execution_count": 53,
   "metadata": {},
   "outputs": [
    {
     "data": {
      "text/html": [
       "<div>\n",
       "<style scoped>\n",
       "    .dataframe tbody tr th:only-of-type {\n",
       "        vertical-align: middle;\n",
       "    }\n",
       "\n",
       "    .dataframe tbody tr th {\n",
       "        vertical-align: top;\n",
       "    }\n",
       "\n",
       "    .dataframe thead th {\n",
       "        text-align: right;\n",
       "    }\n",
       "</style>\n",
       "<table border=\"1\" class=\"dataframe\">\n",
       "  <thead>\n",
       "    <tr style=\"text-align: right;\">\n",
       "      <th></th>\n",
       "      <th>Cadmium_Chloride</th>\n",
       "      <th>Caffeine</th>\n",
       "      <th>Calcium_Chloride</th>\n",
       "      <th>Cisplatin</th>\n",
       "      <th>Cobalt_Chloride</th>\n",
       "      <th>Congo_red</th>\n",
       "      <th>Copper</th>\n",
       "      <th>Cycloheximide</th>\n",
       "      <th>Diamide</th>\n",
       "      <th>E6_Berbamine</th>\n",
       "      <th>...</th>\n",
       "      <th>x6-Azauracil</th>\n",
       "      <th>Xylose</th>\n",
       "      <th>YNB</th>\n",
       "      <th>YNB:ph3</th>\n",
       "      <th>YNB:ph8</th>\n",
       "      <th>YPD</th>\n",
       "      <th>YPD:15C</th>\n",
       "      <th>YPD:37C</th>\n",
       "      <th>YPD:4C</th>\n",
       "      <th>Zeocin</th>\n",
       "    </tr>\n",
       "  </thead>\n",
       "  <tbody>\n",
       "    <tr>\n",
       "      <th>A01_01</th>\n",
       "      <td>-7.323520</td>\n",
       "      <td>0.279993</td>\n",
       "      <td>0.313118</td>\n",
       "      <td>1.658179</td>\n",
       "      <td>-1.604442</td>\n",
       "      <td>5.841617</td>\n",
       "      <td>-4.130950</td>\n",
       "      <td>0.821226</td>\n",
       "      <td>3.622602</td>\n",
       "      <td>-0.378747</td>\n",
       "      <td>...</td>\n",
       "      <td>1.199054</td>\n",
       "      <td>-0.309149</td>\n",
       "      <td>17.470822</td>\n",
       "      <td>0.055225</td>\n",
       "      <td>-0.184268</td>\n",
       "      <td>24.548971</td>\n",
       "      <td>0.712171</td>\n",
       "      <td>0.890842</td>\n",
       "      <td>4.118372</td>\n",
       "      <td>8.592818</td>\n",
       "    </tr>\n",
       "    <tr>\n",
       "      <th>A01_04</th>\n",
       "      <td>-6.147649</td>\n",
       "      <td>0.878392</td>\n",
       "      <td>-0.563331</td>\n",
       "      <td>-0.827358</td>\n",
       "      <td>-1.291270</td>\n",
       "      <td>2.753851</td>\n",
       "      <td>-2.268121</td>\n",
       "      <td>0.867456</td>\n",
       "      <td>-6.832079</td>\n",
       "      <td>-1.970630</td>\n",
       "      <td>...</td>\n",
       "      <td>0.054694</td>\n",
       "      <td>-0.739040</td>\n",
       "      <td>15.575856</td>\n",
       "      <td>-1.690867</td>\n",
       "      <td>-0.840344</td>\n",
       "      <td>20.893646</td>\n",
       "      <td>-0.636280</td>\n",
       "      <td>0.053258</td>\n",
       "      <td>-3.196936</td>\n",
       "      <td>0.294462</td>\n",
       "    </tr>\n",
       "    <tr>\n",
       "      <th>A01_06</th>\n",
       "      <td>9.394562</td>\n",
       "      <td>1.655436</td>\n",
       "      <td>0.531654</td>\n",
       "      <td>-2.044903</td>\n",
       "      <td>1.577325</td>\n",
       "      <td>-5.769939</td>\n",
       "      <td>1.355905</td>\n",
       "      <td>2.336068</td>\n",
       "      <td>4.038331</td>\n",
       "      <td>-2.917101</td>\n",
       "      <td>...</td>\n",
       "      <td>0.591233</td>\n",
       "      <td>-0.134019</td>\n",
       "      <td>16.085601</td>\n",
       "      <td>-0.100294</td>\n",
       "      <td>0.710547</td>\n",
       "      <td>23.549116</td>\n",
       "      <td>-2.680231</td>\n",
       "      <td>2.025716</td>\n",
       "      <td>-0.889829</td>\n",
       "      <td>-4.108786</td>\n",
       "    </tr>\n",
       "    <tr>\n",
       "      <th>A01_08</th>\n",
       "      <td>-7.585476</td>\n",
       "      <td>1.750342</td>\n",
       "      <td>0.941181</td>\n",
       "      <td>0.306306</td>\n",
       "      <td>-2.997501</td>\n",
       "      <td>0.063007</td>\n",
       "      <td>-4.352137</td>\n",
       "      <td>2.634605</td>\n",
       "      <td>3.147146</td>\n",
       "      <td>8.292883</td>\n",
       "      <td>...</td>\n",
       "      <td>0.043294</td>\n",
       "      <td>-0.826648</td>\n",
       "      <td>16.210856</td>\n",
       "      <td>NaN</td>\n",
       "      <td>-0.538390</td>\n",
       "      <td>23.595423</td>\n",
       "      <td>-1.449024</td>\n",
       "      <td>1.679693</td>\n",
       "      <td>-2.227455</td>\n",
       "      <td>-5.773160</td>\n",
       "    </tr>\n",
       "    <tr>\n",
       "      <th>A01_13</th>\n",
       "      <td>6.099126</td>\n",
       "      <td>1.193630</td>\n",
       "      <td>-0.460481</td>\n",
       "      <td>-2.254822</td>\n",
       "      <td>-1.737934</td>\n",
       "      <td>-6.773013</td>\n",
       "      <td>1.847423</td>\n",
       "      <td>1.492433</td>\n",
       "      <td>5.377797</td>\n",
       "      <td>-2.763472</td>\n",
       "      <td>...</td>\n",
       "      <td>0.428124</td>\n",
       "      <td>-0.447422</td>\n",
       "      <td>15.707533</td>\n",
       "      <td>1.328875</td>\n",
       "      <td>-0.676125</td>\n",
       "      <td>22.880547</td>\n",
       "      <td>-4.488093</td>\n",
       "      <td>3.399301</td>\n",
       "      <td>-5.313911</td>\n",
       "      <td>-4.854207</td>\n",
       "    </tr>\n",
       "    <tr>\n",
       "      <th>A01_14</th>\n",
       "      <td>-6.128808</td>\n",
       "      <td>2.287569</td>\n",
       "      <td>0.030860</td>\n",
       "      <td>1.457627</td>\n",
       "      <td>2.658909</td>\n",
       "      <td>8.873294</td>\n",
       "      <td>-2.725993</td>\n",
       "      <td>2.081959</td>\n",
       "      <td>-0.640953</td>\n",
       "      <td>-2.948221</td>\n",
       "      <td>...</td>\n",
       "      <td>0.871464</td>\n",
       "      <td>0.239443</td>\n",
       "      <td>16.293701</td>\n",
       "      <td>0.306043</td>\n",
       "      <td>0.903620</td>\n",
       "      <td>23.053594</td>\n",
       "      <td>4.081697</td>\n",
       "      <td>3.783942</td>\n",
       "      <td>0.069884</td>\n",
       "      <td>2.976971</td>\n",
       "    </tr>\n",
       "    <tr>\n",
       "      <th>A01_17</th>\n",
       "      <td>-6.435934</td>\n",
       "      <td>0.331987</td>\n",
       "      <td>0.701171</td>\n",
       "      <td>0.330169</td>\n",
       "      <td>-3.157943</td>\n",
       "      <td>-1.098844</td>\n",
       "      <td>2.099880</td>\n",
       "      <td>3.261305</td>\n",
       "      <td>-10.892045</td>\n",
       "      <td>14.833187</td>\n",
       "      <td>...</td>\n",
       "      <td>0.778375</td>\n",
       "      <td>1.257294</td>\n",
       "      <td>16.432578</td>\n",
       "      <td>0.030953</td>\n",
       "      <td>1.637458</td>\n",
       "      <td>23.623720</td>\n",
       "      <td>3.763264</td>\n",
       "      <td>-3.649057</td>\n",
       "      <td>7.883571</td>\n",
       "      <td>-5.824656</td>\n",
       "    </tr>\n",
       "    <tr>\n",
       "      <th>A01_18</th>\n",
       "      <td>-1.744416</td>\n",
       "      <td>1.179753</td>\n",
       "      <td>-0.869870</td>\n",
       "      <td>-1.269823</td>\n",
       "      <td>3.048698</td>\n",
       "      <td>-6.121298</td>\n",
       "      <td>0.008026</td>\n",
       "      <td>-0.243670</td>\n",
       "      <td>3.129125</td>\n",
       "      <td>-0.310028</td>\n",
       "      <td>...</td>\n",
       "      <td>-0.658192</td>\n",
       "      <td>0.014206</td>\n",
       "      <td>17.374168</td>\n",
       "      <td>-0.383067</td>\n",
       "      <td>-0.997588</td>\n",
       "      <td>23.653983</td>\n",
       "      <td>-2.572794</td>\n",
       "      <td>1.388221</td>\n",
       "      <td>-6.245010</td>\n",
       "      <td>-1.875007</td>\n",
       "    </tr>\n",
       "    <tr>\n",
       "      <th>A01_20</th>\n",
       "      <td>-6.362380</td>\n",
       "      <td>0.986639</td>\n",
       "      <td>-0.284413</td>\n",
       "      <td>0.014248</td>\n",
       "      <td>2.235446</td>\n",
       "      <td>-1.681283</td>\n",
       "      <td>-0.420546</td>\n",
       "      <td>0.076087</td>\n",
       "      <td>3.076295</td>\n",
       "      <td>-6.065038</td>\n",
       "      <td>...</td>\n",
       "      <td>-1.904024</td>\n",
       "      <td>0.127447</td>\n",
       "      <td>14.506945</td>\n",
       "      <td>-0.817359</td>\n",
       "      <td>-0.907824</td>\n",
       "      <td>20.581287</td>\n",
       "      <td>0.125045</td>\n",
       "      <td>-0.928468</td>\n",
       "      <td>-2.542536</td>\n",
       "      <td>6.886391</td>\n",
       "    </tr>\n",
       "    <tr>\n",
       "      <th>A01_21</th>\n",
       "      <td>5.925445</td>\n",
       "      <td>1.238484</td>\n",
       "      <td>-0.180890</td>\n",
       "      <td>-0.785711</td>\n",
       "      <td>0.856511</td>\n",
       "      <td>-0.954674</td>\n",
       "      <td>1.886783</td>\n",
       "      <td>2.196050</td>\n",
       "      <td>2.436579</td>\n",
       "      <td>-0.643799</td>\n",
       "      <td>...</td>\n",
       "      <td>0.736404</td>\n",
       "      <td>1.220645</td>\n",
       "      <td>17.109577</td>\n",
       "      <td>0.002582</td>\n",
       "      <td>-0.689019</td>\n",
       "      <td>24.960265</td>\n",
       "      <td>-4.600436</td>\n",
       "      <td>-3.240098</td>\n",
       "      <td>-1.430459</td>\n",
       "      <td>4.630062</td>\n",
       "    </tr>\n",
       "    <tr>\n",
       "      <th>A01_22</th>\n",
       "      <td>3.015350</td>\n",
       "      <td>0.844175</td>\n",
       "      <td>0.640409</td>\n",
       "      <td>1.477814</td>\n",
       "      <td>2.287242</td>\n",
       "      <td>-0.343746</td>\n",
       "      <td>1.038470</td>\n",
       "      <td>-0.832654</td>\n",
       "      <td>2.717067</td>\n",
       "      <td>-4.706824</td>\n",
       "      <td>...</td>\n",
       "      <td>2.037066</td>\n",
       "      <td>1.738069</td>\n",
       "      <td>17.113177</td>\n",
       "      <td>0.625722</td>\n",
       "      <td>0.712437</td>\n",
       "      <td>24.854792</td>\n",
       "      <td>5.443331</td>\n",
       "      <td>-4.111030</td>\n",
       "      <td>5.459420</td>\n",
       "      <td>10.382066</td>\n",
       "    </tr>\n",
       "    <tr>\n",
       "      <th>A01_23</th>\n",
       "      <td>5.368651</td>\n",
       "      <td>1.648824</td>\n",
       "      <td>-0.311006</td>\n",
       "      <td>0.151763</td>\n",
       "      <td>2.089597</td>\n",
       "      <td>0.886900</td>\n",
       "      <td>-0.827784</td>\n",
       "      <td>-0.076783</td>\n",
       "      <td>2.241636</td>\n",
       "      <td>-5.830545</td>\n",
       "      <td>...</td>\n",
       "      <td>-0.369967</td>\n",
       "      <td>-0.887642</td>\n",
       "      <td>15.680565</td>\n",
       "      <td>-0.132719</td>\n",
       "      <td>0.793680</td>\n",
       "      <td>23.211814</td>\n",
       "      <td>1.160337</td>\n",
       "      <td>3.339040</td>\n",
       "      <td>0.908244</td>\n",
       "      <td>13.591021</td>\n",
       "    </tr>\n",
       "    <tr>\n",
       "      <th>A01_25</th>\n",
       "      <td>2.361884</td>\n",
       "      <td>1.207676</td>\n",
       "      <td>-1.382897</td>\n",
       "      <td>1.224807</td>\n",
       "      <td>-1.735648</td>\n",
       "      <td>-0.200892</td>\n",
       "      <td>NaN</td>\n",
       "      <td>-2.155111</td>\n",
       "      <td>-6.857530</td>\n",
       "      <td>-3.846204</td>\n",
       "      <td>...</td>\n",
       "      <td>0.909605</td>\n",
       "      <td>-1.330609</td>\n",
       "      <td>13.144011</td>\n",
       "      <td>1.004012</td>\n",
       "      <td>0.127184</td>\n",
       "      <td>22.482902</td>\n",
       "      <td>-0.605416</td>\n",
       "      <td>0.017608</td>\n",
       "      <td>0.398050</td>\n",
       "      <td>-2.081629</td>\n",
       "    </tr>\n",
       "    <tr>\n",
       "      <th>A01_26</th>\n",
       "      <td>-5.888597</td>\n",
       "      <td>1.748776</td>\n",
       "      <td>-0.432020</td>\n",
       "      <td>-0.303939</td>\n",
       "      <td>-2.064806</td>\n",
       "      <td>-0.087783</td>\n",
       "      <td>0.418293</td>\n",
       "      <td>1.550241</td>\n",
       "      <td>1.862355</td>\n",
       "      <td>4.625362</td>\n",
       "      <td>...</td>\n",
       "      <td>0.572039</td>\n",
       "      <td>-0.514878</td>\n",
       "      <td>16.622170</td>\n",
       "      <td>-0.709576</td>\n",
       "      <td>-0.502412</td>\n",
       "      <td>23.804121</td>\n",
       "      <td>-4.416801</td>\n",
       "      <td>1.710262</td>\n",
       "      <td>-2.832793</td>\n",
       "      <td>-2.582201</td>\n",
       "    </tr>\n",
       "    <tr>\n",
       "      <th>A01_27</th>\n",
       "      <td>5.864971</td>\n",
       "      <td>0.085989</td>\n",
       "      <td>0.272710</td>\n",
       "      <td>0.687241</td>\n",
       "      <td>-2.272625</td>\n",
       "      <td>-6.032576</td>\n",
       "      <td>2.116587</td>\n",
       "      <td>0.717661</td>\n",
       "      <td>4.509182</td>\n",
       "      <td>8.784337</td>\n",
       "      <td>...</td>\n",
       "      <td>0.984612</td>\n",
       "      <td>0.663690</td>\n",
       "      <td>17.433361</td>\n",
       "      <td>-0.237397</td>\n",
       "      <td>-0.214977</td>\n",
       "      <td>22.998909</td>\n",
       "      <td>1.925353</td>\n",
       "      <td>4.612446</td>\n",
       "      <td>2.617287</td>\n",
       "      <td>7.365063</td>\n",
       "    </tr>\n",
       "    <tr>\n",
       "      <th>A01_29</th>\n",
       "      <td>8.291001</td>\n",
       "      <td>0.602952</td>\n",
       "      <td>-0.209818</td>\n",
       "      <td>0.176575</td>\n",
       "      <td>2.970487</td>\n",
       "      <td>11.674431</td>\n",
       "      <td>-5.015363</td>\n",
       "      <td>0.942569</td>\n",
       "      <td>-0.493707</td>\n",
       "      <td>10.374494</td>\n",
       "      <td>...</td>\n",
       "      <td>0.222568</td>\n",
       "      <td>-1.013385</td>\n",
       "      <td>16.763518</td>\n",
       "      <td>-0.206383</td>\n",
       "      <td>0.672626</td>\n",
       "      <td>26.448189</td>\n",
       "      <td>1.866508</td>\n",
       "      <td>0.239108</td>\n",
       "      <td>-0.638321</td>\n",
       "      <td>12.690415</td>\n",
       "    </tr>\n",
       "    <tr>\n",
       "      <th>A01_31</th>\n",
       "      <td>-6.398361</td>\n",
       "      <td>0.166271</td>\n",
       "      <td>-0.878706</td>\n",
       "      <td>-0.078068</td>\n",
       "      <td>-3.349890</td>\n",
       "      <td>-1.069199</td>\n",
       "      <td>1.163056</td>\n",
       "      <td>-0.895535</td>\n",
       "      <td>-0.087970</td>\n",
       "      <td>-4.928491</td>\n",
       "      <td>...</td>\n",
       "      <td>-1.314301</td>\n",
       "      <td>-1.375641</td>\n",
       "      <td>15.544307</td>\n",
       "      <td>-0.004930</td>\n",
       "      <td>-0.744114</td>\n",
       "      <td>24.094502</td>\n",
       "      <td>-2.020393</td>\n",
       "      <td>-0.891901</td>\n",
       "      <td>-5.279599</td>\n",
       "      <td>1.193205</td>\n",
       "    </tr>\n",
       "    <tr>\n",
       "      <th>A01_32</th>\n",
       "      <td>7.130669</td>\n",
       "      <td>0.718797</td>\n",
       "      <td>0.518366</td>\n",
       "      <td>1.823296</td>\n",
       "      <td>0.429805</td>\n",
       "      <td>-1.103549</td>\n",
       "      <td>0.740313</td>\n",
       "      <td>2.506797</td>\n",
       "      <td>2.778662</td>\n",
       "      <td>-4.981721</td>\n",
       "      <td>...</td>\n",
       "      <td>0.632448</td>\n",
       "      <td>1.494387</td>\n",
       "      <td>16.222977</td>\n",
       "      <td>0.751728</td>\n",
       "      <td>-2.119434</td>\n",
       "      <td>22.723083</td>\n",
       "      <td>5.791591</td>\n",
       "      <td>-0.958975</td>\n",
       "      <td>1.065139</td>\n",
       "      <td>-2.015229</td>\n",
       "    </tr>\n",
       "    <tr>\n",
       "      <th>A01_33</th>\n",
       "      <td>-7.996359</td>\n",
       "      <td>0.922486</td>\n",
       "      <td>0.264327</td>\n",
       "      <td>-1.664310</td>\n",
       "      <td>-5.532087</td>\n",
       "      <td>-5.217066</td>\n",
       "      <td>1.188328</td>\n",
       "      <td>2.380337</td>\n",
       "      <td>3.479604</td>\n",
       "      <td>-2.757452</td>\n",
       "      <td>...</td>\n",
       "      <td>1.271010</td>\n",
       "      <td>1.306615</td>\n",
       "      <td>18.784166</td>\n",
       "      <td>0.187778</td>\n",
       "      <td>0.246367</td>\n",
       "      <td>29.168126</td>\n",
       "      <td>4.090078</td>\n",
       "      <td>0.995169</td>\n",
       "      <td>3.198552</td>\n",
       "      <td>-10.757366</td>\n",
       "    </tr>\n",
       "    <tr>\n",
       "      <th>A01_34</th>\n",
       "      <td>-7.061253</td>\n",
       "      <td>0.024929</td>\n",
       "      <td>1.033085</td>\n",
       "      <td>0.766978</td>\n",
       "      <td>3.873184</td>\n",
       "      <td>1.228287</td>\n",
       "      <td>-0.019795</td>\n",
       "      <td>-0.597636</td>\n",
       "      <td>-0.869106</td>\n",
       "      <td>-3.144067</td>\n",
       "      <td>...</td>\n",
       "      <td>1.212225</td>\n",
       "      <td>1.713806</td>\n",
       "      <td>17.565024</td>\n",
       "      <td>0.101327</td>\n",
       "      <td>-0.127652</td>\n",
       "      <td>23.749063</td>\n",
       "      <td>3.836577</td>\n",
       "      <td>-2.537776</td>\n",
       "      <td>6.718132</td>\n",
       "      <td>-4.968092</td>\n",
       "    </tr>\n",
       "    <tr>\n",
       "      <th>A01_35</th>\n",
       "      <td>7.125313</td>\n",
       "      <td>0.477383</td>\n",
       "      <td>0.203855</td>\n",
       "      <td>0.146072</td>\n",
       "      <td>4.542455</td>\n",
       "      <td>-4.875453</td>\n",
       "      <td>2.360665</td>\n",
       "      <td>-1.442190</td>\n",
       "      <td>0.693330</td>\n",
       "      <td>-6.215016</td>\n",
       "      <td>...</td>\n",
       "      <td>1.818472</td>\n",
       "      <td>0.151740</td>\n",
       "      <td>16.212551</td>\n",
       "      <td>0.662079</td>\n",
       "      <td>-0.147682</td>\n",
       "      <td>23.430682</td>\n",
       "      <td>-2.494964</td>\n",
       "      <td>3.580115</td>\n",
       "      <td>-2.705861</td>\n",
       "      <td>-4.434123</td>\n",
       "    </tr>\n",
       "    <tr>\n",
       "      <th>A01_38</th>\n",
       "      <td>7.221967</td>\n",
       "      <td>1.607407</td>\n",
       "      <td>1.136931</td>\n",
       "      <td>0.321945</td>\n",
       "      <td>-2.917663</td>\n",
       "      <td>6.128958</td>\n",
       "      <td>-0.439967</td>\n",
       "      <td>3.226792</td>\n",
       "      <td>4.648551</td>\n",
       "      <td>-3.809075</td>\n",
       "      <td>...</td>\n",
       "      <td>1.010044</td>\n",
       "      <td>0.545939</td>\n",
       "      <td>15.461926</td>\n",
       "      <td>0.202358</td>\n",
       "      <td>0.744799</td>\n",
       "      <td>22.786138</td>\n",
       "      <td>-0.951993</td>\n",
       "      <td>-1.479317</td>\n",
       "      <td>6.993651</td>\n",
       "      <td>-5.792154</td>\n",
       "    </tr>\n",
       "    <tr>\n",
       "      <th>A01_40</th>\n",
       "      <td>7.386030</td>\n",
       "      <td>0.685339</td>\n",
       "      <td>0.552385</td>\n",
       "      <td>1.627962</td>\n",
       "      <td>4.060814</td>\n",
       "      <td>-1.013393</td>\n",
       "      <td>-0.051946</td>\n",
       "      <td>0.805096</td>\n",
       "      <td>5.205418</td>\n",
       "      <td>0.235112</td>\n",
       "      <td>...</td>\n",
       "      <td>-0.328904</td>\n",
       "      <td>0.065395</td>\n",
       "      <td>16.315874</td>\n",
       "      <td>0.539172</td>\n",
       "      <td>-0.718097</td>\n",
       "      <td>23.366239</td>\n",
       "      <td>3.277305</td>\n",
       "      <td>1.194231</td>\n",
       "      <td>0.670884</td>\n",
       "      <td>7.639392</td>\n",
       "    </tr>\n",
       "    <tr>\n",
       "      <th>A01_44</th>\n",
       "      <td>5.584843</td>\n",
       "      <td>1.063073</td>\n",
       "      <td>-0.673369</td>\n",
       "      <td>0.292690</td>\n",
       "      <td>-0.585619</td>\n",
       "      <td>-1.411756</td>\n",
       "      <td>0.982226</td>\n",
       "      <td>-0.333864</td>\n",
       "      <td>2.798290</td>\n",
       "      <td>0.193106</td>\n",
       "      <td>...</td>\n",
       "      <td>-0.635281</td>\n",
       "      <td>-0.836197</td>\n",
       "      <td>15.972579</td>\n",
       "      <td>0.842179</td>\n",
       "      <td>1.050111</td>\n",
       "      <td>22.333949</td>\n",
       "      <td>-4.374102</td>\n",
       "      <td>1.138760</td>\n",
       "      <td>-5.530835</td>\n",
       "      <td>5.771627</td>\n",
       "    </tr>\n",
       "    <tr>\n",
       "      <th>A01_45</th>\n",
       "      <td>-6.886116</td>\n",
       "      <td>2.422459</td>\n",
       "      <td>2.094146</td>\n",
       "      <td>2.513203</td>\n",
       "      <td>6.714054</td>\n",
       "      <td>-0.397405</td>\n",
       "      <td>-6.722845</td>\n",
       "      <td>-1.037253</td>\n",
       "      <td>-0.875755</td>\n",
       "      <td>-5.357255</td>\n",
       "      <td>...</td>\n",
       "      <td>-1.635183</td>\n",
       "      <td>0.518553</td>\n",
       "      <td>15.862309</td>\n",
       "      <td>1.405404</td>\n",
       "      <td>1.074609</td>\n",
       "      <td>20.873441</td>\n",
       "      <td>-2.156279</td>\n",
       "      <td>6.328426</td>\n",
       "      <td>1.883678</td>\n",
       "      <td>-3.488512</td>\n",
       "    </tr>\n",
       "    <tr>\n",
       "      <th>A01_46</th>\n",
       "      <td>-6.857821</td>\n",
       "      <td>0.372263</td>\n",
       "      <td>-1.493623</td>\n",
       "      <td>-2.658450</td>\n",
       "      <td>-0.895147</td>\n",
       "      <td>-5.366424</td>\n",
       "      <td>-0.115780</td>\n",
       "      <td>-0.501187</td>\n",
       "      <td>3.045313</td>\n",
       "      <td>-5.753381</td>\n",
       "      <td>...</td>\n",
       "      <td>-1.029738</td>\n",
       "      <td>-0.399975</td>\n",
       "      <td>15.623093</td>\n",
       "      <td>-0.450903</td>\n",
       "      <td>-0.254102</td>\n",
       "      <td>22.505698</td>\n",
       "      <td>-3.920752</td>\n",
       "      <td>-2.202890</td>\n",
       "      <td>-1.563144</td>\n",
       "      <td>1.055169</td>\n",
       "    </tr>\n",
       "    <tr>\n",
       "      <th>A01_47</th>\n",
       "      <td>-4.268287</td>\n",
       "      <td>0.362259</td>\n",
       "      <td>0.310740</td>\n",
       "      <td>1.390570</td>\n",
       "      <td>0.966619</td>\n",
       "      <td>10.681893</td>\n",
       "      <td>0.633434</td>\n",
       "      <td>0.512259</td>\n",
       "      <td>1.973278</td>\n",
       "      <td>-6.997449</td>\n",
       "      <td>...</td>\n",
       "      <td>0.574923</td>\n",
       "      <td>0.748745</td>\n",
       "      <td>17.494740</td>\n",
       "      <td>-0.075021</td>\n",
       "      <td>0.094029</td>\n",
       "      <td>23.578347</td>\n",
       "      <td>-0.045091</td>\n",
       "      <td>-2.543260</td>\n",
       "      <td>1.207601</td>\n",
       "      <td>4.475345</td>\n",
       "    </tr>\n",
       "    <tr>\n",
       "      <th>A01_55</th>\n",
       "      <td>4.074521</td>\n",
       "      <td>1.005304</td>\n",
       "      <td>-0.840341</td>\n",
       "      <td>-0.156409</td>\n",
       "      <td>1.439703</td>\n",
       "      <td>-0.288215</td>\n",
       "      <td>-2.433246</td>\n",
       "      <td>-0.739372</td>\n",
       "      <td>4.679368</td>\n",
       "      <td>-5.967278</td>\n",
       "      <td>...</td>\n",
       "      <td>0.205970</td>\n",
       "      <td>0.869975</td>\n",
       "      <td>15.028113</td>\n",
       "      <td>0.364559</td>\n",
       "      <td>0.530884</td>\n",
       "      <td>22.119766</td>\n",
       "      <td>5.280116</td>\n",
       "      <td>-4.113606</td>\n",
       "      <td>-2.367438</td>\n",
       "      <td>0.865415</td>\n",
       "    </tr>\n",
       "    <tr>\n",
       "      <th>A01_58</th>\n",
       "      <td>4.092310</td>\n",
       "      <td>0.929132</td>\n",
       "      <td>-0.885145</td>\n",
       "      <td>0.854615</td>\n",
       "      <td>-1.651898</td>\n",
       "      <td>1.106198</td>\n",
       "      <td>2.308981</td>\n",
       "      <td>-1.584598</td>\n",
       "      <td>2.258720</td>\n",
       "      <td>6.459206</td>\n",
       "      <td>...</td>\n",
       "      <td>0.709761</td>\n",
       "      <td>0.793777</td>\n",
       "      <td>17.961373</td>\n",
       "      <td>0.583428</td>\n",
       "      <td>-0.001954</td>\n",
       "      <td>27.061697</td>\n",
       "      <td>-4.836116</td>\n",
       "      <td>3.824283</td>\n",
       "      <td>-2.061558</td>\n",
       "      <td>-3.699731</td>\n",
       "    </tr>\n",
       "    <tr>\n",
       "      <th>A01_59</th>\n",
       "      <td>-7.267147</td>\n",
       "      <td>0.317266</td>\n",
       "      <td>0.353902</td>\n",
       "      <td>0.173577</td>\n",
       "      <td>3.859513</td>\n",
       "      <td>-1.350063</td>\n",
       "      <td>0.048835</td>\n",
       "      <td>-1.142921</td>\n",
       "      <td>0.293651</td>\n",
       "      <td>-2.481264</td>\n",
       "      <td>...</td>\n",
       "      <td>0.165374</td>\n",
       "      <td>1.366814</td>\n",
       "      <td>16.484308</td>\n",
       "      <td>-0.533237</td>\n",
       "      <td>-0.487195</td>\n",
       "      <td>24.985005</td>\n",
       "      <td>0.075893</td>\n",
       "      <td>2.709230</td>\n",
       "      <td>2.936690</td>\n",
       "      <td>5.137446</td>\n",
       "    </tr>\n",
       "    <tr>\n",
       "      <th>...</th>\n",
       "      <td>...</td>\n",
       "      <td>...</td>\n",
       "      <td>...</td>\n",
       "      <td>...</td>\n",
       "      <td>...</td>\n",
       "      <td>...</td>\n",
       "      <td>...</td>\n",
       "      <td>...</td>\n",
       "      <td>...</td>\n",
       "      <td>...</td>\n",
       "      <td>...</td>\n",
       "      <td>...</td>\n",
       "      <td>...</td>\n",
       "      <td>...</td>\n",
       "      <td>...</td>\n",
       "      <td>...</td>\n",
       "      <td>...</td>\n",
       "      <td>...</td>\n",
       "      <td>...</td>\n",
       "      <td>...</td>\n",
       "      <td>...</td>\n",
       "    </tr>\n",
       "    <tr>\n",
       "      <th>A11_44</th>\n",
       "      <td>-7.455436</td>\n",
       "      <td>0.065010</td>\n",
       "      <td>0.708960</td>\n",
       "      <td>-0.303781</td>\n",
       "      <td>1.814606</td>\n",
       "      <td>5.638196</td>\n",
       "      <td>0.224649</td>\n",
       "      <td>1.198512</td>\n",
       "      <td>-1.343692</td>\n",
       "      <td>-4.435628</td>\n",
       "      <td>...</td>\n",
       "      <td>-0.749211</td>\n",
       "      <td>-0.148476</td>\n",
       "      <td>17.105216</td>\n",
       "      <td>0.123122</td>\n",
       "      <td>NaN</td>\n",
       "      <td>22.720722</td>\n",
       "      <td>-2.992506</td>\n",
       "      <td>-2.502814</td>\n",
       "      <td>-1.839947</td>\n",
       "      <td>5.751830</td>\n",
       "    </tr>\n",
       "    <tr>\n",
       "      <th>A11_45</th>\n",
       "      <td>2.907273</td>\n",
       "      <td>0.377561</td>\n",
       "      <td>0.008094</td>\n",
       "      <td>1.516315</td>\n",
       "      <td>0.471784</td>\n",
       "      <td>-6.231109</td>\n",
       "      <td>-3.230581</td>\n",
       "      <td>-0.941268</td>\n",
       "      <td>-11.222300</td>\n",
       "      <td>-4.671810</td>\n",
       "      <td>...</td>\n",
       "      <td>0.790916</td>\n",
       "      <td>0.722727</td>\n",
       "      <td>16.467980</td>\n",
       "      <td>1.132648</td>\n",
       "      <td>NaN</td>\n",
       "      <td>22.521577</td>\n",
       "      <td>1.643338</td>\n",
       "      <td>2.459915</td>\n",
       "      <td>-5.901576</td>\n",
       "      <td>-4.664778</td>\n",
       "    </tr>\n",
       "    <tr>\n",
       "      <th>A11_46</th>\n",
       "      <td>-6.928941</td>\n",
       "      <td>0.077312</td>\n",
       "      <td>0.227317</td>\n",
       "      <td>1.109649</td>\n",
       "      <td>2.180708</td>\n",
       "      <td>-1.061959</td>\n",
       "      <td>0.614301</td>\n",
       "      <td>1.245527</td>\n",
       "      <td>4.237199</td>\n",
       "      <td>3.007887</td>\n",
       "      <td>...</td>\n",
       "      <td>0.791549</td>\n",
       "      <td>1.060520</td>\n",
       "      <td>15.742954</td>\n",
       "      <td>0.688456</td>\n",
       "      <td>NaN</td>\n",
       "      <td>22.512751</td>\n",
       "      <td>0.454164</td>\n",
       "      <td>-2.993857</td>\n",
       "      <td>2.341450</td>\n",
       "      <td>5.118265</td>\n",
       "    </tr>\n",
       "    <tr>\n",
       "      <th>A11_48</th>\n",
       "      <td>7.183339</td>\n",
       "      <td>0.983350</td>\n",
       "      <td>2.090029</td>\n",
       "      <td>0.001171</td>\n",
       "      <td>0.420704</td>\n",
       "      <td>-2.660331</td>\n",
       "      <td>1.417940</td>\n",
       "      <td>1.470723</td>\n",
       "      <td>1.243041</td>\n",
       "      <td>-7.825930</td>\n",
       "      <td>...</td>\n",
       "      <td>-0.111029</td>\n",
       "      <td>-0.589826</td>\n",
       "      <td>15.758187</td>\n",
       "      <td>0.727027</td>\n",
       "      <td>NaN</td>\n",
       "      <td>22.681465</td>\n",
       "      <td>-1.544399</td>\n",
       "      <td>1.773595</td>\n",
       "      <td>-3.088895</td>\n",
       "      <td>-3.579066</td>\n",
       "    </tr>\n",
       "    <tr>\n",
       "      <th>A11_51</th>\n",
       "      <td>7.633948</td>\n",
       "      <td>0.077103</td>\n",
       "      <td>0.703641</td>\n",
       "      <td>0.419895</td>\n",
       "      <td>0.559865</td>\n",
       "      <td>-6.942340</td>\n",
       "      <td>1.111722</td>\n",
       "      <td>0.174473</td>\n",
       "      <td>2.517062</td>\n",
       "      <td>-1.057514</td>\n",
       "      <td>...</td>\n",
       "      <td>0.772863</td>\n",
       "      <td>-0.873542</td>\n",
       "      <td>16.774581</td>\n",
       "      <td>-0.384493</td>\n",
       "      <td>NaN</td>\n",
       "      <td>23.893079</td>\n",
       "      <td>-0.050615</td>\n",
       "      <td>-1.412976</td>\n",
       "      <td>-6.528134</td>\n",
       "      <td>7.276401</td>\n",
       "    </tr>\n",
       "    <tr>\n",
       "      <th>A11_52</th>\n",
       "      <td>-8.027743</td>\n",
       "      <td>0.342941</td>\n",
       "      <td>0.207606</td>\n",
       "      <td>0.777800</td>\n",
       "      <td>1.855766</td>\n",
       "      <td>-6.155187</td>\n",
       "      <td>0.929895</td>\n",
       "      <td>-0.289071</td>\n",
       "      <td>0.662585</td>\n",
       "      <td>6.697976</td>\n",
       "      <td>...</td>\n",
       "      <td>0.621308</td>\n",
       "      <td>0.035059</td>\n",
       "      <td>16.362545</td>\n",
       "      <td>0.487377</td>\n",
       "      <td>NaN</td>\n",
       "      <td>22.642174</td>\n",
       "      <td>-0.752784</td>\n",
       "      <td>-3.310424</td>\n",
       "      <td>4.157145</td>\n",
       "      <td>-5.710500</td>\n",
       "    </tr>\n",
       "    <tr>\n",
       "      <th>A11_54</th>\n",
       "      <td>-8.525728</td>\n",
       "      <td>1.328282</td>\n",
       "      <td>0.473115</td>\n",
       "      <td>0.388526</td>\n",
       "      <td>0.823639</td>\n",
       "      <td>-6.179502</td>\n",
       "      <td>0.822936</td>\n",
       "      <td>-1.103175</td>\n",
       "      <td>7.015429</td>\n",
       "      <td>-4.235858</td>\n",
       "      <td>...</td>\n",
       "      <td>0.399033</td>\n",
       "      <td>0.443633</td>\n",
       "      <td>16.321728</td>\n",
       "      <td>-0.326466</td>\n",
       "      <td>NaN</td>\n",
       "      <td>23.076351</td>\n",
       "      <td>-3.822596</td>\n",
       "      <td>-2.623999</td>\n",
       "      <td>-6.319933</td>\n",
       "      <td>-4.721783</td>\n",
       "    </tr>\n",
       "    <tr>\n",
       "      <th>A11_57</th>\n",
       "      <td>6.346367</td>\n",
       "      <td>0.167243</td>\n",
       "      <td>2.454003</td>\n",
       "      <td>0.309949</td>\n",
       "      <td>1.359860</td>\n",
       "      <td>-0.526673</td>\n",
       "      <td>2.606971</td>\n",
       "      <td>0.754974</td>\n",
       "      <td>1.809343</td>\n",
       "      <td>-4.754368</td>\n",
       "      <td>...</td>\n",
       "      <td>-2.912437</td>\n",
       "      <td>0.611290</td>\n",
       "      <td>18.938192</td>\n",
       "      <td>1.074502</td>\n",
       "      <td>NaN</td>\n",
       "      <td>22.313950</td>\n",
       "      <td>-0.262279</td>\n",
       "      <td>4.058366</td>\n",
       "      <td>6.746140</td>\n",
       "      <td>-5.175894</td>\n",
       "    </tr>\n",
       "    <tr>\n",
       "      <th>A11_58</th>\n",
       "      <td>-7.285724</td>\n",
       "      <td>0.583391</td>\n",
       "      <td>-0.163537</td>\n",
       "      <td>-1.535646</td>\n",
       "      <td>0.151295</td>\n",
       "      <td>-6.545795</td>\n",
       "      <td>NaN</td>\n",
       "      <td>-0.749599</td>\n",
       "      <td>1.642822</td>\n",
       "      <td>2.715098</td>\n",
       "      <td>...</td>\n",
       "      <td>-0.324229</td>\n",
       "      <td>-1.474309</td>\n",
       "      <td>16.352664</td>\n",
       "      <td>-0.068981</td>\n",
       "      <td>NaN</td>\n",
       "      <td>23.206375</td>\n",
       "      <td>-4.699755</td>\n",
       "      <td>0.792384</td>\n",
       "      <td>-3.585440</td>\n",
       "      <td>2.196232</td>\n",
       "    </tr>\n",
       "    <tr>\n",
       "      <th>A11_60</th>\n",
       "      <td>7.598761</td>\n",
       "      <td>0.730103</td>\n",
       "      <td>0.828262</td>\n",
       "      <td>0.347327</td>\n",
       "      <td>0.161159</td>\n",
       "      <td>-8.610313</td>\n",
       "      <td>2.052813</td>\n",
       "      <td>-0.986483</td>\n",
       "      <td>-8.726147</td>\n",
       "      <td>-7.935309</td>\n",
       "      <td>...</td>\n",
       "      <td>-0.000856</td>\n",
       "      <td>-0.865281</td>\n",
       "      <td>15.641259</td>\n",
       "      <td>1.351713</td>\n",
       "      <td>NaN</td>\n",
       "      <td>22.050501</td>\n",
       "      <td>-2.512252</td>\n",
       "      <td>2.951493</td>\n",
       "      <td>-1.999519</td>\n",
       "      <td>-8.702733</td>\n",
       "    </tr>\n",
       "    <tr>\n",
       "      <th>A11_61</th>\n",
       "      <td>-6.880364</td>\n",
       "      <td>0.862238</td>\n",
       "      <td>NaN</td>\n",
       "      <td>-0.426329</td>\n",
       "      <td>4.559201</td>\n",
       "      <td>-8.452262</td>\n",
       "      <td>0.926557</td>\n",
       "      <td>2.548554</td>\n",
       "      <td>1.555138</td>\n",
       "      <td>-3.631661</td>\n",
       "      <td>...</td>\n",
       "      <td>0.768317</td>\n",
       "      <td>-1.471348</td>\n",
       "      <td>17.081808</td>\n",
       "      <td>-0.140308</td>\n",
       "      <td>NaN</td>\n",
       "      <td>25.479476</td>\n",
       "      <td>-0.750635</td>\n",
       "      <td>3.074695</td>\n",
       "      <td>NaN</td>\n",
       "      <td>5.849204</td>\n",
       "    </tr>\n",
       "    <tr>\n",
       "      <th>A11_62</th>\n",
       "      <td>-8.045053</td>\n",
       "      <td>0.069826</td>\n",
       "      <td>-0.942733</td>\n",
       "      <td>-0.277029</td>\n",
       "      <td>0.725625</td>\n",
       "      <td>-7.727957</td>\n",
       "      <td>-0.064185</td>\n",
       "      <td>-0.066813</td>\n",
       "      <td>0.169675</td>\n",
       "      <td>-3.480213</td>\n",
       "      <td>...</td>\n",
       "      <td>-0.039708</td>\n",
       "      <td>-0.499990</td>\n",
       "      <td>19.067704</td>\n",
       "      <td>-0.319564</td>\n",
       "      <td>NaN</td>\n",
       "      <td>25.226514</td>\n",
       "      <td>-4.369941</td>\n",
       "      <td>3.546102</td>\n",
       "      <td>-7.820512</td>\n",
       "      <td>-6.362555</td>\n",
       "    </tr>\n",
       "    <tr>\n",
       "      <th>A11_64</th>\n",
       "      <td>-8.452961</td>\n",
       "      <td>1.313303</td>\n",
       "      <td>-0.180174</td>\n",
       "      <td>-0.395152</td>\n",
       "      <td>-3.073554</td>\n",
       "      <td>11.475177</td>\n",
       "      <td>-3.706662</td>\n",
       "      <td>1.467159</td>\n",
       "      <td>3.371451</td>\n",
       "      <td>-4.024469</td>\n",
       "      <td>...</td>\n",
       "      <td>-1.072126</td>\n",
       "      <td>-0.430788</td>\n",
       "      <td>16.292964</td>\n",
       "      <td>0.687982</td>\n",
       "      <td>NaN</td>\n",
       "      <td>24.538142</td>\n",
       "      <td>2.667982</td>\n",
       "      <td>2.440611</td>\n",
       "      <td>6.249088</td>\n",
       "      <td>8.189521</td>\n",
       "    </tr>\n",
       "    <tr>\n",
       "      <th>A11_66</th>\n",
       "      <td>9.448724</td>\n",
       "      <td>0.311918</td>\n",
       "      <td>0.164296</td>\n",
       "      <td>1.179131</td>\n",
       "      <td>1.776497</td>\n",
       "      <td>-6.723817</td>\n",
       "      <td>NaN</td>\n",
       "      <td>3.236887</td>\n",
       "      <td>3.533954</td>\n",
       "      <td>-2.685802</td>\n",
       "      <td>...</td>\n",
       "      <td>1.692752</td>\n",
       "      <td>0.418787</td>\n",
       "      <td>15.430309</td>\n",
       "      <td>1.211189</td>\n",
       "      <td>NaN</td>\n",
       "      <td>22.224755</td>\n",
       "      <td>0.956364</td>\n",
       "      <td>-0.765028</td>\n",
       "      <td>-0.505661</td>\n",
       "      <td>-4.559104</td>\n",
       "    </tr>\n",
       "    <tr>\n",
       "      <th>A11_68</th>\n",
       "      <td>-8.824487</td>\n",
       "      <td>0.908554</td>\n",
       "      <td>0.693707</td>\n",
       "      <td>0.258778</td>\n",
       "      <td>3.071328</td>\n",
       "      <td>12.956824</td>\n",
       "      <td>0.565678</td>\n",
       "      <td>0.980528</td>\n",
       "      <td>-4.295115</td>\n",
       "      <td>-3.894834</td>\n",
       "      <td>...</td>\n",
       "      <td>1.005061</td>\n",
       "      <td>0.611755</td>\n",
       "      <td>18.096924</td>\n",
       "      <td>-0.249243</td>\n",
       "      <td>NaN</td>\n",
       "      <td>24.928409</td>\n",
       "      <td>4.742218</td>\n",
       "      <td>-2.630358</td>\n",
       "      <td>5.647873</td>\n",
       "      <td>9.762167</td>\n",
       "    </tr>\n",
       "    <tr>\n",
       "      <th>A11_69</th>\n",
       "      <td>-5.625713</td>\n",
       "      <td>0.622860</td>\n",
       "      <td>-0.599341</td>\n",
       "      <td>-0.301774</td>\n",
       "      <td>0.571811</td>\n",
       "      <td>11.847581</td>\n",
       "      <td>0.201365</td>\n",
       "      <td>0.066659</td>\n",
       "      <td>2.859140</td>\n",
       "      <td>-4.665133</td>\n",
       "      <td>...</td>\n",
       "      <td>-0.211785</td>\n",
       "      <td>-0.645943</td>\n",
       "      <td>16.710638</td>\n",
       "      <td>-0.341715</td>\n",
       "      <td>NaN</td>\n",
       "      <td>23.724599</td>\n",
       "      <td>1.796232</td>\n",
       "      <td>0.607982</td>\n",
       "      <td>0.693608</td>\n",
       "      <td>6.862298</td>\n",
       "    </tr>\n",
       "    <tr>\n",
       "      <th>A11_72</th>\n",
       "      <td>-9.219612</td>\n",
       "      <td>0.579977</td>\n",
       "      <td>0.901603</td>\n",
       "      <td>0.680549</td>\n",
       "      <td>1.497327</td>\n",
       "      <td>1.119451</td>\n",
       "      <td>-2.112560</td>\n",
       "      <td>-1.144666</td>\n",
       "      <td>-0.532813</td>\n",
       "      <td>-9.513557</td>\n",
       "      <td>...</td>\n",
       "      <td>-0.582535</td>\n",
       "      <td>-1.300570</td>\n",
       "      <td>16.447684</td>\n",
       "      <td>0.858761</td>\n",
       "      <td>NaN</td>\n",
       "      <td>23.037218</td>\n",
       "      <td>0.305084</td>\n",
       "      <td>1.587400</td>\n",
       "      <td>-1.889495</td>\n",
       "      <td>-10.516313</td>\n",
       "    </tr>\n",
       "    <tr>\n",
       "      <th>A11_73</th>\n",
       "      <td>-5.636734</td>\n",
       "      <td>0.453751</td>\n",
       "      <td>NaN</td>\n",
       "      <td>-1.238875</td>\n",
       "      <td>-1.676514</td>\n",
       "      <td>3.115243</td>\n",
       "      <td>-5.534217</td>\n",
       "      <td>-0.918070</td>\n",
       "      <td>-6.196405</td>\n",
       "      <td>-4.306319</td>\n",
       "      <td>...</td>\n",
       "      <td>-0.095414</td>\n",
       "      <td>0.419458</td>\n",
       "      <td>15.222614</td>\n",
       "      <td>-0.870604</td>\n",
       "      <td>NaN</td>\n",
       "      <td>21.546315</td>\n",
       "      <td>2.459713</td>\n",
       "      <td>3.235806</td>\n",
       "      <td>-3.884509</td>\n",
       "      <td>4.981810</td>\n",
       "    </tr>\n",
       "    <tr>\n",
       "      <th>A11_77</th>\n",
       "      <td>-8.798892</td>\n",
       "      <td>0.301123</td>\n",
       "      <td>-0.323830</td>\n",
       "      <td>0.432050</td>\n",
       "      <td>2.895317</td>\n",
       "      <td>10.033640</td>\n",
       "      <td>0.595472</td>\n",
       "      <td>-0.957188</td>\n",
       "      <td>4.284933</td>\n",
       "      <td>-3.969501</td>\n",
       "      <td>...</td>\n",
       "      <td>0.783732</td>\n",
       "      <td>2.010373</td>\n",
       "      <td>18.009701</td>\n",
       "      <td>-0.453162</td>\n",
       "      <td>NaN</td>\n",
       "      <td>25.167154</td>\n",
       "      <td>-1.830648</td>\n",
       "      <td>-2.582527</td>\n",
       "      <td>6.232993</td>\n",
       "      <td>-2.549221</td>\n",
       "    </tr>\n",
       "    <tr>\n",
       "      <th>A11_78</th>\n",
       "      <td>-4.061045</td>\n",
       "      <td>0.153991</td>\n",
       "      <td>0.749857</td>\n",
       "      <td>0.981008</td>\n",
       "      <td>0.952446</td>\n",
       "      <td>-7.626006</td>\n",
       "      <td>0.546279</td>\n",
       "      <td>1.417278</td>\n",
       "      <td>2.061099</td>\n",
       "      <td>-4.090833</td>\n",
       "      <td>...</td>\n",
       "      <td>0.792770</td>\n",
       "      <td>2.142495</td>\n",
       "      <td>16.595233</td>\n",
       "      <td>0.516697</td>\n",
       "      <td>NaN</td>\n",
       "      <td>25.390230</td>\n",
       "      <td>5.181662</td>\n",
       "      <td>-2.575708</td>\n",
       "      <td>12.377388</td>\n",
       "      <td>8.398114</td>\n",
       "    </tr>\n",
       "    <tr>\n",
       "      <th>A11_79</th>\n",
       "      <td>-0.940648</td>\n",
       "      <td>0.348818</td>\n",
       "      <td>0.462085</td>\n",
       "      <td>0.467866</td>\n",
       "      <td>5.958515</td>\n",
       "      <td>5.921017</td>\n",
       "      <td>NaN</td>\n",
       "      <td>0.267799</td>\n",
       "      <td>2.001825</td>\n",
       "      <td>2.009163</td>\n",
       "      <td>...</td>\n",
       "      <td>0.331876</td>\n",
       "      <td>2.086463</td>\n",
       "      <td>17.236369</td>\n",
       "      <td>1.208932</td>\n",
       "      <td>NaN</td>\n",
       "      <td>24.567289</td>\n",
       "      <td>4.332028</td>\n",
       "      <td>-2.421702</td>\n",
       "      <td>2.236019</td>\n",
       "      <td>8.882389</td>\n",
       "    </tr>\n",
       "    <tr>\n",
       "      <th>A11_80</th>\n",
       "      <td>6.014177</td>\n",
       "      <td>0.634675</td>\n",
       "      <td>-0.431921</td>\n",
       "      <td>1.064627</td>\n",
       "      <td>-4.663311</td>\n",
       "      <td>-7.117807</td>\n",
       "      <td>1.670899</td>\n",
       "      <td>-0.385115</td>\n",
       "      <td>-4.388628</td>\n",
       "      <td>-5.171900</td>\n",
       "      <td>...</td>\n",
       "      <td>-0.042121</td>\n",
       "      <td>-0.469607</td>\n",
       "      <td>16.598856</td>\n",
       "      <td>0.260251</td>\n",
       "      <td>NaN</td>\n",
       "      <td>23.133193</td>\n",
       "      <td>-1.978838</td>\n",
       "      <td>2.192267</td>\n",
       "      <td>-1.833746</td>\n",
       "      <td>-3.248339</td>\n",
       "    </tr>\n",
       "    <tr>\n",
       "      <th>A11_85</th>\n",
       "      <td>NaN</td>\n",
       "      <td>0.327573</td>\n",
       "      <td>NaN</td>\n",
       "      <td>-0.645948</td>\n",
       "      <td>-2.031381</td>\n",
       "      <td>7.609264</td>\n",
       "      <td>-0.660415</td>\n",
       "      <td>1.255510</td>\n",
       "      <td>5.098531</td>\n",
       "      <td>-4.039771</td>\n",
       "      <td>...</td>\n",
       "      <td>-0.470322</td>\n",
       "      <td>0.624881</td>\n",
       "      <td>15.913935</td>\n",
       "      <td>0.221976</td>\n",
       "      <td>NaN</td>\n",
       "      <td>20.968383</td>\n",
       "      <td>1.705758</td>\n",
       "      <td>6.654459</td>\n",
       "      <td>10.226067</td>\n",
       "      <td>-1.580349</td>\n",
       "    </tr>\n",
       "    <tr>\n",
       "      <th>A11_86</th>\n",
       "      <td>3.189294</td>\n",
       "      <td>2.307381</td>\n",
       "      <td>NaN</td>\n",
       "      <td>1.684777</td>\n",
       "      <td>0.510847</td>\n",
       "      <td>-1.193390</td>\n",
       "      <td>-1.424114</td>\n",
       "      <td>-0.993333</td>\n",
       "      <td>-3.922912</td>\n",
       "      <td>1.348560</td>\n",
       "      <td>...</td>\n",
       "      <td>-3.327925</td>\n",
       "      <td>0.331371</td>\n",
       "      <td>15.066564</td>\n",
       "      <td>0.038268</td>\n",
       "      <td>NaN</td>\n",
       "      <td>16.979292</td>\n",
       "      <td>-0.394850</td>\n",
       "      <td>5.130092</td>\n",
       "      <td>3.422867</td>\n",
       "      <td>-0.946073</td>\n",
       "    </tr>\n",
       "    <tr>\n",
       "      <th>A11_87</th>\n",
       "      <td>-5.011391</td>\n",
       "      <td>0.101890</td>\n",
       "      <td>1.089817</td>\n",
       "      <td>-1.230890</td>\n",
       "      <td>-3.135374</td>\n",
       "      <td>-7.961377</td>\n",
       "      <td>0.164554</td>\n",
       "      <td>0.359548</td>\n",
       "      <td>-6.488684</td>\n",
       "      <td>-4.194792</td>\n",
       "      <td>...</td>\n",
       "      <td>0.180122</td>\n",
       "      <td>-0.699413</td>\n",
       "      <td>16.162823</td>\n",
       "      <td>-0.427215</td>\n",
       "      <td>NaN</td>\n",
       "      <td>22.939438</td>\n",
       "      <td>1.632431</td>\n",
       "      <td>-4.138147</td>\n",
       "      <td>-3.984612</td>\n",
       "      <td>-3.358585</td>\n",
       "    </tr>\n",
       "    <tr>\n",
       "      <th>A11_89</th>\n",
       "      <td>-0.781114</td>\n",
       "      <td>1.079321</td>\n",
       "      <td>0.219939</td>\n",
       "      <td>0.771153</td>\n",
       "      <td>1.955114</td>\n",
       "      <td>5.559785</td>\n",
       "      <td>4.924384</td>\n",
       "      <td>2.472066</td>\n",
       "      <td>2.813091</td>\n",
       "      <td>14.695409</td>\n",
       "      <td>...</td>\n",
       "      <td>-0.372606</td>\n",
       "      <td>0.096194</td>\n",
       "      <td>16.820080</td>\n",
       "      <td>0.619160</td>\n",
       "      <td>NaN</td>\n",
       "      <td>24.101895</td>\n",
       "      <td>3.574523</td>\n",
       "      <td>2.409968</td>\n",
       "      <td>4.127189</td>\n",
       "      <td>15.004739</td>\n",
       "    </tr>\n",
       "    <tr>\n",
       "      <th>A11_90</th>\n",
       "      <td>NaN</td>\n",
       "      <td>0.645842</td>\n",
       "      <td>NaN</td>\n",
       "      <td>NaN</td>\n",
       "      <td>-0.890742</td>\n",
       "      <td>13.016383</td>\n",
       "      <td>-5.268835</td>\n",
       "      <td>-0.468322</td>\n",
       "      <td>2.211619</td>\n",
       "      <td>-4.457251</td>\n",
       "      <td>...</td>\n",
       "      <td>0.058875</td>\n",
       "      <td>-1.051974</td>\n",
       "      <td>17.411414</td>\n",
       "      <td>-0.035335</td>\n",
       "      <td>NaN</td>\n",
       "      <td>25.180528</td>\n",
       "      <td>-1.240811</td>\n",
       "      <td>3.017025</td>\n",
       "      <td>-2.024357</td>\n",
       "      <td>-5.818075</td>\n",
       "    </tr>\n",
       "    <tr>\n",
       "      <th>A11_91</th>\n",
       "      <td>-6.343767</td>\n",
       "      <td>0.438523</td>\n",
       "      <td>-0.322617</td>\n",
       "      <td>1.973411</td>\n",
       "      <td>4.515720</td>\n",
       "      <td>-8.495414</td>\n",
       "      <td>NaN</td>\n",
       "      <td>-0.224670</td>\n",
       "      <td>3.258043</td>\n",
       "      <td>2.732642</td>\n",
       "      <td>...</td>\n",
       "      <td>0.114539</td>\n",
       "      <td>1.206215</td>\n",
       "      <td>16.871327</td>\n",
       "      <td>1.084758</td>\n",
       "      <td>NaN</td>\n",
       "      <td>22.730956</td>\n",
       "      <td>4.994928</td>\n",
       "      <td>-2.030958</td>\n",
       "      <td>-0.282208</td>\n",
       "      <td>8.456099</td>\n",
       "    </tr>\n",
       "    <tr>\n",
       "      <th>A11_93</th>\n",
       "      <td>-10.147285</td>\n",
       "      <td>1.145573</td>\n",
       "      <td>0.048948</td>\n",
       "      <td>-1.089350</td>\n",
       "      <td>0.539833</td>\n",
       "      <td>2.720952</td>\n",
       "      <td>-3.445357</td>\n",
       "      <td>0.891066</td>\n",
       "      <td>3.003684</td>\n",
       "      <td>-1.667592</td>\n",
       "      <td>...</td>\n",
       "      <td>-0.317916</td>\n",
       "      <td>1.977915</td>\n",
       "      <td>15.687951</td>\n",
       "      <td>-0.098451</td>\n",
       "      <td>NaN</td>\n",
       "      <td>21.553930</td>\n",
       "      <td>2.977722</td>\n",
       "      <td>-1.913176</td>\n",
       "      <td>4.279626</td>\n",
       "      <td>-4.650492</td>\n",
       "    </tr>\n",
       "    <tr>\n",
       "      <th>A11_94</th>\n",
       "      <td>NaN</td>\n",
       "      <td>0.321844</td>\n",
       "      <td>NaN</td>\n",
       "      <td>1.016712</td>\n",
       "      <td>1.801923</td>\n",
       "      <td>-4.157083</td>\n",
       "      <td>-0.097598</td>\n",
       "      <td>-1.954080</td>\n",
       "      <td>-1.739499</td>\n",
       "      <td>-6.520551</td>\n",
       "      <td>...</td>\n",
       "      <td>-1.698334</td>\n",
       "      <td>1.363267</td>\n",
       "      <td>17.357844</td>\n",
       "      <td>0.390511</td>\n",
       "      <td>NaN</td>\n",
       "      <td>23.977236</td>\n",
       "      <td>0.078992</td>\n",
       "      <td>1.801422</td>\n",
       "      <td>NaN</td>\n",
       "      <td>-0.499069</td>\n",
       "    </tr>\n",
       "  </tbody>\n",
       "</table>\n",
       "<p>534 rows × 46 columns</p>\n",
       "</div>"
      ],
      "text/plain": [
       "        Cadmium_Chloride  Caffeine  Calcium_Chloride  Cisplatin  \\\n",
       "A01_01         -7.323520  0.279993          0.313118   1.658179   \n",
       "A01_04         -6.147649  0.878392         -0.563331  -0.827358   \n",
       "A01_06          9.394562  1.655436          0.531654  -2.044903   \n",
       "A01_08         -7.585476  1.750342          0.941181   0.306306   \n",
       "A01_13          6.099126  1.193630         -0.460481  -2.254822   \n",
       "A01_14         -6.128808  2.287569          0.030860   1.457627   \n",
       "A01_17         -6.435934  0.331987          0.701171   0.330169   \n",
       "A01_18         -1.744416  1.179753         -0.869870  -1.269823   \n",
       "A01_20         -6.362380  0.986639         -0.284413   0.014248   \n",
       "A01_21          5.925445  1.238484         -0.180890  -0.785711   \n",
       "A01_22          3.015350  0.844175          0.640409   1.477814   \n",
       "A01_23          5.368651  1.648824         -0.311006   0.151763   \n",
       "A01_25          2.361884  1.207676         -1.382897   1.224807   \n",
       "A01_26         -5.888597  1.748776         -0.432020  -0.303939   \n",
       "A01_27          5.864971  0.085989          0.272710   0.687241   \n",
       "A01_29          8.291001  0.602952         -0.209818   0.176575   \n",
       "A01_31         -6.398361  0.166271         -0.878706  -0.078068   \n",
       "A01_32          7.130669  0.718797          0.518366   1.823296   \n",
       "A01_33         -7.996359  0.922486          0.264327  -1.664310   \n",
       "A01_34         -7.061253  0.024929          1.033085   0.766978   \n",
       "A01_35          7.125313  0.477383          0.203855   0.146072   \n",
       "A01_38          7.221967  1.607407          1.136931   0.321945   \n",
       "A01_40          7.386030  0.685339          0.552385   1.627962   \n",
       "A01_44          5.584843  1.063073         -0.673369   0.292690   \n",
       "A01_45         -6.886116  2.422459          2.094146   2.513203   \n",
       "A01_46         -6.857821  0.372263         -1.493623  -2.658450   \n",
       "A01_47         -4.268287  0.362259          0.310740   1.390570   \n",
       "A01_55          4.074521  1.005304         -0.840341  -0.156409   \n",
       "A01_58          4.092310  0.929132         -0.885145   0.854615   \n",
       "A01_59         -7.267147  0.317266          0.353902   0.173577   \n",
       "...                  ...       ...               ...        ...   \n",
       "A11_44         -7.455436  0.065010          0.708960  -0.303781   \n",
       "A11_45          2.907273  0.377561          0.008094   1.516315   \n",
       "A11_46         -6.928941  0.077312          0.227317   1.109649   \n",
       "A11_48          7.183339  0.983350          2.090029   0.001171   \n",
       "A11_51          7.633948  0.077103          0.703641   0.419895   \n",
       "A11_52         -8.027743  0.342941          0.207606   0.777800   \n",
       "A11_54         -8.525728  1.328282          0.473115   0.388526   \n",
       "A11_57          6.346367  0.167243          2.454003   0.309949   \n",
       "A11_58         -7.285724  0.583391         -0.163537  -1.535646   \n",
       "A11_60          7.598761  0.730103          0.828262   0.347327   \n",
       "A11_61         -6.880364  0.862238               NaN  -0.426329   \n",
       "A11_62         -8.045053  0.069826         -0.942733  -0.277029   \n",
       "A11_64         -8.452961  1.313303         -0.180174  -0.395152   \n",
       "A11_66          9.448724  0.311918          0.164296   1.179131   \n",
       "A11_68         -8.824487  0.908554          0.693707   0.258778   \n",
       "A11_69         -5.625713  0.622860         -0.599341  -0.301774   \n",
       "A11_72         -9.219612  0.579977          0.901603   0.680549   \n",
       "A11_73         -5.636734  0.453751               NaN  -1.238875   \n",
       "A11_77         -8.798892  0.301123         -0.323830   0.432050   \n",
       "A11_78         -4.061045  0.153991          0.749857   0.981008   \n",
       "A11_79         -0.940648  0.348818          0.462085   0.467866   \n",
       "A11_80          6.014177  0.634675         -0.431921   1.064627   \n",
       "A11_85               NaN  0.327573               NaN  -0.645948   \n",
       "A11_86          3.189294  2.307381               NaN   1.684777   \n",
       "A11_87         -5.011391  0.101890          1.089817  -1.230890   \n",
       "A11_89         -0.781114  1.079321          0.219939   0.771153   \n",
       "A11_90               NaN  0.645842               NaN        NaN   \n",
       "A11_91         -6.343767  0.438523         -0.322617   1.973411   \n",
       "A11_93        -10.147285  1.145573          0.048948  -1.089350   \n",
       "A11_94               NaN  0.321844               NaN   1.016712   \n",
       "\n",
       "        Cobalt_Chloride  Congo_red    Copper  Cycloheximide    Diamide  \\\n",
       "A01_01        -1.604442   5.841617 -4.130950       0.821226   3.622602   \n",
       "A01_04        -1.291270   2.753851 -2.268121       0.867456  -6.832079   \n",
       "A01_06         1.577325  -5.769939  1.355905       2.336068   4.038331   \n",
       "A01_08        -2.997501   0.063007 -4.352137       2.634605   3.147146   \n",
       "A01_13        -1.737934  -6.773013  1.847423       1.492433   5.377797   \n",
       "A01_14         2.658909   8.873294 -2.725993       2.081959  -0.640953   \n",
       "A01_17        -3.157943  -1.098844  2.099880       3.261305 -10.892045   \n",
       "A01_18         3.048698  -6.121298  0.008026      -0.243670   3.129125   \n",
       "A01_20         2.235446  -1.681283 -0.420546       0.076087   3.076295   \n",
       "A01_21         0.856511  -0.954674  1.886783       2.196050   2.436579   \n",
       "A01_22         2.287242  -0.343746  1.038470      -0.832654   2.717067   \n",
       "A01_23         2.089597   0.886900 -0.827784      -0.076783   2.241636   \n",
       "A01_25        -1.735648  -0.200892       NaN      -2.155111  -6.857530   \n",
       "A01_26        -2.064806  -0.087783  0.418293       1.550241   1.862355   \n",
       "A01_27        -2.272625  -6.032576  2.116587       0.717661   4.509182   \n",
       "A01_29         2.970487  11.674431 -5.015363       0.942569  -0.493707   \n",
       "A01_31        -3.349890  -1.069199  1.163056      -0.895535  -0.087970   \n",
       "A01_32         0.429805  -1.103549  0.740313       2.506797   2.778662   \n",
       "A01_33        -5.532087  -5.217066  1.188328       2.380337   3.479604   \n",
       "A01_34         3.873184   1.228287 -0.019795      -0.597636  -0.869106   \n",
       "A01_35         4.542455  -4.875453  2.360665      -1.442190   0.693330   \n",
       "A01_38        -2.917663   6.128958 -0.439967       3.226792   4.648551   \n",
       "A01_40         4.060814  -1.013393 -0.051946       0.805096   5.205418   \n",
       "A01_44        -0.585619  -1.411756  0.982226      -0.333864   2.798290   \n",
       "A01_45         6.714054  -0.397405 -6.722845      -1.037253  -0.875755   \n",
       "A01_46        -0.895147  -5.366424 -0.115780      -0.501187   3.045313   \n",
       "A01_47         0.966619  10.681893  0.633434       0.512259   1.973278   \n",
       "A01_55         1.439703  -0.288215 -2.433246      -0.739372   4.679368   \n",
       "A01_58        -1.651898   1.106198  2.308981      -1.584598   2.258720   \n",
       "A01_59         3.859513  -1.350063  0.048835      -1.142921   0.293651   \n",
       "...                 ...        ...       ...            ...        ...   \n",
       "A11_44         1.814606   5.638196  0.224649       1.198512  -1.343692   \n",
       "A11_45         0.471784  -6.231109 -3.230581      -0.941268 -11.222300   \n",
       "A11_46         2.180708  -1.061959  0.614301       1.245527   4.237199   \n",
       "A11_48         0.420704  -2.660331  1.417940       1.470723   1.243041   \n",
       "A11_51         0.559865  -6.942340  1.111722       0.174473   2.517062   \n",
       "A11_52         1.855766  -6.155187  0.929895      -0.289071   0.662585   \n",
       "A11_54         0.823639  -6.179502  0.822936      -1.103175   7.015429   \n",
       "A11_57         1.359860  -0.526673  2.606971       0.754974   1.809343   \n",
       "A11_58         0.151295  -6.545795       NaN      -0.749599   1.642822   \n",
       "A11_60         0.161159  -8.610313  2.052813      -0.986483  -8.726147   \n",
       "A11_61         4.559201  -8.452262  0.926557       2.548554   1.555138   \n",
       "A11_62         0.725625  -7.727957 -0.064185      -0.066813   0.169675   \n",
       "A11_64        -3.073554  11.475177 -3.706662       1.467159   3.371451   \n",
       "A11_66         1.776497  -6.723817       NaN       3.236887   3.533954   \n",
       "A11_68         3.071328  12.956824  0.565678       0.980528  -4.295115   \n",
       "A11_69         0.571811  11.847581  0.201365       0.066659   2.859140   \n",
       "A11_72         1.497327   1.119451 -2.112560      -1.144666  -0.532813   \n",
       "A11_73        -1.676514   3.115243 -5.534217      -0.918070  -6.196405   \n",
       "A11_77         2.895317  10.033640  0.595472      -0.957188   4.284933   \n",
       "A11_78         0.952446  -7.626006  0.546279       1.417278   2.061099   \n",
       "A11_79         5.958515   5.921017       NaN       0.267799   2.001825   \n",
       "A11_80        -4.663311  -7.117807  1.670899      -0.385115  -4.388628   \n",
       "A11_85        -2.031381   7.609264 -0.660415       1.255510   5.098531   \n",
       "A11_86         0.510847  -1.193390 -1.424114      -0.993333  -3.922912   \n",
       "A11_87        -3.135374  -7.961377  0.164554       0.359548  -6.488684   \n",
       "A11_89         1.955114   5.559785  4.924384       2.472066   2.813091   \n",
       "A11_90        -0.890742  13.016383 -5.268835      -0.468322   2.211619   \n",
       "A11_91         4.515720  -8.495414       NaN      -0.224670   3.258043   \n",
       "A11_93         0.539833   2.720952 -3.445357       0.891066   3.003684   \n",
       "A11_94         1.801923  -4.157083 -0.097598      -1.954080  -1.739499   \n",
       "\n",
       "        E6_Berbamine    ...      x6-Azauracil    Xylose        YNB   YNB:ph3  \\\n",
       "A01_01     -0.378747    ...          1.199054 -0.309149  17.470822  0.055225   \n",
       "A01_04     -1.970630    ...          0.054694 -0.739040  15.575856 -1.690867   \n",
       "A01_06     -2.917101    ...          0.591233 -0.134019  16.085601 -0.100294   \n",
       "A01_08      8.292883    ...          0.043294 -0.826648  16.210856       NaN   \n",
       "A01_13     -2.763472    ...          0.428124 -0.447422  15.707533  1.328875   \n",
       "A01_14     -2.948221    ...          0.871464  0.239443  16.293701  0.306043   \n",
       "A01_17     14.833187    ...          0.778375  1.257294  16.432578  0.030953   \n",
       "A01_18     -0.310028    ...         -0.658192  0.014206  17.374168 -0.383067   \n",
       "A01_20     -6.065038    ...         -1.904024  0.127447  14.506945 -0.817359   \n",
       "A01_21     -0.643799    ...          0.736404  1.220645  17.109577  0.002582   \n",
       "A01_22     -4.706824    ...          2.037066  1.738069  17.113177  0.625722   \n",
       "A01_23     -5.830545    ...         -0.369967 -0.887642  15.680565 -0.132719   \n",
       "A01_25     -3.846204    ...          0.909605 -1.330609  13.144011  1.004012   \n",
       "A01_26      4.625362    ...          0.572039 -0.514878  16.622170 -0.709576   \n",
       "A01_27      8.784337    ...          0.984612  0.663690  17.433361 -0.237397   \n",
       "A01_29     10.374494    ...          0.222568 -1.013385  16.763518 -0.206383   \n",
       "A01_31     -4.928491    ...         -1.314301 -1.375641  15.544307 -0.004930   \n",
       "A01_32     -4.981721    ...          0.632448  1.494387  16.222977  0.751728   \n",
       "A01_33     -2.757452    ...          1.271010  1.306615  18.784166  0.187778   \n",
       "A01_34     -3.144067    ...          1.212225  1.713806  17.565024  0.101327   \n",
       "A01_35     -6.215016    ...          1.818472  0.151740  16.212551  0.662079   \n",
       "A01_38     -3.809075    ...          1.010044  0.545939  15.461926  0.202358   \n",
       "A01_40      0.235112    ...         -0.328904  0.065395  16.315874  0.539172   \n",
       "A01_44      0.193106    ...         -0.635281 -0.836197  15.972579  0.842179   \n",
       "A01_45     -5.357255    ...         -1.635183  0.518553  15.862309  1.405404   \n",
       "A01_46     -5.753381    ...         -1.029738 -0.399975  15.623093 -0.450903   \n",
       "A01_47     -6.997449    ...          0.574923  0.748745  17.494740 -0.075021   \n",
       "A01_55     -5.967278    ...          0.205970  0.869975  15.028113  0.364559   \n",
       "A01_58      6.459206    ...          0.709761  0.793777  17.961373  0.583428   \n",
       "A01_59     -2.481264    ...          0.165374  1.366814  16.484308 -0.533237   \n",
       "...              ...    ...               ...       ...        ...       ...   \n",
       "A11_44     -4.435628    ...         -0.749211 -0.148476  17.105216  0.123122   \n",
       "A11_45     -4.671810    ...          0.790916  0.722727  16.467980  1.132648   \n",
       "A11_46      3.007887    ...          0.791549  1.060520  15.742954  0.688456   \n",
       "A11_48     -7.825930    ...         -0.111029 -0.589826  15.758187  0.727027   \n",
       "A11_51     -1.057514    ...          0.772863 -0.873542  16.774581 -0.384493   \n",
       "A11_52      6.697976    ...          0.621308  0.035059  16.362545  0.487377   \n",
       "A11_54     -4.235858    ...          0.399033  0.443633  16.321728 -0.326466   \n",
       "A11_57     -4.754368    ...         -2.912437  0.611290  18.938192  1.074502   \n",
       "A11_58      2.715098    ...         -0.324229 -1.474309  16.352664 -0.068981   \n",
       "A11_60     -7.935309    ...         -0.000856 -0.865281  15.641259  1.351713   \n",
       "A11_61     -3.631661    ...          0.768317 -1.471348  17.081808 -0.140308   \n",
       "A11_62     -3.480213    ...         -0.039708 -0.499990  19.067704 -0.319564   \n",
       "A11_64     -4.024469    ...         -1.072126 -0.430788  16.292964  0.687982   \n",
       "A11_66     -2.685802    ...          1.692752  0.418787  15.430309  1.211189   \n",
       "A11_68     -3.894834    ...          1.005061  0.611755  18.096924 -0.249243   \n",
       "A11_69     -4.665133    ...         -0.211785 -0.645943  16.710638 -0.341715   \n",
       "A11_72     -9.513557    ...         -0.582535 -1.300570  16.447684  0.858761   \n",
       "A11_73     -4.306319    ...         -0.095414  0.419458  15.222614 -0.870604   \n",
       "A11_77     -3.969501    ...          0.783732  2.010373  18.009701 -0.453162   \n",
       "A11_78     -4.090833    ...          0.792770  2.142495  16.595233  0.516697   \n",
       "A11_79      2.009163    ...          0.331876  2.086463  17.236369  1.208932   \n",
       "A11_80     -5.171900    ...         -0.042121 -0.469607  16.598856  0.260251   \n",
       "A11_85     -4.039771    ...         -0.470322  0.624881  15.913935  0.221976   \n",
       "A11_86      1.348560    ...         -3.327925  0.331371  15.066564  0.038268   \n",
       "A11_87     -4.194792    ...          0.180122 -0.699413  16.162823 -0.427215   \n",
       "A11_89     14.695409    ...         -0.372606  0.096194  16.820080  0.619160   \n",
       "A11_90     -4.457251    ...          0.058875 -1.051974  17.411414 -0.035335   \n",
       "A11_91      2.732642    ...          0.114539  1.206215  16.871327  1.084758   \n",
       "A11_93     -1.667592    ...         -0.317916  1.977915  15.687951 -0.098451   \n",
       "A11_94     -6.520551    ...         -1.698334  1.363267  17.357844  0.390511   \n",
       "\n",
       "         YNB:ph8        YPD   YPD:15C   YPD:37C     YPD:4C     Zeocin  \n",
       "A01_01 -0.184268  24.548971  0.712171  0.890842   4.118372   8.592818  \n",
       "A01_04 -0.840344  20.893646 -0.636280  0.053258  -3.196936   0.294462  \n",
       "A01_06  0.710547  23.549116 -2.680231  2.025716  -0.889829  -4.108786  \n",
       "A01_08 -0.538390  23.595423 -1.449024  1.679693  -2.227455  -5.773160  \n",
       "A01_13 -0.676125  22.880547 -4.488093  3.399301  -5.313911  -4.854207  \n",
       "A01_14  0.903620  23.053594  4.081697  3.783942   0.069884   2.976971  \n",
       "A01_17  1.637458  23.623720  3.763264 -3.649057   7.883571  -5.824656  \n",
       "A01_18 -0.997588  23.653983 -2.572794  1.388221  -6.245010  -1.875007  \n",
       "A01_20 -0.907824  20.581287  0.125045 -0.928468  -2.542536   6.886391  \n",
       "A01_21 -0.689019  24.960265 -4.600436 -3.240098  -1.430459   4.630062  \n",
       "A01_22  0.712437  24.854792  5.443331 -4.111030   5.459420  10.382066  \n",
       "A01_23  0.793680  23.211814  1.160337  3.339040   0.908244  13.591021  \n",
       "A01_25  0.127184  22.482902 -0.605416  0.017608   0.398050  -2.081629  \n",
       "A01_26 -0.502412  23.804121 -4.416801  1.710262  -2.832793  -2.582201  \n",
       "A01_27 -0.214977  22.998909  1.925353  4.612446   2.617287   7.365063  \n",
       "A01_29  0.672626  26.448189  1.866508  0.239108  -0.638321  12.690415  \n",
       "A01_31 -0.744114  24.094502 -2.020393 -0.891901  -5.279599   1.193205  \n",
       "A01_32 -2.119434  22.723083  5.791591 -0.958975   1.065139  -2.015229  \n",
       "A01_33  0.246367  29.168126  4.090078  0.995169   3.198552 -10.757366  \n",
       "A01_34 -0.127652  23.749063  3.836577 -2.537776   6.718132  -4.968092  \n",
       "A01_35 -0.147682  23.430682 -2.494964  3.580115  -2.705861  -4.434123  \n",
       "A01_38  0.744799  22.786138 -0.951993 -1.479317   6.993651  -5.792154  \n",
       "A01_40 -0.718097  23.366239  3.277305  1.194231   0.670884   7.639392  \n",
       "A01_44  1.050111  22.333949 -4.374102  1.138760  -5.530835   5.771627  \n",
       "A01_45  1.074609  20.873441 -2.156279  6.328426   1.883678  -3.488512  \n",
       "A01_46 -0.254102  22.505698 -3.920752 -2.202890  -1.563144   1.055169  \n",
       "A01_47  0.094029  23.578347 -0.045091 -2.543260   1.207601   4.475345  \n",
       "A01_55  0.530884  22.119766  5.280116 -4.113606  -2.367438   0.865415  \n",
       "A01_58 -0.001954  27.061697 -4.836116  3.824283  -2.061558  -3.699731  \n",
       "A01_59 -0.487195  24.985005  0.075893  2.709230   2.936690   5.137446  \n",
       "...          ...        ...       ...       ...        ...        ...  \n",
       "A11_44       NaN  22.720722 -2.992506 -2.502814  -1.839947   5.751830  \n",
       "A11_45       NaN  22.521577  1.643338  2.459915  -5.901576  -4.664778  \n",
       "A11_46       NaN  22.512751  0.454164 -2.993857   2.341450   5.118265  \n",
       "A11_48       NaN  22.681465 -1.544399  1.773595  -3.088895  -3.579066  \n",
       "A11_51       NaN  23.893079 -0.050615 -1.412976  -6.528134   7.276401  \n",
       "A11_52       NaN  22.642174 -0.752784 -3.310424   4.157145  -5.710500  \n",
       "A11_54       NaN  23.076351 -3.822596 -2.623999  -6.319933  -4.721783  \n",
       "A11_57       NaN  22.313950 -0.262279  4.058366   6.746140  -5.175894  \n",
       "A11_58       NaN  23.206375 -4.699755  0.792384  -3.585440   2.196232  \n",
       "A11_60       NaN  22.050501 -2.512252  2.951493  -1.999519  -8.702733  \n",
       "A11_61       NaN  25.479476 -0.750635  3.074695        NaN   5.849204  \n",
       "A11_62       NaN  25.226514 -4.369941  3.546102  -7.820512  -6.362555  \n",
       "A11_64       NaN  24.538142  2.667982  2.440611   6.249088   8.189521  \n",
       "A11_66       NaN  22.224755  0.956364 -0.765028  -0.505661  -4.559104  \n",
       "A11_68       NaN  24.928409  4.742218 -2.630358   5.647873   9.762167  \n",
       "A11_69       NaN  23.724599  1.796232  0.607982   0.693608   6.862298  \n",
       "A11_72       NaN  23.037218  0.305084  1.587400  -1.889495 -10.516313  \n",
       "A11_73       NaN  21.546315  2.459713  3.235806  -3.884509   4.981810  \n",
       "A11_77       NaN  25.167154 -1.830648 -2.582527   6.232993  -2.549221  \n",
       "A11_78       NaN  25.390230  5.181662 -2.575708  12.377388   8.398114  \n",
       "A11_79       NaN  24.567289  4.332028 -2.421702   2.236019   8.882389  \n",
       "A11_80       NaN  23.133193 -1.978838  2.192267  -1.833746  -3.248339  \n",
       "A11_85       NaN  20.968383  1.705758  6.654459  10.226067  -1.580349  \n",
       "A11_86       NaN  16.979292 -0.394850  5.130092   3.422867  -0.946073  \n",
       "A11_87       NaN  22.939438  1.632431 -4.138147  -3.984612  -3.358585  \n",
       "A11_89       NaN  24.101895  3.574523  2.409968   4.127189  15.004739  \n",
       "A11_90       NaN  25.180528 -1.240811  3.017025  -2.024357  -5.818075  \n",
       "A11_91       NaN  22.730956  4.994928 -2.030958  -0.282208   8.456099  \n",
       "A11_93       NaN  21.553930  2.977722 -1.913176   4.279626  -4.650492  \n",
       "A11_94       NaN  23.977236  0.078992  1.801422        NaN  -0.499069  \n",
       "\n",
       "[534 rows x 46 columns]"
      ]
     },
     "execution_count": 53,
     "metadata": {},
     "output_type": "execute_result"
    }
   ],
   "source": [
    "df[df.Caffeine > 0]"
   ]
  },
  {
   "cell_type": "markdown",
   "metadata": {},
   "source": [
    "To check that there are no values below 0 run the *min()* function again"
   ]
  },
  {
   "cell_type": "code",
   "execution_count": 54,
   "metadata": {},
   "outputs": [
    {
     "data": {
      "text/plain": [
       "0.0032293928665531"
      ]
     },
     "execution_count": 54,
     "metadata": {},
     "output_type": "execute_result"
    }
   ],
   "source": [
    "df[df.Caffeine > 0].Caffeine.min()"
   ]
  },
  {
   "cell_type": "markdown",
   "metadata": {},
   "source": [
    "Some of our values have missing values that are represented in the output as `NaN`. Often we can't work with them. One way to deal with them is to drop the rows that contain them. First let's check how many missing values we have."
   ]
  },
  {
   "cell_type": "code",
   "execution_count": 55,
   "metadata": {},
   "outputs": [
    {
     "name": "stdout",
     "output_type": "stream",
     "text": [
      "A05_12   NaN\n",
      "A09_65   NaN\n",
      "A10_01   NaN\n",
      "A11_96   NaN\n",
      "Name: Caffeine, dtype: float64\n"
     ]
    }
   ],
   "source": [
    "print(df.Caffeine[df.Caffeine.isnull()])"
   ]
  },
  {
   "cell_type": "code",
   "execution_count": 56,
   "metadata": {},
   "outputs": [
    {
     "name": "stdout",
     "output_type": "stream",
     "text": [
      "Series([], Name: Caffeine, dtype: float64)\n"
     ]
    }
   ],
   "source": [
    "df.dropna(subset=['Caffeine'], inplace=True)\n",
    "print(df.Caffeine[df.Caffeine.isnull()])"
   ]
  },
  {
   "cell_type": "markdown",
   "metadata": {},
   "source": [
    "### Plotting pandas dataframes\n",
    "\n",
    "The *DataFrame* has a built in plotting functions (i.e `pd.hist()` or `pd.plot()`) that allows to create simple plots using matplotlib internally. For more advanced plotting functions, one can use the *matplotlib* library directly."
   ]
  },
  {
   "cell_type": "code",
   "execution_count": 57,
   "metadata": {},
   "outputs": [
    {
     "data": {
      "text/plain": [
       "array([[<matplotlib.axes._subplots.AxesSubplot object at 0x7efe7107be50>,\n",
       "        <matplotlib.axes._subplots.AxesSubplot object at 0x7efe6e0bda10>]],\n",
       "      dtype=object)"
      ]
     },
     "execution_count": 57,
     "metadata": {},
     "output_type": "execute_result"
    },
    {
     "data": {
      "image/png": "[encoded data removed]",
      "text/plain": [
       "<Figure size 432x288 with 2 Axes>"
      ]
     },
     "metadata": {
      "needs_background": "light"
     },
     "output_type": "display_data"
    }
   ],
   "source": [
    "df[['Caffeine','Copper']].hist()"
   ]
  },
  {
   "cell_type": "code",
   "execution_count": 58,
   "metadata": {},
   "outputs": [
    {
     "data": {
      "text/plain": [
       "<matplotlib.axes._subplots.AxesSubplot at 0x7efe6e034950>"
      ]
     },
     "execution_count": 58,
     "metadata": {},
     "output_type": "execute_result"
    },
    {
     "data": {
      "image/png": "[encoded data removed]",
      "text/plain": [
       "<Figure size 432x288 with 1 Axes>"
      ]
     },
     "metadata": {
      "needs_background": "light"
     },
     "output_type": "display_data"
    }
   ],
   "source": [
    "df[['Caffeine','Copper']].plot(kind='hist')"
   ]
  },
  {
   "cell_type": "markdown",
   "metadata": {},
   "source": [
    "---\n",
    "## Matplotlib\n",
    "\n",
    "*Matplotlib* is a Python package used for data plotting and visualisation. It is a useful complement to Pandas, and like Pandas, is a very feature-rich library which can produce a large variety of plots, charts, maps, and other visualisations.  \n",
    "`matplotlib.pyplot` is a collection of functions that make matplotlib work like *MATLAB*. Majority of plotting commands in `pyplot` have *MATLAB* analogs with similar arguments. Let us take a couple of examples.  \n",
    "\n",
    "Typically, if we are going to work on some plotting, we would import matplotlib like this:"
   ]
  },
  {
   "cell_type": "code",
   "execution_count": 59,
   "metadata": {},
   "outputs": [],
   "source": [
    "%matplotlib inline\n",
    "import matplotlib.pyplot as plt"
   ]
  },
  {
   "cell_type": "code",
   "execution_count": 60,
   "metadata": {},
   "outputs": [
    {
     "data": {
      "image/png": "[encoded data removed]",
      "text/plain": [
       "<Figure size 432x288 with 1 Axes>"
      ]
     },
     "metadata": {
      "needs_background": "light"
     },
     "output_type": "display_data"
    }
   ],
   "source": [
    "# Example 1: Plotting a line graph\n",
    "plt.plot([1,2,3,4])\n",
    "plt.ylabel('some numbers')\n",
    "plt.show()"
   ]
  },
  {
   "cell_type": "code",
   "execution_count": 61,
   "metadata": {},
   "outputs": [
    {
     "data": {
      "image/png": "[encoded data removed]",
      "text/plain": [
       "<Figure size 432x288 with 1 Axes>"
      ]
     },
     "metadata": {
      "needs_background": "light"
     },
     "output_type": "display_data"
    }
   ],
   "source": [
    "# Example 2: Plotting a histogram\n",
    "x = [21,22,23,4,5,6,77,8,9,10,31,32,33,34,35,36,37,18,49,50,100]\n",
    "num_bins = 5\n",
    "plt.hist(x, num_bins, facecolor='blue')\n",
    "plt.show()"
   ]
  },
  {
   "cell_type": "markdown",
   "metadata": {},
   "source": [
    "Let us try to plot our phenotype data.  Let’s have a look at the relationship between two phenotypes in our dataframe. To save typing later on, we can extract the Series for “Caffeine” and “Copper” by assigning each to a new variable, x and y, respectively."
   ]
  },
  {
   "cell_type": "code",
   "execution_count": 62,
   "metadata": {},
   "outputs": [],
   "source": [
    "df.dropna(inplace=True)\n",
    "x = df.Sorbitol\n",
    "y = df.Trehalose"
   ]
  },
  {
   "cell_type": "markdown",
   "metadata": {},
   "source": [
    "Then we can plot them as a scatter chart by adding:"
   ]
  },
  {
   "cell_type": "code",
   "execution_count": 63,
   "metadata": {},
   "outputs": [
    {
     "data": {
      "text/plain": [
       "<matplotlib.collections.PathCollection at 0x7efe5fb95b50>"
      ]
     },
     "execution_count": 63,
     "metadata": {},
     "output_type": "execute_result"
    },
    {
     "data": {
      "image/png": "[encoded data removed]",
      "text/plain": [
       "<Figure size 432x288 with 1 Axes>"
      ]
     },
     "metadata": {
      "needs_background": "light"
     },
     "output_type": "display_data"
    }
   ],
   "source": [
    "plt.scatter(x, y)\n",
    "# or plt.savefig(\"name.png\")"
   ]
  },
  {
   "cell_type": "markdown",
   "metadata": {},
   "source": [
    "Now we are going to do some basic statistics so we can plot a line of linear regression on our chart.  \n",
    "Let’s plot a linear regression through the data. Python has a library called scipy that contains a lot of statistics routines. We can import it:"
   ]
  },
  {
   "cell_type": "code",
   "execution_count": 64,
   "metadata": {},
   "outputs": [],
   "source": [
    "from scipy.stats import linregress"
   ]
  },
  {
   "cell_type": "markdown",
   "metadata": {},
   "source": [
    "To get the statistics for the linear regression we can use a function called `linregress`"
   ]
  },
  {
   "cell_type": "code",
   "execution_count": 65,
   "metadata": {},
   "outputs": [
    {
     "data": {
      "text/plain": [
       "LinregressResult(slope=0.9622331502773507, intercept=-0.011936070484259736, rvalue=0.9064525118355159, pvalue=1.0446912214962477e-114, stderr=0.025839319479636295)"
      ]
     },
     "execution_count": 65,
     "metadata": {},
     "output_type": "execute_result"
    }
   ],
   "source": [
    "stats = linregress(x, y)\n",
    "m = stats.slope\n",
    "b = stats.intercept\n",
    "stats"
   ]
  },
  {
   "cell_type": "markdown",
   "metadata": {},
   "source": [
    "The equation for the straight line that describes linear regression is `y = mx + b`, where m is the *slope* and `b` is the *intercept*.  \n",
    "(Hint: you have some extra information in the stats object - stats.rvalue and stats.pvalue.)\n",
    "\n",
    "Therefore, we can then plot the line of linear regression by adding the following line:"
   ]
  },
  {
   "cell_type": "code",
   "execution_count": 66,
   "metadata": {},
   "outputs": [
    {
     "data": {
      "text/plain": [
       "[<matplotlib.lines.Line2D at 0x7efdfaa2fed0>]"
      ]
     },
     "execution_count": 66,
     "metadata": {},
     "output_type": "execute_result"
    },
    {
     "data": {
      "image/png": "[encoded data removed]",
      "text/plain": [
       "<Figure size 432x288 with 1 Axes>"
      ]
     },
     "metadata": {
      "needs_background": "light"
     },
     "output_type": "display_data"
    }
   ],
   "source": [
    "plt.scatter(x, y)\n",
    "plt.plot(x, m * x + b, color=\"r\")   # I've added a color argument here"
   ]
  },
  {
   "cell_type": "markdown",
   "metadata": {},
   "source": [
    "Matplotlib figures are highly customisable, and there are so many options it is usually best to consult the [documentation]() first.  \n",
    "We will take the above plot and customize *fontsize*, *linewidth*, *color* for example:"
   ]
  },
  {
   "cell_type": "code",
   "execution_count": 67,
   "metadata": {},
   "outputs": [
    {
     "data": {
      "image/png": "[encoded data removed]",
      "text/plain": [
       "<Figure size 720x720 with 1 Axes>"
      ]
     },
     "metadata": {
      "needs_background": "light"
     },
     "output_type": "display_data"
    }
   ],
   "source": [
    "# Change the default figure size\n",
    "plt.figure(figsize=(10,10))\n",
    "\n",
    "# Change the default marker for the scatter from circles to x's\n",
    "plt.scatter(x, y, marker='x')\n",
    "\n",
    "# Set the linewidth on the regression line to 3px\n",
    "plt.plot(x, m * x + b, color=\"red\", linewidth=3)\n",
    "\n",
    "# Add x and y lables, and set their font size\n",
    "plt.xlabel(\"Sorbitol\", fontsize=20)\n",
    "plt.ylabel(\"Trehalose\", fontsize=20)\n",
    "\n",
    "# Plot pvalue and r2 value\n",
    "plt.text(-2.5, 3, 'pvalue: %s' % stats.pvalue,\n",
    "         fontsize=14)\n",
    "plt.text(-2.5, 2.8, 'r2: %s' % stats.rvalue,\n",
    "         fontsize=14)\n",
    "\n",
    "# Set the font size of the number lables on the axes\n",
    "plt.xticks(fontsize=18)\n",
    "plt.yticks(fontsize=18)\n",
    "plt.show()"
   ]
  },
  {
   "cell_type": "code",
   "execution_count": null,
   "metadata": {},
   "outputs": [],
   "source": []
  }
 ],
 "metadata": {
  "kernelspec": {
   "display_name": "Python 3",
   "language": "python",
   "name": "python3"
  },
  "language_info": {
   "codemirror_mode": {
    "name": "ipython",
    "version": 3
   },
   "file_extension": ".py",
   "mimetype": "text/x-python",
   "name": "python",
   "nbconvert_exporter": "python",
   "pygments_lexer": "ipython3",
   "version": "3.7.6"
  },
  "nbTranslate": {
   "displayLangs": [
    "*"
   ],
   "hotkey": "alt-t",
   "langInMainMenu": true,
   "sourceLang": "en",
   "targetLang": "fr",
   "useGoogleTranslate": true
  },
  "toc": {
   "base_numbering": 1,
   "nav_menu": {},
   "number_sections": true,
   "sideBar": true,
   "skip_h1_title": false,
   "title_cell": "Table of Contents",
   "title_sidebar": "Contents",
   "toc_cell": false,
   "toc_position": {},
   "toc_section_display": true,
   "toc_window_display": false
  }
 },
 "nbformat": 4,
 "nbformat_minor": 2
}
