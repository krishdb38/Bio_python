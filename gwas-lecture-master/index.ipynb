{
 "cells": [
  {
   "cell_type": "markdown",
   "metadata": {},
   "source": [
    "# GWAS lecture using limix\n",
    "\n",
    "A set of lectures on Genome Wide Association Studies (GWAS) with Limix, Python and Jupyter Notebooks. The notebooks are heavily based on the original [limix tutorial notebooks](http://nbviewer.jupyter.org/github/limix/limix-tutorials/blob/master/index.ipynb) but adapted to work with the latest stable Limix 1.x release.\n",
    "\n",
    "### Table of Contents\n",
    "\n",
    "1. [Lecture-0 Setup of Python Environment](Lecture-0-Setup-of-Python-Environment.ipynb)\n",
    "2. [Lecture-1 Python Data Science Guide](Lecture-1-Python-Data-Science-Guide.ipynb)\n",
    "3. [Lecture-2 Linear Regression](Lecture-2-Linear-Regression.ipynb)\n",
    "4. [Lecture-3 Linear Mixed Model](Lecture-3-Linear-Mixed-Model.ipynb)\n",
    "5. [Lecture-4 Multi Trait Linear Mixed Model](Lecture-4-Multi-Trait-Linear-Mixed-Model.ipynb)\n",
    "6. [Lecture-5 Estimating (SNP) narrow-sense heritability](Lecture-5-SNPHeritability.ipynb)"
   ]
  }
 ],
 "metadata": {
  "kernelspec": {
   "display_name": "Python 2",
   "language": "python",
   "name": "python2"
  },
  "language_info": {
   "codemirror_mode": {
    "name": "ipython",
    "version": 2
   },
   "file_extension": ".py",
   "mimetype": "text/x-python",
   "name": "python",
   "nbconvert_exporter": "python",
   "pygments_lexer": "ipython2",
   "version": "2.7.15"
  }
 },
 "nbformat": 4,
 "nbformat_minor": 2
}
