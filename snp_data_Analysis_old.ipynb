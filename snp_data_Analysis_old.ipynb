{
 "cells": [
  {
   "cell_type": "code",
   "execution_count": 4,
   "metadata": {},
   "outputs": [],
   "source": [
    "import pandas as pd\n",
    "import os"
   ]
  },
  {
   "cell_type": "code",
   "execution_count": 2,
   "metadata": {},
   "outputs": [],
   "source": [
    "cols_to_drop = ['ANN[*].EFFECT', 'ANN[*].IMPACT',\n",
    "       'ANN[*].GENE', 'ANN[*].FEATURE', 'ANN[*].FEATUREID', 'ANN[*].BIOTYPE',\n",
    "       'ANN[*].RANK', 'ANN[*].HGVS_C', 'ANN[*].HGVS_P', 'ANN[*].CDNA_POS',\n",
    "       'ANN[*].CDNA_LEN', 'ANN[*].CDS_POS', 'ANN[*].CDS_LEN', 'ANN[*].AA_POS',\n",
    "       'ANN[*].AA_LEN', 'ANN[*].DISTANCE', 'GWASCAT_TRAIT', 'COSMID',\n",
    "       'CLNDISDB', 'ORIGIN', 'CLNSIG', 'CLNDN', 'dbNSFP_Uniprot_acc',\n",
    "       'dbNSFP_Interpro_domain', 'dbNSFP_SIFT_pred',\n",
    "       'dbNSFP_Polyphen2_HDIV_pred', 'dbNSFP_Polyphen2_HVAR_pred',\n",
    "       'dbNSFP_LRT_pred', 'dbNSFP_MutationTaster_pred', 'dbNSFP_GERP___NR',\n",
    "       'dbNSFP_GERP___RS', 'dbNSFP_phastCons100way_vertebrate',\n",
    "       'dbNSFP_1000Gp1_AF', 'dbNSFP_1000Gp1_AFR_AF', 'dbNSFP_1000Gp1_EUR_AF',\n",
    "       'dbNSFP_1000Gp1_AMR_AF', 'dbNSFP_1000Gp1_ASN_AF',\n",
    "       'dbNSFP_ESP6500_AA_AF', 'dbNSFP_ESP6500_EA_AF', 'EXAC_AC', 'EXAC_AN',\n",
    "       'EXAC_AF']"
   ]
  },
  {
   "cell_type": "code",
   "execution_count": 5,
   "metadata": {},
   "outputs": [],
   "source": [
    "file_list = os.listdir(\"/BiO/Preterm/raw_data/\")"
   ]
  },
  {
   "cell_type": "code",
   "execution_count": null,
   "metadata": {},
   "outputs": [],
   "source": [
    "#df= pd.read_csv(\"/BiO/Preterm/raw_data/\"+filename+\"/\"+filename+\".snpeff.isoform.tsv\",sep=\"\\t\")"
   ]
  },
  {
   "cell_type": "code",
   "execution_count": 17,
   "metadata": {},
   "outputs": [
    {
     "name": "stdout",
     "output_type": "stream",
     "text": [
      "Opening the file--> \t 873File opened SuccessfullyFilteered Success ful873>>>File saved Successfully873\n",
      "\n",
      "\n",
      "Opening the file--> \t 875File opened SuccessfullyFilteered Success ful875>>>File saved Successfully875\n",
      "\n",
      "\n",
      "Opening the file--> \t 880File opened SuccessfullyFilteered Success ful880>>>File saved Successfully880\n",
      "\n",
      "\n",
      "Opening the file--> \t 910File opened SuccessfullyFilteered Success ful910>>>File saved Successfully910\n",
      "\n",
      "\n",
      "Opening the file--> \t 1009File opened SuccessfullyFilteered Success ful1009>>>File saved Successfully1009\n",
      "\n",
      "\n",
      "Opening the file--> \t 1134File opened SuccessfullyFilteered Success ful1134>>>File saved Successfully1134\n",
      "\n",
      "\n",
      "Opening the file--> \t 1293File opened SuccessfullyFilteered Success ful1293>>>File saved Successfully1293\n",
      "\n",
      "\n",
      "Opening the file--> \t 1389File opened SuccessfullyFilteered Success ful1389>>>File saved Successfully1389\n",
      "\n",
      "\n",
      "Opening the file--> \t 1428File opened SuccessfullyFilteered Success ful1428>>>File saved Successfully1428\n",
      "\n",
      "\n",
      "Opening the file--> \t 1477File opened SuccessfullyFilteered Success ful1477>>>File saved Successfully1477\n",
      "\n",
      "\n",
      "Opening the file--> \t 1481File opened SuccessfullyFilteered Success ful1481>>>File saved Successfully1481\n",
      "\n",
      "\n",
      "Opening the file--> \t 1489File opened SuccessfullyFilteered Success ful1489>>>File saved Successfully1489\n",
      "\n",
      "\n",
      "Opening the file--> \t 1557File opened SuccessfullyFilteered Success ful1557>>>File saved Successfully1557\n",
      "\n",
      "\n",
      "Opening the file--> \t 1584File opened SuccessfullyFilteered Success ful1584>>>File saved Successfully1584\n",
      "\n",
      "\n",
      "Opening the file--> \t 1591File opened SuccessfullyFilteered Success ful1591>>>File saved Successfully1591\n",
      "\n",
      "\n",
      "Opening the file--> \t 989File opened SuccessfullyFilteered Success ful989>>>File saved Successfully989\n",
      "\n",
      "\n",
      "Opening the file--> \t 1093File opened SuccessfullyFilteered Success ful1093>>>File saved Successfully1093\n",
      "\n",
      "\n",
      "Opening the file--> \t 1119File opened SuccessfullyFilteered Success ful1119>>>File saved Successfully1119\n",
      "\n",
      "\n",
      "Opening the file--> \t 1282File opened SuccessfullyFilteered Success ful1282>>>File saved Successfully1282\n",
      "\n",
      "\n",
      "Opening the file--> \t 1316File opened SuccessfullyFilteered Success ful1316>>>File saved Successfully1316\n",
      "\n",
      "\n",
      "Complete\n"
     ]
    }
   ],
   "source": [
    "for filename in file_list:\n",
    "    \n",
    "    print(\"Opening the file--> \\t \" +filename,end=\"\")\n",
    "    df= pd.read_csv(\"/BiO/Preterm/raw_data/\"+filename+\"/\"+filename+\".snpeff.isoform.tsv\",sep=\"\\t\")\n",
    "    print(\"File opened Successfully\",end =\"\")\n",
    "    df  = df.drop(cols_to_drop,axis=1)   #to remove Unnecessary Columns\n",
    "    #Below filter is Our excel Filter \n",
    "    df_new = df[((df[\"#CHROM\"]==\"chrX\") & (df[\"ID\"]==\"rsrs73458627\")) | ((df[\"#CHROM\"]==\"chr5\") & (df[\"ID\"]==\"rs10044640\"))| \n",
    "                ((df[\"#CHROM\"]==\"chr1\") & (df[\"ID\"]==\"rs6593543\")) | ((df[\"#CHROM\"]==\"chr5\") & (df[\"ID\"]==\"rs73796691\")) |\n",
    "                ((df[\"#CHROM\"]==\"chr7\") & (df[\"ID\"]==\"rs78739193\")) | ((df[\"#CHROM\"]==\"chr1\") & (df[\"ID\"]==\"rs150459489\")) |\n",
    "                ((df[\"#CHROM\"]==\"chr8\") & (df[\"ID\"]==\"rs58440959\")) | ((df[\"#CHROM\"]==\"chr8\") & (df[\"ID\"]==\"rs115115739\"))|\n",
    "                ((df[\"#CHROM\"]==\"chr1\") & (df[\"ID\"]==\"rs143391675\"))|((df[\"#CHROM\"]==\"chr1\") & (df[\"ID\"]==\"rs3009465\"))|\n",
    "                ((df[\"#CHROM\"]==\"chr4\") & (df[\"ID\"]==\"rs57513056\")) |((df[\"#CHROM\"]==\"chr3\") & (df[\"ID\"]==\"rs11928622\"))|\n",
    "                ((df[\"#CHROM\"]==\"chr5\") & (df[\"ID\"]==\"rs75717676\")) |((df[\"#CHROM\"]==\"chr8\") & (df[\"ID\"]==\"rs58440959\")) |\n",
    "                ((df[\"#CHROM\"]==\"chr8\") & (df[\"ID\"]==\"rs115115739\"))|((df[\"#CHROM\"]==\"chr13\") & (df[\"ID\"]==\"rs117731991\"))|\n",
    "                ((df[\"#CHROM\"]==\"chr4\") & (df[\"ID\"]==\"rs74880760\")) | ((df[\"#CHROM\"]==\"chr4\") & (df[\"ID\"]==\"rs76672225\"))|\n",
    "                ((df[\"#CHROM\"]==\"chr3\") & (df[\"ID\"]==\"rs11928622\")) | ((df[\"#CHROM\"]==\"chr5\") & (df[\"ID\"]==\"rs75717676\"))|\n",
    "                ((df[\"#CHROM\"]==\"chr18\") & (df[\"ID\"]==\"rs73374193\")) | ((df[\"#CHROM\"]==\"chr4\") & (df[\"ID\"]==\"rs3009464\"))|\n",
    "                ((df[\"#CHROM\"]==\"chr1\") & (df[\"ID\"]==\"rs74525393\")) | (df[\"#CHROM\"]==\"chr9\") & (df[\"ID\"]==\"rs74925740\")]\n",
    "   \n",
    "\n",
    "    print(\"Filteered Success ful\" + filename,end=\">>>\")\n",
    "    \n",
    "    df_new.to_csv(r\"../analysis_3/\"+filename+\".csv\",index=None,header =True)\n",
    "    print(\"File saved Successfully\"+filename)\n",
    "    print(\"\\n\")\n",
    "print(\"Complete\")\n"
   ]
  },
  {
   "cell_type": "code",
   "execution_count": null,
   "metadata": {},
   "outputs": [],
   "source": []
  },
  {
   "cell_type": "code",
   "execution_count": 7,
   "metadata": {},
   "outputs": [],
   "source": [
    "df_new.to_csv(r\"../analysis_3/\"+filename+\".csv\",index=None,header =True)"
   ]
  },
  {
   "cell_type": "code",
   "execution_count": null,
   "metadata": {},
   "outputs": [],
   "source": []
  },
  {
   "cell_type": "code",
   "execution_count": null,
   "metadata": {},
   "outputs": [],
   "source": []
  },
  {
   "cell_type": "code",
   "execution_count": null,
   "metadata": {},
   "outputs": [],
   "source": []
  },
  {
   "cell_type": "code",
   "execution_count": null,
   "metadata": {},
   "outputs": [],
   "source": []
  }
 ],
 "metadata": {
  "kernelspec": {
   "display_name": "Python 3",
   "language": "python",
   "name": "python3"
  },
  "language_info": {
   "codemirror_mode": {
    "name": "ipython",
    "version": 3
   },
   "file_extension": ".py",
   "mimetype": "text/x-python",
   "name": "python",
   "nbconvert_exporter": "python",
   "pygments_lexer": "ipython3",
   "version": "3.7.4"
  }
 },
 "nbformat": 4,
 "nbformat_minor": 2
}
