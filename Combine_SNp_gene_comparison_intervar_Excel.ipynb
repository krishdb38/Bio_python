{
 "cells": [
  {
   "cell_type": "code",
   "execution_count": 1,
   "metadata": {},
   "outputs": [],
   "source": [
    "import pandas as pd\n",
    "import numpy as np\n",
    "\n",
    "import seaborn as sns\n",
    "import matplotlib.pyplot  as plt"
   ]
  },
  {
   "cell_type": "code",
   "execution_count": 2,
   "metadata": {},
   "outputs": [],
   "source": [
    "con = [1093,1134,1293,1428,1477,1481,1557,1591,1316,1389]\n",
    "cas = [1119,910,873,880,1282,1584,875,1009,1489,989]\n",
    "all_file = [1119,910,873,880,1282,1584,875,1009,1489,989,1093,1134,1293,1428,1477,1481,1557,1591,1316,1389]\n",
    "col = ['chr','start','ref','alt','ref_gene','func_refgene','avsnp147','clinvar_clinvar','intervar_intervar_and_evidence']\n",
    "rename_col= ['CHR','POS','REF','ALT','Ref_Gene','Func_RefGene','avsnp147','Clinvar','Intervar']"
   ]
  },
  {
   "cell_type": "markdown",
   "metadata": {},
   "source": [
    "### Loop For Case"
   ]
  },
  {
   "cell_type": "code",
   "execution_count": 3,
   "metadata": {},
   "outputs": [
    {
     "data": {
      "text/plain": [
       "((241, 9), (178, 9))"
      ]
     },
     "execution_count": 3,
     "metadata": {},
     "output_type": "execute_result"
    }
   ],
   "source": [
    "case_merged = pd.DataFrame(columns=rename_col)\n",
    "case_append = pd.DataFrame(columns=rename_col)\n",
    "\n",
    "for file in cas:\n",
    "    case = pd.read_excel('../intervar_res.xlsx',sheet_name=str(file)+\"_case\",usecols=col)\n",
    "    case.columns = rename_col\n",
    "    case.Clinvar = case.Clinvar.map(lambda x : x[9:])\n",
    "    case.Intervar = case.Intervar.map(lambda x : x[10:])\n",
    "    \n",
    "    case_append = case_append.append(case)\n",
    "    case_merged = case_merged.merge(case,how = 'outer', on = rename_col)\n",
    "case_append.shape, case_merged.shape   "
   ]
  },
  {
   "cell_type": "code",
   "execution_count": 4,
   "metadata": {},
   "outputs": [
    {
     "data": {
      "text/plain": [
       "<matplotlib.axes._subplots.AxesSubplot at 0x201546f77c8>"
      ]
     },
     "execution_count": 4,
     "metadata": {},
     "output_type": "execute_result"
    },
    {
     "data": {
      "image/png": "[encoded data removed]",
      "text/plain": [
       "<Figure size 1080x576 with 1 Axes>"
      ]
     },
     "metadata": {
      "needs_background": "light"
     },
     "output_type": "display_data"
    }
   ],
   "source": [
    "plt.figure(figsize=(15,8))\n",
    "sns.countplot(case_append.Ref_Gene,\n",
    "             order = case_append.Ref_Gene.value_counts().index[:20])"
   ]
  },
  {
   "cell_type": "markdown",
   "metadata": {},
   "source": [
    "##### HYDIN\n",
    "* https://www.genecards.org/cgi-bin/carddisp.pl?gene=HYDIN\n",
    "* https://www.malacards.org/card/kartagener_syndrome\n",
    "* https://www.malacards.org/card/primary_ciliary_dyskinesia This link show details about infertilaty\n",
    "\n",
    "##### ESPN\n",
    "* https://ghr.nlm.nih.gov/gene/ESPN#conditions `USHER SYNDROME-- TYPE 1M, Nonsyndromic hearing loss , profound hearing loss, and vestibular areflexia in some patients. [MIM:609006]`\n",
    "##### AHDC1\n",
    "* https://ghr.nlm.nih.gov/condition/xia-gibbs-syndrome ` global developmental delay, hypotonia, obstructive sleep apnea, intellectual disability and seizures. `\n",
    "##### ZC3H4\n",
    "* https://www.ncbi.nlm.nih.gov/pmc/articles/PMC5587837/ \n",
    "##### ZNF462 \n",
    "* https://www.genecards.org/cgi-bin/carddisp.pl?gene=ZNF462  `Developmental anomalies during embryogenesis, Rare eye diseases, Rare bone diseases `\n",
    "##### KMT2B\n",
    "* https://www.genecards.org/cgi-bin/carddisp.pl?gene=KMT2B `Plays a central role in beta-globin locus transcription regulation by being recruited by NFE2 (PubMed:17707229). Plays an important role in controlling bulk H3K4me during oocyte growth and preimplantation development (By similarity). Required during the transcriptionally active period of oocyte growth for the establishment and/or maintenance of bulk H3K4 trimethylation (H3K4me3), global transcriptional silencing that preceeds resumption of meiosis, oocyte survival and normal zygotic genome activation (By similarity). `\n",
    "##### ZMYM3\n",
    "* https://www.genecards.org/cgi-bin/carddisp.pl?gene=ZMYM3  `Diseases associated with ZMYM3 include Dystonia 3, Torsion, X-Linked and Myasthenic Syndrome, Congenital, 6, Presynaptic. An important paralog of this gene is ZMYM2.`  `From UniProt:A chromosomal aberration involving ZMYM3 may be a cause of X-linked mental retardation in Xq13.1. Translocation t(X;13)(q13.1;?).`\n",
    "\n",
    "##### RUSC1\n",
    "##### ALDH2\n",
    "*https://www.ncbi.nlm.nih.gov/pmc/articles/PMC4175174/ `Related to pregnency`\n",
    "#### TRRAP\n",
    "`DEVELOPMENTAL DELAY WITH OR WITHOUT DYSMORPHIC FACIES AND AUTISM`\n",
    "#### TTN\n",
    "* https://synapse.koreamed.org/Synapse/Data/PDFData/0044KJP/kjp-25-284.pdf\n",
    "* https://ghr.nlm.nih.gov/gene/TTN \n",
    "* https://www.malacards.org/card/spinocerebellar_ataxia_autosomal_recessive_16\n",
    "##### ADCY2\n",
    "* "
   ]
  },
  {
   "cell_type": "markdown",
   "metadata": {},
   "source": [
    "## Loop for Control"
   ]
  },
  {
   "cell_type": "code",
   "execution_count": 5,
   "metadata": {},
   "outputs": [
    {
     "data": {
      "text/plain": [
       "((241, 9), (177, 9))"
      ]
     },
     "execution_count": 5,
     "metadata": {},
     "output_type": "execute_result"
    }
   ],
   "source": [
    "control_merged = pd.DataFrame(columns=rename_col)\n",
    "control_append = pd.DataFrame(columns=rename_col)\n",
    "\n",
    "for file in con:\n",
    "    control = pd.read_excel('../intervar_res.xlsx',sheet_name=str(file)+\"_control\",usecols=col)\n",
    "    control.columns = rename_col\n",
    "    control.Clinvar = control.Clinvar.map(lambda x : x[9:])\n",
    "    control.Intervar = control.Intervar.map(lambda x : x[10:])\n",
    "    control_append = control_append.append(control)\n",
    "    control_merged = control_merged.merge(control,how = 'outer', on = rename_col)\n",
    "control_append.shape, control_merged.shape   "
   ]
  },
  {
   "cell_type": "code",
   "execution_count": 6,
   "metadata": {},
   "outputs": [
    {
     "data": {
      "text/plain": [
       "<matplotlib.axes._subplots.AxesSubplot at 0x20159511148>"
      ]
     },
     "execution_count": 6,
     "metadata": {},
     "output_type": "execute_result"
    },
    {
     "data": {
      "image/png": "[encoded data removed]",
      "text/plain": [
       "<Figure size 720x576 with 1 Axes>"
      ]
     },
     "metadata": {
      "needs_background": "light"
     },
     "output_type": "display_data"
    }
   ],
   "source": [
    "plt.figure(figsize=(10,8))\n",
    "sns.countplot(control_append.Ref_Gene,\n",
    "             order = control_append.Ref_Gene.value_counts().index[:10])"
   ]
  },
  {
   "cell_type": "code",
   "execution_count": 61,
   "metadata": {},
   "outputs": [],
   "source": [
    "#case_append.Ref_Gene.value_counts().index[:20]\n",
    "case_gene = case_append.Ref_Gene.value_counts()\n",
    "#display(case_append.Ref_Gene.value_counts()[5:25])\n",
    "#control_append.Ref_Gene.value_counts().index[:20]\n",
    "#display(control_append.Ref_Gene.value_counts()[5:25])\n",
    "control_gene = control_append.Ref_Gene.value_counts()\n",
    "a=pd.DataFrame([case_gene,control_gene])"
   ]
  },
  {
   "cell_type": "code",
   "execution_count": 98,
   "metadata": {},
   "outputs": [
    {
     "data": {
      "text/plain": [
       "HYDIN        10\n",
       "AHDC1         9\n",
       "ZC3H4         9\n",
       "ESPN          9\n",
       "ZMYM3         8\n",
       "             ..\n",
       "XRCC1         1\n",
       "ARHGEF10L     1\n",
       "OPN1MW2       1\n",
       "PEX1          1\n",
       "ABCC6         1\n",
       "Name: Ref_Gene, Length: 101, dtype: int64"
      ]
     },
     "execution_count": 98,
     "metadata": {},
     "output_type": "execute_result"
    }
   ],
   "source": [
    "#We are Counting Repeating genes on Case and Control\n",
    "case_gene"
   ]
  },
  {
   "cell_type": "code",
   "execution_count": 99,
   "metadata": {},
   "outputs": [
    {
     "data": {
      "text/plain": [
       "FBXL16    12\n",
       "ZC3H4     11\n",
       "EP400     11\n",
       "HYDIN     10\n",
       "ESPN      10\n",
       "          ..\n",
       "CDYL       1\n",
       "GNAT2      1\n",
       "COQ2       1\n",
       "CLCN7      1\n",
       "FGFR3      1\n",
       "Name: Ref_Gene, Length: 100, dtype: int64"
      ]
     },
     "execution_count": 99,
     "metadata": {},
     "output_type": "execute_result"
    }
   ],
   "source": [
    "control_gene"
   ]
  },
  {
   "cell_type": "code",
   "execution_count": 66,
   "metadata": {},
   "outputs": [
    {
     "data": {
      "text/html": [
       "<div>\n",
       "<style scoped>\n",
       "    .dataframe tbody tr th:only-of-type {\n",
       "        vertical-align: middle;\n",
       "    }\n",
       "\n",
       "    .dataframe tbody tr th {\n",
       "        vertical-align: top;\n",
       "    }\n",
       "\n",
       "    .dataframe thead th {\n",
       "        text-align: right;\n",
       "    }\n",
       "</style>\n",
       "<table border=\"1\" class=\"dataframe\">\n",
       "  <thead>\n",
       "    <tr style=\"text-align: right;\">\n",
       "      <th></th>\n",
       "      <th>GENE</th>\n",
       "      <th>Case_Gene</th>\n",
       "      <th>Control_Gene</th>\n",
       "    </tr>\n",
       "  </thead>\n",
       "  <tbody>\n",
       "    <tr>\n",
       "      <td>0</td>\n",
       "      <td>HYDIN</td>\n",
       "      <td>10.0</td>\n",
       "      <td>10.0</td>\n",
       "    </tr>\n",
       "    <tr>\n",
       "      <td>1</td>\n",
       "      <td>AHDC1</td>\n",
       "      <td>9.0</td>\n",
       "      <td>7.0</td>\n",
       "    </tr>\n",
       "    <tr>\n",
       "      <td>2</td>\n",
       "      <td>ZC3H4</td>\n",
       "      <td>9.0</td>\n",
       "      <td>11.0</td>\n",
       "    </tr>\n",
       "    <tr>\n",
       "      <td>3</td>\n",
       "      <td>ESPN</td>\n",
       "      <td>9.0</td>\n",
       "      <td>10.0</td>\n",
       "    </tr>\n",
       "    <tr>\n",
       "      <td>4</td>\n",
       "      <td>ZMYM3</td>\n",
       "      <td>8.0</td>\n",
       "      <td>6.0</td>\n",
       "    </tr>\n",
       "  </tbody>\n",
       "</table>\n",
       "</div>"
      ],
      "text/plain": [
       "    GENE  Case_Gene  Control_Gene\n",
       "0  HYDIN       10.0          10.0\n",
       "1  AHDC1        9.0           7.0\n",
       "2  ZC3H4        9.0          11.0\n",
       "3   ESPN        9.0          10.0\n",
       "4  ZMYM3        8.0           6.0"
      ]
     },
     "execution_count": 66,
     "metadata": {},
     "output_type": "execute_result"
    }
   ],
   "source": [
    "pd.set_option('display.max_columns', 1000)\n",
    "#a = a.T.fillna(0)\n",
    "#a.reset_index(level = 0,inplace=True)\n",
    "a.columns = [\"GENE\",\"Case_Gene\",\"Control_Gene\"]\n",
    "a.to_excel(\"../case_con_gene_table.xlsx\",index = False)\n",
    "\n",
    "a.head()"
   ]
  },
  {
   "cell_type": "code",
   "execution_count": 94,
   "metadata": {},
   "outputs": [
    {
     "data": {
      "text/plain": [
       "(165, 3)"
      ]
     },
     "execution_count": 94,
     "metadata": {},
     "output_type": "execute_result"
    }
   ],
   "source": [
    "a.shape"
   ]
  },
  {
   "cell_type": "code",
   "execution_count": 24,
   "metadata": {},
   "outputs": [],
   "source": [
    "gene_gestational = [\"WNT4\", 'TGFBR3', 'BOLA3', 'EEFSEC' , 'ADCY5','SFTA2', 'BNC2','SEC61B','MPP7','AGTR2','RAP2C']\n",
    "gene_preterm = ['EEFSEC','EBF1','TEKT3','TGFB1','AGTR2']"
   ]
  },
  {
   "cell_type": "code",
   "execution_count": 52,
   "metadata": {},
   "outputs": [],
   "source": [
    "#a[a.columns[a.isnull().any()]].T\n",
    "#a.columns.isin(gene_gestational)\n",
    "#a.columns.isin(gene_preterm)\n"
   ]
  },
  {
   "cell_type": "markdown",
   "metadata": {},
   "source": [
    "## We mainly Find 2 Gene Position ALDH2 and ZFHX3 in Case and not in control"
   ]
  },
  {
   "cell_type": "code",
   "execution_count": 10,
   "metadata": {},
   "outputs": [],
   "source": [
    "our_pos = [139540103,108612304,75534704,75526563,75526563,75526780,75506172,75522394,220876353,90002548,75498490,75531681,\\\n",
    "           96753149,75498490,75531681,96753149,75499347,75517725,96738585,6960776,148550156,75533452,155292758,27878534]\n",
    "#last 2 digits are sample data from each Case and Control"
   ]
  },
  {
   "cell_type": "code",
   "execution_count": 11,
   "metadata": {},
   "outputs": [
    {
     "data": {
      "text/html": [
       "<div>\n",
       "<style scoped>\n",
       "    .dataframe tbody tr th:only-of-type {\n",
       "        vertical-align: middle;\n",
       "    }\n",
       "\n",
       "    .dataframe tbody tr th {\n",
       "        vertical-align: top;\n",
       "    }\n",
       "\n",
       "    .dataframe thead th {\n",
       "        text-align: right;\n",
       "    }\n",
       "</style>\n",
       "<table border=\"1\" class=\"dataframe\">\n",
       "  <thead>\n",
       "    <tr style=\"text-align: right;\">\n",
       "      <th></th>\n",
       "      <th>CHR</th>\n",
       "      <th>POS</th>\n",
       "      <th>REF</th>\n",
       "      <th>ALT</th>\n",
       "      <th>Ref_Gene</th>\n",
       "      <th>Func_RefGene</th>\n",
       "      <th>avsnp147</th>\n",
       "      <th>Clinvar</th>\n",
       "      <th>Intervar</th>\n",
       "    </tr>\n",
       "  </thead>\n",
       "  <tbody>\n",
       "    <tr>\n",
       "      <td>0</td>\n",
       "      <td>1</td>\n",
       "      <td>155292758</td>\n",
       "      <td>-</td>\n",
       "      <td>C</td>\n",
       "      <td>RUSC1</td>\n",
       "      <td>exonic</td>\n",
       "      <td>.</td>\n",
       "      <td>UNK</td>\n",
       "      <td>Likely pathogenic PVS1=1 PS=[0, 0, 0, 0, 0] P...</td>\n",
       "    </tr>\n",
       "    <tr>\n",
       "      <td>0</td>\n",
       "      <td>1</td>\n",
       "      <td>27878534</td>\n",
       "      <td>-</td>\n",
       "      <td>GGCC</td>\n",
       "      <td>AHDC1</td>\n",
       "      <td>exonic</td>\n",
       "      <td>.</td>\n",
       "      <td>UNK</td>\n",
       "      <td>Likely pathogenic PVS1=1 PS=[0, 0, 0, 0, 0] P...</td>\n",
       "    </tr>\n",
       "    <tr>\n",
       "      <td>1</td>\n",
       "      <td>1</td>\n",
       "      <td>27878534</td>\n",
       "      <td>-</td>\n",
       "      <td>CC</td>\n",
       "      <td>AHDC1</td>\n",
       "      <td>exonic</td>\n",
       "      <td>.</td>\n",
       "      <td>UNK</td>\n",
       "      <td>Likely pathogenic PVS1=1 PS=[0, 0, 0, 0, 0] P...</td>\n",
       "    </tr>\n",
       "    <tr>\n",
       "      <td>1</td>\n",
       "      <td>1</td>\n",
       "      <td>27878534</td>\n",
       "      <td>-</td>\n",
       "      <td>GGGCC</td>\n",
       "      <td>AHDC1</td>\n",
       "      <td>exonic</td>\n",
       "      <td>.</td>\n",
       "      <td>UNK</td>\n",
       "      <td>Likely pathogenic PVS1=1 PS=[0, 0, 0, 0, 0] P...</td>\n",
       "    </tr>\n",
       "    <tr>\n",
       "      <td>3</td>\n",
       "      <td>1</td>\n",
       "      <td>27878534</td>\n",
       "      <td>-</td>\n",
       "      <td>GGCC</td>\n",
       "      <td>AHDC1</td>\n",
       "      <td>exonic</td>\n",
       "      <td>.</td>\n",
       "      <td>UNK</td>\n",
       "      <td>Likely pathogenic PVS1=1 PS=[0, 0, 0, 0, 0] P...</td>\n",
       "    </tr>\n",
       "    <tr>\n",
       "      <td>4</td>\n",
       "      <td>1</td>\n",
       "      <td>155292758</td>\n",
       "      <td>-</td>\n",
       "      <td>C</td>\n",
       "      <td>RUSC1</td>\n",
       "      <td>exonic</td>\n",
       "      <td>.</td>\n",
       "      <td>UNK</td>\n",
       "      <td>Likely pathogenic PVS1=1 PS=[0, 0, 0, 0, 0] P...</td>\n",
       "    </tr>\n",
       "    <tr>\n",
       "      <td>2</td>\n",
       "      <td>1</td>\n",
       "      <td>27878534</td>\n",
       "      <td>-</td>\n",
       "      <td>CC</td>\n",
       "      <td>AHDC1</td>\n",
       "      <td>exonic</td>\n",
       "      <td>.</td>\n",
       "      <td>UNK</td>\n",
       "      <td>Likely pathogenic PVS1=1 PS=[0, 0, 0, 0, 0] P...</td>\n",
       "    </tr>\n",
       "    <tr>\n",
       "      <td>0</td>\n",
       "      <td>1</td>\n",
       "      <td>27878534</td>\n",
       "      <td>-</td>\n",
       "      <td>CC</td>\n",
       "      <td>AHDC1</td>\n",
       "      <td>exonic</td>\n",
       "      <td>.</td>\n",
       "      <td>UNK</td>\n",
       "      <td>Likely pathogenic PVS1=1 PS=[0, 0, 0, 0, 0] P...</td>\n",
       "    </tr>\n",
       "  </tbody>\n",
       "</table>\n",
       "</div>"
      ],
      "text/plain": [
       "  CHR        POS REF    ALT Ref_Gene Func_RefGene avsnp147 Clinvar  \\\n",
       "0   1  155292758   -      C    RUSC1       exonic        .    UNK    \n",
       "0   1   27878534   -   GGCC    AHDC1       exonic        .    UNK    \n",
       "1   1   27878534   -     CC    AHDC1       exonic        .    UNK    \n",
       "1   1   27878534   -  GGGCC    AHDC1       exonic        .    UNK    \n",
       "3   1   27878534   -   GGCC    AHDC1       exonic        .    UNK    \n",
       "4   1  155292758   -      C    RUSC1       exonic        .    UNK    \n",
       "2   1   27878534   -     CC    AHDC1       exonic        .    UNK    \n",
       "0   1   27878534   -     CC    AHDC1       exonic        .    UNK    \n",
       "\n",
       "                                            Intervar  \n",
       "0   Likely pathogenic PVS1=1 PS=[0, 0, 0, 0, 0] P...  \n",
       "0   Likely pathogenic PVS1=1 PS=[0, 0, 0, 0, 0] P...  \n",
       "1   Likely pathogenic PVS1=1 PS=[0, 0, 0, 0, 0] P...  \n",
       "1   Likely pathogenic PVS1=1 PS=[0, 0, 0, 0, 0] P...  \n",
       "3   Likely pathogenic PVS1=1 PS=[0, 0, 0, 0, 0] P...  \n",
       "4   Likely pathogenic PVS1=1 PS=[0, 0, 0, 0, 0] P...  \n",
       "2   Likely pathogenic PVS1=1 PS=[0, 0, 0, 0, 0] P...  \n",
       "0   Likely pathogenic PVS1=1 PS=[0, 0, 0, 0, 0] P...  "
      ]
     },
     "execution_count": 11,
     "metadata": {},
     "output_type": "execute_result"
    }
   ],
   "source": [
    "case_append[case_append.POS.isin(our_pos)]"
   ]
  },
  {
   "cell_type": "code",
   "execution_count": 12,
   "metadata": {},
   "outputs": [
    {
     "data": {
      "text/html": [
       "<div>\n",
       "<style scoped>\n",
       "    .dataframe tbody tr th:only-of-type {\n",
       "        vertical-align: middle;\n",
       "    }\n",
       "\n",
       "    .dataframe tbody tr th {\n",
       "        vertical-align: top;\n",
       "    }\n",
       "\n",
       "    .dataframe thead th {\n",
       "        text-align: right;\n",
       "    }\n",
       "</style>\n",
       "<table border=\"1\" class=\"dataframe\">\n",
       "  <thead>\n",
       "    <tr style=\"text-align: right;\">\n",
       "      <th></th>\n",
       "      <th>CHR</th>\n",
       "      <th>POS</th>\n",
       "      <th>REF</th>\n",
       "      <th>ALT</th>\n",
       "      <th>Ref_Gene</th>\n",
       "      <th>Func_RefGene</th>\n",
       "      <th>avsnp147</th>\n",
       "      <th>Clinvar</th>\n",
       "      <th>Intervar</th>\n",
       "    </tr>\n",
       "  </thead>\n",
       "  <tbody>\n",
       "    <tr>\n",
       "      <td>0</td>\n",
       "      <td>1</td>\n",
       "      <td>27878534</td>\n",
       "      <td>-</td>\n",
       "      <td>CC</td>\n",
       "      <td>AHDC1</td>\n",
       "      <td>exonic</td>\n",
       "      <td>.</td>\n",
       "      <td>UNK</td>\n",
       "      <td>Likely pathogenic PVS1=1 PS=[0, 0, 0, 0, 0] P...</td>\n",
       "    </tr>\n",
       "    <tr>\n",
       "      <td>1</td>\n",
       "      <td>1</td>\n",
       "      <td>27878534</td>\n",
       "      <td>-</td>\n",
       "      <td>GCCC</td>\n",
       "      <td>AHDC1</td>\n",
       "      <td>exonic</td>\n",
       "      <td>.</td>\n",
       "      <td>UNK</td>\n",
       "      <td>Likely pathogenic PVS1=1 PS=[0, 0, 0, 0, 0] P...</td>\n",
       "    </tr>\n",
       "    <tr>\n",
       "      <td>2</td>\n",
       "      <td>1</td>\n",
       "      <td>27878534</td>\n",
       "      <td>-</td>\n",
       "      <td>GCCC</td>\n",
       "      <td>AHDC1</td>\n",
       "      <td>exonic</td>\n",
       "      <td>.</td>\n",
       "      <td>UNK</td>\n",
       "      <td>Likely pathogenic PVS1=1 PS=[0, 0, 0, 0, 0] P...</td>\n",
       "    </tr>\n",
       "    <tr>\n",
       "      <td>1</td>\n",
       "      <td>1</td>\n",
       "      <td>27878534</td>\n",
       "      <td>-</td>\n",
       "      <td>GGCC</td>\n",
       "      <td>AHDC1</td>\n",
       "      <td>exonic</td>\n",
       "      <td>.</td>\n",
       "      <td>UNK</td>\n",
       "      <td>Likely pathogenic PVS1=1 PS=[0, 0, 0, 0, 0] P...</td>\n",
       "    </tr>\n",
       "    <tr>\n",
       "      <td>2</td>\n",
       "      <td>1</td>\n",
       "      <td>27878534</td>\n",
       "      <td>-</td>\n",
       "      <td>CC</td>\n",
       "      <td>AHDC1</td>\n",
       "      <td>exonic</td>\n",
       "      <td>.</td>\n",
       "      <td>UNK</td>\n",
       "      <td>Likely pathogenic PVS1=1 PS=[0, 0, 0, 0, 0] P...</td>\n",
       "    </tr>\n",
       "    <tr>\n",
       "      <td>1</td>\n",
       "      <td>1</td>\n",
       "      <td>27878534</td>\n",
       "      <td>-</td>\n",
       "      <td>CC</td>\n",
       "      <td>AHDC1</td>\n",
       "      <td>exonic</td>\n",
       "      <td>.</td>\n",
       "      <td>UNK</td>\n",
       "      <td>Likely pathogenic PVS1=1 PS=[0, 0, 0, 0, 0] P...</td>\n",
       "    </tr>\n",
       "    <tr>\n",
       "      <td>0</td>\n",
       "      <td>1</td>\n",
       "      <td>27878534</td>\n",
       "      <td>-</td>\n",
       "      <td>GC</td>\n",
       "      <td>AHDC1</td>\n",
       "      <td>exonic</td>\n",
       "      <td>.</td>\n",
       "      <td>UNK</td>\n",
       "      <td>Likely pathogenic PVS1=1 PS=[0, 0, 0, 0, 0] P...</td>\n",
       "    </tr>\n",
       "  </tbody>\n",
       "</table>\n",
       "</div>"
      ],
      "text/plain": [
       "  CHR       POS REF   ALT Ref_Gene Func_RefGene avsnp147 Clinvar  \\\n",
       "0   1  27878534   -    CC    AHDC1       exonic        .    UNK    \n",
       "1   1  27878534   -  GCCC    AHDC1       exonic        .    UNK    \n",
       "2   1  27878534   -  GCCC    AHDC1       exonic        .    UNK    \n",
       "1   1  27878534   -  GGCC    AHDC1       exonic        .    UNK    \n",
       "2   1  27878534   -    CC    AHDC1       exonic        .    UNK    \n",
       "1   1  27878534   -    CC    AHDC1       exonic        .    UNK    \n",
       "0   1  27878534   -    GC    AHDC1       exonic        .    UNK    \n",
       "\n",
       "                                            Intervar  \n",
       "0   Likely pathogenic PVS1=1 PS=[0, 0, 0, 0, 0] P...  \n",
       "1   Likely pathogenic PVS1=1 PS=[0, 0, 0, 0, 0] P...  \n",
       "2   Likely pathogenic PVS1=1 PS=[0, 0, 0, 0, 0] P...  \n",
       "1   Likely pathogenic PVS1=1 PS=[0, 0, 0, 0, 0] P...  \n",
       "2   Likely pathogenic PVS1=1 PS=[0, 0, 0, 0, 0] P...  \n",
       "1   Likely pathogenic PVS1=1 PS=[0, 0, 0, 0, 0] P...  \n",
       "0   Likely pathogenic PVS1=1 PS=[0, 0, 0, 0, 0] P...  "
      ]
     },
     "execution_count": 12,
     "metadata": {},
     "output_type": "execute_result"
    }
   ],
   "source": [
    "control_append[control_append.POS.isin(our_pos)]"
   ]
  },
  {
   "cell_type": "code",
   "execution_count": 13,
   "metadata": {},
   "outputs": [
    {
     "data": {
      "text/plain": [
       "((241, 9), (241, 9))"
      ]
     },
     "execution_count": 13,
     "metadata": {},
     "output_type": "execute_result"
    }
   ],
   "source": [
    "case_append.shape,control_append.shape"
   ]
  },
  {
   "cell_type": "code",
   "execution_count": 14,
   "metadata": {},
   "outputs": [],
   "source": [
    "#case_merged.head()"
   ]
  },
  {
   "cell_type": "markdown",
   "metadata": {},
   "source": [
    "## Plotting All in a Graph"
   ]
  },
  {
   "cell_type": "code",
   "execution_count": 100,
   "metadata": {},
   "outputs": [
    {
     "data": {
      "text/plain": [
       "((241, 9), (178, 9))"
      ]
     },
     "execution_count": 100,
     "metadata": {},
     "output_type": "execute_result"
    }
   ],
   "source": [
    "case_merged = pd.DataFrame(columns=rename_col)\n",
    "case_append = pd.DataFrame(columns=rename_col)\n",
    "\n",
    "for file in cas:\n",
    "    case = pd.read_excel('../intervar_res.xlsx',sheet_name=str(file)+\"_case\",usecols=col)\n",
    "    case.columns = rename_col\n",
    "    case.Clinvar = case.Clinvar.map(lambda x : x[9:])\n",
    "    case.Intervar = case.Intervar.map(lambda x : x[10:])\n",
    "    \n",
    "    case_append = case_append.append(case)\n",
    "    case_merged = case_merged.merge(case,how = 'outer', on = rename_col)\n",
    "case_append.shape, case_merged.shape   "
   ]
  },
  {
   "cell_type": "markdown",
   "metadata": {},
   "source": [
    "### Only Pathegonic from Case & Control"
   ]
  },
  {
   "cell_type": "code",
   "execution_count": 79,
   "metadata": {},
   "outputs": [],
   "source": [
    "#case_append.Intervar = case_append.Intervar.apply(lambda x : x.split()[0]))\n",
    "#case_append.Intervar  = case_append.Intervar.apply(lambda x : x[0])\n",
    "\n",
    "control_append.Intervar = control_append.Intervar.apply(lambda x: x.split()[0] )"
   ]
  },
  {
   "cell_type": "code",
   "execution_count": 81,
   "metadata": {
    "scrolled": true
   },
   "outputs": [],
   "source": [
    "case_path = case_append[case_append.Intervar==\"Pathogenic\"]\n",
    "control_path = control_append[control_append.Intervar==\"Pathogenic\"]"
   ]
  },
  {
   "cell_type": "markdown",
   "metadata": {},
   "source": [
    "### Pathogenic is in Case and not in Control\n",
    "!!! Not Found according to this data"
   ]
  },
  {
   "cell_type": "code",
   "execution_count": 83,
   "metadata": {
    "scrolled": true
   },
   "outputs": [
    {
     "data": {
      "text/html": [
       "<div>\n",
       "<style scoped>\n",
       "    .dataframe tbody tr th:only-of-type {\n",
       "        vertical-align: middle;\n",
       "    }\n",
       "\n",
       "    .dataframe tbody tr th {\n",
       "        vertical-align: top;\n",
       "    }\n",
       "\n",
       "    .dataframe thead th {\n",
       "        text-align: right;\n",
       "    }\n",
       "</style>\n",
       "<table border=\"1\" class=\"dataframe\">\n",
       "  <thead>\n",
       "    <tr style=\"text-align: right;\">\n",
       "      <th></th>\n",
       "      <th>CHR</th>\n",
       "      <th>POS</th>\n",
       "      <th>REF</th>\n",
       "      <th>ALT</th>\n",
       "      <th>Ref_Gene</th>\n",
       "      <th>Func_RefGene</th>\n",
       "      <th>avsnp147</th>\n",
       "      <th>Clinvar</th>\n",
       "      <th>Intervar</th>\n",
       "    </tr>\n",
       "  </thead>\n",
       "  <tbody>\n",
       "  </tbody>\n",
       "</table>\n",
       "</div>"
      ],
      "text/plain": [
       "Empty DataFrame\n",
       "Columns: [CHR, POS, REF, ALT, Ref_Gene, Func_RefGene, avsnp147, Clinvar, Intervar]\n",
       "Index: []"
      ]
     },
     "execution_count": 83,
     "metadata": {},
     "output_type": "execute_result"
    }
   ],
   "source": [
    " case_path[~(case_path.Intervar.isin(control_path.Intervar))]"
   ]
  },
  {
   "cell_type": "code",
   "execution_count": 92,
   "metadata": {},
   "outputs": [
    {
     "data": {
      "text/plain": [
       "(29, 25)"
      ]
     },
     "execution_count": 92,
     "metadata": {},
     "output_type": "execute_result"
    }
   ],
   "source": [
    "case_path.Ref_Gene.nunique() , control_path.Ref_Gene.nunique()"
   ]
  },
  {
   "cell_type": "code",
   "execution_count": 93,
   "metadata": {},
   "outputs": [
    {
     "data": {
      "text/plain": [
       "((32, 9), (27, 9))"
      ]
     },
     "execution_count": 93,
     "metadata": {},
     "output_type": "execute_result"
    }
   ],
   "source": [
    "case_path.shape, control_path.shape"
   ]
  }
 ],
 "metadata": {
  "kernelspec": {
   "display_name": "Python 3",
   "language": "python",
   "name": "python3"
  },
  "language_info": {
   "codemirror_mode": {
    "name": "ipython",
    "version": 3
   },
   "file_extension": ".py",
   "mimetype": "text/x-python",
   "name": "python",
   "nbconvert_exporter": "python",
   "pygments_lexer": "ipython3",
   "version": "3.7.4"
  }
 },
 "nbformat": 4,
 "nbformat_minor": 2
}
