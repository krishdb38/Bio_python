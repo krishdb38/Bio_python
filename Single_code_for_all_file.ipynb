{
 "cells": [
  {
   "cell_type": "code",
   "execution_count": 2,
   "metadata": {
    "scrolled": true
   },
   "outputs": [
    {
     "name": "stdout",
     "output_type": "stream",
     "text": [
      "Complete_file_Analysis.ipynb  Single_code_for_all_file.ipynb\r\n",
      "krish.xsh\t\t      small_files\r\n",
      "preborn_Data_analysis.ipynb   tsv_to_small_file.ipynb\r\n"
     ]
    }
   ],
   "source": [
    "#convert whole file once\n",
    "!ls"
   ]
  },
  {
   "cell_type": "code",
   "execution_count": 1,
   "metadata": {},
   "outputs": [],
   "source": [
    "import pandas as pd\n",
    "import os"
   ]
  },
  {
   "cell_type": "code",
   "execution_count": 4,
   "metadata": {},
   "outputs": [],
   "source": [
    "file_name=os.listdir(\"../raw_data/\")\n",
    "cols_to_drop = ['ANN[*].EFFECT', 'ANN[*].IMPACT',\n",
    "       'ANN[*].GENE', 'ANN[*].FEATURE', 'ANN[*].FEATUREID', 'ANN[*].BIOTYPE',\n",
    "       'ANN[*].RANK', 'ANN[*].HGVS_C', 'ANN[*].HGVS_P', 'ANN[*].CDNA_POS',\n",
    "       'ANN[*].CDNA_LEN', 'ANN[*].CDS_POS', 'ANN[*].CDS_LEN', 'ANN[*].AA_POS',\n",
    "       'ANN[*].AA_LEN', 'ANN[*].DISTANCE', 'GWASCAT_TRAIT', 'COSMID',\n",
    "       'CLNDISDB', 'ORIGIN', 'CLNSIG', 'CLNDN', 'dbNSFP_Uniprot_acc',\n",
    "       'dbNSFP_Interpro_domain', 'dbNSFP_SIFT_pred',\n",
    "       'dbNSFP_Polyphen2_HDIV_pred', 'dbNSFP_Polyphen2_HVAR_pred',\n",
    "       'dbNSFP_LRT_pred', 'dbNSFP_MutationTaster_pred', 'dbNSFP_GERP___NR',\n",
    "       'dbNSFP_GERP___RS', 'dbNSFP_phastCons100way_vertebrate',\n",
    "       'dbNSFP_1000Gp1_AF', 'dbNSFP_1000Gp1_AFR_AF', 'dbNSFP_1000Gp1_EUR_AF',\n",
    "       'dbNSFP_1000Gp1_AMR_AF', 'dbNSFP_1000Gp1_ASN_AF',\n",
    "       'dbNSFP_ESP6500_AA_AF', 'dbNSFP_ESP6500_EA_AF', 'EXAC_AC', 'EXAC_AN',\n",
    "       'EXAC_AF']"
   ]
  },
  {
   "cell_type": "code",
   "execution_count": 6,
   "metadata": {},
   "outputs": [
    {
     "name": "stdout",
     "output_type": "stream",
     "text": [
      "File Successfully reduced\n",
      "Searching  rs2963463, rs2946169,rs201450565, rs200745338 ,rs201386833 ,rs5950506\n",
      "success Fully done\n"
     ]
    }
   ],
   "source": [
    "# enter  File name \n",
    "filename  = \"1093\"   #Must be in \"\"\n",
    "\n",
    "\n",
    "df1 = pd.read_csv(\"../raw_data/\"+filename+\"/\"+filename+\".snpeff.isoform.tsv\",sep=\"\\t\")\n",
    "df1 =  df1.drop(cols_to_drop,axis=1)\n",
    "df1= df1[(df1[\"#CHROM\"]==\"chr5\") | (df1[\"#CHROM\"]==\"chr3\") | (df1[\"#CHROM\"]==\"chrX\")]\n",
    "df1.to_csv(r\"./small_files/\"+filename+\".csv\",index=None,header =True)\n",
    "print(\"File Successfully reduced\")\n",
    "\n",
    "print(\"Searching  rs2963463, rs2946169,rs201450565, rs200745338 ,rs201386833 ,rs5950506\")\n",
    "\n",
    "df1 = pd.read_csv(r\"./small_files/\"+filename+\".csv\")\n",
    "df1 = df1[(df1[\"ID\"]==\"rs2963463\" )|(df1[\"ID\"]==\"rs2946169\")| (df1[\"ID\"]==\"rs201450565\")|(df1[\"ID\"]==\"rs200745338\") | (df1[\"ID\"]==\"rs201386833\") | (df1[\"ID\"]==\"rs5950506\")]\n",
    "df1.to_csv(r\"./small_files/result_\"+filename,index=None,header =True)\n",
    "\n",
    "print(\"success Fully done\")\n"
   ]
  }
 ],
 "metadata": {
  "kernelspec": {
   "display_name": "Python 3",
   "language": "python",
   "name": "python3"
  },
  "language_info": {
   "codemirror_mode": {
    "name": "ipython",
    "version": 3
   },
   "file_extension": ".py",
   "mimetype": "text/x-python",
   "name": "python",
   "nbconvert_exporter": "python",
   "pygments_lexer": "ipython3",
   "version": "3.7.4"
  }
 },
 "nbformat": 4,
 "nbformat_minor": 2
}
