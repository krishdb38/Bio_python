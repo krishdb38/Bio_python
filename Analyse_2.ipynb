{
 "cells": [
  {
   "cell_type": "code",
   "execution_count": 8,
   "metadata": {},
   "outputs": [],
   "source": [
    "import pandas as pd  \n",
    "import os"
   ]
  },
  {
   "cell_type": "code",
   "execution_count": 2,
   "metadata": {},
   "outputs": [],
   "source": [
    "#filename = \"1282\" "
   ]
  },
  {
   "cell_type": "code",
   "execution_count": 12,
   "metadata": {},
   "outputs": [],
   "source": [
    "\n",
    "#!ls /BiO/Preterm/raw_data/"
   ]
  },
  {
   "cell_type": "code",
   "execution_count": 49,
   "metadata": {},
   "outputs": [],
   "source": [
    "file_list = os.listdir(\"/BiO/Preterm/raw_data/\")\n"
   ]
  },
  {
   "cell_type": "code",
   "execution_count": 17,
   "metadata": {},
   "outputs": [],
   "source": [
    "#df= pd.read_csv(\"/BiO/Preterm/raw_data/\"+filename+\"/\"+filename+\".snpeff.isoform.tsv\",sep=\"\\t\")"
   ]
  },
  {
   "cell_type": "code",
   "execution_count": 48,
   "metadata": {},
   "outputs": [],
   "source": [
    "cols_to_drop = ['ANN[*].EFFECT', 'ANN[*].IMPACT',\n",
    "       'ANN[*].GENE', 'ANN[*].FEATURE', 'ANN[*].FEATUREID', 'ANN[*].BIOTYPE',\n",
    "       'ANN[*].RANK', 'ANN[*].HGVS_C', 'ANN[*].HGVS_P', 'ANN[*].CDNA_POS',\n",
    "       'ANN[*].CDNA_LEN', 'ANN[*].CDS_POS', 'ANN[*].CDS_LEN', 'ANN[*].AA_POS',\n",
    "       'ANN[*].AA_LEN', 'ANN[*].DISTANCE', 'GWASCAT_TRAIT', 'COSMID',\n",
    "       'CLNDISDB', 'ORIGIN', 'CLNSIG', 'CLNDN', 'dbNSFP_Uniprot_acc',\n",
    "       'dbNSFP_Interpro_domain', 'dbNSFP_SIFT_pred',\n",
    "       'dbNSFP_Polyphen2_HDIV_pred', 'dbNSFP_Polyphen2_HVAR_pred',\n",
    "       'dbNSFP_LRT_pred', 'dbNSFP_MutationTaster_pred', 'dbNSFP_GERP___NR',\n",
    "       'dbNSFP_GERP___RS', 'dbNSFP_phastCons100way_vertebrate',\n",
    "       'dbNSFP_1000Gp1_AF', 'dbNSFP_1000Gp1_AFR_AF', 'dbNSFP_1000Gp1_EUR_AF',\n",
    "       'dbNSFP_1000Gp1_AMR_AF', 'dbNSFP_1000Gp1_ASN_AF',\n",
    "       'dbNSFP_ESP6500_AA_AF', 'dbNSFP_ESP6500_EA_AF', 'EXAC_AC', 'EXAC_AN',\n",
    "       'EXAC_AF']"
   ]
  },
  {
   "cell_type": "markdown",
   "metadata": {},
   "source": [
    "### Running 20 file in single Code"
   ]
  },
  {
   "cell_type": "code",
   "execution_count": 64,
   "metadata": {},
   "outputs": [
    {
     "data": {
      "text/plain": [
       "'for filename in file_list:\\n    \\n    print(\"Opening the file--> \\t \" +filename,end=\"\")\\n    df= pd.read_csv(\"/BiO/Preterm/raw_data/\"+filename+\"/\"+filename+\".snpeff.isoform.tsv\",sep=\"\\t\")\\n    print(\"File opened Successfully\",end =\"\")\\n    df  = df.drop(cols_to_drop,axis=1)   #to remove Unnecessary Columns\\n    #Below filter is Our excel Filter \\n    df_new=df[(df[\"#CHROM\"]==\"chrX\") & (df[\"ID\"]==\"rsrs73458627\") | (df[\"#CHROM\"]==\"chr5\") & (df[\"ID\"]==\"rs10044640\") | \\n          (df[\"#CHROM\"]==\"chr1\") & (df[\"ID\"]==\"rs6593543\") | (df[\"#CHROM\"]==\"chr5\") & (df[\"ID\"]==\"rs73796691\") | \\n          (df[\"#CHROM\"]==\"chr10\") & (df[\"ID\"]==\"rs112778647\") | (df[\"#CHROM\"]==\"chr1\") & (df[\"ID\"]==\"rs17111092\") | \\n          \\n          (df[\"#CHROM\"]==\"chr8\") & (df[\"ID\"]==\"rs58440959\") | (df[\"#CHROM\"]==\"chr8\") & (df[\"ID\"]==\"rs115115739\") |\\n          (df[\"#CHROM\"]==\"chr13\") & (df[\"ID\"]==\"rs117731991\") | \\n          (df[\"#CHROM\"]==\"chr4\") & (df[\"ID\"]==\"rs74880760\") | (df[\"#CHROM\"]==\"chr4\") & (df[\"ID\"]==\"rs76672225\") | \\n          (df[\"#CHROM\"]==\"chr13\") & (df[\"ID\"]==\"rs885038\") | (df[\"#CHROM\"]==\"chr5\") & (df[\"ID\"]==\"rs75717676\") | \\n          (df[\"#CHROM\"]==\"chr18\") & (df[\"ID\"]==\"rs73374193\") | (df[\"#CHROM\"]==\"chr4\") & (df[\"ID\"]==\"rs74875498\")]\\n    print(\"Filteered Success ful\" + filename)\\n    df_new.to_csv(r\"../analysis_2/\"+filename+\".csv\",index=None,header =True)\\n    print(\"File saved Successfully\"+filename)\\n    print(\"\\n\")\\nprint(\"Complete\")\\n    '"
      ]
     },
     "execution_count": 64,
     "metadata": {},
     "output_type": "execute_result"
    }
   ],
   "source": [
    "\"\"\"for filename in file_list:\n",
    "    \n",
    "    print(\"Opening the file--> \\t \" +filename,end=\"\")\n",
    "    df= pd.read_csv(\"/BiO/Preterm/raw_data/\"+filename+\"/\"+filename+\".snpeff.isoform.tsv\",sep=\"\\t\")\n",
    "    print(\"File opened Successfully\",end =\"\")\n",
    "    df  = df.drop(cols_to_drop,axis=1)   #to remove Unnecessary Columns\n",
    "    #Below filter is Our excel Filter \n",
    "    df_new=df[(df[\"#CHROM\"]==\"chrX\") & (df[\"ID\"]==\"rsrs73458627\") | (df[\"#CHROM\"]==\"chr5\") & (df[\"ID\"]==\"rs10044640\") | \n",
    "          (df[\"#CHROM\"]==\"chr1\") & (df[\"ID\"]==\"rs6593543\") | (df[\"#CHROM\"]==\"chr5\") & (df[\"ID\"]==\"rs73796691\") | \n",
    "          (df[\"#CHROM\"]==\"chr10\") & (df[\"ID\"]==\"rs112778647\") | (df[\"#CHROM\"]==\"chr1\") & (df[\"ID\"]==\"rs17111092\") | \n",
    "          \n",
    "          (df[\"#CHROM\"]==\"chr8\") & (df[\"ID\"]==\"rs58440959\") | (df[\"#CHROM\"]==\"chr8\") & (df[\"ID\"]==\"rs115115739\") |\n",
    "          (df[\"#CHROM\"]==\"chr13\") & (df[\"ID\"]==\"rs117731991\") | \n",
    "          (df[\"#CHROM\"]==\"chr4\") & (df[\"ID\"]==\"rs74880760\") | (df[\"#CHROM\"]==\"chr4\") & (df[\"ID\"]==\"rs76672225\") | \n",
    "          (df[\"#CHROM\"]==\"chr13\") & (df[\"ID\"]==\"rs885038\") | (df[\"#CHROM\"]==\"chr5\") & (df[\"ID\"]==\"rs75717676\") | \n",
    "          (df[\"#CHROM\"]==\"chr18\") & (df[\"ID\"]==\"rs73374193\") | (df[\"#CHROM\"]==\"chr4\") & (df[\"ID\"]==\"rs74875498\")]\n",
    "    print(\"Filteered Success ful\" + filename)\n",
    "    df_new.to_csv(r\"../analysis_2/\"+filename+\".csv\",index=None,header =True)\n",
    "    print(\"File saved Successfully\"+filename)\n",
    "    print(\"\\n\")\n",
    "print(\"Complete\")\n",
    "    \"\"\""
   ]
  },
  {
   "cell_type": "markdown",
   "metadata": {},
   "source": [
    "# testing"
   ]
  },
  {
   "cell_type": "code",
   "execution_count": 112,
   "metadata": {},
   "outputs": [],
   "source": [
    "filename = \"1481\" "
   ]
  },
  {
   "cell_type": "code",
   "execution_count": 113,
   "metadata": {},
   "outputs": [],
   "source": [
    "df= pd.read_csv(\"/BiO/Preterm/raw_data/\"+filename+\"/\"+filename+\".snpeff.isoform.tsv\",sep=\"\\t\")"
   ]
  },
  {
   "cell_type": "code",
   "execution_count": 100,
   "metadata": {},
   "outputs": [],
   "source": [
    "df  = df.drop(cols_to_drop,axis=1)"
   ]
  },
  {
   "cell_type": "code",
   "execution_count": 101,
   "metadata": {
    "scrolled": true
   },
   "outputs": [
    {
     "data": {
      "text/html": [
       "<div>\n",
       "<style scoped>\n",
       "    .dataframe tbody tr th:only-of-type {\n",
       "        vertical-align: middle;\n",
       "    }\n",
       "\n",
       "    .dataframe tbody tr th {\n",
       "        vertical-align: top;\n",
       "    }\n",
       "\n",
       "    .dataframe thead th {\n",
       "        text-align: right;\n",
       "    }\n",
       "</style>\n",
       "<table border=\"1\" class=\"dataframe\">\n",
       "  <thead>\n",
       "    <tr style=\"text-align: right;\">\n",
       "      <th></th>\n",
       "      <th>#CHROM</th>\n",
       "      <th>POS</th>\n",
       "      <th>ID</th>\n",
       "      <th>REF</th>\n",
       "      <th>ALT</th>\n",
       "      <th>FILTER</th>\n",
       "      <th>VARTYPE</th>\n",
       "      <th>GEN['TN1911D0119'].GT</th>\n",
       "      <th>GEN['TN1911D0119'].AD</th>\n",
       "      <th>GEN['TN1911D0119'].DP</th>\n",
       "    </tr>\n",
       "  </thead>\n",
       "  <tbody>\n",
       "    <tr>\n",
       "      <td>0</td>\n",
       "      <td>chr1</td>\n",
       "      <td>12783</td>\n",
       "      <td>rs62635284</td>\n",
       "      <td>G</td>\n",
       "      <td>A</td>\n",
       "      <td>PASS</td>\n",
       "      <td>SNP</td>\n",
       "      <td>0/1</td>\n",
       "      <td>5,10</td>\n",
       "      <td>15</td>\n",
       "    </tr>\n",
       "    <tr>\n",
       "      <td>1</td>\n",
       "      <td>chr1</td>\n",
       "      <td>12783</td>\n",
       "      <td>rs62635284</td>\n",
       "      <td>G</td>\n",
       "      <td>A</td>\n",
       "      <td>PASS</td>\n",
       "      <td>SNP</td>\n",
       "      <td>0/1</td>\n",
       "      <td>5,10</td>\n",
       "      <td>15</td>\n",
       "    </tr>\n",
       "  </tbody>\n",
       "</table>\n",
       "</div>"
      ],
      "text/plain": [
       "  #CHROM    POS          ID REF ALT FILTER VARTYPE GEN['TN1911D0119'].GT  \\\n",
       "0   chr1  12783  rs62635284   G   A   PASS     SNP                   0/1   \n",
       "1   chr1  12783  rs62635284   G   A   PASS     SNP                   0/1   \n",
       "\n",
       "  GEN['TN1911D0119'].AD GEN['TN1911D0119'].DP  \n",
       "0                  5,10                    15  \n",
       "1                  5,10                    15  "
      ]
     },
     "execution_count": 101,
     "metadata": {},
     "output_type": "execute_result"
    }
   ],
   "source": [
    "df.head(2)"
   ]
  },
  {
   "cell_type": "code",
   "execution_count": 53,
   "metadata": {},
   "outputs": [],
   "source": [
    "#df[\"#CHROM\"].unique()"
   ]
  },
  {
   "cell_type": "code",
   "execution_count": 102,
   "metadata": {},
   "outputs": [
    {
     "data": {
      "text/plain": [
       "array(['chr1', 'chr2', 'chr3', 'chr4', 'chr5', 'chr6', 'chr7', 'chr8',\n",
       "       'chr9', 'chr10', 'chr11', 'chr12', 'chr13', 'chr14', 'chr15',\n",
       "       'chr16', 'chr17', 'chr18', 'chr19', 'chr20', 'chr21', 'chr22',\n",
       "       'chrX', 'chrY', 'chrM'], dtype=object)"
      ]
     },
     "execution_count": 102,
     "metadata": {},
     "output_type": "execute_result"
    }
   ],
   "source": [
    "df[\"#CHROM\"].unique()"
   ]
  },
  {
   "cell_type": "code",
   "execution_count": 103,
   "metadata": {},
   "outputs": [
    {
     "data": {
      "text/html": [
       "<div>\n",
       "<style scoped>\n",
       "    .dataframe tbody tr th:only-of-type {\n",
       "        vertical-align: middle;\n",
       "    }\n",
       "\n",
       "    .dataframe tbody tr th {\n",
       "        vertical-align: top;\n",
       "    }\n",
       "\n",
       "    .dataframe thead th {\n",
       "        text-align: right;\n",
       "    }\n",
       "</style>\n",
       "<table border=\"1\" class=\"dataframe\">\n",
       "  <thead>\n",
       "    <tr style=\"text-align: right;\">\n",
       "      <th></th>\n",
       "      <th>#CHROM</th>\n",
       "      <th>POS</th>\n",
       "      <th>ID</th>\n",
       "      <th>REF</th>\n",
       "      <th>ALT</th>\n",
       "      <th>FILTER</th>\n",
       "      <th>VARTYPE</th>\n",
       "      <th>GEN['TN1911D0119'].GT</th>\n",
       "      <th>GEN['TN1911D0119'].AD</th>\n",
       "      <th>GEN['TN1911D0119'].DP</th>\n",
       "    </tr>\n",
       "  </thead>\n",
       "  <tbody>\n",
       "  </tbody>\n",
       "</table>\n",
       "</div>"
      ],
      "text/plain": [
       "Empty DataFrame\n",
       "Columns: [#CHROM, POS, ID, REF, ALT, FILTER, VARTYPE, GEN['TN1911D0119'].GT, GEN['TN1911D0119'].AD, GEN['TN1911D0119'].DP]\n",
       "Index: []"
      ]
     },
     "execution_count": 103,
     "metadata": {},
     "output_type": "execute_result"
    }
   ],
   "source": [
    "df[(df[\"#CHROM\"]==\"chrX\") & (df[\"ID\"]==\"rs73458627\") ]"
   ]
  },
  {
   "cell_type": "code",
   "execution_count": 104,
   "metadata": {},
   "outputs": [
    {
     "data": {
      "text/html": [
       "<div>\n",
       "<style scoped>\n",
       "    .dataframe tbody tr th:only-of-type {\n",
       "        vertical-align: middle;\n",
       "    }\n",
       "\n",
       "    .dataframe tbody tr th {\n",
       "        vertical-align: top;\n",
       "    }\n",
       "\n",
       "    .dataframe thead th {\n",
       "        text-align: right;\n",
       "    }\n",
       "</style>\n",
       "<table border=\"1\" class=\"dataframe\">\n",
       "  <thead>\n",
       "    <tr style=\"text-align: right;\">\n",
       "      <th></th>\n",
       "      <th>#CHROM</th>\n",
       "      <th>POS</th>\n",
       "      <th>ID</th>\n",
       "      <th>REF</th>\n",
       "      <th>ALT</th>\n",
       "      <th>FILTER</th>\n",
       "      <th>VARTYPE</th>\n",
       "      <th>GEN['TN1911D0119'].GT</th>\n",
       "      <th>GEN['TN1911D0119'].AD</th>\n",
       "      <th>GEN['TN1911D0119'].DP</th>\n",
       "    </tr>\n",
       "  </thead>\n",
       "  <tbody>\n",
       "  </tbody>\n",
       "</table>\n",
       "</div>"
      ],
      "text/plain": [
       "Empty DataFrame\n",
       "Columns: [#CHROM, POS, ID, REF, ALT, FILTER, VARTYPE, GEN['TN1911D0119'].GT, GEN['TN1911D0119'].AD, GEN['TN1911D0119'].DP]\n",
       "Index: []"
      ]
     },
     "execution_count": 104,
     "metadata": {},
     "output_type": "execute_result"
    }
   ],
   "source": [
    "df[(df[\"#CHROM\"]==\"chr5\") & (df[\"ID\"]==\"rs10044640\")]"
   ]
  },
  {
   "cell_type": "code",
   "execution_count": 110,
   "metadata": {},
   "outputs": [
    {
     "data": {
      "text/html": [
       "<div>\n",
       "<style scoped>\n",
       "    .dataframe tbody tr th:only-of-type {\n",
       "        vertical-align: middle;\n",
       "    }\n",
       "\n",
       "    .dataframe tbody tr th {\n",
       "        vertical-align: top;\n",
       "    }\n",
       "\n",
       "    .dataframe thead th {\n",
       "        text-align: right;\n",
       "    }\n",
       "</style>\n",
       "<table border=\"1\" class=\"dataframe\">\n",
       "  <thead>\n",
       "    <tr style=\"text-align: right;\">\n",
       "      <th></th>\n",
       "      <th>#CHROM</th>\n",
       "      <th>POS</th>\n",
       "      <th>ID</th>\n",
       "      <th>REF</th>\n",
       "      <th>ALT</th>\n",
       "      <th>FILTER</th>\n",
       "      <th>VARTYPE</th>\n",
       "      <th>GEN['TN1911D0119'].GT</th>\n",
       "      <th>GEN['TN1911D0119'].AD</th>\n",
       "      <th>GEN['TN1911D0119'].DP</th>\n",
       "    </tr>\n",
       "  </thead>\n",
       "  <tbody>\n",
       "    <tr>\n",
       "      <td>120794</td>\n",
       "      <td>chr1</td>\n",
       "      <td>76968598</td>\n",
       "      <td>rs6593543</td>\n",
       "      <td>C</td>\n",
       "      <td>T</td>\n",
       "      <td>PASS</td>\n",
       "      <td>SNP</td>\n",
       "      <td>1/1</td>\n",
       "      <td>0,32</td>\n",
       "      <td>32</td>\n",
       "    </tr>\n",
       "  </tbody>\n",
       "</table>\n",
       "</div>"
      ],
      "text/plain": [
       "       #CHROM       POS         ID REF ALT FILTER VARTYPE  \\\n",
       "120794   chr1  76968598  rs6593543   C   T   PASS     SNP   \n",
       "\n",
       "       GEN['TN1911D0119'].GT GEN['TN1911D0119'].AD GEN['TN1911D0119'].DP  \n",
       "120794                   1/1                  0,32                    32  "
      ]
     },
     "execution_count": 110,
     "metadata": {},
     "output_type": "execute_result"
    }
   ],
   "source": [
    "df[(df[\"#CHROM\"]==\"chr1\") & (df[\"ID\"]==\"rs6593543\")]"
   ]
  },
  {
   "cell_type": "code",
   "execution_count": 107,
   "metadata": {},
   "outputs": [
    {
     "data": {
      "text/html": [
       "<div>\n",
       "<style scoped>\n",
       "    .dataframe tbody tr th:only-of-type {\n",
       "        vertical-align: middle;\n",
       "    }\n",
       "\n",
       "    .dataframe tbody tr th {\n",
       "        vertical-align: top;\n",
       "    }\n",
       "\n",
       "    .dataframe thead th {\n",
       "        text-align: right;\n",
       "    }\n",
       "</style>\n",
       "<table border=\"1\" class=\"dataframe\">\n",
       "  <thead>\n",
       "    <tr style=\"text-align: right;\">\n",
       "      <th></th>\n",
       "      <th>#CHROM</th>\n",
       "      <th>POS</th>\n",
       "      <th>ID</th>\n",
       "      <th>REF</th>\n",
       "      <th>ALT</th>\n",
       "      <th>FILTER</th>\n",
       "      <th>VARTYPE</th>\n",
       "      <th>GEN['TN1911D0119'].GT</th>\n",
       "      <th>GEN['TN1911D0119'].AD</th>\n",
       "      <th>GEN['TN1911D0119'].DP</th>\n",
       "    </tr>\n",
       "  </thead>\n",
       "  <tbody>\n",
       "  </tbody>\n",
       "</table>\n",
       "</div>"
      ],
      "text/plain": [
       "Empty DataFrame\n",
       "Columns: [#CHROM, POS, ID, REF, ALT, FILTER, VARTYPE, GEN['TN1911D0119'].GT, GEN['TN1911D0119'].AD, GEN['TN1911D0119'].DP]\n",
       "Index: []"
      ]
     },
     "execution_count": 107,
     "metadata": {},
     "output_type": "execute_result"
    }
   ],
   "source": [
    "df[(df[\"#CHROM\"]==\"chr5\") & (df[\"ID\"]==\"rs73796691\")]"
   ]
  },
  {
   "cell_type": "code",
   "execution_count": 108,
   "metadata": {},
   "outputs": [
    {
     "data": {
      "text/html": [
       "<div>\n",
       "<style scoped>\n",
       "    .dataframe tbody tr th:only-of-type {\n",
       "        vertical-align: middle;\n",
       "    }\n",
       "\n",
       "    .dataframe tbody tr th {\n",
       "        vertical-align: top;\n",
       "    }\n",
       "\n",
       "    .dataframe thead th {\n",
       "        text-align: right;\n",
       "    }\n",
       "</style>\n",
       "<table border=\"1\" class=\"dataframe\">\n",
       "  <thead>\n",
       "    <tr style=\"text-align: right;\">\n",
       "      <th></th>\n",
       "      <th>#CHROM</th>\n",
       "      <th>POS</th>\n",
       "      <th>ID</th>\n",
       "      <th>REF</th>\n",
       "      <th>ALT</th>\n",
       "      <th>FILTER</th>\n",
       "      <th>VARTYPE</th>\n",
       "      <th>GEN['TN1911D0119'].GT</th>\n",
       "      <th>GEN['TN1911D0119'].AD</th>\n",
       "      <th>GEN['TN1911D0119'].DP</th>\n",
       "    </tr>\n",
       "  </thead>\n",
       "  <tbody>\n",
       "  </tbody>\n",
       "</table>\n",
       "</div>"
      ],
      "text/plain": [
       "Empty DataFrame\n",
       "Columns: [#CHROM, POS, ID, REF, ALT, FILTER, VARTYPE, GEN['TN1911D0119'].GT, GEN['TN1911D0119'].AD, GEN['TN1911D0119'].DP]\n",
       "Index: []"
      ]
     },
     "execution_count": 108,
     "metadata": {},
     "output_type": "execute_result"
    }
   ],
   "source": [
    "df[(df[\"#CHROM\"]==\"chr10\") & (df[\"ID\"]==\"rs112778647\")]"
   ]
  },
  {
   "cell_type": "code",
   "execution_count": 111,
   "metadata": {},
   "outputs": [
    {
     "data": {
      "text/html": [
       "<div>\n",
       "<style scoped>\n",
       "    .dataframe tbody tr th:only-of-type {\n",
       "        vertical-align: middle;\n",
       "    }\n",
       "\n",
       "    .dataframe tbody tr th {\n",
       "        vertical-align: top;\n",
       "    }\n",
       "\n",
       "    .dataframe thead th {\n",
       "        text-align: right;\n",
       "    }\n",
       "</style>\n",
       "<table border=\"1\" class=\"dataframe\">\n",
       "  <thead>\n",
       "    <tr style=\"text-align: right;\">\n",
       "      <th></th>\n",
       "      <th>#CHROM</th>\n",
       "      <th>POS</th>\n",
       "      <th>ID</th>\n",
       "      <th>REF</th>\n",
       "      <th>ALT</th>\n",
       "      <th>FILTER</th>\n",
       "      <th>VARTYPE</th>\n",
       "      <th>GEN['TN1911D0119'].GT</th>\n",
       "      <th>GEN['TN1911D0119'].AD</th>\n",
       "      <th>GEN['TN1911D0119'].DP</th>\n",
       "    </tr>\n",
       "  </thead>\n",
       "  <tbody>\n",
       "    <tr>\n",
       "      <td>87979</td>\n",
       "      <td>chr1</td>\n",
       "      <td>55304723</td>\n",
       "      <td>rs17111092</td>\n",
       "      <td>C</td>\n",
       "      <td>T</td>\n",
       "      <td>PASS</td>\n",
       "      <td>SNP</td>\n",
       "      <td>0/1</td>\n",
       "      <td>19,21</td>\n",
       "      <td>40</td>\n",
       "    </tr>\n",
       "  </tbody>\n",
       "</table>\n",
       "</div>"
      ],
      "text/plain": [
       "      #CHROM       POS          ID REF ALT FILTER VARTYPE  \\\n",
       "87979   chr1  55304723  rs17111092   C   T   PASS     SNP   \n",
       "\n",
       "      GEN['TN1911D0119'].GT GEN['TN1911D0119'].AD GEN['TN1911D0119'].DP  \n",
       "87979                   0/1                 19,21                    40  "
      ]
     },
     "execution_count": 111,
     "metadata": {},
     "output_type": "execute_result"
    }
   ],
   "source": [
    "df[(df[\"#CHROM\"]==\"chr1\") & (df[\"ID\"]==\"rs17111092\")]"
   ]
  },
  {
   "cell_type": "code",
   "execution_count": 88,
   "metadata": {},
   "outputs": [
    {
     "data": {
      "text/html": [
       "<div>\n",
       "<style scoped>\n",
       "    .dataframe tbody tr th:only-of-type {\n",
       "        vertical-align: middle;\n",
       "    }\n",
       "\n",
       "    .dataframe tbody tr th {\n",
       "        vertical-align: top;\n",
       "    }\n",
       "\n",
       "    .dataframe thead th {\n",
       "        text-align: right;\n",
       "    }\n",
       "</style>\n",
       "<table border=\"1\" class=\"dataframe\">\n",
       "  <thead>\n",
       "    <tr style=\"text-align: right;\">\n",
       "      <th></th>\n",
       "      <th>#CHROM</th>\n",
       "      <th>POS</th>\n",
       "      <th>ID</th>\n",
       "      <th>REF</th>\n",
       "      <th>ALT</th>\n",
       "      <th>FILTER</th>\n",
       "      <th>VARTYPE</th>\n",
       "      <th>GEN['TN1911D0109'].GT</th>\n",
       "      <th>GEN['TN1911D0109'].AD</th>\n",
       "      <th>GEN['TN1911D0109'].DP</th>\n",
       "    </tr>\n",
       "  </thead>\n",
       "  <tbody>\n",
       "  </tbody>\n",
       "</table>\n",
       "</div>"
      ],
      "text/plain": [
       "Empty DataFrame\n",
       "Columns: [#CHROM, POS, ID, REF, ALT, FILTER, VARTYPE, GEN['TN1911D0109'].GT, GEN['TN1911D0109'].AD, GEN['TN1911D0109'].DP]\n",
       "Index: []"
      ]
     },
     "execution_count": 88,
     "metadata": {},
     "output_type": "execute_result"
    }
   ],
   "source": [
    "df[(df[\"#CHROM\"]==\"chr8\") & (df[\"ID\"]==\"rs58440959\")]"
   ]
  },
  {
   "cell_type": "code",
   "execution_count": 89,
   "metadata": {},
   "outputs": [
    {
     "data": {
      "text/html": [
       "<div>\n",
       "<style scoped>\n",
       "    .dataframe tbody tr th:only-of-type {\n",
       "        vertical-align: middle;\n",
       "    }\n",
       "\n",
       "    .dataframe tbody tr th {\n",
       "        vertical-align: top;\n",
       "    }\n",
       "\n",
       "    .dataframe thead th {\n",
       "        text-align: right;\n",
       "    }\n",
       "</style>\n",
       "<table border=\"1\" class=\"dataframe\">\n",
       "  <thead>\n",
       "    <tr style=\"text-align: right;\">\n",
       "      <th></th>\n",
       "      <th>#CHROM</th>\n",
       "      <th>POS</th>\n",
       "      <th>ID</th>\n",
       "      <th>REF</th>\n",
       "      <th>ALT</th>\n",
       "      <th>FILTER</th>\n",
       "      <th>VARTYPE</th>\n",
       "      <th>GEN['TN1911D0109'].GT</th>\n",
       "      <th>GEN['TN1911D0109'].AD</th>\n",
       "      <th>GEN['TN1911D0109'].DP</th>\n",
       "    </tr>\n",
       "  </thead>\n",
       "  <tbody>\n",
       "  </tbody>\n",
       "</table>\n",
       "</div>"
      ],
      "text/plain": [
       "Empty DataFrame\n",
       "Columns: [#CHROM, POS, ID, REF, ALT, FILTER, VARTYPE, GEN['TN1911D0109'].GT, GEN['TN1911D0109'].AD, GEN['TN1911D0109'].DP]\n",
       "Index: []"
      ]
     },
     "execution_count": 89,
     "metadata": {},
     "output_type": "execute_result"
    }
   ],
   "source": [
    "df[(df[\"#CHROM\"]==\"chr8\") & (df[\"ID\"]==\"rs115115739\")]"
   ]
  },
  {
   "cell_type": "code",
   "execution_count": 90,
   "metadata": {},
   "outputs": [
    {
     "data": {
      "text/html": [
       "<div>\n",
       "<style scoped>\n",
       "    .dataframe tbody tr th:only-of-type {\n",
       "        vertical-align: middle;\n",
       "    }\n",
       "\n",
       "    .dataframe tbody tr th {\n",
       "        vertical-align: top;\n",
       "    }\n",
       "\n",
       "    .dataframe thead th {\n",
       "        text-align: right;\n",
       "    }\n",
       "</style>\n",
       "<table border=\"1\" class=\"dataframe\">\n",
       "  <thead>\n",
       "    <tr style=\"text-align: right;\">\n",
       "      <th></th>\n",
       "      <th>#CHROM</th>\n",
       "      <th>POS</th>\n",
       "      <th>ID</th>\n",
       "      <th>REF</th>\n",
       "      <th>ALT</th>\n",
       "      <th>FILTER</th>\n",
       "      <th>VARTYPE</th>\n",
       "      <th>GEN['TN1911D0109'].GT</th>\n",
       "      <th>GEN['TN1911D0109'].AD</th>\n",
       "      <th>GEN['TN1911D0109'].DP</th>\n",
       "    </tr>\n",
       "  </thead>\n",
       "  <tbody>\n",
       "  </tbody>\n",
       "</table>\n",
       "</div>"
      ],
      "text/plain": [
       "Empty DataFrame\n",
       "Columns: [#CHROM, POS, ID, REF, ALT, FILTER, VARTYPE, GEN['TN1911D0109'].GT, GEN['TN1911D0109'].AD, GEN['TN1911D0109'].DP]\n",
       "Index: []"
      ]
     },
     "execution_count": 90,
     "metadata": {},
     "output_type": "execute_result"
    }
   ],
   "source": [
    "df[(df[\"#CHROM\"]==\"chr13\") & (df[\"ID\"]==\"rs117731991\")]"
   ]
  },
  {
   "cell_type": "code",
   "execution_count": 91,
   "metadata": {},
   "outputs": [
    {
     "data": {
      "text/html": [
       "<div>\n",
       "<style scoped>\n",
       "    .dataframe tbody tr th:only-of-type {\n",
       "        vertical-align: middle;\n",
       "    }\n",
       "\n",
       "    .dataframe tbody tr th {\n",
       "        vertical-align: top;\n",
       "    }\n",
       "\n",
       "    .dataframe thead th {\n",
       "        text-align: right;\n",
       "    }\n",
       "</style>\n",
       "<table border=\"1\" class=\"dataframe\">\n",
       "  <thead>\n",
       "    <tr style=\"text-align: right;\">\n",
       "      <th></th>\n",
       "      <th>#CHROM</th>\n",
       "      <th>POS</th>\n",
       "      <th>ID</th>\n",
       "      <th>REF</th>\n",
       "      <th>ALT</th>\n",
       "      <th>FILTER</th>\n",
       "      <th>VARTYPE</th>\n",
       "      <th>GEN['TN1911D0109'].GT</th>\n",
       "      <th>GEN['TN1911D0109'].AD</th>\n",
       "      <th>GEN['TN1911D0109'].DP</th>\n",
       "    </tr>\n",
       "  </thead>\n",
       "  <tbody>\n",
       "  </tbody>\n",
       "</table>\n",
       "</div>"
      ],
      "text/plain": [
       "Empty DataFrame\n",
       "Columns: [#CHROM, POS, ID, REF, ALT, FILTER, VARTYPE, GEN['TN1911D0109'].GT, GEN['TN1911D0109'].AD, GEN['TN1911D0109'].DP]\n",
       "Index: []"
      ]
     },
     "execution_count": 91,
     "metadata": {},
     "output_type": "execute_result"
    }
   ],
   "source": [
    "df[(df[\"#CHROM\"]==\"chr4\") & (df[\"ID\"]==\"rs74880760\")]"
   ]
  },
  {
   "cell_type": "code",
   "execution_count": 92,
   "metadata": {},
   "outputs": [
    {
     "data": {
      "text/html": [
       "<div>\n",
       "<style scoped>\n",
       "    .dataframe tbody tr th:only-of-type {\n",
       "        vertical-align: middle;\n",
       "    }\n",
       "\n",
       "    .dataframe tbody tr th {\n",
       "        vertical-align: top;\n",
       "    }\n",
       "\n",
       "    .dataframe thead th {\n",
       "        text-align: right;\n",
       "    }\n",
       "</style>\n",
       "<table border=\"1\" class=\"dataframe\">\n",
       "  <thead>\n",
       "    <tr style=\"text-align: right;\">\n",
       "      <th></th>\n",
       "      <th>#CHROM</th>\n",
       "      <th>POS</th>\n",
       "      <th>ID</th>\n",
       "      <th>REF</th>\n",
       "      <th>ALT</th>\n",
       "      <th>FILTER</th>\n",
       "      <th>VARTYPE</th>\n",
       "      <th>GEN['TN1911D0109'].GT</th>\n",
       "      <th>GEN['TN1911D0109'].AD</th>\n",
       "      <th>GEN['TN1911D0109'].DP</th>\n",
       "    </tr>\n",
       "  </thead>\n",
       "  <tbody>\n",
       "  </tbody>\n",
       "</table>\n",
       "</div>"
      ],
      "text/plain": [
       "Empty DataFrame\n",
       "Columns: [#CHROM, POS, ID, REF, ALT, FILTER, VARTYPE, GEN['TN1911D0109'].GT, GEN['TN1911D0109'].AD, GEN['TN1911D0109'].DP]\n",
       "Index: []"
      ]
     },
     "execution_count": 92,
     "metadata": {},
     "output_type": "execute_result"
    }
   ],
   "source": [
    "df[(df[\"#CHROM\"]==\"chr4\") & (df[\"ID\"]==\"rs76672225\")]"
   ]
  },
  {
   "cell_type": "code",
   "execution_count": 93,
   "metadata": {},
   "outputs": [
    {
     "data": {
      "text/html": [
       "<div>\n",
       "<style scoped>\n",
       "    .dataframe tbody tr th:only-of-type {\n",
       "        vertical-align: middle;\n",
       "    }\n",
       "\n",
       "    .dataframe tbody tr th {\n",
       "        vertical-align: top;\n",
       "    }\n",
       "\n",
       "    .dataframe thead th {\n",
       "        text-align: right;\n",
       "    }\n",
       "</style>\n",
       "<table border=\"1\" class=\"dataframe\">\n",
       "  <thead>\n",
       "    <tr style=\"text-align: right;\">\n",
       "      <th></th>\n",
       "      <th>#CHROM</th>\n",
       "      <th>POS</th>\n",
       "      <th>ID</th>\n",
       "      <th>REF</th>\n",
       "      <th>ALT</th>\n",
       "      <th>FILTER</th>\n",
       "      <th>VARTYPE</th>\n",
       "      <th>GEN['TN1911D0109'].GT</th>\n",
       "      <th>GEN['TN1911D0109'].AD</th>\n",
       "      <th>GEN['TN1911D0109'].DP</th>\n",
       "    </tr>\n",
       "  </thead>\n",
       "  <tbody>\n",
       "  </tbody>\n",
       "</table>\n",
       "</div>"
      ],
      "text/plain": [
       "Empty DataFrame\n",
       "Columns: [#CHROM, POS, ID, REF, ALT, FILTER, VARTYPE, GEN['TN1911D0109'].GT, GEN['TN1911D0109'].AD, GEN['TN1911D0109'].DP]\n",
       "Index: []"
      ]
     },
     "execution_count": 93,
     "metadata": {},
     "output_type": "execute_result"
    }
   ],
   "source": [
    "df[(df[\"#CHROM\"]==\"chr13\") & (df[\"ID\"]==\"rs117731991\")]"
   ]
  },
  {
   "cell_type": "code",
   "execution_count": 95,
   "metadata": {},
   "outputs": [
    {
     "data": {
      "text/html": [
       "<div>\n",
       "<style scoped>\n",
       "    .dataframe tbody tr th:only-of-type {\n",
       "        vertical-align: middle;\n",
       "    }\n",
       "\n",
       "    .dataframe tbody tr th {\n",
       "        vertical-align: top;\n",
       "    }\n",
       "\n",
       "    .dataframe thead th {\n",
       "        text-align: right;\n",
       "    }\n",
       "</style>\n",
       "<table border=\"1\" class=\"dataframe\">\n",
       "  <thead>\n",
       "    <tr style=\"text-align: right;\">\n",
       "      <th></th>\n",
       "      <th>#CHROM</th>\n",
       "      <th>POS</th>\n",
       "      <th>ID</th>\n",
       "      <th>REF</th>\n",
       "      <th>ALT</th>\n",
       "      <th>FILTER</th>\n",
       "      <th>VARTYPE</th>\n",
       "      <th>GEN['TN1911D0109'].GT</th>\n",
       "      <th>GEN['TN1911D0109'].AD</th>\n",
       "      <th>GEN['TN1911D0109'].DP</th>\n",
       "    </tr>\n",
       "  </thead>\n",
       "  <tbody>\n",
       "  </tbody>\n",
       "</table>\n",
       "</div>"
      ],
      "text/plain": [
       "Empty DataFrame\n",
       "Columns: [#CHROM, POS, ID, REF, ALT, FILTER, VARTYPE, GEN['TN1911D0109'].GT, GEN['TN1911D0109'].AD, GEN['TN1911D0109'].DP]\n",
       "Index: []"
      ]
     },
     "execution_count": 95,
     "metadata": {},
     "output_type": "execute_result"
    }
   ],
   "source": [
    "df[(df[\"#CHROM\"]==\"chr5\") & (df[\"ID\"]==\"rs74880760\")]"
   ]
  },
  {
   "cell_type": "code",
   "execution_count": 96,
   "metadata": {},
   "outputs": [
    {
     "data": {
      "text/html": [
       "<div>\n",
       "<style scoped>\n",
       "    .dataframe tbody tr th:only-of-type {\n",
       "        vertical-align: middle;\n",
       "    }\n",
       "\n",
       "    .dataframe tbody tr th {\n",
       "        vertical-align: top;\n",
       "    }\n",
       "\n",
       "    .dataframe thead th {\n",
       "        text-align: right;\n",
       "    }\n",
       "</style>\n",
       "<table border=\"1\" class=\"dataframe\">\n",
       "  <thead>\n",
       "    <tr style=\"text-align: right;\">\n",
       "      <th></th>\n",
       "      <th>#CHROM</th>\n",
       "      <th>POS</th>\n",
       "      <th>ID</th>\n",
       "      <th>REF</th>\n",
       "      <th>ALT</th>\n",
       "      <th>FILTER</th>\n",
       "      <th>VARTYPE</th>\n",
       "      <th>GEN['TN1911D0109'].GT</th>\n",
       "      <th>GEN['TN1911D0109'].AD</th>\n",
       "      <th>GEN['TN1911D0109'].DP</th>\n",
       "    </tr>\n",
       "  </thead>\n",
       "  <tbody>\n",
       "  </tbody>\n",
       "</table>\n",
       "</div>"
      ],
      "text/plain": [
       "Empty DataFrame\n",
       "Columns: [#CHROM, POS, ID, REF, ALT, FILTER, VARTYPE, GEN['TN1911D0109'].GT, GEN['TN1911D0109'].AD, GEN['TN1911D0109'].DP]\n",
       "Index: []"
      ]
     },
     "execution_count": 96,
     "metadata": {},
     "output_type": "execute_result"
    }
   ],
   "source": [
    "df[(df[\"#CHROM\"]==\"chr18\") & (df[\"ID\"]==\"rs73374193\")]"
   ]
  },
  {
   "cell_type": "code",
   "execution_count": 97,
   "metadata": {},
   "outputs": [
    {
     "data": {
      "text/html": [
       "<div>\n",
       "<style scoped>\n",
       "    .dataframe tbody tr th:only-of-type {\n",
       "        vertical-align: middle;\n",
       "    }\n",
       "\n",
       "    .dataframe tbody tr th {\n",
       "        vertical-align: top;\n",
       "    }\n",
       "\n",
       "    .dataframe thead th {\n",
       "        text-align: right;\n",
       "    }\n",
       "</style>\n",
       "<table border=\"1\" class=\"dataframe\">\n",
       "  <thead>\n",
       "    <tr style=\"text-align: right;\">\n",
       "      <th></th>\n",
       "      <th>#CHROM</th>\n",
       "      <th>POS</th>\n",
       "      <th>ID</th>\n",
       "      <th>REF</th>\n",
       "      <th>ALT</th>\n",
       "      <th>FILTER</th>\n",
       "      <th>VARTYPE</th>\n",
       "      <th>GEN['TN1911D0109'].GT</th>\n",
       "      <th>GEN['TN1911D0109'].AD</th>\n",
       "      <th>GEN['TN1911D0109'].DP</th>\n",
       "    </tr>\n",
       "  </thead>\n",
       "  <tbody>\n",
       "  </tbody>\n",
       "</table>\n",
       "</div>"
      ],
      "text/plain": [
       "Empty DataFrame\n",
       "Columns: [#CHROM, POS, ID, REF, ALT, FILTER, VARTYPE, GEN['TN1911D0109'].GT, GEN['TN1911D0109'].AD, GEN['TN1911D0109'].DP]\n",
       "Index: []"
      ]
     },
     "execution_count": 97,
     "metadata": {},
     "output_type": "execute_result"
    }
   ],
   "source": [
    "df[(df[\"#CHROM\"]==\"chr4\") & (df[\"ID\"]==\"rs74875498\")]"
   ]
  },
  {
   "cell_type": "code",
   "execution_count": null,
   "metadata": {},
   "outputs": [],
   "source": []
  },
  {
   "cell_type": "code",
   "execution_count": null,
   "metadata": {},
   "outputs": [],
   "source": []
  },
  {
   "cell_type": "code",
   "execution_count": null,
   "metadata": {},
   "outputs": [],
   "source": []
  },
  {
   "cell_type": "code",
   "execution_count": null,
   "metadata": {},
   "outputs": [],
   "source": []
  },
  {
   "cell_type": "code",
   "execution_count": null,
   "metadata": {},
   "outputs": [],
   "source": []
  },
  {
   "cell_type": "code",
   "execution_count": null,
   "metadata": {},
   "outputs": [],
   "source": []
  },
  {
   "cell_type": "code",
   "execution_count": 74,
   "metadata": {},
   "outputs": [],
   "source": [
    "df_new=df[(df[\"#CHROM\"]==\"chrX\") & (df[\"ID\"]==\"rs73458627\") | (df[\"#CHROM\"]==\"chr5\") & (df[\"ID\"]==\"rs10044640\") | \n",
    "          (df[\"#CHROM\"]==\"chr1\") & (df[\"ID\"]==\"rs6593543\") | (df[\"#CHROM\"]==\"chr5\") & (df[\"ID\"]==\"rs73796691\") | \n",
    "          (df[\"#CHROM\"]==\"chr10\") & (df[\"ID\"]==\"rs112778647\") | (df[\"#CHROM\"]==\"chr1\") & (df[\"ID\"]==\"rs17111092\") | \n",
    "          \n",
    "          (df[\"#CHROM\"]==\"chr8\") & (df[\"ID\"]==\"rs58440959\") | (df[\"#CHROM\"]==\"chr8\") & (df[\"ID\"]==\"rs115115739\") |\n",
    "          (df[\"#CHROM\"]==\"chr13\") & (df[\"ID\"]==\"rs117731991\") | \n",
    "          (df[\"#CHROM\"]==\"chr4\") & (df[\"ID\"]==\"rs74880760\") | (df[\"#CHROM\"]==\"chr4\") & (df[\"ID\"]==\"rs76672225\") | \n",
    "          (df[\"#CHROM\"]==\"chr13\") & (df[\"ID\"]==\"rs885038\") | (df[\"#CHROM\"]==\"chr5\") & (df[\"ID\"]==\"rs75717676\") | \n",
    "          (df[\"#CHROM\"]==\"chr18\") & (df[\"ID\"]==\"rs73374193\") | (df[\"#CHROM\"]==\"chr4\") & (df[\"ID\"]==\"rs74875498\")]"
   ]
  },
  {
   "cell_type": "code",
   "execution_count": 43,
   "metadata": {},
   "outputs": [
    {
     "data": {
      "text/html": [
       "<div>\n",
       "<style scoped>\n",
       "    .dataframe tbody tr th:only-of-type {\n",
       "        vertical-align: middle;\n",
       "    }\n",
       "\n",
       "    .dataframe tbody tr th {\n",
       "        vertical-align: top;\n",
       "    }\n",
       "\n",
       "    .dataframe thead th {\n",
       "        text-align: right;\n",
       "    }\n",
       "</style>\n",
       "<table border=\"1\" class=\"dataframe\">\n",
       "  <thead>\n",
       "    <tr style=\"text-align: right;\">\n",
       "      <th></th>\n",
       "      <th>#CHROM</th>\n",
       "      <th>POS</th>\n",
       "      <th>ID</th>\n",
       "      <th>REF</th>\n",
       "      <th>ALT</th>\n",
       "      <th>FILTER</th>\n",
       "      <th>VARTYPE</th>\n",
       "      <th>GEN['TN1911D0108'].GT</th>\n",
       "      <th>GEN['TN1911D0108'].AD</th>\n",
       "      <th>GEN['TN1911D0108'].DP</th>\n",
       "    </tr>\n",
       "  </thead>\n",
       "  <tbody>\n",
       "    <tr>\n",
       "      <td>118731</td>\n",
       "      <td>chr1</td>\n",
       "      <td>76968598</td>\n",
       "      <td>rs6593543</td>\n",
       "      <td>C</td>\n",
       "      <td>T</td>\n",
       "      <td>PASS</td>\n",
       "      <td>SNP</td>\n",
       "      <td>1/1</td>\n",
       "      <td>0,30</td>\n",
       "      <td>30</td>\n",
       "    </tr>\n",
       "  </tbody>\n",
       "</table>\n",
       "</div>"
      ],
      "text/plain": [
       "       #CHROM       POS         ID REF ALT FILTER VARTYPE  \\\n",
       "118731   chr1  76968598  rs6593543   C   T   PASS     SNP   \n",
       "\n",
       "       GEN['TN1911D0108'].GT GEN['TN1911D0108'].AD GEN['TN1911D0108'].DP  \n",
       "118731                   1/1                  0,30                    30  "
      ]
     },
     "execution_count": 43,
     "metadata": {},
     "output_type": "execute_result"
    }
   ],
   "source": [
    "#df_new"
   ]
  },
  {
   "cell_type": "code",
   "execution_count": 45,
   "metadata": {},
   "outputs": [],
   "source": [
    "\n",
    "#df_new.to_csv(r\"../analysis_2/\"+filename+\".csv\",index=None,header =True)"
   ]
  },
  {
   "cell_type": "code",
   "execution_count": 54,
   "metadata": {},
   "outputs": [],
   "source": [
    "#!ls .."
   ]
  },
  {
   "cell_type": "code",
   "execution_count": null,
   "metadata": {},
   "outputs": [],
   "source": []
  },
  {
   "cell_type": "code",
   "execution_count": null,
   "metadata": {},
   "outputs": [],
   "source": []
  },
  {
   "cell_type": "code",
   "execution_count": null,
   "metadata": {},
   "outputs": [],
   "source": []
  }
 ],
 "metadata": {
  "kernelspec": {
   "display_name": "Python 3",
   "language": "python",
   "name": "python3"
  },
  "language_info": {
   "codemirror_mode": {
    "name": "ipython",
    "version": 3
   },
   "file_extension": ".py",
   "mimetype": "text/x-python",
   "name": "python",
   "nbconvert_exporter": "python",
   "pygments_lexer": "ipython3",
   "version": "3.7.4"
  }
 },
 "nbformat": 4,
 "nbformat_minor": 2
}
