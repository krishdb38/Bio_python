{
 "cells": [
  {
   "cell_type": "markdown",
   "metadata": {
    "toc": true
   },
   "source": [
    "<h1>Table of Contents<span class=\"tocSkip\"></span></h1>\n",
    "<div class=\"toc\"><ul class=\"toc-item\"><li><span><a href=\"#Introduction:-Bayesian-Linear-Regression-Project\" data-toc-modified-id=\"Introduction:-Bayesian-Linear-Regression-Project-1\"><span class=\"toc-item-num\">1&nbsp;&nbsp;</span>Introduction: Bayesian Linear Regression Project</a></span><ul class=\"toc-item\"><li><span><a href=\"#Dataset\" data-toc-modified-id=\"Dataset-1.1\"><span class=\"toc-item-num\">1.1&nbsp;&nbsp;</span>Dataset</a></span></li></ul></li><li><span><a href=\"#Exploratory-Data-Analysis\" data-toc-modified-id=\"Exploratory-Data-Analysis-2\"><span class=\"toc-item-num\">2&nbsp;&nbsp;</span>Exploratory Data Analysis</a></span><ul class=\"toc-item\"><li><span><a href=\"#Read-in-Data-and-Examine\" data-toc-modified-id=\"Read-in-Data-and-Examine-2.1\"><span class=\"toc-item-num\">2.1&nbsp;&nbsp;</span>Read in Data and Examine</a></span></li></ul></li><li><span><a href=\"#Train-Test-split\" data-toc-modified-id=\"Train-Test-split-3\"><span class=\"toc-item-num\">3&nbsp;&nbsp;</span>Train Test split</a></span><ul class=\"toc-item\"><li><ul class=\"toc-item\"><li><ul class=\"toc-item\"><li><span><a href=\"#Rename-Variables\" data-toc-modified-id=\"Rename-Variables-3.0.0.1\"><span class=\"toc-item-num\">3.0.0.1&nbsp;&nbsp;</span>Rename Variables</a></span></li></ul></li><li><span><a href=\"#Selected-Variables-Distribution-by-Relation-to-Median\" data-toc-modified-id=\"Selected-Variables-Distribution-by-Relation-to-Median-3.0.1\"><span class=\"toc-item-num\">3.0.1&nbsp;&nbsp;</span>Selected Variables Distribution by Relation to Median</a></span></li></ul></li><li><span><a href=\"#Metrics\" data-toc-modified-id=\"Metrics-3.1\"><span class=\"toc-item-num\">3.1&nbsp;&nbsp;</span>Metrics</a></span><ul class=\"toc-item\"><li><span><a href=\"#Naive-Baseline\" data-toc-modified-id=\"Naive-Baseline-3.1.1\"><span class=\"toc-item-num\">3.1.1&nbsp;&nbsp;</span>Naive Baseline</a></span></li></ul></li><li><span><a href=\"#Bayesian-Model-apply\" data-toc-modified-id=\"Bayesian-Model-apply-3.2\"><span class=\"toc-item-num\">3.2&nbsp;&nbsp;</span>Bayesian Model apply</a></span></li><li><span><a href=\"#Formula-from-Ordinary-Least-Squares-Linear-Regression\" data-toc-modified-id=\"Formula-from-Ordinary-Least-Squares-Linear-Regression-3.3\"><span class=\"toc-item-num\">3.3&nbsp;&nbsp;</span>Formula from Ordinary Least Squares Linear Regression</a></span></li></ul></li><li><span><a href=\"#Implementing-Bayesian-Linear-Regression\" data-toc-modified-id=\"Implementing-Bayesian-Linear-Regression-4\"><span class=\"toc-item-num\">4&nbsp;&nbsp;</span>Implementing Bayesian Linear Regression</a></span><ul class=\"toc-item\"><li><span><a href=\"#Create-Model-in-PyMC3-and-Sample-from-Posterior\" data-toc-modified-id=\"Create-Model-in-PyMC3-and-Sample-from-Posterior-4.1\"><span class=\"toc-item-num\">4.1&nbsp;&nbsp;</span>Create Model in PyMC3 and Sample from Posterior</a></span></li></ul></li><li><span><a href=\"#Examine-Bayesian-Linear-Regression-Results\" data-toc-modified-id=\"Examine-Bayesian-Linear-Regression-Results-5\"><span class=\"toc-item-num\">5&nbsp;&nbsp;</span>Examine Bayesian Linear Regression Results</a></span><ul class=\"toc-item\"><li><span><a href=\"#Traceplot-of-All-Samples\" data-toc-modified-id=\"Traceplot-of-All-Samples-5.1\"><span class=\"toc-item-num\">5.1&nbsp;&nbsp;</span>Traceplot of All Samples</a></span><ul class=\"toc-item\"><li><span><a href=\"#Linear-Formula-from-Bayesian-Inference-using-Mean-of-Parameters\" data-toc-modified-id=\"Linear-Formula-from-Bayesian-Inference-using-Mean-of-Parameters-5.1.1\"><span class=\"toc-item-num\">5.1.1&nbsp;&nbsp;</span>Linear Formula from Bayesian Inference using Mean of Parameters</a></span></li></ul></li><li><span><a href=\"#Evaluate-Bayesian-Model-Using-Mean-of-Model-Parameters\" data-toc-modified-id=\"Evaluate-Bayesian-Model-Using-Mean-of-Model-Parameters-5.2\"><span class=\"toc-item-num\">5.2&nbsp;&nbsp;</span>Evaluate Bayesian Model Using Mean of Model Parameters</a></span></li></ul></li><li><span><a href=\"#Make-Predictions-from-Model\" data-toc-modified-id=\"Make-Predictions-from-Model-6\"><span class=\"toc-item-num\">6&nbsp;&nbsp;</span>Make Predictions from Model</a></span><ul class=\"toc-item\"><li><span><a href=\"#Test-Observations\" data-toc-modified-id=\"Test-Observations-6.1\"><span class=\"toc-item-num\">6.1&nbsp;&nbsp;</span>Test Observations</a></span><ul class=\"toc-item\"><li><ul class=\"toc-item\"><li><span><a href=\"#Predictions-for-New-Observation\" data-toc-modified-id=\"Predictions-for-New-Observation-6.1.0.1\"><span class=\"toc-item-num\">6.1.0.1&nbsp;&nbsp;</span>Predictions for New Observation</a></span></li></ul></li></ul></li></ul></li><li><span><a href=\"#Model-Variable-Effects\" data-toc-modified-id=\"Model-Variable-Effects-7\"><span class=\"toc-item-num\">7&nbsp;&nbsp;</span>Model Variable Effects</a></span></li><li><span><a href=\"#Different-Likelihood-Prior-Distribution\" data-toc-modified-id=\"Different-Likelihood-Prior-Distribution-8\"><span class=\"toc-item-num\">8&nbsp;&nbsp;</span>Different Likelihood Prior Distribution</a></span><ul class=\"toc-item\"><li><span><a href=\"#Build-Model-and-Perform-Inference\" data-toc-modified-id=\"Build-Model-and-Perform-Inference-8.1\"><span class=\"toc-item-num\">8.1&nbsp;&nbsp;</span>Build Model and Perform Inference</a></span></li><li><span><a href=\"#Test-the-Model\" data-toc-modified-id=\"Test-the-Model-8.2\"><span class=\"toc-item-num\">8.2&nbsp;&nbsp;</span>Test the Model</a></span></li><li><span><a href=\"#New-Observation-Predictions\" data-toc-modified-id=\"New-Observation-Predictions-8.3\"><span class=\"toc-item-num\">8.3&nbsp;&nbsp;</span>New Observation Predictions</a></span></li></ul></li><li><span><a href=\"#Conclusions\" data-toc-modified-id=\"Conclusions-9\"><span class=\"toc-item-num\">9&nbsp;&nbsp;</span>Conclusions</a></span></li></ul></div>"
   ]
  },
  {
   "cell_type": "markdown",
   "metadata": {},
   "source": [
    "# Introduction: Bayesian Linear Regression Project\n",
    "\n",
    "In this notebook, we will implement a complete machine learning project, focusing on Bayesian Inference methods, in particular, Bayesian Linear Regression. We will go through the entire machine learning process, cleaning the data, exploring it to find trends, establishing a baseline model, evaluating several machine learning approaches for comparisons, implementing Bayesian Linear Regression, interpreting the results, and presenting the results. Let's get started!\n",
    "\n",
    "## Dataset\n",
    "\n",
    "We are using data on student grades collected from a Portuguese secondary (high) school. This data is from the [UCI machine learning repository](https://archive.ics.uci.edu/ml/datasets/student+performance#), a great collection of datasets for model testing. The data includes academic and personal characteristics of the students as well as final grades. The objective is to predict the final grade from the student information which makes this a __supervised, regression task__. We have a set of training data with known labels, and we want the model to learn a mapping from the features (explanatory variables) to the target (the label) in this case the final grade. It is a regression task because the final grade is a continuous value."
   ]
  },
  {
   "cell_type": "markdown",
   "metadata": {},
   "source": [
    "# Exploratory Data Analysis"
   ]
  },
  {
   "cell_type": "code",
   "execution_count": 1,
   "metadata": {},
   "outputs": [],
   "source": [
    "# Pandas and numpy for data manipulation\n",
    "import pandas as pd\n",
    "import numpy as np\n",
    "np.random.seed(42)\n",
    "\n",
    " \n",
    "# Matplotlib and seaborn for plotting\n",
    "import matplotlib.pyplot as plt\n",
    "%matplotlib inline\n",
    "\n",
    "import matplotlib\n",
    "matplotlib.rcParams['font.size'] = 16\n",
    "matplotlib.rcParams['figure.figsize'] = (9, 9)\n",
    "\n",
    "import seaborn as sns\n",
    "\n",
    "from IPython.core.pylabtools import figsize\n",
    "\n",
    "# Scipy helper functions\n",
    "from scipy.stats import percentileofscore\n",
    "from scipy import stats\n",
    "from scipy.stats.stats import pearsonr"
   ]
  },
  {
   "cell_type": "code",
   "execution_count": 2,
   "metadata": {},
   "outputs": [],
   "source": [
    "# Standard ML Models for comparison\n",
    "from sklearn.linear_model import LinearRegression\n",
    "from sklearn.linear_model import ElasticNet\n",
    "from sklearn.ensemble import RandomForestRegressor\n",
    "from sklearn.ensemble import ExtraTreesRegressor\n",
    "from sklearn.ensemble import GradientBoostingRegressor\n",
    "from sklearn.svm import SVR\n",
    "\n",
    "# Splitting data into training/testing\n",
    "from sklearn.model_selection import train_test_split\n",
    "from sklearn.preprocessing import MinMaxScaler\n",
    "\n",
    "# Metrics\n",
    "from sklearn.metrics import mean_squared_error, mean_absolute_error, median_absolute_error\n",
    "\n",
    "# Distributions\n",
    "import scipy"
   ]
  },
  {
   "cell_type": "code",
   "execution_count": 5,
   "metadata": {},
   "outputs": [],
   "source": [
    "# PyMC3 for Bayesian Inference\n",
    "import pymc3 as pm"
   ]
  },
  {
   "cell_type": "markdown",
   "metadata": {},
   "source": [
    "## Read in Data and Examine"
   ]
  },
  {
   "cell_type": "code",
   "execution_count": 16,
   "metadata": {},
   "outputs": [
    {
     "data": {
      "text/html": [
       "<div>\n",
       "<style scoped>\n",
       "    .dataframe tbody tr th:only-of-type {\n",
       "        vertical-align: middle;\n",
       "    }\n",
       "\n",
       "    .dataframe tbody tr th {\n",
       "        vertical-align: top;\n",
       "    }\n",
       "\n",
       "    .dataframe thead th {\n",
       "        text-align: right;\n",
       "    }\n",
       "</style>\n",
       "<table border=\"1\" class=\"dataframe\">\n",
       "  <thead>\n",
       "    <tr style=\"text-align: right;\">\n",
       "      <th></th>\n",
       "      <th>ID</th>\n",
       "      <th>B1</th>\n",
       "    </tr>\n",
       "  </thead>\n",
       "  <tbody>\n",
       "    <tr>\n",
       "      <th>0</th>\n",
       "      <td>GC1601C0356_20160125-150072_IonXpress_010.Fast...</td>\n",
       "      <td>19.052706</td>\n",
       "    </tr>\n",
       "    <tr>\n",
       "      <th>1</th>\n",
       "      <td>GC1601C0359_20160125-340100_IonXpress_013.Fast...</td>\n",
       "      <td>17.772070</td>\n",
       "    </tr>\n",
       "    <tr>\n",
       "      <th>2</th>\n",
       "      <td>GC1601C0361_20160125-330680_IonXpress_015.Fast...</td>\n",
       "      <td>16.200000</td>\n",
       "    </tr>\n",
       "    <tr>\n",
       "      <th>3</th>\n",
       "      <td>GC1601C0376_20160126-330733_IonXpress_018.Fast...</td>\n",
       "      <td>14.987733</td>\n",
       "    </tr>\n",
       "    <tr>\n",
       "      <th>4</th>\n",
       "      <td>GC1601C0378_20160126-300332_IonXpress_020.Fast...</td>\n",
       "      <td>17.656184</td>\n",
       "    </tr>\n",
       "  </tbody>\n",
       "</table>\n",
       "</div>"
      ],
      "text/plain": [
       "                                                  ID         B1\n",
       "0  GC1601C0356_20160125-150072_IonXpress_010.Fast...  19.052706\n",
       "1  GC1601C0359_20160125-340100_IonXpress_013.Fast...  17.772070\n",
       "2  GC1601C0361_20160125-330680_IonXpress_015.Fast...  16.200000\n",
       "3  GC1601C0376_20160126-330733_IonXpress_018.Fast...  14.987733\n",
       "4  GC1601C0378_20160126-300332_IonXpress_020.Fast...  17.656184"
      ]
     },
     "execution_count": 16,
     "metadata": {},
     "output_type": "execute_result"
    }
   ],
   "source": [
    "# Read in class scores\n",
    "df5 = pd.read_csv('../datas_not_to_upload/srlbininfo_10000', nrows=1000, sep=\"\\t\", header=None,)\n",
    "df5.columns = [\"ID\", \"B1\"]\n",
    "df5.head()"
   ]
  },
  {
   "cell_type": "code",
   "execution_count": 24,
   "metadata": {},
   "outputs": [
    {
     "name": "stdout",
     "output_type": "stream",
     "text": [
      "(1000, 601)\n"
     ]
    },
    {
     "data": {
      "text/html": [
       "<div>\n",
       "<style scoped>\n",
       "    .dataframe tbody tr th:only-of-type {\n",
       "        vertical-align: middle;\n",
       "    }\n",
       "\n",
       "    .dataframe tbody tr th {\n",
       "        vertical-align: top;\n",
       "    }\n",
       "\n",
       "    .dataframe thead th {\n",
       "        text-align: right;\n",
       "    }\n",
       "</style>\n",
       "<table border=\"1\" class=\"dataframe\">\n",
       "  <thead>\n",
       "    <tr style=\"text-align: right;\">\n",
       "      <th></th>\n",
       "      <th>V_1</th>\n",
       "      <th>V_2</th>\n",
       "      <th>V_3</th>\n",
       "      <th>V_4</th>\n",
       "      <th>V_5</th>\n",
       "      <th>V_6</th>\n",
       "      <th>V_7</th>\n",
       "      <th>V_8</th>\n",
       "      <th>V_9</th>\n",
       "      <th>V_10</th>\n",
       "      <th>...</th>\n",
       "      <th>V_592</th>\n",
       "      <th>V_593</th>\n",
       "      <th>V_594</th>\n",
       "      <th>V_595</th>\n",
       "      <th>V_596</th>\n",
       "      <th>V_597</th>\n",
       "      <th>V_598</th>\n",
       "      <th>V_599</th>\n",
       "      <th>V_600</th>\n",
       "      <th>B1</th>\n",
       "    </tr>\n",
       "  </thead>\n",
       "  <tbody>\n",
       "    <tr>\n",
       "      <th>0</th>\n",
       "      <td>-29.755846</td>\n",
       "      <td>-4.344965</td>\n",
       "      <td>1.838186</td>\n",
       "      <td>-3.613648</td>\n",
       "      <td>2.845008</td>\n",
       "      <td>1.312920</td>\n",
       "      <td>-1.200381</td>\n",
       "      <td>-2.088223</td>\n",
       "      <td>0.392366</td>\n",
       "      <td>0.953191</td>\n",
       "      <td>...</td>\n",
       "      <td>1.743217</td>\n",
       "      <td>-2.410177</td>\n",
       "      <td>-0.680310</td>\n",
       "      <td>2.661295</td>\n",
       "      <td>2.497828</td>\n",
       "      <td>-0.687415</td>\n",
       "      <td>-0.181781</td>\n",
       "      <td>0.973619</td>\n",
       "      <td>0.971695</td>\n",
       "      <td>19.052706</td>\n",
       "    </tr>\n",
       "    <tr>\n",
       "      <th>1</th>\n",
       "      <td>-33.016124</td>\n",
       "      <td>-3.225344</td>\n",
       "      <td>-0.617828</td>\n",
       "      <td>-4.409760</td>\n",
       "      <td>3.478438</td>\n",
       "      <td>0.687280</td>\n",
       "      <td>-2.849148</td>\n",
       "      <td>-1.838082</td>\n",
       "      <td>1.100716</td>\n",
       "      <td>0.735651</td>\n",
       "      <td>...</td>\n",
       "      <td>0.273286</td>\n",
       "      <td>-3.040912</td>\n",
       "      <td>-0.516842</td>\n",
       "      <td>0.254035</td>\n",
       "      <td>2.398858</td>\n",
       "      <td>-0.435840</td>\n",
       "      <td>-1.813413</td>\n",
       "      <td>-0.657986</td>\n",
       "      <td>0.804807</td>\n",
       "      <td>17.772070</td>\n",
       "    </tr>\n",
       "    <tr>\n",
       "      <th>2</th>\n",
       "      <td>-2.325064</td>\n",
       "      <td>-7.209644</td>\n",
       "      <td>-2.915638</td>\n",
       "      <td>-3.089247</td>\n",
       "      <td>2.253707</td>\n",
       "      <td>1.735573</td>\n",
       "      <td>-1.399348</td>\n",
       "      <td>-1.454453</td>\n",
       "      <td>0.463379</td>\n",
       "      <td>-1.027495</td>\n",
       "      <td>...</td>\n",
       "      <td>1.443486</td>\n",
       "      <td>1.577154</td>\n",
       "      <td>-1.285324</td>\n",
       "      <td>-1.276588</td>\n",
       "      <td>-0.472377</td>\n",
       "      <td>-0.380283</td>\n",
       "      <td>-0.256554</td>\n",
       "      <td>2.255610</td>\n",
       "      <td>2.658563</td>\n",
       "      <td>16.200000</td>\n",
       "    </tr>\n",
       "    <tr>\n",
       "      <th>3</th>\n",
       "      <td>-7.814232</td>\n",
       "      <td>-17.393018</td>\n",
       "      <td>6.341656</td>\n",
       "      <td>-2.483114</td>\n",
       "      <td>0.432056</td>\n",
       "      <td>-0.029993</td>\n",
       "      <td>-0.682560</td>\n",
       "      <td>1.601113</td>\n",
       "      <td>-0.040398</td>\n",
       "      <td>-0.702662</td>\n",
       "      <td>...</td>\n",
       "      <td>-0.422285</td>\n",
       "      <td>-1.598607</td>\n",
       "      <td>-0.230114</td>\n",
       "      <td>-1.619996</td>\n",
       "      <td>-0.706485</td>\n",
       "      <td>0.155912</td>\n",
       "      <td>2.124820</td>\n",
       "      <td>0.859609</td>\n",
       "      <td>1.987287</td>\n",
       "      <td>14.987733</td>\n",
       "    </tr>\n",
       "    <tr>\n",
       "      <th>4</th>\n",
       "      <td>-19.627242</td>\n",
       "      <td>-7.920193</td>\n",
       "      <td>4.828790</td>\n",
       "      <td>-3.153421</td>\n",
       "      <td>1.940255</td>\n",
       "      <td>3.396012</td>\n",
       "      <td>-3.056465</td>\n",
       "      <td>1.087168</td>\n",
       "      <td>-1.397987</td>\n",
       "      <td>-3.180679</td>\n",
       "      <td>...</td>\n",
       "      <td>-0.799754</td>\n",
       "      <td>1.372633</td>\n",
       "      <td>-1.383457</td>\n",
       "      <td>-0.580256</td>\n",
       "      <td>0.064770</td>\n",
       "      <td>-3.144689</td>\n",
       "      <td>3.448346</td>\n",
       "      <td>0.839525</td>\n",
       "      <td>-0.510645</td>\n",
       "      <td>17.656184</td>\n",
       "    </tr>\n",
       "  </tbody>\n",
       "</table>\n",
       "<p>5 rows × 601 columns</p>\n",
       "</div>"
      ],
      "text/plain": [
       "         V_1        V_2       V_3       V_4       V_5       V_6       V_7  \\\n",
       "0 -29.755846  -4.344965  1.838186 -3.613648  2.845008  1.312920 -1.200381   \n",
       "1 -33.016124  -3.225344 -0.617828 -4.409760  3.478438  0.687280 -2.849148   \n",
       "2  -2.325064  -7.209644 -2.915638 -3.089247  2.253707  1.735573 -1.399348   \n",
       "3  -7.814232 -17.393018  6.341656 -2.483114  0.432056 -0.029993 -0.682560   \n",
       "4 -19.627242  -7.920193  4.828790 -3.153421  1.940255  3.396012 -3.056465   \n",
       "\n",
       "        V_8       V_9      V_10  ...     V_592     V_593     V_594     V_595  \\\n",
       "0 -2.088223  0.392366  0.953191  ...  1.743217 -2.410177 -0.680310  2.661295   \n",
       "1 -1.838082  1.100716  0.735651  ...  0.273286 -3.040912 -0.516842  0.254035   \n",
       "2 -1.454453  0.463379 -1.027495  ...  1.443486  1.577154 -1.285324 -1.276588   \n",
       "3  1.601113 -0.040398 -0.702662  ... -0.422285 -1.598607 -0.230114 -1.619996   \n",
       "4  1.087168 -1.397987 -3.180679  ... -0.799754  1.372633 -1.383457 -0.580256   \n",
       "\n",
       "      V_596     V_597     V_598     V_599     V_600         B1  \n",
       "0  2.497828 -0.687415 -0.181781  0.973619  0.971695  19.052706  \n",
       "1  2.398858 -0.435840 -1.813413 -0.657986  0.804807  17.772070  \n",
       "2 -0.472377 -0.380283 -0.256554  2.255610  2.658563  16.200000  \n",
       "3 -0.706485  0.155912  2.124820  0.859609  1.987287  14.987733  \n",
       "4  0.064770 -3.144689  3.448346  0.839525 -0.510645  17.656184  \n",
       "\n",
       "[5 rows x 601 columns]"
      ]
     },
     "execution_count": 24,
     "metadata": {},
     "output_type": "execute_result"
    }
   ],
   "source": [
    "df = pd.read_csv('../datas_not_to_upload/pca_rl_test600.csv', sep = ',')\n",
    "print(df.shape)\n",
    "df.head()"
   ]
  },
  {
   "cell_type": "markdown",
   "metadata": {},
   "source": [
    "# Train Test split"
   ]
  },
  {
   "cell_type": "code",
   "execution_count": 31,
   "metadata": {},
   "outputs": [],
   "source": [
    "x = df.iloc[:,:-1]\n",
    "y = df[\"B1\"]"
   ]
  },
  {
   "cell_type": "code",
   "execution_count": 32,
   "metadata": {},
   "outputs": [],
   "source": [
    "X_train, X_test, y_train, y_test = train_test_split(x, y, test_size = 0.25,\n",
    "                                                        random_state=42)"
   ]
  },
  {
   "cell_type": "code",
   "execution_count": 33,
   "metadata": {},
   "outputs": [
    {
     "data": {
      "text/html": [
       "<div>\n",
       "<style scoped>\n",
       "    .dataframe tbody tr th:only-of-type {\n",
       "        vertical-align: middle;\n",
       "    }\n",
       "\n",
       "    .dataframe tbody tr th {\n",
       "        vertical-align: top;\n",
       "    }\n",
       "\n",
       "    .dataframe thead th {\n",
       "        text-align: right;\n",
       "    }\n",
       "</style>\n",
       "<table border=\"1\" class=\"dataframe\">\n",
       "  <thead>\n",
       "    <tr style=\"text-align: right;\">\n",
       "      <th></th>\n",
       "      <th>V_1</th>\n",
       "      <th>V_2</th>\n",
       "      <th>V_3</th>\n",
       "      <th>V_4</th>\n",
       "      <th>V_5</th>\n",
       "      <th>V_6</th>\n",
       "      <th>V_7</th>\n",
       "      <th>V_8</th>\n",
       "      <th>V_9</th>\n",
       "      <th>V_10</th>\n",
       "      <th>...</th>\n",
       "      <th>V_591</th>\n",
       "      <th>V_592</th>\n",
       "      <th>V_593</th>\n",
       "      <th>V_594</th>\n",
       "      <th>V_595</th>\n",
       "      <th>V_596</th>\n",
       "      <th>V_597</th>\n",
       "      <th>V_598</th>\n",
       "      <th>V_599</th>\n",
       "      <th>V_600</th>\n",
       "    </tr>\n",
       "  </thead>\n",
       "  <tbody>\n",
       "    <tr>\n",
       "      <th>82</th>\n",
       "      <td>-37.656657</td>\n",
       "      <td>0.813122</td>\n",
       "      <td>0.078247</td>\n",
       "      <td>-0.190544</td>\n",
       "      <td>-0.648746</td>\n",
       "      <td>0.230585</td>\n",
       "      <td>0.301815</td>\n",
       "      <td>-0.738989</td>\n",
       "      <td>0.342179</td>\n",
       "      <td>-0.354965</td>\n",
       "      <td>...</td>\n",
       "      <td>-1.217503</td>\n",
       "      <td>-0.082064</td>\n",
       "      <td>-0.163976</td>\n",
       "      <td>0.730926</td>\n",
       "      <td>0.487682</td>\n",
       "      <td>-0.211966</td>\n",
       "      <td>0.235000</td>\n",
       "      <td>1.726726</td>\n",
       "      <td>-1.099662</td>\n",
       "      <td>-0.092891</td>\n",
       "    </tr>\n",
       "    <tr>\n",
       "      <th>991</th>\n",
       "      <td>74.956676</td>\n",
       "      <td>-7.598335</td>\n",
       "      <td>-2.868154</td>\n",
       "      <td>0.470737</td>\n",
       "      <td>-1.563154</td>\n",
       "      <td>1.363301</td>\n",
       "      <td>-1.842184</td>\n",
       "      <td>0.227013</td>\n",
       "      <td>0.842578</td>\n",
       "      <td>-0.252679</td>\n",
       "      <td>...</td>\n",
       "      <td>0.767904</td>\n",
       "      <td>1.327664</td>\n",
       "      <td>-1.131027</td>\n",
       "      <td>0.183459</td>\n",
       "      <td>1.085942</td>\n",
       "      <td>0.903411</td>\n",
       "      <td>-0.624062</td>\n",
       "      <td>-1.628340</td>\n",
       "      <td>0.722356</td>\n",
       "      <td>-2.157620</td>\n",
       "    </tr>\n",
       "    <tr>\n",
       "      <th>789</th>\n",
       "      <td>9.258307</td>\n",
       "      <td>12.323899</td>\n",
       "      <td>2.679994</td>\n",
       "      <td>-7.097457</td>\n",
       "      <td>3.793404</td>\n",
       "      <td>-5.028297</td>\n",
       "      <td>-0.180813</td>\n",
       "      <td>-1.269535</td>\n",
       "      <td>-1.974770</td>\n",
       "      <td>3.893147</td>\n",
       "      <td>...</td>\n",
       "      <td>0.697141</td>\n",
       "      <td>-1.058521</td>\n",
       "      <td>0.857774</td>\n",
       "      <td>0.412489</td>\n",
       "      <td>-0.566023</td>\n",
       "      <td>0.490765</td>\n",
       "      <td>0.987023</td>\n",
       "      <td>1.261025</td>\n",
       "      <td>-0.815387</td>\n",
       "      <td>1.130285</td>\n",
       "    </tr>\n",
       "    <tr>\n",
       "      <th>894</th>\n",
       "      <td>-0.376519</td>\n",
       "      <td>16.854372</td>\n",
       "      <td>1.199639</td>\n",
       "      <td>1.585697</td>\n",
       "      <td>-5.584049</td>\n",
       "      <td>5.478286</td>\n",
       "      <td>-0.557679</td>\n",
       "      <td>-0.284182</td>\n",
       "      <td>-1.216239</td>\n",
       "      <td>-3.910507</td>\n",
       "      <td>...</td>\n",
       "      <td>-0.385917</td>\n",
       "      <td>0.827591</td>\n",
       "      <td>-0.566465</td>\n",
       "      <td>-0.419164</td>\n",
       "      <td>0.905660</td>\n",
       "      <td>1.116764</td>\n",
       "      <td>-1.629706</td>\n",
       "      <td>-0.673563</td>\n",
       "      <td>-0.295310</td>\n",
       "      <td>1.285099</td>\n",
       "    </tr>\n",
       "    <tr>\n",
       "      <th>398</th>\n",
       "      <td>-6.858960</td>\n",
       "      <td>-4.207609</td>\n",
       "      <td>-2.785417</td>\n",
       "      <td>0.292601</td>\n",
       "      <td>-1.808545</td>\n",
       "      <td>-1.748462</td>\n",
       "      <td>-1.314370</td>\n",
       "      <td>1.060389</td>\n",
       "      <td>-0.758341</td>\n",
       "      <td>1.141922</td>\n",
       "      <td>...</td>\n",
       "      <td>-1.871138</td>\n",
       "      <td>0.071351</td>\n",
       "      <td>1.388234</td>\n",
       "      <td>-1.131956</td>\n",
       "      <td>-0.733559</td>\n",
       "      <td>0.486163</td>\n",
       "      <td>-0.225545</td>\n",
       "      <td>3.455967</td>\n",
       "      <td>0.726159</td>\n",
       "      <td>1.000499</td>\n",
       "    </tr>\n",
       "  </tbody>\n",
       "</table>\n",
       "<p>5 rows × 600 columns</p>\n",
       "</div>"
      ],
      "text/plain": [
       "           V_1        V_2       V_3       V_4       V_5       V_6       V_7  \\\n",
       "82  -37.656657   0.813122  0.078247 -0.190544 -0.648746  0.230585  0.301815   \n",
       "991  74.956676  -7.598335 -2.868154  0.470737 -1.563154  1.363301 -1.842184   \n",
       "789   9.258307  12.323899  2.679994 -7.097457  3.793404 -5.028297 -0.180813   \n",
       "894  -0.376519  16.854372  1.199639  1.585697 -5.584049  5.478286 -0.557679   \n",
       "398  -6.858960  -4.207609 -2.785417  0.292601 -1.808545 -1.748462 -1.314370   \n",
       "\n",
       "          V_8       V_9      V_10  ...     V_591     V_592     V_593  \\\n",
       "82  -0.738989  0.342179 -0.354965  ... -1.217503 -0.082064 -0.163976   \n",
       "991  0.227013  0.842578 -0.252679  ...  0.767904  1.327664 -1.131027   \n",
       "789 -1.269535 -1.974770  3.893147  ...  0.697141 -1.058521  0.857774   \n",
       "894 -0.284182 -1.216239 -3.910507  ... -0.385917  0.827591 -0.566465   \n",
       "398  1.060389 -0.758341  1.141922  ... -1.871138  0.071351  1.388234   \n",
       "\n",
       "        V_594     V_595     V_596     V_597     V_598     V_599     V_600  \n",
       "82   0.730926  0.487682 -0.211966  0.235000  1.726726 -1.099662 -0.092891  \n",
       "991  0.183459  1.085942  0.903411 -0.624062 -1.628340  0.722356 -2.157620  \n",
       "789  0.412489 -0.566023  0.490765  0.987023  1.261025 -0.815387  1.130285  \n",
       "894 -0.419164  0.905660  1.116764 -1.629706 -0.673563 -0.295310  1.285099  \n",
       "398 -1.131956 -0.733559  0.486163 -0.225545  3.455967  0.726159  1.000499  \n",
       "\n",
       "[5 rows x 600 columns]"
      ]
     },
     "execution_count": 33,
     "metadata": {},
     "output_type": "execute_result"
    }
   ],
   "source": [
    "X_train.head()"
   ]
  },
  {
   "cell_type": "markdown",
   "metadata": {},
   "source": [
    "#### Rename Variables"
   ]
  },
  {
   "cell_type": "code",
   "execution_count": 34,
   "metadata": {
    "scrolled": false
   },
   "outputs": [
    {
     "data": {
      "text/html": [
       "<div>\n",
       "<style scoped>\n",
       "    .dataframe tbody tr th:only-of-type {\n",
       "        vertical-align: middle;\n",
       "    }\n",
       "\n",
       "    .dataframe tbody tr th {\n",
       "        vertical-align: top;\n",
       "    }\n",
       "\n",
       "    .dataframe thead th {\n",
       "        text-align: right;\n",
       "    }\n",
       "</style>\n",
       "<table border=\"1\" class=\"dataframe\">\n",
       "  <thead>\n",
       "    <tr style=\"text-align: right;\">\n",
       "      <th></th>\n",
       "      <th>V_1</th>\n",
       "      <th>V_2</th>\n",
       "      <th>V_3</th>\n",
       "      <th>V_4</th>\n",
       "      <th>V_5</th>\n",
       "      <th>V_6</th>\n",
       "      <th>V_7</th>\n",
       "      <th>V_8</th>\n",
       "      <th>V_9</th>\n",
       "      <th>V_10</th>\n",
       "      <th>...</th>\n",
       "      <th>V_591</th>\n",
       "      <th>V_592</th>\n",
       "      <th>V_593</th>\n",
       "      <th>V_594</th>\n",
       "      <th>V_595</th>\n",
       "      <th>V_596</th>\n",
       "      <th>V_597</th>\n",
       "      <th>V_598</th>\n",
       "      <th>V_599</th>\n",
       "      <th>V_600</th>\n",
       "    </tr>\n",
       "  </thead>\n",
       "  <tbody>\n",
       "    <tr>\n",
       "      <th>521</th>\n",
       "      <td>16.103523</td>\n",
       "      <td>-18.012638</td>\n",
       "      <td>1.774494</td>\n",
       "      <td>0.231828</td>\n",
       "      <td>-1.202318</td>\n",
       "      <td>1.686824</td>\n",
       "      <td>-1.171252</td>\n",
       "      <td>0.846250</td>\n",
       "      <td>-1.039522</td>\n",
       "      <td>-1.230436</td>\n",
       "      <td>...</td>\n",
       "      <td>-2.278244</td>\n",
       "      <td>0.149066</td>\n",
       "      <td>1.798251</td>\n",
       "      <td>-0.149038</td>\n",
       "      <td>-0.632411</td>\n",
       "      <td>1.128121</td>\n",
       "      <td>0.028523</td>\n",
       "      <td>-0.604737</td>\n",
       "      <td>1.117538</td>\n",
       "      <td>-1.601669</td>\n",
       "    </tr>\n",
       "    <tr>\n",
       "      <th>737</th>\n",
       "      <td>56.159618</td>\n",
       "      <td>-3.486274</td>\n",
       "      <td>-5.174517</td>\n",
       "      <td>0.325080</td>\n",
       "      <td>-1.189411</td>\n",
       "      <td>-1.151127</td>\n",
       "      <td>0.014267</td>\n",
       "      <td>0.461840</td>\n",
       "      <td>0.957203</td>\n",
       "      <td>0.989990</td>\n",
       "      <td>...</td>\n",
       "      <td>0.457900</td>\n",
       "      <td>0.199905</td>\n",
       "      <td>-1.200368</td>\n",
       "      <td>-0.468484</td>\n",
       "      <td>1.123465</td>\n",
       "      <td>-1.119314</td>\n",
       "      <td>-0.152413</td>\n",
       "      <td>-1.357680</td>\n",
       "      <td>1.573763</td>\n",
       "      <td>-0.093997</td>\n",
       "    </tr>\n",
       "    <tr>\n",
       "      <th>740</th>\n",
       "      <td>37.026199</td>\n",
       "      <td>0.143746</td>\n",
       "      <td>-4.144295</td>\n",
       "      <td>-1.368568</td>\n",
       "      <td>1.363017</td>\n",
       "      <td>-0.857701</td>\n",
       "      <td>-2.688067</td>\n",
       "      <td>-0.132159</td>\n",
       "      <td>1.918520</td>\n",
       "      <td>-0.507899</td>\n",
       "      <td>...</td>\n",
       "      <td>0.424968</td>\n",
       "      <td>-0.192500</td>\n",
       "      <td>1.231174</td>\n",
       "      <td>-0.427050</td>\n",
       "      <td>1.693042</td>\n",
       "      <td>1.113580</td>\n",
       "      <td>0.892031</td>\n",
       "      <td>0.565577</td>\n",
       "      <td>-0.820289</td>\n",
       "      <td>-0.887656</td>\n",
       "    </tr>\n",
       "    <tr>\n",
       "      <th>660</th>\n",
       "      <td>67.783585</td>\n",
       "      <td>-5.306079</td>\n",
       "      <td>-7.665349</td>\n",
       "      <td>5.109906</td>\n",
       "      <td>2.457645</td>\n",
       "      <td>-4.222788</td>\n",
       "      <td>1.309696</td>\n",
       "      <td>2.636552</td>\n",
       "      <td>-1.744468</td>\n",
       "      <td>2.627526</td>\n",
       "      <td>...</td>\n",
       "      <td>-1.318585</td>\n",
       "      <td>0.920699</td>\n",
       "      <td>0.349806</td>\n",
       "      <td>1.078547</td>\n",
       "      <td>-2.012509</td>\n",
       "      <td>-1.648557</td>\n",
       "      <td>0.115430</td>\n",
       "      <td>-0.749484</td>\n",
       "      <td>-1.117563</td>\n",
       "      <td>1.226292</td>\n",
       "    </tr>\n",
       "    <tr>\n",
       "      <th>411</th>\n",
       "      <td>-17.415921</td>\n",
       "      <td>-4.695930</td>\n",
       "      <td>0.369896</td>\n",
       "      <td>4.387407</td>\n",
       "      <td>0.961378</td>\n",
       "      <td>-0.135145</td>\n",
       "      <td>-2.255518</td>\n",
       "      <td>1.925828</td>\n",
       "      <td>0.279964</td>\n",
       "      <td>0.139599</td>\n",
       "      <td>...</td>\n",
       "      <td>-0.031558</td>\n",
       "      <td>-2.819491</td>\n",
       "      <td>0.835068</td>\n",
       "      <td>0.323149</td>\n",
       "      <td>2.825629</td>\n",
       "      <td>-1.361043</td>\n",
       "      <td>0.470071</td>\n",
       "      <td>2.156105</td>\n",
       "      <td>1.113875</td>\n",
       "      <td>0.772716</td>\n",
       "    </tr>\n",
       "  </tbody>\n",
       "</table>\n",
       "<p>5 rows × 600 columns</p>\n",
       "</div>"
      ],
      "text/plain": [
       "           V_1        V_2       V_3       V_4       V_5       V_6       V_7  \\\n",
       "521  16.103523 -18.012638  1.774494  0.231828 -1.202318  1.686824 -1.171252   \n",
       "737  56.159618  -3.486274 -5.174517  0.325080 -1.189411 -1.151127  0.014267   \n",
       "740  37.026199   0.143746 -4.144295 -1.368568  1.363017 -0.857701 -2.688067   \n",
       "660  67.783585  -5.306079 -7.665349  5.109906  2.457645 -4.222788  1.309696   \n",
       "411 -17.415921  -4.695930  0.369896  4.387407  0.961378 -0.135145 -2.255518   \n",
       "\n",
       "          V_8       V_9      V_10  ...     V_591     V_592     V_593  \\\n",
       "521  0.846250 -1.039522 -1.230436  ... -2.278244  0.149066  1.798251   \n",
       "737  0.461840  0.957203  0.989990  ...  0.457900  0.199905 -1.200368   \n",
       "740 -0.132159  1.918520 -0.507899  ...  0.424968 -0.192500  1.231174   \n",
       "660  2.636552 -1.744468  2.627526  ... -1.318585  0.920699  0.349806   \n",
       "411  1.925828  0.279964  0.139599  ... -0.031558 -2.819491  0.835068   \n",
       "\n",
       "        V_594     V_595     V_596     V_597     V_598     V_599     V_600  \n",
       "521 -0.149038 -0.632411  1.128121  0.028523 -0.604737  1.117538 -1.601669  \n",
       "737 -0.468484  1.123465 -1.119314 -0.152413 -1.357680  1.573763 -0.093997  \n",
       "740 -0.427050  1.693042  1.113580  0.892031  0.565577 -0.820289 -0.887656  \n",
       "660  1.078547 -2.012509 -1.648557  0.115430 -0.749484 -1.117563  1.226292  \n",
       "411  0.323149  2.825629 -1.361043  0.470071  2.156105  1.113875  0.772716  \n",
       "\n",
       "[5 rows x 600 columns]"
      ]
     },
     "execution_count": 34,
     "metadata": {},
     "output_type": "execute_result"
    }
   ],
   "source": [
    "X_test.head()"
   ]
  },
  {
   "cell_type": "code",
   "execution_count": 35,
   "metadata": {},
   "outputs": [
    {
     "data": {
      "text/plain": [
       "82     10.201364\n",
       "991    11.980224\n",
       "789    12.550562\n",
       "894     8.257585\n",
       "398     9.850674\n",
       "Name: B1, dtype: float64"
      ]
     },
     "execution_count": 35,
     "metadata": {},
     "output_type": "execute_result"
    }
   ],
   "source": [
    "y_train.head()"
   ]
  },
  {
   "cell_type": "code",
   "execution_count": 36,
   "metadata": {},
   "outputs": [
    {
     "name": "stdout",
     "output_type": "stream",
     "text": [
      "(750, 600)\n",
      "(250, 600)\n"
     ]
    }
   ],
   "source": [
    "print(X_train.shape)\n",
    "print(X_test.shape)"
   ]
  },
  {
   "cell_type": "markdown",
   "metadata": {},
   "source": [
    "### Selected Variables Distribution by Relation to Median"
   ]
  },
  {
   "cell_type": "markdown",
   "metadata": {},
   "source": [
    "## Metrics\n",
    "\n",
    "For this regression task, we will use two standard metrics:\n",
    "\n",
    "* Mean Absolute Error (MAE): Average of the absolute value of the difference between predictions and the true values\n",
    "* Root Mean Squared Error (RMSE): The square root of the average of the squared differences between the predictions and the true values.\n",
    "\n",
    "The mean absolute error is more interpretable, but the root mean squared error penalizes larger errors more heavily. Either one may be appropriate depending on the situation. \n",
    "[Here is a discussion](https://medium.com/human-in-a-machine-world/mae-and-rmse-which-metric-is-better-e60ac3bde13d)."
   ]
  },
  {
   "cell_type": "code",
   "execution_count": 43,
   "metadata": {},
   "outputs": [],
   "source": [
    "# Calculate mae and rmse\n",
    "def evaluate_predictions(predictions, true):\n",
    "    mae = np.mean(abs(predictions - true))\n",
    "    rmse = np.sqrt(np.mean((predictions - true) ** 2))\n",
    "    \n",
    "    return mae, rmse"
   ]
  },
  {
   "cell_type": "markdown",
   "metadata": {},
   "source": [
    "### Naive Baseline\n",
    "\n",
    "For a regression task, a simple naive baseline is to guess the median value on the training set for all testing cases. If our machine learning model cannot better this simple baseline, then perhaps we should try a different approach! "
   ]
  },
  {
   "cell_type": "code",
   "execution_count": null,
   "metadata": {},
   "outputs": [],
   "source": [
    "x"
   ]
  },
  {
   "cell_type": "code",
   "execution_count": 45,
   "metadata": {},
   "outputs": [
    {
     "name": "stdout",
     "output_type": "stream",
     "text": [
      "10.352100275000002 10.352100275000002\n"
     ]
    }
   ],
   "source": [
    "# Naive baseline is the median\n",
    "median_pred = y_train.median()\n",
    "median_preds = [median_pred for _ in range(len(X_test))]\n",
    "true = y_test\n",
    "\n",
    "print(median_pred, median_pred)"
   ]
  },
  {
   "cell_type": "code",
   "execution_count": 46,
   "metadata": {},
   "outputs": [
    {
     "name": "stdout",
     "output_type": "stream",
     "text": [
      "Median Baseline  MAE: 3.1265\n",
      "Median Baseline RMSE: 4.0630\n"
     ]
    }
   ],
   "source": [
    "# Display the naive baseline metrics\n",
    "mb_mae, mb_rmse = evaluate_predictions(median_preds, true)\n",
    "print('Median Baseline  MAE: {:.4f}'.format(mb_mae))\n",
    "print('Median Baseline RMSE: {:.4f}'.format(mb_rmse))"
   ]
  },
  {
   "cell_type": "markdown",
   "metadata": {},
   "source": [
    "## Bayesian Model apply"
   ]
  },
  {
   "cell_type": "code",
   "execution_count": 53,
   "metadata": {
    "scrolled": true
   },
   "outputs": [
    {
     "data": {
      "text/plain": [
       "'result = 10.76 + -0.01 * 0 + -0.12 * 1 + 0.15 * 2 + -0.30 * 3 + 0.44 * 4 + 0.07 * 5 + -0.51 * 6 + 0.01 * 7 + -0.02 * 8 + -0.12 * 9 + -0.19 * 10 + -0.14 * 11 + -0.00 * 12 + 0.19 * 13 + -0.06 * 14 + -0.03 * 15 + 0.01 * 16 + 0.08 * 17 + 0.02 * 18 + -0.19 * 19 + -0.05 * 20 + 0.08 * 21 + 0.11 * 22 + -0.08 * 23 + -0.03 * 24 + 0.19 * 25 + -0.03 * 26 + 0.02 * 27 + -0.22 * 28 + -0.15 * 29 + 0.06 * 30 + 0.06 * 31 + -0.03 * 32 + -0.01 * 33 + -0.03 * 34 + 0.10 * 35 + 0.04 * 36 + 0.02 * 37 + 0.06 * 38 + 0.08 * 39 + 0.09 * 40 + 0.17 * 41 + -0.24 * 42 + -0.01 * 43 + -0.13 * 44 + 0.16 * 45 + 0.12 * 46 + 0.14 * 47 + -0.10 * 48 + -0.19 * 49 + -0.15 * 50 + -0.04 * 51 + -0.04 * 52 + -0.04 * 53 + 0.13 * 54 + -0.15 * 55 + 0.01 * 56 + 0.04 * 57 + -0.24 * 58 + -0.06 * 59 + -0.01 * 60 + -0.00 * 61 + 0.04 * 62 + 0.12 * 63 + 0.17 * 64 + -0.11 * 65 + 0.06 * 66 + -0.20 * 67 + 0.00 * 68 + -0.03 * 69 + 0.08 * 70 + -0.02 * 71 + -0.06 * 72 + -0.13 * 73 + 0.05 * 74 + -0.06 * 75 + -0.18 * 76 + 0.01 * 77 + 0.00 * 78 + 0.03 * 79 + -0.12 * 80 + 0.14 * 81 + 0.10 * 82 + 0.15 * 83 + -0.24 * 84 + 0.16 * 85 + 0.08 * 86 + -0.06 * 87 + 0.03 * 88 + 0.14 * 89 + 0.09 * 90 + 0.18 * 91 + 0.12 * 92 + -0.17 * 93 + 0.04 * 94 + -0.17 * 95 + 0.04 * 96 + 0.06 * 97 + 0.14 * 98 + -0.02 * 99 + 0.13 * 100 + -0.07 * 101 + -0.09 * 102 + 0.15 * 103 + -0.06 * 104 + 0.09 * 105 + -0.10 * 106 + -0.00 * 107 + 0.09 * 108 + 0.00 * 109 + -0.24 * 110 + 0.12 * 111 + 0.22 * 112 + 0.13 * 113 + -0.05 * 114 + -0.06 * 115 + -0.01 * 116 + -0.09 * 117 + 0.14 * 118 + -0.03 * 119 + -0.03 * 120 + -0.08 * 121 + -0.03 * 122 + 0.03 * 123 + -0.11 * 124 + 0.03 * 125 + -0.10 * 126 + 0.10 * 127 + -0.05 * 128 + 0.01 * 129 + 0.01 * 130 + -0.08 * 131 + -0.02 * 132 + -0.08 * 133 + 0.04 * 134 + -0.15 * 135 + -0.01 * 136 + 0.12 * 137 + -0.01 * 138 + -0.00 * 139 + -0.18 * 140 + 0.07 * 141 + -0.00 * 142 + -0.12 * 143 + 0.02 * 144 + 0.09 * 145 + -0.26 * 146 + 0.33 * 147 + -0.07 * 148 + 0.14 * 149 + -0.07 * 150 + -0.08 * 151 + 0.15 * 152 + -0.02 * 153 + -0.09 * 154 + -0.08 * 155 + 0.01 * 156 + 0.08 * 157 + -0.05 * 158 + 0.06 * 159 + -0.05 * 160 + -0.19 * 161 + -0.06 * 162 + -0.03 * 163 + -0.02 * 164 + -0.12 * 165 + -0.04 * 166 + -0.04 * 167 + -0.04 * 168 + -0.05 * 169 + -0.13 * 170 + -0.09 * 171 + 0.11 * 172 + -0.10 * 173 + 0.01 * 174 + 0.07 * 175 + -0.17 * 176 + -0.03 * 177 + 0.07 * 178 + 0.06 * 179 + 0.01 * 180 + 0.09 * 181 + 0.03 * 182 + 0.12 * 183 + -0.12 * 184 + -0.04 * 185 + -0.13 * 186 + 0.10 * 187 + -0.21 * 188 + -0.12 * 189 + 0.03 * 190 + 0.06 * 191 + 0.06 * 192 + -0.12 * 193 + 0.05 * 194 + 0.11 * 195 + 0.12 * 196 + -0.11 * 197 + 0.04 * 198 + -0.09 * 199 + -0.12 * 200 + -0.09 * 201 + 0.04 * 202 + -0.07 * 203 + 0.08 * 204 + 0.00 * 205 + 0.06 * 206 + -0.01 * 207 + 0.07 * 208 + -0.14 * 209 + 0.02 * 210 + -0.07 * 211 + -0.09 * 212 + -0.08 * 213 + 0.08 * 214 + -0.03 * 215 + 0.08 * 216 + 0.06 * 217 + -0.09 * 218 + 0.19 * 219 + 0.17 * 220 + -0.02 * 221 + -0.08 * 222 + -0.02 * 223 + -0.00 * 224 + -0.13 * 225 + 0.02 * 226 + 0.07 * 227 + -0.02 * 228 + -0.09 * 229 + 0.08 * 230 + 0.02 * 231 + -0.10 * 232 + -0.06 * 233 + -0.10 * 234 + 0.03 * 235 + 0.04 * 236 + 0.08 * 237 + 0.03 * 238 + 0.01 * 239 + 0.16 * 240 + 0.06 * 241 + -0.11 * 242 + 0.03 * 243 + 0.09 * 244 + 0.10 * 245 + 0.03 * 246 + -0.05 * 247 + 0.00 * 248 + 0.02 * 249 + -0.04 * 250 + 0.05 * 251 + 0.02 * 252 + -0.08 * 253 + 0.04 * 254 + 0.12 * 255 + -0.08 * 256 + 0.02 * 257 + -0.02 * 258 + 0.23 * 259 + -0.13 * 260 + -0.05 * 261 + -0.16 * 262 + -0.13 * 263 + -0.25 * 264 + -0.07 * 265 + -0.13 * 266 + -0.05 * 267 + -0.08 * 268 + 0.07 * 269 + -0.09 * 270 + -0.15 * 271 + 0.01 * 272 + 0.05 * 273 + 0.01 * 274 + 0.02 * 275 + 0.18 * 276 + 0.04 * 277 + -0.11 * 278 + 0.14 * 279 + -0.21 * 280 + 0.12 * 281 + -0.09 * 282 + -0.08 * 283 + -0.06 * 284 + 0.01 * 285 + 0.02 * 286 + -0.09 * 287 + -0.02 * 288 + 0.08 * 289 + 0.05 * 290 + 0.05 * 291 + 0.06 * 292 + -0.06 * 293 + -0.01 * 294 + -0.15 * 295 + 0.02 * 296 + -0.04 * 297 + -0.05 * 298 + 0.04 * 299 + -0.02 * 300 + 0.21 * 301 + 0.07 * 302 + -0.04 * 303 + -0.13 * 304 + 0.17 * 305 + -0.15 * 306 + -0.05 * 307 + 0.08 * 308 + 0.14 * 309 + -0.13 * 310 + -0.08 * 311 + 0.16 * 312 + 0.09 * 313 + -0.11 * 314 + 0.09 * 315 + 0.11 * 316 + -0.02 * 317 + -0.14 * 318 + -0.03 * 319 + 0.12 * 320 + -0.06 * 321 + -0.03 * 322 + 0.03 * 323 + 0.11 * 324 + 0.01 * 325 + -0.03 * 326 + 0.17 * 327 + 0.11 * 328 + -0.28 * 329 + 0.10 * 330 + -0.01 * 331 + 0.14 * 332 + 0.07 * 333 + -0.12 * 334 + 0.12 * 335 + 0.08 * 336 + -0.19 * 337 + -0.02 * 338 + -0.09 * 339 + 0.03 * 340 + 0.05 * 341 + -0.07 * 342 + 0.31 * 343 + 0.02 * 344 + -0.12 * 345 + -0.18 * 346 + 0.03 * 347 + -0.01 * 348 + -0.21 * 349 + -0.20 * 350 + 0.07 * 351 + -0.10 * 352 + 0.03 * 353 + -0.02 * 354 + 0.00 * 355 + 0.11 * 356 + -0.08 * 357 + 0.01 * 358 + 0.03 * 359 + -0.06 * 360 + -0.15 * 361 + 0.11 * 362 + 0.02 * 363 + 0.05 * 364 + -0.05 * 365 + -0.03 * 366 + -0.13 * 367 + 0.03 * 368 + 0.13 * 369 + 0.07 * 370 + 0.04 * 371 + -0.12 * 372 + 0.09 * 373 + -0.03 * 374 + 0.09 * 375 + 0.15 * 376 + 0.04 * 377 + -0.07 * 378 + -0.12 * 379 + 0.09 * 380 + -0.14 * 381 + 0.01 * 382 + -0.05 * 383 + -0.07 * 384 + -0.01 * 385 + 0.05 * 386 + 0.03 * 387 + 0.00 * 388 + -0.24 * 389 + -0.03 * 390 + 0.03 * 391 + -0.13 * 392 + 0.01 * 393 + -0.07 * 394 + -0.08 * 395 + 0.05 * 396 + 0.10 * 397 + 0.09 * 398 + 0.03 * 399 + 0.20 * 400 + -0.05 * 401 + 0.15 * 402 + 0.01 * 403 + -0.02 * 404 + 0.07 * 405 + 0.24 * 406 + -0.07 * 407 + -0.03 * 408 + -0.06 * 409 + 0.12 * 410 + -0.16 * 411 + -0.03 * 412 + 0.11 * 413 + -0.13 * 414 + 0.02 * 415 + 0.15 * 416 + -0.00 * 417 + 0.07 * 418 + 0.10 * 419 + 0.11 * 420 + -0.10 * 421 + 0.00 * 422 + 0.06 * 423 + -0.11 * 424 + -0.05 * 425 + -0.18 * 426 + 0.12 * 427 + 0.18 * 428 + 0.04 * 429 + -0.16 * 430 + 0.06 * 431 + 0.16 * 432 + -0.12 * 433 + 0.06 * 434 + -0.08 * 435 + 0.06 * 436 + -0.08 * 437 + -0.17 * 438 + 0.04 * 439 + -0.02 * 440 + -0.04 * 441 + -0.03 * 442 + -0.14 * 443 + 0.08 * 444 + -0.10 * 445 + 0.25 * 446 + -0.04 * 447 + -0.16 * 448 + 0.01 * 449 + 0.10 * 450 + -0.06 * 451 + -0.09 * 452 + -0.01 * 453 + -0.11 * 454 + 0.06 * 455 + -0.00 * 456 + 0.05 * 457 + 0.06 * 458 + -0.00 * 459 + -0.04 * 460 + -0.04 * 461 + -0.11 * 462 + -0.07 * 463 + -0.10 * 464 + 0.10 * 465 + 0.08 * 466 + 0.01 * 467 + 0.20 * 468 + 0.04 * 469 + 0.10 * 470 + -0.08 * 471 + 0.03 * 472 + 0.11 * 473 + -0.11 * 474 + -0.02 * 475 + 0.06 * 476 + -0.07 * 477 + -0.03 * 478 + 0.08 * 479 + 0.11 * 480 + -0.01 * 481 + 0.05 * 482 + -0.09 * 483 + 0.03 * 484 + 0.10 * 485 + 0.01 * 486 + -0.04 * 487 + 0.01 * 488 + -0.06 * 489 + 0.11 * 490 + -0.08 * 491 + -0.11 * 492 + -0.03 * 493 + -0.04 * 494 + 0.00 * 495 + -0.10 * 496 + 0.15 * 497 + 0.05 * 498 + 0.03 * 499 + -0.16 * 500 + 0.02 * 501 + 0.13 * 502 + -0.08 * 503 + 0.05 * 504 + -0.08 * 505 + -0.03 * 506 + -0.27 * 507 + -0.08 * 508 + -0.16 * 509 + 0.06 * 510 + -0.22 * 511 + -0.03 * 512 + -0.02 * 513 + -0.03 * 514 + -0.17 * 515 + -0.06 * 516 + -0.10 * 517 + -0.00 * 518 + -0.00 * 519 + 0.04 * 520 + -0.12 * 521 + 0.01 * 522 + -0.03 * 523 + -0.05 * 524 + -0.15 * 525 + -0.11 * 526 + 0.11 * 527 + 0.17 * 528 + 0.08 * 529 + 0.03 * 530 + -0.08 * 531 + 0.02 * 532 + -0.01 * 533 + 0.06 * 534 + -0.19 * 535 + -0.13 * 536 + 0.01 * 537 + -0.03 * 538 + -0.23 * 539 + -0.07 * 540 + -0.01 * 541 + -0.17 * 542 + -0.12 * 543 + -0.05 * 544 + 0.14 * 545 + -0.28 * 546 + -0.10 * 547 + 0.03 * 548 + 0.13 * 549 + -0.15 * 550 + -0.16 * 551 + 0.11 * 552 + -0.03 * 553 + 0.08 * 554 + 0.10 * 555 + 0.15 * 556 + -0.06 * 557 + -0.13 * 558 + -0.02 * 559 + 0.15 * 560 + -0.05 * 561 + 0.07 * 562 + -0.06 * 563 + 0.07 * 564 + -0.01 * 565 + 0.12 * 566 + 0.08 * 567 + -0.10 * 568 + -0.00 * 569 + 0.10 * 570 + 0.08 * 571 + -0.11 * 572 + 0.05 * 573 + -0.11 * 574 + -0.07 * 575 + -0.02 * 576 + 0.02 * 577 + 0.03 * 578 + 0.02 * 579 + -0.05 * 580 + -0.11 * 581 + -0.07 * 582 + -0.28 * 583 + 0.11 * 584 + -0.02 * 585 + 0.17 * 586 + -0.08 * 587 + 0.01 * 588 + 0.12 * 589 + -0.10 * 590 + 0.01 * 591 + -0.01 * 592 + -0.13 * 593 + -0.02 * 594 + -0.08 * 595 + 0.05 * 596 + 0.13 * 597 + 0.15 * 598 + 0.17 * 599'"
      ]
     },
     "execution_count": 53,
     "metadata": {},
     "output_type": "execute_result"
    }
   ],
   "source": [
    "lr = LinearRegression()\n",
    "lr.fit(X_train, y_train)\n",
    "\n",
    "ols_formula = 'result = %0.2f +' % lr.intercept_\n",
    "for i, col in enumerate(range(X_train.shape[1])):\n",
    "    ols_formula += ' %0.2f * %s +' % (lr.coef_[i], col)\n",
    "    \n",
    "' '.join(ols_formula.split(' ')[:-1])"
   ]
  },
  {
   "cell_type": "code",
   "execution_count": 54,
   "metadata": {
    "scrolled": true
   },
   "outputs": [
    {
     "name": "stdout",
     "output_type": "stream",
     "text": [
      "LinearRegression()\n",
      "coef_ [-1.32280668e-02 -1.23868021e-01  1.53483029e-01 -3.01081855e-01\n",
      "  4.37973058e-01  6.64164071e-02 -5.05840772e-01  1.12543138e-02\n",
      " -1.93690621e-02 -1.23009388e-01 -1.86635293e-01 -1.43367132e-01\n",
      " -3.69676297e-03  1.94841016e-01 -6.27892094e-02 -2.72371300e-02\n",
      "  1.15381937e-02  7.90692888e-02  1.94890163e-02 -1.87349468e-01\n",
      " -4.94243043e-02  8.49508130e-02  1.05964318e-01 -8.32569946e-02\n",
      " -2.86151837e-02  1.93222402e-01 -2.51614684e-02  1.53511227e-02\n",
      " -2.20589145e-01 -1.54676210e-01  5.64887173e-02  5.58324673e-02\n",
      " -2.52602171e-02 -1.47759537e-02 -2.55701582e-02  1.01227390e-01\n",
      "  3.52882643e-02  1.95825071e-02  5.99540750e-02  8.17949923e-02\n",
      "  8.51770147e-02  1.74052379e-01 -2.38998160e-01 -1.42548803e-02\n",
      " -1.33022409e-01  1.60793005e-01  1.17724563e-01  1.44650674e-01\n",
      " -1.00835696e-01 -1.91599219e-01 -1.48099143e-01 -4.27138414e-02\n",
      " -4.07557706e-02 -4.35667068e-02  1.29281927e-01 -1.52110942e-01\n",
      "  9.97731221e-03  4.12950328e-02 -2.36431412e-01 -6.41598810e-02\n",
      " -7.30606500e-03 -1.81765646e-03  4.00954785e-02  1.20378991e-01\n",
      "  1.69465577e-01 -1.14232214e-01  5.60999019e-02 -1.99665821e-01\n",
      "  1.63957720e-03 -2.68070335e-02  7.84303285e-02 -1.80503322e-02\n",
      " -5.74816868e-02 -1.29674510e-01  5.40183198e-02 -6.39361062e-02\n",
      " -1.82415466e-01  6.28617477e-03  2.87835566e-03  3.22105728e-02\n",
      " -1.21288154e-01  1.39137397e-01  1.02888934e-01  1.49504414e-01\n",
      " -2.43724726e-01  1.64851715e-01  7.77497805e-02 -5.78052229e-02\n",
      "  2.62862294e-02  1.41408036e-01  9.35848770e-02  1.80900973e-01\n",
      "  1.24979727e-01 -1.70812474e-01  3.84512304e-02 -1.69966815e-01\n",
      "  4.37332878e-02  6.41259874e-02  1.44412152e-01 -1.75159711e-02\n",
      "  1.30391417e-01 -6.57875914e-02 -8.82922170e-02  1.50736700e-01\n",
      " -6.28298364e-02  8.83225021e-02 -9.88262260e-02 -2.43649598e-03\n",
      "  9.43148300e-02  3.23425376e-03 -2.42340382e-01  1.19064445e-01\n",
      "  2.21209160e-01  1.26376277e-01 -5.45272235e-02 -6.01254415e-02\n",
      " -1.25401936e-02 -8.76137530e-02  1.39695950e-01 -3.33605626e-02\n",
      " -3.40348154e-02 -8.34679557e-02 -3.35738365e-02  3.34669290e-02\n",
      " -1.05874825e-01  3.33241933e-02 -9.76823098e-02  1.03480986e-01\n",
      " -5.21128395e-02  1.13649625e-02  1.30264895e-02 -7.53036180e-02\n",
      " -1.97843797e-02 -8.42646126e-02  4.16928152e-02 -1.46862382e-01\n",
      " -1.02974707e-02  1.19485168e-01 -9.08985939e-03 -7.52810433e-04\n",
      " -1.83803177e-01  7.30471416e-02 -3.46339301e-03 -1.23548981e-01\n",
      "  1.92199947e-02  8.87227025e-02 -2.56260571e-01  3.32113663e-01\n",
      " -6.92672708e-02  1.36196570e-01 -7.44269491e-02 -7.99346928e-02\n",
      "  1.51463754e-01 -2.26098063e-02 -9.18509496e-02 -7.88277488e-02\n",
      "  7.03439604e-03  7.63488733e-02 -4.50629357e-02  6.17654953e-02\n",
      " -4.59655816e-02 -1.92060580e-01 -5.59177826e-02 -3.14917684e-02\n",
      " -2.33816028e-02 -1.18857928e-01 -4.36666004e-02 -4.18692354e-02\n",
      " -3.61783225e-02 -4.90437511e-02 -1.25260944e-01 -9.04794383e-02\n",
      "  1.13605092e-01 -1.01273212e-01  1.33564390e-02  6.99008277e-02\n",
      " -1.72140388e-01 -3.02824933e-02  6.84995988e-02  6.15153194e-02\n",
      "  8.98997437e-03  8.82941446e-02  3.03377069e-02  1.21626007e-01\n",
      " -1.24919116e-01 -4.44903897e-02 -1.33732681e-01  9.75347450e-02\n",
      " -2.14934313e-01 -1.20349460e-01  3.05646319e-02  6.36679468e-02\n",
      "  6.46849975e-02 -1.17806714e-01  5.25349329e-02  1.06489201e-01\n",
      "  1.19615727e-01 -1.09078802e-01  4.06734429e-02 -9.33669280e-02\n",
      " -1.21026504e-01 -8.74054690e-02  3.76047692e-02 -6.57154615e-02\n",
      "  8.24795070e-02  4.90120821e-03  6.12972630e-02 -6.91902637e-03\n",
      "  7.23648838e-02 -1.40990594e-01  2.31607334e-02 -6.86568252e-02\n",
      " -8.67543483e-02 -8.46024590e-02  8.34482725e-02 -3.22266550e-02\n",
      "  7.98745887e-02  6.14364441e-02 -9.39265848e-02  1.86837298e-01\n",
      "  1.70965457e-01 -1.72762827e-02 -8.41019485e-02 -1.52273427e-02\n",
      " -1.47227620e-03 -1.27918014e-01  1.58947509e-02  6.91276621e-02\n",
      " -1.93745992e-02 -9.18233890e-02  7.95094657e-02  2.27412767e-02\n",
      " -1.00781327e-01 -6.27854242e-02 -9.51438821e-02  2.64915544e-02\n",
      "  3.52664613e-02  8.10930143e-02  3.49400784e-02  5.37288564e-03\n",
      "  1.61934802e-01  6.46193351e-02 -1.09016401e-01  2.63189967e-02\n",
      "  9.43720874e-02  9.64236569e-02  3.47342272e-02 -5.43553603e-02\n",
      "  4.44074655e-03  2.30819195e-02 -3.59019478e-02  4.65464601e-02\n",
      "  1.95738385e-02 -8.48642394e-02  3.86092815e-02  1.18648139e-01\n",
      " -8.17159584e-02  2.03167350e-02 -1.64500702e-02  2.32811601e-01\n",
      " -1.34717801e-01 -5.29604084e-02 -1.63756138e-01 -1.25205224e-01\n",
      " -2.54707026e-01 -7.10825783e-02 -1.30521439e-01 -4.50481351e-02\n",
      " -8.35114449e-02  7.08201186e-02 -9.49138213e-02 -1.47716690e-01\n",
      "  1.28705499e-02  4.88507297e-02  8.17435565e-03  1.84818049e-02\n",
      "  1.79606719e-01  3.98345965e-02 -1.08053803e-01  1.44269935e-01\n",
      " -2.09811463e-01  1.19103313e-01 -9.19775860e-02 -7.63632405e-02\n",
      " -5.73399037e-02  8.06286228e-03  1.55576433e-02 -8.66078463e-02\n",
      " -1.50379922e-02  7.52432893e-02  4.56877559e-02  5.05967245e-02\n",
      "  6.46302619e-02 -5.99111667e-02 -8.00137372e-03 -1.53084872e-01\n",
      "  1.73615338e-02 -4.15145869e-02 -4.93172568e-02  4.46349707e-02\n",
      " -2.30291440e-02  2.11450989e-01  7.25592839e-02 -3.85452743e-02\n",
      " -1.32357711e-01  1.68590430e-01 -1.51152982e-01 -5.15917096e-02\n",
      "  8.00370183e-02  1.36553003e-01 -1.31886801e-01 -8.47009048e-02\n",
      "  1.58355084e-01  8.67302250e-02 -1.11105651e-01  9.33598050e-02\n",
      "  1.10535158e-01 -2.02732728e-02 -1.37917319e-01 -2.63526619e-02\n",
      "  1.23255070e-01 -6.44293502e-02 -2.93166142e-02  3.42312185e-02\n",
      "  1.14689011e-01  9.90560406e-03 -3.49893335e-02  1.70606536e-01\n",
      "  1.07685195e-01 -2.78562014e-01  1.03302211e-01 -1.14963663e-02\n",
      "  1.41223021e-01  7.28855621e-02 -1.20693059e-01  1.24362327e-01\n",
      "  7.56104071e-02 -1.91606108e-01 -1.54491802e-02 -8.83132620e-02\n",
      "  3.19073849e-02  4.94688417e-02 -7.30292632e-02  3.10489047e-01\n",
      "  1.84086664e-02 -1.21798007e-01 -1.81708059e-01  3.16073083e-02\n",
      " -1.01250589e-02 -2.08115475e-01 -1.98730953e-01  7.00325216e-02\n",
      " -9.66476476e-02  3.04958121e-02 -2.02157390e-02  1.49368252e-03\n",
      "  1.09246828e-01 -8.10437110e-02  7.15182023e-03  3.06186640e-02\n",
      " -6.06806048e-02 -1.51749118e-01  1.05234227e-01  1.50161039e-02\n",
      "  5.48012873e-02 -5.33171625e-02 -3.08612729e-02 -1.31588345e-01\n",
      "  3.48956641e-02  1.27988335e-01  6.52256754e-02  4.09667522e-02\n",
      " -1.20433801e-01  8.73780708e-02 -2.99150885e-02  8.52944512e-02\n",
      "  1.54913093e-01  3.91044240e-02 -6.70635382e-02 -1.18527966e-01\n",
      "  8.66598165e-02 -1.41592246e-01  8.21281368e-03 -5.28174367e-02\n",
      " -6.61311753e-02 -1.08610190e-02  4.81230245e-02  3.47450480e-02\n",
      "  2.93279892e-03 -2.38815688e-01 -3.01781225e-02  3.07368464e-02\n",
      " -1.31456533e-01  7.56862028e-03 -7.02258600e-02 -8.29810106e-02\n",
      "  4.71387028e-02  9.74424306e-02  9.28374379e-02  2.81383931e-02\n",
      "  2.00034153e-01 -5.39788268e-02  1.49340534e-01  6.38014329e-03\n",
      " -1.54984839e-02  7.45933484e-02  2.44405425e-01 -6.96304603e-02\n",
      " -2.72985021e-02 -6.32223837e-02  1.15974342e-01 -1.55264851e-01\n",
      " -2.78998642e-02  1.12644537e-01 -1.33676321e-01  2.02558433e-02\n",
      "  1.51225127e-01 -1.81076368e-03  7.43889521e-02  9.90550224e-02\n",
      "  1.13356879e-01 -9.73387576e-02  3.25034319e-04  5.91367376e-02\n",
      " -1.14762073e-01 -5.48361776e-02 -1.83508611e-01  1.22229527e-01\n",
      "  1.82779075e-01  3.53360003e-02 -1.58649194e-01  5.83590690e-02\n",
      "  1.62973890e-01 -1.23640017e-01  6.38893739e-02 -8.49491021e-02\n",
      "  6.05943795e-02 -7.65211449e-02 -1.71275668e-01  4.16616916e-02\n",
      " -2.07710184e-02 -3.71298006e-02 -3.23862452e-02 -1.38432868e-01\n",
      "  7.76401642e-02 -9.71174112e-02  2.51380319e-01 -3.62940852e-02\n",
      " -1.56421894e-01  1.44380491e-02  9.71142176e-02 -5.57344262e-02\n",
      " -8.84949969e-02 -1.39458892e-02 -1.08963115e-01  6.03671429e-02\n",
      " -4.27434572e-03  5.07995648e-02  6.33188115e-02 -8.70991057e-04\n",
      " -4.27061547e-02 -3.84949658e-02 -1.12377075e-01 -6.72194762e-02\n",
      " -1.01273110e-01  9.56993713e-02  7.53875301e-02  6.36372071e-03\n",
      "  1.98515337e-01  3.95712849e-02  1.04162465e-01 -8.39120883e-02\n",
      "  3.26267161e-02  1.09631798e-01 -1.05619642e-01 -1.72873838e-02\n",
      "  6.16572732e-02 -6.91423354e-02 -2.77402738e-02  8.30609648e-02\n",
      "  1.05864424e-01 -1.09293026e-02  4.69845981e-02 -8.94113839e-02\n",
      "  3.33665651e-02  9.54697290e-02  1.16306007e-02 -3.54600689e-02\n",
      "  1.45809381e-02 -5.95829551e-02  1.09524994e-01 -7.79854243e-02\n",
      " -1.07545886e-01 -2.89374429e-02 -3.89939855e-02  5.71619977e-04\n",
      " -1.03635245e-01  1.46398115e-01  5.49405036e-02  2.67847966e-02\n",
      " -1.61975737e-01  1.87949869e-02  1.29453090e-01 -8.13611077e-02\n",
      "  5.39553135e-02 -7.62054117e-02 -3.09890696e-02 -2.74639366e-01\n",
      " -7.85180031e-02 -1.58550114e-01  6.03137730e-02 -2.21226707e-01\n",
      " -2.84826632e-02 -2.18481705e-02 -2.94324760e-02 -1.66335705e-01\n",
      " -6.16880485e-02 -1.04078745e-01 -2.85962564e-03 -2.73332754e-03\n",
      "  4.42111968e-02 -1.24421549e-01  1.25634110e-02 -2.60613987e-02\n",
      " -5.31011929e-02 -1.48470853e-01 -1.13090303e-01  1.08348850e-01\n",
      "  1.65009008e-01  8.33040587e-02  2.99267806e-02 -8.13684336e-02\n",
      "  1.73329115e-02 -5.69516900e-03  5.73495885e-02 -1.85365609e-01\n",
      " -1.32785831e-01  8.81977348e-03 -3.18833765e-02 -2.31699634e-01\n",
      " -6.97053103e-02 -1.34798052e-02 -1.66230961e-01 -1.23334801e-01\n",
      " -5.22266445e-02  1.44474155e-01 -2.77427183e-01 -9.58781568e-02\n",
      "  2.74259573e-02  1.26153820e-01 -1.53897864e-01 -1.64631986e-01\n",
      "  1.11447213e-01 -3.14195610e-02  7.71409438e-02  1.02897545e-01\n",
      "  1.52543050e-01 -6.00369621e-02 -1.34602202e-01 -2.19889729e-02\n",
      "  1.49320111e-01 -5.20880772e-02  6.82193188e-02 -5.54959460e-02\n",
      "  7.48702100e-02 -8.80887208e-03  1.18735056e-01  8.22688293e-02\n",
      " -1.00534538e-01 -4.67467352e-04  1.04590918e-01  7.58080691e-02\n",
      " -1.05420936e-01  5.42970092e-02 -1.08753243e-01 -6.92889389e-02\n",
      " -1.81633656e-02  1.63941547e-02  3.35735611e-02  1.87660341e-02\n",
      " -4.50418247e-02 -1.09212800e-01 -6.84477508e-02 -2.83753870e-01\n",
      "  1.14566725e-01 -2.41707790e-02  1.72901083e-01 -7.59907514e-02\n",
      "  9.48644792e-03  1.15493846e-01 -9.56921794e-02  1.37853706e-02\n",
      " -5.98109345e-03 -1.25600881e-01 -2.19285986e-02 -8.07627243e-02\n",
      "  5.46276100e-02  1.27615406e-01  1.54093216e-01  1.74049337e-01]\n",
      "intercept 10.761459513403832\n"
     ]
    }
   ],
   "source": [
    "print(lr)\n",
    "print('coef_', lr.coef_)\n",
    "print('intercept', lr.intercept_)"
   ]
  },
  {
   "cell_type": "markdown",
   "metadata": {},
   "source": [
    "# Implementing Bayesian Linear Regression"
   ]
  },
  {
   "cell_type": "code",
   "execution_count": 73,
   "metadata": {
    "scrolled": true
   },
   "outputs": [
    {
     "data": {
      "text/html": [
       "<div>\n",
       "<style scoped>\n",
       "    .dataframe tbody tr th:only-of-type {\n",
       "        vertical-align: middle;\n",
       "    }\n",
       "\n",
       "    .dataframe tbody tr th {\n",
       "        vertical-align: top;\n",
       "    }\n",
       "\n",
       "    .dataframe thead th {\n",
       "        text-align: right;\n",
       "    }\n",
       "</style>\n",
       "<table border=\"1\" class=\"dataframe\">\n",
       "  <thead>\n",
       "    <tr style=\"text-align: right;\">\n",
       "      <th></th>\n",
       "      <th>V_1</th>\n",
       "      <th>V_2</th>\n",
       "      <th>V_3</th>\n",
       "      <th>V_4</th>\n",
       "      <th>V_5</th>\n",
       "      <th>V_6</th>\n",
       "      <th>V_7</th>\n",
       "      <th>V_8</th>\n",
       "      <th>V_9</th>\n",
       "      <th>V_10</th>\n",
       "      <th>...</th>\n",
       "      <th>V_592</th>\n",
       "      <th>V_593</th>\n",
       "      <th>V_594</th>\n",
       "      <th>V_595</th>\n",
       "      <th>V_596</th>\n",
       "      <th>V_597</th>\n",
       "      <th>V_598</th>\n",
       "      <th>V_599</th>\n",
       "      <th>V_600</th>\n",
       "      <th>B1</th>\n",
       "    </tr>\n",
       "  </thead>\n",
       "  <tbody>\n",
       "    <tr>\n",
       "      <th>82</th>\n",
       "      <td>-37.656657</td>\n",
       "      <td>0.813122</td>\n",
       "      <td>0.078247</td>\n",
       "      <td>-0.190544</td>\n",
       "      <td>-0.648746</td>\n",
       "      <td>0.230585</td>\n",
       "      <td>0.301815</td>\n",
       "      <td>-0.738989</td>\n",
       "      <td>0.342179</td>\n",
       "      <td>-0.354965</td>\n",
       "      <td>...</td>\n",
       "      <td>-0.082064</td>\n",
       "      <td>-0.163976</td>\n",
       "      <td>0.730926</td>\n",
       "      <td>0.487682</td>\n",
       "      <td>-0.211966</td>\n",
       "      <td>0.235000</td>\n",
       "      <td>1.726726</td>\n",
       "      <td>-1.099662</td>\n",
       "      <td>-0.092891</td>\n",
       "      <td>10.201364</td>\n",
       "    </tr>\n",
       "    <tr>\n",
       "      <th>991</th>\n",
       "      <td>74.956676</td>\n",
       "      <td>-7.598335</td>\n",
       "      <td>-2.868154</td>\n",
       "      <td>0.470737</td>\n",
       "      <td>-1.563154</td>\n",
       "      <td>1.363301</td>\n",
       "      <td>-1.842184</td>\n",
       "      <td>0.227013</td>\n",
       "      <td>0.842578</td>\n",
       "      <td>-0.252679</td>\n",
       "      <td>...</td>\n",
       "      <td>1.327664</td>\n",
       "      <td>-1.131027</td>\n",
       "      <td>0.183459</td>\n",
       "      <td>1.085942</td>\n",
       "      <td>0.903411</td>\n",
       "      <td>-0.624062</td>\n",
       "      <td>-1.628340</td>\n",
       "      <td>0.722356</td>\n",
       "      <td>-2.157620</td>\n",
       "      <td>11.980224</td>\n",
       "    </tr>\n",
       "    <tr>\n",
       "      <th>789</th>\n",
       "      <td>9.258307</td>\n",
       "      <td>12.323899</td>\n",
       "      <td>2.679994</td>\n",
       "      <td>-7.097457</td>\n",
       "      <td>3.793404</td>\n",
       "      <td>-5.028297</td>\n",
       "      <td>-0.180813</td>\n",
       "      <td>-1.269535</td>\n",
       "      <td>-1.974770</td>\n",
       "      <td>3.893147</td>\n",
       "      <td>...</td>\n",
       "      <td>-1.058521</td>\n",
       "      <td>0.857774</td>\n",
       "      <td>0.412489</td>\n",
       "      <td>-0.566023</td>\n",
       "      <td>0.490765</td>\n",
       "      <td>0.987023</td>\n",
       "      <td>1.261025</td>\n",
       "      <td>-0.815387</td>\n",
       "      <td>1.130285</td>\n",
       "      <td>12.550562</td>\n",
       "    </tr>\n",
       "    <tr>\n",
       "      <th>894</th>\n",
       "      <td>-0.376519</td>\n",
       "      <td>16.854372</td>\n",
       "      <td>1.199639</td>\n",
       "      <td>1.585697</td>\n",
       "      <td>-5.584049</td>\n",
       "      <td>5.478286</td>\n",
       "      <td>-0.557679</td>\n",
       "      <td>-0.284182</td>\n",
       "      <td>-1.216239</td>\n",
       "      <td>-3.910507</td>\n",
       "      <td>...</td>\n",
       "      <td>0.827591</td>\n",
       "      <td>-0.566465</td>\n",
       "      <td>-0.419164</td>\n",
       "      <td>0.905660</td>\n",
       "      <td>1.116764</td>\n",
       "      <td>-1.629706</td>\n",
       "      <td>-0.673563</td>\n",
       "      <td>-0.295310</td>\n",
       "      <td>1.285099</td>\n",
       "      <td>8.257585</td>\n",
       "    </tr>\n",
       "    <tr>\n",
       "      <th>398</th>\n",
       "      <td>-6.858960</td>\n",
       "      <td>-4.207609</td>\n",
       "      <td>-2.785417</td>\n",
       "      <td>0.292601</td>\n",
       "      <td>-1.808545</td>\n",
       "      <td>-1.748462</td>\n",
       "      <td>-1.314370</td>\n",
       "      <td>1.060389</td>\n",
       "      <td>-0.758341</td>\n",
       "      <td>1.141922</td>\n",
       "      <td>...</td>\n",
       "      <td>0.071351</td>\n",
       "      <td>1.388234</td>\n",
       "      <td>-1.131956</td>\n",
       "      <td>-0.733559</td>\n",
       "      <td>0.486163</td>\n",
       "      <td>-0.225545</td>\n",
       "      <td>3.455967</td>\n",
       "      <td>0.726159</td>\n",
       "      <td>1.000499</td>\n",
       "      <td>9.850674</td>\n",
       "    </tr>\n",
       "    <tr>\n",
       "      <th>...</th>\n",
       "      <td>...</td>\n",
       "      <td>...</td>\n",
       "      <td>...</td>\n",
       "      <td>...</td>\n",
       "      <td>...</td>\n",
       "      <td>...</td>\n",
       "      <td>...</td>\n",
       "      <td>...</td>\n",
       "      <td>...</td>\n",
       "      <td>...</td>\n",
       "      <td>...</td>\n",
       "      <td>...</td>\n",
       "      <td>...</td>\n",
       "      <td>...</td>\n",
       "      <td>...</td>\n",
       "      <td>...</td>\n",
       "      <td>...</td>\n",
       "      <td>...</td>\n",
       "      <td>...</td>\n",
       "      <td>...</td>\n",
       "      <td>...</td>\n",
       "    </tr>\n",
       "    <tr>\n",
       "      <th>106</th>\n",
       "      <td>-29.254373</td>\n",
       "      <td>0.249444</td>\n",
       "      <td>-2.765230</td>\n",
       "      <td>1.469334</td>\n",
       "      <td>-5.648048</td>\n",
       "      <td>-2.296253</td>\n",
       "      <td>3.659637</td>\n",
       "      <td>-3.292720</td>\n",
       "      <td>-0.707312</td>\n",
       "      <td>3.354190</td>\n",
       "      <td>...</td>\n",
       "      <td>1.994159</td>\n",
       "      <td>-0.222307</td>\n",
       "      <td>0.701595</td>\n",
       "      <td>-1.046328</td>\n",
       "      <td>-0.157178</td>\n",
       "      <td>1.645022</td>\n",
       "      <td>-0.457146</td>\n",
       "      <td>-1.939812</td>\n",
       "      <td>0.408157</td>\n",
       "      <td>11.029213</td>\n",
       "    </tr>\n",
       "    <tr>\n",
       "      <th>270</th>\n",
       "      <td>10.900209</td>\n",
       "      <td>-18.794271</td>\n",
       "      <td>2.754067</td>\n",
       "      <td>3.861609</td>\n",
       "      <td>-0.931461</td>\n",
       "      <td>0.459295</td>\n",
       "      <td>1.578918</td>\n",
       "      <td>0.369357</td>\n",
       "      <td>-0.216042</td>\n",
       "      <td>-0.156545</td>\n",
       "      <td>...</td>\n",
       "      <td>-1.251701</td>\n",
       "      <td>0.374623</td>\n",
       "      <td>-0.259097</td>\n",
       "      <td>0.953347</td>\n",
       "      <td>1.264656</td>\n",
       "      <td>-0.896783</td>\n",
       "      <td>0.422567</td>\n",
       "      <td>-2.354743</td>\n",
       "      <td>-1.738360</td>\n",
       "      <td>13.669175</td>\n",
       "    </tr>\n",
       "    <tr>\n",
       "      <th>860</th>\n",
       "      <td>-2.199186</td>\n",
       "      <td>11.509345</td>\n",
       "      <td>7.935688</td>\n",
       "      <td>-1.940231</td>\n",
       "      <td>-2.839694</td>\n",
       "      <td>-5.195660</td>\n",
       "      <td>0.351516</td>\n",
       "      <td>-0.119607</td>\n",
       "      <td>1.117053</td>\n",
       "      <td>-0.012030</td>\n",
       "      <td>...</td>\n",
       "      <td>1.301327</td>\n",
       "      <td>0.735810</td>\n",
       "      <td>-0.397731</td>\n",
       "      <td>0.954631</td>\n",
       "      <td>0.054193</td>\n",
       "      <td>-1.708885</td>\n",
       "      <td>-0.246294</td>\n",
       "      <td>1.221859</td>\n",
       "      <td>1.693558</td>\n",
       "      <td>10.985618</td>\n",
       "    </tr>\n",
       "    <tr>\n",
       "      <th>435</th>\n",
       "      <td>-12.997473</td>\n",
       "      <td>-2.958303</td>\n",
       "      <td>2.150973</td>\n",
       "      <td>4.644711</td>\n",
       "      <td>-2.136034</td>\n",
       "      <td>2.533593</td>\n",
       "      <td>-1.201834</td>\n",
       "      <td>0.238559</td>\n",
       "      <td>0.958437</td>\n",
       "      <td>0.801553</td>\n",
       "      <td>...</td>\n",
       "      <td>-2.299733</td>\n",
       "      <td>3.287057</td>\n",
       "      <td>0.050569</td>\n",
       "      <td>-1.740724</td>\n",
       "      <td>0.044502</td>\n",
       "      <td>-0.528316</td>\n",
       "      <td>3.747685</td>\n",
       "      <td>-0.507431</td>\n",
       "      <td>-1.604496</td>\n",
       "      <td>8.016081</td>\n",
       "    </tr>\n",
       "    <tr>\n",
       "      <th>102</th>\n",
       "      <td>7.395904</td>\n",
       "      <td>13.393779</td>\n",
       "      <td>1.139172</td>\n",
       "      <td>-2.080398</td>\n",
       "      <td>-6.163569</td>\n",
       "      <td>5.631909</td>\n",
       "      <td>0.947496</td>\n",
       "      <td>-1.635395</td>\n",
       "      <td>5.561526</td>\n",
       "      <td>-2.039434</td>\n",
       "      <td>...</td>\n",
       "      <td>-0.238425</td>\n",
       "      <td>0.375665</td>\n",
       "      <td>-0.174375</td>\n",
       "      <td>0.235077</td>\n",
       "      <td>-0.594445</td>\n",
       "      <td>0.014805</td>\n",
       "      <td>0.511364</td>\n",
       "      <td>0.068495</td>\n",
       "      <td>0.551044</td>\n",
       "      <td>9.391285</td>\n",
       "    </tr>\n",
       "  </tbody>\n",
       "</table>\n",
       "<p>750 rows × 601 columns</p>\n",
       "</div>"
      ],
      "text/plain": [
       "           V_1        V_2       V_3       V_4       V_5       V_6       V_7  \\\n",
       "82  -37.656657   0.813122  0.078247 -0.190544 -0.648746  0.230585  0.301815   \n",
       "991  74.956676  -7.598335 -2.868154  0.470737 -1.563154  1.363301 -1.842184   \n",
       "789   9.258307  12.323899  2.679994 -7.097457  3.793404 -5.028297 -0.180813   \n",
       "894  -0.376519  16.854372  1.199639  1.585697 -5.584049  5.478286 -0.557679   \n",
       "398  -6.858960  -4.207609 -2.785417  0.292601 -1.808545 -1.748462 -1.314370   \n",
       "..         ...        ...       ...       ...       ...       ...       ...   \n",
       "106 -29.254373   0.249444 -2.765230  1.469334 -5.648048 -2.296253  3.659637   \n",
       "270  10.900209 -18.794271  2.754067  3.861609 -0.931461  0.459295  1.578918   \n",
       "860  -2.199186  11.509345  7.935688 -1.940231 -2.839694 -5.195660  0.351516   \n",
       "435 -12.997473  -2.958303  2.150973  4.644711 -2.136034  2.533593 -1.201834   \n",
       "102   7.395904  13.393779  1.139172 -2.080398 -6.163569  5.631909  0.947496   \n",
       "\n",
       "          V_8       V_9      V_10  ...     V_592     V_593     V_594  \\\n",
       "82  -0.738989  0.342179 -0.354965  ... -0.082064 -0.163976  0.730926   \n",
       "991  0.227013  0.842578 -0.252679  ...  1.327664 -1.131027  0.183459   \n",
       "789 -1.269535 -1.974770  3.893147  ... -1.058521  0.857774  0.412489   \n",
       "894 -0.284182 -1.216239 -3.910507  ...  0.827591 -0.566465 -0.419164   \n",
       "398  1.060389 -0.758341  1.141922  ...  0.071351  1.388234 -1.131956   \n",
       "..        ...       ...       ...  ...       ...       ...       ...   \n",
       "106 -3.292720 -0.707312  3.354190  ...  1.994159 -0.222307  0.701595   \n",
       "270  0.369357 -0.216042 -0.156545  ... -1.251701  0.374623 -0.259097   \n",
       "860 -0.119607  1.117053 -0.012030  ...  1.301327  0.735810 -0.397731   \n",
       "435  0.238559  0.958437  0.801553  ... -2.299733  3.287057  0.050569   \n",
       "102 -1.635395  5.561526 -2.039434  ... -0.238425  0.375665 -0.174375   \n",
       "\n",
       "        V_595     V_596     V_597     V_598     V_599     V_600         B1  \n",
       "82   0.487682 -0.211966  0.235000  1.726726 -1.099662 -0.092891  10.201364  \n",
       "991  1.085942  0.903411 -0.624062 -1.628340  0.722356 -2.157620  11.980224  \n",
       "789 -0.566023  0.490765  0.987023  1.261025 -0.815387  1.130285  12.550562  \n",
       "894  0.905660  1.116764 -1.629706 -0.673563 -0.295310  1.285099   8.257585  \n",
       "398 -0.733559  0.486163 -0.225545  3.455967  0.726159  1.000499   9.850674  \n",
       "..        ...       ...       ...       ...       ...       ...        ...  \n",
       "106 -1.046328 -0.157178  1.645022 -0.457146 -1.939812  0.408157  11.029213  \n",
       "270  0.953347  1.264656 -0.896783  0.422567 -2.354743 -1.738360  13.669175  \n",
       "860  0.954631  0.054193 -1.708885 -0.246294  1.221859  1.693558  10.985618  \n",
       "435 -1.740724  0.044502 -0.528316  3.747685 -0.507431 -1.604496   8.016081  \n",
       "102  0.235077 -0.594445  0.014805  0.511364  0.068495  0.551044   9.391285  \n",
       "\n",
       "[750 rows x 601 columns]"
      ]
     },
     "execution_count": 73,
     "metadata": {},
     "output_type": "execute_result"
    }
   ],
   "source": [
    "X_train = pd.concat([X_train, y_train] , axis = 1)\n",
    "X_train"
   ]
  },
  {
   "cell_type": "code",
   "execution_count": 74,
   "metadata": {
    "scrolled": true
   },
   "outputs": [
    {
     "data": {
      "text/plain": [
       "'B1 ~ 0 ** 1 ** 2 ** 3 ** 4 ** 5 ** 6 ** 7 ** 8 ** 9 ** 10 ** 11 ** 12 ** 13 ** 14 ** 15 ** 16 ** 17 ** 18 ** 19 ** 20 ** 21 ** 22 ** 23 ** 24 ** 25 ** 26 ** 27 ** 28 ** 29 ** 30 ** 31 ** 32 ** 33 ** 34 ** 35 ** 36 ** 37 ** 38 ** 39 ** 40 ** 41 ** 42 ** 43 ** 44 ** 45 ** 46 ** 47 ** 48 ** 49 ** 50 ** 51 ** 52 ** 53 ** 54 ** 55 ** 56 ** 57 ** 58 ** 59 ** 60 ** 61 ** 62 ** 63 ** 64 ** 65 ** 66 ** 67 ** 68 ** 69 ** 70 ** 71 ** 72 ** 73 ** 74 ** 75 ** 76 ** 77 ** 78 ** 79 ** 80 ** 81 ** 82 ** 83 ** 84 ** 85 ** 86 ** 87 ** 88 ** 89 ** 90 ** 91 ** 92 ** 93 ** 94 ** 95 ** 96 ** 97 ** 98 ** 99 ** 100 ** 101 ** 102 ** 103 ** 104 ** 105 ** 106 ** 107 ** 108 ** 109 ** 110 ** 111 ** 112 ** 113 ** 114 ** 115 ** 116 ** 117 ** 118 ** 119 ** 120 ** 121 ** 122 ** 123 ** 124 ** 125 ** 126 ** 127 ** 128 ** 129 ** 130 ** 131 ** 132 ** 133 ** 134 ** 135 ** 136 ** 137 ** 138 ** 139 ** 140 ** 141 ** 142 ** 143 ** 144 ** 145 ** 146 ** 147 ** 148 ** 149 ** 150 ** 151 ** 152 ** 153 ** 154 ** 155 ** 156 ** 157 ** 158 ** 159 ** 160 ** 161 ** 162 ** 163 ** 164 ** 165 ** 166 ** 167 ** 168 ** 169 ** 170 ** 171 ** 172 ** 173 ** 174 ** 175 ** 176 ** 177 ** 178 ** 179 ** 180 ** 181 ** 182 ** 183 ** 184 ** 185 ** 186 ** 187 ** 188 ** 189 ** 190 ** 191 ** 192 ** 193 ** 194 ** 195 ** 196 ** 197 ** 198 ** 199 ** 200 ** 201 ** 202 ** 203 ** 204 ** 205 ** 206 ** 207 ** 208 ** 209 ** 210 ** 211 ** 212 ** 213 ** 214 ** 215 ** 216 ** 217 ** 218 ** 219 ** 220 ** 221 ** 222 ** 223 ** 224 ** 225 ** 226 ** 227 ** 228 ** 229 ** 230 ** 231 ** 232 ** 233 ** 234 ** 235 ** 236 ** 237 ** 238 ** 239 ** 240 ** 241 ** 242 ** 243 ** 244 ** 245 ** 246 ** 247 ** 248 ** 249 ** 250 ** 251 ** 252 ** 253 ** 254 ** 255 ** 256 ** 257 ** 258 ** 259 ** 260 ** 261 ** 262 ** 263 ** 264 ** 265 ** 266 ** 267 ** 268 ** 269 ** 270 ** 271 ** 272 ** 273 ** 274 ** 275 ** 276 ** 277 ** 278 ** 279 ** 280 ** 281 ** 282 ** 283 ** 284 ** 285 ** 286 ** 287 ** 288 ** 289 ** 290 ** 291 ** 292 ** 293 ** 294 ** 295 ** 296 ** 297 ** 298 ** 299 ** 300 ** 301 ** 302 ** 303 ** 304 ** 305 ** 306 ** 307 ** 308 ** 309 ** 310 ** 311 ** 312 ** 313 ** 314 ** 315 ** 316 ** 317 ** 318 ** 319 ** 320 ** 321 ** 322 ** 323 ** 324 ** 325 ** 326 ** 327 ** 328 ** 329 ** 330 ** 331 ** 332 ** 333 ** 334 ** 335 ** 336 ** 337 ** 338 ** 339 ** 340 ** 341 ** 342 ** 343 ** 344 ** 345 ** 346 ** 347 ** 348 ** 349 ** 350 ** 351 ** 352 ** 353 ** 354 ** 355 ** 356 ** 357 ** 358 ** 359 ** 360 ** 361 ** 362 ** 363 ** 364 ** 365 ** 366 ** 367 ** 368 ** 369 ** 370 ** 371 ** 372 ** 373 ** 374 ** 375 ** 376 ** 377 ** 378 ** 379 ** 380 ** 381 ** 382 ** 383 ** 384 ** 385 ** 386 ** 387 ** 388 ** 389 ** 390 ** 391 ** 392 ** 393 ** 394 ** 395 ** 396 ** 397 ** 398 ** 399 ** 400 ** 401 ** 402 ** 403 ** 404 ** 405 ** 406 ** 407 ** 408 ** 409 ** 410 ** 411 ** 412 ** 413 ** 414 ** 415 ** 416 ** 417 ** 418 ** 419 ** 420 ** 421 ** 422 ** 423 ** 424 ** 425 ** 426 ** 427 ** 428 ** 429 ** 430 ** 431 ** 432 ** 433 ** 434 ** 435 ** 436 ** 437 ** 438 ** 439 ** 440 ** 441 ** 442 ** 443 ** 444 ** 445 ** 446 ** 447 ** 448 ** 449 ** 450 ** 451 ** 452 ** 453 ** 454 ** 455 ** 456 ** 457 ** 458 ** 459 ** 460 ** 461 ** 462 ** 463 ** 464 ** 465 ** 466 ** 467 ** 468 ** 469 ** 470 ** 471 ** 472 ** 473 ** 474 ** 475 ** 476 ** 477 ** 478 ** 479 ** 480 ** 481 ** 482 ** 483 ** 484 ** 485 ** 486 ** 487 ** 488 ** 489 ** 490 ** 491 ** 492 ** 493 ** 494 ** 495 ** 496 ** 497 ** 498 ** 499 ** 500 ** 501 ** 502 ** 503 ** 504 ** 505 ** 506 ** 507 ** 508 ** 509 ** 510 ** 511 ** 512 ** 513 ** 514 ** 515 ** 516 ** 517 ** 518 ** 519 ** 520 ** 521 ** 522 ** 523 ** 524 ** 525 ** 526 ** 527 ** 528 ** 529 ** 530 ** 531 ** 532 ** 533 ** 534 ** 535 ** 536 ** 537 ** 538 ** 539 ** 540 ** 541 ** 542 ** 543 ** 544 ** 545 ** 546 ** 547 ** 548 ** 549 ** 550 ** 551 ** 552 ** 553 ** 554 ** 555 ** 556 ** 557 ** 558 ** 559 ** 560 ** 561 ** 562 ** 563 ** 564 ** 565 ** 566 ** 567 ** 568 ** 569 ** 570 ** 571 ** 572 ** 573 ** 574 ** 575 ** 576 ** 577 ** 578 ** 579 ** 580 ** 581 ** 582 ** 583 ** 584 ** 585 ** 586 ** 587 ** 588 ** 589 ** 590 ** 591 ** 592 ** 593 ** 594 ** 595 ** 596 ** 597 ** 598 ** 599 ** 600'"
      ]
     },
     "execution_count": 74,
     "metadata": {},
     "output_type": "execute_result"
    }
   ],
   "source": [
    "# Formula for Bayesian Linear Regression (follows R formula syntax\n",
    "formula = 'B1 ~ ' + ' ** '.join(['%s' % variable for variable in range(X_train.shape[1])])\n",
    "formula"
   ]
  },
  {
   "cell_type": "markdown",
   "metadata": {},
   "source": [
    "## Create Model in PyMC3 and Sample from Posterior\n",
    "\n",
    "We now build the model using the formula defined above and a normal distribution for the data likelihood. Then, we let a Markov Chain Monte Carlo algorithm draw samples from the posterior to approximate the posterior for each of the model parameters."
   ]
  },
  {
   "cell_type": "code",
   "execution_count": 75,
   "metadata": {
    "scrolled": true
   },
   "outputs": [
    {
     "name": "stderr",
     "output_type": "stream",
     "text": [
      "Auto-assigning NUTS sampler...\n",
      "Initializing NUTS using jitter+adapt_diag...\n",
      "Sequential sampling (2 chains in 1 job)\n",
      "NUTS: [sd, Intercept]\n"
     ]
    },
    {
     "data": {
      "text/html": [
       "\n",
       "    <div>\n",
       "        <style>\n",
       "            /* Turns off some styling */\n",
       "            progress {\n",
       "                /* gets rid of default border in Firefox and Opera. */\n",
       "                border: none;\n",
       "                /* Needs to be in here for Safari polyfill so background images work as expected. */\n",
       "                background-size: auto;\n",
       "            }\n",
       "            .progress-bar-interrupted, .progress-bar-interrupted::-webkit-progress-bar {\n",
       "                background: #F44336;\n",
       "            }\n",
       "        </style>\n",
       "      <progress value='2500' class='' max='2500' style='width:300px; height:20px; vertical-align: middle;'></progress>\n",
       "      100.00% [2500/2500 00:13<00:00 Sampling chain 0, 0 divergences]\n",
       "    </div>\n",
       "    "
      ],
      "text/plain": [
       "<IPython.core.display.HTML object>"
      ]
     },
     "metadata": {},
     "output_type": "display_data"
    },
    {
     "data": {
      "text/html": [
       "\n",
       "    <div>\n",
       "        <style>\n",
       "            /* Turns off some styling */\n",
       "            progress {\n",
       "                /* gets rid of default border in Firefox and Opera. */\n",
       "                border: none;\n",
       "                /* Needs to be in here for Safari polyfill so background images work as expected. */\n",
       "                background-size: auto;\n",
       "            }\n",
       "            .progress-bar-interrupted, .progress-bar-interrupted::-webkit-progress-bar {\n",
       "                background: #F44336;\n",
       "            }\n",
       "        </style>\n",
       "      <progress value='2500' class='' max='2500' style='width:300px; height:20px; vertical-align: middle;'></progress>\n",
       "      100.00% [2500/2500 00:13<00:00 Sampling chain 1, 0 divergences]\n",
       "    </div>\n",
       "    "
      ],
      "text/plain": [
       "<IPython.core.display.HTML object>"
      ]
     },
     "metadata": {},
     "output_type": "display_data"
    },
    {
     "name": "stderr",
     "output_type": "stream",
     "text": [
      "Sampling 2 chains for 500 tune and 2_000 draw iterations (1_000 + 4_000 draws total) took 26 seconds.\n",
      "The acceptance probability does not match the target. It is 0.9083859376929896, but should be close to 0.8. Try to increase the number of tuning steps.\n"
     ]
    }
   ],
   "source": [
    "# Context for the model\n",
    "with pm.Model() as normal_model:\n",
    "    \n",
    "    # The prior for the model parameters will be a normal distribution\n",
    "    family = pm.glm.families.Normal()\n",
    "    \n",
    "    # Creating the model requires a formula and data (and optionally a family)\n",
    "    pm.GLM.from_formula(formula, data = X_train, family = family)\n",
    "    \n",
    "    # Perform Markov Chain Monte Carlo sampling\n",
    "    normal_trace = pm.sample(draws=2000, chains = 2, tune = 500, cores=-1)"
   ]
  },
  {
   "cell_type": "code",
   "execution_count": 76,
   "metadata": {},
   "outputs": [],
   "source": [
    "import sys\n",
    "sys.setrecursionlimit(100000)"
   ]
  },
  {
   "cell_type": "markdown",
   "metadata": {},
   "source": [
    "# Examine Bayesian Linear Regression Results"
   ]
  },
  {
   "cell_type": "markdown",
   "metadata": {},
   "source": [
    "## Traceplot of All Samples"
   ]
  },
  {
   "cell_type": "code",
   "execution_count": 77,
   "metadata": {},
   "outputs": [],
   "source": [
    "# Shows the trace with a vertical line at the mean of the trace\n",
    "def plot_trace(trace):\n",
    "    # Traceplot with vertical lines at the mean value\n",
    "    ax = pm.traceplot(trace, figsize=(14, len(trace.varnames)*1.8),\n",
    "                      lines={k: v['mean'] for k, v in pm.summary(trace).iterrows()})\n",
    "    \n",
    "    matplotlib.rcParams['font.size'] = 16\n",
    "    \n",
    "    # Labels with the median value\n",
    "    for i, mn in enumerate(pm.summary(trace)['mean']):\n",
    "        ax[i, 0].annotate('{:0.2f}'.format(mn), xy = (mn, 0), xycoords = 'data', size = 8,\n",
    "                          xytext = (-18, 18), textcoords = 'offset points', rotation = 90,\n",
    "                          va = 'bottom', fontsize = 'large', color = 'red')"
   ]
  },
  {
   "cell_type": "code",
   "execution_count": 78,
   "metadata": {
    "scrolled": true
   },
   "outputs": [
    {
     "name": "stdout",
     "output_type": "stream",
     "text": [
      "Variable: Intercept       Mean weight in model: 10.7964\n",
      "Variable: sd_log__        Mean weight in model: 1.4059\n",
      "Variable: sd              Mean weight in model: 4.0807\n"
     ]
    }
   ],
   "source": [
    "# Print out the mean variable weight from the trace\n",
    "for variable in normal_trace.varnames:\n",
    "    print('Variable: {:15} Mean weight in model: {:.4f}'.format(variable, \n",
    "                                                                np.mean(normal_trace[variable])))"
   ]
  },
  {
   "cell_type": "markdown",
   "metadata": {},
   "source": [
    "### Linear Formula from Bayesian Inference using Mean of Parameters"
   ]
  },
  {
   "cell_type": "code",
   "execution_count": 79,
   "metadata": {
    "scrolled": true
   },
   "outputs": [
    {
     "data": {
      "text/plain": [
       "'result =  10.80 * Intercept + 1.41 * sd_log__ + 4.08 * sd'"
      ]
     },
     "execution_count": 79,
     "metadata": {},
     "output_type": "execute_result"
    }
   ],
   "source": [
    "model_formula = 'result = '\n",
    "for variable in normal_trace.varnames:\n",
    "    model_formula += ' %0.2f * %s +' % (np.mean(normal_trace[variable]), variable)\n",
    "\n",
    "' '.join(model_formula.split(' ')[:-1])"
   ]
  },
  {
   "cell_type": "code",
   "execution_count": 80,
   "metadata": {},
   "outputs": [
    {
     "data": {
      "text/plain": [
       "Index(['V_1', 'V_2', 'V_3', 'V_4', 'V_5', 'V_6', 'V_7', 'V_8', 'V_9', 'V_10',\n",
       "       ...\n",
       "       'V_491', 'V_492', 'V_493', 'V_494', 'V_495', 'V_496', 'V_497', 'V_498',\n",
       "       'V_499', 'V_500'],\n",
       "      dtype='object', length=500)"
      ]
     },
     "execution_count": 80,
     "metadata": {},
     "output_type": "execute_result"
    }
   ],
   "source": [
    "X_test.columns[:500]"
   ]
  },
  {
   "cell_type": "markdown",
   "metadata": {},
   "source": [
    "# Make Predictions from Model"
   ]
  },
  {
   "cell_type": "markdown",
   "metadata": {},
   "source": [
    "## Test Observations"
   ]
  },
  {
   "cell_type": "code",
   "execution_count": 84,
   "metadata": {},
   "outputs": [],
   "source": [
    "# Make a new prediction from the test set and compare to actual value\n",
    "def ogi_model(trace, test_observation):\n",
    "    \n",
    "    # Print out the test observation data\n",
    "    var_dict = {}\n",
    "    for variable in trace.varnames:\n",
    "        var_dict[variable] = trace[variable]\n",
    "\n",
    "    # Results into a dataframe\n",
    "    var_weights = pd.DataFrame(var_dict)\n",
    "    \n",
    "    # Standard deviation of the likelihood\n",
    "    sd_value = var_weights['sd'].mean()\n",
    "\n",
    "    # Actual Value\n",
    "    actual = test_observation['B1']\n",
    "    \n",
    "    # Add in intercept term\n",
    "    test_observation['Intercept'] = 1\n",
    "    test_observation = test_observation.drop('B1')\n",
    "    \n",
    "    # Align weights and test observation\n",
    "    var_weights = var_weights[test_observation.index]\n",
    "\n",
    "    # Means for all the weights\n",
    "    var_means = var_weights.mean(axis=0)\n",
    "\n",
    "    # Location of mean for observation\n",
    "    mean_loc = np.dot(var_means, test_observation)\n",
    "    \n",
    "    # Estimates of grade\n",
    "    estimates = np.random.normal(loc = mean_loc, scale = sd_value,\n",
    "                                 size = 1000)\n",
    "    \n",
    "    #correlation\n",
    "    #ogi_corr = np.corrcoef(actual,mean_loc)\n",
    "    \n",
    "    # Prediction information\n",
    "    print('True Result = %0.4f' % actual)\n",
    "    print('Average Estimate = %0.4f' % mean_loc)\n",
    "    print('5%% Estimate = %0.4f    95%% Estimate = %0.4f' % (np.percentile(estimates, 5),\n",
    "                                       np.percentile(estimates, 95)))\n",
    "    return result.append(mean_loc), true_result.append(actual);"
   ]
  },
  {
   "cell_type": "code",
   "execution_count": 86,
   "metadata": {},
   "outputs": [
    {
     "data": {
      "text/html": [
       "<div>\n",
       "<style scoped>\n",
       "    .dataframe tbody tr th:only-of-type {\n",
       "        vertical-align: middle;\n",
       "    }\n",
       "\n",
       "    .dataframe tbody tr th {\n",
       "        vertical-align: top;\n",
       "    }\n",
       "\n",
       "    .dataframe thead th {\n",
       "        text-align: right;\n",
       "    }\n",
       "</style>\n",
       "<table border=\"1\" class=\"dataframe\">\n",
       "  <thead>\n",
       "    <tr style=\"text-align: right;\">\n",
       "      <th></th>\n",
       "      <th>V_1</th>\n",
       "      <th>V_2</th>\n",
       "      <th>V_3</th>\n",
       "      <th>V_4</th>\n",
       "      <th>V_5</th>\n",
       "      <th>V_6</th>\n",
       "      <th>V_7</th>\n",
       "      <th>V_8</th>\n",
       "      <th>V_9</th>\n",
       "      <th>V_10</th>\n",
       "      <th>...</th>\n",
       "      <th>V_591</th>\n",
       "      <th>V_592</th>\n",
       "      <th>V_593</th>\n",
       "      <th>V_594</th>\n",
       "      <th>V_595</th>\n",
       "      <th>V_596</th>\n",
       "      <th>V_597</th>\n",
       "      <th>V_598</th>\n",
       "      <th>V_599</th>\n",
       "      <th>V_600</th>\n",
       "    </tr>\n",
       "  </thead>\n",
       "  <tbody>\n",
       "    <tr>\n",
       "      <th>521</th>\n",
       "      <td>16.103523</td>\n",
       "      <td>-18.012638</td>\n",
       "      <td>1.774494</td>\n",
       "      <td>0.231828</td>\n",
       "      <td>-1.202318</td>\n",
       "      <td>1.686824</td>\n",
       "      <td>-1.171252</td>\n",
       "      <td>0.846250</td>\n",
       "      <td>-1.039522</td>\n",
       "      <td>-1.230436</td>\n",
       "      <td>...</td>\n",
       "      <td>-2.278244</td>\n",
       "      <td>0.149066</td>\n",
       "      <td>1.798251</td>\n",
       "      <td>-0.149038</td>\n",
       "      <td>-0.632411</td>\n",
       "      <td>1.128121</td>\n",
       "      <td>0.028523</td>\n",
       "      <td>-0.604737</td>\n",
       "      <td>1.117538</td>\n",
       "      <td>-1.601669</td>\n",
       "    </tr>\n",
       "    <tr>\n",
       "      <th>737</th>\n",
       "      <td>56.159618</td>\n",
       "      <td>-3.486274</td>\n",
       "      <td>-5.174517</td>\n",
       "      <td>0.325080</td>\n",
       "      <td>-1.189411</td>\n",
       "      <td>-1.151127</td>\n",
       "      <td>0.014267</td>\n",
       "      <td>0.461840</td>\n",
       "      <td>0.957203</td>\n",
       "      <td>0.989990</td>\n",
       "      <td>...</td>\n",
       "      <td>0.457900</td>\n",
       "      <td>0.199905</td>\n",
       "      <td>-1.200368</td>\n",
       "      <td>-0.468484</td>\n",
       "      <td>1.123465</td>\n",
       "      <td>-1.119314</td>\n",
       "      <td>-0.152413</td>\n",
       "      <td>-1.357680</td>\n",
       "      <td>1.573763</td>\n",
       "      <td>-0.093997</td>\n",
       "    </tr>\n",
       "    <tr>\n",
       "      <th>740</th>\n",
       "      <td>37.026199</td>\n",
       "      <td>0.143746</td>\n",
       "      <td>-4.144295</td>\n",
       "      <td>-1.368568</td>\n",
       "      <td>1.363017</td>\n",
       "      <td>-0.857701</td>\n",
       "      <td>-2.688067</td>\n",
       "      <td>-0.132159</td>\n",
       "      <td>1.918520</td>\n",
       "      <td>-0.507899</td>\n",
       "      <td>...</td>\n",
       "      <td>0.424968</td>\n",
       "      <td>-0.192500</td>\n",
       "      <td>1.231174</td>\n",
       "      <td>-0.427050</td>\n",
       "      <td>1.693042</td>\n",
       "      <td>1.113580</td>\n",
       "      <td>0.892031</td>\n",
       "      <td>0.565577</td>\n",
       "      <td>-0.820289</td>\n",
       "      <td>-0.887656</td>\n",
       "    </tr>\n",
       "    <tr>\n",
       "      <th>660</th>\n",
       "      <td>67.783585</td>\n",
       "      <td>-5.306079</td>\n",
       "      <td>-7.665349</td>\n",
       "      <td>5.109906</td>\n",
       "      <td>2.457645</td>\n",
       "      <td>-4.222788</td>\n",
       "      <td>1.309696</td>\n",
       "      <td>2.636552</td>\n",
       "      <td>-1.744468</td>\n",
       "      <td>2.627526</td>\n",
       "      <td>...</td>\n",
       "      <td>-1.318585</td>\n",
       "      <td>0.920699</td>\n",
       "      <td>0.349806</td>\n",
       "      <td>1.078547</td>\n",
       "      <td>-2.012509</td>\n",
       "      <td>-1.648557</td>\n",
       "      <td>0.115430</td>\n",
       "      <td>-0.749484</td>\n",
       "      <td>-1.117563</td>\n",
       "      <td>1.226292</td>\n",
       "    </tr>\n",
       "    <tr>\n",
       "      <th>411</th>\n",
       "      <td>-17.415921</td>\n",
       "      <td>-4.695930</td>\n",
       "      <td>0.369896</td>\n",
       "      <td>4.387407</td>\n",
       "      <td>0.961378</td>\n",
       "      <td>-0.135145</td>\n",
       "      <td>-2.255518</td>\n",
       "      <td>1.925828</td>\n",
       "      <td>0.279964</td>\n",
       "      <td>0.139599</td>\n",
       "      <td>...</td>\n",
       "      <td>-0.031558</td>\n",
       "      <td>-2.819491</td>\n",
       "      <td>0.835068</td>\n",
       "      <td>0.323149</td>\n",
       "      <td>2.825629</td>\n",
       "      <td>-1.361043</td>\n",
       "      <td>0.470071</td>\n",
       "      <td>2.156105</td>\n",
       "      <td>1.113875</td>\n",
       "      <td>0.772716</td>\n",
       "    </tr>\n",
       "    <tr>\n",
       "      <th>...</th>\n",
       "      <td>...</td>\n",
       "      <td>...</td>\n",
       "      <td>...</td>\n",
       "      <td>...</td>\n",
       "      <td>...</td>\n",
       "      <td>...</td>\n",
       "      <td>...</td>\n",
       "      <td>...</td>\n",
       "      <td>...</td>\n",
       "      <td>...</td>\n",
       "      <td>...</td>\n",
       "      <td>...</td>\n",
       "      <td>...</td>\n",
       "      <td>...</td>\n",
       "      <td>...</td>\n",
       "      <td>...</td>\n",
       "      <td>...</td>\n",
       "      <td>...</td>\n",
       "      <td>...</td>\n",
       "      <td>...</td>\n",
       "      <td>...</td>\n",
       "    </tr>\n",
       "    <tr>\n",
       "      <th>109</th>\n",
       "      <td>11.984640</td>\n",
       "      <td>9.672819</td>\n",
       "      <td>3.299958</td>\n",
       "      <td>0.162193</td>\n",
       "      <td>0.708804</td>\n",
       "      <td>-1.578442</td>\n",
       "      <td>0.390143</td>\n",
       "      <td>1.261696</td>\n",
       "      <td>2.065343</td>\n",
       "      <td>3.158740</td>\n",
       "      <td>...</td>\n",
       "      <td>0.713385</td>\n",
       "      <td>-0.797746</td>\n",
       "      <td>0.250222</td>\n",
       "      <td>0.589854</td>\n",
       "      <td>-0.513541</td>\n",
       "      <td>-0.027337</td>\n",
       "      <td>-0.259468</td>\n",
       "      <td>0.969063</td>\n",
       "      <td>0.066240</td>\n",
       "      <td>0.375970</td>\n",
       "    </tr>\n",
       "    <tr>\n",
       "      <th>430</th>\n",
       "      <td>-40.018183</td>\n",
       "      <td>3.165388</td>\n",
       "      <td>2.555705</td>\n",
       "      <td>1.286167</td>\n",
       "      <td>-4.223680</td>\n",
       "      <td>-1.785717</td>\n",
       "      <td>1.108735</td>\n",
       "      <td>-0.514201</td>\n",
       "      <td>0.220849</td>\n",
       "      <td>-1.523648</td>\n",
       "      <td>...</td>\n",
       "      <td>-0.003197</td>\n",
       "      <td>-0.065385</td>\n",
       "      <td>1.293028</td>\n",
       "      <td>1.169406</td>\n",
       "      <td>-0.107550</td>\n",
       "      <td>-1.791768</td>\n",
       "      <td>-1.119090</td>\n",
       "      <td>-2.397668</td>\n",
       "      <td>2.456101</td>\n",
       "      <td>-0.507171</td>\n",
       "    </tr>\n",
       "    <tr>\n",
       "      <th>77</th>\n",
       "      <td>-23.850513</td>\n",
       "      <td>1.280066</td>\n",
       "      <td>-3.688476</td>\n",
       "      <td>-1.678212</td>\n",
       "      <td>-2.280443</td>\n",
       "      <td>-1.767077</td>\n",
       "      <td>0.067480</td>\n",
       "      <td>-2.411497</td>\n",
       "      <td>-3.193597</td>\n",
       "      <td>-0.347456</td>\n",
       "      <td>...</td>\n",
       "      <td>-0.714357</td>\n",
       "      <td>-1.386561</td>\n",
       "      <td>-1.596407</td>\n",
       "      <td>0.123096</td>\n",
       "      <td>-2.176866</td>\n",
       "      <td>2.764631</td>\n",
       "      <td>-0.025799</td>\n",
       "      <td>-0.587284</td>\n",
       "      <td>1.675678</td>\n",
       "      <td>0.256353</td>\n",
       "    </tr>\n",
       "    <tr>\n",
       "      <th>84</th>\n",
       "      <td>-29.033503</td>\n",
       "      <td>-3.311687</td>\n",
       "      <td>2.423310</td>\n",
       "      <td>-1.394599</td>\n",
       "      <td>1.040586</td>\n",
       "      <td>1.271988</td>\n",
       "      <td>1.348962</td>\n",
       "      <td>1.536440</td>\n",
       "      <td>-0.729867</td>\n",
       "      <td>0.339644</td>\n",
       "      <td>...</td>\n",
       "      <td>0.587340</td>\n",
       "      <td>1.088542</td>\n",
       "      <td>-0.696206</td>\n",
       "      <td>-0.723243</td>\n",
       "      <td>-0.978866</td>\n",
       "      <td>-1.267452</td>\n",
       "      <td>-1.133849</td>\n",
       "      <td>-1.171557</td>\n",
       "      <td>-2.118290</td>\n",
       "      <td>1.209443</td>\n",
       "    </tr>\n",
       "    <tr>\n",
       "      <th>286</th>\n",
       "      <td>-29.662701</td>\n",
       "      <td>-7.923200</td>\n",
       "      <td>-3.032544</td>\n",
       "      <td>2.930055</td>\n",
       "      <td>-1.740246</td>\n",
       "      <td>-0.359744</td>\n",
       "      <td>0.921536</td>\n",
       "      <td>-0.227042</td>\n",
       "      <td>1.098139</td>\n",
       "      <td>-1.110241</td>\n",
       "      <td>...</td>\n",
       "      <td>2.344567</td>\n",
       "      <td>-1.133638</td>\n",
       "      <td>0.882745</td>\n",
       "      <td>1.398609</td>\n",
       "      <td>0.406271</td>\n",
       "      <td>-0.455924</td>\n",
       "      <td>2.713205</td>\n",
       "      <td>0.004753</td>\n",
       "      <td>-1.413325</td>\n",
       "      <td>-0.603618</td>\n",
       "    </tr>\n",
       "  </tbody>\n",
       "</table>\n",
       "<p>250 rows × 600 columns</p>\n",
       "</div>"
      ],
      "text/plain": [
       "           V_1        V_2       V_3       V_4       V_5       V_6       V_7  \\\n",
       "521  16.103523 -18.012638  1.774494  0.231828 -1.202318  1.686824 -1.171252   \n",
       "737  56.159618  -3.486274 -5.174517  0.325080 -1.189411 -1.151127  0.014267   \n",
       "740  37.026199   0.143746 -4.144295 -1.368568  1.363017 -0.857701 -2.688067   \n",
       "660  67.783585  -5.306079 -7.665349  5.109906  2.457645 -4.222788  1.309696   \n",
       "411 -17.415921  -4.695930  0.369896  4.387407  0.961378 -0.135145 -2.255518   \n",
       "..         ...        ...       ...       ...       ...       ...       ...   \n",
       "109  11.984640   9.672819  3.299958  0.162193  0.708804 -1.578442  0.390143   \n",
       "430 -40.018183   3.165388  2.555705  1.286167 -4.223680 -1.785717  1.108735   \n",
       "77  -23.850513   1.280066 -3.688476 -1.678212 -2.280443 -1.767077  0.067480   \n",
       "84  -29.033503  -3.311687  2.423310 -1.394599  1.040586  1.271988  1.348962   \n",
       "286 -29.662701  -7.923200 -3.032544  2.930055 -1.740246 -0.359744  0.921536   \n",
       "\n",
       "          V_8       V_9      V_10  ...     V_591     V_592     V_593  \\\n",
       "521  0.846250 -1.039522 -1.230436  ... -2.278244  0.149066  1.798251   \n",
       "737  0.461840  0.957203  0.989990  ...  0.457900  0.199905 -1.200368   \n",
       "740 -0.132159  1.918520 -0.507899  ...  0.424968 -0.192500  1.231174   \n",
       "660  2.636552 -1.744468  2.627526  ... -1.318585  0.920699  0.349806   \n",
       "411  1.925828  0.279964  0.139599  ... -0.031558 -2.819491  0.835068   \n",
       "..        ...       ...       ...  ...       ...       ...       ...   \n",
       "109  1.261696  2.065343  3.158740  ...  0.713385 -0.797746  0.250222   \n",
       "430 -0.514201  0.220849 -1.523648  ... -0.003197 -0.065385  1.293028   \n",
       "77  -2.411497 -3.193597 -0.347456  ... -0.714357 -1.386561 -1.596407   \n",
       "84   1.536440 -0.729867  0.339644  ...  0.587340  1.088542 -0.696206   \n",
       "286 -0.227042  1.098139 -1.110241  ...  2.344567 -1.133638  0.882745   \n",
       "\n",
       "        V_594     V_595     V_596     V_597     V_598     V_599     V_600  \n",
       "521 -0.149038 -0.632411  1.128121  0.028523 -0.604737  1.117538 -1.601669  \n",
       "737 -0.468484  1.123465 -1.119314 -0.152413 -1.357680  1.573763 -0.093997  \n",
       "740 -0.427050  1.693042  1.113580  0.892031  0.565577 -0.820289 -0.887656  \n",
       "660  1.078547 -2.012509 -1.648557  0.115430 -0.749484 -1.117563  1.226292  \n",
       "411  0.323149  2.825629 -1.361043  0.470071  2.156105  1.113875  0.772716  \n",
       "..        ...       ...       ...       ...       ...       ...       ...  \n",
       "109  0.589854 -0.513541 -0.027337 -0.259468  0.969063  0.066240  0.375970  \n",
       "430  1.169406 -0.107550 -1.791768 -1.119090 -2.397668  2.456101 -0.507171  \n",
       "77   0.123096 -2.176866  2.764631 -0.025799 -0.587284  1.675678  0.256353  \n",
       "84  -0.723243 -0.978866 -1.267452 -1.133849 -1.171557 -2.118290  1.209443  \n",
       "286  1.398609  0.406271 -0.455924  2.713205  0.004753 -1.413325 -0.603618  \n",
       "\n",
       "[250 rows x 600 columns]"
      ]
     },
     "execution_count": 86,
     "metadata": {},
     "output_type": "execute_result"
    }
   ],
   "source": [
    "X_test"
   ]
  },
  {
   "cell_type": "code",
   "execution_count": 108,
   "metadata": {},
   "outputs": [
    {
     "data": {
      "text/plain": [
       "['Intercept', 'sd_log__', 'sd']"
      ]
     },
     "execution_count": 108,
     "metadata": {},
     "output_type": "execute_result"
    }
   ],
   "source": [
    "normal_trace.varnames"
   ]
  },
  {
   "cell_type": "code",
   "execution_count": 107,
   "metadata": {},
   "outputs": [
    {
     "data": {
      "text/plain": [
       "Index(['V_1', 'V_2', 'V_3', 'V_4', 'V_5', 'V_6', 'V_7', 'V_8', 'V_9', 'V_10',\n",
       "       ...\n",
       "       'V_591', 'V_592', 'V_593', 'V_594', 'V_595', 'V_596', 'V_597', 'V_598',\n",
       "       'V_599', 'V_600'],\n",
       "      dtype='object', length=600)"
      ]
     },
     "execution_count": 107,
     "metadata": {},
     "output_type": "execute_result"
    }
   ],
   "source": [
    "#ogi_model(normal_trace, X_test.iloc[1])\n",
    "X_test.iloc[1].index[:-1]"
   ]
  },
  {
   "cell_type": "code",
   "execution_count": 90,
   "metadata": {},
   "outputs": [],
   "source": [
    "X_test =  pd.concat([X_test,y_test],axis=1)"
   ]
  },
  {
   "cell_type": "code",
   "execution_count": 94,
   "metadata": {
    "scrolled": true
   },
   "outputs": [
    {
     "ename": "KeyError",
     "evalue": "1",
     "output_type": "error",
     "traceback": [
      "\u001b[1;31m---------------------------------------------------------------------------\u001b[0m",
      "\u001b[1;31mKeyError\u001b[0m                                  Traceback (most recent call last)",
      "\u001b[1;32m~\\anaconda3\\lib\\site-packages\\pandas\\core\\indexes\\base.py\u001b[0m in \u001b[0;36mget_loc\u001b[1;34m(self, key, method, tolerance)\u001b[0m\n\u001b[0;32m   2645\u001b[0m             \u001b[1;32mtry\u001b[0m\u001b[1;33m:\u001b[0m\u001b[1;33m\u001b[0m\u001b[1;33m\u001b[0m\u001b[0m\n\u001b[1;32m-> 2646\u001b[1;33m                 \u001b[1;32mreturn\u001b[0m \u001b[0mself\u001b[0m\u001b[1;33m.\u001b[0m\u001b[0m_engine\u001b[0m\u001b[1;33m.\u001b[0m\u001b[0mget_loc\u001b[0m\u001b[1;33m(\u001b[0m\u001b[0mkey\u001b[0m\u001b[1;33m)\u001b[0m\u001b[1;33m\u001b[0m\u001b[1;33m\u001b[0m\u001b[0m\n\u001b[0m\u001b[0;32m   2647\u001b[0m             \u001b[1;32mexcept\u001b[0m \u001b[0mKeyError\u001b[0m\u001b[1;33m:\u001b[0m\u001b[1;33m\u001b[0m\u001b[1;33m\u001b[0m\u001b[0m\n",
      "\u001b[1;32mpandas\\_libs\\index.pyx\u001b[0m in \u001b[0;36mpandas._libs.index.IndexEngine.get_loc\u001b[1;34m()\u001b[0m\n",
      "\u001b[1;32mpandas\\_libs\\index.pyx\u001b[0m in \u001b[0;36mpandas._libs.index.IndexEngine.get_loc\u001b[1;34m()\u001b[0m\n",
      "\u001b[1;32mpandas\\_libs\\hashtable_class_helper.pxi\u001b[0m in \u001b[0;36mpandas._libs.hashtable.Int64HashTable.get_item\u001b[1;34m()\u001b[0m\n",
      "\u001b[1;32mpandas\\_libs\\hashtable_class_helper.pxi\u001b[0m in \u001b[0;36mpandas._libs.hashtable.Int64HashTable.get_item\u001b[1;34m()\u001b[0m\n",
      "\u001b[1;31mKeyError\u001b[0m: 1",
      "\nDuring handling of the above exception, another exception occurred:\n",
      "\u001b[1;31mKeyError\u001b[0m                                  Traceback (most recent call last)",
      "\u001b[1;32m<ipython-input-94-35c2379ec0d6>\u001b[0m in \u001b[0;36m<module>\u001b[1;34m\u001b[0m\n\u001b[0;32m      3\u001b[0m \u001b[0mi\u001b[0m \u001b[1;33m=\u001b[0m \u001b[1;36m1\u001b[0m\u001b[1;33m\u001b[0m\u001b[1;33m\u001b[0m\u001b[0m\n\u001b[0;32m      4\u001b[0m \u001b[1;32mwhile\u001b[0m \u001b[0mi\u001b[0m \u001b[1;33m>=\u001b[0m \u001b[1;36m0\u001b[0m \u001b[1;33m:\u001b[0m\u001b[1;33m\u001b[0m\u001b[1;33m\u001b[0m\u001b[0m\n\u001b[1;32m----> 5\u001b[1;33m     \u001b[0mogi_model\u001b[0m\u001b[1;33m(\u001b[0m\u001b[0mnormal_trace\u001b[0m\u001b[1;33m,\u001b[0m \u001b[0mX_test\u001b[0m\u001b[1;33m.\u001b[0m\u001b[0mloc\u001b[0m\u001b[1;33m[\u001b[0m\u001b[0mi\u001b[0m\u001b[1;33m]\u001b[0m\u001b[1;33m)\u001b[0m\u001b[1;33m\u001b[0m\u001b[1;33m\u001b[0m\u001b[0m\n\u001b[0m\u001b[0;32m      6\u001b[0m     \u001b[0mi\u001b[0m \u001b[1;33m=\u001b[0m \u001b[0mi\u001b[0m \u001b[1;33m+\u001b[0m \u001b[1;36m1\u001b[0m\u001b[1;33m\u001b[0m\u001b[1;33m\u001b[0m\u001b[0m\n\u001b[0;32m      7\u001b[0m     \u001b[1;32mif\u001b[0m \u001b[0mi\u001b[0m \u001b[1;33m==\u001b[0m \u001b[1;36m250\u001b[0m\u001b[1;33m:\u001b[0m\u001b[1;33m\u001b[0m\u001b[1;33m\u001b[0m\u001b[0m\n",
      "\u001b[1;32m~\\anaconda3\\lib\\site-packages\\pandas\\core\\indexing.py\u001b[0m in \u001b[0;36m__getitem__\u001b[1;34m(self, key)\u001b[0m\n\u001b[0;32m   1766\u001b[0m \u001b[1;33m\u001b[0m\u001b[0m\n\u001b[0;32m   1767\u001b[0m             \u001b[0mmaybe_callable\u001b[0m \u001b[1;33m=\u001b[0m \u001b[0mcom\u001b[0m\u001b[1;33m.\u001b[0m\u001b[0mapply_if_callable\u001b[0m\u001b[1;33m(\u001b[0m\u001b[0mkey\u001b[0m\u001b[1;33m,\u001b[0m \u001b[0mself\u001b[0m\u001b[1;33m.\u001b[0m\u001b[0mobj\u001b[0m\u001b[1;33m)\u001b[0m\u001b[1;33m\u001b[0m\u001b[1;33m\u001b[0m\u001b[0m\n\u001b[1;32m-> 1768\u001b[1;33m             \u001b[1;32mreturn\u001b[0m \u001b[0mself\u001b[0m\u001b[1;33m.\u001b[0m\u001b[0m_getitem_axis\u001b[0m\u001b[1;33m(\u001b[0m\u001b[0mmaybe_callable\u001b[0m\u001b[1;33m,\u001b[0m \u001b[0maxis\u001b[0m\u001b[1;33m=\u001b[0m\u001b[0maxis\u001b[0m\u001b[1;33m)\u001b[0m\u001b[1;33m\u001b[0m\u001b[1;33m\u001b[0m\u001b[0m\n\u001b[0m\u001b[0;32m   1769\u001b[0m \u001b[1;33m\u001b[0m\u001b[0m\n\u001b[0;32m   1770\u001b[0m     \u001b[1;32mdef\u001b[0m \u001b[0m_is_scalar_access\u001b[0m\u001b[1;33m(\u001b[0m\u001b[0mself\u001b[0m\u001b[1;33m,\u001b[0m \u001b[0mkey\u001b[0m\u001b[1;33m:\u001b[0m \u001b[0mTuple\u001b[0m\u001b[1;33m)\u001b[0m\u001b[1;33m:\u001b[0m\u001b[1;33m\u001b[0m\u001b[1;33m\u001b[0m\u001b[0m\n",
      "\u001b[1;32m~\\anaconda3\\lib\\site-packages\\pandas\\core\\indexing.py\u001b[0m in \u001b[0;36m_getitem_axis\u001b[1;34m(self, key, axis)\u001b[0m\n\u001b[0;32m   1963\u001b[0m         \u001b[1;31m# fall thru to straight lookup\u001b[0m\u001b[1;33m\u001b[0m\u001b[1;33m\u001b[0m\u001b[1;33m\u001b[0m\u001b[0m\n\u001b[0;32m   1964\u001b[0m         \u001b[0mself\u001b[0m\u001b[1;33m.\u001b[0m\u001b[0m_validate_key\u001b[0m\u001b[1;33m(\u001b[0m\u001b[0mkey\u001b[0m\u001b[1;33m,\u001b[0m \u001b[0maxis\u001b[0m\u001b[1;33m)\u001b[0m\u001b[1;33m\u001b[0m\u001b[1;33m\u001b[0m\u001b[0m\n\u001b[1;32m-> 1965\u001b[1;33m         \u001b[1;32mreturn\u001b[0m \u001b[0mself\u001b[0m\u001b[1;33m.\u001b[0m\u001b[0m_get_label\u001b[0m\u001b[1;33m(\u001b[0m\u001b[0mkey\u001b[0m\u001b[1;33m,\u001b[0m \u001b[0maxis\u001b[0m\u001b[1;33m=\u001b[0m\u001b[0maxis\u001b[0m\u001b[1;33m)\u001b[0m\u001b[1;33m\u001b[0m\u001b[1;33m\u001b[0m\u001b[0m\n\u001b[0m\u001b[0;32m   1966\u001b[0m \u001b[1;33m\u001b[0m\u001b[0m\n\u001b[0;32m   1967\u001b[0m \u001b[1;33m\u001b[0m\u001b[0m\n",
      "\u001b[1;32m~\\anaconda3\\lib\\site-packages\\pandas\\core\\indexing.py\u001b[0m in \u001b[0;36m_get_label\u001b[1;34m(self, label, axis)\u001b[0m\n\u001b[0;32m    623\u001b[0m             \u001b[1;32mraise\u001b[0m \u001b[0mIndexingError\u001b[0m\u001b[1;33m(\u001b[0m\u001b[1;34m\"no slices here, handle elsewhere\"\u001b[0m\u001b[1;33m)\u001b[0m\u001b[1;33m\u001b[0m\u001b[1;33m\u001b[0m\u001b[0m\n\u001b[0;32m    624\u001b[0m \u001b[1;33m\u001b[0m\u001b[0m\n\u001b[1;32m--> 625\u001b[1;33m         \u001b[1;32mreturn\u001b[0m \u001b[0mself\u001b[0m\u001b[1;33m.\u001b[0m\u001b[0mobj\u001b[0m\u001b[1;33m.\u001b[0m\u001b[0m_xs\u001b[0m\u001b[1;33m(\u001b[0m\u001b[0mlabel\u001b[0m\u001b[1;33m,\u001b[0m \u001b[0maxis\u001b[0m\u001b[1;33m=\u001b[0m\u001b[0maxis\u001b[0m\u001b[1;33m)\u001b[0m\u001b[1;33m\u001b[0m\u001b[1;33m\u001b[0m\u001b[0m\n\u001b[0m\u001b[0;32m    626\u001b[0m \u001b[1;33m\u001b[0m\u001b[0m\n\u001b[0;32m    627\u001b[0m     \u001b[1;32mdef\u001b[0m \u001b[0m_get_loc\u001b[0m\u001b[1;33m(\u001b[0m\u001b[0mself\u001b[0m\u001b[1;33m,\u001b[0m \u001b[0mkey\u001b[0m\u001b[1;33m:\u001b[0m \u001b[0mint\u001b[0m\u001b[1;33m,\u001b[0m \u001b[0maxis\u001b[0m\u001b[1;33m:\u001b[0m \u001b[0mint\u001b[0m\u001b[1;33m)\u001b[0m\u001b[1;33m:\u001b[0m\u001b[1;33m\u001b[0m\u001b[1;33m\u001b[0m\u001b[0m\n",
      "\u001b[1;32m~\\anaconda3\\lib\\site-packages\\pandas\\core\\generic.py\u001b[0m in \u001b[0;36mxs\u001b[1;34m(self, key, axis, level, drop_level)\u001b[0m\n\u001b[0;32m   3535\u001b[0m             \u001b[0mloc\u001b[0m\u001b[1;33m,\u001b[0m \u001b[0mnew_index\u001b[0m \u001b[1;33m=\u001b[0m \u001b[0mself\u001b[0m\u001b[1;33m.\u001b[0m\u001b[0mindex\u001b[0m\u001b[1;33m.\u001b[0m\u001b[0mget_loc_level\u001b[0m\u001b[1;33m(\u001b[0m\u001b[0mkey\u001b[0m\u001b[1;33m,\u001b[0m \u001b[0mdrop_level\u001b[0m\u001b[1;33m=\u001b[0m\u001b[0mdrop_level\u001b[0m\u001b[1;33m)\u001b[0m\u001b[1;33m\u001b[0m\u001b[1;33m\u001b[0m\u001b[0m\n\u001b[0;32m   3536\u001b[0m         \u001b[1;32melse\u001b[0m\u001b[1;33m:\u001b[0m\u001b[1;33m\u001b[0m\u001b[1;33m\u001b[0m\u001b[0m\n\u001b[1;32m-> 3537\u001b[1;33m             \u001b[0mloc\u001b[0m \u001b[1;33m=\u001b[0m \u001b[0mself\u001b[0m\u001b[1;33m.\u001b[0m\u001b[0mindex\u001b[0m\u001b[1;33m.\u001b[0m\u001b[0mget_loc\u001b[0m\u001b[1;33m(\u001b[0m\u001b[0mkey\u001b[0m\u001b[1;33m)\u001b[0m\u001b[1;33m\u001b[0m\u001b[1;33m\u001b[0m\u001b[0m\n\u001b[0m\u001b[0;32m   3538\u001b[0m \u001b[1;33m\u001b[0m\u001b[0m\n\u001b[0;32m   3539\u001b[0m             \u001b[1;32mif\u001b[0m \u001b[0misinstance\u001b[0m\u001b[1;33m(\u001b[0m\u001b[0mloc\u001b[0m\u001b[1;33m,\u001b[0m \u001b[0mnp\u001b[0m\u001b[1;33m.\u001b[0m\u001b[0mndarray\u001b[0m\u001b[1;33m)\u001b[0m\u001b[1;33m:\u001b[0m\u001b[1;33m\u001b[0m\u001b[1;33m\u001b[0m\u001b[0m\n",
      "\u001b[1;32m~\\anaconda3\\lib\\site-packages\\pandas\\core\\indexes\\base.py\u001b[0m in \u001b[0;36mget_loc\u001b[1;34m(self, key, method, tolerance)\u001b[0m\n\u001b[0;32m   2646\u001b[0m                 \u001b[1;32mreturn\u001b[0m \u001b[0mself\u001b[0m\u001b[1;33m.\u001b[0m\u001b[0m_engine\u001b[0m\u001b[1;33m.\u001b[0m\u001b[0mget_loc\u001b[0m\u001b[1;33m(\u001b[0m\u001b[0mkey\u001b[0m\u001b[1;33m)\u001b[0m\u001b[1;33m\u001b[0m\u001b[1;33m\u001b[0m\u001b[0m\n\u001b[0;32m   2647\u001b[0m             \u001b[1;32mexcept\u001b[0m \u001b[0mKeyError\u001b[0m\u001b[1;33m:\u001b[0m\u001b[1;33m\u001b[0m\u001b[1;33m\u001b[0m\u001b[0m\n\u001b[1;32m-> 2648\u001b[1;33m                 \u001b[1;32mreturn\u001b[0m \u001b[0mself\u001b[0m\u001b[1;33m.\u001b[0m\u001b[0m_engine\u001b[0m\u001b[1;33m.\u001b[0m\u001b[0mget_loc\u001b[0m\u001b[1;33m(\u001b[0m\u001b[0mself\u001b[0m\u001b[1;33m.\u001b[0m\u001b[0m_maybe_cast_indexer\u001b[0m\u001b[1;33m(\u001b[0m\u001b[0mkey\u001b[0m\u001b[1;33m)\u001b[0m\u001b[1;33m)\u001b[0m\u001b[1;33m\u001b[0m\u001b[1;33m\u001b[0m\u001b[0m\n\u001b[0m\u001b[0;32m   2649\u001b[0m         \u001b[0mindexer\u001b[0m \u001b[1;33m=\u001b[0m \u001b[0mself\u001b[0m\u001b[1;33m.\u001b[0m\u001b[0mget_indexer\u001b[0m\u001b[1;33m(\u001b[0m\u001b[1;33m[\u001b[0m\u001b[0mkey\u001b[0m\u001b[1;33m]\u001b[0m\u001b[1;33m,\u001b[0m \u001b[0mmethod\u001b[0m\u001b[1;33m=\u001b[0m\u001b[0mmethod\u001b[0m\u001b[1;33m,\u001b[0m \u001b[0mtolerance\u001b[0m\u001b[1;33m=\u001b[0m\u001b[0mtolerance\u001b[0m\u001b[1;33m)\u001b[0m\u001b[1;33m\u001b[0m\u001b[1;33m\u001b[0m\u001b[0m\n\u001b[0;32m   2650\u001b[0m         \u001b[1;32mif\u001b[0m \u001b[0mindexer\u001b[0m\u001b[1;33m.\u001b[0m\u001b[0mndim\u001b[0m \u001b[1;33m>\u001b[0m \u001b[1;36m1\u001b[0m \u001b[1;32mor\u001b[0m \u001b[0mindexer\u001b[0m\u001b[1;33m.\u001b[0m\u001b[0msize\u001b[0m \u001b[1;33m>\u001b[0m \u001b[1;36m1\u001b[0m\u001b[1;33m:\u001b[0m\u001b[1;33m\u001b[0m\u001b[1;33m\u001b[0m\u001b[0m\n",
      "\u001b[1;32mpandas\\_libs\\index.pyx\u001b[0m in \u001b[0;36mpandas._libs.index.IndexEngine.get_loc\u001b[1;34m()\u001b[0m\n",
      "\u001b[1;32mpandas\\_libs\\index.pyx\u001b[0m in \u001b[0;36mpandas._libs.index.IndexEngine.get_loc\u001b[1;34m()\u001b[0m\n",
      "\u001b[1;32mpandas\\_libs\\hashtable_class_helper.pxi\u001b[0m in \u001b[0;36mpandas._libs.hashtable.Int64HashTable.get_item\u001b[1;34m()\u001b[0m\n",
      "\u001b[1;32mpandas\\_libs\\hashtable_class_helper.pxi\u001b[0m in \u001b[0;36mpandas._libs.hashtable.Int64HashTable.get_item\u001b[1;34m()\u001b[0m\n",
      "\u001b[1;31mKeyError\u001b[0m: 1"
     ]
    }
   ],
   "source": [
    "result=[]\n",
    "true_result=[]\n",
    "i = 1\n",
    "while i >= 0 :\n",
    "    ogi_model(normal_trace, X_test.loc[i])\n",
    "    i = i + 1\n",
    "    if i == 250:\n",
    "        break\n",
    "print(true_result)\n",
    "print(result)"
   ]
  },
  {
   "cell_type": "code",
   "execution_count": 51,
   "metadata": {},
   "outputs": [
    {
     "data": {
      "text/plain": [
       "(0.4646269759560251, 9.733979126312231e-15)"
      ]
     },
     "execution_count": 51,
     "metadata": {},
     "output_type": "execute_result"
    }
   ],
   "source": [
    "pearsonr(true_result,result)"
   ]
  },
  {
   "cell_type": "code",
   "execution_count": 51,
   "metadata": {},
   "outputs": [
    {
     "data": {
      "text/plain": [
       "749"
      ]
     },
     "execution_count": 51,
     "metadata": {},
     "output_type": "execute_result"
    }
   ],
   "source": [
    "len(true_result)"
   ]
  },
  {
   "cell_type": "code",
   "execution_count": 221,
   "metadata": {},
   "outputs": [
    {
     "ename": "ValueError",
     "evalue": "continuous is not supported",
     "output_type": "error",
     "traceback": [
      "\u001b[1;31m---------------------------------------------------------------------------\u001b[0m",
      "\u001b[1;31mValueError\u001b[0m                                Traceback (most recent call last)",
      "\u001b[1;32m<ipython-input-221-0330a0f68b91>\u001b[0m in \u001b[0;36m<module>\u001b[1;34m\u001b[0m\n\u001b[0;32m      1\u001b[0m \u001b[1;32mfrom\u001b[0m \u001b[0msklearn\u001b[0m\u001b[1;33m.\u001b[0m\u001b[0mmetrics\u001b[0m \u001b[1;32mimport\u001b[0m \u001b[0maccuracy_score\u001b[0m\u001b[1;33m\u001b[0m\u001b[1;33m\u001b[0m\u001b[0m\n\u001b[1;32m----> 2\u001b[1;33m \u001b[0maccuracy_score\u001b[0m\u001b[1;33m(\u001b[0m\u001b[0mtrue_result\u001b[0m\u001b[1;33m,\u001b[0m \u001b[0mresult\u001b[0m\u001b[1;33m,\u001b[0m \u001b[0mnormalize\u001b[0m \u001b[1;33m=\u001b[0m \u001b[1;32mFalse\u001b[0m\u001b[1;33m)\u001b[0m\u001b[1;33m\u001b[0m\u001b[1;33m\u001b[0m\u001b[0m\n\u001b[0m",
      "\u001b[1;32mC:\\ProgramData\\Anaconda3\\lib\\site-packages\\sklearn\\metrics\\_classification.py\u001b[0m in \u001b[0;36maccuracy_score\u001b[1;34m(y_true, y_pred, normalize, sample_weight)\u001b[0m\n\u001b[0;32m    183\u001b[0m \u001b[1;33m\u001b[0m\u001b[0m\n\u001b[0;32m    184\u001b[0m     \u001b[1;31m# Compute accuracy for each possible representation\u001b[0m\u001b[1;33m\u001b[0m\u001b[1;33m\u001b[0m\u001b[1;33m\u001b[0m\u001b[0m\n\u001b[1;32m--> 185\u001b[1;33m     \u001b[0my_type\u001b[0m\u001b[1;33m,\u001b[0m \u001b[0my_true\u001b[0m\u001b[1;33m,\u001b[0m \u001b[0my_pred\u001b[0m \u001b[1;33m=\u001b[0m \u001b[0m_check_targets\u001b[0m\u001b[1;33m(\u001b[0m\u001b[0my_true\u001b[0m\u001b[1;33m,\u001b[0m \u001b[0my_pred\u001b[0m\u001b[1;33m)\u001b[0m\u001b[1;33m\u001b[0m\u001b[1;33m\u001b[0m\u001b[0m\n\u001b[0m\u001b[0;32m    186\u001b[0m     \u001b[0mcheck_consistent_length\u001b[0m\u001b[1;33m(\u001b[0m\u001b[0my_true\u001b[0m\u001b[1;33m,\u001b[0m \u001b[0my_pred\u001b[0m\u001b[1;33m,\u001b[0m \u001b[0msample_weight\u001b[0m\u001b[1;33m)\u001b[0m\u001b[1;33m\u001b[0m\u001b[1;33m\u001b[0m\u001b[0m\n\u001b[0;32m    187\u001b[0m     \u001b[1;32mif\u001b[0m \u001b[0my_type\u001b[0m\u001b[1;33m.\u001b[0m\u001b[0mstartswith\u001b[0m\u001b[1;33m(\u001b[0m\u001b[1;34m'multilabel'\u001b[0m\u001b[1;33m)\u001b[0m\u001b[1;33m:\u001b[0m\u001b[1;33m\u001b[0m\u001b[1;33m\u001b[0m\u001b[0m\n",
      "\u001b[1;32mC:\\ProgramData\\Anaconda3\\lib\\site-packages\\sklearn\\metrics\\_classification.py\u001b[0m in \u001b[0;36m_check_targets\u001b[1;34m(y_true, y_pred)\u001b[0m\n\u001b[0;32m     95\u001b[0m     \u001b[1;31m# No metrics support \"multiclass-multioutput\" format\u001b[0m\u001b[1;33m\u001b[0m\u001b[1;33m\u001b[0m\u001b[1;33m\u001b[0m\u001b[0m\n\u001b[0;32m     96\u001b[0m     \u001b[1;32mif\u001b[0m \u001b[1;33m(\u001b[0m\u001b[0my_type\u001b[0m \u001b[1;32mnot\u001b[0m \u001b[1;32min\u001b[0m \u001b[1;33m[\u001b[0m\u001b[1;34m\"binary\"\u001b[0m\u001b[1;33m,\u001b[0m \u001b[1;34m\"multiclass\"\u001b[0m\u001b[1;33m,\u001b[0m \u001b[1;34m\"multilabel-indicator\"\u001b[0m\u001b[1;33m]\u001b[0m\u001b[1;33m)\u001b[0m\u001b[1;33m:\u001b[0m\u001b[1;33m\u001b[0m\u001b[1;33m\u001b[0m\u001b[0m\n\u001b[1;32m---> 97\u001b[1;33m         \u001b[1;32mraise\u001b[0m \u001b[0mValueError\u001b[0m\u001b[1;33m(\u001b[0m\u001b[1;34m\"{0} is not supported\"\u001b[0m\u001b[1;33m.\u001b[0m\u001b[0mformat\u001b[0m\u001b[1;33m(\u001b[0m\u001b[0my_type\u001b[0m\u001b[1;33m)\u001b[0m\u001b[1;33m)\u001b[0m\u001b[1;33m\u001b[0m\u001b[1;33m\u001b[0m\u001b[0m\n\u001b[0m\u001b[0;32m     98\u001b[0m \u001b[1;33m\u001b[0m\u001b[0m\n\u001b[0;32m     99\u001b[0m     \u001b[1;32mif\u001b[0m \u001b[0my_type\u001b[0m \u001b[1;32min\u001b[0m \u001b[1;33m[\u001b[0m\u001b[1;34m\"binary\"\u001b[0m\u001b[1;33m,\u001b[0m \u001b[1;34m\"multiclass\"\u001b[0m\u001b[1;33m]\u001b[0m\u001b[1;33m:\u001b[0m\u001b[1;33m\u001b[0m\u001b[1;33m\u001b[0m\u001b[0m\n",
      "\u001b[1;31mValueError\u001b[0m: continuous is not supported"
     ]
    }
   ],
   "source": [
    "from sklearn.metrics import accuracy_score\n",
    "accuracy_score(true_result, result, normalize = False)"
   ]
  },
  {
   "cell_type": "code",
   "execution_count": 251,
   "metadata": {},
   "outputs": [],
   "source": [
    "dfObj = pd.DataFrame(result)\n",
    "dfObj\n",
    "dfObj.to_excel('train_result.xlsx')"
   ]
  },
  {
   "cell_type": "code",
   "execution_count": 252,
   "metadata": {},
   "outputs": [],
   "source": [
    "dfObj = pd.DataFrame(true_result)\n",
    "dfObj\n",
    "dfObj.to_excel('train_true_result.xlsx')"
   ]
  },
  {
   "cell_type": "code",
   "execution_count": 231,
   "metadata": {
    "scrolled": false
   },
   "outputs": [
    {
     "name": "stdout",
     "output_type": "stream",
     "text": [
      "Test Observation:\n",
      "V1           0.893251\n",
      "V2           0.636790\n",
      "V3           0.943720\n",
      "V4           0.907233\n",
      "V5           0.863778\n",
      "V6           0.778492\n",
      "B1           8.576456\n",
      "Intercept    1.000000\n",
      "Name: 260, dtype: float64\n",
      "True Result = 8\n",
      "Average Estimate = 10.8436\n",
      "5% Estimate = 4.1903    95% Estimate = 17.0284\n"
     ]
    },
    {
     "name": "stderr",
     "output_type": "stream",
     "text": [
      "C:\\ProgramData\\Anaconda3\\lib\\site-packages\\ipykernel_launcher.py:21: SettingWithCopyWarning: \n",
      "A value is trying to be set on a copy of a slice from a DataFrame\n",
      "\n",
      "See the caveats in the documentation: https://pandas.pydata.org/pandas-docs/stable/user_guide/indexing.html#returning-a-view-versus-a-copy\n"
     ]
    },
    {
     "data": {
      "image/png": "[encoded data removed]",
      "text/plain": [
       "<Figure size 576x576 with 1 Axes>"
      ]
     },
     "metadata": {
      "needs_background": "light"
     },
     "output_type": "display_data"
    }
   ],
   "source": [
    "test_model(normal_trace, X_test.iloc[123])"
   ]
  },
  {
   "cell_type": "code",
   "execution_count": 68,
   "metadata": {},
   "outputs": [
    {
     "name": "stdout",
     "output_type": "stream",
     "text": [
      "Test Observation:\n",
      "V1            0.894321\n",
      "V2            0.833711\n",
      "V3            1.182689\n",
      "V4            0.954477\n",
      "V5            0.888834\n",
      "V6            0.794559\n",
      "B1           13.955276\n",
      "Intercept     1.000000\n",
      "Name: 973, dtype: float64\n",
      "True Result = 13\n",
      "Average Estimate = 11.0671\n",
      "5% Estimate = 4.8984    95% Estimate = 17.7725\n"
     ]
    },
    {
     "name": "stderr",
     "output_type": "stream",
     "text": [
      "C:\\ProgramData\\Anaconda3\\lib\\site-packages\\ipykernel_launcher.py:21: SettingWithCopyWarning: \n",
      "A value is trying to be set on a copy of a slice from a DataFrame\n",
      "\n",
      "See the caveats in the documentation: https://pandas.pydata.org/pandas-docs/stable/user_guide/indexing.html#returning-a-view-versus-a-copy\n"
     ]
    },
    {
     "data": {
      "image/png": "[encoded data removed]",
      "text/plain": [
       "<Figure size 576x576 with 1 Axes>"
      ]
     },
     "metadata": {
      "needs_background": "light"
     },
     "output_type": "display_data"
    }
   ],
   "source": [
    "test_model(normal_trace, X_test.iloc[13])"
   ]
  },
  {
   "cell_type": "code",
   "execution_count": 69,
   "metadata": {},
   "outputs": [
    {
     "name": "stdout",
     "output_type": "stream",
     "text": [
      "Test Observation:\n",
      "V1     0.581242\n",
      "V2     0.820619\n",
      "V3     1.298814\n",
      "V4     0.894524\n",
      "V5     0.809614\n",
      "V6     0.776985\n",
      "B1    11.538263\n",
      "Name: 468, dtype: float64\n",
      "True Result = 11\n",
      "Average Estimate = 10.2477\n",
      "5% Estimate = 3.6782    95% Estimate = 17.1999\n"
     ]
    },
    {
     "data": {
      "image/png": "[encoded data removed]",
      "text/plain": [
       "<Figure size 576x576 with 1 Axes>"
      ]
     },
     "metadata": {
      "needs_background": "light"
     },
     "output_type": "display_data"
    }
   ],
   "source": [
    "test_model(normal_trace, X_train.iloc[45])"
   ]
  },
  {
   "cell_type": "markdown",
   "metadata": {},
   "source": [
    "#### Predictions for New Observation"
   ]
  },
  {
   "cell_type": "code",
   "execution_count": 70,
   "metadata": {},
   "outputs": [],
   "source": [
    "# Make predictions for a new data point from the model trace\n",
    "def query_model(trace, new_observation):\n",
    "    \n",
    "    # Print information about the new observation\n",
    "    print('New Observation')\n",
    "    print(new_observation)\n",
    "    # Dictionary of all sampled values for each parameter\n",
    "    var_dict = {}\n",
    "    for variable in trace.varnames:\n",
    "        var_dict[variable] = trace[variable]\n",
    "        \n",
    "    # Standard deviation\n",
    "    sd_value = var_dict['sd'].mean()\n",
    "    \n",
    "    # Results into a dataframe\n",
    "    var_weights = pd.DataFrame(var_dict)\n",
    "    \n",
    "    # Align weights and new observation\n",
    "    var_weights = var_weights[new_observation.index]\n",
    "    \n",
    "    # Means of variables\n",
    "    var_means = var_weights.mean(axis=0)\n",
    "    \n",
    "    # Mean for observation\n",
    "    mean_loc = np.dot(var_means, new_observation)\n",
    "    \n",
    "    # Distribution of estimates\n",
    "    estimates = np.random.normal(loc = mean_loc, scale = sd_value,\n",
    "                                 size = 1000)\n",
    "    \n",
    "    # Plot the estimate distribution\n",
    "    plt.figure(figsize(8, 8))\n",
    "    sns.distplot(estimates, hist = True, kde = True, bins = 19,\n",
    "                 hist_kws = {'edgecolor': 'k', 'color': 'darkblue'},\n",
    "                kde_kws = {'linewidth' : 4},\n",
    "                label = 'Estimated Dist.')\n",
    "    # Plot the mean estimate\n",
    "    plt.vlines(x = mean_loc, ymin = 0, ymax = 5, \n",
    "               linestyles = '-', colors = 'orange', linewidth = 2.5)\n",
    "    plt.title('Density Plot for New Observation');\n",
    "    plt.xlabel('B1'); plt.ylabel('Density');\n",
    "    \n",
    "    # Estimate information\n",
    "    print('Average Estimate = %0.4f' % mean_loc)\n",
    "    print('5%% Estimate = %0.4f    95%% Estimate = %0.4f' % (np.percentile(estimates, 5),\n",
    "                                       np.percentile(estimates, 95)))"
   ]
  },
  {
   "cell_type": "code",
   "execution_count": 71,
   "metadata": {},
   "outputs": [
    {
     "name": "stdout",
     "output_type": "stream",
     "text": [
      "New Observation\n",
      "Intercept    1\n",
      "V1           4\n",
      "V2           0\n",
      "V3           1\n",
      "V4           3\n",
      "V5           1\n",
      "V6           1\n",
      "dtype: int64\n",
      "Average Estimate = 20.4312\n",
      "5% Estimate = 13.7824    95% Estimate = 26.5943\n"
     ]
    },
    {
     "data": {
      "image/png": "[encoded data removed]",
      "text/plain": [
       "<Figure size 576x576 with 1 Axes>"
      ]
     },
     "metadata": {
      "needs_background": "light"
     },
     "output_type": "display_data"
    }
   ],
   "source": [
    "observation = pd.Series({'Intercept': 1,'V1': 4, \n",
    "                            'V2': 0, 'V3': 1,\n",
    "                            'V4': 3, 'V5': 1, 'V6' : 1})\n",
    "query_model(normal_trace, observation)"
   ]
  },
  {
   "cell_type": "code",
   "execution_count": 72,
   "metadata": {},
   "outputs": [
    {
     "name": "stdout",
     "output_type": "stream",
     "text": [
      "New Observation\n",
      "Intercept    1\n",
      "V1           2\n",
      "V2           2\n",
      "V3           1\n",
      "V4           2\n",
      "V5           3\n",
      "V6           4\n",
      "dtype: int64\n",
      "Average Estimate = 21.1216\n",
      "5% Estimate = 14.6091    95% Estimate = 27.1598\n"
     ]
    },
    {
     "data": {
      "image/png": "[encoded data removed]",
      "text/plain": [
       "<Figure size 576x576 with 1 Axes>"
      ]
     },
     "metadata": {
      "needs_background": "light"
     },
     "output_type": "display_data"
    }
   ],
   "source": [
    "observation = pd.Series({'Intercept': 1,'V1': 2, \n",
    "                            'V2': 2, 'V3': 1,\n",
    "                            'V4': 2, 'V5': 3, 'V6' : 4})\n",
    "query_model(normal_trace, observation)"
   ]
  },
  {
   "cell_type": "markdown",
   "metadata": {},
   "source": [
    "# Model Variable Effects"
   ]
  },
  {
   "cell_type": "markdown",
   "metadata": {},
   "source": [
    "If we want to see the effect of changing one variable while holding the others constant, we can use the function `pm.plot_posterior_predictive_glm`. This takes a range of values to use for the variable, a linear model, and a number of samples. The function evaluates the linear model across the range of values for the number of samples. Each time, it draws a different set of parameters from the trace. This gives us an indication of the effect of a single variable and also the uncertainty in the model estimates. To see the effect of a single variable, we hold the others constant at their median values."
   ]
  },
  {
   "cell_type": "code",
   "execution_count": 73,
   "metadata": {},
   "outputs": [],
   "source": [
    "# Examines the effect of changing a single variable\n",
    "# Takes in the name of the variable, the trace, and the data\n",
    "def model_effect(query_var, trace, X):\n",
    "    \n",
    "    # Variables that do not change\n",
    "    steady_vars = list(X.columns)\n",
    "    steady_vars.remove(query_var)\n",
    "    \n",
    "    # Linear Model that estimates a grade based on the value of the query variable \n",
    "    # and one sample from the trace\n",
    "    def lm(value, sample):\n",
    "        \n",
    "        # Prediction is the estimate given a value of the query variable\n",
    "        prediction = sample['Intercept'] + sample[query_var] * value\n",
    "        \n",
    "        # Each non-query variable is assumed to be at the median value\n",
    "        for var in steady_vars:\n",
    "            \n",
    "            # Multiply the weight by the median value of the variable\n",
    "            prediction += sample[var] * X[var].median()\n",
    "        \n",
    "        return prediction\n",
    "    \n",
    "    figsize(6, 6)\n",
    "    \n",
    "    # Find the minimum and maximum values for the range of the query var\n",
    "    var_min = X[query_var].min()\n",
    "    var_max = X[query_var].max()\n",
    "    \n",
    "    # Plot the estimated grade versus the range of query variable\n",
    "    pm.plot_posterior_predictive_glm(trace, eval=np.linspace(var_min, var_max, 100), \n",
    "                                     lm=lm, samples=100, color='blue', \n",
    "                                     alpha = 0.4, lw = 2)\n",
    "    \n",
    "    # Plot formatting\n",
    "    plt.xlabel('%s' % query_var, size = 16)\n",
    "    plt.ylabel('B1', size = 16)\n",
    "    plt.title(\"Posterior of B1 vs %s\" % query_var, size = 18)\n",
    "    plt.show()"
   ]
  },
  {
   "cell_type": "code",
   "execution_count": 74,
   "metadata": {},
   "outputs": [
    {
     "data": {
      "image/png": "[encoded data removed]",
      "text/plain": [
       "<Figure size 432x432 with 1 Axes>"
      ]
     },
     "metadata": {
      "needs_background": "light"
     },
     "output_type": "display_data"
    }
   ],
   "source": [
    "model_effect('V2', normal_trace, X_train.drop(columns='B1'))"
   ]
  },
  {
   "cell_type": "code",
   "execution_count": 75,
   "metadata": {},
   "outputs": [
    {
     "data": {
      "image/png": "[encoded data removed]",
      "text/plain": [
       "<Figure size 432x432 with 1 Axes>"
      ]
     },
     "metadata": {
      "needs_background": "light"
     },
     "output_type": "display_data"
    }
   ],
   "source": [
    "model_effect('V5', normal_trace, X_train.drop(columns='B1'))"
   ]
  },
  {
   "cell_type": "code",
   "execution_count": 76,
   "metadata": {},
   "outputs": [
    {
     "name": "stdout",
     "output_type": "stream",
     "text": [
      "Test Observation:\n",
      "V1    0.819750\n",
      "V2    0.753102\n",
      "V3    1.187128\n",
      "V4    0.839188\n",
      "V5    0.931684\n",
      "V6    0.884089\n",
      "B1    4.350152\n",
      "Name: 82, dtype: float64\n",
      "True Result = 4\n",
      "Average Estimate = 11.1700\n",
      "5% Estimate = 5.1443    95% Estimate = 17.6695\n"
     ]
    },
    {
     "data": {
      "image/png": "[encoded data removed]",
      "text/plain": [
       "<Figure size 576x576 with 1 Axes>"
      ]
     },
     "metadata": {
      "needs_background": "light"
     },
     "output_type": "display_data"
    }
   ],
   "source": [
    "test_model(normal_trace, X_train.iloc[0])"
   ]
  },
  {
   "cell_type": "markdown",
   "metadata": {},
   "source": [
    "# Different Likelihood Prior Distribution\n",
    "\n",
    "We can perform the exact same Bayesian Linear Modeling using a Student's T-distribution as the prior for the data likelihood. A Student's T Distribution has more weight in the tails of the distribution so it is more robust to outliers. "
   ]
  },
  {
   "cell_type": "code",
   "execution_count": 77,
   "metadata": {
    "scrolled": false
   },
   "outputs": [
    {
     "data": {
      "image/png": "[encoded data removed]",
      "text/plain": [
       "<Figure size 576x576 with 1 Axes>"
      ]
     },
     "metadata": {
      "needs_background": "light"
     },
     "output_type": "display_data"
    }
   ],
   "source": [
    "# X values for plotting\n",
    "x = np.linspace(-5, 5, num = 500)\n",
    "\n",
    "# Generate pdf of normal distribution\n",
    "y_norm = scipy.stats.norm.pdf(x)\n",
    "\n",
    "# PDF of t-distribution with 2 degrees of freedom\n",
    "y_t = scipy.stats.t.pdf(x, df = 2)\n",
    "\n",
    "plt.plot(x, y_norm, 'b-', label = 'Normal')\n",
    "plt.plot(x, y_t, 'r-', label = 'T with 2 df')\n",
    "plt.legend(prop = {'size': 18}, loc = 1)\n",
    "plt.xlabel('x'); plt.ylabel('Probability'); plt.title('Normal vs T Distribution');"
   ]
  },
  {
   "cell_type": "markdown",
   "metadata": {},
   "source": [
    "## Build Model and Perform Inference"
   ]
  },
  {
   "cell_type": "code",
   "execution_count": 70,
   "metadata": {},
   "outputs": [
    {
     "name": "stderr",
     "output_type": "stream",
     "text": [
      "Auto-assigning NUTS sampler...\n",
      "Initializing NUTS using jitter+adapt_diag...\n",
      "Sequential sampling (2 chains in 1 job)\n",
      "NUTS: [lam, V6, V5, V4, V3, V2, V1, Intercept]\n",
      "Sampling chain 0, 0 divergences: 100%|██████████| 2500/2500 [00:55<00:00, 45.19it/s]\n",
      "Sampling chain 1, 0 divergences: 100%|██████████| 2500/2500 [00:51<00:00, 48.20it/s]\n"
     ]
    }
   ],
   "source": [
    "# Context for model\n",
    "with pm.Model() as t_model:\n",
    "    # Family is Student's T in this case\n",
    "    family = pm.glm.families.StudentT(df = 2)\n",
    "    \n",
    "    # Formula, data, family\n",
    "    pm.GLM.from_formula(formula, data = X_train, family = family)\n",
    "    \n",
    "    # Sample from the posterior \n",
    "    t_trace = pm.sample(draws=2000, tune=500, cores = -1)"
   ]
  },
  {
   "cell_type": "markdown",
   "metadata": {},
   "source": [
    "## Test the Model\n",
    "\n",
    "__I'm not sure I implemented this part correclty!__"
   ]
  },
  {
   "cell_type": "code",
   "execution_count": 80,
   "metadata": {},
   "outputs": [],
   "source": [
    "def test_model_t(trace, test_observation):\n",
    "    \n",
    "    var_dict = {}\n",
    "    for variable in trace.varnames:\n",
    "        var_dict[variable] = trace[variable]\n",
    "\n",
    "    # Results into a dataframe\n",
    "    var_weights = pd.DataFrame(var_dict)\n",
    "\n",
    "    # Actual Value\n",
    "    actual = test_observation['B1']\n",
    "    \n",
    "    # Add in intercept term\n",
    "    test_observation['Intercept'] = 1\n",
    "    test_observation = test_observation.drop('B1')\n",
    "    \n",
    "    # Align weights and test observation\n",
    "    var_weights = var_weights[test_observation.index]\n",
    "\n",
    "    # Means for all the weights\n",
    "    var_means = var_weights.mean(axis=0)\n",
    "\n",
    "    # Location of mean for observation\n",
    "    mean_loc = np.dot(var_means, test_observation)\n",
    "    \n",
    "    # Estimates of grade\n",
    "    estimates = mean_loc + np.random.standard_t(df = 2, size = 1000)\n",
    "    \n",
    "    plt.figure(figsize(8, 8))\n",
    "    sns.distplot(estimates, hist = True, kde = True, bins = 19,\n",
    "                 hist_kws = {'edgecolor': 'k', 'color': 'darkblue'},\n",
    "                kde_kws = {'linewidth' : 4},\n",
    "                label = 'Estimated Dist.')\n",
    "    plt.vlines(x = actual, ymin = 0, ymax = 5, \n",
    "               linestyles = '--', colors = 'red',\n",
    "               label = 'True Result',\n",
    "              linewidth = 2.5)\n",
    "    plt.vlines(x = mean_loc, ymin = 0, ymax = 5, \n",
    "               linestyles = '-', colors = 'orange',\n",
    "               label = 'Mean Estimate',\n",
    "              linewidth = 2.5)\n",
    "    \n",
    "    plt.legend(loc = 1)\n",
    "    plt.title('Density Plot for Test Observation');\n",
    "    plt.xlabel('B1'); plt.ylabel('Density');\n",
    "    \n",
    "    print('True Result = %d' % actual)\n",
    "    print('Average Estimate = %0.4f' % mean_loc)\n",
    "    print('5%% Estimate = %0.4f    95%% Estimate = %0.4f' % (np.percentile(estimates, 5),\n",
    "                                       np.percentile(estimates, 95)))"
   ]
  },
  {
   "cell_type": "code",
   "execution_count": 81,
   "metadata": {},
   "outputs": [
    {
     "name": "stdout",
     "output_type": "stream",
     "text": [
      "True Result = 11\n",
      "Average Estimate = 10.0063\n",
      "5% Estimate = 7.1560    95% Estimate = 13.0392\n"
     ]
    },
    {
     "name": "stderr",
     "output_type": "stream",
     "text": [
      "C:\\ProgramData\\Anaconda3\\lib\\site-packages\\ipykernel_launcher.py:14: SettingWithCopyWarning: \n",
      "A value is trying to be set on a copy of a slice from a DataFrame\n",
      "\n",
      "See the caveats in the documentation: https://pandas.pydata.org/pandas-docs/stable/user_guide/indexing.html#returning-a-view-versus-a-copy\n",
      "  \n"
     ]
    },
    {
     "data": {
      "image/png": "[encoded data removed]",
      "text/plain": [
       "<Figure size 576x576 with 1 Axes>"
      ]
     },
     "metadata": {
      "needs_background": "light"
     },
     "output_type": "display_data"
    }
   ],
   "source": [
    "test_model_t(t_trace, X_test.iloc[60])"
   ]
  },
  {
   "cell_type": "code",
   "execution_count": 84,
   "metadata": {},
   "outputs": [
    {
     "name": "stdout",
     "output_type": "stream",
     "text": [
      "Test Observation:\n",
      "V1            0.727575\n",
      "V2            0.764865\n",
      "V3            1.024890\n",
      "V4            0.884825\n",
      "V5            0.884728\n",
      "V6            0.829285\n",
      "B1           11.148646\n",
      "Intercept     1.000000\n",
      "Name: 296, dtype: float64\n",
      "True Result = 11\n",
      "Average Estimate = 10.5023\n",
      "5% Estimate = 4.0900    95% Estimate = 16.7035\n"
     ]
    },
    {
     "name": "stderr",
     "output_type": "stream",
     "text": [
      "C:\\ProgramData\\Anaconda3\\lib\\site-packages\\ipykernel_launcher.py:21: SettingWithCopyWarning: \n",
      "A value is trying to be set on a copy of a slice from a DataFrame\n",
      "\n",
      "See the caveats in the documentation: https://pandas.pydata.org/pandas-docs/stable/user_guide/indexing.html#returning-a-view-versus-a-copy\n"
     ]
    },
    {
     "data": {
      "image/png": "[encoded data removed]",
      "text/plain": [
       "<Figure size 576x576 with 1 Axes>"
      ]
     },
     "metadata": {
      "needs_background": "light"
     },
     "output_type": "display_data"
    }
   ],
   "source": [
    "test_model(normal_trace, X_test.iloc[60])"
   ]
  },
  {
   "cell_type": "markdown",
   "metadata": {},
   "source": [
    "## New Observation Predictions\n",
    "\n",
    "__I'm not sure about these predictions!__"
   ]
  },
  {
   "cell_type": "code",
   "execution_count": 85,
   "metadata": {},
   "outputs": [],
   "source": [
    "def query_model_t(trace, new_observation):\n",
    "    \n",
    "    # Dictionary of all sampled values for each parameter\n",
    "    var_dict = {}\n",
    "    for variable in trace.varnames:\n",
    "        var_dict[variable] = trace[variable]\n",
    "        \n",
    "\n",
    "    \n",
    "    # Results into a dataframe\n",
    "    var_weights = pd.DataFrame(var_dict)\n",
    "    \n",
    "    # Align weights and new observation\n",
    "    var_weights = var_weights[new_observation.index]\n",
    "    # Means of variables\n",
    "    var_means = var_weights.mean(axis=0)\n",
    "    \n",
    "    # Mean for observation\n",
    "    mean_loc = np.dot(var_means, new_observation)\n",
    "    \n",
    "    # Distribution of estimates\n",
    "    estimates = mean_loc +  np.random.standard_t(df = 2, size = 1000)\n",
    "    \n",
    "\n",
    "    plt.figure(figsize(8, 8))\n",
    "    sns.distplot(estimates, hist = True, kde = True, bins = 19,\n",
    "                 hist_kws = {'edgecolor': 'k', 'color': 'darkblue'},\n",
    "                kde_kws = {'linewidth' : 4},\n",
    "                label = 'Estimated Dist.')\n",
    "    plt.vlines(x = mean_loc, ymin = 0, ymax = 5, \n",
    "               linestyles = '-', colors = 'orange', linewidth = 2.5)\n",
    "    plt.title('Density Plot for New Observation');\n",
    "    plt.xlabel('B1'); plt.ylabel('Density');\n",
    "    \n",
    "    print('Average Estimate = %0.4f' % mean_loc)\n",
    "    print('5%% Estimate = %0.4f    95%% Estimate = %0.4f' % (np.percentile(estimates, 5),\n",
    "                                       np.percentile(estimates, 95)))"
   ]
  },
  {
   "cell_type": "code",
   "execution_count": 86,
   "metadata": {},
   "outputs": [
    {
     "name": "stdout",
     "output_type": "stream",
     "text": [
      "New Observation\n",
      "Intercept    1\n",
      "V1           4\n",
      "V2           0\n",
      "V3           1\n",
      "V4           3\n",
      "V5           1\n",
      "V6           1\n",
      "dtype: int64\n",
      "Average Estimate = 20.4312\n",
      "5% Estimate = 13.9681    95% Estimate = 27.0382\n"
     ]
    },
    {
     "data": {
      "image/png": "[encoded data removed]",
      "text/plain": [
       "<Figure size 576x576 with 1 Axes>"
      ]
     },
     "metadata": {
      "needs_background": "light"
     },
     "output_type": "display_data"
    }
   ],
   "source": [
    "observation = pd.Series({'Intercept': 1,'V1': 4, \n",
    "                            'V2': 0, 'V3': 1,\n",
    "                            'V4': 3, 'V5': 1, 'V6' : 1})\n",
    "query_model(normal_trace, observation)"
   ]
  },
  {
   "cell_type": "code",
   "execution_count": 87,
   "metadata": {},
   "outputs": [
    {
     "name": "stdout",
     "output_type": "stream",
     "text": [
      "Average Estimate = 12.2368\n",
      "5% Estimate = 9.3522    95% Estimate = 15.0235\n"
     ]
    },
    {
     "data": {
      "image/png": "[encoded data removed]",
      "text/plain": [
       "<Figure size 576x576 with 1 Axes>"
      ]
     },
     "metadata": {
      "needs_background": "light"
     },
     "output_type": "display_data"
    }
   ],
   "source": [
    "observation = pd.Series({'Intercept': 1,'V1': 4, \n",
    "                            'V2': 0, 'V3': 1,\n",
    "                            'V4': 3, 'V5': 1, 'V6' : 1})\n",
    "query_model_t(t_trace, observation)"
   ]
  },
  {
   "cell_type": "markdown",
   "metadata": {},
   "source": [
    "There is some variation between the t-distribution estimates and those from the normal distribution for the data likelihood.Choosing appropriate priors is one of the hardest aspect of Bayesian Modeling, but we can get around that by having more data. As the amount of data the model learns from increases, the prior has less of an effect because each time the posterior is updated based on the new data. Essentially machine learning models perform inference with no priors, basing the final model entirely on the data. In the case of limited samples, Bayesian Inference can be a better method for building models because it provides a reasonable estimate in situations with few data points (as long as the prior is reasonable)."
   ]
  },
  {
   "cell_type": "markdown",
   "metadata": {},
   "source": [
    "# Conclusions\n",
    "\n",
    "In this notebook we looked at using Bayesian Linear Regression to predict student performance based on six factors. Rather than specify probabilities for the Bayesian network which is basically impossible for continuous variables, we framed the problem as a machine learning task. In addition to the standard machine learning models that learn from observations, we also used Bayesian Linear Regression to create a model mapping the features (student characteristics) to the targets (final grade). The advantages of Bayesian Linear Regression are that if we use sensible priors, we can still get a decent estimate with few samples, and the final weights are not a single number, but a distribution componsed of every sample drawn during the sampling run. We can then make predictions using all the sampled weights to form a distribution of expected values rather than a single answer. \n",
    "\n",
    "The Bayesian  Linear Regression did not perform as well as the other methods in terms of the two metrics we choose. This might not be the ideal case for a Bayesian inference approach but we saw that Bayesian Linear Regression produced intuitive estimates for the model weights and gave predictions for new students that align with our expectations for the factors influencing student performance. To summarize, although Bayesian Linear Regression did not outperform the standard machine learning methods, it gave us a chance to learn another tool for use in evaluating and making sense of data. It's always a positive to have more skills that you can deploy as needed!"
   ]
  },
  {
   "cell_type": "code",
   "execution_count": null,
   "metadata": {},
   "outputs": [],
   "source": []
  }
 ],
 "metadata": {
  "hide_input": false,
  "kernelspec": {
   "display_name": "Python 3",
   "language": "python",
   "name": "python3"
  },
  "language_info": {
   "codemirror_mode": {
    "name": "ipython",
    "version": 3
   },
   "file_extension": ".py",
   "mimetype": "text/x-python",
   "name": "python",
   "nbconvert_exporter": "python",
   "pygments_lexer": "ipython3",
   "version": "3.7.6"
  },
  "nbTranslate": {
   "displayLangs": [
    "*"
   ],
   "hotkey": "alt-t",
   "langInMainMenu": true,
   "sourceLang": "en",
   "targetLang": "fr",
   "useGoogleTranslate": true
  },
  "toc": {
   "base_numbering": 1,
   "nav_menu": {},
   "number_sections": true,
   "sideBar": true,
   "skip_h1_title": false,
   "title_cell": "Table of Contents",
   "title_sidebar": "Contents",
   "toc_cell": true,
   "toc_position": {},
   "toc_section_display": true,
   "toc_window_display": true
  },
  "varInspector": {
   "cols": {
    "lenName": 16,
    "lenType": 16,
    "lenVar": 40
   },
   "kernels_config": {
    "python": {
     "delete_cmd_postfix": "",
     "delete_cmd_prefix": "del ",
     "library": "var_list.py",
     "varRefreshCmd": "print(var_dic_list())"
    },
    "r": {
     "delete_cmd_postfix": ") ",
     "delete_cmd_prefix": "rm(",
     "library": "var_list.r",
     "varRefreshCmd": "cat(var_dic_list()) "
    }
   },
   "types_to_exclude": [
    "module",
    "function",
    "builtin_function_or_method",
    "instance",
    "_Feature"
   ],
   "window_display": false
  }
 },
 "nbformat": 4,
 "nbformat_minor": 2
}
