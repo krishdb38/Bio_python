{
 "cells": [
  {
   "cell_type": "code",
   "execution_count": 1,
   "metadata": {},
   "outputs": [],
   "source": [
    "import pandas as pd"
   ]
  },
  {
   "cell_type": "code",
   "execution_count": 2,
   "metadata": {},
   "outputs": [],
   "source": [
    "df = pd.read_csv(\"../preterm_analysis/fisher_model_p_lt05.csv\")"
   ]
  },
  {
   "cell_type": "code",
   "execution_count": 4,
   "metadata": {},
   "outputs": [
    {
     "data": {
      "text/html": [
       "<div>\n",
       "<style scoped>\n",
       "    .dataframe tbody tr th:only-of-type {\n",
       "        vertical-align: middle;\n",
       "    }\n",
       "\n",
       "    .dataframe tbody tr th {\n",
       "        vertical-align: top;\n",
       "    }\n",
       "\n",
       "    .dataframe thead th {\n",
       "        text-align: right;\n",
       "    }\n",
       "</style>\n",
       "<table border=\"1\" class=\"dataframe\">\n",
       "  <thead>\n",
       "    <tr style=\"text-align: right;\">\n",
       "      <th></th>\n",
       "      <th>CHR</th>\n",
       "      <th>SNP</th>\n",
       "      <th>A1</th>\n",
       "      <th>A2</th>\n",
       "      <th>TEST</th>\n",
       "      <th>AFF</th>\n",
       "      <th>UNAFF</th>\n",
       "      <th>P</th>\n",
       "    </tr>\n",
       "  </thead>\n",
       "  <tbody>\n",
       "    <tr>\n",
       "      <th>0</th>\n",
       "      <td>13</td>\n",
       "      <td>rs7332016</td>\n",
       "      <td>G</td>\n",
       "      <td>C</td>\n",
       "      <td>GENO</td>\n",
       "      <td>2000-02-25</td>\n",
       "      <td>0/20/9</td>\n",
       "      <td>0.000002</td>\n",
       "    </tr>\n",
       "    <tr>\n",
       "      <th>1</th>\n",
       "      <td>13</td>\n",
       "      <td>rs7332016</td>\n",
       "      <td>G</td>\n",
       "      <td>C</td>\n",
       "      <td>DOM</td>\n",
       "      <td>25-2</td>\n",
       "      <td>20-9</td>\n",
       "      <td>0.000002</td>\n",
       "    </tr>\n",
       "    <tr>\n",
       "      <th>2</th>\n",
       "      <td>13</td>\n",
       "      <td>rs9560058</td>\n",
       "      <td>C</td>\n",
       "      <td>A</td>\n",
       "      <td>GENO</td>\n",
       "      <td>2000-02-25</td>\n",
       "      <td>0/20/9</td>\n",
       "      <td>0.000002</td>\n",
       "    </tr>\n",
       "    <tr>\n",
       "      <th>3</th>\n",
       "      <td>13</td>\n",
       "      <td>rs9560058</td>\n",
       "      <td>C</td>\n",
       "      <td>A</td>\n",
       "      <td>DOM</td>\n",
       "      <td>25-2</td>\n",
       "      <td>20-9</td>\n",
       "      <td>0.000002</td>\n",
       "    </tr>\n",
       "    <tr>\n",
       "      <th>4</th>\n",
       "      <td>13</td>\n",
       "      <td>rs9560059</td>\n",
       "      <td>G</td>\n",
       "      <td>C</td>\n",
       "      <td>GENO</td>\n",
       "      <td>2000-02-25</td>\n",
       "      <td>0/20/9</td>\n",
       "      <td>0.000002</td>\n",
       "    </tr>\n",
       "  </tbody>\n",
       "</table>\n",
       "</div>"
      ],
      "text/plain": [
       "   CHR        SNP A1 A2  TEST         AFF   UNAFF         P\n",
       "0   13  rs7332016  G  C  GENO  2000-02-25  0/20/9  0.000002\n",
       "1   13  rs7332016  G  C   DOM        25-2    20-9  0.000002\n",
       "2   13  rs9560058  C  A  GENO  2000-02-25  0/20/9  0.000002\n",
       "3   13  rs9560058  C  A   DOM        25-2    20-9  0.000002\n",
       "4   13  rs9560059  G  C  GENO  2000-02-25  0/20/9  0.000002"
      ]
     },
     "execution_count": 4,
     "metadata": {},
     "output_type": "execute_result"
    }
   ],
   "source": [
    "df.head()"
   ]
  },
  {
   "cell_type": "code",
   "execution_count": 14,
   "metadata": {},
   "outputs": [],
   "source": [
    "df.to_excel(\"../preterm_analysis/fisher_model_p_.xlsx\",sheet_name=\"fisher\",index=False)"
   ]
  },
  {
   "cell_type": "code",
   "execution_count": 10,
   "metadata": {},
   "outputs": [
    {
     "data": {
      "text/plain": [
       "CHR        int64\n",
       "SNP       object\n",
       "A1        object\n",
       "A2        object\n",
       "TEST      object\n",
       "AFF       object\n",
       "UNAFF     object\n",
       "P        float64\n",
       "dtype: object"
      ]
     },
     "execution_count": 10,
     "metadata": {},
     "output_type": "execute_result"
    }
   ],
   "source": [
    "df.dtypes"
   ]
  }
 ],
 "metadata": {
  "kernelspec": {
   "display_name": "Python 3",
   "language": "python",
   "name": "python3"
  },
  "language_info": {
   "codemirror_mode": {
    "name": "ipython",
    "version": 3
   },
   "file_extension": ".py",
   "mimetype": "text/x-python",
   "name": "python",
   "nbconvert_exporter": "python",
   "pygments_lexer": "ipython3",
   "version": "3.7.6"
  },
  "nbTranslate": {
   "displayLangs": [
    "*"
   ],
   "hotkey": "alt-t",
   "langInMainMenu": true,
   "sourceLang": "en",
   "targetLang": "fr",
   "useGoogleTranslate": true
  },
  "toc": {
   "base_numbering": 1,
   "nav_menu": {},
   "number_sections": true,
   "sideBar": true,
   "skip_h1_title": false,
   "title_cell": "Table of Contents",
   "title_sidebar": "Contents",
   "toc_cell": false,
   "toc_position": {},
   "toc_section_display": true,
   "toc_window_display": false
  }
 },
 "nbformat": 4,
 "nbformat_minor": 4
}
