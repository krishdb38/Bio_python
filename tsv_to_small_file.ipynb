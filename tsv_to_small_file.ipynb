{
 "cells": [
  {
   "cell_type": "code",
   "execution_count": 1,
   "metadata": {},
   "outputs": [],
   "source": [
    "import pandas as pd  #Import Library for table operation"
   ]
  },
  {
   "cell_type": "markdown",
   "metadata": {},
   "source": [
    "### Read the  File / Load the file\n",
    "###  Only change file Name"
   ]
  },
  {
   "cell_type": "markdown",
   "metadata": {},
   "source": [
    "<font color=\"red\" size=\"6\"> Change this file name Only</font>"
   ]
  },
  {
   "cell_type": "code",
   "execution_count": 2,
   "metadata": {},
   "outputs": [],
   "source": [
    "filename = \"989\"  #Change This file name only"
   ]
  },
  {
   "cell_type": "markdown",
   "metadata": {},
   "source": [
    "#### Check weather this is  in small size or not"
   ]
  },
  {
   "cell_type": "code",
   "execution_count": 4,
   "metadata": {},
   "outputs": [
    {
     "name": "stdout",
     "output_type": "stream",
     "text": [
      "final_result  small_csv\r\n"
     ]
    }
   ],
   "source": [
    "!ls \"../small_files\" "
   ]
  },
  {
   "cell_type": "markdown",
   "metadata": {},
   "source": [
    "### If Not in above list so Processed "
   ]
  },
  {
   "cell_type": "code",
   "execution_count": 6,
   "metadata": {},
   "outputs": [],
   "source": [
    "#df1 = pd.read_csv(\"../raw_data/\"+filename+\"/\"+filename+\".snpeff.isoform.tsv\",sep=\"\\t\")"
   ]
  },
  {
   "cell_type": "markdown",
   "metadata": {},
   "source": [
    "##### Check the File size Row X Col"
   ]
  },
  {
   "cell_type": "code",
   "execution_count": 45,
   "metadata": {},
   "outputs": [],
   "source": [
    "#df1.shape"
   ]
  },
  {
   "cell_type": "code",
   "execution_count": 46,
   "metadata": {
    "scrolled": true
   },
   "outputs": [],
   "source": [
    "#df1.head(2)"
   ]
  },
  {
   "cell_type": "code",
   "execution_count": 42,
   "metadata": {},
   "outputs": [],
   "source": [
    "#df1[\"#CHROM\"].unique()"
   ]
  },
  {
   "cell_type": "code",
   "execution_count": 51,
   "metadata": {},
   "outputs": [],
   "source": [
    "#df1.columns #Check the col name"
   ]
  },
  {
   "cell_type": "code",
   "execution_count": 63,
   "metadata": {},
   "outputs": [],
   "source": [
    "cols_to_drop = ['ANN[*].EFFECT', 'ANN[*].IMPACT',\n",
    "       'ANN[*].GENE', 'ANN[*].FEATURE', 'ANN[*].FEATUREID', 'ANN[*].BIOTYPE',\n",
    "       'ANN[*].RANK', 'ANN[*].HGVS_C', 'ANN[*].HGVS_P', 'ANN[*].CDNA_POS',\n",
    "       'ANN[*].CDNA_LEN', 'ANN[*].CDS_POS', 'ANN[*].CDS_LEN', 'ANN[*].AA_POS',\n",
    "       'ANN[*].AA_LEN', 'ANN[*].DISTANCE', 'GWASCAT_TRAIT', 'COSMID',\n",
    "       'CLNDISDB', 'ORIGIN', 'CLNSIG', 'CLNDN', 'dbNSFP_Uniprot_acc',\n",
    "       'dbNSFP_Interpro_domain', 'dbNSFP_SIFT_pred',\n",
    "       'dbNSFP_Polyphen2_HDIV_pred', 'dbNSFP_Polyphen2_HVAR_pred',\n",
    "       'dbNSFP_LRT_pred', 'dbNSFP_MutationTaster_pred', 'dbNSFP_GERP___NR',\n",
    "       'dbNSFP_GERP___RS', 'dbNSFP_phastCons100way_vertebrate',\n",
    "       'dbNSFP_1000Gp1_AF', 'dbNSFP_1000Gp1_AFR_AF', 'dbNSFP_1000Gp1_EUR_AF',\n",
    "       'dbNSFP_1000Gp1_AMR_AF', 'dbNSFP_1000Gp1_ASN_AF',\n",
    "       'dbNSFP_ESP6500_AA_AF', 'dbNSFP_ESP6500_EA_AF', 'EXAC_AC', 'EXAC_AN',\n",
    "       'EXAC_AF']"
   ]
  },
  {
   "cell_type": "markdown",
   "metadata": {},
   "source": [
    "### So lets remove Unnecessary Columns"
   ]
  },
  {
   "cell_type": "code",
   "execution_count": 64,
   "metadata": {},
   "outputs": [],
   "source": [
    "df1 =  df1.drop(cols_to_drop,axis=1)"
   ]
  },
  {
   "cell_type": "code",
   "execution_count": 54,
   "metadata": {
    "scrolled": true
   },
   "outputs": [
    {
     "data": {
      "text/plain": [
       "(4661999, 10)"
      ]
     },
     "execution_count": 54,
     "metadata": {},
     "output_type": "execute_result"
    }
   ],
   "source": [
    "df1.shape   # Now Our Column is reduced to 10"
   ]
  },
  {
   "cell_type": "code",
   "execution_count": 55,
   "metadata": {},
   "outputs": [],
   "source": [
    "#df1.head(2)"
   ]
  },
  {
   "cell_type": "markdown",
   "metadata": {},
   "source": [
    "### According to Our Research Paper,\n",
    "Our Research area is only for ```Chromosome 3 , 5 and X```  and also ID **rs2963463 , rs2946169 in chromosome 5 , similarly rs201450565 , rs200745338 in chromosome 3 and rs201386833 and rs5950506 in Chromosome X**"
   ]
  },
  {
   "cell_type": "code",
   "execution_count": 65,
   "metadata": {},
   "outputs": [],
   "source": [
    "df1= df1[(df1[\"#CHROM\"]==\"chr5\") | (df1[\"#CHROM\"]==\"chr3\") | (df1[\"#CHROM\"]==\"chrX\")]"
   ]
  },
  {
   "cell_type": "code",
   "execution_count": 66,
   "metadata": {},
   "outputs": [
    {
     "data": {
      "text/plain": [
       "(704931, 10)"
      ]
     },
     "execution_count": 66,
     "metadata": {},
     "output_type": "execute_result"
    }
   ],
   "source": [
    "df1.shape"
   ]
  },
  {
   "cell_type": "markdown",
   "metadata": {},
   "source": [
    "## !!!!  file to save"
   ]
  },
  {
   "cell_type": "code",
   "execution_count": 67,
   "metadata": {},
   "outputs": [
    {
     "data": {
      "text/plain": [
       "'1282'"
      ]
     },
     "execution_count": 67,
     "metadata": {},
     "output_type": "execute_result"
    }
   ],
   "source": [
    "filename"
   ]
  },
  {
   "cell_type": "markdown",
   "metadata": {},
   "source": [
    "<font color=\"red\" size=\"5\"> Check your files are in directory or not </font>"
   ]
  },
  {
   "cell_type": "code",
   "execution_count": 68,
   "metadata": {},
   "outputs": [
    {
     "name": "stdout",
     "output_type": "stream",
     "text": [
      "1009.csv  1119.csv  1282.csv\r\n"
     ]
    }
   ],
   "source": [
    "# check which files are in  our directory\n",
    "!ls \"./small_files\"    "
   ]
  },
  {
   "cell_type": "code",
   "execution_count": 69,
   "metadata": {},
   "outputs": [],
   "source": [
    "df1.to_csv(r\"./small_files/\"+filename+\".csv\",index=None,header =True)"
   ]
  },
  {
   "cell_type": "markdown",
   "metadata": {},
   "source": []
  },
  {
   "cell_type": "code",
   "execution_count": 70,
   "metadata": {},
   "outputs": [
    {
     "name": "stdout",
     "output_type": "stream",
     "text": [
      "1009.csv  1119.csv  1282.csv\r\n"
     ]
    }
   ],
   "source": [
    "# check which files are in  our directory\n",
    "!ls \"./small_files\" "
   ]
  }
 ],
 "metadata": {
  "kernelspec": {
   "display_name": "Python 3",
   "language": "python",
   "name": "python3"
  },
  "language_info": {
   "codemirror_mode": {
    "name": "ipython",
    "version": 3
   },
   "file_extension": ".py",
   "mimetype": "text/x-python",
   "name": "python",
   "nbconvert_exporter": "python",
   "pygments_lexer": "ipython3",
   "version": "3.7.4"
  }
 },
 "nbformat": 4,
 "nbformat_minor": 2
}
