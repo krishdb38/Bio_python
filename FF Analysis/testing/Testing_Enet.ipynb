{
 "cells": [
  {
   "cell_type": "markdown",
   "metadata": {},
   "source": [
    "## One File for Testing Purpose"
   ]
  },
  {
   "cell_type": "markdown",
   "metadata": {},
   "source": [
    "### GenomomFF.py"
   ]
  },
  {
   "cell_type": "code",
   "execution_count": 1,
   "metadata": {},
   "outputs": [],
   "source": [
    "#Nrgc = GetNumber_rgc()  #WE GIVE THIS MANUALLY\n",
    "#!wc -l  > Number_rgc\n",
    "\n",
    "#Nsrl = GetNumber_srl() #WE  GIVE THIS MANUSALLY \n",
    "#!wc -l GC1806N2990_R1_V1_IonXpress_088.Fastq.sam.bam.sort.bam.rmdup.bam.sam.srl > Number_srl\n",
    "\n",
    "#Loesstest_rgc() #R SCRIPT CODE WE WILL RUN WITH PYTHON\n",
    "\n",
    "#Loesstest_srl() #RSCRIPT CODE \n",
    "#Arrangetest_rgc(Nrgc)\n",
    "#Arrangetest_srl(Nsrl)\n",
    "\n",
    "#Cal_enet_rgc()\n",
    "#Cal_enet_srl()\n",
    "\n",
    "#FINALLY CO RELATION\n",
    "#CalCor()"
   ]
  },
  {
   "cell_type": "code",
   "execution_count": 2,
   "metadata": {},
   "outputs": [],
   "source": [
    "#Total Line in rgc File, we use this Number in R code"
   ]
  },
  {
   "cell_type": "code",
   "execution_count": 3,
   "metadata": {
    "scrolled": true
   },
   "outputs": [
    {
     "name": "stdout",
     "output_type": "stream",
     "text": [
      "10333 GC1806N2885_R1_V1_IonXpress_057.Fastq.sam.bam.sort.bam.rmdup.bam.sam_rgc.csv\r\n"
     ]
    }
   ],
   "source": [
    "!wc -l GC1806N2885_R1_V1_IonXpress_057.Fastq.sam.bam.sort.bam.rmdup.bam.sam_rgc.csv"
   ]
  },
  {
   "cell_type": "code",
   "execution_count": 4,
   "metadata": {},
   "outputs": [],
   "source": [
    "#Total Line in srl File "
   ]
  },
  {
   "cell_type": "code",
   "execution_count": 5,
   "metadata": {},
   "outputs": [
    {
     "name": "stdout",
     "output_type": "stream",
     "text": [
      "3881 GC1806N2885_R1_V1_IonXpress_057.Fastq.sam.bam.sort.bam.rmdup.bam.sam.srl\r\n"
     ]
    }
   ],
   "source": [
    "!wc -l GC1806N2885_R1_V1_IonXpress_057.Fastq.sam.bam.sort.bam.rmdup.bam.sam.srl"
   ]
  },
  {
   "cell_type": "markdown",
   "metadata": {},
   "source": [
    "#### Lets Build a set of Function"
   ]
  },
  {
   "cell_type": "code",
   "execution_count": 6,
   "metadata": {},
   "outputs": [],
   "source": [
    "import pandas as pd \n",
    "import subprocess \n",
    "import os\n",
    "import sys\n",
    "from scipy import stats"
   ]
  },
  {
   "cell_type": "markdown",
   "metadata": {},
   "source": [
    "### Loesstest_rgc.py\n",
    "This R Code accept `rgcbininfo***` file as input,<br>\n",
    "From Bin info file it will abstract rgc bin file and through loop process (loop for all file in bininfo file) and give<br> Output File `ffyrgc***.csv` and `trgc***.csv` 2 File which is used later in ```      Code``` <br>\n",
    "**ffyrgc900.csv   trgc900.csv**"
   ]
  },
  {
   "cell_type": "code",
   "execution_count": 7,
   "metadata": {},
   "outputs": [],
   "source": [
    "def Loesstest_rgc():\n",
    "    cmd = ['Rscript','loessgctest.R'] #Try to give wrong file \n",
    "    try:\n",
    "        out = subprocess.Popen(cmd , stdout=subprocess.PIPE , stderr=subprocess.STDOUT)\n",
    "        stdout, stderr = out.communicate()\n",
    "        if stdout:\n",
    "            sys.stderr.write(stdout)\n",
    "            sys.exit(1)\n",
    "    except:\n",
    "        print(\"\")      "
   ]
  },
  {
   "cell_type": "code",
   "execution_count": 8,
   "metadata": {},
   "outputs": [
    {
     "name": "stdout",
     "output_type": "stream",
     "text": [
      "\n",
      "ffyrgc900.csv  ffysrl900.csv  trgc900.csv\r\n"
     ]
    },
    {
     "name": "stderr",
     "output_type": "stream",
     "text": [
      "[1] \"GC1806N2882\"\n",
      "[1] \"GC1806N2883\"\n",
      "[1] \"GC1806N2885\"\n",
      "[1] \"GC1806N2889\"\n",
      "[1] \"GC1806N2891\"\n"
     ]
    }
   ],
   "source": [
    "Loesstest_rgc() #Must  give File Name Manually \n",
    "!ls ffy* trgc*\n",
    "#!ls t*"
   ]
  },
  {
   "cell_type": "code",
   "execution_count": 9,
   "metadata": {},
   "outputs": [
    {
     "data": {
      "text/plain": [
       "'/BiO/Alba/Enet/Enet_github/testing'"
      ]
     },
     "execution_count": 9,
     "metadata": {},
     "output_type": "execute_result"
    }
   ],
   "source": [
    "import os\n",
    "os.getcwd()"
   ]
  },
  {
   "cell_type": "code",
   "execution_count": 10,
   "metadata": {},
   "outputs": [],
   "source": [
    "#!Rscript loessgctest.R"
   ]
  },
  {
   "cell_type": "markdown",
   "metadata": {},
   "source": [
    "## loesstest_srl.py\n",
    "###### Again we need to the same Process as above, `loesstest_srl.py` receive input file as **bininfo_list** \n",
    "##### and thorough sequencing(loop) and normalized process it produce  output file `ffysrl****.csv` and `tsr***.csv` file"
   ]
  },
  {
   "cell_type": "code",
   "execution_count": 11,
   "metadata": {},
   "outputs": [],
   "source": [
    "def Loesstest_srl():\n",
    "    cmd = ['Rscript', 'srlnormtest.R']\n",
    "    try:\n",
    "        out = subprocess.Popen(cmd , stdout=subprocess.PIPE , stderr=subprocess.STDOUT)\n",
    "        stdout, stderr = out.communicate()\n",
    "        if stdout:\n",
    "            sys.stderr.write(stdout)\n",
    "            sys.exit(1)\n",
    "    except:\n",
    "        print(\"\")"
   ]
  },
  {
   "cell_type": "code",
   "execution_count": 12,
   "metadata": {},
   "outputs": [
    {
     "name": "stdout",
     "output_type": "stream",
     "text": [
      "\n",
      "ffysrl900.csv  tsrl900.csv\r\n"
     ]
    },
    {
     "name": "stderr",
     "output_type": "stream",
     "text": [
      "[1] \"GC1806N2882\"\n",
      "[1] \"GC1806N2883\"\n",
      "[1] \"GC1806N2885\"\n",
      "[1] \"GC1806N2889\"\n",
      "[1] \"GC1806N2891\"\n"
     ]
    }
   ],
   "source": [
    "Loesstest_srl()\n",
    "!ls ffysrl* tsr*"
   ]
  },
  {
   "cell_type": "code",
   "execution_count": 13,
   "metadata": {
    "scrolled": true
   },
   "outputs": [],
   "source": [
    "#Run  R script Manually from Jupyter Notebook\n",
    "#!Rscript srlnormtest.R"
   ]
  },
  {
   "cell_type": "markdown",
   "metadata": {},
   "source": [
    "###### ##-------------------------------------------------------------------------------------------------------------------------------------------------##"
   ]
  },
  {
   "cell_type": "markdown",
   "metadata": {},
   "source": [
    "## Arrangetest_rgc.py \n",
    "Receive `ffyrgc****.csv` file and `trgc8888.csv` file as input and give Output `temptestrgc` "
   ]
  },
  {
   "cell_type": "code",
   "execution_count": 14,
   "metadata": {},
   "outputs": [],
   "source": [
    "def Arrangetest_rgc():\n",
    "    sp = {}\n",
    "    ip = 'ffyrgc900.csv'\n",
    "    input = open(ip,'r')\n",
    "    check = 0\n",
    "    for line in input:\n",
    "        #pdb.set_trace()\n",
    "        arr = str.split(line,',')\n",
    "        if check > 0:\n",
    "            key = check\n",
    "            if key not in sp:\n",
    "                sp[key] = []\n",
    "            sp[key].append(arr[1][:-1])\n",
    "        check += 1\n",
    "\n",
    "    ip = 'trgc900.csv'\n",
    "    input = open(ip,'r')\n",
    "    check = 0\n",
    "    for line in input:\n",
    "        #pdb.set_trace()\n",
    "        arr = str.split(line,',')\n",
    "        if check > 0:\n",
    "            key = check\n",
    "            for k in range(1, len(arr)):\n",
    "                if key not in sp:\n",
    "                    sp[key] = []\n",
    "                \n",
    "                if k == len(arr)-1:\n",
    "                    sp[key].append(arr[k][:-1])\n",
    "                else:\n",
    "                    sp[key].append(arr[k])\n",
    "        check += 1\n",
    "    out = 'temptestrgc'\n",
    "    output = open(out,'w')\n",
    "    for x in range(1, len(sp.keys())+1):\n",
    "        output.write(str(sp[x][0])+',')\n",
    "    #pdb.set_trace()\n",
    "        for y in range(1, len(sp[x])):\n",
    "        #pdb.set_trace()\n",
    "            if y == len(sp[x])-1:\n",
    "                output.write(sp[x][y]+'\\n')\n",
    "            else:\n",
    "                output.write(sp[x][y]+',')\n",
    "    output.close()\n",
    "    \n",
    "    #The above Codes Will Create temptestrgc file\n",
    "    #temptestrgc file must be change in to y and x variable (temptestrgcy , temptestrgcrf)\n",
    "    \n",
    "    df = pd.read_csv(\"temptestrgc\",header = None,) #since the file in same Folder\n",
    "    \n",
    "    (df.iloc[:,0]).to_csv(\"temptestrgcy\",index = None ,header = False ) \n",
    "    #Write First Column to temptestrgcy file\n",
    "    \n",
    "    (df.iloc[:,1:]).to_csv(\"temptestrgcrf\" ,index = None , header = False) #All column except 1\n",
    "    #write a whole file from col 1 to end "
   ]
  },
  {
   "cell_type": "code",
   "execution_count": 15,
   "metadata": {},
   "outputs": [
    {
     "name": "stdout",
     "output_type": "stream",
     "text": [
      "temptestrgc    temptestrgcy  temptestsrlrf  temptrainparargc.csv\r\n",
      "temptestrgcrf  temptestsrl   temptestsrly   temptrainparasrl.csv\r\n"
     ]
    }
   ],
   "source": [
    "#Call the Arrangetest_rgc() function\n",
    "Arrangetest_rgc()  #Output temptestrgc , temptestrgcy  ,temptestrgcrf\n",
    "!ls tempt*\n",
    "#We Created 3 File with this Code "
   ]
  },
  {
   "cell_type": "markdown",
   "metadata": {},
   "source": [
    "## arrangetest_srl()\n",
    "arrangetest process for srl file, get 2 seprate file ffysrl****.csv and tsrl****.csv and produce one main and 2 sub files (dependent and non dependent variable)"
   ]
  },
  {
   "cell_type": "code",
   "execution_count": 16,
   "metadata": {},
   "outputs": [],
   "source": [
    "import pandas as pd"
   ]
  },
  {
   "cell_type": "code",
   "execution_count": 17,
   "metadata": {
    "scrolled": true
   },
   "outputs": [],
   "source": [
    "def Arrangetest_srl():\n",
    "    df_y = pd.read_csv(\"ffysrl900.csv\",usecols=[1])\n",
    "    df_y.to_csv(\"temptestsrly\",index =False)\n",
    "\n",
    "    df_x = pd.read_csv(\"tsrl900.csv\")\n",
    "    df_x = df_x.drop(columns=[\"Unnamed: 0\"])\n",
    "    df_x.to_csv(\"temptestsrlrf\",index =False)\n",
    "\n",
    "    merge = pd.concat([df_y,df_x], axis=1)\n",
    "    merge.to_csv(\"temptestsrl\")"
   ]
  },
  {
   "cell_type": "code",
   "execution_count": 18,
   "metadata": {
    "scrolled": true
   },
   "outputs": [
    {
     "name": "stdout",
     "output_type": "stream",
     "text": [
      "temptestrgc    temptestrgcy  temptestsrlrf\r\n",
      "temptestrgcrf  temptestsrl   temptestsrly\r\n"
     ]
    }
   ],
   "source": [
    "#Call the Function  # temptestsrly  , temptestsrlrf  , temptestsrl , \n",
    "\n",
    "Arrangetest_srl()\n",
    "#!rm temptestsrly temptestsrlrf temptestsrl\n",
    "!ls temptest*"
   ]
  },
  {
   "cell_type": "markdown",
   "metadata": {},
   "source": [
    "###### ##-------------------------------------------------------------------------------------------------------------------------------------------------##"
   ]
  },
  {
   "cell_type": "markdown",
   "metadata": {},
   "source": [
    "### cal_enet.py\n",
    "Through cal_ent.py We are running `Rscript calenetrgc.R` where we put N = 10333 Manually in R source Code,\n",
    "**calenetrgc.R** get input file **temptrainparargc.csv** as input and give Output file **enetrgc.csv**"
   ]
  },
  {
   "cell_type": "code",
   "execution_count": 19,
   "metadata": {},
   "outputs": [],
   "source": [
    "#input y = temptestrgcy\n",
    "#input y = temptestrgcrf\n",
    "#out = enetrgc.csv"
   ]
  },
  {
   "cell_type": "code",
   "execution_count": 20,
   "metadata": {
    "scrolled": true
   },
   "outputs": [],
   "source": [
    "#!Rscript cal_enetrgc.R"
   ]
  },
  {
   "cell_type": "code",
   "execution_count": 21,
   "metadata": {},
   "outputs": [],
   "source": [
    "def cal_enet_rgc():\n",
    "    cmd = ['Rscript', 'cal_enetrgc.R']\n",
    "    try:\n",
    "        out = subprocess.Popen(cmd , stdout=subprocess.PIPE ,stderr=subprocess.STDOUT)\n",
    "        stdout, stderr = out.communicate()\n",
    "        if stdout:\n",
    "            sys.stderr.write(stdout)\n",
    "            sys.exit(1)\n",
    "            \n",
    "        print(\"srlnormtrain.R Ran Successfully\")\n",
    "    except:\n",
    "        print(\"\")"
   ]
  },
  {
   "cell_type": "code",
   "execution_count": 22,
   "metadata": {},
   "outputs": [
    {
     "name": "stdout",
     "output_type": "stream",
     "text": [
      "\n",
      "enetrgc.csv\r\n"
     ]
    },
    {
     "name": "stderr",
     "output_type": "stream",
     "text": [
      "Loading required package: Matrix\n",
      "Loading required package: foreach\n",
      "Loaded glmnet 2.0-8\n",
      "\n",
      "[1] \"#########1.bininfo_file check\"\n",
      "[1] \"#########2.gmlnet parameter\"\n",
      "[1] \"#########3.Matrix\"\n"
     ]
    }
   ],
   "source": [
    "cal_enet_rgc() #Will Create file\n",
    "! ls enetrg*"
   ]
  },
  {
   "cell_type": "code",
   "execution_count": 23,
   "metadata": {},
   "outputs": [
    {
     "name": "stdout",
     "output_type": "stream",
     "text": [
      "Loading required package: Matrix\n",
      "Loading required package: foreach\n",
      "Loaded glmnet 2.0-8\n",
      "\n",
      "[1] \"#########1.bininfo_file check\"\n",
      "[1] \"#########2.gmlnet parameter\"\n",
      "[1] \"#########3.Matrix\"\n"
     ]
    }
   ],
   "source": [
    "!Rscript cal_enetrgc.R"
   ]
  },
  {
   "cell_type": "markdown",
   "metadata": {},
   "source": [
    "## Cal_enet_srl.py()"
   ]
  },
  {
   "cell_type": "code",
   "execution_count": 24,
   "metadata": {},
   "outputs": [],
   "source": [
    "#input y = temptestsrly\n",
    "#rf =  temptestsrlrf\n",
    "#Output = enetsrl.csv"
   ]
  },
  {
   "cell_type": "code",
   "execution_count": 25,
   "metadata": {},
   "outputs": [],
   "source": [
    "def Cal_enet_srl():\n",
    "    cmd = ['Rscript', 'cal_enetsrl.R']\n",
    "    try:\n",
    "        out = subprocess.Popen(cmd , stdout=subprocess.PIPE ,stderr=subprocess.STDOUT)\n",
    "        stdout, stderr = out.communicate()\n",
    "        print(stdout)\n",
    "        if stdout:\n",
    "            sys.stderr.write(stdout)\n",
    "            sys.exit(1)\n",
    "        print(\"srlnormtrain.R Ran Successfully\")\n",
    "    except:\n",
    "        print(\"\")\n",
    "        #no need Except "
   ]
  },
  {
   "cell_type": "code",
   "execution_count": 26,
   "metadata": {},
   "outputs": [
    {
     "name": "stdout",
     "output_type": "stream",
     "text": [
      "ls: cannot access 'enetsr*': No such file or directory\r\n"
     ]
    }
   ],
   "source": [
    "#Cal_enet_srl()\n",
    "! ls enetsr*"
   ]
  },
  {
   "cell_type": "code",
   "execution_count": 27,
   "metadata": {},
   "outputs": [
    {
     "name": "stdout",
     "output_type": "stream",
     "text": [
      "Loading required package: Matrix\n",
      "Loading required package: foreach\n",
      "Loaded glmnet 2.0-8\n",
      "\n",
      "[1] \"#########1.bininfo_file check\"\n",
      "[1] \"#########2.gmlnet parameter\"\n",
      "[1] \"#########3.Matrix\"\n",
      "Error in x[i, ] %*% beta : \n",
      "  requires numeric/complex matrix/vector arguments\n",
      "Execution halted\n"
     ]
    }
   ],
   "source": [
    "!Rscript cal_enetsrl.R"
   ]
  },
  {
   "cell_type": "markdown",
   "metadata": {},
   "source": [
    "## CalCor .py\n"
   ]
  },
  {
   "cell_type": "code",
   "execution_count": 28,
   "metadata": {},
   "outputs": [],
   "source": [
    "def CalCOR():\n",
    "    sp1 = {}            #Blank Container\n",
    "    ip = 'enetrgc.csv'  #\n",
    "    input = open(ip,'r')\n",
    "    check = 0\n",
    "    for line in input:\n",
    "        #pdb.set_trace()\n",
    "        arr = str.split(line,',')\n",
    "        if check > 0:\n",
    "            key = check\n",
    "            \n",
    "            if key not in sp1:\n",
    "                sp1[key] = []\n",
    "            sp1[key].append(float(arr[2][:-1]))\n",
    "            sp1[key].append(float(arr[1]))\n",
    "        check += 1\n",
    "\n",
    "    sp2 = {}\n",
    "    ip = 'enetsrl.csv'\n",
    "    input = open(ip,'r')\n",
    "    check = 0\n",
    "    for line in input:\n",
    "        #pdb.set_trace()\n",
    "        arr = str.split(line,',')\n",
    "        \n",
    "        if check > 0:\n",
    "            key = check\n",
    "            if key not in sp2:\n",
    "                sp2[key] = []\n",
    "            sp2[key].append(float(arr[2][:-1]))\n",
    "            sp2[key].append(float(arr[1]))\n",
    "        check += 1\n",
    "\n",
    "    output = open(\"corr_out\", 'a')\n",
    "    \n",
    "    output.write('Number'+'\\t'+'Standard FF'+'\\t'+'Predicted FF'+'\\n')\n",
    "    sf = []\n",
    "    cf = []\n",
    "    for x in range(len(sp1)):\n",
    "        sf.append(sp1[x+1][0])\n",
    "        cf.append((sp1[x+1][1]+sp2[x+1][1])/2)\n",
    "        output.write(str(x+1)+'\\t'+str(sp1[x+1][0])+'\\t'+str((sp1[x+1][1]+sp2[x+1][1])/2)+'\\n')\n",
    "\n",
    "    cor = stats.pearsonr(sf, cf)\n",
    "    output.write('#########################################'+'\\n')\n",
    "    output.write('Correlation:'+' '+str(cor[0])+'\\n')\n",
    "    output.close()"
   ]
  },
  {
   "cell_type": "code",
   "execution_count": 29,
   "metadata": {},
   "outputs": [],
   "source": [
    "#CalCOR() #out Put File corr_out"
   ]
  },
  {
   "cell_type": "markdown",
   "metadata": {},
   "source": [
    "### Arrangetest_rgc.py"
   ]
  },
  {
   "cell_type": "code",
   "execution_count": 30,
   "metadata": {},
   "outputs": [],
   "source": [
    "def Arrangetest_rgc():\n",
    "    sp = {}\n",
    "    ip = 'ffyrgc900.csv'\n",
    "    input = open(ip,'r')\n",
    "    check = 0\n",
    "    for line in input:\n",
    "        #pdb.set_trace()\n",
    "        arr = str.split(line,',')\n",
    "        if check > 0:\n",
    "            key = check\n",
    "            if key not in sp:\n",
    "                sp[key] = []\n",
    "            sp[key].append(arr[1][:-1])\n",
    "        check += 1\n",
    "\n",
    "    ip = 'trgc900.csv'\n",
    "    input = open(ip,'r')\n",
    "    check = 0\n",
    "    for line in input:\n",
    "        #pdb.set_trace()\n",
    "        arr = str.split(line,',')\n",
    "        if check > 0:\n",
    "            key = check\n",
    "            for k in range(1, len(arr)):\n",
    "                if not sp.has_key(key):\n",
    "                    sp[key] = []\n",
    "                \n",
    "                if k == len(arr)-1:\n",
    "                    sp[key].append(arr[k][:-1])\n",
    "                else:\n",
    "                    sp[key].append(arr[k])\n",
    "        check += 1\n",
    "\n",
    "\n",
    "    out = 'temptestrgc'\n",
    "    output = open(out,'w')\n",
    "    for x in range(1, len(sp.keys())+1):\n",
    "        output.write(str(sp[x][0])+',')\n",
    "    #pdb.set_trace()\n",
    "        for y in range(1, len(sp[x])):\n",
    "        #pdb.set_trace()\n",
    "            if y == len(sp[x])-1:\n",
    "                output.write(sp[x][y]+'\\n')\n",
    "            else:\n",
    "                output.write(sp[x][y]+',')\n",
    "    output.close()\n",
    "    \n",
    "    #The above Codes Will Create temptestrgc file\n",
    "    #temptestrgc file must be change in to y and x variable (temptestrgcy , temptestrgcrf)\n",
    "    \n",
    "    df = pd.read_csv(\"temptestrgc\",header = None,) #since the file in same Folder\n",
    "    \n",
    "    (df.iloc[:,0]).to_csv(\"temptestrgcy\",index = None ,header = False ) \n",
    "    #Write First Column to temptestrgcy file\n",
    "    \n",
    "    (df.iloc[:,1:]).to_csv(\"temptrainrf\" ,index = None , header = False) #All column except 1\n",
    "    #write a whole file from col 1 to end "
   ]
  },
  {
   "cell_type": "markdown",
   "metadata": {},
   "source": [
    "### Arrangetest_srl()"
   ]
  },
  {
   "cell_type": "code",
   "execution_count": 31,
   "metadata": {},
   "outputs": [],
   "source": [
    "#It is better to keep arrangetest_srl.py in another fiel and import as Module\n",
    "def Arrangetest_srl():\n",
    "    sp = {}\n",
    "    ip = 'ffysrl900.csv'\n",
    "    input = open(ip,'r')\n",
    "    check = 0\n",
    "    for line in input:\n",
    "        arr = str.split(line,',')\n",
    "        if check > 0:\n",
    "            key = check\n",
    "            if key not in sp:\n",
    "                sp[key] = []\n",
    "            sp[key].append(arr[1][:-1])\n",
    "        check += 1\n",
    "\n",
    "    ip = 'tsrl900.csv'\n",
    "    input = open(ip,'r')\n",
    "    check = 0\n",
    "    for line in input:\n",
    "        arr = str.split(line,',')\n",
    "        if check > 0:\n",
    "            key = check\n",
    "            for k in range(1, len(arr)):\n",
    "                \n",
    "                if key not in sp:\n",
    "                    sp[key] = []\n",
    "                if k == len(arr)-1:\n",
    "                    sp[key].append(arr[k][:-1])\n",
    "                else:\n",
    "                    sp[key].append(arr[k])\n",
    "        check += 1\n",
    "\n",
    "    out = 'temptestsrl'\n",
    "    output = open(out,'w')\n",
    "    for x in range(1, len(sp.keys())+1):\n",
    "        output.write(str(sp[x][0])+',')\n",
    "        for y in range(1, len(sp[x])):\n",
    "            if y == len(sp[x])-1:\n",
    "                output.write(sp[x][y]+'\\n')\n",
    "        else:\n",
    "            output.write(sp[x][y]+',')\n",
    "    output.close()\n",
    "    \n",
    "    #######################################################################################################\n",
    "    ################# Since temptestsrl file Created lets do x and Y variable#############################\n",
    "    \n",
    "    df = pd.read_csv(\"temptestsrl\",header = None,) #since the file in same Folder\n",
    "    \n",
    "    (df.iloc[:,0]).to_csv(\"temptestsrly\",index = None ,header = False ) \n",
    "    #Write First Column to temptestrgcy file\n",
    "    \n",
    "    (df.iloc[:,1:]).to_csv(\"temptestsrlf\" ,index = None , header = False) #All column except 1\n",
    "    #write a whole file from col 1 to end "
   ]
  },
  {
   "cell_type": "code",
   "execution_count": 32,
   "metadata": {},
   "outputs": [],
   "source": [
    "# Lests Check srlist File \n",
    "#! ls -alh *.srl > srlist  #This can also be update by Python os mudule"
   ]
  },
  {
   "cell_type": "code",
   "execution_count": 33,
   "metadata": {},
   "outputs": [],
   "source": [
    "import os\n",
    "def Check(last_6_character=\"sam.srl\"): #sam.srl or rgc.csv\n",
    "    y = os.listdir()\n",
    "    ln =0\n",
    "    for i in y:\n",
    "        #print(i[-7:])\n",
    "        if i[-7:]==last_6_character:\n",
    "            ln +=1\n",
    "    return ln"
   ]
  },
  {
   "cell_type": "code",
   "execution_count": 34,
   "metadata": {},
   "outputs": [
    {
     "data": {
      "text/plain": [
       "5"
      ]
     },
     "execution_count": 34,
     "metadata": {},
     "output_type": "execute_result"
    }
   ],
   "source": [
    "#Check(\"rgc.csv\") #default is sam.srl\n",
    "Check()"
   ]
  },
  {
   "cell_type": "markdown",
   "metadata": {},
   "source": [
    "## Define Remove ()"
   ]
  },
  {
   "cell_type": "code",
   "execution_count": null,
   "metadata": {},
   "outputs": [],
   "source": []
  }
 ],
 "metadata": {
  "kernelspec": {
   "display_name": "Python 3",
   "language": "python",
   "name": "python3"
  },
  "language_info": {
   "codemirror_mode": {
    "name": "ipython",
    "version": 3
   },
   "file_extension": ".py",
   "mimetype": "text/x-python",
   "name": "python",
   "nbconvert_exporter": "python",
   "pygments_lexer": "ipython3",
   "version": "3.7.4"
  }
 },
 "nbformat": 4,
 "nbformat_minor": 2
}
