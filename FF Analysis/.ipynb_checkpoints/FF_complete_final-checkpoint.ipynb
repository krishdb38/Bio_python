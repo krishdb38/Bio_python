{
 "cells": [
  {
   "cell_type": "code",
   "execution_count": null,
   "metadata": {},
   "outputs": [],
   "source": [
    "def get_status_output(*args, **kwargs):  \n",
    "    try:\n",
    "        p = subprocess.Popen(*args, **kwargs)\n",
    "        stdout, stderr = p.communicate()\n",
    "        stderr= p.STDOUT\n",
    "        if p.returncode:\n",
    "            print(stderr)\n",
    "            print(\"Some Error rises\")\n",
    "        else:\n",
    "            print(\"Run Successfully\")\n",
    "    except:\n",
    "        print(\"Check the file and path\")\n",
    "        \n",
    "    #return p.returncode, stdout, stderr\n",
    "#If you want stdout and stderr together, use stderr=subprocess.STDOUT."
   ]
  },
  {
   "cell_type": "markdown",
   "metadata": {},
   "source": [
    "## Python Code Collection for Research Paper \n",
    "<h1 style=\"font-size:200%;color:blue;background:gold\">Effective method to measure  fetal fraction by personalised machine learning with optimally selected autosomal chromosome regions</h1>\n",
    "\n",
    "### **Sunshin Kim , Adh Krishna **"
   ]
  },
  {
   "cell_type": "markdown",
   "metadata": {},
   "source": [
    "` Since the Fastaq , Sam/Bam file take huge Memory and also for Privacy Problem It is difficult to upload in Row File in Git Hub`"
   ]
  },
  {
   "cell_type": "markdown",
   "metadata": {},
   "source": [
    "<h1 style=\"font-size:300%;color:blue;background:gold\"> FF code in one place</h1>\n"
   ]
  },
  {
   "cell_type": "markdown",
   "metadata": {},
   "source": [
    "# Step.1 --> Convert  sam file to sam_rgc.csv\n",
    "#### input File `GC1809N4620_R2_V1_IonXpress_080.Fastq.sam.bam.sort.bam.rmdup.bam` in `sam_file` folder in Same directory <br>\n",
    "#### Output File `GC1809N4620_R2_V1_IonXpress_080.Fastq.sam.bam.sort.bam.rmdup.bam_rgc` in RGC300K folder inside test \n",
    "\n",
    "# ```**nfGCrange.py**```\n",
    "\n",
    "<p style=\"color:blue;\">This is a Python Script which Acccept a sam a big file default Bin size is 300k  and default fkbin is 50k <br>\n",
    "This script with function **sam_2_src** is helpful to convert sam to sam_src file <br></p>"
   ]
  },
  {
   "cell_type": "code",
   "execution_count": 12,
   "metadata": {},
   "outputs": [],
   "source": [
    "import sys\n",
    "import getopt\n",
    "import pdb\n",
    "\n",
    "#Define a function to convert sam_file to sam_rgc.csv Format\n",
    "\n",
    "def sam_2_src(sam_file_name ,output_folder =\"./test/RGC300K/\" , Bin_ =300000 , fkbin_ = 50000):\n",
    "    \n",
    "    var1 =sam_file_name    #User input\n",
    "    out = var1[8:] #sam_file/ Total * character\n",
    "    \n",
    "    list_input = open(sam_file_name,'r') #Read SAM File\n",
    "    list_text = list_input.readlines()  #Read Line by Line and store in list format values\n",
    "\n",
    "    output = open(output_folder+out+'_rgc.csv', 'w')  #Save file\n",
    "    rd = a1 = c1 = g1 = t1 =0\n",
    "\n",
    "    Bin = Bin_ #30K\n",
    "    fkbin = fkbin_ #gap in read\n",
    "    mx = [4985*fkbin/Bin, 4863*fkbin/Bin, 3960*fkbin/Bin, 3823*fkbin/Bin, 3618*fkbin/Bin, 3422*fkbin/Bin, 3182*fkbin/Bin,\\\n",
    "          2927*fkbin/Bin, 2824*fkbin/Bin,2710*fkbin/Bin, 2700*fkbin/Bin, 2677*fkbin/Bin, 2303*fkbin/Bin, 2146*fkbin/Bin,\\\n",
    "          2050*fkbin/Bin, 1807*fkbin/Bin, 1623*fkbin/Bin, 1561*fkbin/Bin,1182*fkbin/Bin, 1260*fkbin/Bin, 962*fkbin/Bin, \\\n",
    "          1026*fkbin/Bin, 3105*fkbin/Bin, 1187*fkbin/Bin]\n",
    "\n",
    "    sp = {}\n",
    "    for x in range(22):\n",
    "    #pdb.set_trace()\n",
    "        for y in range(int(mx[x])+1):\n",
    "            key = 'chr'+str(x+1)+\"_\"+str(y)\n",
    "        #if not sp.has_key(key): #this is python 2\n",
    "            if key not in sp:\n",
    "        #if key in sp:\n",
    "                 sp[key] = []  #Blank Container\n",
    "            sp[key].append(key)\n",
    "            sp[key].append(rd)\n",
    "            sp[key].append(a1)\n",
    "            sp[key].append(c1)\n",
    "            sp[key].append(g1)\n",
    "            sp[key].append(t1)\n",
    "            \n",
    "    for y in range(int(mx[22]+1)):\n",
    "        key = \"chrX\"+\"_\"+str(y)\n",
    "        if key not in sp:\n",
    "            sp[key] = [] #Blank Container to store New Value\n",
    "        sp[key].append(key)\n",
    "        sp[key].append(rd)\n",
    "        sp[key].append(a1)\n",
    "        sp[key].append(c1)\n",
    "        sp[key].append(g1)\n",
    "        sp[key].append(t1)\n",
    "\n",
    "    for y in range(int(mx[23]+1)):\n",
    "        key = \"chrY\"+\"_\"+str(y)\n",
    "        if not key in sp:\n",
    "            sp[key] = [] #Blank Container to store new Value\n",
    "        sp[key].append(key)\n",
    "        sp[key].append(rd)\n",
    "        sp[key].append(a1)\n",
    "        sp[key].append(c1)\n",
    "        sp[key].append(g1)\n",
    "        sp[key].append(t1)\n",
    "\n",
    "    for line in list_text:\n",
    "    #pdb.set_trace()\n",
    "        arr = line.split()\n",
    "        try:\n",
    "            temp = int(arr[3])/Bin   #we define bin is 300K\n",
    "            temp = int(temp)\n",
    "            key = arr[2]+'_'+str(temp)   #arr[2] is chromosome name like chr1 \n",
    "            if key == sp[key][0]:\n",
    "                sp[key][1] += 1\n",
    "                for k in range(len(arr[9])):\n",
    "                    if arr[9][k] == 'A':\n",
    "                        sp[key][2] += 1\n",
    "                    elif arr[9][k] == 'C':\n",
    "                        sp[key][3] += 1\n",
    "                    elif arr[9][k] == 'G':\n",
    "                        sp[key][4] += 1\n",
    "                    elif arr[9][k] == 'T':\n",
    "                        sp[key][5] += 1\n",
    "\n",
    "        except:\n",
    "              pass \n",
    "\n",
    "    output.write('\"binName\"'+','+'\"CHR\"'+','+'\"end\"'+','+'\"counts\"'+','+'\"nGC\"'+'\\n')\n",
    "    for x in range(1, 23):\n",
    "        for y in range(int(mx[x-1])+1):\n",
    "            key = \"chr\"+str(x)+'_'+str(y)\n",
    "            count = sp[key][1]\n",
    "            a1 = sp[key][2]\n",
    "            c1 = sp[key][3]\n",
    "            g1 = sp[key][4]\n",
    "            t1 = sp[key][5]\n",
    "            if a1 == 0 and c1 == 0 and g1 == 0 and t1 == 0:\n",
    "                output.write(\"chr\"+str(x)+'_'+str(y)+','+\"chr\"+str(x)+','+str(Bin*(y+1))+','+str(0)+','+str(0)+'\\n')\n",
    "            else:\n",
    "                output.write(\"chr\"+str(x)+'_'+str(y)+','+\"chr\"+str(x)+','+str(Bin*(y+1))+','+str(count)+','+str(float(c1+g1)/float(a1+c1+g1+t1))+'\\n')\n",
    "\n",
    "    for y in range(int(mx[22]+1)):\n",
    "        key = \"chrX\"+'_'+str(y)\n",
    "        count = sp[key][1]\n",
    "        a1 = sp[key][2]\n",
    "        c1 = sp[key][3]\n",
    "        g1 = sp[key][4]\n",
    "        t1 = sp[key][5]\n",
    "        if a1 == 0 and c1 == 0 and g1 == 0 and t1 == 0:\n",
    "            output.write(\"chrX\"+'_'+str(y)+','+\"chrX\"+','+str(Bin*(y+1))+','+str(0)+','+str(0)+'\\n')\n",
    "        else:\n",
    "            output.write(\"chrX\"+'_'+str(y)+','+\"chrX\"+','+str(Bin*(y+1))+','+str(count)+','+str(float(c1+g1)/float(a1+c1+g1+t1))+'\\n')\n",
    "\n",
    "    for y in range(int(mx[23]+1)):\n",
    "        key = \"chrY\"+'_'+str(y)\n",
    "        count = sp[key][1]\n",
    "        a1 = sp[key][2]\n",
    "        c1 = sp[key][3]\n",
    "        g1 = sp[key][4]\n",
    "        t1 = sp[key][5]\n",
    "        if a1 == 0 and c1 == 0 and g1 == 0 and t1 == 0:\n",
    "            output.write(\"chrY\"+'_'+str(y)+','+\"chrY\"+','+str(Bin*(y+1))+','+str(0)+','+str(0)+'\\n')\n",
    "        else:\n",
    "            output.write(\"chrY\"+'_'+str(y)+','+\"chrY\"+','+str(Bin*(y+1))+','+str(count)+','+str(float(c1+g1)/float(a1+c1+g1+t1))+'\\n')\n",
    "\n",
    "    output.close()\n",
    "    #Thank you  "
   ]
  },
  {
   "cell_type": "markdown",
   "metadata": {},
   "source": [
    "#### The above code will convert sam_file to sam_rgc.csv Format"
   ]
  },
  {
   "cell_type": "code",
   "execution_count": 68,
   "metadata": {},
   "outputs": [],
   "source": [
    "# Function developed for Step One and can be called in For Loop"
   ]
  },
  {
   "cell_type": "code",
   "execution_count": 5,
   "metadata": {},
   "outputs": [
    {
     "name": "stdout",
     "output_type": "stream",
     "text": [
      "FF_complete_final.ipynb  sam_file  test\r\n"
     ]
    }
   ],
   "source": [
    "! ls #check Files and Folder"
   ]
  },
  {
   "cell_type": "code",
   "execution_count": 13,
   "metadata": {
    "scrolled": true
   },
   "outputs": [],
   "source": [
    "#Uncomment this to check\n",
    "sam_2_src(\"sam_file/GC1809N4620_R2_V1_IonXpress_080.Fastq.sam.bam.sort.bam.rmdup.bam.sam\")\n",
    "#Check the file in test/ Location and compare with linux\n",
    "#For multiple file wecan Use Loop in same directory"
   ]
  },
  {
   "cell_type": "markdown",
   "metadata": {},
   "source": [
    "\n",
    "<h1 style=\"font-size:300%;color:blue;background:gold\"> Step 2  rlrange.py </h1>\n",
    "\n",
    "\n",
    "In this step **rlrange.py** will help us to convert sam file to sam_srl format <br>\n",
    "here also default Bin size is 800K and default fkbin is 50K `Note:User can change these Value by passing argument`\n",
    "<br> In this step also Code will receive `sam` File as Input and convert `sam_sr`l file in /test/SRL300k/ folder"
   ]
  },
  {
   "cell_type": "code",
   "execution_count": 20,
   "metadata": {},
   "outputs": [],
   "source": [
    "#!/usr/bin/python\n",
    "import sys\n",
    "\n",
    "def sam_to_srl(sam_file_name,output_folder = \"./test/SRL800K/\" , Bin = 800000,fkbin = 50000):\n",
    "    var1 = sam_file_name\n",
    "    out = sam_file_name[9:] #sam_file/ == 8 Character\n",
    "    Bin = 800000\n",
    "    fkbin = 50000\n",
    "    \n",
    "    #open the File\n",
    "    list_input = open(var1,'r')\n",
    "    list_text = list_input.readlines()\n",
    "    output = open(output_folder+out+'.srl', 'w')\n",
    "    rd = srd = 0\n",
    "    \n",
    "\n",
    "    mx = [4985*fkbin/Bin, 4863*fkbin/Bin, 3960*fkbin/Bin, 3823*fkbin/Bin, 3618*fkbin/Bin, 3422*fkbin/Bin, 3182*fkbin/Bin, 2927*fkbin/Bin, 2824*fkbin/Bin, 2710*fkbin/Bin, 2700*fkbin/Bin, 2677*fkbin/Bin, 2303*fkbin/Bin, 2146*fkbin/Bin, 2050*fkbin/Bin, 1807*fkbin/Bin, 1623*fkbin/Bin, 1561*fkbin/Bin, 1182*fkbin/Bin, 1260*fkbin/Bin, 962*fkbin/Bin, 1026*fkbin/Bin, 3105*fkbin/Bin, 1187*fkbin/Bin]\n",
    "\n",
    "    sp = {}\n",
    "    for x in range(22):\n",
    "        \n",
    "        for y in range(int(mx[x])+1): #Converted to Integer\n",
    "            key = 'chr'+str(x+1)+\"_\"+str(y)\n",
    "            if key not in sp:\n",
    "                 sp[key] = []\n",
    "            sp[key].append(key)\n",
    "            sp[key].append(rd)\n",
    "            sp[key].append(srd)\n",
    "\n",
    "    for y in range(int(mx[22])+1):\n",
    "        key = \"chrX\"+\"_\"+str(y)\n",
    "        if key not in sp:\n",
    "             sp[key] = []\n",
    "        sp[key].append(key)\n",
    "        sp[key].append(rd)\n",
    "        sp[key].append(srd)\n",
    "\n",
    "    for y in range(int(mx[23])+1):\n",
    "        key = \"chrY\"+\"_\"+str(y)\n",
    "        if key not in sp:\n",
    "             sp[key] = []\n",
    "        sp[key].append(key)\n",
    "        sp[key].append(rd)\n",
    "        sp[key].append(srd)\n",
    "\n",
    "    for line in list_text:\n",
    "        arr = line.split()\n",
    "        try:\n",
    "            temp = int(arr[3])/Bin\n",
    "            temp = int(temp)\n",
    "            key = arr[2]+'_'+str(temp)\n",
    "            if key == sp[key][0]:\n",
    "                sp[key][1] += 1\n",
    "                if len(arr[9]) < 150:\n",
    "                      sp[key][2] += 1\n",
    "\n",
    "        except:\n",
    "              pass \n",
    "\n",
    "    output.write('\"binName\"'+','+'\"CHR\"'+','+'\"end\"'+','+'\"rrl\"'+'\\n')\n",
    "    for x in range(1, 23):\n",
    "        for y in range(int(mx[x-1])+1):\n",
    "            key = \"chr\"+str(x)+'_'+str(y)\n",
    "            count = sp[key][1]\n",
    "            srcount = sp[key][2]\n",
    "            if count == 0 and srcount == 0:\n",
    "                output.write(\"chr\"+str(x)+'_'+str(y)+','+\"chr\"+str(x)+','+str(Bin*(y+1))+','+str(0)+'\\n')\n",
    "            else:\n",
    "                output.write(\"chr\"+str(x)+'_'+str(y)+','+\"chr\"+str(x)+','+str(Bin*(y+1))+','+str(float(srcount)/float(count))+'\\n')\n",
    "\n",
    "    for y in range(int(mx[22])+1):\n",
    "        key = \"chrX\"+'_'+str(y)\n",
    "        count = sp[key][1]\n",
    "        srcount = sp[key][2]\n",
    "        if count == 0 and srcount == 0:\n",
    "            output.write(\"chrX\"+'_'+str(y)+','+\"chrX\"+','+str(Bin*(y+1))+','+str(0)+'\\n')\n",
    "        else:\n",
    "            output.write(\"chrX\"+'_'+str(y)+','+\"chrX\"+','+str(Bin*(y+1))+','+str(float(srcount)/float(count))+'\\n')\n",
    "\n",
    "    for y in range(int(mx[23])+1):\n",
    "        key = \"chrY\"+'_'+str(y)\n",
    "        count = sp[key][1]\n",
    "        srcount = sp[key][2]\n",
    "        if count == 0 and srcount == 0:\n",
    "            output.write(\"chrY\"+'_'+str(y)+','+\"chrY\"+','+str(Bin*(y+1))+','+str(0)+'\\n')\n",
    "        else:\n",
    "            output.write(\"chrY\"+'_'+str(y)+','+\"chrY\"+','+str(Bin*(y+1))+','+str(float(srcount)/float(count))+'\\n')\n",
    "\n",
    "    output.close()\n"
   ]
  },
  {
   "cell_type": "markdown",
   "metadata": {},
   "source": [
    "<h1 style=\"font-size:300%;color:blue;background:red\"> Lets Check the Result</h1>"
   ]
  },
  {
   "cell_type": "code",
   "execution_count": 21,
   "metadata": {},
   "outputs": [],
   "source": [
    "sam_to_srl(\"sam_file/GC1809N4620_R2_V1_IonXpress_080.Fastq.sam.bam.sort.bam.rmdup.bam.sam\")"
   ]
  },
  {
   "cell_type": "markdown",
   "metadata": {},
   "source": [
    "<h1 style=\"font-size:300%;color:blue;background:gold\"> Step.3 FFy/TSR / Temp Train csv file from both SRL and RGC file</h1>\n",
    "\n",
    "For This Purpose we use `srltraining.py` , `glmnet` and `srlnormtrain`, `loessgctrain.R` in SRL800K case"
   ]
  },
  {
   "cell_type": "markdown",
   "metadata": {},
   "source": [
    "### I. To get list of all file  "
   ]
  },
  {
   "cell_type": "code",
   "execution_count": 71,
   "metadata": {},
   "outputs": [],
   "source": [
    "# Before Running This we need to Create a list of srl file \n",
    "import os \n",
    "def srl_info_file():\n",
    "    srl = os.listdir(\"./test/SRL800K/\") # changed Folder Path in case of RGC\n",
    "    srl_file =[]\n",
    "    for i in srl:\n",
    "        if i[-3:] == \"srl\": #in the case of rgc change to rgc\n",
    "            srl_file.append(i)\n",
    "    return srl_file\n",
    "#srl_info_file()\n",
    "#This Method is also used"
   ]
  },
  {
   "cell_type": "markdown",
   "metadata": {},
   "source": [
    "<h1 style=\"font-size:200%;color:blue;background:gold\"> Step.3.I sam_srl file to ffysrl***.csv and tsrl***.csv File Convert</h1>"
   ]
  },
  {
   "cell_type": "markdown",
   "metadata": {},
   "source": [
    "# `srltraining.py`"
   ]
  },
  {
   "cell_type": "code",
   "execution_count": 1,
   "metadata": {},
   "outputs": [
    {
     "data": {
      "text/plain": [
       "'C:\\\\Users\\\\user\\\\Desktop\\\\Jupyter_file\\\\Git_Hub\\\\Bio_python\\\\Bio_python\\\\FF Analysis'"
      ]
     },
     "execution_count": 1,
     "metadata": {},
     "output_type": "execute_result"
    }
   ],
   "source": [
    "import os\n",
    "os.getcwd()#Check Where Are you"
   ]
  },
  {
   "cell_type": "markdown",
   "metadata": {},
   "source": [
    "<h1 style=\"font-size:200%;color:blue;background:red\"> It is Better to Change Working Directory to Folder</h1>"
   ]
  },
  {
   "cell_type": "code",
   "execution_count": 75,
   "metadata": {},
   "outputs": [],
   "source": [
    "#os.chdir(\"./test/SRL800K/\") #Check Where is Working File\n",
    "#If Working Directory Not Changed Then R Code will Not show the Result\n",
    "#And also Dont forget to Keep  bin info file according to srl file"
   ]
  },
  {
   "cell_type": "code",
   "execution_count": 96,
   "metadata": {},
   "outputs": [],
   "source": [
    "import pandas as pd\n",
    "import subprocess\n",
    "import os\n",
    "from scipy import stats\n",
    "\n",
    "def Enet(temp_train_file):\n",
    "    #Load the data Frame temp_train_file , we dont have col Name  \n",
    "    df = pd.read_csv(temp_train_file,header = None,)\n",
    "    (df.iloc[:,0]).to_csv(\"temptrainy.csv\",index = None ,header = False )\n",
    "    #Write First Column to temptrainy.csv file\n",
    "    (df.iloc[:,1:]).to_csv(\"temptrainrf.csv\" ,index = None , header = False) \n",
    "    #write a whole file from col 1 to end \n",
    "    #####################################################\n",
    "    cmd = ['Rscript', 'glmnet.R']   \n",
    "    #(status, output) = commands.getstatusoutput(cmd)\n",
    "    out = subprocess.Popen(cmd , stdout=subprocess.PIPE , stderr=subprocess.STDOUT)\n",
    "    stdout, stderr = out.communicate()\n",
    "    \n",
    "    if stderr:\n",
    "            sys.stderr.write(stderr)\n",
    "            sys.exit(1)\n",
    "    else:\n",
    "        print(\"glmnet.R Ran Successfully\")\n",
    "        \n",
    "def Loesstrain():\n",
    "    cmd = ['Rscript',\"srlnormtrain.R\"]\n",
    "    #(status, output) = commands.getstatusoutput(cmd)\n",
    "    try:\n",
    "        out = subprocess.Popen(cmd , stdout=subprocess.PIPE , stderr=subprocess.STDOUT)\n",
    "        stdout, stderr = out.communicate()\n",
    "        if stdout:\n",
    "            sys.stderr.write(stdout)\n",
    "            sys.exit(1)\n",
    "            \n",
    "        print(\"srlnormtrain.R Ran Successfully\")\n",
    "    except:\n",
    "        print(\"Errror!\")\n",
    "        print(\"Check Path  , or bininfo file in srlnormtrain.R\")\n",
    "def arange_train(ffysrl ,tsrl): # same file name is passed  \n",
    "    sp = {}\n",
    "    \n",
    "    ip1 = ffysrl #input one\n",
    "\n",
    "    input1 = open(ip1,'r')\n",
    "    check = 0\n",
    "    for line in input1:\n",
    "    #pdb.set_trace()\n",
    "        arr = str.split(line,',')\n",
    "        if check > 0:\n",
    "            key = check\n",
    "            if key not in sp:\n",
    "                sp[key] = []\n",
    "            sp[key].append(arr[1][:-1])\n",
    "            check += 1\n",
    "    ip2 = tsrl  #input file 2\n",
    "    input2 = open(ip2,'r')\n",
    "    check = 0\n",
    "    for line in input2:\n",
    "    #pdb.set_trace()\n",
    "        arr = str.split(line,',')\n",
    "        if check > 0:\n",
    "            key = check\n",
    "            for k in range(1, len(arr)):\n",
    "                if key not in sp:\n",
    "                    sp[key] = []\n",
    "                if k == len(arr)-1:\n",
    "                    sp[key].append(arr[k][:-1])\n",
    "                else:\n",
    "                    sp[key].append(arr[k])\n",
    "        check += 1\n",
    "    out = 'temptrain'\n",
    "    output = open(out,'w')\n",
    "    for x in range(1, len(sp.keys())+1):\n",
    "        output.write(str(sp[x][0])+',')\n",
    "        #pdb.set_trace()     \n",
    "        for y in range(1, len(sp[x])):\n",
    "            if y == len(sp[x])-1:\n",
    "                output.write(sp[x][y]+'\\n')\n",
    "            else:\n",
    "                output.write(sp[x][y]+',')\n",
    "    output.close()\n",
    "    \n",
    "BIN = 800000"
   ]
  },
  {
   "cell_type": "code",
   "execution_count": 66,
   "metadata": {},
   "outputs": [
    {
     "data": {
      "text/plain": [
       "'/BiO/Alba/Enet/Enet_github/test/SRL800K'"
      ]
     },
     "execution_count": 66,
     "metadata": {},
     "output_type": "execute_result"
    }
   ],
   "source": [
    "os.getcwd()"
   ]
  },
  {
   "cell_type": "code",
   "execution_count": 92,
   "metadata": {},
   "outputs": [
    {
     "name": "stdout",
     "output_type": "stream",
     "text": [
      "srlnormtrain.R Ran Successfully\n",
      "ffysrl10000.csv  tsrl10000.csv\r\n"
     ]
    }
   ],
   "source": [
    "#To Run  Loess train must be the same Working Directory \n",
    "# To Run Loes train there must be srlbininfo file name in same Directory\n",
    "#First Run Loestrain will output ffysrl*** .csv and tsrl***.csv\n",
    "Loesstrain()\n",
    "!ls *.csv #To Check the File Created"
   ]
  },
  {
   "cell_type": "code",
   "execution_count": 91,
   "metadata": {},
   "outputs": [
    {
     "name": "stdout",
     "output_type": "stream",
     "text": [
      "temptrain\r\n"
     ]
    }
   ],
   "source": [
    "#Second Run Arrange.py arange_train(ffysrl ,tsrl) and combine one File temptrain\n",
    "arange_train(\"ffysrl10000.csv\" ,\"tsrl10000.csv\")\n",
    "!ls temp* #To check the File Created"
   ]
  },
  {
   "cell_type": "code",
   "execution_count": 99,
   "metadata": {},
   "outputs": [
    {
     "name": "stdout",
     "output_type": "stream",
     "text": [
      "glmnet.R Ran Successfully\n",
      "temptrain  temptrainrf.csv  temptrainy.csv\r\n"
     ]
    }
   ],
   "source": [
    "#Enet will create temptrain y and x and Run glmnet\n",
    "Enet(\"temptrain\")\n",
    "!ls temptr* #Check Weather temptrainrf and temptrainy Created or Not"
   ]
  },
  {
   "cell_type": "markdown",
   "metadata": {},
   "source": [
    "<h1 style=\"font-size:200%;color:blue;background:gold\"> Step.3.II sam_Rgc file to ffyrgc and trgc File Convert</h1>\n",
    "\n",
    "### arrangetrain.py\n"
   ]
  },
  {
   "cell_type": "code",
   "execution_count": 105,
   "metadata": {},
   "outputs": [
    {
     "data": {
      "text/plain": [
       "'/BiO/Alba/Enet/Enet_github/test/RGC300K'"
      ]
     },
     "execution_count": 105,
     "metadata": {},
     "output_type": "execute_result"
    }
   ],
   "source": [
    "# To run code errorlessly it is required to changed cwd to RGC300\n",
    "os.chdir(\"../RGC300K/\")\n",
    "os.getcwd()"
   ]
  },
  {
   "cell_type": "markdown",
   "metadata": {},
   "source": [
    "# arange_train.py   #temp_train\n",
    "This is a Python Script which receive 2 file `ffyrgc and trgc` and Output these file as **temptrain** file"
   ]
  },
  {
   "cell_type": "code",
   "execution_count": 108,
   "metadata": {},
   "outputs": [],
   "source": [
    "#import pdb\n",
    "def arange_train(ffyrgc ,trgc1000 ): #ffysrl\n",
    "    sp = {}\n",
    "    #ip = 'ffyrgc10000.csv'\n",
    "    ip1 = ffyrgc #input one\n",
    "    input1 = open(ip1,'r')\n",
    "    check = 0\n",
    "    for line in input1:\n",
    "    #pdb.set_trace()\n",
    "        arr = str.split(line,',')\n",
    "        if check > 0:\n",
    "            key = check\n",
    "            if key not in sp:\n",
    "                sp[key] = []\n",
    "            sp[key].append(arr[1][:-1])\n",
    "            check += 1\n",
    "\n",
    "    ip2 = trgc1000  #input file 2\n",
    "    input2 = open(ip2,'r')\n",
    "    check = 0\n",
    "    for line in input2:\n",
    "    #pdb.set_trace()\n",
    "        arr = str.split(line,',')\n",
    "        if check > 0:\n",
    "            key = check\n",
    "            for k in range(1, len(arr)):\n",
    "                if key not in sp:\n",
    "                    sp[key] = []\n",
    "                if k == len(arr)-1:\n",
    "                    sp[key].append(arr[k][:-1])\n",
    "                else:\n",
    "                    sp[key].append(arr[k])\n",
    "        check += 1\n",
    "\n",
    "\n",
    "    out = 'temptrain'\n",
    "    output = open(out,'w')\n",
    "    for x in range(1, len(sp.keys())+1):\n",
    "        output.write(str(sp[x][0])+',')\n",
    "        #pdb.set_trace()\n",
    "        \n",
    "        for y in range(1, len(sp[x])):\n",
    "            if y == len(sp[x])-1:\n",
    "                output.write(sp[x][y]+'\\n')\n",
    "            else:\n",
    "                output.write(sp[x][y]+',')\n",
    "    output.close()"
   ]
  },
  {
   "cell_type": "markdown",
   "metadata": {},
   "source": [
    "# rgctraining.py"
   ]
  },
  {
   "cell_type": "code",
   "execution_count": 113,
   "metadata": {},
   "outputs": [],
   "source": [
    "#!/usr/bin/python\n",
    "import re\n",
    "import os\n",
    "import sys, getopt\n",
    "import subprocess\n",
    "#import scipy\n",
    "import pdb\n",
    "from scipy import stats\n",
    "\n",
    "def Enet(temp_train_file):\n",
    "    #import pandas as pd #Pandas must imported in the begining\n",
    "    df = pd.read_csv(temp_train_file,header = None,)\n",
    "    \n",
    "    (df.iloc[:,0]).to_csv(\"temptrainy.csv\",index = None ,header = False )\n",
    "    (df.iloc[:,1:]).to_csv(\"temptrainrf.csv\" ,index = None , header = False)\n",
    "    \n",
    "\n",
    "    cmd = ['Rscript','glmnet.R']    \n",
    "    out = subprocess.Popen(cmd , stdout=subprocess.PIPE , stderr=subprocess.STDOUT)\n",
    "    stdout, stderr = out.communicate()\n",
    "    if stdout:\n",
    "        sys.stderr.write(stdout)\n",
    "        sys.exit(1)\n",
    "    \n",
    "\n",
    "    else:\n",
    "        print(\"glmnet.R Ran Successfully\")\n",
    "\n",
    "\n",
    "#This Function is no More using\n",
    "#def GetNumber(sam_rgc_csv): #sam_rgc_file format\n",
    "    #file = sam_rgc_csv\n",
    "    #df = pd.read_csv(file,header=None)\n",
    "    #return df.shape[0]\n",
    "\n",
    "def Loesstrain():\n",
    "    cmd = ['Rscript','loessgctrain.R']\n",
    "    try:\n",
    "        out = subprocess.Popen(cmd , stdout=subprocess.PIPE , stderr=subprocess.STDOUT)\n",
    "        stdout, stderr = out.communicate()\n",
    "        if stdout:\n",
    "            sys.stderr.write(stdout)\n",
    "            sys.exit(1)\n",
    "            print(\"Run Successfully\")\n",
    "        else:\n",
    "            print(\"loesstrain.R Ran Successfully\")\n",
    "    except:\n",
    "        print(\"Check The Working Directory or Bin info File\")\n",
    "\n",
    "        \n",
    "  #Will return temp Train \n",
    "    \n",
    "\n",
    "\n",
    "#sam_          \n",
    "#BIN = 300000\n",
    "#Must Pass 2 values  ffyrgc10000.csv and trgc10000.csv \n",
    "#Enet(temp_train_file) #Must Pass the temp_train_file "
   ]
  },
  {
   "cell_type": "code",
   "execution_count": 119,
   "metadata": {},
   "outputs": [
    {
     "name": "stdout",
     "output_type": "stream",
     "text": [
      "loesstrain.R Ran Successfully\n",
      "ffyrgc10000.csv  trgc10000.csv\r\n"
     ]
    }
   ],
   "source": [
    "Loesstrain() #WD Must be set to folder \n",
    "#Will Create 2 File ffyrgc****.csv and trgc****.csv \n",
    "!ls ffyrgc*.csv trgc*.csv #These two Files will Created"
   ]
  },
  {
   "cell_type": "code",
   "execution_count": 117,
   "metadata": {},
   "outputs": [],
   "source": [
    "arange_train(\"ffyrgc10000.csv\",\"trgc10000.csv\")"
   ]
  },
  {
   "cell_type": "code",
   "execution_count": null,
   "metadata": {},
   "outputs": [],
   "source": [
    "Enet()  #Will Create a new file temptrain \n",
    "!ls temp*"
   ]
  },
  {
   "cell_type": "markdown",
   "metadata": {},
   "source": [
    "# Step 4 :- Testing "
   ]
  },
  {
   "cell_type": "code",
   "execution_count": null,
   "metadata": {},
   "outputs": [],
   "source": []
  }
 ],
 "metadata": {
  "kernelspec": {
   "display_name": "Python 3",
   "language": "python",
   "name": "python3"
  },
  "language_info": {
   "codemirror_mode": {
    "name": "ipython",
    "version": 3
   },
   "file_extension": ".py",
   "mimetype": "text/x-python",
   "name": "python",
   "nbconvert_exporter": "python",
   "pygments_lexer": "ipython3",
   "version": "3.7.4"
  }
 },
 "nbformat": 4,
 "nbformat_minor": 2
}
