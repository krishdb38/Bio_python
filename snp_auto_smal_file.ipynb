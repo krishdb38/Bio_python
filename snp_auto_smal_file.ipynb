{
 "cells": [
  {
   "cell_type": "code",
   "execution_count": 1,
   "metadata": {},
   "outputs": [],
   "source": [
    "import pandas as pd\n",
    "#import numpy as np\n",
    "import os"
   ]
  },
  {
   "cell_type": "code",
   "execution_count": 2,
   "metadata": {},
   "outputs": [],
   "source": [
    "raw_file = os.listdir(\"/BiO/Preterm/raw_data/\")\n",
    "case   =   ['873','875','880','910','989','1009','1584','1119','1282','1489']\n",
    "control = ['1293',\"1316\", '1389','1428','1477','1481','1557','1591','1134','1093']"
   ]
  },
  {
   "cell_type": "code",
   "execution_count": null,
   "metadata": {},
   "outputs": [
    {
     "name": "stdout",
     "output_type": "stream",
     "text": [
      "873Loaded--->>>Saving the csv file\n",
      "873Completed\n",
      "875Loaded--->>>Saving the csv file\n",
      "875Completed\n",
      "880Loaded--->>>Saving the csv file\n",
      "880Completed\n",
      "910Loaded--->>>Saving the csv file\n",
      "910Completed\n",
      "1009Loaded--->>>Saving the csv file\n",
      "1009Completed\n",
      "1134Loaded--->>>Saving the csv file\n",
      "1134Completed\n",
      "1293Loaded--->>>Saving the csv file\n",
      "1293Completed\n",
      "1389Loaded--->>>Saving the csv file\n",
      "1389Completed\n",
      "1428Loaded--->>>Saving the csv file\n",
      "1428Completed\n",
      "1477Loaded--->>>Saving the csv file\n",
      "1477Completed\n",
      "1481Loaded--->>>Saving the csv file\n",
      "1481Completed\n",
      "1489Loaded--->>>Saving the csv file\n",
      "1489Completed\n",
      "1557Loaded--->>>Saving the csv file\n",
      "1557Completed\n",
      "1584Loaded--->>>Saving the csv file\n",
      "1584Completed\n",
      "1591Loaded--->>>Saving the csv file\n",
      "1591Completed\n",
      "989Loaded--->>>Saving the csv file\n",
      "989Completed\n",
      "1093Loaded--->>>Saving the csv file\n",
      "1093Completed\n",
      "1119Loaded--->>>Saving the csv file\n",
      "1119Completed\n",
      "1282Loaded--->>>Saving the csv file\n",
      "1282Completed\n",
      "1316Loaded--->>>Saving the csv file\n"
     ]
    }
   ],
   "source": [
    "for data in raw_file:\n",
    "    if data is in ('989','1093',\"1316\",'1119','1282'): #These data should be processed separately\n",
    "        pass\n",
    "    df = pd.read_csv((\"/BiO/Preterm/raw_data/\"+data+\"/\"+data+\".snpeff.isoform.tsv\"),sep=\"\\t\")\n",
    "    print(data +\"Loaded\",end=\"--->>>\")\n",
    "    \n",
    "    df = df.iloc[:,[0,1,2,3,4,7]] ##We dont need all columns so lets check\n",
    "    df = df.rename(columns = {df.columns[-1] :\"GEN_\"+data[:4]})\n",
    "    \n",
    "    print((\"Saving the csv file\"))\n",
    "    #Writing csv to HDD\n",
    "    if data in  case:\n",
    "        df.to_csv(r\"../snp_small_files/\"+data+\"_case\"+ \".csv\",index=None,header =True)\n",
    "    elif data in  control:\n",
    "        df.to_csv(r\"../snp_small_files/\"+data+\"_control\"+ \".csv\",index=None,header =True)\n",
    "    else:\n",
    "        print(\"check the file format\")\n",
    "    print(data +\"Completed\")\n",
    "\n",
    "print(\"All task completed\")"
   ]
  },
  {
   "cell_type": "code",
   "execution_count": 47,
   "metadata": {},
   "outputs": [],
   "source": [
    "#We find 2 files format is wrong so lets do again 1316_control and 989_case\n",
    "data = \"1282\""
   ]
  },
  {
   "cell_type": "code",
   "execution_count": 48,
   "metadata": {
    "scrolled": true
   },
   "outputs": [],
   "source": [
    "df = pd.read_csv((\"/BiO/Preterm/raw_data/\"+data+\"/\"+data+\".snpeff.isoform.tsv\"),sep=\"\\t\")"
   ]
  },
  {
   "cell_type": "code",
   "execution_count": 46,
   "metadata": {},
   "outputs": [
    {
     "data": {
      "text/plain": [
       "Index(['#CHROM', 'POS', 'ID', 'REF', 'ALT', 'ANN[*].EFFECT', 'FILTER',\n",
       "       'VARTYPE', 'GEN['TN1911D0108'].GT', 'GEN['TN1911D0108'].AD',\n",
       "       'GEN['TN1911D0108'].DP', 'ANN[*].IMPACT', 'ANN[*].GENE',\n",
       "       'ANN[*].FEATURE', 'ANN[*].FEATUREID', 'ANN[*].BIOTYPE', 'ANN[*].RANK',\n",
       "       'ANN[*].HGVS_C', 'ANN[*].HGVS_P', 'ANN[*].CDNA_POS', 'ANN[*].CDNA_LEN',\n",
       "       'ANN[*].CDS_POS', 'ANN[*].CDS_LEN', 'ANN[*].AA_POS', 'ANN[*].AA_LEN',\n",
       "       'ANN[*].DISTANCE', 'GWASCAT_TRAIT', 'COSMID', 'CLNDISDB', 'ORIGIN',\n",
       "       'CLNSIG', 'CLNDN', 'dbNSFP_Uniprot_acc', 'dbNSFP_Interpro_domain',\n",
       "       'dbNSFP_SIFT_pred', 'dbNSFP_Polyphen2_HDIV_pred',\n",
       "       'dbNSFP_Polyphen2_HVAR_pred', 'dbNSFP_LRT_pred',\n",
       "       'dbNSFP_MutationTaster_pred', 'dbNSFP_GERP___NR', 'dbNSFP_GERP___RS',\n",
       "       'dbNSFP_phastCons100way_vertebrate', 'dbNSFP_1000Gp1_AF',\n",
       "       'dbNSFP_1000Gp1_AFR_AF', 'dbNSFP_1000Gp1_EUR_AF',\n",
       "       'dbNSFP_1000Gp1_AMR_AF', 'dbNSFP_1000Gp1_ASN_AF',\n",
       "       'dbNSFP_ESP6500_AA_AF', 'dbNSFP_ESP6500_EA_AF', 'EXAC_AC', 'EXAC_AN',\n",
       "       'EXAC_AF'],\n",
       "      dtype='object')"
      ]
     },
     "execution_count": 46,
     "metadata": {},
     "output_type": "execute_result"
    }
   ],
   "source": [
    "#df.iloc[:,[0,1,2,3,4,8]]\n",
    "df.columns"
   ]
  },
  {
   "cell_type": "code",
   "execution_count": 39,
   "metadata": {},
   "outputs": [
    {
     "data": {
      "text/html": [
       "<div>\n",
       "<style scoped>\n",
       "    .dataframe tbody tr th:only-of-type {\n",
       "        vertical-align: middle;\n",
       "    }\n",
       "\n",
       "    .dataframe tbody tr th {\n",
       "        vertical-align: top;\n",
       "    }\n",
       "\n",
       "    .dataframe thead th {\n",
       "        text-align: right;\n",
       "    }\n",
       "</style>\n",
       "<table border=\"1\" class=\"dataframe\">\n",
       "  <thead>\n",
       "    <tr style=\"text-align: right;\">\n",
       "      <th></th>\n",
       "      <th>#CHROM</th>\n",
       "      <th>POS</th>\n",
       "      <th>ID</th>\n",
       "      <th>REF</th>\n",
       "      <th>ALT</th>\n",
       "      <th>GEN['TN1911D0102'].GT</th>\n",
       "    </tr>\n",
       "  </thead>\n",
       "  <tbody>\n",
       "    <tr>\n",
       "      <td>0</td>\n",
       "      <td>chr1</td>\n",
       "      <td>12783</td>\n",
       "      <td>rs62635284</td>\n",
       "      <td>G</td>\n",
       "      <td>A</td>\n",
       "      <td>0/1</td>\n",
       "    </tr>\n",
       "    <tr>\n",
       "      <td>1</td>\n",
       "      <td>chr1</td>\n",
       "      <td>12783</td>\n",
       "      <td>rs62635284</td>\n",
       "      <td>G</td>\n",
       "      <td>A</td>\n",
       "      <td>0/1</td>\n",
       "    </tr>\n",
       "    <tr>\n",
       "      <td>2</td>\n",
       "      <td>chr1</td>\n",
       "      <td>12783</td>\n",
       "      <td>rs62635284</td>\n",
       "      <td>G</td>\n",
       "      <td>A</td>\n",
       "      <td>0/1</td>\n",
       "    </tr>\n",
       "    <tr>\n",
       "      <td>3</td>\n",
       "      <td>chr1</td>\n",
       "      <td>12783</td>\n",
       "      <td>rs62635284</td>\n",
       "      <td>G</td>\n",
       "      <td>A</td>\n",
       "      <td>0/1</td>\n",
       "    </tr>\n",
       "    <tr>\n",
       "      <td>4</td>\n",
       "      <td>chr1</td>\n",
       "      <td>12783</td>\n",
       "      <td>rs62635284</td>\n",
       "      <td>G</td>\n",
       "      <td>A</td>\n",
       "      <td>0/1</td>\n",
       "    </tr>\n",
       "  </tbody>\n",
       "</table>\n",
       "</div>"
      ],
      "text/plain": [
       "  #CHROM    POS          ID REF ALT GEN['TN1911D0102'].GT\n",
       "0   chr1  12783  rs62635284   G   A                   0/1\n",
       "1   chr1  12783  rs62635284   G   A                   0/1\n",
       "2   chr1  12783  rs62635284   G   A                   0/1\n",
       "3   chr1  12783  rs62635284   G   A                   0/1\n",
       "4   chr1  12783  rs62635284   G   A                   0/1"
      ]
     },
     "execution_count": 39,
     "metadata": {},
     "output_type": "execute_result"
    }
   ],
   "source": [
    "df = df.iloc[:,[0,1,2,3,4,8]] ##We dont need all columns so lets check\n",
    "df.head()"
   ]
  },
  {
   "cell_type": "code",
   "execution_count": 40,
   "metadata": {},
   "outputs": [
    {
     "data": {
      "text/html": [
       "<div>\n",
       "<style scoped>\n",
       "    .dataframe tbody tr th:only-of-type {\n",
       "        vertical-align: middle;\n",
       "    }\n",
       "\n",
       "    .dataframe tbody tr th {\n",
       "        vertical-align: top;\n",
       "    }\n",
       "\n",
       "    .dataframe thead th {\n",
       "        text-align: right;\n",
       "    }\n",
       "</style>\n",
       "<table border=\"1\" class=\"dataframe\">\n",
       "  <thead>\n",
       "    <tr style=\"text-align: right;\">\n",
       "      <th></th>\n",
       "      <th>#CHROM</th>\n",
       "      <th>POS</th>\n",
       "      <th>ID</th>\n",
       "      <th>REF</th>\n",
       "      <th>ALT</th>\n",
       "      <th>GEN_1119_case</th>\n",
       "    </tr>\n",
       "  </thead>\n",
       "  <tbody>\n",
       "    <tr>\n",
       "      <td>0</td>\n",
       "      <td>chr1</td>\n",
       "      <td>12783</td>\n",
       "      <td>rs62635284</td>\n",
       "      <td>G</td>\n",
       "      <td>A</td>\n",
       "      <td>0/1</td>\n",
       "    </tr>\n",
       "    <tr>\n",
       "      <td>1</td>\n",
       "      <td>chr1</td>\n",
       "      <td>12783</td>\n",
       "      <td>rs62635284</td>\n",
       "      <td>G</td>\n",
       "      <td>A</td>\n",
       "      <td>0/1</td>\n",
       "    </tr>\n",
       "    <tr>\n",
       "      <td>2</td>\n",
       "      <td>chr1</td>\n",
       "      <td>12783</td>\n",
       "      <td>rs62635284</td>\n",
       "      <td>G</td>\n",
       "      <td>A</td>\n",
       "      <td>0/1</td>\n",
       "    </tr>\n",
       "    <tr>\n",
       "      <td>3</td>\n",
       "      <td>chr1</td>\n",
       "      <td>12783</td>\n",
       "      <td>rs62635284</td>\n",
       "      <td>G</td>\n",
       "      <td>A</td>\n",
       "      <td>0/1</td>\n",
       "    </tr>\n",
       "    <tr>\n",
       "      <td>4</td>\n",
       "      <td>chr1</td>\n",
       "      <td>12783</td>\n",
       "      <td>rs62635284</td>\n",
       "      <td>G</td>\n",
       "      <td>A</td>\n",
       "      <td>0/1</td>\n",
       "    </tr>\n",
       "  </tbody>\n",
       "</table>\n",
       "</div>"
      ],
      "text/plain": [
       "  #CHROM    POS          ID REF ALT GEN_1119_case\n",
       "0   chr1  12783  rs62635284   G   A           0/1\n",
       "1   chr1  12783  rs62635284   G   A           0/1\n",
       "2   chr1  12783  rs62635284   G   A           0/1\n",
       "3   chr1  12783  rs62635284   G   A           0/1\n",
       "4   chr1  12783  rs62635284   G   A           0/1"
      ]
     },
     "execution_count": 40,
     "metadata": {},
     "output_type": "execute_result"
    }
   ],
   "source": [
    "df = df.rename(columns = {df.columns[-1] :\"GEN_\"+data+\"_case\"})\n",
    "df.head()"
   ]
  },
  {
   "cell_type": "code",
   "execution_count": 41,
   "metadata": {},
   "outputs": [],
   "source": [
    "df.to_csv(\"../snp_analysis/\"+data+\"_case.csv\",index=False,encoding='utf-8',header=True)"
   ]
  },
  {
   "cell_type": "markdown",
   "metadata": {},
   "source": [
    "### Thank You \n",
    "## ```krishdb38@gmail.com```"
   ]
  },
  {
   "cell_type": "code",
   "execution_count": null,
   "metadata": {},
   "outputs": [],
   "source": []
  },
  {
   "cell_type": "code",
   "execution_count": null,
   "metadata": {},
   "outputs": [],
   "source": []
  },
  {
   "cell_type": "code",
   "execution_count": null,
   "metadata": {},
   "outputs": [],
   "source": []
  }
 ],
 "metadata": {
  "kernelspec": {
   "display_name": "Python 3",
   "language": "python",
   "name": "python3"
  },
  "language_info": {
   "codemirror_mode": {
    "name": "ipython",
    "version": 3
   },
   "file_extension": ".py",
   "mimetype": "text/x-python",
   "name": "python",
   "nbconvert_exporter": "python",
   "pygments_lexer": "ipython3",
   "version": "3.7.4"
  }
 },
 "nbformat": 4,
 "nbformat_minor": 2
}
