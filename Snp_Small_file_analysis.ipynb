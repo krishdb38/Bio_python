{
 "cells": [
  {
   "cell_type": "code",
   "execution_count": 1,
   "metadata": {},
   "outputs": [],
   "source": [
    "import os\n",
    "import pandas as pd"
   ]
  },
  {
   "cell_type": "code",
   "execution_count": 2,
   "metadata": {},
   "outputs": [
    {
     "name": "stdout",
     "output_type": "stream",
     "text": [
      "1009_case.csv\t  1428_control.csv  1557_control.csv  875_case.csv\r\n",
      "1134_control.csv  1477_control.csv  1584_case.csv     880_case.csv\r\n",
      "1293_control.csv  1481_control.csv  1591_control.csv  910_case.csv\r\n",
      "1389_control.csv  1489_case.csv     873_case.csv\r\n"
     ]
    }
   ],
   "source": [
    "!ls /BiO/Preterm/krishna_test/snp_small_files/"
   ]
  },
  {
   "cell_type": "markdown",
   "metadata": {},
   "source": [
    "### Make Automatic tools to make and save these files\n",
    "We will call all above files and removed all lines in ID columns where ID == \".\""
   ]
  },
  {
   "cell_type": "code",
   "execution_count": 62,
   "metadata": {},
   "outputs": [],
   "source": [
    "file_names= os.listdir(\"/BiO/Preterm/krishna_test/snp_small_files/\") #list for input"
   ]
  },
  {
   "cell_type": "code",
   "execution_count": 61,
   "metadata": {},
   "outputs": [],
   "source": [
    "#remove the comments sections from below"
   ]
  },
  {
   "cell_type": "code",
   "execution_count": 60,
   "metadata": {},
   "outputs": [
    {
     "data": {
      "text/plain": [
       "'#from tqdm import tqdm\\n#for data in tqdm(file_names):\\n    print(\"reading \\t-->\"+ data , end = \" -->\")\\n    df = pd.read_csv(\"/BiO/Preterm/krishna_test/snp_small_files/\"+data,)\\n    index_name = df[df[\"ID\"]==\".\"].index\\n    df.drop(index_name,inplace=True)\\n    df.to_csv(r\"../snp_small_file/\"+data,index=None,header =True)\\n    print(data + \"Removed Successfully and saved\")\\nprint(\"All job done\")'"
      ]
     },
     "execution_count": 60,
     "metadata": {},
     "output_type": "execute_result"
    }
   ],
   "source": [
    "\"\"\"#from tqdm import tqdm\n",
    "#for data in tqdm(file_names):\n",
    "    print(\"reading \\t-->\"+ data , end = \" -->\")\n",
    "    df = pd.read_csv(\"/BiO/Preterm/krishna_test/snp_small_files/\"+data,)\n",
    "    index_name = df[df[\"ID\"]==\".\"].index\n",
    "    df.drop(index_name,inplace=True)\n",
    "    df.to_csv(r\"../snp_small_file/\"+data,index=None,header =True)\n",
    "    print(data + \"Removed Successfully and saved\")\n",
    "print(\"All job done\")\"\"\"\n",
    "    "
   ]
  },
  {
   "cell_type": "markdown",
   "metadata": {},
   "source": [
    "### again upload all files and make a single file "
   ]
  },
  {
   "cell_type": "code",
   "execution_count": 63,
   "metadata": {},
   "outputs": [],
   "source": [
    "data =\"1009_case.csv\""
   ]
  },
  {
   "cell_type": "code",
   "execution_count": 66,
   "metadata": {},
   "outputs": [],
   "source": [
    "df1 = pd.read_csv(\"/BiO/Preterm/krishna_test/snp_small_file/\"+data)"
   ]
  },
  {
   "cell_type": "code",
   "execution_count": 65,
   "metadata": {},
   "outputs": [],
   "source": [
    "df2 = pd.read_csv(\"/BiO/Preterm/krishna_test/snp_small_file/\"+\"1557_control.csv\")"
   ]
  },
  {
   "cell_type": "code",
   "execution_count": 67,
   "metadata": {},
   "outputs": [
    {
     "data": {
      "text/plain": [
       "Index(['#CHROM', 'POS', 'ID', 'REF', 'ALT', 'GEN_1009'], dtype='object')"
      ]
     },
     "execution_count": 67,
     "metadata": {},
     "output_type": "execute_result"
    }
   ],
   "source": [
    "df1.columns"
   ]
  },
  {
   "cell_type": "code",
   "execution_count": 78,
   "metadata": {},
   "outputs": [
    {
     "data": {
      "text/plain": [
       "#CHROM      1854868\n",
       "POS         1854868\n",
       "ID          1854868\n",
       "REF         1854868\n",
       "ALT         1854868\n",
       "GEN_1009    1854868\n",
       "dtype: int64"
      ]
     },
     "execution_count": 78,
     "metadata": {},
     "output_type": "execute_result"
    }
   ],
   "source": [
    "df1[df1[\"GEN_1009\"]==\"1/1\"].count()"
   ]
  },
  {
   "cell_type": "code",
   "execution_count": 77,
   "metadata": {},
   "outputs": [
    {
     "data": {
      "text/plain": [
       "#CHROM      1838441\n",
       "POS         1838441\n",
       "ID          1838441\n",
       "REF         1838441\n",
       "ALT         1838441\n",
       "GEN_1557    1838441\n",
       "dtype: int64"
      ]
     },
     "execution_count": 77,
     "metadata": {},
     "output_type": "execute_result"
    }
   ],
   "source": [
    "df2[df2[\"GEN_1557\"]==\"1/1\"].count()"
   ]
  },
  {
   "cell_type": "code",
   "execution_count": 81,
   "metadata": {},
   "outputs": [
    {
     "data": {
      "text/html": [
       "<div>\n",
       "<style scoped>\n",
       "    .dataframe tbody tr th:only-of-type {\n",
       "        vertical-align: middle;\n",
       "    }\n",
       "\n",
       "    .dataframe tbody tr th {\n",
       "        vertical-align: top;\n",
       "    }\n",
       "\n",
       "    .dataframe thead th {\n",
       "        text-align: right;\n",
       "    }\n",
       "</style>\n",
       "<table border=\"1\" class=\"dataframe\">\n",
       "  <thead>\n",
       "    <tr style=\"text-align: right;\">\n",
       "      <th></th>\n",
       "      <th>#CHROM</th>\n",
       "      <th>POS</th>\n",
       "      <th>ID</th>\n",
       "      <th>REF</th>\n",
       "      <th>ALT</th>\n",
       "      <th>GEN_1009</th>\n",
       "    </tr>\n",
       "  </thead>\n",
       "  <tbody>\n",
       "    <tr>\n",
       "      <td>1550471</td>\n",
       "      <td>chr5</td>\n",
       "      <td>157895049</td>\n",
       "      <td>rs2963463</td>\n",
       "      <td>T</td>\n",
       "      <td>C</td>\n",
       "      <td>0/1</td>\n",
       "    </tr>\n",
       "  </tbody>\n",
       "</table>\n",
       "</div>"
      ],
      "text/plain": [
       "        #CHROM        POS         ID REF ALT GEN_1009\n",
       "1550471   chr5  157895049  rs2963463   T   C      0/1"
      ]
     },
     "execution_count": 81,
     "metadata": {},
     "output_type": "execute_result"
    }
   ],
   "source": [
    "df1[df1[\"ID\"]==\"rs2963463\"]"
   ]
  },
  {
   "cell_type": "code",
   "execution_count": 1,
   "metadata": {},
   "outputs": [],
   "source": []
  },
  {
   "cell_type": "code",
   "execution_count": null,
   "metadata": {},
   "outputs": [],
   "source": []
  }
 ],
 "metadata": {
  "kernelspec": {
   "display_name": "Python 3",
   "language": "python",
   "name": "python3"
  },
  "language_info": {
   "codemirror_mode": {
    "name": "ipython",
    "version": 3
   },
   "file_extension": ".py",
   "mimetype": "text/x-python",
   "name": "python",
   "nbconvert_exporter": "python",
   "pygments_lexer": "ipython3",
   "version": "3.7.4"
  }
 },
 "nbformat": 4,
 "nbformat_minor": 2
}
