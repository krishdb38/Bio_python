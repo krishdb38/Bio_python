{
 "cells": [
  {
   "cell_type": "code",
   "execution_count": 8,
   "metadata": {},
   "outputs": [
    {
     "data": {
      "text/plain": [
       "'0.25.1'"
      ]
     },
     "execution_count": 8,
     "metadata": {},
     "output_type": "execute_result"
    }
   ],
   "source": [
    "pd.__version__"
   ]
  },
  {
   "cell_type": "code",
   "execution_count": 6,
   "metadata": {},
   "outputs": [],
   "source": [
    "#!pip install --upgrade pandas"
   ]
  },
  {
   "cell_type": "markdown",
   "metadata": {},
   "source": [
    "#### Logistic Model 7 SVM Model development for Statistical Analysis"
   ]
  },
  {
   "cell_type": "code",
   "execution_count": 2,
   "metadata": {},
   "outputs": [],
   "source": [
    "import pandas as pd\n",
    "import numpy as np\n",
    "import seaborn as sns\n",
    "import matplotlib.pyplot as plt\n",
    "import re\n",
    "import warnings\n",
    "from collections import Counter\n",
    "\n",
    "from itertools import chain\n",
    "from time import time\n",
    "\n",
    "#Feature Selection \n",
    "from sklearn.model_selection import StratifiedKFold\n",
    "from sklearn.feature_selection import RFECV , SelectFromModel\n",
    "#classifiers\n",
    "from xgboost import XGBClassifier\n",
    "from sklearn.preprocessing import RobustScaler\n",
    "from sklearn.svm import SVC\n",
    "from sklearn.ensemble import IsolationForest\n",
    "from sklearn.ensemble import AdaBoostClassifier\n",
    "from sklearn.metrics import classification_report , confusion_matrix , accuracy_score\n",
    "from sklearn.model_selection import train_test_split\n",
    "from sklearn.preprocessing import LabelEncoder , OneHotEncoder\n",
    "\n",
    "from sklearn.ensemble import RandomForestClassifier\n",
    "from sklearn.ensemble import BaggingClassifier\n",
    "from sklearn.ensemble import ExtraTreesClassifier\n",
    "from sklearn.model_selection import RandomizedSearchCV , cross_val_score\n",
    "from sklearn.preprocessing import PolynomialFeatures\n",
    "from sklearn.utils import resample#, suffle\n",
    "import  matplotlib.pyplot as plt \n",
    "#from sklearn.utils import suffle"
   ]
  },
  {
   "cell_type": "code",
   "execution_count": 40,
   "metadata": {},
   "outputs": [],
   "source": [
    "#df1 = pd.read_csv(\"../case_snp.csv\",dtype=object, low_memory=False)\n",
    "df1 = pd.read_csv(\"../case_snp_10.csv\",dtype = object,low_memory=False) #This is New Data "
   ]
  },
  {
   "cell_type": "code",
   "execution_count": null,
   "metadata": {},
   "outputs": [],
   "source": [
    "#df = pd.read_csv(\"../control_snp.csv\",dtype=object,low_memory=False)\n",
    "df = pd.read_csv(\"../con_10.csv\",dtype=object,low_memory=False)"
   ]
  },
  {
   "cell_type": "code",
   "execution_count": 39,
   "metadata": {},
   "outputs": [
    {
     "data": {
      "text/plain": [
       "(9258971, 14)"
      ]
     },
     "execution_count": 39,
     "metadata": {},
     "output_type": "execute_result"
    }
   ],
   "source": [
    "df1.shape"
   ]
  },
  {
   "cell_type": "code",
   "execution_count": null,
   "metadata": {},
   "outputs": [],
   "source": [
    "df.shape"
   ]
  },
  {
   "cell_type": "code",
   "execution_count": 20,
   "metadata": {
    "scrolled": true
   },
   "outputs": [
    {
     "data": {
      "text/html": [
       "<div>\n",
       "<style scoped>\n",
       "    .dataframe tbody tr th:only-of-type {\n",
       "        vertical-align: middle;\n",
       "    }\n",
       "\n",
       "    .dataframe tbody tr th {\n",
       "        vertical-align: top;\n",
       "    }\n",
       "\n",
       "    .dataframe thead th {\n",
       "        text-align: right;\n",
       "    }\n",
       "</style>\n",
       "<table border=\"1\" class=\"dataframe\">\n",
       "  <thead>\n",
       "    <tr style=\"text-align: right;\">\n",
       "      <th></th>\n",
       "      <th>CHROM</th>\n",
       "      <th>POS</th>\n",
       "      <th>ID</th>\n",
       "      <th>REF</th>\n",
       "      <th>1c</th>\n",
       "      <th>2c</th>\n",
       "      <th>3c</th>\n",
       "      <th>4c</th>\n",
       "      <th>5c</th>\n",
       "      <th>6c</th>\n",
       "      <th>...</th>\n",
       "      <th>1cn</th>\n",
       "      <th>2cn</th>\n",
       "      <th>3cn</th>\n",
       "      <th>4cn</th>\n",
       "      <th>5cn</th>\n",
       "      <th>6cn</th>\n",
       "      <th>7cn</th>\n",
       "      <th>8cn</th>\n",
       "      <th>9cn</th>\n",
       "      <th>10cn</th>\n",
       "    </tr>\n",
       "  </thead>\n",
       "  <tbody>\n",
       "    <tr>\n",
       "      <td>0</td>\n",
       "      <td>chrM</td>\n",
       "      <td>146</td>\n",
       "      <td>.</td>\n",
       "      <td>T</td>\n",
       "      <td>NaN</td>\n",
       "      <td>NaN</td>\n",
       "      <td>NaN</td>\n",
       "      <td>NaN</td>\n",
       "      <td>NaN</td>\n",
       "      <td>NaN</td>\n",
       "      <td>...</td>\n",
       "      <td>NaN</td>\n",
       "      <td>C/C</td>\n",
       "      <td>NaN</td>\n",
       "      <td>NaN</td>\n",
       "      <td>NaN</td>\n",
       "      <td>NaN</td>\n",
       "      <td>NaN</td>\n",
       "      <td>NaN</td>\n",
       "      <td>NaN</td>\n",
       "      <td>NaN</td>\n",
       "    </tr>\n",
       "    <tr>\n",
       "      <td>1</td>\n",
       "      <td>chrM</td>\n",
       "      <td>150</td>\n",
       "      <td>.</td>\n",
       "      <td>T</td>\n",
       "      <td>C/C</td>\n",
       "      <td>C/C</td>\n",
       "      <td>C/C</td>\n",
       "      <td>NaN</td>\n",
       "      <td>NaN</td>\n",
       "      <td>NaN</td>\n",
       "      <td>...</td>\n",
       "      <td>C/C</td>\n",
       "      <td>C/C</td>\n",
       "      <td>C/C</td>\n",
       "      <td>C/C</td>\n",
       "      <td>C/C</td>\n",
       "      <td>NaN</td>\n",
       "      <td>C/C</td>\n",
       "      <td>NaN</td>\n",
       "      <td>NaN</td>\n",
       "      <td>NaN</td>\n",
       "    </tr>\n",
       "  </tbody>\n",
       "</table>\n",
       "<p>2 rows × 24 columns</p>\n",
       "</div>"
      ],
      "text/plain": [
       "  CHROM  POS ID REF   1c   2c   3c   4c   5c   6c  ...  1cn  2cn  3cn  4cn  \\\n",
       "0  chrM  146  .   T  NaN  NaN  NaN  NaN  NaN  NaN  ...  NaN  C/C  NaN  NaN   \n",
       "1  chrM  150  .   T  C/C  C/C  C/C  NaN  NaN  NaN  ...  C/C  C/C  C/C  C/C   \n",
       "\n",
       "   5cn  6cn  7cn  8cn  9cn 10cn  \n",
       "0  NaN  NaN  NaN  NaN  NaN  NaN  \n",
       "1  C/C  NaN  C/C  NaN  NaN  NaN  \n",
       "\n",
       "[2 rows x 24 columns]"
      ]
     },
     "execution_count": 20,
     "metadata": {},
     "output_type": "execute_result"
    }
   ],
   "source": [
    "df1.head(2)"
   ]
  },
  {
   "cell_type": "code",
   "execution_count": 18,
   "metadata": {},
   "outputs": [
    {
     "data": {
      "text/plain": [
       "array(['chr1', 'chr2', 'chr3', 'chr4', 'chr5', 'chr6', 'chr7', 'chr8',\n",
       "       'chr9', 'chr10', 'chr11', 'chr12', 'chr13', 'chr14', 'chr15',\n",
       "       'chr16', 'chr17', 'chr18', 'chr19', 'chr20', 'chr21', 'chr22',\n",
       "       'chrX', 'chrY', 'chrM'], dtype=object)"
      ]
     },
     "execution_count": 18,
     "metadata": {},
     "output_type": "execute_result"
    }
   ],
   "source": [
    "df.CHROM.unique()"
   ]
  },
  {
   "cell_type": "code",
   "execution_count": 21,
   "metadata": {},
   "outputs": [
    {
     "data": {
      "text/plain": [
       "(11176568, 24)"
      ]
     },
     "execution_count": 21,
     "metadata": {},
     "output_type": "execute_result"
    }
   ],
   "source": [
    "df1.shape"
   ]
  },
  {
   "cell_type": "markdown",
   "metadata": {},
   "source": [
    "Since there is very Big data so We Select Out only Highly influencing and different dataas to each Other"
   ]
  },
  {
   "cell_type": "code",
   "execution_count": 33,
   "metadata": {},
   "outputs": [
    {
     "data": {
      "text/plain": [
       "<Figure size 576x1152 with 0 Axes>"
      ]
     },
     "execution_count": 33,
     "metadata": {},
     "output_type": "execute_result"
    },
    {
     "data": {
      "text/plain": [
       "<Figure size 576x1152 with 0 Axes>"
      ]
     },
     "metadata": {},
     "output_type": "display_data"
    }
   ],
   "source": [
    "plt.figure(figsize=(8,16))"
   ]
  },
  {
   "cell_type": "code",
   "execution_count": 36,
   "metadata": {},
   "outputs": [
    {
     "data": {
      "text/plain": [
       "<matplotlib.axes._subplots.AxesSubplot at 0x24649d80f88>"
      ]
     },
     "execution_count": 36,
     "metadata": {},
     "output_type": "execute_result"
    },
    {
     "data": {
      "image/png": "[encoded data removed]",
      "text/plain": [
       "<Figure size 1152x576 with 1 Axes>"
      ]
     },
     "metadata": {
      "needs_background": "light"
     },
     "output_type": "display_data"
    }
   ],
   "source": [
    "plt.figure(figsize=(16,8))\n",
    "sns.countplot(x = \"#CHROM\",\n",
    "             data = df,\n",
    "             order = df[\"#CHROM\"].value_counts().index)"
   ]
  },
  {
   "cell_type": "code",
   "execution_count": 38,
   "metadata": {},
   "outputs": [
    {
     "data": {
      "text/plain": [
       "<matplotlib.axes._subplots.AxesSubplot at 0x2465d8cf148>"
      ]
     },
     "execution_count": 38,
     "metadata": {},
     "output_type": "execute_result"
    },
    {
     "data": {
      "image/png": "[encoded data removed]",
      "text/plain": [
       "<Figure size 1152x576 with 1 Axes>"
      ]
     },
     "metadata": {
      "needs_background": "light"
     },
     "output_type": "display_data"
    }
   ],
   "source": [
    "plt.figure(figsize=(16,8))\n",
    "sns.countplot(x = \"#CHROM\",\n",
    "             data = df1,\n",
    "             order = df1[\"#CHROM\"].value_counts().index)"
   ]
  },
  {
   "cell_type": "code",
   "execution_count": 113,
   "metadata": {},
   "outputs": [],
   "source": [
    "case_con = df[(df.iloc[:,[4,5,6,7,8,9,10,11,12,13]].isnull().sum(axis =1)<2)\n",
    "    &(df.iloc[:,[14,15,16,17,18,19,20,21,22,23]].isnull().sum(axis =1)>9)] #We Can accept up to  80 %\n",
    "\n",
    "#con_case = df[(df.iloc[:,[4,5,6,7,8,9,10,11,12,13]].isnull().sum(axis =1)>9) \\\n",
    "#    &(df.iloc[:,[14,15,16,17,18,19,20,21,22,23]].isnull().sum(axis =1)<2)]"
   ]
  },
  {
   "cell_type": "code",
   "execution_count": 19,
   "metadata": {},
   "outputs": [],
   "source": [
    "#Here NaN is Assumed as same Values as Ref means No SNP at that Position\n",
    "# Currently SNP in Control is not Useful for our purpose of Analysis\n",
    "#But we may think these types of SNP has Positive impact"
   ]
  },
  {
   "cell_type": "code",
   "execution_count": 114,
   "metadata": {},
   "outputs": [
    {
     "data": {
      "text/html": [
       "<div>\n",
       "<style scoped>\n",
       "    .dataframe tbody tr th:only-of-type {\n",
       "        vertical-align: middle;\n",
       "    }\n",
       "\n",
       "    .dataframe tbody tr th {\n",
       "        vertical-align: top;\n",
       "    }\n",
       "\n",
       "    .dataframe thead th {\n",
       "        text-align: right;\n",
       "    }\n",
       "</style>\n",
       "<table border=\"1\" class=\"dataframe\">\n",
       "  <thead>\n",
       "    <tr style=\"text-align: right;\">\n",
       "      <th></th>\n",
       "      <th>CHROM</th>\n",
       "      <th>POS</th>\n",
       "      <th>ID</th>\n",
       "      <th>REF</th>\n",
       "      <th>1c</th>\n",
       "      <th>2c</th>\n",
       "      <th>3c</th>\n",
       "      <th>4c</th>\n",
       "      <th>5c</th>\n",
       "      <th>6c</th>\n",
       "      <th>...</th>\n",
       "      <th>1cn</th>\n",
       "      <th>2cn</th>\n",
       "      <th>3cn</th>\n",
       "      <th>4cn</th>\n",
       "      <th>5cn</th>\n",
       "      <th>6cn</th>\n",
       "      <th>7cn</th>\n",
       "      <th>8cn</th>\n",
       "      <th>9cn</th>\n",
       "      <th>10cn</th>\n",
       "    </tr>\n",
       "  </thead>\n",
       "  <tbody>\n",
       "    <tr>\n",
       "      <td>255800</td>\n",
       "      <td>chr7</td>\n",
       "      <td>3076053</td>\n",
       "      <td>rs10951010</td>\n",
       "      <td>G</td>\n",
       "      <td>G/A</td>\n",
       "      <td>G/A</td>\n",
       "      <td>G/A</td>\n",
       "      <td>A/A</td>\n",
       "      <td>A/A</td>\n",
       "      <td>NaN</td>\n",
       "      <td>...</td>\n",
       "      <td>NaN</td>\n",
       "      <td>NaN</td>\n",
       "      <td>NaN</td>\n",
       "      <td>NaN</td>\n",
       "      <td>NaN</td>\n",
       "      <td>NaN</td>\n",
       "      <td>NaN</td>\n",
       "      <td>NaN</td>\n",
       "      <td>NaN</td>\n",
       "      <td>NaN</td>\n",
       "    </tr>\n",
       "    <tr>\n",
       "      <td>255874</td>\n",
       "      <td>chr7</td>\n",
       "      <td>3076844</td>\n",
       "      <td>rs7779022</td>\n",
       "      <td>C</td>\n",
       "      <td>C/T</td>\n",
       "      <td>C/T</td>\n",
       "      <td>C/T</td>\n",
       "      <td>T/T</td>\n",
       "      <td>T/T</td>\n",
       "      <td>NaN</td>\n",
       "      <td>...</td>\n",
       "      <td>NaN</td>\n",
       "      <td>NaN</td>\n",
       "      <td>NaN</td>\n",
       "      <td>NaN</td>\n",
       "      <td>NaN</td>\n",
       "      <td>NaN</td>\n",
       "      <td>NaN</td>\n",
       "      <td>NaN</td>\n",
       "      <td>NaN</td>\n",
       "      <td>NaN</td>\n",
       "    </tr>\n",
       "    <tr>\n",
       "      <td>256095</td>\n",
       "      <td>chr7</td>\n",
       "      <td>3079113</td>\n",
       "      <td>rs397975215;rs5881958</td>\n",
       "      <td>G</td>\n",
       "      <td>G/GT</td>\n",
       "      <td>G/GT</td>\n",
       "      <td>G/GT</td>\n",
       "      <td>GT/GT</td>\n",
       "      <td>GT/GT</td>\n",
       "      <td>NaN</td>\n",
       "      <td>...</td>\n",
       "      <td>NaN</td>\n",
       "      <td>NaN</td>\n",
       "      <td>NaN</td>\n",
       "      <td>NaN</td>\n",
       "      <td>NaN</td>\n",
       "      <td>NaN</td>\n",
       "      <td>NaN</td>\n",
       "      <td>NaN</td>\n",
       "      <td>NaN</td>\n",
       "      <td>NaN</td>\n",
       "    </tr>\n",
       "    <tr>\n",
       "      <td>256246</td>\n",
       "      <td>chr7</td>\n",
       "      <td>3080799</td>\n",
       "      <td>rs12700531</td>\n",
       "      <td>G</td>\n",
       "      <td>G/C</td>\n",
       "      <td>G/C</td>\n",
       "      <td>G/C</td>\n",
       "      <td>C/C</td>\n",
       "      <td>C/C</td>\n",
       "      <td>NaN</td>\n",
       "      <td>...</td>\n",
       "      <td>NaN</td>\n",
       "      <td>NaN</td>\n",
       "      <td>NaN</td>\n",
       "      <td>NaN</td>\n",
       "      <td>NaN</td>\n",
       "      <td>NaN</td>\n",
       "      <td>NaN</td>\n",
       "      <td>NaN</td>\n",
       "      <td>NaN</td>\n",
       "      <td>NaN</td>\n",
       "    </tr>\n",
       "    <tr>\n",
       "      <td>256307</td>\n",
       "      <td>chr7</td>\n",
       "      <td>3081502</td>\n",
       "      <td>rs12667296</td>\n",
       "      <td>C</td>\n",
       "      <td>C/T</td>\n",
       "      <td>C/T</td>\n",
       "      <td>C/T</td>\n",
       "      <td>T/T</td>\n",
       "      <td>T/T</td>\n",
       "      <td>NaN</td>\n",
       "      <td>...</td>\n",
       "      <td>NaN</td>\n",
       "      <td>NaN</td>\n",
       "      <td>NaN</td>\n",
       "      <td>NaN</td>\n",
       "      <td>NaN</td>\n",
       "      <td>NaN</td>\n",
       "      <td>NaN</td>\n",
       "      <td>NaN</td>\n",
       "      <td>NaN</td>\n",
       "      <td>NaN</td>\n",
       "    </tr>\n",
       "    <tr>\n",
       "      <td>256330</td>\n",
       "      <td>chr7</td>\n",
       "      <td>3081758</td>\n",
       "      <td>rs10951014</td>\n",
       "      <td>C</td>\n",
       "      <td>C/T</td>\n",
       "      <td>C/T</td>\n",
       "      <td>C/T</td>\n",
       "      <td>T/T</td>\n",
       "      <td>T/T</td>\n",
       "      <td>NaN</td>\n",
       "      <td>...</td>\n",
       "      <td>NaN</td>\n",
       "      <td>NaN</td>\n",
       "      <td>NaN</td>\n",
       "      <td>NaN</td>\n",
       "      <td>NaN</td>\n",
       "      <td>NaN</td>\n",
       "      <td>NaN</td>\n",
       "      <td>NaN</td>\n",
       "      <td>NaN</td>\n",
       "      <td>NaN</td>\n",
       "    </tr>\n",
       "    <tr>\n",
       "      <td>1728740</td>\n",
       "      <td>chr2</td>\n",
       "      <td>20319535</td>\n",
       "      <td>rs112271474</td>\n",
       "      <td>G</td>\n",
       "      <td>G/GCACA</td>\n",
       "      <td>G/GCACA</td>\n",
       "      <td>NaN</td>\n",
       "      <td>G/GCACA</td>\n",
       "      <td>G/GCACACA</td>\n",
       "      <td>G/GCACA</td>\n",
       "      <td>...</td>\n",
       "      <td>NaN</td>\n",
       "      <td>NaN</td>\n",
       "      <td>NaN</td>\n",
       "      <td>NaN</td>\n",
       "      <td>NaN</td>\n",
       "      <td>NaN</td>\n",
       "      <td>NaN</td>\n",
       "      <td>NaN</td>\n",
       "      <td>NaN</td>\n",
       "      <td>NaN</td>\n",
       "    </tr>\n",
       "    <tr>\n",
       "      <td>1728916</td>\n",
       "      <td>chr2</td>\n",
       "      <td>20320988</td>\n",
       "      <td>rs56151964</td>\n",
       "      <td>AG</td>\n",
       "      <td>AG/A</td>\n",
       "      <td>AG/A</td>\n",
       "      <td>NaN</td>\n",
       "      <td>AG/A</td>\n",
       "      <td>AG/A</td>\n",
       "      <td>AG/A</td>\n",
       "      <td>...</td>\n",
       "      <td>NaN</td>\n",
       "      <td>NaN</td>\n",
       "      <td>NaN</td>\n",
       "      <td>NaN</td>\n",
       "      <td>NaN</td>\n",
       "      <td>NaN</td>\n",
       "      <td>NaN</td>\n",
       "      <td>NaN</td>\n",
       "      <td>NaN</td>\n",
       "      <td>NaN</td>\n",
       "    </tr>\n",
       "    <tr>\n",
       "      <td>1728999</td>\n",
       "      <td>chr2</td>\n",
       "      <td>20321943</td>\n",
       "      <td>rs6717027</td>\n",
       "      <td>G</td>\n",
       "      <td>G/A</td>\n",
       "      <td>G/A</td>\n",
       "      <td>NaN</td>\n",
       "      <td>G/A</td>\n",
       "      <td>G/A</td>\n",
       "      <td>G/A</td>\n",
       "      <td>...</td>\n",
       "      <td>NaN</td>\n",
       "      <td>NaN</td>\n",
       "      <td>NaN</td>\n",
       "      <td>NaN</td>\n",
       "      <td>NaN</td>\n",
       "      <td>NaN</td>\n",
       "      <td>NaN</td>\n",
       "      <td>NaN</td>\n",
       "      <td>NaN</td>\n",
       "      <td>NaN</td>\n",
       "    </tr>\n",
       "    <tr>\n",
       "      <td>1729021</td>\n",
       "      <td>chr2</td>\n",
       "      <td>20322122</td>\n",
       "      <td>rs6717177</td>\n",
       "      <td>G</td>\n",
       "      <td>G/A</td>\n",
       "      <td>G/A</td>\n",
       "      <td>NaN</td>\n",
       "      <td>G/A</td>\n",
       "      <td>G/A</td>\n",
       "      <td>G/A</td>\n",
       "      <td>...</td>\n",
       "      <td>NaN</td>\n",
       "      <td>NaN</td>\n",
       "      <td>NaN</td>\n",
       "      <td>NaN</td>\n",
       "      <td>NaN</td>\n",
       "      <td>NaN</td>\n",
       "      <td>NaN</td>\n",
       "      <td>NaN</td>\n",
       "      <td>NaN</td>\n",
       "      <td>NaN</td>\n",
       "    </tr>\n",
       "    <tr>\n",
       "      <td>1729397</td>\n",
       "      <td>chr2</td>\n",
       "      <td>20325719</td>\n",
       "      <td>rs2045780</td>\n",
       "      <td>T</td>\n",
       "      <td>T/C</td>\n",
       "      <td>T/C</td>\n",
       "      <td>NaN</td>\n",
       "      <td>T/C</td>\n",
       "      <td>T/C</td>\n",
       "      <td>T/C</td>\n",
       "      <td>...</td>\n",
       "      <td>NaN</td>\n",
       "      <td>NaN</td>\n",
       "      <td>NaN</td>\n",
       "      <td>NaN</td>\n",
       "      <td>NaN</td>\n",
       "      <td>NaN</td>\n",
       "      <td>NaN</td>\n",
       "      <td>NaN</td>\n",
       "      <td>NaN</td>\n",
       "      <td>NaN</td>\n",
       "    </tr>\n",
       "    <tr>\n",
       "      <td>1729483</td>\n",
       "      <td>chr2</td>\n",
       "      <td>20326677</td>\n",
       "      <td>rs17652106</td>\n",
       "      <td>T</td>\n",
       "      <td>T/C</td>\n",
       "      <td>T/C</td>\n",
       "      <td>NaN</td>\n",
       "      <td>T/C</td>\n",
       "      <td>T/C</td>\n",
       "      <td>T/C</td>\n",
       "      <td>...</td>\n",
       "      <td>NaN</td>\n",
       "      <td>NaN</td>\n",
       "      <td>NaN</td>\n",
       "      <td>NaN</td>\n",
       "      <td>NaN</td>\n",
       "      <td>NaN</td>\n",
       "      <td>NaN</td>\n",
       "      <td>NaN</td>\n",
       "      <td>NaN</td>\n",
       "      <td>NaN</td>\n",
       "    </tr>\n",
       "    <tr>\n",
       "      <td>1729500</td>\n",
       "      <td>chr2</td>\n",
       "      <td>20326890</td>\n",
       "      <td>rs11685137</td>\n",
       "      <td>G</td>\n",
       "      <td>G/A</td>\n",
       "      <td>G/A</td>\n",
       "      <td>NaN</td>\n",
       "      <td>G/A</td>\n",
       "      <td>G/A</td>\n",
       "      <td>G/A</td>\n",
       "      <td>...</td>\n",
       "      <td>NaN</td>\n",
       "      <td>NaN</td>\n",
       "      <td>NaN</td>\n",
       "      <td>NaN</td>\n",
       "      <td>NaN</td>\n",
       "      <td>NaN</td>\n",
       "      <td>NaN</td>\n",
       "      <td>NaN</td>\n",
       "      <td>NaN</td>\n",
       "      <td>NaN</td>\n",
       "    </tr>\n",
       "    <tr>\n",
       "      <td>1729508</td>\n",
       "      <td>chr2</td>\n",
       "      <td>20326945</td>\n",
       "      <td>rs11686303</td>\n",
       "      <td>G</td>\n",
       "      <td>G/C</td>\n",
       "      <td>G/C</td>\n",
       "      <td>NaN</td>\n",
       "      <td>G/C</td>\n",
       "      <td>G/C</td>\n",
       "      <td>G/C</td>\n",
       "      <td>...</td>\n",
       "      <td>NaN</td>\n",
       "      <td>NaN</td>\n",
       "      <td>NaN</td>\n",
       "      <td>NaN</td>\n",
       "      <td>NaN</td>\n",
       "      <td>NaN</td>\n",
       "      <td>NaN</td>\n",
       "      <td>NaN</td>\n",
       "      <td>NaN</td>\n",
       "      <td>NaN</td>\n",
       "    </tr>\n",
       "    <tr>\n",
       "      <td>5243958</td>\n",
       "      <td>chr13</td>\n",
       "      <td>63606023</td>\n",
       "      <td>rs77336336</td>\n",
       "      <td>T</td>\n",
       "      <td>T/C</td>\n",
       "      <td>T/C</td>\n",
       "      <td>T/C</td>\n",
       "      <td>T/C</td>\n",
       "      <td>T/C</td>\n",
       "      <td>T/C</td>\n",
       "      <td>...</td>\n",
       "      <td>NaN</td>\n",
       "      <td>NaN</td>\n",
       "      <td>NaN</td>\n",
       "      <td>NaN</td>\n",
       "      <td>NaN</td>\n",
       "      <td>NaN</td>\n",
       "      <td>NaN</td>\n",
       "      <td>NaN</td>\n",
       "      <td>NaN</td>\n",
       "      <td>NaN</td>\n",
       "    </tr>\n",
       "    <tr>\n",
       "      <td>6061647</td>\n",
       "      <td>chr11</td>\n",
       "      <td>75245928</td>\n",
       "      <td>rs144542292;rs55765476</td>\n",
       "      <td>C</td>\n",
       "      <td>CGTGT/CGTGT</td>\n",
       "      <td>C/CGTGT</td>\n",
       "      <td>CGT,CGTGT/CGT,CGTGT</td>\n",
       "      <td>CGTGTGT,CGTGTGTGTGT/CGTGTGT,CGTGTGTGTGT</td>\n",
       "      <td>CGTGT,CGTGTGT/CGTGT,CGTGTGT</td>\n",
       "      <td>CGTGT,CGTGTGTGTGT/CGTGT,CGTGTGTGTGT</td>\n",
       "      <td>...</td>\n",
       "      <td>NaN</td>\n",
       "      <td>NaN</td>\n",
       "      <td>NaN</td>\n",
       "      <td>NaN</td>\n",
       "      <td>NaN</td>\n",
       "      <td>NaN</td>\n",
       "      <td>NaN</td>\n",
       "      <td>NaN</td>\n",
       "      <td>NaN</td>\n",
       "      <td>NaN</td>\n",
       "    </tr>\n",
       "    <tr>\n",
       "      <td>6578029</td>\n",
       "      <td>chr2</td>\n",
       "      <td>82378418</td>\n",
       "      <td>rs1430711</td>\n",
       "      <td>C</td>\n",
       "      <td>C/G</td>\n",
       "      <td>C/G</td>\n",
       "      <td>C/G</td>\n",
       "      <td>C/G</td>\n",
       "      <td>C/G</td>\n",
       "      <td>G/G</td>\n",
       "      <td>...</td>\n",
       "      <td>NaN</td>\n",
       "      <td>NaN</td>\n",
       "      <td>NaN</td>\n",
       "      <td>NaN</td>\n",
       "      <td>NaN</td>\n",
       "      <td>NaN</td>\n",
       "      <td>NaN</td>\n",
       "      <td>NaN</td>\n",
       "      <td>NaN</td>\n",
       "      <td>NaN</td>\n",
       "    </tr>\n",
       "    <tr>\n",
       "      <td>6581918</td>\n",
       "      <td>chr2</td>\n",
       "      <td>82436482</td>\n",
       "      <td>rs142933222</td>\n",
       "      <td>ATGTGTG</td>\n",
       "      <td>ATGTG,A/ATGTG,A</td>\n",
       "      <td>ATGTG,A/ATGTG,A</td>\n",
       "      <td>NaN</td>\n",
       "      <td>ATGTGTG/A</td>\n",
       "      <td>ATGTG,A/ATGTG,A</td>\n",
       "      <td>A/A</td>\n",
       "      <td>...</td>\n",
       "      <td>NaN</td>\n",
       "      <td>NaN</td>\n",
       "      <td>NaN</td>\n",
       "      <td>NaN</td>\n",
       "      <td>NaN</td>\n",
       "      <td>NaN</td>\n",
       "      <td>NaN</td>\n",
       "      <td>NaN</td>\n",
       "      <td>NaN</td>\n",
       "      <td>NaN</td>\n",
       "    </tr>\n",
       "    <tr>\n",
       "      <td>8363111</td>\n",
       "      <td>chr11</td>\n",
       "      <td>113942151</td>\n",
       "      <td>rs1672691</td>\n",
       "      <td>C</td>\n",
       "      <td>C/T</td>\n",
       "      <td>C/T</td>\n",
       "      <td>C/T</td>\n",
       "      <td>C/T</td>\n",
       "      <td>NaN</td>\n",
       "      <td>C/T</td>\n",
       "      <td>...</td>\n",
       "      <td>NaN</td>\n",
       "      <td>NaN</td>\n",
       "      <td>NaN</td>\n",
       "      <td>NaN</td>\n",
       "      <td>NaN</td>\n",
       "      <td>NaN</td>\n",
       "      <td>NaN</td>\n",
       "      <td>NaN</td>\n",
       "      <td>NaN</td>\n",
       "      <td>NaN</td>\n",
       "    </tr>\n",
       "    <tr>\n",
       "      <td>9150297</td>\n",
       "      <td>chr9</td>\n",
       "      <td>130898247</td>\n",
       "      <td>rs35318794</td>\n",
       "      <td>C</td>\n",
       "      <td>C/T</td>\n",
       "      <td>C/T</td>\n",
       "      <td>C/T</td>\n",
       "      <td>C/T</td>\n",
       "      <td>C/T</td>\n",
       "      <td>C/T</td>\n",
       "      <td>...</td>\n",
       "      <td>NaN</td>\n",
       "      <td>NaN</td>\n",
       "      <td>NaN</td>\n",
       "      <td>NaN</td>\n",
       "      <td>NaN</td>\n",
       "      <td>NaN</td>\n",
       "      <td>NaN</td>\n",
       "      <td>NaN</td>\n",
       "      <td>NaN</td>\n",
       "      <td>NaN</td>\n",
       "    </tr>\n",
       "  </tbody>\n",
       "</table>\n",
       "<p>20 rows × 24 columns</p>\n",
       "</div>"
      ],
      "text/plain": [
       "         CHROM        POS                      ID      REF               1c  \\\n",
       "255800    chr7    3076053              rs10951010        G              G/A   \n",
       "255874    chr7    3076844               rs7779022        C              C/T   \n",
       "256095    chr7    3079113   rs397975215;rs5881958        G             G/GT   \n",
       "256246    chr7    3080799              rs12700531        G              G/C   \n",
       "256307    chr7    3081502              rs12667296        C              C/T   \n",
       "256330    chr7    3081758              rs10951014        C              C/T   \n",
       "1728740   chr2   20319535             rs112271474        G          G/GCACA   \n",
       "1728916   chr2   20320988              rs56151964       AG             AG/A   \n",
       "1728999   chr2   20321943               rs6717027        G              G/A   \n",
       "1729021   chr2   20322122               rs6717177        G              G/A   \n",
       "1729397   chr2   20325719               rs2045780        T              T/C   \n",
       "1729483   chr2   20326677              rs17652106        T              T/C   \n",
       "1729500   chr2   20326890              rs11685137        G              G/A   \n",
       "1729508   chr2   20326945              rs11686303        G              G/C   \n",
       "5243958  chr13   63606023              rs77336336        T              T/C   \n",
       "6061647  chr11   75245928  rs144542292;rs55765476        C      CGTGT/CGTGT   \n",
       "6578029   chr2   82378418               rs1430711        C              C/G   \n",
       "6581918   chr2   82436482             rs142933222  ATGTGTG  ATGTG,A/ATGTG,A   \n",
       "8363111  chr11  113942151               rs1672691        C              C/T   \n",
       "9150297   chr9  130898247              rs35318794        C              C/T   \n",
       "\n",
       "                      2c                   3c  \\\n",
       "255800               G/A                  G/A   \n",
       "255874               C/T                  C/T   \n",
       "256095              G/GT                 G/GT   \n",
       "256246               G/C                  G/C   \n",
       "256307               C/T                  C/T   \n",
       "256330               C/T                  C/T   \n",
       "1728740          G/GCACA                  NaN   \n",
       "1728916             AG/A                  NaN   \n",
       "1728999              G/A                  NaN   \n",
       "1729021              G/A                  NaN   \n",
       "1729397              T/C                  NaN   \n",
       "1729483              T/C                  NaN   \n",
       "1729500              G/A                  NaN   \n",
       "1729508              G/C                  NaN   \n",
       "5243958              T/C                  T/C   \n",
       "6061647          C/CGTGT  CGT,CGTGT/CGT,CGTGT   \n",
       "6578029              C/G                  C/G   \n",
       "6581918  ATGTG,A/ATGTG,A                  NaN   \n",
       "8363111              C/T                  C/T   \n",
       "9150297              C/T                  C/T   \n",
       "\n",
       "                                              4c                           5c  \\\n",
       "255800                                       A/A                          A/A   \n",
       "255874                                       T/T                          T/T   \n",
       "256095                                     GT/GT                        GT/GT   \n",
       "256246                                       C/C                          C/C   \n",
       "256307                                       T/T                          T/T   \n",
       "256330                                       T/T                          T/T   \n",
       "1728740                                  G/GCACA                    G/GCACACA   \n",
       "1728916                                     AG/A                         AG/A   \n",
       "1728999                                      G/A                          G/A   \n",
       "1729021                                      G/A                          G/A   \n",
       "1729397                                      T/C                          T/C   \n",
       "1729483                                      T/C                          T/C   \n",
       "1729500                                      G/A                          G/A   \n",
       "1729508                                      G/C                          G/C   \n",
       "5243958                                      T/C                          T/C   \n",
       "6061647  CGTGTGT,CGTGTGTGTGT/CGTGTGT,CGTGTGTGTGT  CGTGT,CGTGTGT/CGTGT,CGTGTGT   \n",
       "6578029                                      C/G                          C/G   \n",
       "6581918                                ATGTGTG/A              ATGTG,A/ATGTG,A   \n",
       "8363111                                      C/T                          NaN   \n",
       "9150297                                      C/T                          C/T   \n",
       "\n",
       "                                          6c  ...  1cn  2cn  3cn  4cn  5cn  \\\n",
       "255800                                   NaN  ...  NaN  NaN  NaN  NaN  NaN   \n",
       "255874                                   NaN  ...  NaN  NaN  NaN  NaN  NaN   \n",
       "256095                                   NaN  ...  NaN  NaN  NaN  NaN  NaN   \n",
       "256246                                   NaN  ...  NaN  NaN  NaN  NaN  NaN   \n",
       "256307                                   NaN  ...  NaN  NaN  NaN  NaN  NaN   \n",
       "256330                                   NaN  ...  NaN  NaN  NaN  NaN  NaN   \n",
       "1728740                              G/GCACA  ...  NaN  NaN  NaN  NaN  NaN   \n",
       "1728916                                 AG/A  ...  NaN  NaN  NaN  NaN  NaN   \n",
       "1728999                                  G/A  ...  NaN  NaN  NaN  NaN  NaN   \n",
       "1729021                                  G/A  ...  NaN  NaN  NaN  NaN  NaN   \n",
       "1729397                                  T/C  ...  NaN  NaN  NaN  NaN  NaN   \n",
       "1729483                                  T/C  ...  NaN  NaN  NaN  NaN  NaN   \n",
       "1729500                                  G/A  ...  NaN  NaN  NaN  NaN  NaN   \n",
       "1729508                                  G/C  ...  NaN  NaN  NaN  NaN  NaN   \n",
       "5243958                                  T/C  ...  NaN  NaN  NaN  NaN  NaN   \n",
       "6061647  CGTGT,CGTGTGTGTGT/CGTGT,CGTGTGTGTGT  ...  NaN  NaN  NaN  NaN  NaN   \n",
       "6578029                                  G/G  ...  NaN  NaN  NaN  NaN  NaN   \n",
       "6581918                                  A/A  ...  NaN  NaN  NaN  NaN  NaN   \n",
       "8363111                                  C/T  ...  NaN  NaN  NaN  NaN  NaN   \n",
       "9150297                                  C/T  ...  NaN  NaN  NaN  NaN  NaN   \n",
       "\n",
       "         6cn  7cn  8cn  9cn 10cn  \n",
       "255800   NaN  NaN  NaN  NaN  NaN  \n",
       "255874   NaN  NaN  NaN  NaN  NaN  \n",
       "256095   NaN  NaN  NaN  NaN  NaN  \n",
       "256246   NaN  NaN  NaN  NaN  NaN  \n",
       "256307   NaN  NaN  NaN  NaN  NaN  \n",
       "256330   NaN  NaN  NaN  NaN  NaN  \n",
       "1728740  NaN  NaN  NaN  NaN  NaN  \n",
       "1728916  NaN  NaN  NaN  NaN  NaN  \n",
       "1728999  NaN  NaN  NaN  NaN  NaN  \n",
       "1729021  NaN  NaN  NaN  NaN  NaN  \n",
       "1729397  NaN  NaN  NaN  NaN  NaN  \n",
       "1729483  NaN  NaN  NaN  NaN  NaN  \n",
       "1729500  NaN  NaN  NaN  NaN  NaN  \n",
       "1729508  NaN  NaN  NaN  NaN  NaN  \n",
       "5243958  NaN  NaN  NaN  NaN  NaN  \n",
       "6061647  NaN  NaN  NaN  NaN  NaN  \n",
       "6578029  NaN  NaN  NaN  NaN  NaN  \n",
       "6581918  NaN  NaN  NaN  NaN  NaN  \n",
       "8363111  NaN  NaN  NaN  NaN  NaN  \n",
       "9150297  NaN  NaN  NaN  NaN  NaN  \n",
       "\n",
       "[20 rows x 24 columns]"
      ]
     },
     "execution_count": 114,
     "metadata": {},
     "output_type": "execute_result"
    }
   ],
   "source": [
    "case_con"
   ]
  },
  {
   "cell_type": "code",
   "execution_count": 22,
   "metadata": {},
   "outputs": [
    {
     "data": {
      "text/plain": [
       "(20, 24)"
      ]
     },
     "execution_count": 22,
     "metadata": {},
     "output_type": "execute_result"
    }
   ],
   "source": [
    "case_con.shape\n",
    "#This 20 Rows are Highly sensitive because these are recurring only in Case more than 90 %"
   ]
  },
  {
   "cell_type": "code",
   "execution_count": null,
   "metadata": {},
   "outputs": [],
   "source": [
    "#Since "
   ]
  },
  {
   "cell_type": "code",
   "execution_count": 115,
   "metadata": {},
   "outputs": [
    {
     "data": {
      "text/plain": [
       "<matplotlib.axes._subplots.AxesSubplot at 0x15ce330c3c8>"
      ]
     },
     "execution_count": 115,
     "metadata": {},
     "output_type": "execute_result"
    },
    {
     "data": {
      "image/png": "[encoded data removed]",
      "text/plain": [
       "<Figure size 720x720 with 1 Axes>"
      ]
     },
     "metadata": {
      "needs_background": "light"
     },
     "output_type": "display_data"
    }
   ],
   "source": [
    "fig = plt.figure(figsize=(10,10))\n",
    "plt.title(\"Heat Map \")\n",
    "plt.xlabel(\"Case(c) & Control(cn)\")\n",
    "plt.ylabel(\"Position of Sequence (SNP)\")\n",
    "\n",
    "sns.heatmap(case_con.iloc[:,[4,5,6,7,8,9,10,11,12,13,14,15,16,17,18,19,20,21,22,23]].isnull(),cmap = \"viridis\",\\\n",
    "            cbar = False )"
   ]
  },
  {
   "cell_type": "code",
   "execution_count": null,
   "metadata": {},
   "outputs": [],
   "source": [
    "#In this Figure we Can see yello Portions is Not Snp and brown in SNP\n",
    "#We are Planning to Apply Logistic Regression Method if Our Data set increase more than 30/40 sets\n",
    "# Till now we cant make decision "
   ]
  },
  {
   "cell_type": "code",
   "execution_count": 44,
   "metadata": {},
   "outputs": [
    {
     "data": {
      "text/plain": [
       "<matplotlib.axes._subplots.AxesSubplot at 0x15bdaf6fbc8>"
      ]
     },
     "execution_count": 44,
     "metadata": {},
     "output_type": "execute_result"
    },
    {
     "data": {
      "image/png": "[encoded data removed]",
      "text/plain": [
       "<Figure size 432x288 with 1 Axes>"
      ]
     },
     "metadata": {
      "needs_background": "light"
     },
     "output_type": "display_data"
    }
   ],
   "source": [
    "rep_chrom = case_con.groupby([\"CHROM\"]).size()\n",
    "rep_chrom.plot()"
   ]
  },
  {
   "cell_type": "code",
   "execution_count": 54,
   "metadata": {},
   "outputs": [
    {
     "data": {
      "text/plain": [
       "<matplotlib.axes._subplots.AxesSubplot at 0x15bd9e98708>"
      ]
     },
     "execution_count": 54,
     "metadata": {},
     "output_type": "execute_result"
    },
    {
     "data": {
      "image/png": "[encoded data removed]",
      "text/plain": [
       "<Figure size 432x288 with 1 Axes>"
      ]
     },
     "metadata": {
      "needs_background": "light"
     },
     "output_type": "display_data"
    }
   ],
   "source": [
    "sns.countplot(case_con[\"CHROM\"])"
   ]
  },
  {
   "cell_type": "code",
   "execution_count": 118,
   "metadata": {},
   "outputs": [],
   "source": [
    "#df_gr = df.groupby([\"CHROM\"]).size()"
   ]
  },
  {
   "cell_type": "code",
   "execution_count": 119,
   "metadata": {},
   "outputs": [],
   "source": [
    "#df_gr#We can see the Number of Chromosome repeating in df data set"
   ]
  },
  {
   "cell_type": "code",
   "execution_count": 120,
   "metadata": {},
   "outputs": [
    {
     "data": {
      "text/html": [
       "<div>\n",
       "<style scoped>\n",
       "    .dataframe tbody tr th:only-of-type {\n",
       "        vertical-align: middle;\n",
       "    }\n",
       "\n",
       "    .dataframe tbody tr th {\n",
       "        vertical-align: top;\n",
       "    }\n",
       "\n",
       "    .dataframe thead th {\n",
       "        text-align: right;\n",
       "    }\n",
       "</style>\n",
       "<table border=\"1\" class=\"dataframe\">\n",
       "  <thead>\n",
       "    <tr style=\"text-align: right;\">\n",
       "      <th></th>\n",
       "      <th>CHROM</th>\n",
       "      <th>POS</th>\n",
       "      <th>ID</th>\n",
       "      <th>REF</th>\n",
       "      <th>1c</th>\n",
       "      <th>2c</th>\n",
       "      <th>3c</th>\n",
       "      <th>4c</th>\n",
       "      <th>5c</th>\n",
       "      <th>6c</th>\n",
       "      <th>...</th>\n",
       "      <th>1cn</th>\n",
       "      <th>2cn</th>\n",
       "      <th>3cn</th>\n",
       "      <th>4cn</th>\n",
       "      <th>5cn</th>\n",
       "      <th>6cn</th>\n",
       "      <th>7cn</th>\n",
       "      <th>8cn</th>\n",
       "      <th>9cn</th>\n",
       "      <th>10cn</th>\n",
       "    </tr>\n",
       "  </thead>\n",
       "  <tbody>\n",
       "    <tr>\n",
       "      <td>0</td>\n",
       "      <td>chrM</td>\n",
       "      <td>146</td>\n",
       "      <td>.</td>\n",
       "      <td>T</td>\n",
       "      <td>NaN</td>\n",
       "      <td>NaN</td>\n",
       "      <td>NaN</td>\n",
       "      <td>NaN</td>\n",
       "      <td>NaN</td>\n",
       "      <td>NaN</td>\n",
       "      <td>...</td>\n",
       "      <td>NaN</td>\n",
       "      <td>C/C</td>\n",
       "      <td>NaN</td>\n",
       "      <td>NaN</td>\n",
       "      <td>NaN</td>\n",
       "      <td>NaN</td>\n",
       "      <td>NaN</td>\n",
       "      <td>NaN</td>\n",
       "      <td>NaN</td>\n",
       "      <td>NaN</td>\n",
       "    </tr>\n",
       "    <tr>\n",
       "      <td>1</td>\n",
       "      <td>chrM</td>\n",
       "      <td>150</td>\n",
       "      <td>.</td>\n",
       "      <td>T</td>\n",
       "      <td>C/C</td>\n",
       "      <td>C/C</td>\n",
       "      <td>C/C</td>\n",
       "      <td>NaN</td>\n",
       "      <td>NaN</td>\n",
       "      <td>NaN</td>\n",
       "      <td>...</td>\n",
       "      <td>C/C</td>\n",
       "      <td>C/C</td>\n",
       "      <td>C/C</td>\n",
       "      <td>C/C</td>\n",
       "      <td>C/C</td>\n",
       "      <td>NaN</td>\n",
       "      <td>C/C</td>\n",
       "      <td>NaN</td>\n",
       "      <td>NaN</td>\n",
       "      <td>NaN</td>\n",
       "    </tr>\n",
       "  </tbody>\n",
       "</table>\n",
       "<p>2 rows × 24 columns</p>\n",
       "</div>"
      ],
      "text/plain": [
       "  CHROM  POS ID REF   1c   2c   3c   4c   5c   6c  ...  1cn  2cn  3cn  4cn  \\\n",
       "0  chrM  146  .   T  NaN  NaN  NaN  NaN  NaN  NaN  ...  NaN  C/C  NaN  NaN   \n",
       "1  chrM  150  .   T  C/C  C/C  C/C  NaN  NaN  NaN  ...  C/C  C/C  C/C  C/C   \n",
       "\n",
       "   5cn  6cn  7cn  8cn  9cn 10cn  \n",
       "0  NaN  NaN  NaN  NaN  NaN  NaN  \n",
       "1  C/C  NaN  C/C  NaN  NaN  NaN  \n",
       "\n",
       "[2 rows x 24 columns]"
      ]
     },
     "execution_count": 120,
     "metadata": {},
     "output_type": "execute_result"
    }
   ],
   "source": [
    "df.head(2)"
   ]
  },
  {
   "cell_type": "code",
   "execution_count": 121,
   "metadata": {},
   "outputs": [
    {
     "data": {
      "text/plain": [
       "<matplotlib.axes._subplots.AxesSubplot at 0x15cdf31ba48>"
      ]
     },
     "execution_count": 121,
     "metadata": {},
     "output_type": "execute_result"
    },
    {
     "data": {
      "image/png": "[encoded data removed]",
      "text/plain": [
       "<Figure size 720x720 with 1 Axes>"
      ]
     },
     "metadata": {
      "needs_background": "light"
     },
     "output_type": "display_data"
    }
   ],
   "source": [
    "fig = plt.figure(figsize=(10,10))\n",
    "plt.title(\"Heat Map \")\n",
    "plt.xlabel(\"Case(c) & Control(cn)\")\n",
    "plt.ylabel(\"Position of Sequence (SNP)\")\n",
    "\n",
    "sns.heatmap(con_case.iloc[:,[4,5,6,7,8,9,10,11,12,13,14,15,16,17,18,19,20,21,22,23]].isnull(),cmap = \"viridis\",\\\n",
    "            cbar = False )"
   ]
  },
  {
   "cell_type": "code",
   "execution_count": null,
   "metadata": {},
   "outputs": [],
   "source": []
  },
  {
   "cell_type": "markdown",
   "metadata": {},
   "source": [
    "## Method 2, "
   ]
  },
  {
   "cell_type": "code",
   "execution_count": 58,
   "metadata": {},
   "outputs": [],
   "source": [
    "test = df.head()"
   ]
  },
  {
   "cell_type": "code",
   "execution_count": 122,
   "metadata": {},
   "outputs": [],
   "source": [
    "#test[\"Case\"] = test.iloc[:,4:14].apply(lambda x: \",\".join(x.astype(str)), axis=1)\n",
    "#df[\"Case\"] = df.iloc[:,4:14].apply(lambda x: \",\".join(x.astype(str)), axis=1)\n",
    "#The Output is Same but Processing time is So slow\n",
    "#Dont Recommend this method"
   ]
  },
  {
   "cell_type": "code",
   "execution_count": null,
   "metadata": {},
   "outputs": [],
   "source": [
    "#df= df.assign(Case = df[\"1c\"].astype(str)+',' +df[\"2c\"].astype(str)+','+df[\"3c\"].astype(str)+','+df[\"4c\"].astype(str)\\\n",
    "#               + ', '+df[\"5c\"].astype(str)+','+df[\"6c\"].astype(str)+',' +df[\"7c\"].astype(str)+','+df[\"8c\"].astype(str)+','\\\n",
    "#              +df[\"9c\"].astype(str)+','+df[\"10c\"].astype(str))"
   ]
  },
  {
   "cell_type": "code",
   "execution_count": null,
   "metadata": {},
   "outputs": [],
   "source": [
    "#df.assign() method is fast"
   ]
  },
  {
   "cell_type": "code",
   "execution_count": 125,
   "metadata": {},
   "outputs": [],
   "source": [
    "df= df.assign(Control = df[\"1cn\"].astype(str)+',' +df[\"2cn\"].astype(str)+','+df[\"3cn\"].astype(str)+','+df[\"4cn\"].astype(str)\\\n",
    "               + ', '+df[\"5cn\"].astype(str)+','+df[\"6cn\"].astype(str)+',' +df[\"7cn\"].astype(str)+','+df[\"8cn\"].astype(str)+','\\\n",
    "              +df[\"9cn\"].astype(str)+','+df[\"10cn\"].astype(str))"
   ]
  },
  {
   "cell_type": "code",
   "execution_count": 98,
   "metadata": {},
   "outputs": [],
   "source": [
    "#df[\"Control\"] = df.iloc[:,4:14].apply(lambda x: \",\".join(x.astype(str)), axis=1)\n",
    "#This Method seems to time Consuming\n",
    "#test = test.assign(Control = test[\"1cn\"].astype(str) + ', ' + \\\n",
    "#  test[\"2cn\"].astype(str) + ', ' +test[\"3cn\"].astype(str) + ', ' \\\n",
    "#  +test[\"4cn\"].astype(str) + ', '+test[\"5cn\"].astype(str))\n",
    "\n",
    "#df= df.assign(Control = df[\"1cn\"].astype(str)+',' +df[\"2cn\"].astype(str)+','+df[\"3cn\"].astype(str)+','+df[\"4cn\"].astype(str)\\\n",
    "#               + ', '+df[\"5cn\"].astype(str)+','+df[\"6cn\"].astype(str)+',' +df[\"7cn\"].astype(str)+','+df[\"8cn\"].astype(str)+','\\\n",
    "#              +df[\"9cn\"].astype(str)+','+df[\"10cn\"].astype(str))"
   ]
  },
  {
   "cell_type": "code",
   "execution_count": 130,
   "metadata": {},
   "outputs": [
    {
     "data": {
      "text/html": [
       "<div>\n",
       "<style scoped>\n",
       "    .dataframe tbody tr th:only-of-type {\n",
       "        vertical-align: middle;\n",
       "    }\n",
       "\n",
       "    .dataframe tbody tr th {\n",
       "        vertical-align: top;\n",
       "    }\n",
       "\n",
       "    .dataframe thead th {\n",
       "        text-align: right;\n",
       "    }\n",
       "</style>\n",
       "<table border=\"1\" class=\"dataframe\">\n",
       "  <thead>\n",
       "    <tr style=\"text-align: right;\">\n",
       "      <th></th>\n",
       "      <th>CHROM</th>\n",
       "      <th>POS</th>\n",
       "      <th>ID</th>\n",
       "      <th>REF</th>\n",
       "      <th>Case</th>\n",
       "      <th>Control</th>\n",
       "    </tr>\n",
       "  </thead>\n",
       "  <tbody>\n",
       "    <tr>\n",
       "      <td>0</td>\n",
       "      <td>chrM</td>\n",
       "      <td>146</td>\n",
       "      <td>.</td>\n",
       "      <td>T</td>\n",
       "      <td>nan,nan,nan,nan,nan,nan,nan,nan,nan,nan</td>\n",
       "      <td>nan,C/C,nan,nan, nan,nan,nan,nan,nan,nan</td>\n",
       "    </tr>\n",
       "    <tr>\n",
       "      <td>1</td>\n",
       "      <td>chrM</td>\n",
       "      <td>150</td>\n",
       "      <td>.</td>\n",
       "      <td>T</td>\n",
       "      <td>C/C,C/C,C/C,nan,nan,nan,nan,C/C,C/C,nan</td>\n",
       "      <td>C/C,C/C,C/C,C/C, C/C,nan,C/C,nan,nan,nan</td>\n",
       "    </tr>\n",
       "  </tbody>\n",
       "</table>\n",
       "</div>"
      ],
      "text/plain": [
       "  CHROM  POS ID REF                                     Case  \\\n",
       "0  chrM  146  .   T  nan,nan,nan,nan,nan,nan,nan,nan,nan,nan   \n",
       "1  chrM  150  .   T  C/C,C/C,C/C,nan,nan,nan,nan,C/C,C/C,nan   \n",
       "\n",
       "                                    Control  \n",
       "0  nan,C/C,nan,nan, nan,nan,nan,nan,nan,nan  \n",
       "1  C/C,C/C,C/C,C/C, C/C,nan,C/C,nan,nan,nan  "
      ]
     },
     "execution_count": 130,
     "metadata": {},
     "output_type": "execute_result"
    }
   ],
   "source": [
    "df=df.iloc[:,[0,1,2,3,-2,-1]]\n",
    "df.head(2)"
   ]
  },
  {
   "cell_type": "code",
   "execution_count": 131,
   "metadata": {},
   "outputs": [],
   "source": [
    "df.to_csv(\"../case_control_list.csv\",index=False)\n",
    "#test = df.head(100)"
   ]
  },
  {
   "cell_type": "code",
   "execution_count": 129,
   "metadata": {},
   "outputs": [
    {
     "data": {
      "text/html": [
       "<div>\n",
       "<style scoped>\n",
       "    .dataframe tbody tr th:only-of-type {\n",
       "        vertical-align: middle;\n",
       "    }\n",
       "\n",
       "    .dataframe tbody tr th {\n",
       "        vertical-align: top;\n",
       "    }\n",
       "\n",
       "    .dataframe thead th {\n",
       "        text-align: right;\n",
       "    }\n",
       "</style>\n",
       "<table border=\"1\" class=\"dataframe\">\n",
       "  <thead>\n",
       "    <tr style=\"text-align: right;\">\n",
       "      <th></th>\n",
       "      <th>CHROM</th>\n",
       "      <th>POS</th>\n",
       "      <th>ID</th>\n",
       "      <th>REF</th>\n",
       "      <th>Case</th>\n",
       "      <th>Control</th>\n",
       "    </tr>\n",
       "  </thead>\n",
       "  <tbody>\n",
       "    <tr>\n",
       "      <td>0</td>\n",
       "      <td>chrM</td>\n",
       "      <td>146</td>\n",
       "      <td>.</td>\n",
       "      <td>T</td>\n",
       "      <td>nan,nan,nan,nan,nan,nan,nan,nan,nan,nan</td>\n",
       "      <td>nan,C/C,nan,nan, nan,nan,nan,nan,nan,nan</td>\n",
       "    </tr>\n",
       "    <tr>\n",
       "      <td>1</td>\n",
       "      <td>chrM</td>\n",
       "      <td>150</td>\n",
       "      <td>.</td>\n",
       "      <td>T</td>\n",
       "      <td>C/C,C/C,C/C,nan,nan,nan,nan,C/C,C/C,nan</td>\n",
       "      <td>C/C,C/C,C/C,C/C, C/C,nan,C/C,nan,nan,nan</td>\n",
       "    </tr>\n",
       "  </tbody>\n",
       "</table>\n",
       "</div>"
      ],
      "text/plain": [
       "  CHROM  POS ID REF                                     Case  \\\n",
       "0  chrM  146  .   T  nan,nan,nan,nan,nan,nan,nan,nan,nan,nan   \n",
       "1  chrM  150  .   T  C/C,C/C,C/C,nan,nan,nan,nan,C/C,C/C,nan   \n",
       "\n",
       "                                    Control  \n",
       "0  nan,C/C,nan,nan, nan,nan,nan,nan,nan,nan  \n",
       "1  C/C,C/C,C/C,C/C, C/C,nan,C/C,nan,nan,nan  "
      ]
     },
     "execution_count": 129,
     "metadata": {},
     "output_type": "execute_result"
    }
   ],
   "source": [
    "#test = test.iloc[:,[0,1,2,3,14,15,16,17,18,19,20,21,22,23,24]]\n",
    "#test = test.iloc[:,[0,1,2,3,-2,-1]]\n",
    "#test.head(2)"
   ]
  },
  {
   "cell_type": "code",
   "execution_count": 133,
   "metadata": {},
   "outputs": [
    {
     "data": {
      "text/html": [
       "<div>\n",
       "<style scoped>\n",
       "    .dataframe tbody tr th:only-of-type {\n",
       "        vertical-align: middle;\n",
       "    }\n",
       "\n",
       "    .dataframe tbody tr th {\n",
       "        vertical-align: top;\n",
       "    }\n",
       "\n",
       "    .dataframe thead th {\n",
       "        text-align: right;\n",
       "    }\n",
       "</style>\n",
       "<table border=\"1\" class=\"dataframe\">\n",
       "  <thead>\n",
       "    <tr style=\"text-align: right;\">\n",
       "      <th></th>\n",
       "      <th>CHROM</th>\n",
       "      <th>POS</th>\n",
       "      <th>ID</th>\n",
       "      <th>REF</th>\n",
       "      <th>Case</th>\n",
       "      <th>Control</th>\n",
       "    </tr>\n",
       "  </thead>\n",
       "  <tbody>\n",
       "    <tr>\n",
       "      <td>0</td>\n",
       "      <td>chrM</td>\n",
       "      <td>146</td>\n",
       "      <td>.</td>\n",
       "      <td>T</td>\n",
       "      <td>nan,nan,nan,nan,nan,nan,nan,nan,nan,nan</td>\n",
       "      <td>nan,C/C,nan,nan, nan,nan,nan,nan,nan,nan</td>\n",
       "    </tr>\n",
       "    <tr>\n",
       "      <td>1</td>\n",
       "      <td>chrM</td>\n",
       "      <td>150</td>\n",
       "      <td>.</td>\n",
       "      <td>T</td>\n",
       "      <td>C/C,C/C,C/C,nan,nan,nan,nan,C/C,C/C,nan</td>\n",
       "      <td>C/C,C/C,C/C,C/C, C/C,nan,C/C,nan,nan,nan</td>\n",
       "    </tr>\n",
       "    <tr>\n",
       "      <td>2</td>\n",
       "      <td>chrM</td>\n",
       "      <td>152</td>\n",
       "      <td>.</td>\n",
       "      <td>T</td>\n",
       "      <td>nan,nan,nan,nan,nan,nan,nan,C/C,nan,nan</td>\n",
       "      <td>nan,nan,C/C,nan, nan,nan,C/C,nan,nan,C/C</td>\n",
       "    </tr>\n",
       "    <tr>\n",
       "      <td>3</td>\n",
       "      <td>chr17</td>\n",
       "      <td>169</td>\n",
       "      <td>.</td>\n",
       "      <td>C</td>\n",
       "      <td>nan,nan,nan,nan,nan,nan,nan,nan,nan,nan</td>\n",
       "      <td>nan,nan,nan,nan, nan,nan,nan,nan,C/G,nan</td>\n",
       "    </tr>\n",
       "    <tr>\n",
       "      <td>4</td>\n",
       "      <td>chrM</td>\n",
       "      <td>183</td>\n",
       "      <td>.</td>\n",
       "      <td>A</td>\n",
       "      <td>nan,nan,nan,nan,nan,nan,nan,nan,nan,nan</td>\n",
       "      <td>nan,nan,nan,nan, nan,nan,nan,nan,nan,G/G</td>\n",
       "    </tr>\n",
       "  </tbody>\n",
       "</table>\n",
       "</div>"
      ],
      "text/plain": [
       "   CHROM  POS ID REF                                     Case  \\\n",
       "0   chrM  146  .   T  nan,nan,nan,nan,nan,nan,nan,nan,nan,nan   \n",
       "1   chrM  150  .   T  C/C,C/C,C/C,nan,nan,nan,nan,C/C,C/C,nan   \n",
       "2   chrM  152  .   T  nan,nan,nan,nan,nan,nan,nan,C/C,nan,nan   \n",
       "3  chr17  169  .   C  nan,nan,nan,nan,nan,nan,nan,nan,nan,nan   \n",
       "4   chrM  183  .   A  nan,nan,nan,nan,nan,nan,nan,nan,nan,nan   \n",
       "\n",
       "                                    Control  \n",
       "0  nan,C/C,nan,nan, nan,nan,nan,nan,nan,nan  \n",
       "1  C/C,C/C,C/C,C/C, C/C,nan,C/C,nan,nan,nan  \n",
       "2  nan,nan,C/C,nan, nan,nan,C/C,nan,nan,C/C  \n",
       "3  nan,nan,nan,nan, nan,nan,nan,nan,C/G,nan  \n",
       "4  nan,nan,nan,nan, nan,nan,nan,nan,nan,G/G  "
      ]
     },
     "execution_count": 133,
     "metadata": {},
     "output_type": "execute_result"
    }
   ],
   "source": [
    "df.head()"
   ]
  },
  {
   "cell_type": "code",
   "execution_count": 136,
   "metadata": {},
   "outputs": [],
   "source": [
    "#df.drop_duplicates(keep=\"first\")"
   ]
  },
  {
   "cell_type": "code",
   "execution_count": 139,
   "metadata": {},
   "outputs": [
    {
     "data": {
      "text/html": [
       "<div>\n",
       "<style scoped>\n",
       "    .dataframe tbody tr th:only-of-type {\n",
       "        vertical-align: middle;\n",
       "    }\n",
       "\n",
       "    .dataframe tbody tr th {\n",
       "        vertical-align: top;\n",
       "    }\n",
       "\n",
       "    .dataframe thead th {\n",
       "        text-align: right;\n",
       "    }\n",
       "</style>\n",
       "<table border=\"1\" class=\"dataframe\">\n",
       "  <thead>\n",
       "    <tr style=\"text-align: right;\">\n",
       "      <th></th>\n",
       "      <th>CHROM</th>\n",
       "      <th>POS</th>\n",
       "      <th>ID</th>\n",
       "      <th>REF</th>\n",
       "      <th>Case</th>\n",
       "      <th>Control</th>\n",
       "      <th>case_max</th>\n",
       "      <th>cont_max</th>\n",
       "    </tr>\n",
       "  </thead>\n",
       "  <tbody>\n",
       "    <tr>\n",
       "      <td>0</td>\n",
       "      <td>chrM</td>\n",
       "      <td>146</td>\n",
       "      <td>.</td>\n",
       "      <td>T</td>\n",
       "      <td>nan,nan,nan,nan,nan,nan,nan,nan,nan,nan</td>\n",
       "      <td>nan,C/C,nan,nan, nan,nan,nan,nan,nan,nan</td>\n",
       "      <td>[(nan, 10)]</td>\n",
       "      <td>[(nan, 8)]</td>\n",
       "    </tr>\n",
       "    <tr>\n",
       "      <td>1</td>\n",
       "      <td>chrM</td>\n",
       "      <td>150</td>\n",
       "      <td>.</td>\n",
       "      <td>T</td>\n",
       "      <td>C/C,C/C,C/C,nan,nan,nan,nan,C/C,C/C,nan</td>\n",
       "      <td>C/C,C/C,C/C,C/C, C/C,nan,C/C,nan,nan,nan</td>\n",
       "      <td>[(C/C, 5)]</td>\n",
       "      <td>[(C/C, 5)]</td>\n",
       "    </tr>\n",
       "    <tr>\n",
       "      <td>2</td>\n",
       "      <td>chrM</td>\n",
       "      <td>152</td>\n",
       "      <td>.</td>\n",
       "      <td>T</td>\n",
       "      <td>nan,nan,nan,nan,nan,nan,nan,C/C,nan,nan</td>\n",
       "      <td>nan,nan,C/C,nan, nan,nan,C/C,nan,nan,C/C</td>\n",
       "      <td>[(nan, 9)]</td>\n",
       "      <td>[(nan, 6)]</td>\n",
       "    </tr>\n",
       "    <tr>\n",
       "      <td>3</td>\n",
       "      <td>chr17</td>\n",
       "      <td>169</td>\n",
       "      <td>.</td>\n",
       "      <td>C</td>\n",
       "      <td>nan,nan,nan,nan,nan,nan,nan,nan,nan,nan</td>\n",
       "      <td>nan,nan,nan,nan, nan,nan,nan,nan,C/G,nan</td>\n",
       "      <td>[(nan, 10)]</td>\n",
       "      <td>[(nan, 8)]</td>\n",
       "    </tr>\n",
       "    <tr>\n",
       "      <td>4</td>\n",
       "      <td>chrM</td>\n",
       "      <td>183</td>\n",
       "      <td>.</td>\n",
       "      <td>A</td>\n",
       "      <td>nan,nan,nan,nan,nan,nan,nan,nan,nan,nan</td>\n",
       "      <td>nan,nan,nan,nan, nan,nan,nan,nan,nan,G/G</td>\n",
       "      <td>[(nan, 10)]</td>\n",
       "      <td>[(nan, 8)]</td>\n",
       "    </tr>\n",
       "  </tbody>\n",
       "</table>\n",
       "</div>"
      ],
      "text/plain": [
       "   CHROM  POS ID REF                                     Case  \\\n",
       "0   chrM  146  .   T  nan,nan,nan,nan,nan,nan,nan,nan,nan,nan   \n",
       "1   chrM  150  .   T  C/C,C/C,C/C,nan,nan,nan,nan,C/C,C/C,nan   \n",
       "2   chrM  152  .   T  nan,nan,nan,nan,nan,nan,nan,C/C,nan,nan   \n",
       "3  chr17  169  .   C  nan,nan,nan,nan,nan,nan,nan,nan,nan,nan   \n",
       "4   chrM  183  .   A  nan,nan,nan,nan,nan,nan,nan,nan,nan,nan   \n",
       "\n",
       "                                    Control     case_max    cont_max  \n",
       "0  nan,C/C,nan,nan, nan,nan,nan,nan,nan,nan  [(nan, 10)]  [(nan, 8)]  \n",
       "1  C/C,C/C,C/C,C/C, C/C,nan,C/C,nan,nan,nan   [(C/C, 5)]  [(C/C, 5)]  \n",
       "2  nan,nan,C/C,nan, nan,nan,C/C,nan,nan,C/C   [(nan, 9)]  [(nan, 6)]  \n",
       "3  nan,nan,nan,nan, nan,nan,nan,nan,C/G,nan  [(nan, 10)]  [(nan, 8)]  \n",
       "4  nan,nan,nan,nan, nan,nan,nan,nan,nan,G/G  [(nan, 10)]  [(nan, 8)]  "
      ]
     },
     "execution_count": 139,
     "metadata": {},
     "output_type": "execute_result"
    }
   ],
   "source": [
    "from collections import Counter\n",
    "df[\"case_max\"] = df[\"Case\"].apply(lambda x :(Counter((list(x.split(\",\"))))).most_common(1))\n",
    "df[\"cont_max\"] = df[\"Control\"].apply(lambda x:(Counter(x.split(\",\"))).most_common(1))\n",
    "df.head()"
   ]
  },
  {
   "cell_type": "code",
   "execution_count": 143,
   "metadata": {},
   "outputs": [
    {
     "data": {
      "text/html": [
       "<div>\n",
       "<style scoped>\n",
       "    .dataframe tbody tr th:only-of-type {\n",
       "        vertical-align: middle;\n",
       "    }\n",
       "\n",
       "    .dataframe tbody tr th {\n",
       "        vertical-align: top;\n",
       "    }\n",
       "\n",
       "    .dataframe thead th {\n",
       "        text-align: right;\n",
       "    }\n",
       "</style>\n",
       "<table border=\"1\" class=\"dataframe\">\n",
       "  <thead>\n",
       "    <tr style=\"text-align: right;\">\n",
       "      <th></th>\n",
       "      <th>CHROM</th>\n",
       "      <th>POS</th>\n",
       "      <th>ID</th>\n",
       "      <th>REF</th>\n",
       "      <th>Case</th>\n",
       "      <th>Control</th>\n",
       "      <th>Case_</th>\n",
       "      <th>Cont_</th>\n",
       "    </tr>\n",
       "  </thead>\n",
       "  <tbody>\n",
       "    <tr>\n",
       "      <td>0</td>\n",
       "      <td>chrM</td>\n",
       "      <td>146</td>\n",
       "      <td>.</td>\n",
       "      <td>T</td>\n",
       "      <td>nan,nan,nan,nan,nan,nan,nan,nan,nan,nan</td>\n",
       "      <td>nan,C/C,nan,nan, nan,nan,nan,nan,nan,nan</td>\n",
       "      <td>(nan, 10)</td>\n",
       "      <td>(nan, 8)</td>\n",
       "    </tr>\n",
       "    <tr>\n",
       "      <td>1</td>\n",
       "      <td>chrM</td>\n",
       "      <td>150</td>\n",
       "      <td>.</td>\n",
       "      <td>T</td>\n",
       "      <td>C/C,C/C,C/C,nan,nan,nan,nan,C/C,C/C,nan</td>\n",
       "      <td>C/C,C/C,C/C,C/C, C/C,nan,C/C,nan,nan,nan</td>\n",
       "      <td>(C/C, 5)</td>\n",
       "      <td>(C/C, 5)</td>\n",
       "    </tr>\n",
       "    <tr>\n",
       "      <td>2</td>\n",
       "      <td>chrM</td>\n",
       "      <td>152</td>\n",
       "      <td>.</td>\n",
       "      <td>T</td>\n",
       "      <td>nan,nan,nan,nan,nan,nan,nan,C/C,nan,nan</td>\n",
       "      <td>nan,nan,C/C,nan, nan,nan,C/C,nan,nan,C/C</td>\n",
       "      <td>(nan, 9)</td>\n",
       "      <td>(nan, 6)</td>\n",
       "    </tr>\n",
       "    <tr>\n",
       "      <td>3</td>\n",
       "      <td>chr17</td>\n",
       "      <td>169</td>\n",
       "      <td>.</td>\n",
       "      <td>C</td>\n",
       "      <td>nan,nan,nan,nan,nan,nan,nan,nan,nan,nan</td>\n",
       "      <td>nan,nan,nan,nan, nan,nan,nan,nan,C/G,nan</td>\n",
       "      <td>(nan, 10)</td>\n",
       "      <td>(nan, 8)</td>\n",
       "    </tr>\n",
       "    <tr>\n",
       "      <td>4</td>\n",
       "      <td>chrM</td>\n",
       "      <td>183</td>\n",
       "      <td>.</td>\n",
       "      <td>A</td>\n",
       "      <td>nan,nan,nan,nan,nan,nan,nan,nan,nan,nan</td>\n",
       "      <td>nan,nan,nan,nan, nan,nan,nan,nan,nan,G/G</td>\n",
       "      <td>(nan, 10)</td>\n",
       "      <td>(nan, 8)</td>\n",
       "    </tr>\n",
       "  </tbody>\n",
       "</table>\n",
       "</div>"
      ],
      "text/plain": [
       "   CHROM  POS ID REF                                     Case  \\\n",
       "0   chrM  146  .   T  nan,nan,nan,nan,nan,nan,nan,nan,nan,nan   \n",
       "1   chrM  150  .   T  C/C,C/C,C/C,nan,nan,nan,nan,C/C,C/C,nan   \n",
       "2   chrM  152  .   T  nan,nan,nan,nan,nan,nan,nan,C/C,nan,nan   \n",
       "3  chr17  169  .   C  nan,nan,nan,nan,nan,nan,nan,nan,nan,nan   \n",
       "4   chrM  183  .   A  nan,nan,nan,nan,nan,nan,nan,nan,nan,nan   \n",
       "\n",
       "                                    Control      Case_     Cont_  \n",
       "0  nan,C/C,nan,nan, nan,nan,nan,nan,nan,nan  (nan, 10)  (nan, 8)  \n",
       "1  C/C,C/C,C/C,C/C, C/C,nan,C/C,nan,nan,nan   (C/C, 5)  (C/C, 5)  \n",
       "2  nan,nan,C/C,nan, nan,nan,C/C,nan,nan,C/C   (nan, 9)  (nan, 6)  \n",
       "3  nan,nan,nan,nan, nan,nan,nan,nan,C/G,nan  (nan, 10)  (nan, 8)  \n",
       "4  nan,nan,nan,nan, nan,nan,nan,nan,nan,G/G  (nan, 10)  (nan, 8)  "
      ]
     },
     "execution_count": 143,
     "metadata": {},
     "output_type": "execute_result"
    }
   ],
   "source": [
    "#the value inside case_max and cont_max is \n",
    "#Create a new Col and Drop same Col\n",
    "df[\"Case_\"]= df[\"case_max\"].apply(lambda x : x[0])\n",
    "df =df.drop(\"case_max\",axis=1)\n",
    "\n",
    "#Create a new Col and drop same Col.\n",
    "df[\"Cont_\"]= df[\"cont_max\"].apply(lambda x : x[0])\n",
    "df = df.drop(\"cont_max\",axis =1)\n",
    "df.head()"
   ]
  },
  {
   "cell_type": "code",
   "execution_count": 154,
   "metadata": {},
   "outputs": [
    {
     "data": {
      "text/plain": [
       "(11176568, 8)"
      ]
     },
     "execution_count": 154,
     "metadata": {},
     "output_type": "execute_result"
    }
   ],
   "source": [
    "df.shape"
   ]
  },
  {
   "cell_type": "code",
   "execution_count": 165,
   "metadata": {},
   "outputs": [
    {
     "data": {
      "text/html": [
       "<div>\n",
       "<style scoped>\n",
       "    .dataframe tbody tr th:only-of-type {\n",
       "        vertical-align: middle;\n",
       "    }\n",
       "\n",
       "    .dataframe tbody tr th {\n",
       "        vertical-align: top;\n",
       "    }\n",
       "\n",
       "    .dataframe thead th {\n",
       "        text-align: right;\n",
       "    }\n",
       "</style>\n",
       "<table border=\"1\" class=\"dataframe\">\n",
       "  <thead>\n",
       "    <tr style=\"text-align: right;\">\n",
       "      <th></th>\n",
       "      <th>CHROM</th>\n",
       "      <th>POS</th>\n",
       "      <th>ID</th>\n",
       "      <th>REF</th>\n",
       "      <th>Case</th>\n",
       "      <th>Control</th>\n",
       "      <th>Case_</th>\n",
       "      <th>Cont_</th>\n",
       "      <th>Control_</th>\n",
       "    </tr>\n",
       "  </thead>\n",
       "  <tbody>\n",
       "    <tr>\n",
       "      <td>0</td>\n",
       "      <td>chrM</td>\n",
       "      <td>146</td>\n",
       "      <td>.</td>\n",
       "      <td>T</td>\n",
       "      <td>nan,nan,nan,nan,nan,nan,nan,nan,nan,nan</td>\n",
       "      <td>nan,C/C,nan,nan, nan,nan,nan,nan,nan,nan</td>\n",
       "      <td>(nan, 10)</td>\n",
       "      <td>(nan, 8)</td>\n",
       "      <td>('nan', 10),('nan', 8)</td>\n",
       "    </tr>\n",
       "    <tr>\n",
       "      <td>1</td>\n",
       "      <td>chrM</td>\n",
       "      <td>150</td>\n",
       "      <td>.</td>\n",
       "      <td>T</td>\n",
       "      <td>C/C,C/C,C/C,nan,nan,nan,nan,C/C,C/C,nan</td>\n",
       "      <td>C/C,C/C,C/C,C/C, C/C,nan,C/C,nan,nan,nan</td>\n",
       "      <td>(C/C, 5)</td>\n",
       "      <td>(C/C, 5)</td>\n",
       "      <td>('C/C', 5),('C/C', 5)</td>\n",
       "    </tr>\n",
       "  </tbody>\n",
       "</table>\n",
       "</div>"
      ],
      "text/plain": [
       "  CHROM  POS ID REF                                     Case  \\\n",
       "0  chrM  146  .   T  nan,nan,nan,nan,nan,nan,nan,nan,nan,nan   \n",
       "1  chrM  150  .   T  C/C,C/C,C/C,nan,nan,nan,nan,C/C,C/C,nan   \n",
       "\n",
       "                                    Control      Case_     Cont_  \\\n",
       "0  nan,C/C,nan,nan, nan,nan,nan,nan,nan,nan  (nan, 10)  (nan, 8)   \n",
       "1  C/C,C/C,C/C,C/C, C/C,nan,C/C,nan,nan,nan   (C/C, 5)  (C/C, 5)   \n",
       "\n",
       "                 Control_  \n",
       "0  ('nan', 10),('nan', 8)  \n",
       "1   ('C/C', 5),('C/C', 5)  "
      ]
     },
     "execution_count": 165,
     "metadata": {},
     "output_type": "execute_result"
    }
   ],
   "source": [
    "test = df.head(100)\n",
    "test= test.assign(Control_ = test[\"Case_\"].astype(str)+',' +test[\"Cont_\"].astype(str))\n",
    "test.head(2)"
   ]
  },
  {
   "cell_type": "code",
   "execution_count": 141,
   "metadata": {},
   "outputs": [],
   "source": [
    "#df.to_csv(\"../case_control_list_max.csv\",index = False)"
   ]
  },
  {
   "cell_type": "code",
   "execution_count": 142,
   "metadata": {},
   "outputs": [
    {
     "data": {
      "text/plain": [
       "(11176568, 8)"
      ]
     },
     "execution_count": 142,
     "metadata": {},
     "output_type": "execute_result"
    }
   ],
   "source": [
    "df.shape\n",
    "#Now We Are Going to Filter remove datas based on 1 condition\n",
    "#if case_max ==cont_max \n",
    "#if case and control F SNP is same and count value is Greater than 5"
   ]
  },
  {
   "cell_type": "code",
   "execution_count": 204,
   "metadata": {},
   "outputs": [
    {
     "name": "stderr",
     "output_type": "stream",
     "text": [
      "C:\\ProgramData\\Anaconda3\\lib\\site-packages\\ipykernel_launcher.py:2: SettingWithCopyWarning: \n",
      "A value is trying to be set on a copy of a slice from a DataFrame.\n",
      "Try using .loc[row_indexer,col_indexer] = value instead\n",
      "\n",
      "See the caveats in the documentation: http://pandas.pydata.org/pandas-docs/stable/user_guide/indexing.html#returning-a-view-versus-a-copy\n",
      "  \n"
     ]
    },
    {
     "data": {
      "text/html": [
       "<div>\n",
       "<style scoped>\n",
       "    .dataframe tbody tr th:only-of-type {\n",
       "        vertical-align: middle;\n",
       "    }\n",
       "\n",
       "    .dataframe tbody tr th {\n",
       "        vertical-align: top;\n",
       "    }\n",
       "\n",
       "    .dataframe thead th {\n",
       "        text-align: right;\n",
       "    }\n",
       "</style>\n",
       "<table border=\"1\" class=\"dataframe\">\n",
       "  <thead>\n",
       "    <tr style=\"text-align: right;\">\n",
       "      <th></th>\n",
       "      <th>CHROM</th>\n",
       "      <th>POS</th>\n",
       "      <th>ID</th>\n",
       "      <th>REF</th>\n",
       "      <th>Case</th>\n",
       "      <th>Control</th>\n",
       "      <th>Control_</th>\n",
       "      <th>Result</th>\n",
       "    </tr>\n",
       "  </thead>\n",
       "  <tbody>\n",
       "    <tr>\n",
       "      <td>0</td>\n",
       "      <td>chrM</td>\n",
       "      <td>146</td>\n",
       "      <td>.</td>\n",
       "      <td>T</td>\n",
       "      <td>nan,nan,nan,nan,nan,nan,nan,nan,nan,nan</td>\n",
       "      <td>nan,C/C,nan,nan, nan,nan,nan,nan,nan,nan</td>\n",
       "      <td>('nan', 10),('nan', 8)</td>\n",
       "      <td>False</td>\n",
       "    </tr>\n",
       "    <tr>\n",
       "      <td>1</td>\n",
       "      <td>chrM</td>\n",
       "      <td>150</td>\n",
       "      <td>.</td>\n",
       "      <td>T</td>\n",
       "      <td>C/C,C/C,C/C,nan,nan,nan,nan,C/C,C/C,nan</td>\n",
       "      <td>C/C,C/C,C/C,C/C, C/C,nan,C/C,nan,nan,nan</td>\n",
       "      <td>('C/C', 5),('C/C', 5)</td>\n",
       "      <td>False</td>\n",
       "    </tr>\n",
       "  </tbody>\n",
       "</table>\n",
       "</div>"
      ],
      "text/plain": [
       "  CHROM  POS ID REF                                     Case  \\\n",
       "0  chrM  146  .   T  nan,nan,nan,nan,nan,nan,nan,nan,nan,nan   \n",
       "1  chrM  150  .   T  C/C,C/C,C/C,nan,nan,nan,nan,C/C,C/C,nan   \n",
       "\n",
       "                                    Control                Control_  Result  \n",
       "0  nan,C/C,nan,nan, nan,nan,nan,nan,nan,nan  ('nan', 10),('nan', 8)   False  \n",
       "1  C/C,C/C,C/C,C/C, C/C,nan,C/C,nan,nan,nan   ('C/C', 5),('C/C', 5)   False  "
      ]
     },
     "execution_count": 204,
     "metadata": {},
     "output_type": "execute_result"
    }
   ],
   "source": [
    "#test = test.iloc[:,[0,1,2,3,4,5,-1]]\n",
    "test[\"Result\"] = test[\"Control_\"].apply(lambda x : True if((x[0][0] ==x[1][0])) else False)# & (x[0][1] ==x[1][1])) else False)\n",
    "test.head(2)"
   ]
  },
  {
   "cell_type": "code",
   "execution_count": 194,
   "metadata": {},
   "outputs": [],
   "source": [
    "x =test.Control_[0]"
   ]
  },
  {
   "cell_type": "code",
   "execution_count": 205,
   "metadata": {},
   "outputs": [
    {
     "data": {
      "text/plain": [
       "'nan'"
      ]
     },
     "execution_count": 205,
     "metadata": {},
     "output_type": "execute_result"
    }
   ],
   "source": [
    "x[1][0]"
   ]
  },
  {
   "cell_type": "code",
   "execution_count": 140,
   "metadata": {},
   "outputs": [],
   "source": [
    "#from collections import Counter\n",
    "#test[\"case_max\"] = test[\"Case\"].apply(lambda x :(Counter((list(x.split(\",\"))))).most_common(1))\n",
    "#test[\"cont_max\"] = test[\"Control\"].apply(lambda x:(Counter(x.split(\",\"))).most_common(1))\n",
    "#test.head()"
   ]
  },
  {
   "cell_type": "code",
   "execution_count": 6,
   "metadata": {},
   "outputs": [],
   "source": [
    "#df = df.sort_values(by=[\"POS\",\"ID\"])"
   ]
  },
  {
   "cell_type": "code",
   "execution_count": 21,
   "metadata": {},
   "outputs": [],
   "source": [
    "#df = df.reset_index(drop=True)"
   ]
  },
  {
   "cell_type": "code",
   "execution_count": 13,
   "metadata": {},
   "outputs": [],
   "source": [
    "#df.head()"
   ]
  },
  {
   "cell_type": "code",
   "execution_count": 25,
   "metadata": {},
   "outputs": [],
   "source": [
    "#df.to_csv(\"../snp_analysis/merged_files/case_control_merged_index_reset.csv\",index=False,encoding=\"utf-8\")"
   ]
  },
  {
   "cell_type": "code",
   "execution_count": 14,
   "metadata": {},
   "outputs": [],
   "source": [
    "#df = pd.read_csv(\"../snp_analysis/merged_files/case_control_merged_index_reset.csv\")"
   ]
  },
  {
   "cell_type": "code",
   "execution_count": 15,
   "metadata": {},
   "outputs": [],
   "source": [
    "#df.shape"
   ]
  },
  {
   "cell_type": "code",
   "execution_count": 16,
   "metadata": {},
   "outputs": [],
   "source": [
    "#df.head"
   ]
  }
 ],
 "metadata": {
  "kernelspec": {
   "display_name": "Python 3",
   "language": "python",
   "name": "python3"
  },
  "language_info": {
   "codemirror_mode": {
    "name": "ipython",
    "version": 3
   },
   "file_extension": ".py",
   "mimetype": "text/x-python",
   "name": "python",
   "nbconvert_exporter": "python",
   "pygments_lexer": "ipython3",
   "version": "3.7.4"
  }
 },
 "nbformat": 4,
 "nbformat_minor": 2
}
