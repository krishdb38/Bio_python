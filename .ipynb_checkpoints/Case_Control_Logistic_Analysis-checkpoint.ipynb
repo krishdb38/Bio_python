{
 "cells": [
  {
   "cell_type": "code",
   "execution_count": null,
   "metadata": {},
   "outputs": [],
   "source": [
    "pd.__version__"
   ]
  },
  {
   "cell_type": "code",
   "execution_count": null,
   "metadata": {},
   "outputs": [],
   "source": [
    "#!pip install --upgrade pandas"
   ]
  },
  {
   "cell_type": "markdown",
   "metadata": {},
   "source": [
    "#### Logistic Model 7 SVM Model development for Statistical Analysis"
   ]
  },
  {
   "cell_type": "code",
   "execution_count": 1,
   "metadata": {},
   "outputs": [],
   "source": [
    "import pandas as pd\n",
    "import numpy as np\n",
    "import seaborn as sns\n",
    "import matplotlib.pyplot as plt\n",
    "import re\n",
    "import warnings\n",
    "from collections import Counter\n",
    "\n",
    "from itertools import chain\n",
    "from time import time\n",
    "\n",
    "#Feature Selection \n",
    "from sklearn.model_selection import StratifiedKFold\n",
    "from sklearn.feature_selection import RFECV , SelectFromModel\n",
    "#classifiers\n",
    "from xgboost import XGBClassifier\n",
    "from sklearn.preprocessing import RobustScaler\n",
    "from sklearn.svm import SVC\n",
    "from sklearn.ensemble import IsolationForest\n",
    "from sklearn.ensemble import AdaBoostClassifier\n",
    "from sklearn.metrics import classification_report , confusion_matrix , accuracy_score\n",
    "from sklearn.model_selection import train_test_split\n",
    "from sklearn.preprocessing import LabelEncoder , OneHotEncoder\n",
    "\n",
    "from sklearn.ensemble import RandomForestClassifier\n",
    "from sklearn.ensemble import BaggingClassifier\n",
    "from sklearn.ensemble import ExtraTreesClassifier\n",
    "from sklearn.model_selection import RandomizedSearchCV , cross_val_score\n",
    "from sklearn.preprocessing import PolynomialFeatures\n",
    "from sklearn.utils import resample#, suffle\n",
    "import  matplotlib.pyplot as plt \n",
    "#from sklearn.utils import suffle"
   ]
  },
  {
   "cell_type": "code",
   "execution_count": null,
   "metadata": {},
   "outputs": [],
   "source": [
    "#df1 = pd.read_csv(\"../case_snp.csv\",dtype=object, low_memory=False)\n",
    "df1 = pd.read_csv(\"../case_snp_10.csv\",dtype = object,low_memory=False) #This is New Data "
   ]
  },
  {
   "cell_type": "code",
   "execution_count": null,
   "metadata": {},
   "outputs": [],
   "source": [
    "#df = pd.read_csv(\"../control_snp.csv\",dtype=object,low_memory=False)\n",
    "df = pd.read_csv(\"../con_10.csv\",dtype=object,low_memory=False)"
   ]
  },
  {
   "cell_type": "code",
   "execution_count": null,
   "metadata": {},
   "outputs": [],
   "source": [
    "df1.shape"
   ]
  },
  {
   "cell_type": "code",
   "execution_count": null,
   "metadata": {},
   "outputs": [],
   "source": [
    "df.shape"
   ]
  },
  {
   "cell_type": "code",
   "execution_count": null,
   "metadata": {
    "scrolled": true
   },
   "outputs": [],
   "source": [
    "df1.head(2)"
   ]
  },
  {
   "cell_type": "code",
   "execution_count": null,
   "metadata": {},
   "outputs": [],
   "source": [
    "df.CHROM.unique()"
   ]
  },
  {
   "cell_type": "code",
   "execution_count": null,
   "metadata": {},
   "outputs": [],
   "source": [
    "df1.shape"
   ]
  },
  {
   "cell_type": "markdown",
   "metadata": {},
   "source": [
    "Since there is very Big data so We Select Out only Highly influencing and different dataas to each Other"
   ]
  },
  {
   "cell_type": "code",
   "execution_count": null,
   "metadata": {},
   "outputs": [],
   "source": [
    "plt.figure(figsize=(8,16))"
   ]
  },
  {
   "cell_type": "code",
   "execution_count": null,
   "metadata": {},
   "outputs": [],
   "source": [
    "plt.figure(figsize=(16,8))\n",
    "sns.countplot(x = \"#CHROM\",\n",
    "             data = df,\n",
    "             order = df[\"#CHROM\"].value_counts().index)"
   ]
  },
  {
   "cell_type": "code",
   "execution_count": null,
   "metadata": {},
   "outputs": [],
   "source": [
    "plt.figure(figsize=(16,8))\n",
    "sns.countplot(x = \"#CHROM\",\n",
    "             data = df1,\n",
    "             order = df1[\"#CHROM\"].value_counts().index)"
   ]
  },
  {
   "cell_type": "code",
   "execution_count": null,
   "metadata": {},
   "outputs": [],
   "source": [
    "case_con = df[(df.iloc[:,[4,5,6,7,8,9,10,11,12,13]].isnull().sum(axis =1)<2)\n",
    "    &(df.iloc[:,[14,15,16,17,18,19,20,21,22,23]].isnull().sum(axis =1)>9)] #We Can accept up to  80 %\n",
    "\n",
    "#con_case = df[(df.iloc[:,[4,5,6,7,8,9,10,11,12,13]].isnull().sum(axis =1)>9) \\\n",
    "#    &(df.iloc[:,[14,15,16,17,18,19,20,21,22,23]].isnull().sum(axis =1)<2)]"
   ]
  },
  {
   "cell_type": "code",
   "execution_count": null,
   "metadata": {},
   "outputs": [],
   "source": [
    "#Here NaN is Assumed as same Values as Ref means No SNP at that Position\n",
    "# Currently SNP in Control is not Useful for our purpose of Analysis\n",
    "#But we may think these types of SNP has Positive impact"
   ]
  },
  {
   "cell_type": "code",
   "execution_count": null,
   "metadata": {},
   "outputs": [],
   "source": [
    "case_con"
   ]
  },
  {
   "cell_type": "code",
   "execution_count": null,
   "metadata": {},
   "outputs": [],
   "source": [
    "case_con.shape\n",
    "#This 20 Rows are Highly sensitive because these are recurring only in Case more than 90 %"
   ]
  },
  {
   "cell_type": "code",
   "execution_count": null,
   "metadata": {},
   "outputs": [],
   "source": [
    "#Since "
   ]
  },
  {
   "cell_type": "code",
   "execution_count": null,
   "metadata": {},
   "outputs": [],
   "source": [
    "fig = plt.figure(figsize=(10,10))\n",
    "plt.title(\"Heat Map \")\n",
    "plt.xlabel(\"Case(c) & Control(cn)\")\n",
    "plt.ylabel(\"Position of Sequence (SNP)\")\n",
    "\n",
    "sns.heatmap(case_con.iloc[:,[4,5,6,7,8,9,10,11,12,13,14,15,16,17,18,19,20,21,22,23]].isnull(),cmap = \"viridis\",\\\n",
    "            cbar = False )"
   ]
  },
  {
   "cell_type": "code",
   "execution_count": null,
   "metadata": {},
   "outputs": [],
   "source": [
    "#In this Figure we Can see yello Portions is Not Snp and brown in SNP\n",
    "#We are Planning to Apply Logistic Regression Method if Our Data set increase more than 30/40 sets\n",
    "# Till now we cant make decision "
   ]
  },
  {
   "cell_type": "code",
   "execution_count": null,
   "metadata": {},
   "outputs": [],
   "source": [
    "rep_chrom = case_con.groupby([\"CHROM\"]).size()\n",
    "rep_chrom.plot()"
   ]
  },
  {
   "cell_type": "code",
   "execution_count": null,
   "metadata": {},
   "outputs": [],
   "source": [
    "sns.countplot(case_con[\"CHROM\"])"
   ]
  },
  {
   "cell_type": "code",
   "execution_count": null,
   "metadata": {},
   "outputs": [],
   "source": [
    "#df_gr = df.groupby([\"CHROM\"]).size()"
   ]
  },
  {
   "cell_type": "code",
   "execution_count": null,
   "metadata": {},
   "outputs": [],
   "source": [
    "#df_gr#We can see the Number of Chromosome repeating in df data set"
   ]
  },
  {
   "cell_type": "code",
   "execution_count": null,
   "metadata": {},
   "outputs": [],
   "source": [
    "df.head(2)"
   ]
  },
  {
   "cell_type": "code",
   "execution_count": null,
   "metadata": {},
   "outputs": [],
   "source": [
    "fig = plt.figure(figsize=(10,10))\n",
    "plt.title(\"Heat Map \")\n",
    "plt.xlabel(\"Case(c) & Control(cn)\")\n",
    "plt.ylabel(\"Position of Sequence (SNP)\")\n",
    "\n",
    "sns.heatmap(con_case.iloc[:,[4,5,6,7,8,9,10,11,12,13,14,15,16,17,18,19,20,21,22,23]].isnull(),cmap = \"viridis\",\\\n",
    "            cbar = False )"
   ]
  },
  {
   "cell_type": "code",
   "execution_count": null,
   "metadata": {},
   "outputs": [],
   "source": []
  },
  {
   "cell_type": "markdown",
   "metadata": {},
   "source": [
    "## Method 2, "
   ]
  },
  {
   "cell_type": "code",
   "execution_count": null,
   "metadata": {},
   "outputs": [],
   "source": [
    "test = df.head()"
   ]
  },
  {
   "cell_type": "code",
   "execution_count": null,
   "metadata": {},
   "outputs": [],
   "source": [
    "#test[\"Case\"] = test.iloc[:,4:14].apply(lambda x: \",\".join(x.astype(str)), axis=1)\n",
    "#df[\"Case\"] = df.iloc[:,4:14].apply(lambda x: \",\".join(x.astype(str)), axis=1)\n",
    "#The Output is Same but Processing time is So slow\n",
    "#Dont Recommend this method"
   ]
  },
  {
   "cell_type": "code",
   "execution_count": null,
   "metadata": {},
   "outputs": [],
   "source": [
    "#df= df.assign(Case = df[\"1c\"].astype(str)+',' +df[\"2c\"].astype(str)+','+df[\"3c\"].astype(str)+','+df[\"4c\"].astype(str)\\\n",
    "#               + ', '+df[\"5c\"].astype(str)+','+df[\"6c\"].astype(str)+',' +df[\"7c\"].astype(str)+','+df[\"8c\"].astype(str)+','\\\n",
    "#              +df[\"9c\"].astype(str)+','+df[\"10c\"].astype(str))"
   ]
  },
  {
   "cell_type": "code",
   "execution_count": null,
   "metadata": {},
   "outputs": [],
   "source": [
    "#df.assign() method is fast"
   ]
  },
  {
   "cell_type": "code",
   "execution_count": null,
   "metadata": {},
   "outputs": [],
   "source": [
    "df= df.assign(Control = df[\"1cn\"].astype(str)+',' +df[\"2cn\"].astype(str)+','+df[\"3cn\"].astype(str)+','+df[\"4cn\"].astype(str)\\\n",
    "               + ', '+df[\"5cn\"].astype(str)+','+df[\"6cn\"].astype(str)+',' +df[\"7cn\"].astype(str)+','+df[\"8cn\"].astype(str)+','\\\n",
    "              +df[\"9cn\"].astype(str)+','+df[\"10cn\"].astype(str))"
   ]
  },
  {
   "cell_type": "code",
   "execution_count": null,
   "metadata": {},
   "outputs": [],
   "source": [
    "#df[\"Control\"] = df.iloc[:,4:14].apply(lambda x: \",\".join(x.astype(str)), axis=1)\n",
    "#This Method seems to time Consuming\n",
    "#test = test.assign(Control = test[\"1cn\"].astype(str) + ', ' + \\\n",
    "#  test[\"2cn\"].astype(str) + ', ' +test[\"3cn\"].astype(str) + ', ' \\\n",
    "#  +test[\"4cn\"].astype(str) + ', '+test[\"5cn\"].astype(str))\n",
    "\n",
    "#df= df.assign(Control = df[\"1cn\"].astype(str)+',' +df[\"2cn\"].astype(str)+','+df[\"3cn\"].astype(str)+','+df[\"4cn\"].astype(str)\\\n",
    "#               + ', '+df[\"5cn\"].astype(str)+','+df[\"6cn\"].astype(str)+',' +df[\"7cn\"].astype(str)+','+df[\"8cn\"].astype(str)+','\\\n",
    "#              +df[\"9cn\"].astype(str)+','+df[\"10cn\"].astype(str))"
   ]
  },
  {
   "cell_type": "code",
   "execution_count": null,
   "metadata": {},
   "outputs": [],
   "source": [
    "df=df.iloc[:,[0,1,2,3,-2,-1]]\n",
    "df.head(2)"
   ]
  },
  {
   "cell_type": "code",
   "execution_count": null,
   "metadata": {},
   "outputs": [],
   "source": [
    "df.to_csv(\"../case_control_list.csv\",index=False)\n",
    "#test = df.head(100)"
   ]
  },
  {
   "cell_type": "code",
   "execution_count": null,
   "metadata": {},
   "outputs": [],
   "source": [
    "#test = test.iloc[:,[0,1,2,3,14,15,16,17,18,19,20,21,22,23,24]]\n",
    "#test = test.iloc[:,[0,1,2,3,-2,-1]]\n",
    "#test.head(2)"
   ]
  },
  {
   "cell_type": "code",
   "execution_count": null,
   "metadata": {},
   "outputs": [],
   "source": [
    "df.head()"
   ]
  },
  {
   "cell_type": "code",
   "execution_count": null,
   "metadata": {},
   "outputs": [],
   "source": [
    "#df.drop_duplicates(keep=\"first\")"
   ]
  },
  {
   "cell_type": "code",
   "execution_count": null,
   "metadata": {},
   "outputs": [],
   "source": [
    "from collections import Counter\n",
    "df[\"case_max\"] = df[\"Case\"].apply(lambda x :(Counter((list(x.split(\",\"))))).most_common(1))\n",
    "df[\"cont_max\"] = df[\"Control\"].apply(lambda x:(Counter(x.split(\",\"))).most_common(1))\n",
    "df.head()"
   ]
  },
  {
   "cell_type": "code",
   "execution_count": null,
   "metadata": {},
   "outputs": [],
   "source": [
    "#the value inside case_max and cont_max is \n",
    "#Create a new Col and Drop same Col\n",
    "df[\"Case_\"]= df[\"case_max\"].apply(lambda x : x[0])\n",
    "df =df.drop(\"case_max\",axis=1)\n",
    "\n",
    "#Create a new Col and drop same Col.\n",
    "df[\"Cont_\"]= df[\"cont_max\"].apply(lambda x : x[0])\n",
    "df = df.drop(\"cont_max\",axis =1)\n",
    "df.head()"
   ]
  },
  {
   "cell_type": "code",
   "execution_count": null,
   "metadata": {},
   "outputs": [],
   "source": [
    "df.shape"
   ]
  },
  {
   "cell_type": "code",
   "execution_count": null,
   "metadata": {},
   "outputs": [],
   "source": [
    "test = df.head(100)\n",
    "test= test.assign(Control_ = test[\"Case_\"].astype(str)+',' +test[\"Cont_\"].astype(str))\n",
    "test.head(2)"
   ]
  },
  {
   "cell_type": "code",
   "execution_count": null,
   "metadata": {},
   "outputs": [],
   "source": [
    "#df.to_csv(\"../case_control_list_max.csv\",index = False)"
   ]
  },
  {
   "cell_type": "code",
   "execution_count": null,
   "metadata": {},
   "outputs": [],
   "source": [
    "df.shape\n",
    "#Now We Are Going to Filter remove datas based on 1 condition\n",
    "#if case_max ==cont_max \n",
    "#if case and control F SNP is same and count value is Greater than 5"
   ]
  },
  {
   "cell_type": "code",
   "execution_count": null,
   "metadata": {},
   "outputs": [],
   "source": [
    "#test = test.iloc[:,[0,1,2,3,4,5,-1]]\n",
    "test[\"Result\"] = test[\"Control_\"].apply(lambda x : True if((x[0][0] ==x[1][0])) else False)# & (x[0][1] ==x[1][1])) else False)\n",
    "test.head(2)"
   ]
  },
  {
   "cell_type": "code",
   "execution_count": null,
   "metadata": {},
   "outputs": [],
   "source": [
    "x =test.Control_[0]"
   ]
  },
  {
   "cell_type": "code",
   "execution_count": null,
   "metadata": {},
   "outputs": [],
   "source": [
    "x[1][0]"
   ]
  },
  {
   "cell_type": "code",
   "execution_count": null,
   "metadata": {},
   "outputs": [],
   "source": [
    "#from collections import Counter\n",
    "#test[\"case_max\"] = test[\"Case\"].apply(lambda x :(Counter((list(x.split(\",\"))))).most_common(1))\n",
    "#test[\"cont_max\"] = test[\"Control\"].apply(lambda x:(Counter(x.split(\",\"))).most_common(1))\n",
    "#test.head()"
   ]
  },
  {
   "cell_type": "code",
   "execution_count": null,
   "metadata": {},
   "outputs": [],
   "source": [
    "#df = df.sort_values(by=[\"POS\",\"ID\"])"
   ]
  },
  {
   "cell_type": "code",
   "execution_count": null,
   "metadata": {},
   "outputs": [],
   "source": [
    "#df = df.reset_index(drop=True)"
   ]
  },
  {
   "cell_type": "code",
   "execution_count": null,
   "metadata": {},
   "outputs": [],
   "source": [
    "#df.head()"
   ]
  },
  {
   "cell_type": "code",
   "execution_count": null,
   "metadata": {},
   "outputs": [],
   "source": [
    "#df.to_csv(\"../snp_analysis/merged_files/case_control_merged_index_reset.csv\",index=False,encoding=\"utf-8\")"
   ]
  },
  {
   "cell_type": "code",
   "execution_count": null,
   "metadata": {},
   "outputs": [],
   "source": [
    "#df = pd.read_csv(\"../snp_analysis/merged_files/case_control_merged_index_reset.csv\")"
   ]
  },
  {
   "cell_type": "code",
   "execution_count": null,
   "metadata": {},
   "outputs": [],
   "source": [
    "#df.shape"
   ]
  },
  {
   "cell_type": "code",
   "execution_count": null,
   "metadata": {},
   "outputs": [],
   "source": [
    "#df.head"
   ]
  }
 ],
 "metadata": {
  "kernelspec": {
   "display_name": "Python 3",
   "language": "python",
   "name": "python3"
  },
  "language_info": {
   "codemirror_mode": {
    "name": "ipython",
    "version": 3
   },
   "file_extension": ".py",
   "mimetype": "text/x-python",
   "name": "python",
   "nbconvert_exporter": "python",
   "pygments_lexer": "ipython3",
   "version": "3.7.4"
  }
 },
 "nbformat": 4,
 "nbformat_minor": 2
}
