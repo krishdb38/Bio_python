{
 "cells": [
  {
   "cell_type": "code",
   "execution_count": 3,
   "metadata": {},
   "outputs": [],
   "source": [
    "import pandas as pd\n",
    "import numpy as np\n",
    "\n",
    "# For Pyspark \n",
    "from pyspark.sql import SparkSession"
   ]
  },
  {
   "cell_type": "code",
   "execution_count": 4,
   "metadata": {},
   "outputs": [
    {
     "name": "stderr",
     "output_type": "stream",
     "text": [
      "C:\\ProgramData\\Anaconda3\\lib\\site-packages\\IPython\\core\\interactiveshell.py:3063: DtypeWarning: Columns (0,31,32,33) have mixed types.Specify dtype option on import or set low_memory=False.\n",
      "  interactivity=interactivity, compiler=compiler, result=result)\n"
     ]
    }
   ],
   "source": [
    "df_pd = pd.read_csv(\"../datas_not_to_upload/989.hg19_multianno.txt.intervar\", sep=\"\\t\")"
   ]
  },
  {
   "cell_type": "code",
   "execution_count": 5,
   "metadata": {},
   "outputs": [
    {
     "data": {
      "text/html": [
       "<div>\n",
       "<style scoped>\n",
       "    .dataframe tbody tr th:only-of-type {\n",
       "        vertical-align: middle;\n",
       "    }\n",
       "\n",
       "    .dataframe tbody tr th {\n",
       "        vertical-align: top;\n",
       "    }\n",
       "\n",
       "    .dataframe thead th {\n",
       "        text-align: right;\n",
       "    }\n",
       "</style>\n",
       "<table border=\"1\" class=\"dataframe\">\n",
       "  <thead>\n",
       "    <tr style=\"text-align: right;\">\n",
       "      <th></th>\n",
       "      <th>#Chr</th>\n",
       "      <th>Start</th>\n",
       "      <th>End</th>\n",
       "      <th>Ref</th>\n",
       "      <th>Alt</th>\n",
       "      <th>Ref.Gene</th>\n",
       "      <th>Func.refGene</th>\n",
       "      <th>ExonicFunc.refGene</th>\n",
       "      <th>Gene.ensGene</th>\n",
       "      <th>avsnp147</th>\n",
       "      <th>...</th>\n",
       "      <th>Interpro_domain</th>\n",
       "      <th>AAChange.knownGene</th>\n",
       "      <th>rmsk</th>\n",
       "      <th>MetaSVM_score</th>\n",
       "      <th>Freq_gnomAD_genome_POPs</th>\n",
       "      <th>OMIM</th>\n",
       "      <th>Phenotype_MIM</th>\n",
       "      <th>OrphaNumber</th>\n",
       "      <th>Orpha</th>\n",
       "      <th>Otherinfo</th>\n",
       "    </tr>\n",
       "  </thead>\n",
       "  <tbody>\n",
       "    <tr>\n",
       "      <th>0</th>\n",
       "      <td>1</td>\n",
       "      <td>13868</td>\n",
       "      <td>13868</td>\n",
       "      <td>A</td>\n",
       "      <td>G</td>\n",
       "      <td>DDX11L1</td>\n",
       "      <td>ncRNA_exonic</td>\n",
       "      <td>.</td>\n",
       "      <td>ENSG00000223972</td>\n",
       "      <td>rs796086906</td>\n",
       "      <td>...</td>\n",
       "      <td>.</td>\n",
       "      <td>.</td>\n",
       "      <td>.</td>\n",
       "      <td>.</td>\n",
       "      <td>AFR:0.0225,AMR:0.1277,EAS:0.4593,FIN:0.1137,NF...</td>\n",
       "      <td>.</td>\n",
       "      <td>.</td>\n",
       "      <td>NaN</td>\n",
       "      <td>NaN</td>\n",
       "      <td>1</td>\n",
       "    </tr>\n",
       "    <tr>\n",
       "      <th>1</th>\n",
       "      <td>1</td>\n",
       "      <td>13868</td>\n",
       "      <td>13868</td>\n",
       "      <td>A</td>\n",
       "      <td>G</td>\n",
       "      <td>LOC102725121</td>\n",
       "      <td>ncRNA_exonic</td>\n",
       "      <td>.</td>\n",
       "      <td>ENSG00000223972</td>\n",
       "      <td>rs796086906</td>\n",
       "      <td>...</td>\n",
       "      <td>.</td>\n",
       "      <td>.</td>\n",
       "      <td>.</td>\n",
       "      <td>.</td>\n",
       "      <td>AFR:0.0225,AMR:0.1277,EAS:0.4593,FIN:0.1137,NF...</td>\n",
       "      <td>.</td>\n",
       "      <td>.</td>\n",
       "      <td>NaN</td>\n",
       "      <td>NaN</td>\n",
       "      <td>1</td>\n",
       "    </tr>\n",
       "    <tr>\n",
       "      <th>2</th>\n",
       "      <td>1</td>\n",
       "      <td>15274</td>\n",
       "      <td>15274</td>\n",
       "      <td>A</td>\n",
       "      <td>G</td>\n",
       "      <td>WASH7P</td>\n",
       "      <td>ncRNA_intronic</td>\n",
       "      <td>.</td>\n",
       "      <td>ENSG00000227232</td>\n",
       "      <td>rs62636497</td>\n",
       "      <td>...</td>\n",
       "      <td>.</td>\n",
       "      <td>.</td>\n",
       "      <td>Name=MIR3</td>\n",
       "      <td>.</td>\n",
       "      <td>AFR:0.3824,AMR:0.3197,EAS:0.5234,FIN:0.3506,NF...</td>\n",
       "      <td>.</td>\n",
       "      <td>.</td>\n",
       "      <td>NaN</td>\n",
       "      <td>NaN</td>\n",
       "      <td>1</td>\n",
       "    </tr>\n",
       "    <tr>\n",
       "      <th>3</th>\n",
       "      <td>1</td>\n",
       "      <td>15820</td>\n",
       "      <td>15820</td>\n",
       "      <td>G</td>\n",
       "      <td>T</td>\n",
       "      <td>WASH7P</td>\n",
       "      <td>ncRNA_exonic</td>\n",
       "      <td>.</td>\n",
       "      <td>ENSG00000227232</td>\n",
       "      <td>rs2691315</td>\n",
       "      <td>...</td>\n",
       "      <td>.</td>\n",
       "      <td>.</td>\n",
       "      <td>.</td>\n",
       "      <td>.</td>\n",
       "      <td>AFR:0.4290,AMR:0.1197,EAS:0.0696,FIN:0.0523,NF...</td>\n",
       "      <td>.</td>\n",
       "      <td>.</td>\n",
       "      <td>NaN</td>\n",
       "      <td>NaN</td>\n",
       "      <td>1</td>\n",
       "    </tr>\n",
       "    <tr>\n",
       "      <th>4</th>\n",
       "      <td>1</td>\n",
       "      <td>15903</td>\n",
       "      <td>15903</td>\n",
       "      <td>-</td>\n",
       "      <td>C</td>\n",
       "      <td>WASH7P</td>\n",
       "      <td>ncRNA_exonic</td>\n",
       "      <td>.</td>\n",
       "      <td>ENSG00000227232;ENSG00000227232</td>\n",
       "      <td>rs557514207</td>\n",
       "      <td>...</td>\n",
       "      <td>.</td>\n",
       "      <td>.</td>\n",
       "      <td>.</td>\n",
       "      <td>.</td>\n",
       "      <td>AFR:0.2031,AMR:0.5973,EAS:0.9771,FIN:0.8081,NF...</td>\n",
       "      <td>.</td>\n",
       "      <td>.</td>\n",
       "      <td>NaN</td>\n",
       "      <td>NaN</td>\n",
       "      <td>1</td>\n",
       "    </tr>\n",
       "  </tbody>\n",
       "</table>\n",
       "<p>5 rows × 34 columns</p>\n",
       "</div>"
      ],
      "text/plain": [
       "  #Chr  Start    End Ref Alt      Ref.Gene    Func.refGene ExonicFunc.refGene  \\\n",
       "0    1  13868  13868   A   G       DDX11L1    ncRNA_exonic                  .   \n",
       "1    1  13868  13868   A   G  LOC102725121    ncRNA_exonic                  .   \n",
       "2    1  15274  15274   A   G        WASH7P  ncRNA_intronic                  .   \n",
       "3    1  15820  15820   G   T        WASH7P    ncRNA_exonic                  .   \n",
       "4    1  15903  15903   -   C        WASH7P    ncRNA_exonic                  .   \n",
       "\n",
       "                      Gene.ensGene     avsnp147  ... Interpro_domain  \\\n",
       "0                  ENSG00000223972  rs796086906  ...               .   \n",
       "1                  ENSG00000223972  rs796086906  ...               .   \n",
       "2                  ENSG00000227232   rs62636497  ...               .   \n",
       "3                  ENSG00000227232    rs2691315  ...               .   \n",
       "4  ENSG00000227232;ENSG00000227232  rs557514207  ...               .   \n",
       "\n",
       "  AAChange.knownGene       rmsk MetaSVM_score  \\\n",
       "0                  .          .             .   \n",
       "1                  .          .             .   \n",
       "2                  .  Name=MIR3             .   \n",
       "3                  .          .             .   \n",
       "4                  .          .             .   \n",
       "\n",
       "                             Freq_gnomAD_genome_POPs OMIM Phenotype_MIM  \\\n",
       "0  AFR:0.0225,AMR:0.1277,EAS:0.4593,FIN:0.1137,NF...    .             .   \n",
       "1  AFR:0.0225,AMR:0.1277,EAS:0.4593,FIN:0.1137,NF...    .             .   \n",
       "2  AFR:0.3824,AMR:0.3197,EAS:0.5234,FIN:0.3506,NF...    .             .   \n",
       "3  AFR:0.4290,AMR:0.1197,EAS:0.0696,FIN:0.0523,NF...    .             .   \n",
       "4  AFR:0.2031,AMR:0.5973,EAS:0.9771,FIN:0.8081,NF...    .             .   \n",
       "\n",
       "  OrphaNumber Orpha Otherinfo  \n",
       "0         NaN   NaN         1  \n",
       "1         NaN   NaN         1  \n",
       "2         NaN   NaN         1  \n",
       "3         NaN   NaN         1  \n",
       "4         NaN   NaN         1  \n",
       "\n",
       "[5 rows x 34 columns]"
      ]
     },
     "execution_count": 5,
     "metadata": {},
     "output_type": "execute_result"
    }
   ],
   "source": [
    "df_pd.head()"
   ]
  },
  {
   "cell_type": "markdown",
   "metadata": {},
   "source": [
    "## Loading By Using Pyspark"
   ]
  },
  {
   "cell_type": "code",
   "execution_count": null,
   "metadata": {},
   "outputs": [],
   "source": []
  },
  {
   "cell_type": "code",
   "execution_count": 8,
   "metadata": {},
   "outputs": [],
   "source": [
    "spark = SparkSession.builder.appName(\"Inter Var data analysis\")\\\n",
    "                    .config(\"spark.some.config.option\", \"some-value\")\\\n",
    "                    .getOrCreate()"
   ]
  },
  {
   "cell_type": "code",
   "execution_count": 12,
   "metadata": {},
   "outputs": [],
   "source": [
    "#df = spark.read.format(\"com.databricks.spark.csv\").\\\n",
    "#            options(header = \"true\", inferschema = \"true\").\\\n",
    "#            load(\"../datas_not_to_upload/989.hg19_multianno.txt.intervar\")\n",
    "\n",
    "# Load Data Frame from CSV\n",
    "df = spark.read.csv(\"../datas_not_to_upload/989.hg19_multianno.txt.intervar\", header= True, inferSchema= True)"
   ]
  },
  {
   "cell_type": "code",
   "execution_count": 13,
   "metadata": {},
   "outputs": [
    {
     "name": "stdout",
     "output_type": "stream",
     "text": [
      "+----------------------------------------------------------------------------------------------------------------------------------------------------------------------------------------------------------------------------------------------------------------------------------------------------------------------------------------------------------------------------------------------------------------------------------------------------------------------------+\n",
      "|#Chr\tStart\tEnd\tRef\tAlt\tRef.Gene\tFunc.refGene\tExonicFunc.refGene\tGene.ensGene\tavsnp147\tAAChange.ensGene\tAAChange.refGene\tclinvar: Clinvar \t InterVar: InterVar and Evidence \tFreq_gnomAD_genome_ALL\tFreq_esp6500siv2_all\tFreq_1000g2015aug_all\tCADD_raw\tCADD_phred\tSIFT_score\tGERP++_RS\tphyloP46way_placental\tdbscSNV_ADA_SCORE\tdbscSNV_RF_SCORE\tInterpro_domain\tAAChange.knownGene\trmsk\tMetaSVM_score\tFreq_gnomAD_genome_POPs\tOMIM\tPhenotype_MIM\tOrphaNumber\tOrpha\tOtherinfo|\n",
      "+----------------------------------------------------------------------------------------------------------------------------------------------------------------------------------------------------------------------------------------------------------------------------------------------------------------------------------------------------------------------------------------------------------------------------------------------------------------------------+\n",
      "|                                                                                                                                                                                                                                                                                                                                                                                                                                                        1\t13868\t13868\tA\tG...|\n",
      "|                                                                                                                                                                                                                                                                                                                                                                                                                                                        1\t13868\t13868\tA\tG...|\n",
      "|                                                                                                                                                                                                                                                                                                                                                                                                                                                        1\t15274\t15274\tA\tG...|\n",
      "|                                                                                                                                                                                                                                                                                                                                                                                                                                                        1\t15820\t15820\tG\tT...|\n",
      "|                                                                                                                                                                                                                                                                                                                                                                                                                                                        1\t15903\t15903\t-\tC...|\n",
      "|                                                                                                                                                                                                                                                                                                                                                                                                                                                        1\t16921\t16922\tGG\t...|\n",
      "|                                                                                                                                                                                                                                                                                                                                                                                                                                                        1\t19004\t19004\tA\tG...|\n",
      "|                                                                                                                                                                                                                                                                                                                                                                                                                                                        1\t20304\t20304\tG\tC...|\n",
      "|                                                                                                                                                                                                                                                                                                                                                                                                                                                        1\t20321\t20321\tA\tC...|\n",
      "|                                                                                                                                                                                                                                                                                                                                                                                                                                                        1\t20467\t20467\tC\tT...|\n",
      "|                                                                                                                                                                                                                                                                                                                                                                                                                                                        1\t39255\t39255\tA\tC...|\n",
      "|                                                                                                                                                                                                                                                                                                                                                                                                                                                        1\t39255\t39255\tA\tC...|\n",
      "|                                                                                                                                                                                                                                                                                                                                                                                                                                                        1\t39261\t39261\tT\tC...|\n",
      "|                                                                                                                                                                                                                                                                                                                                                                                                                                                        1\t39261\t39261\tT\tC...|\n",
      "|                                                                                                                                                                                                                                                                                                                                                                                                                                                        1\t40706\t40706\tG\tA...|\n",
      "|                                                                                                                                                                                                                                                                                                                                                                                                                                                        1\t40706\t40706\tG\tA...|\n",
      "|                                                                                                                                                                                                                                                                                                                                                                                                                                                        1\t46873\t46873\tA\tT...|\n",
      "|                                                                                                                                                                                                                                                                                                                                                                                                                                                        1\t46873\t46873\tA\tT...|\n",
      "|                                                                                                                                                                                                                                                                                                                                                                                                                                                        1\t49298\t49298\tT\tC...|\n",
      "|                                                                                                                                                                                                                                                                                                                                                                                                                                                        1\t49298\t49298\tT\tC...|\n",
      "+----------------------------------------------------------------------------------------------------------------------------------------------------------------------------------------------------------------------------------------------------------------------------------------------------------------------------------------------------------------------------------------------------------------------------------------------------------------------------+\n",
      "only showing top 20 rows\n",
      "\n"
     ]
    }
   ],
   "source": [
    "df.show()"
   ]
  },
  {
   "cell_type": "code",
   "execution_count": 11,
   "metadata": {},
   "outputs": [
    {
     "data": {
      "text/plain": [
       "['#Chr\\tStart\\tEnd\\tRef\\tAlt\\tRef.Gene\\tFunc.refGene\\tExonicFunc.refGene\\tGene.ensGene\\tavsnp147\\tAAChange.ensGene\\tAAChange.refGene\\tclinvar: Clinvar \\t InterVar: InterVar and Evidence \\tFreq_gnomAD_genome_ALL\\tFreq_esp6500siv2_all\\tFreq_1000g2015aug_all\\tCADD_raw\\tCADD_phred\\tSIFT_score\\tGERP++_RS\\tphyloP46way_placental\\tdbscSNV_ADA_SCORE\\tdbscSNV_RF_SCORE\\tInterpro_domain\\tAAChange.knownGene\\trmsk\\tMetaSVM_score\\tFreq_gnomAD_genome_POPs\\tOMIM\\tPhenotype_MIM\\tOrphaNumber\\tOrpha\\tOtherinfo']"
      ]
     },
     "execution_count": 11,
     "metadata": {},
     "output_type": "execute_result"
    }
   ],
   "source": []
  },
  {
   "cell_type": "code",
   "execution_count": null,
   "metadata": {},
   "outputs": [],
   "source": []
  },
  {
   "cell_type": "code",
   "execution_count": null,
   "metadata": {},
   "outputs": [],
   "source": []
  },
  {
   "cell_type": "code",
   "execution_count": null,
   "metadata": {},
   "outputs": [],
   "source": []
  },
  {
   "cell_type": "code",
   "execution_count": null,
   "metadata": {},
   "outputs": [],
   "source": []
  },
  {
   "cell_type": "code",
   "execution_count": null,
   "metadata": {},
   "outputs": [],
   "source": []
  },
  {
   "cell_type": "code",
   "execution_count": null,
   "metadata": {},
   "outputs": [],
   "source": []
  },
  {
   "cell_type": "code",
   "execution_count": null,
   "metadata": {},
   "outputs": [],
   "source": []
  }
 ],
 "metadata": {
  "kernelspec": {
   "display_name": "Python 3",
   "language": "python",
   "name": "python3"
  },
  "language_info": {
   "codemirror_mode": {
    "name": "ipython",
    "version": 3
   },
   "file_extension": ".py",
   "mimetype": "text/x-python",
   "name": "python",
   "nbconvert_exporter": "python",
   "pygments_lexer": "ipython3",
   "version": "3.7.6"
  }
 },
 "nbformat": 4,
 "nbformat_minor": 4
}
