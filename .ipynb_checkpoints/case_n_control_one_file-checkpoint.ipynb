{
 "cells": [
  {
   "cell_type": "code",
   "execution_count": 1,
   "metadata": {},
   "outputs": [],
   "source": [
    "import numpy as np\n",
    "import pandas as pd"
   ]
  },
  {
   "cell_type": "code",
   "execution_count": 2,
   "metadata": {},
   "outputs": [],
   "source": [
    "df1 = pd.read_csv(\"../case_control.csv\",low_memory=False)"
   ]
  },
  {
   "cell_type": "code",
   "execution_count": 10,
   "metadata": {},
   "outputs": [],
   "source": [
    "df1 = df1.sort_values(by=[\"POS\",\"ID\"])"
   ]
  },
  {
   "cell_type": "code",
   "execution_count": 7,
   "metadata": {},
   "outputs": [
    {
     "data": {
      "text/plain": [
       "(11176568, 24)"
      ]
     },
     "execution_count": 7,
     "metadata": {},
     "output_type": "execute_result"
    }
   ],
   "source": [
    "df1.shape"
   ]
  },
  {
   "cell_type": "code",
   "execution_count": 13,
   "metadata": {},
   "outputs": [],
   "source": [
    "df1 = df1.reset_index(drop=True)"
   ]
  },
  {
   "cell_type": "code",
   "execution_count": 14,
   "metadata": {},
   "outputs": [
    {
     "data": {
      "text/html": [
       "<div>\n",
       "<style scoped>\n",
       "    .dataframe tbody tr th:only-of-type {\n",
       "        vertical-align: middle;\n",
       "    }\n",
       "\n",
       "    .dataframe tbody tr th {\n",
       "        vertical-align: top;\n",
       "    }\n",
       "\n",
       "    .dataframe thead th {\n",
       "        text-align: right;\n",
       "    }\n",
       "</style>\n",
       "<table border=\"1\" class=\"dataframe\">\n",
       "  <thead>\n",
       "    <tr style=\"text-align: right;\">\n",
       "      <th></th>\n",
       "      <th>#CHROM</th>\n",
       "      <th>POS</th>\n",
       "      <th>ID</th>\n",
       "      <th>REF</th>\n",
       "      <th>GEN_873_case.csv</th>\n",
       "      <th>GEN_875_case.csv</th>\n",
       "      <th>GEN_880_case.csv</th>\n",
       "      <th>GEN_910_case.csv</th>\n",
       "      <th>GEN_1489_case.csv</th>\n",
       "      <th>GEN_1584_case.csv</th>\n",
       "      <th>...</th>\n",
       "      <th>GEN_1134_control.csv</th>\n",
       "      <th>GEN_1293_control.csv</th>\n",
       "      <th>GEN_1389_control.csv</th>\n",
       "      <th>GEN_1428_control.csv</th>\n",
       "      <th>GEN_1477_control.csv</th>\n",
       "      <th>GEN_1481_control.csv</th>\n",
       "      <th>GEN_1557_control.csv</th>\n",
       "      <th>GEN_1591_control.csv</th>\n",
       "      <th>GEN_1093_control.csv</th>\n",
       "      <th>GEN_1316_control.csv</th>\n",
       "    </tr>\n",
       "  </thead>\n",
       "  <tbody>\n",
       "    <tr>\n",
       "      <td>0</td>\n",
       "      <td>chrM</td>\n",
       "      <td>146</td>\n",
       "      <td>.</td>\n",
       "      <td>T</td>\n",
       "      <td>NaN</td>\n",
       "      <td>NaN</td>\n",
       "      <td>NaN</td>\n",
       "      <td>NaN</td>\n",
       "      <td>NaN</td>\n",
       "      <td>NaN</td>\n",
       "      <td>...</td>\n",
       "      <td>NaN</td>\n",
       "      <td>C/C</td>\n",
       "      <td>NaN</td>\n",
       "      <td>NaN</td>\n",
       "      <td>NaN</td>\n",
       "      <td>NaN</td>\n",
       "      <td>NaN</td>\n",
       "      <td>NaN</td>\n",
       "      <td>NaN</td>\n",
       "      <td>NaN</td>\n",
       "    </tr>\n",
       "    <tr>\n",
       "      <td>1</td>\n",
       "      <td>chrM</td>\n",
       "      <td>150</td>\n",
       "      <td>.</td>\n",
       "      <td>T</td>\n",
       "      <td>C/C</td>\n",
       "      <td>C/C</td>\n",
       "      <td>C/C</td>\n",
       "      <td>NaN</td>\n",
       "      <td>NaN</td>\n",
       "      <td>NaN</td>\n",
       "      <td>...</td>\n",
       "      <td>C/C</td>\n",
       "      <td>C/C</td>\n",
       "      <td>C/C</td>\n",
       "      <td>C/C</td>\n",
       "      <td>C/C</td>\n",
       "      <td>NaN</td>\n",
       "      <td>C/C</td>\n",
       "      <td>NaN</td>\n",
       "      <td>NaN</td>\n",
       "      <td>NaN</td>\n",
       "    </tr>\n",
       "    <tr>\n",
       "      <td>2</td>\n",
       "      <td>chrM</td>\n",
       "      <td>152</td>\n",
       "      <td>.</td>\n",
       "      <td>T</td>\n",
       "      <td>NaN</td>\n",
       "      <td>NaN</td>\n",
       "      <td>NaN</td>\n",
       "      <td>NaN</td>\n",
       "      <td>NaN</td>\n",
       "      <td>NaN</td>\n",
       "      <td>...</td>\n",
       "      <td>NaN</td>\n",
       "      <td>NaN</td>\n",
       "      <td>C/C</td>\n",
       "      <td>NaN</td>\n",
       "      <td>NaN</td>\n",
       "      <td>NaN</td>\n",
       "      <td>C/C</td>\n",
       "      <td>NaN</td>\n",
       "      <td>NaN</td>\n",
       "      <td>C/C</td>\n",
       "    </tr>\n",
       "    <tr>\n",
       "      <td>3</td>\n",
       "      <td>chr17</td>\n",
       "      <td>169</td>\n",
       "      <td>.</td>\n",
       "      <td>C</td>\n",
       "      <td>NaN</td>\n",
       "      <td>NaN</td>\n",
       "      <td>NaN</td>\n",
       "      <td>NaN</td>\n",
       "      <td>NaN</td>\n",
       "      <td>NaN</td>\n",
       "      <td>...</td>\n",
       "      <td>NaN</td>\n",
       "      <td>NaN</td>\n",
       "      <td>NaN</td>\n",
       "      <td>NaN</td>\n",
       "      <td>NaN</td>\n",
       "      <td>NaN</td>\n",
       "      <td>NaN</td>\n",
       "      <td>NaN</td>\n",
       "      <td>C/G</td>\n",
       "      <td>NaN</td>\n",
       "    </tr>\n",
       "    <tr>\n",
       "      <td>4</td>\n",
       "      <td>chrM</td>\n",
       "      <td>183</td>\n",
       "      <td>.</td>\n",
       "      <td>A</td>\n",
       "      <td>NaN</td>\n",
       "      <td>NaN</td>\n",
       "      <td>NaN</td>\n",
       "      <td>NaN</td>\n",
       "      <td>NaN</td>\n",
       "      <td>NaN</td>\n",
       "      <td>...</td>\n",
       "      <td>NaN</td>\n",
       "      <td>NaN</td>\n",
       "      <td>NaN</td>\n",
       "      <td>NaN</td>\n",
       "      <td>NaN</td>\n",
       "      <td>NaN</td>\n",
       "      <td>NaN</td>\n",
       "      <td>NaN</td>\n",
       "      <td>NaN</td>\n",
       "      <td>G/G</td>\n",
       "    </tr>\n",
       "  </tbody>\n",
       "</table>\n",
       "<p>5 rows × 24 columns</p>\n",
       "</div>"
      ],
      "text/plain": [
       "  #CHROM  POS ID REF GEN_873_case.csv GEN_875_case.csv GEN_880_case.csv  \\\n",
       "0   chrM  146  .   T              NaN              NaN              NaN   \n",
       "1   chrM  150  .   T              C/C              C/C              C/C   \n",
       "2   chrM  152  .   T              NaN              NaN              NaN   \n",
       "3  chr17  169  .   C              NaN              NaN              NaN   \n",
       "4   chrM  183  .   A              NaN              NaN              NaN   \n",
       "\n",
       "  GEN_910_case.csv GEN_1489_case.csv GEN_1584_case.csv  ...  \\\n",
       "0              NaN               NaN               NaN  ...   \n",
       "1              NaN               NaN               NaN  ...   \n",
       "2              NaN               NaN               NaN  ...   \n",
       "3              NaN               NaN               NaN  ...   \n",
       "4              NaN               NaN               NaN  ...   \n",
       "\n",
       "  GEN_1134_control.csv GEN_1293_control.csv GEN_1389_control.csv  \\\n",
       "0                  NaN                  C/C                  NaN   \n",
       "1                  C/C                  C/C                  C/C   \n",
       "2                  NaN                  NaN                  C/C   \n",
       "3                  NaN                  NaN                  NaN   \n",
       "4                  NaN                  NaN                  NaN   \n",
       "\n",
       "  GEN_1428_control.csv GEN_1477_control.csv GEN_1481_control.csv  \\\n",
       "0                  NaN                  NaN                  NaN   \n",
       "1                  C/C                  C/C                  NaN   \n",
       "2                  NaN                  NaN                  NaN   \n",
       "3                  NaN                  NaN                  NaN   \n",
       "4                  NaN                  NaN                  NaN   \n",
       "\n",
       "  GEN_1557_control.csv GEN_1591_control.csv GEN_1093_control.csv  \\\n",
       "0                  NaN                  NaN                  NaN   \n",
       "1                  C/C                  NaN                  NaN   \n",
       "2                  C/C                  NaN                  NaN   \n",
       "3                  NaN                  NaN                  C/G   \n",
       "4                  NaN                  NaN                  NaN   \n",
       "\n",
       "  GEN_1316_control.csv  \n",
       "0                  NaN  \n",
       "1                  NaN  \n",
       "2                  C/C  \n",
       "3                  NaN  \n",
       "4                  G/G  \n",
       "\n",
       "[5 rows x 24 columns]"
      ]
     },
     "execution_count": 14,
     "metadata": {},
     "output_type": "execute_result"
    }
   ],
   "source": [
    "df1.head()"
   ]
  },
  {
   "cell_type": "code",
   "execution_count": 16,
   "metadata": {},
   "outputs": [],
   "source": [
    "col = ['CHROM', 'POS', 'ID', 'REF', '1c', '2c',\n",
    "       '3c', '4c', '5c',\n",
    "       '6c', '7c', '8c',\n",
    "       '9c', '10c', '1cn',\n",
    "       '2cn', '3cn', '4cn',\n",
    "       '5cn', '6cn', '7cn',\n",
    "       '8cn', '9cn', '10cn']"
   ]
  },
  {
   "cell_type": "code",
   "execution_count": 17,
   "metadata": {},
   "outputs": [],
   "source": [
    "df1.columns= col"
   ]
  },
  {
   "cell_type": "code",
   "execution_count": 19,
   "metadata": {},
   "outputs": [],
   "source": [
    "df1.to_csv(\"../case_con_mer.csv\",index=False , encoding=\"utf-8\")"
   ]
  },
  {
   "cell_type": "code",
   "execution_count": null,
   "metadata": {},
   "outputs": [],
   "source": [
    "df1 = pd.read_csv(\"case_con_mer.csv\")"
   ]
  }
 ],
 "metadata": {
  "kernelspec": {
   "display_name": "Python 3.7.4 64-bit ('base': conda)",
   "language": "python",
   "name": "python37464bitbaseconda67970ada4b5d499c879aef5e70dc73ee"
  },
  "language_info": {
   "codemirror_mode": {
    "name": "ipython",
    "version": 3
   },
   "file_extension": ".py",
   "mimetype": "text/x-python",
   "name": "python",
   "nbconvert_exporter": "python",
   "pygments_lexer": "ipython3",
   "version": "3.7.4"
  }
 },
 "nbformat": 4,
 "nbformat_minor": 2
}
