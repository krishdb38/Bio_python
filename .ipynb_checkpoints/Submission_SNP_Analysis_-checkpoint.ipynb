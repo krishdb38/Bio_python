{
 "cells": [
  {
   "cell_type": "markdown",
   "metadata": {},
   "source": [
    "## This  Analysis is made by <br>Research & Development Team in Theragent Genomecare Co.Ltd. Korea"
   ]
  },
  {
   "cell_type": "markdown",
   "metadata": {},
   "source": [
    "**SNP DEFINITION**\n",
    "\n",
    "DNA sequence variations that occur when a single nucleotide (A, T, C, or G) in the genome sequence is altered. Each individual has many single nucleotide polymorphisms that together create a unique DNA pattern for that person. SNPs promise to significantly advance our ability to understand and treat human disease."
   ]
  },
  {
   "cell_type": "code",
   "execution_count": 1,
   "metadata": {},
   "outputs": [],
   "source": [
    "import numpy as np\n",
    "import pandas as pd\n",
    "import matplotlib.pyplot as plt\n",
    "import seaborn as sns"
   ]
  },
  {
   "cell_type": "code",
   "execution_count": 2,
   "metadata": {},
   "outputs": [
    {
     "data": {
      "text/html": [
       "<div>\n",
       "<style scoped>\n",
       "    .dataframe tbody tr th:only-of-type {\n",
       "        vertical-align: middle;\n",
       "    }\n",
       "\n",
       "    .dataframe tbody tr th {\n",
       "        vertical-align: top;\n",
       "    }\n",
       "\n",
       "    .dataframe thead th {\n",
       "        text-align: right;\n",
       "    }\n",
       "</style>\n",
       "<table border=\"1\" class=\"dataframe\">\n",
       "  <thead>\n",
       "    <tr style=\"text-align: right;\">\n",
       "      <th></th>\n",
       "      <th>CHROM</th>\n",
       "      <th>POS</th>\n",
       "      <th>ID</th>\n",
       "      <th>REF</th>\n",
       "      <th>1c</th>\n",
       "      <th>2c</th>\n",
       "      <th>3c</th>\n",
       "      <th>4c</th>\n",
       "      <th>5c</th>\n",
       "      <th>6c</th>\n",
       "      <th>...</th>\n",
       "      <th>1cn</th>\n",
       "      <th>2cn</th>\n",
       "      <th>3cn</th>\n",
       "      <th>4cn</th>\n",
       "      <th>5cn</th>\n",
       "      <th>6cn</th>\n",
       "      <th>7cn</th>\n",
       "      <th>8cn</th>\n",
       "      <th>9cn</th>\n",
       "      <th>10cn</th>\n",
       "    </tr>\n",
       "  </thead>\n",
       "  <tbody>\n",
       "    <tr>\n",
       "      <td>0</td>\n",
       "      <td>chrM</td>\n",
       "      <td>146</td>\n",
       "      <td>.</td>\n",
       "      <td>T</td>\n",
       "      <td>NaN</td>\n",
       "      <td>NaN</td>\n",
       "      <td>NaN</td>\n",
       "      <td>NaN</td>\n",
       "      <td>NaN</td>\n",
       "      <td>NaN</td>\n",
       "      <td>...</td>\n",
       "      <td>NaN</td>\n",
       "      <td>C/C</td>\n",
       "      <td>NaN</td>\n",
       "      <td>NaN</td>\n",
       "      <td>NaN</td>\n",
       "      <td>NaN</td>\n",
       "      <td>NaN</td>\n",
       "      <td>NaN</td>\n",
       "      <td>NaN</td>\n",
       "      <td>NaN</td>\n",
       "    </tr>\n",
       "    <tr>\n",
       "      <td>1</td>\n",
       "      <td>chrM</td>\n",
       "      <td>150</td>\n",
       "      <td>.</td>\n",
       "      <td>T</td>\n",
       "      <td>C/C</td>\n",
       "      <td>C/C</td>\n",
       "      <td>C/C</td>\n",
       "      <td>NaN</td>\n",
       "      <td>NaN</td>\n",
       "      <td>NaN</td>\n",
       "      <td>...</td>\n",
       "      <td>C/C</td>\n",
       "      <td>C/C</td>\n",
       "      <td>C/C</td>\n",
       "      <td>C/C</td>\n",
       "      <td>C/C</td>\n",
       "      <td>NaN</td>\n",
       "      <td>C/C</td>\n",
       "      <td>NaN</td>\n",
       "      <td>NaN</td>\n",
       "      <td>NaN</td>\n",
       "    </tr>\n",
       "  </tbody>\n",
       "</table>\n",
       "<p>2 rows × 24 columns</p>\n",
       "</div>"
      ],
      "text/plain": [
       "  CHROM  POS ID REF   1c   2c   3c   4c   5c   6c  ...  1cn  2cn  3cn  4cn  \\\n",
       "0  chrM  146  .   T  NaN  NaN  NaN  NaN  NaN  NaN  ...  NaN  C/C  NaN  NaN   \n",
       "1  chrM  150  .   T  C/C  C/C  C/C  NaN  NaN  NaN  ...  C/C  C/C  C/C  C/C   \n",
       "\n",
       "   5cn  6cn  7cn  8cn  9cn 10cn  \n",
       "0  NaN  NaN  NaN  NaN  NaN  NaN  \n",
       "1  C/C  NaN  C/C  NaN  NaN  NaN  \n",
       "\n",
       "[2 rows x 24 columns]"
      ]
     },
     "execution_count": 2,
     "metadata": {},
     "output_type": "execute_result"
    }
   ],
   "source": [
    "#Load the data Frame\n",
    "df = pd.read_csv(\"../case_con_mer.csv\")\n",
    "df.head(2)"
   ]
  },
  {
   "cell_type": "code",
   "execution_count": 4,
   "metadata": {},
   "outputs": [
    {
     "data": {
      "text/plain": [
       "(11176568, 24)"
      ]
     },
     "execution_count": 4,
     "metadata": {},
     "output_type": "execute_result"
    }
   ],
   "source": [
    "df.shape"
   ]
  },
  {
   "cell_type": "markdown",
   "metadata": {},
   "source": [
    "## Method 1, In this method we Consider NaN as Reference\n",
    "## So we groupby datas into 2 categories\n",
    "\n",
    "For this we divide by having NaN value in one Category 100% and not NaN 100% in other category"
   ]
  },
  {
   "cell_type": "code",
   "execution_count": 5,
   "metadata": {},
   "outputs": [
    {
     "data": {
      "text/plain": [
       "Index(['CHROM', 'POS', 'ID', 'REF', '1c', '2c', '3c', '4c', '5c', '6c', '7c',\n",
       "       '8c', '9c', '10c', '1cn', '2cn', '3cn', '4cn', '5cn', '6cn', '7cn',\n",
       "       '8cn', '9cn', '10cn'],\n",
       "      dtype='object')"
      ]
     },
     "execution_count": 5,
     "metadata": {},
     "output_type": "execute_result"
    }
   ],
   "source": [
    "df.columns"
   ]
  },
  {
   "cell_type": "code",
   "execution_count": 7,
   "metadata": {},
   "outputs": [],
   "source": [
    "#df1 = df1[df1.isnull().sum(axis=1)<17]\n",
    "\n",
    "case_con = df[(df.loc[:,[ '1c', '2c', '3c', '4c', '5c', '6c', '7c','8c', '9c', '10c']].isnull().sum(axis =1)<2)\n",
    "    &(df.loc[:,['1cn', '2cn', '3cn', '4cn', '5cn', '6cn', '7cn','8cn', '9cn', '10cn']].isnull().sum(axis =1)>9)] #We Can accept up to  80 %\n",
    "#case hase SNP but  Control has no SNP\n",
    "\n",
    "#case NAN more and Control NAN is Less\n",
    "con_case = df[(df.loc[:,[ '1c', '2c', '3c', '4c', '5c', '6c', '7c','8c', '9c', '10c']].isnull().sum(axis =1)>9) \\\n",
    "    &(df.loc[:,['1cn', '2cn', '3cn', '4cn', '5cn', '6cn', '7cn','8cn', '9cn', '10cn']].isnull().sum(axis =1)<2)]\n",
    "#case has no SNP but Control has SNP\n",
    "\n",
    "#case_on_con means nan value in more than 9 (10) in control but all SNP in case\n",
    "#con_on_case means all SNP value exists in Control but not in case"
   ]
  },
  {
   "cell_type": "code",
   "execution_count": 8,
   "metadata": {},
   "outputs": [],
   "source": [
    "pd.set_option('display.max_columns', 50)\n",
    "pd.set_option(\"display.max_rows\",50)"
   ]
  },
  {
   "cell_type": "code",
   "execution_count": 10,
   "metadata": {
    "scrolled": true
   },
   "outputs": [
    {
     "data": {
      "text/plain": [
       "(20, 24)"
      ]
     },
     "execution_count": 10,
     "metadata": {},
     "output_type": "execute_result"
    }
   ],
   "source": [
    "#case_con.to_excel(\"../case_con.xlsx\",index=False)\n",
    "case_con.shape"
   ]
  },
  {
   "cell_type": "code",
   "execution_count": 12,
   "metadata": {},
   "outputs": [],
   "source": [
    "test = case_con.sort_values(by = [\"CHROM\"],ascending=True)"
   ]
  },
  {
   "cell_type": "code",
   "execution_count": 14,
   "metadata": {},
   "outputs": [],
   "source": [
    "#This is NaN value out from Whole Data\n",
    "pos_in = ['20319535','20320988','20321943','20322122','20325719','20326890','20326945','82378418','82436482','3076053',\\\n",
    "          '3076844','3079113','3080799','3081502','3081758','113942151','63606023']\n",
    "#These Pos in Are selected From whole File \n",
    "#while checking the Below 3 Position Manually We Find thes are not Complete Data\n"
   ]
  },
  {
   "cell_type": "code",
   "execution_count": 25,
   "metadata": {},
   "outputs": [
    {
     "data": {
      "text/html": [
       "<div>\n",
       "<style scoped>\n",
       "    .dataframe tbody tr th:only-of-type {\n",
       "        vertical-align: middle;\n",
       "    }\n",
       "\n",
       "    .dataframe tbody tr th {\n",
       "        vertical-align: top;\n",
       "    }\n",
       "\n",
       "    .dataframe thead th {\n",
       "        text-align: right;\n",
       "    }\n",
       "</style>\n",
       "<table border=\"1\" class=\"dataframe\">\n",
       "  <thead>\n",
       "    <tr style=\"text-align: right;\">\n",
       "      <th></th>\n",
       "      <th>CHROM</th>\n",
       "      <th>POS</th>\n",
       "      <th>ID</th>\n",
       "      <th>REF</th>\n",
       "      <th>1c</th>\n",
       "      <th>2c</th>\n",
       "      <th>3c</th>\n",
       "      <th>4c</th>\n",
       "      <th>5c</th>\n",
       "      <th>6c</th>\n",
       "      <th>7c</th>\n",
       "      <th>8c</th>\n",
       "      <th>9c</th>\n",
       "      <th>10c</th>\n",
       "      <th>1cn</th>\n",
       "      <th>2cn</th>\n",
       "      <th>3cn</th>\n",
       "      <th>4cn</th>\n",
       "      <th>5cn</th>\n",
       "      <th>6cn</th>\n",
       "      <th>7cn</th>\n",
       "      <th>8cn</th>\n",
       "      <th>9cn</th>\n",
       "      <th>10cn</th>\n",
       "    </tr>\n",
       "  </thead>\n",
       "  <tbody>\n",
       "    <tr>\n",
       "      <td>6061647</td>\n",
       "      <td>chr11</td>\n",
       "      <td>75245928</td>\n",
       "      <td>rs144542292;rs55765476</td>\n",
       "      <td>C</td>\n",
       "      <td>CGTGT/CGTGT</td>\n",
       "      <td>C/CGTGT</td>\n",
       "      <td>CGT,CGTGT/CGT,CGTGT</td>\n",
       "      <td>CGTGTGT,CGTGTGTGTGT/CGTGTGT,CGTGTGTGTGT</td>\n",
       "      <td>CGTGT,CGTGTGT/CGTGT,CGTGTGT</td>\n",
       "      <td>CGTGT,CGTGTGTGTGT/CGTGT,CGTGTGTGTGT</td>\n",
       "      <td>CGT,CGTGT/CGT,CGTGT</td>\n",
       "      <td>C/CGTGT</td>\n",
       "      <td>NaN</td>\n",
       "      <td>CGTGT,CGTGTGTGTGT/CGTGT,CGTGTGTGTGT</td>\n",
       "      <td>NaN</td>\n",
       "      <td>NaN</td>\n",
       "      <td>NaN</td>\n",
       "      <td>NaN</td>\n",
       "      <td>NaN</td>\n",
       "      <td>NaN</td>\n",
       "      <td>NaN</td>\n",
       "      <td>NaN</td>\n",
       "      <td>NaN</td>\n",
       "      <td>NaN</td>\n",
       "    </tr>\n",
       "    <tr>\n",
       "      <td>1729483</td>\n",
       "      <td>chr2</td>\n",
       "      <td>20326677</td>\n",
       "      <td>rs17652106</td>\n",
       "      <td>T</td>\n",
       "      <td>T/C</td>\n",
       "      <td>T/C</td>\n",
       "      <td>NaN</td>\n",
       "      <td>T/C</td>\n",
       "      <td>T/C</td>\n",
       "      <td>T/C</td>\n",
       "      <td>T/C</td>\n",
       "      <td>T/C</td>\n",
       "      <td>T/C</td>\n",
       "      <td>T/C</td>\n",
       "      <td>NaN</td>\n",
       "      <td>NaN</td>\n",
       "      <td>NaN</td>\n",
       "      <td>NaN</td>\n",
       "      <td>NaN</td>\n",
       "      <td>NaN</td>\n",
       "      <td>NaN</td>\n",
       "      <td>NaN</td>\n",
       "      <td>NaN</td>\n",
       "      <td>NaN</td>\n",
       "    </tr>\n",
       "    <tr>\n",
       "      <td>9150297</td>\n",
       "      <td>chr9</td>\n",
       "      <td>130898247</td>\n",
       "      <td>rs35318794</td>\n",
       "      <td>C</td>\n",
       "      <td>C/T</td>\n",
       "      <td>C/T</td>\n",
       "      <td>C/T</td>\n",
       "      <td>C/T</td>\n",
       "      <td>C/T</td>\n",
       "      <td>C/T</td>\n",
       "      <td>C/T</td>\n",
       "      <td>C/T</td>\n",
       "      <td>C/T</td>\n",
       "      <td>C/T</td>\n",
       "      <td>NaN</td>\n",
       "      <td>NaN</td>\n",
       "      <td>NaN</td>\n",
       "      <td>NaN</td>\n",
       "      <td>NaN</td>\n",
       "      <td>NaN</td>\n",
       "      <td>NaN</td>\n",
       "      <td>NaN</td>\n",
       "      <td>NaN</td>\n",
       "      <td>NaN</td>\n",
       "    </tr>\n",
       "  </tbody>\n",
       "</table>\n",
       "</div>"
      ],
      "text/plain": [
       "         CHROM        POS                      ID REF           1c       2c  \\\n",
       "6061647  chr11   75245928  rs144542292;rs55765476   C  CGTGT/CGTGT  C/CGTGT   \n",
       "1729483   chr2   20326677              rs17652106   T          T/C      T/C   \n",
       "9150297   chr9  130898247              rs35318794   C          C/T      C/T   \n",
       "\n",
       "                          3c                                       4c  \\\n",
       "6061647  CGT,CGTGT/CGT,CGTGT  CGTGTGT,CGTGTGTGTGT/CGTGTGT,CGTGTGTGTGT   \n",
       "1729483                  NaN                                      T/C   \n",
       "9150297                  C/T                                      C/T   \n",
       "\n",
       "                                  5c                                   6c  \\\n",
       "6061647  CGTGT,CGTGTGT/CGTGT,CGTGTGT  CGTGT,CGTGTGTGTGT/CGTGT,CGTGTGTGTGT   \n",
       "1729483                          T/C                                  T/C   \n",
       "9150297                          C/T                                  C/T   \n",
       "\n",
       "                          7c       8c   9c  \\\n",
       "6061647  CGT,CGTGT/CGT,CGTGT  C/CGTGT  NaN   \n",
       "1729483                  T/C      T/C  T/C   \n",
       "9150297                  C/T      C/T  C/T   \n",
       "\n",
       "                                         10c  1cn  2cn  3cn  4cn  5cn  6cn  \\\n",
       "6061647  CGTGT,CGTGTGTGTGT/CGTGT,CGTGTGTGTGT  NaN  NaN  NaN  NaN  NaN  NaN   \n",
       "1729483                                  T/C  NaN  NaN  NaN  NaN  NaN  NaN   \n",
       "9150297                                  C/T  NaN  NaN  NaN  NaN  NaN  NaN   \n",
       "\n",
       "         7cn  8cn  9cn 10cn  \n",
       "6061647  NaN  NaN  NaN  NaN  \n",
       "1729483  NaN  NaN  NaN  NaN  \n",
       "9150297  NaN  NaN  NaN  NaN  "
      ]
     },
     "execution_count": 25,
     "metadata": {},
     "output_type": "execute_result"
    }
   ],
   "source": [
    "result = test[test.POS.isin(pos_in)]\n",
    "#list(test[~(test.POS.isin(pos_in))].POS)\n",
    "test[~(test.POS.isin(pos_in))]"
   ]
  },
  {
   "cell_type": "code",
   "execution_count": null,
   "metadata": {},
   "outputs": [],
   "source": [
    "#con_case\n",
    "#In this Case it is difficult to make analysis since case is as per by reference , \n",
    "#But we can make another Reference for Korean People or we can also say if this SNP rises there is little chance of Preterm"
   ]
  },
  {
   "cell_type": "code",
   "execution_count": null,
   "metadata": {},
   "outputs": [],
   "source": []
  },
  {
   "cell_type": "code",
   "execution_count": 33,
   "metadata": {},
   "outputs": [
    {
     "data": {
      "text/plain": [
       "<function matplotlib.pyplot.show(*args, **kw)>"
      ]
     },
     "execution_count": 33,
     "metadata": {},
     "output_type": "execute_result"
    },
    {
     "data": {
      "image/png": "[encoded data removed]",
      "text/plain": [
       "<Figure size 720x720 with 1 Axes>"
      ]
     },
     "metadata": {
      "needs_background": "light"
     },
     "output_type": "display_data"
    }
   ],
   "source": [
    "fig = plt.figure(figsize=(10,10))\n",
    "plt.title(\"Heat Map \")\n",
    "plt.xlabel(\"Case(c) & Control(cn)\")\n",
    "plt.ylabel(\"Position of Sequence (SNP)\")\n",
    "sns.heatmap(result.iloc[:,4:23].isnull(),cmap = \"viridis\",\\\n",
    "            cbar = False )\n",
    "plt.savefig(\"../heatMeap_case_control.png\")\n",
    "plt.show"
   ]
  },
  {
   "cell_type": "code",
   "execution_count": 31,
   "metadata": {},
   "outputs": [
    {
     "data": {
      "text/plain": [
       "<function matplotlib.pyplot.show(*args, **kw)>"
      ]
     },
     "execution_count": 31,
     "metadata": {},
     "output_type": "execute_result"
    },
    {
     "data": {
      "image/png": "[encoded data removed]",
      "text/plain": [
       "<Figure size 720x720 with 1 Axes>"
      ]
     },
     "metadata": {
      "needs_background": "light"
     },
     "output_type": "display_data"
    }
   ],
   "source": [
    "fig = plt.figure(figsize=(10,10))\n",
    "plt.title(\"Heat Map \")\n",
    "plt.xlabel(\"Case(c) & Control(cn)\")\n",
    "plt.ylabel(\"Position of Sequence (SNP)\")\n",
    "sns.heatmap(case_con.iloc[:,4:23].isnull(),cmap = \"viridis\",\\\n",
    "            cbar = False )\n",
    "plt.savefig(\"../heatMeap_case_control.png\")\n",
    "plt.show"
   ]
  },
  {
   "cell_type": "code",
   "execution_count": 32,
   "metadata": {},
   "outputs": [
    {
     "data": {
      "text/plain": [
       "<matplotlib.axes._subplots.AxesSubplot at 0x21644078ec8>"
      ]
     },
     "execution_count": 32,
     "metadata": {},
     "output_type": "execute_result"
    },
    {
     "data": {
      "image/png": "[encoded data removed]",
      "text/plain": [
       "<Figure size 432x288 with 1 Axes>"
      ]
     },
     "metadata": {
      "needs_background": "light"
     },
     "output_type": "display_data"
    }
   ],
   "source": [
    "rep_chrom = case_con.groupby([\"CHROM\"]).size()\n",
    "plt.xlabel(\"Chromosome\")\n",
    "plt.ylabel(\"Repete\")\n",
    "rep_chrom.plot()"
   ]
  },
  {
   "cell_type": "code",
   "execution_count": 33,
   "metadata": {},
   "outputs": [
    {
     "data": {
      "image/png": "[encoded data removed]",
      "text/plain": [
       "<Figure size 432x288 with 1 Axes>"
      ]
     },
     "metadata": {
      "needs_background": "light"
     },
     "output_type": "display_data"
    }
   ],
   "source": [
    "sns.countplot(case_con[\"CHROM\"])\n",
    "plt.xlabel(\"Chromosome Name\")\n",
    "plt.ylabel(\"Repeting Count\")\n",
    "plt.savefig(\"../chr_n_Rep.png\")"
   ]
  },
  {
   "cell_type": "code",
   "execution_count": 34,
   "metadata": {},
   "outputs": [
    {
     "data": {
      "text/plain": [
       "(20, 24)"
      ]
     },
     "execution_count": 34,
     "metadata": {},
     "output_type": "execute_result"
    }
   ],
   "source": [
    "case_con.shape"
   ]
  },
  {
   "cell_type": "markdown",
   "metadata": {},
   "source": [
    "## Method 2\n",
    "#### Here we compare both case & Control \n",
    "## Simply\n",
    "* isin Case    ?? & not isin Control ??\n",
    "* isin Control ?? & not isin Case ??"
   ]
  },
  {
   "cell_type": "code",
   "execution_count": 2,
   "metadata": {},
   "outputs": [
    {
     "ename": "NameError",
     "evalue": "name 'df' is not defined",
     "output_type": "error",
     "traceback": [
      "\u001b[1;31m---------------------------------------------------------------------------\u001b[0m",
      "\u001b[1;31mNameError\u001b[0m                                 Traceback (most recent call last)",
      "\u001b[1;32m<ipython-input-2-c42a15b2c7cf>\u001b[0m in \u001b[0;36m<module>\u001b[1;34m\u001b[0m\n\u001b[1;32m----> 1\u001b[1;33m \u001b[0mdf\u001b[0m\u001b[1;33m.\u001b[0m\u001b[0mhead\u001b[0m\u001b[1;33m(\u001b[0m\u001b[1;33m)\u001b[0m\u001b[1;33m\u001b[0m\u001b[1;33m\u001b[0m\u001b[0m\n\u001b[0m",
      "\u001b[1;31mNameError\u001b[0m: name 'df' is not defined"
     ]
    }
   ],
   "source": [
    "df.head()"
   ]
  },
  {
   "cell_type": "code",
   "execution_count": null,
   "metadata": {},
   "outputs": [],
   "source": [
    "#Here we dont care NaN \n",
    "# In the begining we only remove rows having sum of NaN more than 12"
   ]
  },
  {
   "cell_type": "code",
   "execution_count": 26,
   "metadata": {},
   "outputs": [
    {
     "name": "stdout",
     "output_type": "stream",
     "text": [
      "(11176568, 24)\n"
     ]
    },
    {
     "data": {
      "text/plain": [
       "(4246244, 24)"
      ]
     },
     "execution_count": 26,
     "metadata": {},
     "output_type": "execute_result"
    }
   ],
   "source": [
    "print(df.shape)\n",
    "df =df[df.isna().sum(axis=1)<12]\n",
    "df.shape"
   ]
  },
  {
   "cell_type": "code",
   "execution_count": 27,
   "metadata": {
    "scrolled": true
   },
   "outputs": [
    {
     "name": "stdout",
     "output_type": "stream",
     "text": [
      "We reduced the Size of Datas to Percent  37.99237834011299\n"
     ]
    },
    {
     "data": {
      "text/html": [
       "<div>\n",
       "<style scoped>\n",
       "    .dataframe tbody tr th:only-of-type {\n",
       "        vertical-align: middle;\n",
       "    }\n",
       "\n",
       "    .dataframe tbody tr th {\n",
       "        vertical-align: top;\n",
       "    }\n",
       "\n",
       "    .dataframe thead th {\n",
       "        text-align: right;\n",
       "    }\n",
       "</style>\n",
       "<table border=\"1\" class=\"dataframe\">\n",
       "  <thead>\n",
       "    <tr style=\"text-align: right;\">\n",
       "      <th></th>\n",
       "      <th>CHROM</th>\n",
       "      <th>POS</th>\n",
       "      <th>ID</th>\n",
       "      <th>REF</th>\n",
       "      <th>1c</th>\n",
       "      <th>2c</th>\n",
       "      <th>3c</th>\n",
       "      <th>4c</th>\n",
       "      <th>5c</th>\n",
       "      <th>6c</th>\n",
       "      <th>7c</th>\n",
       "      <th>8c</th>\n",
       "      <th>9c</th>\n",
       "      <th>10c</th>\n",
       "      <th>1cn</th>\n",
       "      <th>2cn</th>\n",
       "      <th>3cn</th>\n",
       "      <th>4cn</th>\n",
       "      <th>5cn</th>\n",
       "      <th>6cn</th>\n",
       "      <th>7cn</th>\n",
       "      <th>8cn</th>\n",
       "      <th>9cn</th>\n",
       "      <th>10cn</th>\n",
       "    </tr>\n",
       "  </thead>\n",
       "  <tbody>\n",
       "    <tr>\n",
       "      <td>1</td>\n",
       "      <td>chrM</td>\n",
       "      <td>150</td>\n",
       "      <td>.</td>\n",
       "      <td>T</td>\n",
       "      <td>C/C</td>\n",
       "      <td>C/C</td>\n",
       "      <td>C/C</td>\n",
       "      <td>NaN</td>\n",
       "      <td>NaN</td>\n",
       "      <td>NaN</td>\n",
       "      <td>NaN</td>\n",
       "      <td>C/C</td>\n",
       "      <td>C/C</td>\n",
       "      <td>NaN</td>\n",
       "      <td>C/C</td>\n",
       "      <td>C/C</td>\n",
       "      <td>C/C</td>\n",
       "      <td>C/C</td>\n",
       "      <td>C/C</td>\n",
       "      <td>NaN</td>\n",
       "      <td>C/C</td>\n",
       "      <td>NaN</td>\n",
       "      <td>NaN</td>\n",
       "      <td>NaN</td>\n",
       "    </tr>\n",
       "    <tr>\n",
       "      <td>5</td>\n",
       "      <td>chrM</td>\n",
       "      <td>195</td>\n",
       "      <td>.</td>\n",
       "      <td>C</td>\n",
       "      <td>T/T</td>\n",
       "      <td>T/T</td>\n",
       "      <td>T/T</td>\n",
       "      <td>T/T</td>\n",
       "      <td>T/T</td>\n",
       "      <td>T/T</td>\n",
       "      <td>T/T</td>\n",
       "      <td>T/T</td>\n",
       "      <td>T/T</td>\n",
       "      <td>NaN</td>\n",
       "      <td>T/T</td>\n",
       "      <td>T/T</td>\n",
       "      <td>T/T</td>\n",
       "      <td>NaN</td>\n",
       "      <td>T/T</td>\n",
       "      <td>T/T</td>\n",
       "      <td>T/T</td>\n",
       "      <td>NaN</td>\n",
       "      <td>T/T</td>\n",
       "      <td>T/T</td>\n",
       "    </tr>\n",
       "    <tr>\n",
       "      <td>14</td>\n",
       "      <td>chrM</td>\n",
       "      <td>302</td>\n",
       "      <td>.</td>\n",
       "      <td>AC</td>\n",
       "      <td>NaN</td>\n",
       "      <td>AC/A</td>\n",
       "      <td>AC/A</td>\n",
       "      <td>NaN</td>\n",
       "      <td>AC/A</td>\n",
       "      <td>AC/A</td>\n",
       "      <td>AC/A</td>\n",
       "      <td>NaN</td>\n",
       "      <td>NaN</td>\n",
       "      <td>NaN</td>\n",
       "      <td>NaN</td>\n",
       "      <td>NaN</td>\n",
       "      <td>NaN</td>\n",
       "      <td>NaN</td>\n",
       "      <td>AC/A</td>\n",
       "      <td>NaN</td>\n",
       "      <td>NaN</td>\n",
       "      <td>AC/A</td>\n",
       "      <td>AC/A</td>\n",
       "      <td>AC/A</td>\n",
       "    </tr>\n",
       "    <tr>\n",
       "      <td>15</td>\n",
       "      <td>chr17</td>\n",
       "      <td>302</td>\n",
       "      <td>rs35998167</td>\n",
       "      <td>T</td>\n",
       "      <td>TA/TA</td>\n",
       "      <td>TA/TA</td>\n",
       "      <td>TA/TA</td>\n",
       "      <td>TA/TA</td>\n",
       "      <td>T/TA</td>\n",
       "      <td>TA/TA</td>\n",
       "      <td>TA/TA</td>\n",
       "      <td>TA/TA</td>\n",
       "      <td>TA/TA</td>\n",
       "      <td>TA/TA</td>\n",
       "      <td>TA/TA</td>\n",
       "      <td>TA/TA</td>\n",
       "      <td>TA/TA</td>\n",
       "      <td>TA/TA</td>\n",
       "      <td>TA/TA</td>\n",
       "      <td>TA/TA</td>\n",
       "      <td>TA/TA</td>\n",
       "      <td>TA/TA</td>\n",
       "      <td>TA/TA</td>\n",
       "      <td>TA/TA</td>\n",
       "    </tr>\n",
       "    <tr>\n",
       "      <td>17</td>\n",
       "      <td>chrM</td>\n",
       "      <td>410</td>\n",
       "      <td>.</td>\n",
       "      <td>A</td>\n",
       "      <td>T/T</td>\n",
       "      <td>T/T</td>\n",
       "      <td>T/T</td>\n",
       "      <td>T/T</td>\n",
       "      <td>T/T</td>\n",
       "      <td>T/T</td>\n",
       "      <td>T/T</td>\n",
       "      <td>T/T</td>\n",
       "      <td>T/T</td>\n",
       "      <td>T/T</td>\n",
       "      <td>T/T</td>\n",
       "      <td>T/T</td>\n",
       "      <td>T/T</td>\n",
       "      <td>T/T</td>\n",
       "      <td>T/T</td>\n",
       "      <td>T/T</td>\n",
       "      <td>T/T</td>\n",
       "      <td>T/T</td>\n",
       "      <td>T/T</td>\n",
       "      <td>T/T</td>\n",
       "    </tr>\n",
       "  </tbody>\n",
       "</table>\n",
       "</div>"
      ],
      "text/plain": [
       "    CHROM  POS          ID REF     1c     2c     3c     4c    5c     6c  \\\n",
       "1    chrM  150           .   T    C/C    C/C    C/C    NaN   NaN    NaN   \n",
       "5    chrM  195           .   C    T/T    T/T    T/T    T/T   T/T    T/T   \n",
       "14   chrM  302           .  AC    NaN   AC/A   AC/A    NaN  AC/A   AC/A   \n",
       "15  chr17  302  rs35998167   T  TA/TA  TA/TA  TA/TA  TA/TA  T/TA  TA/TA   \n",
       "17   chrM  410           .   A    T/T    T/T    T/T    T/T   T/T    T/T   \n",
       "\n",
       "       7c     8c     9c    10c    1cn    2cn    3cn    4cn    5cn    6cn  \\\n",
       "1     NaN    C/C    C/C    NaN    C/C    C/C    C/C    C/C    C/C    NaN   \n",
       "5     T/T    T/T    T/T    NaN    T/T    T/T    T/T    NaN    T/T    T/T   \n",
       "14   AC/A    NaN    NaN    NaN    NaN    NaN    NaN    NaN   AC/A    NaN   \n",
       "15  TA/TA  TA/TA  TA/TA  TA/TA  TA/TA  TA/TA  TA/TA  TA/TA  TA/TA  TA/TA   \n",
       "17    T/T    T/T    T/T    T/T    T/T    T/T    T/T    T/T    T/T    T/T   \n",
       "\n",
       "      7cn    8cn    9cn   10cn  \n",
       "1     C/C    NaN    NaN    NaN  \n",
       "5     T/T    NaN    T/T    T/T  \n",
       "14    NaN   AC/A   AC/A   AC/A  \n",
       "15  TA/TA  TA/TA  TA/TA  TA/TA  \n",
       "17    T/T    T/T    T/T    T/T  "
      ]
     },
     "execution_count": 27,
     "metadata": {},
     "output_type": "execute_result"
    }
   ],
   "source": [
    "#Above we remove many rows having NaN \n",
    "print(\"We reduced the Size of Datas to Percent \",(4246244/11176568)*100)\n",
    "df.head()\n",
    "#Later we remove all NaN values"
   ]
  },
  {
   "cell_type": "markdown",
   "metadata": {},
   "source": [
    "##### Now We compare col by col and if the all the elements is same Col is same then we remove all datas\n",
    "#### We only analyse datas having different elements in each other"
   ]
  },
  {
   "cell_type": "code",
   "execution_count": 16,
   "metadata": {},
   "outputs": [],
   "source": [
    "#df1[(df1[\"1c\"].isin(df1[\"1cn\"])) & (df1[\"2c\"].isin(df1[\"2cn\"]))]\n",
    "#df_eq = df[(df[\"1c\"]==df[\"1cn\"])&(df[\"2c\"]==df[\"2cn\"])&(df[\"3c\"]==df[\"3cn\"])&(df[\"4c\"]==df[\"4cn\"])\\\n",
    "#        &(df[\"5c\"]==df[\"5cn\"])&(df[\"6c\"]==df[\"6cn\"])&(df[\"7c\"]==df[\"7cn\"])&(df[\"8c\"]==df[\"8cn\"])\\\n",
    "#        &(df[\"9c\"]==df[\"9cn\"])&(df[\"10c\"]==df[\"10cn\"])]\n",
    "\n",
    "#df_noeq = df[~((df[\"1c\"]==df[\"1cn\"])&(df[\"2c\"]==df[\"2cn\"])&(df[\"3c\"]==df[\"3cn\"])&(df[\"4c\"]==df[\"4cn\"])\\\n",
    "#        &(df[\"5c\"]==df[\"5cn\"])&(df[\"6c\"]==df[\"6cn\"])&(df[\"7c\"]==df[\"7cn\"])&(df[\"8c\"]==df[\"8cn\"])\\\n",
    "#        &(df[\"9c\"]==df[\"9cn\"])&(df[\"10c\"]==df[\"10cn\"]))]"
   ]
  },
  {
   "cell_type": "code",
   "execution_count": 17,
   "metadata": {},
   "outputs": [],
   "source": [
    "#For testing\n",
    "#df_eq.shape[0]+df_noeq.shape[0]==df.shape[0]"
   ]
  },
  {
   "cell_type": "code",
   "execution_count": 18,
   "metadata": {},
   "outputs": [],
   "source": [
    "# To reduce Computer Memory replace df to df_noeq Data Frame\n",
    "#df = df_noeq"
   ]
  },
  {
   "cell_type": "code",
   "execution_count": 19,
   "metadata": {},
   "outputs": [],
   "source": [
    "#df.head()"
   ]
  },
  {
   "cell_type": "code",
   "execution_count": 20,
   "metadata": {},
   "outputs": [
    {
     "data": {
      "text/plain": [
       "(3834227, 24)"
      ]
     },
     "execution_count": 20,
     "metadata": {},
     "output_type": "execute_result"
    }
   ],
   "source": [
    "df.shape"
   ]
  },
  {
   "cell_type": "code",
   "execution_count": 22,
   "metadata": {},
   "outputs": [
    {
     "data": {
      "text/plain": [
       "(3798682, 24)"
      ]
     },
     "execution_count": 22,
     "metadata": {},
     "output_type": "execute_result"
    }
   ],
   "source": [
    "#df = df.drop_duplicates(keep=\"first\")\n",
    "df.shape"
   ]
  },
  {
   "cell_type": "code",
   "execution_count": null,
   "metadata": {},
   "outputs": [],
   "source": [
    "#We removed the all repeating values #Since keep = \"first\" may not be the proper method . We analyse this later"
   ]
  },
  {
   "cell_type": "code",
   "execution_count": 28,
   "metadata": {},
   "outputs": [
    {
     "data": {
      "text/plain": [
       "(887951, 24)"
      ]
     },
     "execution_count": 28,
     "metadata": {},
     "output_type": "execute_result"
    }
   ],
   "source": [
    "#Now we Remove all NaN rows \n",
    "#Because We analysed NaN in first Steps\n",
    "df = df.dropna() # If any rows having only one NaN item we remove drop that row\n",
    "df.shape"
   ]
  },
  {
   "cell_type": "code",
   "execution_count": 29,
   "metadata": {},
   "outputs": [],
   "source": [
    "#We Can see till Now this is a Big Data \n",
    "#There are more than 460 K Rows \n",
    "df[\"case\"]=df[\"1c\"]+\",\" +df[\"2c\"] +\",\" + df[\"3c\"]+\",\" +df[\"4c\"]+\",\"  +df[\"5c\"]+\",\" +df[\"6c\"]+\",\"+ df[\"7c\"]+\",\" +df[\"8c\"]+\",\" + df[\"9c\"]+\",\" +df[\"10c\"]\n",
    "df[\"Control\"]=df[\"1cn\"]+\",\"+df[\"2cn\"]+\",\"+df[\"3cn\"]+\",\"+df[\"4cn\"]+\",\"+df[\"5cn\"]+\",\"+df[\"6cn\"]+\",\"+df[\"7cn\"]+\",\" +df[\"8cn\"]+\",\"+ df[\"9cn\"]+\",\" +df[\"10cn\"]"
   ]
  },
  {
   "cell_type": "code",
   "execution_count": 30,
   "metadata": {},
   "outputs": [
    {
     "data": {
      "text/html": [
       "<div>\n",
       "<style scoped>\n",
       "    .dataframe tbody tr th:only-of-type {\n",
       "        vertical-align: middle;\n",
       "    }\n",
       "\n",
       "    .dataframe tbody tr th {\n",
       "        vertical-align: top;\n",
       "    }\n",
       "\n",
       "    .dataframe thead th {\n",
       "        text-align: right;\n",
       "    }\n",
       "</style>\n",
       "<table border=\"1\" class=\"dataframe\">\n",
       "  <thead>\n",
       "    <tr style=\"text-align: right;\">\n",
       "      <th></th>\n",
       "      <th>CHROM</th>\n",
       "      <th>POS</th>\n",
       "      <th>ID</th>\n",
       "      <th>REF</th>\n",
       "      <th>1c</th>\n",
       "      <th>2c</th>\n",
       "      <th>3c</th>\n",
       "      <th>4c</th>\n",
       "      <th>5c</th>\n",
       "      <th>6c</th>\n",
       "      <th>7c</th>\n",
       "      <th>8c</th>\n",
       "      <th>9c</th>\n",
       "      <th>10c</th>\n",
       "      <th>1cn</th>\n",
       "      <th>2cn</th>\n",
       "      <th>3cn</th>\n",
       "      <th>4cn</th>\n",
       "      <th>5cn</th>\n",
       "      <th>6cn</th>\n",
       "      <th>7cn</th>\n",
       "      <th>8cn</th>\n",
       "      <th>9cn</th>\n",
       "      <th>10cn</th>\n",
       "      <th>case</th>\n",
       "      <th>Control</th>\n",
       "    </tr>\n",
       "  </thead>\n",
       "  <tbody>\n",
       "    <tr>\n",
       "      <td>15</td>\n",
       "      <td>chr17</td>\n",
       "      <td>302</td>\n",
       "      <td>rs35998167</td>\n",
       "      <td>T</td>\n",
       "      <td>TA/TA</td>\n",
       "      <td>TA/TA</td>\n",
       "      <td>TA/TA</td>\n",
       "      <td>TA/TA</td>\n",
       "      <td>T/TA</td>\n",
       "      <td>TA/TA</td>\n",
       "      <td>TA/TA</td>\n",
       "      <td>TA/TA</td>\n",
       "      <td>TA/TA</td>\n",
       "      <td>TA/TA</td>\n",
       "      <td>TA/TA</td>\n",
       "      <td>TA/TA</td>\n",
       "      <td>TA/TA</td>\n",
       "      <td>TA/TA</td>\n",
       "      <td>TA/TA</td>\n",
       "      <td>TA/TA</td>\n",
       "      <td>TA/TA</td>\n",
       "      <td>TA/TA</td>\n",
       "      <td>TA/TA</td>\n",
       "      <td>TA/TA</td>\n",
       "      <td>TA/TA,TA/TA,TA/TA,TA/TA,T/TA,TA/TA,TA/TA,TA/TA...</td>\n",
       "      <td>TA/TA,TA/TA,TA/TA,TA/TA,TA/TA,TA/TA,TA/TA,TA/T...</td>\n",
       "    </tr>\n",
       "    <tr>\n",
       "      <td>17</td>\n",
       "      <td>chrM</td>\n",
       "      <td>410</td>\n",
       "      <td>.</td>\n",
       "      <td>A</td>\n",
       "      <td>T/T</td>\n",
       "      <td>T/T</td>\n",
       "      <td>T/T</td>\n",
       "      <td>T/T</td>\n",
       "      <td>T/T</td>\n",
       "      <td>T/T</td>\n",
       "      <td>T/T</td>\n",
       "      <td>T/T</td>\n",
       "      <td>T/T</td>\n",
       "      <td>T/T</td>\n",
       "      <td>T/T</td>\n",
       "      <td>T/T</td>\n",
       "      <td>T/T</td>\n",
       "      <td>T/T</td>\n",
       "      <td>T/T</td>\n",
       "      <td>T/T</td>\n",
       "      <td>T/T</td>\n",
       "      <td>T/T</td>\n",
       "      <td>T/T</td>\n",
       "      <td>T/T</td>\n",
       "      <td>T/T,T/T,T/T,T/T,T/T,T/T,T/T,T/T,T/T,T/T</td>\n",
       "      <td>T/T,T/T,T/T,T/T,T/T,T/T,T/T,T/T,T/T,T/T</td>\n",
       "    </tr>\n",
       "    <tr>\n",
       "      <td>25</td>\n",
       "      <td>chr17</td>\n",
       "      <td>828</td>\n",
       "      <td>rs62053745</td>\n",
       "      <td>T</td>\n",
       "      <td>C/C</td>\n",
       "      <td>C/C</td>\n",
       "      <td>C/C</td>\n",
       "      <td>C/C</td>\n",
       "      <td>T/C</td>\n",
       "      <td>C/C</td>\n",
       "      <td>C/C</td>\n",
       "      <td>C/C</td>\n",
       "      <td>C/C</td>\n",
       "      <td>C/C</td>\n",
       "      <td>C/C</td>\n",
       "      <td>C/C</td>\n",
       "      <td>C/C</td>\n",
       "      <td>C/C</td>\n",
       "      <td>C/C</td>\n",
       "      <td>C/C</td>\n",
       "      <td>C/C</td>\n",
       "      <td>C/C</td>\n",
       "      <td>C/C</td>\n",
       "      <td>C/C</td>\n",
       "      <td>C/C,C/C,C/C,C/C,T/C,C/C,C/C,C/C,C/C,C/C</td>\n",
       "      <td>C/C,C/C,C/C,C/C,C/C,C/C,C/C,C/C,C/C,C/C</td>\n",
       "    </tr>\n",
       "    <tr>\n",
       "      <td>26</td>\n",
       "      <td>chr17</td>\n",
       "      <td>834</td>\n",
       "      <td>rs9747082</td>\n",
       "      <td>G</td>\n",
       "      <td>A/A</td>\n",
       "      <td>A/A</td>\n",
       "      <td>A/A</td>\n",
       "      <td>A/A</td>\n",
       "      <td>G/A</td>\n",
       "      <td>A/A</td>\n",
       "      <td>A/A</td>\n",
       "      <td>A/A</td>\n",
       "      <td>A/A</td>\n",
       "      <td>A/A</td>\n",
       "      <td>A/A</td>\n",
       "      <td>A/A</td>\n",
       "      <td>A/A</td>\n",
       "      <td>A/A</td>\n",
       "      <td>A/A</td>\n",
       "      <td>A/A</td>\n",
       "      <td>A/A</td>\n",
       "      <td>A/A</td>\n",
       "      <td>A/A</td>\n",
       "      <td>A/A</td>\n",
       "      <td>A/A,A/A,A/A,A/A,G/A,A/A,A/A,A/A,A/A,A/A</td>\n",
       "      <td>A/A,A/A,A/A,A/A,A/A,A/A,A/A,A/A,A/A,A/A</td>\n",
       "    </tr>\n",
       "    <tr>\n",
       "      <td>35</td>\n",
       "      <td>chr17</td>\n",
       "      <td>1869</td>\n",
       "      <td>rs62053748</td>\n",
       "      <td>A</td>\n",
       "      <td>T/T</td>\n",
       "      <td>T/T</td>\n",
       "      <td>T/T</td>\n",
       "      <td>T/T</td>\n",
       "      <td>A/T</td>\n",
       "      <td>T/T</td>\n",
       "      <td>T/T</td>\n",
       "      <td>T/T</td>\n",
       "      <td>T/T</td>\n",
       "      <td>T/T</td>\n",
       "      <td>T/T</td>\n",
       "      <td>T/T</td>\n",
       "      <td>T/T</td>\n",
       "      <td>T/T</td>\n",
       "      <td>T/T</td>\n",
       "      <td>T/T</td>\n",
       "      <td>T/T</td>\n",
       "      <td>T/T</td>\n",
       "      <td>T/T</td>\n",
       "      <td>T/T</td>\n",
       "      <td>T/T,T/T,T/T,T/T,A/T,T/T,T/T,T/T,T/T,T/T</td>\n",
       "      <td>T/T,T/T,T/T,T/T,T/T,T/T,T/T,T/T,T/T,T/T</td>\n",
       "    </tr>\n",
       "  </tbody>\n",
       "</table>\n",
       "</div>"
      ],
      "text/plain": [
       "    CHROM   POS          ID REF     1c     2c     3c     4c    5c     6c  \\\n",
       "15  chr17   302  rs35998167   T  TA/TA  TA/TA  TA/TA  TA/TA  T/TA  TA/TA   \n",
       "17   chrM   410           .   A    T/T    T/T    T/T    T/T   T/T    T/T   \n",
       "25  chr17   828  rs62053745   T    C/C    C/C    C/C    C/C   T/C    C/C   \n",
       "26  chr17   834   rs9747082   G    A/A    A/A    A/A    A/A   G/A    A/A   \n",
       "35  chr17  1869  rs62053748   A    T/T    T/T    T/T    T/T   A/T    T/T   \n",
       "\n",
       "       7c     8c     9c    10c    1cn    2cn    3cn    4cn    5cn    6cn  \\\n",
       "15  TA/TA  TA/TA  TA/TA  TA/TA  TA/TA  TA/TA  TA/TA  TA/TA  TA/TA  TA/TA   \n",
       "17    T/T    T/T    T/T    T/T    T/T    T/T    T/T    T/T    T/T    T/T   \n",
       "25    C/C    C/C    C/C    C/C    C/C    C/C    C/C    C/C    C/C    C/C   \n",
       "26    A/A    A/A    A/A    A/A    A/A    A/A    A/A    A/A    A/A    A/A   \n",
       "35    T/T    T/T    T/T    T/T    T/T    T/T    T/T    T/T    T/T    T/T   \n",
       "\n",
       "      7cn    8cn    9cn   10cn  \\\n",
       "15  TA/TA  TA/TA  TA/TA  TA/TA   \n",
       "17    T/T    T/T    T/T    T/T   \n",
       "25    C/C    C/C    C/C    C/C   \n",
       "26    A/A    A/A    A/A    A/A   \n",
       "35    T/T    T/T    T/T    T/T   \n",
       "\n",
       "                                                 case  \\\n",
       "15  TA/TA,TA/TA,TA/TA,TA/TA,T/TA,TA/TA,TA/TA,TA/TA...   \n",
       "17            T/T,T/T,T/T,T/T,T/T,T/T,T/T,T/T,T/T,T/T   \n",
       "25            C/C,C/C,C/C,C/C,T/C,C/C,C/C,C/C,C/C,C/C   \n",
       "26            A/A,A/A,A/A,A/A,G/A,A/A,A/A,A/A,A/A,A/A   \n",
       "35            T/T,T/T,T/T,T/T,A/T,T/T,T/T,T/T,T/T,T/T   \n",
       "\n",
       "                                              Control  \n",
       "15  TA/TA,TA/TA,TA/TA,TA/TA,TA/TA,TA/TA,TA/TA,TA/T...  \n",
       "17            T/T,T/T,T/T,T/T,T/T,T/T,T/T,T/T,T/T,T/T  \n",
       "25            C/C,C/C,C/C,C/C,C/C,C/C,C/C,C/C,C/C,C/C  \n",
       "26            A/A,A/A,A/A,A/A,A/A,A/A,A/A,A/A,A/A,A/A  \n",
       "35            T/T,T/T,T/T,T/T,T/T,T/T,T/T,T/T,T/T,T/T  "
      ]
     },
     "execution_count": 30,
     "metadata": {},
     "output_type": "execute_result"
    }
   ],
   "source": [
    "df.head()"
   ]
  },
  {
   "cell_type": "markdown",
   "metadata": {},
   "source": [
    "### For Easy View of Datas we will Remove all the columns since we Created Combined 2 Cols Case & Control"
   ]
  },
  {
   "cell_type": "code",
   "execution_count": 31,
   "metadata": {},
   "outputs": [
    {
     "name": "stdout",
     "output_type": "stream",
     "text": [
      "(887951, 6)\n"
     ]
    },
    {
     "data": {
      "text/html": [
       "<div>\n",
       "<style scoped>\n",
       "    .dataframe tbody tr th:only-of-type {\n",
       "        vertical-align: middle;\n",
       "    }\n",
       "\n",
       "    .dataframe tbody tr th {\n",
       "        vertical-align: top;\n",
       "    }\n",
       "\n",
       "    .dataframe thead th {\n",
       "        text-align: right;\n",
       "    }\n",
       "</style>\n",
       "<table border=\"1\" class=\"dataframe\">\n",
       "  <thead>\n",
       "    <tr style=\"text-align: right;\">\n",
       "      <th></th>\n",
       "      <th>CHROM</th>\n",
       "      <th>POS</th>\n",
       "      <th>ID</th>\n",
       "      <th>REF</th>\n",
       "      <th>case</th>\n",
       "      <th>Control</th>\n",
       "    </tr>\n",
       "  </thead>\n",
       "  <tbody>\n",
       "    <tr>\n",
       "      <td>15</td>\n",
       "      <td>chr17</td>\n",
       "      <td>302</td>\n",
       "      <td>rs35998167</td>\n",
       "      <td>T</td>\n",
       "      <td>TA/TA,TA/TA,TA/TA,TA/TA,T/TA,TA/TA,TA/TA,TA/TA...</td>\n",
       "      <td>TA/TA,TA/TA,TA/TA,TA/TA,TA/TA,TA/TA,TA/TA,TA/T...</td>\n",
       "    </tr>\n",
       "    <tr>\n",
       "      <td>17</td>\n",
       "      <td>chrM</td>\n",
       "      <td>410</td>\n",
       "      <td>.</td>\n",
       "      <td>A</td>\n",
       "      <td>T/T,T/T,T/T,T/T,T/T,T/T,T/T,T/T,T/T,T/T</td>\n",
       "      <td>T/T,T/T,T/T,T/T,T/T,T/T,T/T,T/T,T/T,T/T</td>\n",
       "    </tr>\n",
       "    <tr>\n",
       "      <td>25</td>\n",
       "      <td>chr17</td>\n",
       "      <td>828</td>\n",
       "      <td>rs62053745</td>\n",
       "      <td>T</td>\n",
       "      <td>C/C,C/C,C/C,C/C,T/C,C/C,C/C,C/C,C/C,C/C</td>\n",
       "      <td>C/C,C/C,C/C,C/C,C/C,C/C,C/C,C/C,C/C,C/C</td>\n",
       "    </tr>\n",
       "    <tr>\n",
       "      <td>26</td>\n",
       "      <td>chr17</td>\n",
       "      <td>834</td>\n",
       "      <td>rs9747082</td>\n",
       "      <td>G</td>\n",
       "      <td>A/A,A/A,A/A,A/A,G/A,A/A,A/A,A/A,A/A,A/A</td>\n",
       "      <td>A/A,A/A,A/A,A/A,A/A,A/A,A/A,A/A,A/A,A/A</td>\n",
       "    </tr>\n",
       "  </tbody>\n",
       "</table>\n",
       "</div>"
      ],
      "text/plain": [
       "    CHROM  POS          ID REF  \\\n",
       "15  chr17  302  rs35998167   T   \n",
       "17   chrM  410           .   A   \n",
       "25  chr17  828  rs62053745   T   \n",
       "26  chr17  834   rs9747082   G   \n",
       "\n",
       "                                                 case  \\\n",
       "15  TA/TA,TA/TA,TA/TA,TA/TA,T/TA,TA/TA,TA/TA,TA/TA...   \n",
       "17            T/T,T/T,T/T,T/T,T/T,T/T,T/T,T/T,T/T,T/T   \n",
       "25            C/C,C/C,C/C,C/C,T/C,C/C,C/C,C/C,C/C,C/C   \n",
       "26            A/A,A/A,A/A,A/A,G/A,A/A,A/A,A/A,A/A,A/A   \n",
       "\n",
       "                                              Control  \n",
       "15  TA/TA,TA/TA,TA/TA,TA/TA,TA/TA,TA/TA,TA/TA,TA/T...  \n",
       "17            T/T,T/T,T/T,T/T,T/T,T/T,T/T,T/T,T/T,T/T  \n",
       "25            C/C,C/C,C/C,C/C,C/C,C/C,C/C,C/C,C/C,C/C  \n",
       "26            A/A,A/A,A/A,A/A,A/A,A/A,A/A,A/A,A/A,A/A  "
      ]
     },
     "execution_count": 31,
     "metadata": {},
     "output_type": "execute_result"
    }
   ],
   "source": [
    "df = df.loc[:,[\"CHROM\",\"POS\",\"ID\",\"REF\",\"case\",\"Control\"]]\n",
    "print(df.shape)\n",
    "df.head(4)"
   ]
  },
  {
   "cell_type": "code",
   "execution_count": 32,
   "metadata": {},
   "outputs": [
    {
     "data": {
      "text/html": [
       "<div>\n",
       "<style scoped>\n",
       "    .dataframe tbody tr th:only-of-type {\n",
       "        vertical-align: middle;\n",
       "    }\n",
       "\n",
       "    .dataframe tbody tr th {\n",
       "        vertical-align: top;\n",
       "    }\n",
       "\n",
       "    .dataframe thead th {\n",
       "        text-align: right;\n",
       "    }\n",
       "</style>\n",
       "<table border=\"1\" class=\"dataframe\">\n",
       "  <thead>\n",
       "    <tr style=\"text-align: right;\">\n",
       "      <th></th>\n",
       "      <th>CHROM</th>\n",
       "      <th>POS</th>\n",
       "      <th>ID</th>\n",
       "      <th>REF</th>\n",
       "      <th>case</th>\n",
       "      <th>Control</th>\n",
       "      <th>case_max</th>\n",
       "      <th>cont_max</th>\n",
       "    </tr>\n",
       "  </thead>\n",
       "  <tbody>\n",
       "    <tr>\n",
       "      <td>15</td>\n",
       "      <td>chr17</td>\n",
       "      <td>302</td>\n",
       "      <td>rs35998167</td>\n",
       "      <td>T</td>\n",
       "      <td>TA/TA,TA/TA,TA/TA,TA/TA,T/TA,TA/TA,TA/TA,TA/TA...</td>\n",
       "      <td>TA/TA,TA/TA,TA/TA,TA/TA,TA/TA,TA/TA,TA/TA,TA/T...</td>\n",
       "      <td>[(TA/TA, 9)]</td>\n",
       "      <td>[(TA/TA, 10)]</td>\n",
       "    </tr>\n",
       "    <tr>\n",
       "      <td>17</td>\n",
       "      <td>chrM</td>\n",
       "      <td>410</td>\n",
       "      <td>.</td>\n",
       "      <td>A</td>\n",
       "      <td>T/T,T/T,T/T,T/T,T/T,T/T,T/T,T/T,T/T,T/T</td>\n",
       "      <td>T/T,T/T,T/T,T/T,T/T,T/T,T/T,T/T,T/T,T/T</td>\n",
       "      <td>[(T/T, 10)]</td>\n",
       "      <td>[(T/T, 10)]</td>\n",
       "    </tr>\n",
       "    <tr>\n",
       "      <td>25</td>\n",
       "      <td>chr17</td>\n",
       "      <td>828</td>\n",
       "      <td>rs62053745</td>\n",
       "      <td>T</td>\n",
       "      <td>C/C,C/C,C/C,C/C,T/C,C/C,C/C,C/C,C/C,C/C</td>\n",
       "      <td>C/C,C/C,C/C,C/C,C/C,C/C,C/C,C/C,C/C,C/C</td>\n",
       "      <td>[(C/C, 9)]</td>\n",
       "      <td>[(C/C, 10)]</td>\n",
       "    </tr>\n",
       "    <tr>\n",
       "      <td>26</td>\n",
       "      <td>chr17</td>\n",
       "      <td>834</td>\n",
       "      <td>rs9747082</td>\n",
       "      <td>G</td>\n",
       "      <td>A/A,A/A,A/A,A/A,G/A,A/A,A/A,A/A,A/A,A/A</td>\n",
       "      <td>A/A,A/A,A/A,A/A,A/A,A/A,A/A,A/A,A/A,A/A</td>\n",
       "      <td>[(A/A, 9)]</td>\n",
       "      <td>[(A/A, 10)]</td>\n",
       "    </tr>\n",
       "    <tr>\n",
       "      <td>35</td>\n",
       "      <td>chr17</td>\n",
       "      <td>1869</td>\n",
       "      <td>rs62053748</td>\n",
       "      <td>A</td>\n",
       "      <td>T/T,T/T,T/T,T/T,A/T,T/T,T/T,T/T,T/T,T/T</td>\n",
       "      <td>T/T,T/T,T/T,T/T,T/T,T/T,T/T,T/T,T/T,T/T</td>\n",
       "      <td>[(T/T, 9)]</td>\n",
       "      <td>[(T/T, 10)]</td>\n",
       "    </tr>\n",
       "  </tbody>\n",
       "</table>\n",
       "</div>"
      ],
      "text/plain": [
       "    CHROM   POS          ID REF  \\\n",
       "15  chr17   302  rs35998167   T   \n",
       "17   chrM   410           .   A   \n",
       "25  chr17   828  rs62053745   T   \n",
       "26  chr17   834   rs9747082   G   \n",
       "35  chr17  1869  rs62053748   A   \n",
       "\n",
       "                                                 case  \\\n",
       "15  TA/TA,TA/TA,TA/TA,TA/TA,T/TA,TA/TA,TA/TA,TA/TA...   \n",
       "17            T/T,T/T,T/T,T/T,T/T,T/T,T/T,T/T,T/T,T/T   \n",
       "25            C/C,C/C,C/C,C/C,T/C,C/C,C/C,C/C,C/C,C/C   \n",
       "26            A/A,A/A,A/A,A/A,G/A,A/A,A/A,A/A,A/A,A/A   \n",
       "35            T/T,T/T,T/T,T/T,A/T,T/T,T/T,T/T,T/T,T/T   \n",
       "\n",
       "                                              Control      case_max  \\\n",
       "15  TA/TA,TA/TA,TA/TA,TA/TA,TA/TA,TA/TA,TA/TA,TA/T...  [(TA/TA, 9)]   \n",
       "17            T/T,T/T,T/T,T/T,T/T,T/T,T/T,T/T,T/T,T/T   [(T/T, 10)]   \n",
       "25            C/C,C/C,C/C,C/C,C/C,C/C,C/C,C/C,C/C,C/C    [(C/C, 9)]   \n",
       "26            A/A,A/A,A/A,A/A,A/A,A/A,A/A,A/A,A/A,A/A    [(A/A, 9)]   \n",
       "35            T/T,T/T,T/T,T/T,T/T,T/T,T/T,T/T,T/T,T/T    [(T/T, 9)]   \n",
       "\n",
       "         cont_max  \n",
       "15  [(TA/TA, 10)]  \n",
       "17    [(T/T, 10)]  \n",
       "25    [(C/C, 10)]  \n",
       "26    [(A/A, 10)]  \n",
       "35    [(T/T, 10)]  "
      ]
     },
     "execution_count": 32,
     "metadata": {},
     "output_type": "execute_result"
    }
   ],
   "source": [
    "#We Can see Col is reduced to 6 Columns\n",
    "# Lets apply Function to Filter the case & Control Data\n",
    "from collections import Counter\n",
    "\n",
    "df[\"case_max\"] = df[\"case\"].apply(lambda x :(Counter((list(x.split(\",\"))))).most_common(1))\n",
    "df[\"cont_max\"] = df[\"Control\"].apply(lambda x:(Counter(x.split(\",\"))).most_common(1))\n",
    "df.head()\n",
    "\n",
    "#In this Function We only take out Most repeating SNP combination from Case & Control"
   ]
  },
  {
   "cell_type": "markdown",
   "metadata": {},
   "source": [
    "### The above case_max and cont_max elements are tuple inside list so avoid list"
   ]
  },
  {
   "cell_type": "code",
   "execution_count": 28,
   "metadata": {},
   "outputs": [
    {
     "data": {
      "text/html": [
       "<div>\n",
       "<style scoped>\n",
       "    .dataframe tbody tr th:only-of-type {\n",
       "        vertical-align: middle;\n",
       "    }\n",
       "\n",
       "    .dataframe tbody tr th {\n",
       "        vertical-align: top;\n",
       "    }\n",
       "\n",
       "    .dataframe thead th {\n",
       "        text-align: right;\n",
       "    }\n",
       "</style>\n",
       "<table border=\"1\" class=\"dataframe\">\n",
       "  <thead>\n",
       "    <tr style=\"text-align: right;\">\n",
       "      <th></th>\n",
       "      <th>CHROM</th>\n",
       "      <th>POS</th>\n",
       "      <th>ID</th>\n",
       "      <th>REF</th>\n",
       "      <th>case</th>\n",
       "      <th>Control</th>\n",
       "      <th>case_r</th>\n",
       "      <th>cont_r</th>\n",
       "    </tr>\n",
       "  </thead>\n",
       "  <tbody>\n",
       "    <tr>\n",
       "      <td>15</td>\n",
       "      <td>chr17</td>\n",
       "      <td>302</td>\n",
       "      <td>rs35998167</td>\n",
       "      <td>T</td>\n",
       "      <td>TA/TA,TA/TA,TA/TA,TA/TA,T/TA,TA/TA,TA/TA,TA/TA...</td>\n",
       "      <td>TA/TA,TA/TA,TA/TA,TA/TA,TA/TA,TA/TA,TA/TA,TA/T...</td>\n",
       "      <td>(TA/TA, 9)</td>\n",
       "      <td>(TA/TA, 10)</td>\n",
       "    </tr>\n",
       "    <tr>\n",
       "      <td>25</td>\n",
       "      <td>chr17</td>\n",
       "      <td>828</td>\n",
       "      <td>rs62053745</td>\n",
       "      <td>T</td>\n",
       "      <td>C/C,C/C,C/C,C/C,T/C,C/C,C/C,C/C,C/C,C/C</td>\n",
       "      <td>C/C,C/C,C/C,C/C,C/C,C/C,C/C,C/C,C/C,C/C</td>\n",
       "      <td>(C/C, 9)</td>\n",
       "      <td>(C/C, 10)</td>\n",
       "    </tr>\n",
       "    <tr>\n",
       "      <td>26</td>\n",
       "      <td>chr17</td>\n",
       "      <td>834</td>\n",
       "      <td>rs9747082</td>\n",
       "      <td>G</td>\n",
       "      <td>A/A,A/A,A/A,A/A,G/A,A/A,A/A,A/A,A/A,A/A</td>\n",
       "      <td>A/A,A/A,A/A,A/A,A/A,A/A,A/A,A/A,A/A,A/A</td>\n",
       "      <td>(A/A, 9)</td>\n",
       "      <td>(A/A, 10)</td>\n",
       "    </tr>\n",
       "    <tr>\n",
       "      <td>35</td>\n",
       "      <td>chr17</td>\n",
       "      <td>1869</td>\n",
       "      <td>rs62053748</td>\n",
       "      <td>A</td>\n",
       "      <td>T/T,T/T,T/T,T/T,A/T,T/T,T/T,T/T,T/T,T/T</td>\n",
       "      <td>T/T,T/T,T/T,T/T,T/T,T/T,T/T,T/T,T/T,T/T</td>\n",
       "      <td>(T/T, 9)</td>\n",
       "      <td>(T/T, 10)</td>\n",
       "    </tr>\n",
       "    <tr>\n",
       "      <td>36</td>\n",
       "      <td>chr17</td>\n",
       "      <td>2041</td>\n",
       "      <td>rs35054424</td>\n",
       "      <td>G</td>\n",
       "      <td>A/A,A/A,A/A,A/A,G/A,A/A,A/A,A/A,A/A,A/A</td>\n",
       "      <td>A/A,A/A,A/A,A/A,A/A,A/A,A/A,A/A,A/A,A/A</td>\n",
       "      <td>(A/A, 9)</td>\n",
       "      <td>(A/A, 10)</td>\n",
       "    </tr>\n",
       "  </tbody>\n",
       "</table>\n",
       "</div>"
      ],
      "text/plain": [
       "    CHROM   POS          ID REF  \\\n",
       "15  chr17   302  rs35998167   T   \n",
       "25  chr17   828  rs62053745   T   \n",
       "26  chr17   834   rs9747082   G   \n",
       "35  chr17  1869  rs62053748   A   \n",
       "36  chr17  2041  rs35054424   G   \n",
       "\n",
       "                                                 case  \\\n",
       "15  TA/TA,TA/TA,TA/TA,TA/TA,T/TA,TA/TA,TA/TA,TA/TA...   \n",
       "25            C/C,C/C,C/C,C/C,T/C,C/C,C/C,C/C,C/C,C/C   \n",
       "26            A/A,A/A,A/A,A/A,G/A,A/A,A/A,A/A,A/A,A/A   \n",
       "35            T/T,T/T,T/T,T/T,A/T,T/T,T/T,T/T,T/T,T/T   \n",
       "36            A/A,A/A,A/A,A/A,G/A,A/A,A/A,A/A,A/A,A/A   \n",
       "\n",
       "                                              Control      case_r       cont_r  \n",
       "15  TA/TA,TA/TA,TA/TA,TA/TA,TA/TA,TA/TA,TA/TA,TA/T...  (TA/TA, 9)  (TA/TA, 10)  \n",
       "25            C/C,C/C,C/C,C/C,C/C,C/C,C/C,C/C,C/C,C/C    (C/C, 9)    (C/C, 10)  \n",
       "26            A/A,A/A,A/A,A/A,A/A,A/A,A/A,A/A,A/A,A/A    (A/A, 9)    (A/A, 10)  \n",
       "35            T/T,T/T,T/T,T/T,T/T,T/T,T/T,T/T,T/T,T/T    (T/T, 9)    (T/T, 10)  \n",
       "36            A/A,A/A,A/A,A/A,A/A,A/A,A/A,A/A,A/A,A/A    (A/A, 9)    (A/A, 10)  "
      ]
     },
     "execution_count": 28,
     "metadata": {},
     "output_type": "execute_result"
    }
   ],
   "source": [
    "#Create a new Col and Drop same Col\n",
    "df[\"case_r\"]= df[\"case_max\"].apply(lambda x : x[0])\n",
    "df =df.drop(\"case_max\",axis=1)\n",
    "\n",
    "#Create a new Col and drop same Col.\n",
    "df[\"cont_r\"]= df[\"cont_max\"].apply(lambda x : x[0])\n",
    "df = df.drop(\"cont_max\",axis =1)\n",
    "df.head()"
   ]
  },
  {
   "cell_type": "code",
   "execution_count": 29,
   "metadata": {},
   "outputs": [],
   "source": [
    "# For easy Analysis Purpose we Combine case_r and cont_r as a Single Column\n",
    "df[\"case_cont\"] = df[\"case_r\"]+df[\"cont_r\"]"
   ]
  },
  {
   "cell_type": "code",
   "execution_count": 30,
   "metadata": {},
   "outputs": [
    {
     "data": {
      "text/html": [
       "<div>\n",
       "<style scoped>\n",
       "    .dataframe tbody tr th:only-of-type {\n",
       "        vertical-align: middle;\n",
       "    }\n",
       "\n",
       "    .dataframe tbody tr th {\n",
       "        vertical-align: top;\n",
       "    }\n",
       "\n",
       "    .dataframe thead th {\n",
       "        text-align: right;\n",
       "    }\n",
       "</style>\n",
       "<table border=\"1\" class=\"dataframe\">\n",
       "  <thead>\n",
       "    <tr style=\"text-align: right;\">\n",
       "      <th></th>\n",
       "      <th>CHROM</th>\n",
       "      <th>POS</th>\n",
       "      <th>ID</th>\n",
       "      <th>REF</th>\n",
       "      <th>case</th>\n",
       "      <th>Control</th>\n",
       "      <th>case_r</th>\n",
       "      <th>cont_r</th>\n",
       "      <th>case_cont</th>\n",
       "    </tr>\n",
       "  </thead>\n",
       "  <tbody>\n",
       "    <tr>\n",
       "      <td>15</td>\n",
       "      <td>chr17</td>\n",
       "      <td>302</td>\n",
       "      <td>rs35998167</td>\n",
       "      <td>T</td>\n",
       "      <td>TA/TA,TA/TA,TA/TA,TA/TA,T/TA,TA/TA,TA/TA,TA/TA...</td>\n",
       "      <td>TA/TA,TA/TA,TA/TA,TA/TA,TA/TA,TA/TA,TA/TA,TA/T...</td>\n",
       "      <td>(TA/TA, 9)</td>\n",
       "      <td>(TA/TA, 10)</td>\n",
       "      <td>(TA/TA, 9, TA/TA, 10)</td>\n",
       "    </tr>\n",
       "    <tr>\n",
       "      <td>25</td>\n",
       "      <td>chr17</td>\n",
       "      <td>828</td>\n",
       "      <td>rs62053745</td>\n",
       "      <td>T</td>\n",
       "      <td>C/C,C/C,C/C,C/C,T/C,C/C,C/C,C/C,C/C,C/C</td>\n",
       "      <td>C/C,C/C,C/C,C/C,C/C,C/C,C/C,C/C,C/C,C/C</td>\n",
       "      <td>(C/C, 9)</td>\n",
       "      <td>(C/C, 10)</td>\n",
       "      <td>(C/C, 9, C/C, 10)</td>\n",
       "    </tr>\n",
       "  </tbody>\n",
       "</table>\n",
       "</div>"
      ],
      "text/plain": [
       "    CHROM  POS          ID REF  \\\n",
       "15  chr17  302  rs35998167   T   \n",
       "25  chr17  828  rs62053745   T   \n",
       "\n",
       "                                                 case  \\\n",
       "15  TA/TA,TA/TA,TA/TA,TA/TA,T/TA,TA/TA,TA/TA,TA/TA...   \n",
       "25            C/C,C/C,C/C,C/C,T/C,C/C,C/C,C/C,C/C,C/C   \n",
       "\n",
       "                                              Control      case_r  \\\n",
       "15  TA/TA,TA/TA,TA/TA,TA/TA,TA/TA,TA/TA,TA/TA,TA/T...  (TA/TA, 9)   \n",
       "25            C/C,C/C,C/C,C/C,C/C,C/C,C/C,C/C,C/C,C/C    (C/C, 9)   \n",
       "\n",
       "         cont_r              case_cont  \n",
       "15  (TA/TA, 10)  (TA/TA, 9, TA/TA, 10)  \n",
       "25    (C/C, 10)      (C/C, 9, C/C, 10)  "
      ]
     },
     "execution_count": 30,
     "metadata": {},
     "output_type": "execute_result"
    }
   ],
   "source": [
    "df.head(2)"
   ]
  },
  {
   "cell_type": "code",
   "execution_count": null,
   "metadata": {},
   "outputs": [],
   "source": [
    "df.shape"
   ]
  },
  {
   "cell_type": "code",
   "execution_count": null,
   "metadata": {},
   "outputs": [],
   "source": [
    "#Since we created a Single Column, So lets remove independent Columns\n",
    "#df = df.iloc[:,[0,1,2,3,4,5,8]]\n",
    "df = \n",
    "df.head(2)"
   ]
  },
  {
   "cell_type": "markdown",
   "metadata": {},
   "source": [
    "### Final Step"
   ]
  },
  {
   "cell_type": "code",
   "execution_count": null,
   "metadata": {},
   "outputs": [],
   "source": [
    "df[\"Result\"] = df[\"case_cont\"].apply(lambda x : True if((x[0]==x[2])&(x[1]>4)&(x[3]>4)) else False)\n",
    "#In this Case,\n",
    "#We are Comparing First element of each i.e. \"TA/TA\" == \"TA/TA\" and more than 4 (40 %)\n",
    "#We assumed that if both side 50 datas are same No decisions can be made"
   ]
  },
  {
   "cell_type": "code",
   "execution_count": null,
   "metadata": {},
   "outputs": [],
   "source": [
    "df.head(2)"
   ]
  },
  {
   "cell_type": "code",
   "execution_count": null,
   "metadata": {},
   "outputs": [],
   "source": [
    "## So Lets take Out datas 100 % Different from each Sides"
   ]
  },
  {
   "cell_type": "code",
   "execution_count": null,
   "metadata": {},
   "outputs": [],
   "source": [
    "df[\"Result\"] = df[\"case_cont\"].apply(lambda x : True if((x[0]!=x[2])&(x[1]>8)&(x[3]>8)) else False)\n",
    "#In this Case we divided that case & Control elements are different from each Others and repeating values are higher than 9 (90%)\n"
   ]
  },
  {
   "cell_type": "code",
   "execution_count": null,
   "metadata": {},
   "outputs": [],
   "source": [
    "df[df.Result==True]"
   ]
  },
  {
   "cell_type": "markdown",
   "metadata": {},
   "source": [
    "#### In this above table we can see this 6 Pos and ref Ids are 90 % different from each other "
   ]
  },
  {
   "cell_type": "markdown",
   "metadata": {},
   "source": [
    "### Our Major Findings "
   ]
  },
  {
   "cell_type": "code",
   "execution_count": null,
   "metadata": {},
   "outputs": [],
   "source": [
    "case_con"
   ]
  },
  {
   "cell_type": "markdown",
   "metadata": {},
   "source": []
  },
  {
   "cell_type": "code",
   "execution_count": null,
   "metadata": {},
   "outputs": [],
   "source": [
    "con_case"
   ]
  },
  {
   "cell_type": "code",
   "execution_count": null,
   "metadata": {},
   "outputs": [],
   "source": [
    "result = df[df.Result==True]\n",
    "result"
   ]
  },
  {
   "cell_type": "markdown",
   "metadata": {},
   "source": [
    "### `List of Influencing Chromosomes & Positions`"
   ]
  },
  {
   "cell_type": "code",
   "execution_count": null,
   "metadata": {},
   "outputs": [],
   "source": [
    "inf_id = list(case_con[\"ID\"]) + list(con_case[\"ID\"]) +list(result[\"ID\"])\n",
    "inf_id"
   ]
  },
  {
   "cell_type": "code",
   "execution_count": null,
   "metadata": {},
   "outputs": [],
   "source": [
    "plt.figure(figsize=(15,8))\n",
    "sns.countplot(case_con[\"CHROM\"],\n",
    "             order = case_con.CHROM.value_counts().index)\n",
    "plt.xlabel(\"Chromosome Name_POsition\")\n",
    "plt.ylabel(\"Repeting Count\")\n",
    "plt.savefig(\"../CHRM_count_80.png\")"
   ]
  },
  {
   "cell_type": "code",
   "execution_count": null,
   "metadata": {},
   "outputs": [],
   "source": []
  },
  {
   "cell_type": "markdown",
   "metadata": {},
   "source": [
    "### Effect of these ID we analyse in chapter 2 Thank You\n"
   ]
  }
 ],
 "metadata": {
  "kernelspec": {
   "display_name": "Python 3.7.4 64-bit ('base': conda)",
   "language": "python",
   "name": "python37464bitbaseconda67970ada4b5d499c879aef5e70dc73ee"
  },
  "language_info": {
   "codemirror_mode": {
    "name": "ipython",
    "version": 3
   },
   "file_extension": ".py",
   "mimetype": "text/x-python",
   "name": "python",
   "nbconvert_exporter": "python",
   "pygments_lexer": "ipython3",
   "version": "3.7.4"
  }
 },
 "nbformat": 4,
 "nbformat_minor": 2
}
