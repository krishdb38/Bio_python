{
 "cells": [
  {
   "cell_type": "markdown",
   "metadata": {},
   "source": [
    "# Multiple Traits, Multiple Variance Components? Easy.\n",
    "\n",
    "This example extends the standard genetic variance component model to efficiently account for any number of other random effects, in addition to the additive genetic and environmental variance components (more than 2 variance components). Say we have $m \\geq 2$ variance components for $d$ correlated traits of $n$ related people under the VCM, users  specify their VCM as follows:\n",
    "\n",
    "$$Y_{n \\times d} \\sim \\text{MatrixNormal}(\\mathbf{M}_{n \\times d} = XB, \\Omega_{nd \\times nd} = \\sum_{k=1}^m \\Sigma_k \\otimes V_k)$$\n",
    "\n",
    "Allows the model **data** can be inputed under the standard [VarianceComponentModels.jl](https://github.com/OpenMendel/VarianceComponentModels.jl/) framework as follows:\n",
    "\n",
    "* `Y`: `n x d` response matrix \n",
    "* `X`: `n x p` covariate matrix \n",
    "* `V = (V1, ..., Vm)`: a tuple of `m` `n x n` covariance matrices\n",
    "\n",
    "and **parameters** are\n",
    "\n",
    "* `B`: `p x d` mean parameter matrix\n",
    "* `Σ = (Σ1, ..., Σm)`: a tuple of `m` `d x d` variance components. \n",
    "\n",
    "In this example we show alternative ways to specify the simulation parameters for the VCM and benchmark it against the available method using the MatrixNormal distribution in Julia [Distributions.jl](https://juliastats.org/Distributions.jl/latest/matrix/#Distributions.MatrixNormal) package."
   ]
  },
  {
   "cell_type": "code",
   "execution_count": null,
   "metadata": {},
   "outputs": [],
   "source": [
    "using LinearAlgebra, Random, TraitSimulation, DataFrames, Distributions, BenchmarkTools"
   ]
  },
  {
   "cell_type": "markdown",
   "metadata": {},
   "source": [
    "Here for m = 10 random Variance Components, we generate m random covariance matrices, a random design matrix and p regression coefficients to illustrate the simulation of a d = 2 dimensional response matrix of traits for a sample of n = 1000 people."
   ]
  },
  {
   "cell_type": "code",
   "execution_count": null,
   "metadata": {},
   "outputs": [],
   "source": [
    "n = 1000   # no. observations\n",
    "d = 2      # dimension of responses\n",
    "m = 10      # no. variance components\n",
    "p = 2;      # no. covariates\n",
    "Random.seed!(1234);"
   ]
  },
  {
   "cell_type": "markdown",
   "metadata": {},
   "source": [
    "The following functions will be used to generate the random data to benchmark our model. We want to simulate a Design matrix, the matrix of regression coefficients, and a tuple for each covariance matrix of the variance components."
   ]
  },
  {
   "cell_type": "code",
   "execution_count": null,
   "metadata": {},
   "outputs": [],
   "source": [
    "function generateSPDmatrix(n)\n",
    "    A = rand(n)\n",
    "    m = 0.5 * (A * A')\n",
    "    PDmat = m + (n * Diagonal(ones(n)))\n",
    "end\n",
    "\n",
    "\n",
    "function generateRandomVCM(n::Int64, p::Int64, d::Int64, m::Int64)\n",
    "    # n-by-p design matrix\n",
    "    X = randn(n, p)\n",
    "\n",
    "    # p-by-d mean component regression coefficient for each trait\n",
    "    B = hcat(ones(p, 1), rand(p))  \n",
    "\n",
    "    V = ntuple(x -> zeros(n, n), m) \n",
    "    for i = 1:m-1\n",
    "      copy!(V[i], generateSPDmatrix(n))\n",
    "    end\n",
    "    copy!(V[end], Diagonal(ones(n))) # last covarianec matrix is identity\n",
    "\n",
    "    # a tuple of m d-by-d variance component parameters\n",
    "    Σ = ntuple(x -> zeros(d, d), m) \n",
    "    for i in 1:m\n",
    "      copy!(Σ[i], generateSPDmatrix(d))\n",
    "    end\n",
    "\n",
    "    return(X, B, Σ, V)\n",
    "    end;\n"
   ]
  },
  {
   "cell_type": "code",
   "execution_count": null,
   "metadata": {},
   "outputs": [],
   "source": [
    "X_sim, B_sim, Σ_sim, V_sim = generateRandomVCM(n, p, d, m);\n",
    "VCM_model = VCMTrait(X_sim, B_sim, Σ_sim, V_sim)"
   ]
  },
  {
   "cell_type": "code",
   "execution_count": null,
   "metadata": {},
   "outputs": [],
   "source": [
    "Random_VCM_Trait = DataFrame(simulate(VCM_model))\n",
    "rename!(Random_VCM_Trait, [Symbol(\"Trait$i\") for i in 1:d])"
   ]
  },
  {
   "cell_type": "markdown",
   "metadata": {},
   "source": [
    "In our VarianceComponent type, we store the cholesky decomposition of each $\\Sigma_i$ and $V_i$, computed outside of simulation within the vc_vector of VarianceComponent types. This is important since the more often than not, users have to run the simulation many times for their desired goal."
   ]
  },
  {
   "cell_type": "markdown",
   "metadata": {},
   "source": [
    "# Compare simulation for m = 1 variance component\n",
    "For only one variance component we are roughly four 2x more memory efficient and 3.7x faster at simulating this bivariate trait"
   ]
  },
  {
   "cell_type": "code",
   "execution_count": null,
   "metadata": {},
   "outputs": [],
   "source": [
    "VCM_model = VCMTrait(X_sim*B_sim, [VarianceComponent(Σ_sim[1], V_sim[1])])\n",
    "@benchmark simulate(VCM_model)"
   ]
  },
  {
   "cell_type": "code",
   "execution_count": null,
   "metadata": {},
   "outputs": [],
   "source": [
    "function MN_J(X, B, Σ, V; n_reps = 1)\n",
    "    n, p = size(X*B)\n",
    "    sim = [zeros(n, p) for i in 1:n_reps]\n",
    "    for i in 1:n_reps\n",
    "        sim[i] = rand(MatrixNormal(X*B, V, Σ))\n",
    "    end\n",
    "    return(sim)\n",
    "end\n",
    "\n",
    "@benchmark MN_J($X_sim, $B_sim, $Σ_sim[1], $V_sim[1])"
   ]
  },
  {
   "cell_type": "markdown",
   "metadata": {},
   "source": [
    "# Compare simulation for m = 10 variance components\n",
    "still about 2x memory efficient but now 3.2x faster compared to the Distributions package"
   ]
  },
  {
   "cell_type": "code",
   "execution_count": null,
   "metadata": {},
   "outputs": [],
   "source": [
    "vc_vector = [VarianceComponent(Σ_sim[i], V_sim[i]) for i in eachindex(V_sim)]\n",
    "VCM_model_m = VCMTrait(X_sim*B_sim, vc_vector);\n",
    "@benchmark simulate(VCM_model_m)"
   ]
  },
  {
   "cell_type": "code",
   "execution_count": null,
   "metadata": {},
   "outputs": [],
   "source": [
    "function MN_Jm(X, B, Σ, V; n_reps = 1)\n",
    "    n, p = size(X*B)\n",
    "    m = length(V)\n",
    "    sim = [zeros(n, p) for i in 1:n_reps]\n",
    "    for i in 1:n_reps\n",
    "        for j in 1:m\n",
    "            dist = MatrixNormal(X*B, V[j], Σ[j])\n",
    "            sim[i] += rand(dist)\n",
    "        end\n",
    "    end\n",
    "    return(sim)\n",
    "end\n",
    "\n",
    "@benchmark vecs = MN_Jm($X_sim, $B_sim, $Σ_sim, $V_sim)"
   ]
  },
  {
   "cell_type": "markdown",
   "metadata": {},
   "source": [
    "From our benchmarking below, we show that when we use the simulation package to simulate traits n_reps times, using the VariaceComponent type is much faster and memory efficient than calling the available julia MatrixNormal distribution m times."
   ]
  }
 ],
 "metadata": {
  "kernelspec": {
   "display_name": "Julia 1.2.0",
   "language": "julia",
   "name": "julia-1.2"
  },
  "language_info": {
   "file_extension": ".jl",
   "mimetype": "application/julia",
   "name": "julia",
   "version": "1.2.0"
  },
  "toc": {
   "base_numbering": 1,
   "nav_menu": {},
   "number_sections": true,
   "sideBar": true,
   "skip_h1_title": false,
   "title_cell": "Table of Contents",
   "title_sidebar": "Contents",
   "toc_cell": false,
   "toc_position": {},
   "toc_section_display": true,
   "toc_window_display": false
  }
 },
 "nbformat": 4,
 "nbformat_minor": 2
}
