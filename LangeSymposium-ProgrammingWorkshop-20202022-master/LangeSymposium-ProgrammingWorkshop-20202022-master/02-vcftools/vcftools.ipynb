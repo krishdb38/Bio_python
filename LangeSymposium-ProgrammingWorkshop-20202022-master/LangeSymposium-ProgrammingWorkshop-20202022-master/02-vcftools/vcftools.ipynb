{
 "cells": [
  {
   "cell_type": "markdown",
   "metadata": {},
   "source": [
    "# VCFTools.jl\n",
    "\n",
    "VCFTools.jl provides some Julia utilities for handling the VCF files."
   ]
  },
  {
   "cell_type": "code",
   "execution_count": null,
   "metadata": {},
   "outputs": [],
   "source": [
    "# dispay Julia version info\n",
    "versioninfo()"
   ]
  },
  {
   "cell_type": "markdown",
   "metadata": {},
   "source": [
    "## Example VCF file\n",
    "\n",
    "Current folder contains an example VCF file for demonstation."
   ]
  },
  {
   "cell_type": "code",
   "execution_count": null,
   "metadata": {
    "collapsed": false
   },
   "outputs": [],
   "source": [
    ";ls -l test.vcf.gz"
   ]
  },
  {
   "cell_type": "markdown",
   "metadata": {},
   "source": [
    "Load the VCF file and display the first 35 lines"
   ]
  },
  {
   "cell_type": "code",
   "execution_count": null,
   "metadata": {
    "collapsed": false
   },
   "outputs": [],
   "source": [
    "using VCFTools\n",
    "\n",
    "fh = openvcf(\"test.vcf.gz\", \"r\")\n",
    "for l in 1:35\n",
    "    println(readline(fh))\n",
    "end\n",
    "close(fh)"
   ]
  },
  {
   "cell_type": "markdown",
   "metadata": {},
   "source": [
    "As in typical VCF files, it has a bunch of meta-information lines, one header line, and then one line for each each marker. In this VCF, genetic data has fields GT (genotype), DS (dosage), and GL (genotype likelihood)."
   ]
  },
  {
   "cell_type": "markdown",
   "metadata": {},
   "source": [
    "## Summary statistics\n",
    "\n",
    "* Number of records (markers) in a VCF file."
   ]
  },
  {
   "cell_type": "code",
   "execution_count": null,
   "metadata": {
    "collapsed": false
   },
   "outputs": [],
   "source": [
    "records = nrecords(\"test.vcf.gz\")"
   ]
  },
  {
   "cell_type": "markdown",
   "metadata": {},
   "source": [
    "* Number of samples (individuals) in a VCF file."
   ]
  },
  {
   "cell_type": "code",
   "execution_count": null,
   "metadata": {
    "collapsed": false
   },
   "outputs": [],
   "source": [
    "samples = nsamples(\"test.vcf.gz\")"
   ]
  },
  {
   "cell_type": "markdown",
   "metadata": {},
   "source": [
    "* `gtstats` function calculates genotype statistics for each marker with GT field."
   ]
  },
  {
   "cell_type": "code",
   "execution_count": null,
   "metadata": {
    "collapsed": false
   },
   "outputs": [],
   "source": [
    "@time records, samples, lines, missings_by_sample, missings_by_record, \n",
    "    maf_by_record, minorallele_by_record = gtstats(\"test.vcf.gz\");"
   ]
  },
  {
   "cell_type": "code",
   "execution_count": null,
   "metadata": {
    "collapsed": false
   },
   "outputs": [],
   "source": [
    "# number of markers\n",
    "records"
   ]
  },
  {
   "cell_type": "code",
   "execution_count": null,
   "metadata": {
    "collapsed": false
   },
   "outputs": [],
   "source": [
    "# number of samples (individuals)\n",
    "samples"
   ]
  },
  {
   "cell_type": "code",
   "execution_count": null,
   "metadata": {
    "collapsed": false
   },
   "outputs": [],
   "source": [
    "# number of markers with GT field\n",
    "lines"
   ]
  },
  {
   "cell_type": "code",
   "execution_count": null,
   "metadata": {
    "collapsed": false
   },
   "outputs": [],
   "source": [
    "# number of missing genotypes in each sample (individual)\n",
    "missings_by_sample'"
   ]
  },
  {
   "cell_type": "code",
   "execution_count": null,
   "metadata": {
    "collapsed": false
   },
   "outputs": [],
   "source": [
    "# number of missing genotypes in each marker with GT field\n",
    "missings_by_record'"
   ]
  },
  {
   "cell_type": "code",
   "execution_count": null,
   "metadata": {
    "collapsed": false
   },
   "outputs": [],
   "source": [
    "# minor allele frequency of each marker with GT field\n",
    "maf_by_record'"
   ]
  },
  {
   "cell_type": "code",
   "execution_count": null,
   "metadata": {
    "collapsed": false
   },
   "outputs": [],
   "source": [
    "# minor allele of each marker (with GT field): true (REF) or false (ALT)\n",
    "minorallele_by_record'"
   ]
  },
  {
   "cell_type": "markdown",
   "metadata": {},
   "source": [
    "The optional second argument of `gtstats` function specifies an output file or IO stream for genotype statistics per marker. Each line has fields:  \n",
    "- 1-8:  VCF fixed fields (CHROM, POS, ID, REF, ALT, QUAL, FILT, INFO)\n",
    "-   9:  Missing genotype count\n",
    "-  10:  Missing genotype frequency\n",
    "-  11:  ALT allele count\n",
    "-  12:  ALT allele frequency\n",
    "-  13:  Minor allele count             (REF allele vs ALT alleles)\n",
    "-  14:  Minor allele frequency         (REF allele vs ALT alleles)\n",
    "-  15:  HWE P-value                    (REF allele vs ALT alleles)"
   ]
  },
  {
   "cell_type": "code",
   "execution_count": null,
   "metadata": {
    "collapsed": false
   },
   "outputs": [],
   "source": [
    "# write genotype statistics in file gtstats.out.txt\n",
    "@time gtstats(\"test.vcf.gz\", \"gtstats.out.txt\");"
   ]
  },
  {
   "cell_type": "markdown",
   "metadata": {},
   "source": [
    "The output file can be read as a `DataFrame` for further analysis."
   ]
  },
  {
   "cell_type": "code",
   "execution_count": null,
   "metadata": {
    "collapsed": false
   },
   "outputs": [],
   "source": [
    "using CSV\n",
    "\n",
    "gstat = CSV.read(\"gtstats.out.txt\"; \n",
    "    header = [:chr, :pos, :id, :ref, :alt, :qual, :filt, :info, :missings, :missfreq, :nalt, :altfreq, :nminor, :maf, :hwe],\n",
    "    delim = '\\t',\n",
    ")"
   ]
  },
  {
   "cell_type": "markdown",
   "metadata": {},
   "source": [
    "## Filter\n",
    "\n",
    "Sometimes we wish to subset entire VCF files, such as filtering out certain samples or records (SNPs). This is achieved via the filter function:"
   ]
  },
  {
   "cell_type": "code",
   "execution_count": null,
   "metadata": {},
   "outputs": [],
   "source": [
    "# filtering by specifying indices to keep\n",
    "record_mask = 1:records       # keep all records (SNPs)\n",
    "sample_mask = 2:(samples - 1) # keep all but first and last sample (individual)\n",
    "@time VCFTools.filter(\"test.vcf.gz\", record_mask, sample_mask, \n",
    "    des=\"filtered.test.vcf.gz\")"
   ]
  },
  {
   "cell_type": "markdown",
   "metadata": {},
   "source": [
    "One can also supply bitvectors as masks:"
   ]
  },
  {
   "cell_type": "code",
   "execution_count": null,
   "metadata": {},
   "outputs": [],
   "source": [
    "record_mask    = trues(records)\n",
    "sample_mask    = trues(samples)\n",
    "record_mask[1] = record_mask[end] = false\n",
    "@time VCFTools.filter(\"test.vcf.gz\", record_mask, sample_mask, \n",
    "    des=\"filtered.test.vcf.gz\")"
   ]
  },
  {
   "cell_type": "markdown",
   "metadata": {},
   "source": [
    "## Convert\n",
    "\n",
    "Convert GT data in VCF file `test.vcf.gz` to a `Matrix{Union{Missing, Int8}}`. Here `as_minorallele = false` indicates that `VCFTools.jl` will copy the `0`s and `1`s of the file directly into `A`, without checking if ALT or REF is the minor allele. "
   ]
  },
  {
   "cell_type": "code",
   "execution_count": null,
   "metadata": {},
   "outputs": [],
   "source": [
    "@time A = convert_gt(Int8, \"test.vcf.gz\"; as_minorallele = false, \n",
    "    model = :additive, impute = false, center = false, scale = false)"
   ]
  },
  {
   "cell_type": "markdown",
   "metadata": {},
   "source": [
    "Convert GT data in VCF file `test.vcf.gz` to a numeric array. This checks which of `ALT/REF` is the minor allele, imputes the missing genotypes according to allele frequency, centers the dosages around 2MAF, and scales the dosages by `sqrt(2MAF*(1-MAF))`."
   ]
  },
  {
   "cell_type": "code",
   "execution_count": null,
   "metadata": {},
   "outputs": [],
   "source": [
    "@time A = convert_gt(Float64, \"test.vcf.gz\"; as_minorallele = true, \n",
    "    model = :additive, impute = true, center = true, scale = true)"
   ]
  },
  {
   "cell_type": "markdown",
   "metadata": {},
   "source": [
    "## Extract data marker-by-maker or window-by-window\n",
    "\n",
    "Large VCF files easily generate numeric arrays that cannot fit into computer memory. Many analyses only need to loop over markers or sets of markers. Previous functions for importing genotypes/haplotypes/dosages have equivalent functions to achieve this:\n",
    "\n",
    "+ `copy_gt!` loops over genotypes\n",
    "+ `copy_ht!` loops over haplotypes\n",
    "+ `copy_ds!` loops over dosages\n",
    "\n",
    "For example, to loop over all genotype markers in the VCF file `test.vcf.gz`:"
   ]
  },
  {
   "cell_type": "code",
   "execution_count": null,
   "metadata": {},
   "outputs": [],
   "source": [
    "using GeneticVariation\n",
    "\n",
    "# initialize VCF reader\n",
    "people, snps = nsamples(\"test.vcf.gz\"), nrecords(\"test.vcf.gz\")\n",
    "reader = VCF.Reader(openvcf(\"test.vcf.gz\"))\n",
    "# pre-allocate vector for marker data\n",
    "g = zeros(Union{Missing, Float64}, people)\n",
    "for j = 1:snps\n",
    "    copy_gt!(g, reader; model = :additive, impute = true, center = true, scale = true)\n",
    "    # do statistical anlaysis\n",
    "end\n",
    "close(reader)"
   ]
  },
  {
   "cell_type": "markdown",
   "metadata": {},
   "source": [
    "To loop over markers in windows of size 25:"
   ]
  },
  {
   "cell_type": "code",
   "execution_count": null,
   "metadata": {},
   "outputs": [],
   "source": [
    "# initialize VCF reader\n",
    "people, snps = nsamples(\"test.vcf.gz\"), nrecords(\"test.vcf.gz\")\n",
    "reader = VCF.Reader(openvcf(\"test.vcf.gz\"))\n",
    "# pre-allocate matrix for marker data\n",
    "windowsize = 25\n",
    "g = zeros(Union{Missing, Float64}, people, windowsize)\n",
    "nwindows = ceil(Int, snps / windowsize)\n",
    "for j = 1:nwindows\n",
    "    copy_gt!(g, reader; model = :additive, \n",
    "        impute = true, center = true, scale = true)\n",
    "    # do statistical anlaysis\n",
    "end\n",
    "close(reader)"
   ]
  }
 ],
 "metadata": {
  "@webio": {
   "lastCommId": null,
   "lastKernelId": null
  },
  "kernelspec": {
   "display_name": "Julia 1.2.0",
   "language": "julia",
   "name": "julia-1.2"
  },
  "language_info": {
   "file_extension": ".jl",
   "mimetype": "application/julia",
   "name": "julia",
   "version": "1.2.0"
  },
  "toc": {
   "colors": {
    "hover_highlight": "#DAA520",
    "running_highlight": "#FF0000",
    "selected_highlight": "#FFD700"
   },
   "moveMenuLeft": true,
   "nav_menu": {
    "height": "84px",
    "width": "252px"
   },
   "navigate_menu": true,
   "number_sections": false,
   "sideBar": true,
   "threshold": 4,
   "toc_cell": false,
   "toc_section_display": "block",
   "toc_window_display": false,
   "widenNotebook": false
  }
 },
 "nbformat": 4,
 "nbformat_minor": 2
}
