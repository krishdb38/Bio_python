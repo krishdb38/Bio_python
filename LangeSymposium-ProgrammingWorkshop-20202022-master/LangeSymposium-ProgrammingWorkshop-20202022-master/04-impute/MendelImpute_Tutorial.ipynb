{
 "cells": [
  {
   "cell_type": "markdown",
   "metadata": {},
   "source": [
    "# Tutorial on genotype imputation\n",
    "\n",
    "This notebook showcase a few examples of the software [MendelImpute.jl](https://github.com/biona001/MendelImpute) (a work in progress).\n",
    "\n",
    "## Package installation"
   ]
  },
  {
   "cell_type": "code",
   "execution_count": null,
   "metadata": {},
   "outputs": [],
   "source": [
    "# machine information for reproducibility\n",
    "versioninfo()"
   ]
  },
  {
   "cell_type": "code",
   "execution_count": null,
   "metadata": {},
   "outputs": [],
   "source": [
    "#load necessary packages, install them if you don't have it\n",
    "using MendelImpute\n",
    "using VCFTools\n",
    "using GeneticVariation\n",
    "using Random\n",
    "using SparseArrays\n",
    "using Plots"
   ]
  },
  {
   "cell_type": "code",
   "execution_count": null,
   "metadata": {},
   "outputs": [],
   "source": [
    "]add https://github.com/biona001/MendelImpute"
   ]
  },
  {
   "cell_type": "code",
   "execution_count": null,
   "metadata": {},
   "outputs": [],
   "source": [
    "]add https://github.com/OpenMendel/VCFTools.jl"
   ]
  },
  {
   "cell_type": "markdown",
   "metadata": {},
   "source": [
    "# Simulate sample data\n",
    "\n",
    "We simulate 1000 reference haplotypes each with 3000 SNPs. Then we use this haplotype matrix to construct a genotype matrix matrix with 100 samples and 3000 SNPs. Each person's genotype are separated into 1-5 chunks, where 2 haplotypes are chosen with replacement to fill the chunk. The genotype matrix are randomly masked to generate the missing values. \n",
    "\n",
    "The result is stored in 3 files:\n",
    "\n",
    "+ **`haplo_ref.vcf.gz`**: haplotype reference files\n",
    "+ **`target.vcf.gz`**: complete genotype information\n",
    "+ **`target_masked.vcf.gz`**: incomplete genotype information (10% are missing)"
   ]
  },
  {
   "cell_type": "code",
   "execution_count": null,
   "metadata": {},
   "outputs": [],
   "source": [
    "# 1000 haplotypes each with 3000 SNPs, 100 imputation targets \n",
    "snps   = 3000\n",
    "haps   = 1000\n",
    "people = 100\n",
    "\n",
    "# simulate full haplotype and genotype matrix\n",
    "@time H = simulate_markov_haplotypes(snps, haps)\n",
    "@time X = simulate_genotypes(H, people)\n",
    "\n",
    "# randomly mask entries\n",
    "Random.seed!(2020)\n",
    "missingprop = 0.01\n",
    "@time Xm = ifelse.(rand(snps, people) .< missingprop, missing, X)\n",
    "\n",
    "# write 3 files to disk\n",
    "@time make_refvcf_file(H, vcffilename=\"./data/haplo_ref.vcf.gz\")\n",
    "@time make_tgtvcf_file(X, vcffilename=\"./data/target.vcf.gz\")\n",
    "@time make_tgtvcf_file(Xm, vcffilename=\"./data/target_masked.vcf.gz\")"
   ]
  },
  {
   "cell_type": "markdown",
   "metadata": {},
   "source": [
    "# Example: Import, manipulate, and visual data\n",
    "\n",
    "OpenMendel's `VCFTools.jl` allow us to import VCF files directly as numeric matrix:"
   ]
  },
  {
   "cell_type": "code",
   "execution_count": null,
   "metadata": {},
   "outputs": [],
   "source": [
    "# read target data that needs imputation\n",
    "Xm = convert_gt(Float64, \"./data/target_masked.vcf.gz\")"
   ]
  },
  {
   "cell_type": "markdown",
   "metadata": {},
   "source": [
    "### Important notes: \n",
    "+ Observed data is 0, 1, or 2, so target matrix **does not** have to be pre-phased!\n",
    "+ **Dosage** data is supported natively!\n",
    "+ Typical matrix operations are permitted in the usual way!"
   ]
  },
  {
   "cell_type": "code",
   "execution_count": null,
   "metadata": {},
   "outputs": [],
   "source": [
    "Xm[1:10, 1:10] * rand(10)"
   ]
  },
  {
   "cell_type": "markdown",
   "metadata": {},
   "source": [
    "Visualize missingness (each dot is a missing value):"
   ]
  },
  {
   "cell_type": "code",
   "execution_count": null,
   "metadata": {},
   "outputs": [],
   "source": [
    "Xm_missing_idx = randn(size(Xm)) .* sparse(ismissing.(Xm))\n",
    "spy(Xm_missing_idx, size=(3000,200), \n",
    "    title=\"Distribution of Missing Data (each dot is a missing, colors don't mean anything)\", \n",
    "    title_location=:left, markersize = 20)"
   ]
  },
  {
   "cell_type": "markdown",
   "metadata": {},
   "source": [
    "# Let's impute this matrix!\n",
    "\n",
    "Run the following command:"
   ]
  },
  {
   "cell_type": "code",
   "execution_count": null,
   "metadata": {},
   "outputs": [],
   "source": [
    "# impute\n",
    "tgtfile = \"./data/target_masked.vcf.gz\"\n",
    "reffile = \"./data/haplo_ref.vcf.gz\"\n",
    "outfile = \"./data/imputed_target.vcf.gz\"\n",
    "width   = 400\n",
    "@time phase(tgtfile, reffile, impute=true, outfile = outfile, width = width);"
   ]
  },
  {
   "cell_type": "markdown",
   "metadata": {},
   "source": [
    "The result can be outputed as uncompressed `.vcf` or compressed `.vcf.gz` formats. \n",
    "\n",
    "## Import imputed result"
   ]
  },
  {
   "cell_type": "code",
   "execution_count": null,
   "metadata": {},
   "outputs": [],
   "source": [
    "X_mendel = convert_gt(Float64, outfile)"
   ]
  },
  {
   "cell_type": "markdown",
   "metadata": {},
   "source": [
    "## Compare with true data"
   ]
  },
  {
   "cell_type": "code",
   "execution_count": null,
   "metadata": {},
   "outputs": [],
   "source": [
    "# import complete genotype info\n",
    "X_true = convert_gt(Float64, \"./data/target.vcf.gz\")\n",
    "error_rate = sum(X_true .!= X_mendel) / snps / people"
   ]
  },
  {
   "cell_type": "markdown",
   "metadata": {},
   "source": [
    "## Visualize where did our imputation went wrong"
   ]
  },
  {
   "cell_type": "code",
   "execution_count": null,
   "metadata": {},
   "outputs": [],
   "source": [
    "disagreeing_entries = randn(size(X_true)) .* sparse(X_true .!= X_mendel)\n",
    "Plots.spy(disagreeing_entries, size=(3000,200), title=\"Visualize imputation error (dots = imputed incorrectly)\", title_location=:left, markersize = 20)"
   ]
  },
  {
   "cell_type": "markdown",
   "metadata": {},
   "source": [
    "# Conclusion & package feature\n",
    "\n",
    "+ Our pipeline supports importing, manipulating, and visualizing raw genotype data\n",
    "+ Genotype data (imputation target) does **not** have be be pre-phased. \n",
    "+ Genotype data (imputation target) can be dosage data!"
   ]
  }
 ],
 "metadata": {
  "kernelspec": {
   "display_name": "Julia 1.2.0",
   "language": "julia",
   "name": "julia-1.2"
  },
  "language_info": {
   "file_extension": ".jl",
   "mimetype": "application/julia",
   "name": "julia",
   "version": "1.2.0"
  },
  "toc": {
   "base_numbering": 1,
   "nav_menu": {},
   "number_sections": true,
   "sideBar": true,
   "skip_h1_title": false,
   "title_cell": "Table of Contents",
   "title_sidebar": "Contents",
   "toc_cell": false,
   "toc_position": {},
   "toc_section_display": true,
   "toc_window_display": false
  }
 },
 "nbformat": 4,
 "nbformat_minor": 2
}
