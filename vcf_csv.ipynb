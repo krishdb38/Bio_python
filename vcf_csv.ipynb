{
 "cells": [
  {
   "cell_type": "code",
   "execution_count": 1,
   "metadata": {},
   "outputs": [],
   "source": [
    "import pandas as pd\n",
    "import numpy as np\n",
    "import os\n",
    "import tqdm"
   ]
  },
  {
   "cell_type": "markdown",
   "metadata": {},
   "source": [
    "## For loop to Convert VCF to CSV"
   ]
  },
  {
   "cell_type": "code",
   "execution_count": 2,
   "metadata": {},
   "outputs": [],
   "source": [
    "#Since Computer Take Long Time so we divide data in 10 10 \n",
    "path = \"/BiO/Preterm/raw_data/\"\n",
    "files = os.listdir(path)\n",
    "files1 = files[:10]   #First 10 files\n",
    "files2 = files[10:20]  #Last 10 Files"
   ]
  },
  {
   "cell_type": "code",
   "execution_count": 3,
   "metadata": {},
   "outputs": [
    {
     "name": "stdout",
     "output_type": "stream",
     "text": [
      "['873', '875', '880', '910', '1009', '1134', '1293', '1389', '1428', '1477']\n"
     ]
    },
    {
     "data": {
      "text/plain": [
       "['1481', '1489', '1557', '1584', '1591', '989', '1093', '1119', '1282', '1316']"
      ]
     },
     "execution_count": 3,
     "metadata": {},
     "output_type": "execute_result"
    }
   ],
   "source": [
    "print(files1)\n",
    "files2"
   ]
  },
  {
   "cell_type": "code",
   "execution_count": 5,
   "metadata": {},
   "outputs": [
    {
     "name": "stderr",
     "output_type": "stream",
     "text": [
      "100%|██████████| 10/10 [00:00<00:00, 1617.55it/s]"
     ]
    },
    {
     "name": "stdout",
     "output_type": "stream",
     "text": [
      "\n",
      "File already Exist 1481.csv\n",
      "Remove this Manually if you want do Again...\n",
      "\n",
      "\n",
      "File already Exist 1489.csv\n",
      "Remove this Manually if you want do Again...\n",
      "\n",
      "\n",
      "File already Exist 1557.csv\n",
      "Remove this Manually if you want do Again...\n",
      "\n",
      "\n",
      "File already Exist 1584.csv\n",
      "Remove this Manually if you want do Again...\n",
      "\n",
      "\n",
      "File already Exist 1591.csv\n",
      "Remove this Manually if you want do Again...\n",
      "\n",
      "\n",
      "File already Exist 989.csv\n",
      "Remove this Manually if you want do Again...\n",
      "\n",
      "\n",
      "File already Exist 1093.csv\n",
      "Remove this Manually if you want do Again...\n",
      "\n",
      "\n",
      "File already Exist 1119.csv\n",
      "Remove this Manually if you want do Again...\n",
      "\n",
      "\n",
      "File already Exist 1282.csv\n",
      "Remove this Manually if you want do Again...\n",
      "\n",
      "\n",
      "File already Exist 1316.csv\n",
      "Remove this Manually if you want do Again...\n",
      "\n"
     ]
    },
    {
     "name": "stderr",
     "output_type": "stream",
     "text": [
      "\n"
     ]
    }
   ],
   "source": [
    "import tqdm\n",
    "path = \"/BiO/Preterm/raw_data/\"\n",
    "col = ['CHROM', 'POS', 'REF', 'ALT', 'FILTER', 'SNP']\n",
    "\n",
    "for file in tqdm.tqdm(files2): #Change Files1 and 2\n",
    "    file_list =  os.listdir(path+file+ \"/\")\n",
    "    \n",
    "    if (file+\".csv\") in file_list:\n",
    "        print(\"\\nFile already Exist\",file+\".csv\")\n",
    "        print(\"Remove this Manually if you want do Again...\\n\")\n",
    "        pass\n",
    "        #We did this becasuse system took around 30 Min for 1 File \n",
    "    elif (file+\".vcf\") in file_list:\n",
    "        print(file +\".vcf\", end=\"\\t\")\n",
    "        df = pd.read_csv(path+file+\"/\"+file+\".vcf\", comment=\"#\",sep=\"\\t\",header=None,low_memory = False)\n",
    "        df = df.iloc[:,[0,1,3,4,6,9]]\n",
    "        df.columns = col\n",
    "        df = df[df[\"FILTER\"]==\"PASS\"]\n",
    "        df = df.drop([\"FILTER\"],axis=1)\n",
    "        df[\"SNP\"]= df[\"SNP\"].apply(lambda x: x[:3] if(x[1]==\"/\") else \".\")\n",
    "        df.to_csv(path+file+\"/\"+file+\".csv\",index=False)\n",
    "        print(file+\".csv Done\")\n",
    "    else:\n",
    "        print(\"VCF File Not Found is directory\")"
   ]
  },
  {
   "cell_type": "code",
   "execution_count": 7,
   "metadata": {},
   "outputs": [],
   "source": [
    "#df = pd.read_csv(\"/BiO/Preterm/raw_data/1009/1009.vcf\",comment=\"#\",sep=\"\\t\",low_memory = False,header=None)"
   ]
  },
  {
   "cell_type": "code",
   "execution_count": 34,
   "metadata": {},
   "outputs": [
    {
     "data": {
      "text/html": [
       "<div>\n",
       "<style scoped>\n",
       "    .dataframe tbody tr th:only-of-type {\n",
       "        vertical-align: middle;\n",
       "    }\n",
       "\n",
       "    .dataframe tbody tr th {\n",
       "        vertical-align: top;\n",
       "    }\n",
       "\n",
       "    .dataframe thead th {\n",
       "        text-align: right;\n",
       "    }\n",
       "</style>\n",
       "<table border=\"1\" class=\"dataframe\">\n",
       "  <thead>\n",
       "    <tr style=\"text-align: right;\">\n",
       "      <th></th>\n",
       "      <th>CHROM</th>\n",
       "      <th>POS</th>\n",
       "      <th>REF</th>\n",
       "      <th>ALT</th>\n",
       "      <th>SNP</th>\n",
       "    </tr>\n",
       "  </thead>\n",
       "  <tbody>\n",
       "    <tr>\n",
       "      <td>86</td>\n",
       "      <td>chr1</td>\n",
       "      <td>12626</td>\n",
       "      <td>C</td>\n",
       "      <td>.</td>\n",
       "      <td>0/0</td>\n",
       "    </tr>\n",
       "    <tr>\n",
       "      <td>88</td>\n",
       "      <td>chr1</td>\n",
       "      <td>12660</td>\n",
       "      <td>A</td>\n",
       "      <td>.</td>\n",
       "      <td>0/0</td>\n",
       "    </tr>\n",
       "  </tbody>\n",
       "</table>\n",
       "</div>"
      ],
      "text/plain": [
       "   CHROM    POS REF ALT  SNP\n",
       "86  chr1  12626   C   .  0/0\n",
       "88  chr1  12660   A   .  0/0"
      ]
     },
     "execution_count": 34,
     "metadata": {},
     "output_type": "execute_result"
    }
   ],
   "source": [
    "df.head(2)"
   ]
  },
  {
   "cell_type": "code",
   "execution_count": 35,
   "metadata": {},
   "outputs": [],
   "source": [
    "#test = df.head(10)"
   ]
  },
  {
   "cell_type": "code",
   "execution_count": 15,
   "metadata": {},
   "outputs": [],
   "source": [
    "#test =test.iloc[:,[0,1,3,4,6,9]]\n",
    "#df = df.iloc[:,[0,1,3,4,6,9]]"
   ]
  },
  {
   "cell_type": "code",
   "execution_count": null,
   "metadata": {},
   "outputs": [],
   "source": [
    "#df.iloc[:,[0,1,3]]"
   ]
  },
  {
   "cell_type": "code",
   "execution_count": 10,
   "metadata": {},
   "outputs": [],
   "source": [
    "#df.shape"
   ]
  },
  {
   "cell_type": "code",
   "execution_count": 36,
   "metadata": {},
   "outputs": [
    {
     "data": {
      "text/html": [
       "<div>\n",
       "<style scoped>\n",
       "    .dataframe tbody tr th:only-of-type {\n",
       "        vertical-align: middle;\n",
       "    }\n",
       "\n",
       "    .dataframe tbody tr th {\n",
       "        vertical-align: top;\n",
       "    }\n",
       "\n",
       "    .dataframe thead th {\n",
       "        text-align: right;\n",
       "    }\n",
       "</style>\n",
       "<table border=\"1\" class=\"dataframe\">\n",
       "  <thead>\n",
       "    <tr style=\"text-align: right;\">\n",
       "      <th></th>\n",
       "      <th>CHROM</th>\n",
       "      <th>POS</th>\n",
       "      <th>REF</th>\n",
       "      <th>ALT</th>\n",
       "      <th>SNP</th>\n",
       "    </tr>\n",
       "  </thead>\n",
       "  <tbody>\n",
       "    <tr>\n",
       "      <td>86</td>\n",
       "      <td>chr1</td>\n",
       "      <td>12626</td>\n",
       "      <td>C</td>\n",
       "      <td>.</td>\n",
       "      <td>0/0</td>\n",
       "    </tr>\n",
       "    <tr>\n",
       "      <td>88</td>\n",
       "      <td>chr1</td>\n",
       "      <td>12660</td>\n",
       "      <td>A</td>\n",
       "      <td>.</td>\n",
       "      <td>0/0</td>\n",
       "    </tr>\n",
       "  </tbody>\n",
       "</table>\n",
       "</div>"
      ],
      "text/plain": [
       "   CHROM    POS REF ALT  SNP\n",
       "86  chr1  12626   C   .  0/0\n",
       "88  chr1  12660   A   .  0/0"
      ]
     },
     "execution_count": 36,
     "metadata": {},
     "output_type": "execute_result"
    }
   ],
   "source": [
    "test.head(2)"
   ]
  },
  {
   "cell_type": "code",
   "execution_count": 37,
   "metadata": {},
   "outputs": [
    {
     "data": {
      "text/plain": [
       "Index(['CHROM', 'POS', 'REF', 'ALT', 'SNP'], dtype='object')"
      ]
     },
     "execution_count": 37,
     "metadata": {},
     "output_type": "execute_result"
    }
   ],
   "source": [
    "df.columns"
   ]
  },
  {
   "cell_type": "code",
   "execution_count": 9,
   "metadata": {},
   "outputs": [],
   "source": [
    "test = df.head(100)"
   ]
  },
  {
   "cell_type": "code",
   "execution_count": 9,
   "metadata": {
    "scrolled": true
   },
   "outputs": [],
   "source": [
    "col = ['CHROM', 'POS', 'REF', 'ALT', 'FILTER', 'SNP']"
   ]
  },
  {
   "cell_type": "code",
   "execution_count": 38,
   "metadata": {},
   "outputs": [],
   "source": [
    "#test.columns = col\n",
    "#test.head()\n",
    "#df.columns = col\n",
    "#df.head()"
   ]
  },
  {
   "cell_type": "code",
   "execution_count": 40,
   "metadata": {},
   "outputs": [
    {
     "data": {
      "text/html": [
       "<div>\n",
       "<style scoped>\n",
       "    .dataframe tbody tr th:only-of-type {\n",
       "        vertical-align: middle;\n",
       "    }\n",
       "\n",
       "    .dataframe tbody tr th {\n",
       "        vertical-align: top;\n",
       "    }\n",
       "\n",
       "    .dataframe thead th {\n",
       "        text-align: right;\n",
       "    }\n",
       "</style>\n",
       "<table border=\"1\" class=\"dataframe\">\n",
       "  <thead>\n",
       "    <tr style=\"text-align: right;\">\n",
       "      <th></th>\n",
       "      <th>CHROM</th>\n",
       "      <th>POS</th>\n",
       "      <th>REF</th>\n",
       "      <th>ALT</th>\n",
       "      <th>SNP</th>\n",
       "    </tr>\n",
       "  </thead>\n",
       "  <tbody>\n",
       "    <tr>\n",
       "      <td>86</td>\n",
       "      <td>chr1</td>\n",
       "      <td>12626</td>\n",
       "      <td>C</td>\n",
       "      <td>.</td>\n",
       "      <td>0/0</td>\n",
       "    </tr>\n",
       "    <tr>\n",
       "      <td>88</td>\n",
       "      <td>chr1</td>\n",
       "      <td>12660</td>\n",
       "      <td>A</td>\n",
       "      <td>.</td>\n",
       "      <td>0/0</td>\n",
       "    </tr>\n",
       "  </tbody>\n",
       "</table>\n",
       "</div>"
      ],
      "text/plain": [
       "   CHROM    POS REF ALT  SNP\n",
       "86  chr1  12626   C   .  0/0\n",
       "88  chr1  12660   A   .  0/0"
      ]
     },
     "execution_count": 40,
     "metadata": {},
     "output_type": "execute_result"
    }
   ],
   "source": [
    "df.head(2)"
   ]
  },
  {
   "cell_type": "code",
   "execution_count": 28,
   "metadata": {},
   "outputs": [
    {
     "data": {
      "text/plain": [
       "(243489072, 6)"
      ]
     },
     "execution_count": 28,
     "metadata": {},
     "output_type": "execute_result"
    }
   ],
   "source": [
    "#test[test[\"Filter\"]==\"PASS\"]\n",
    "df = df[df[\"FILTER\"]==\"PASS\"]\n",
    "df.shape"
   ]
  },
  {
   "cell_type": "code",
   "execution_count": 41,
   "metadata": {},
   "outputs": [
    {
     "data": {
      "text/html": [
       "<div>\n",
       "<style scoped>\n",
       "    .dataframe tbody tr th:only-of-type {\n",
       "        vertical-align: middle;\n",
       "    }\n",
       "\n",
       "    .dataframe tbody tr th {\n",
       "        vertical-align: top;\n",
       "    }\n",
       "\n",
       "    .dataframe thead th {\n",
       "        text-align: right;\n",
       "    }\n",
       "</style>\n",
       "<table border=\"1\" class=\"dataframe\">\n",
       "  <thead>\n",
       "    <tr style=\"text-align: right;\">\n",
       "      <th></th>\n",
       "      <th>CHROM</th>\n",
       "      <th>POS</th>\n",
       "      <th>REF</th>\n",
       "      <th>ALT</th>\n",
       "      <th>SNP</th>\n",
       "    </tr>\n",
       "  </thead>\n",
       "  <tbody>\n",
       "    <tr>\n",
       "      <td>86</td>\n",
       "      <td>chr1</td>\n",
       "      <td>12626</td>\n",
       "      <td>C</td>\n",
       "      <td>.</td>\n",
       "      <td>0/0</td>\n",
       "    </tr>\n",
       "    <tr>\n",
       "      <td>88</td>\n",
       "      <td>chr1</td>\n",
       "      <td>12660</td>\n",
       "      <td>A</td>\n",
       "      <td>.</td>\n",
       "      <td>0/0</td>\n",
       "    </tr>\n",
       "  </tbody>\n",
       "</table>\n",
       "</div>"
      ],
      "text/plain": [
       "   CHROM    POS REF ALT  SNP\n",
       "86  chr1  12626   C   .  0/0\n",
       "88  chr1  12660   A   .  0/0"
      ]
     },
     "execution_count": 41,
     "metadata": {},
     "output_type": "execute_result"
    }
   ],
   "source": [
    "df.head(2)"
   ]
  },
  {
   "cell_type": "code",
   "execution_count": 30,
   "metadata": {},
   "outputs": [
    {
     "name": "stderr",
     "output_type": "stream",
     "text": [
      "/home/albatross/anaconda3/lib/python3.7/site-packages/ipykernel_launcher.py:8: SettingWithCopyWarning: \n",
      "A value is trying to be set on a copy of a slice from a DataFrame.\n",
      "Try using .loc[row_indexer,col_indexer] = value instead\n",
      "\n",
      "See the caveats in the documentation: http://pandas.pydata.org/pandas-docs/stable/user_guide/indexing.html#returning-a-view-versus-a-copy\n",
      "  \n"
     ]
    },
    {
     "data": {
      "text/html": [
       "<div>\n",
       "<style scoped>\n",
       "    .dataframe tbody tr th:only-of-type {\n",
       "        vertical-align: middle;\n",
       "    }\n",
       "\n",
       "    .dataframe tbody tr th {\n",
       "        vertical-align: top;\n",
       "    }\n",
       "\n",
       "    .dataframe thead th {\n",
       "        text-align: right;\n",
       "    }\n",
       "</style>\n",
       "<table border=\"1\" class=\"dataframe\">\n",
       "  <thead>\n",
       "    <tr style=\"text-align: right;\">\n",
       "      <th></th>\n",
       "      <th>CHROM</th>\n",
       "      <th>POS</th>\n",
       "      <th>REF</th>\n",
       "      <th>ALT</th>\n",
       "      <th>FILTER</th>\n",
       "      <th>SNP</th>\n",
       "    </tr>\n",
       "  </thead>\n",
       "  <tbody>\n",
       "    <tr>\n",
       "      <td>86</td>\n",
       "      <td>chr1</td>\n",
       "      <td>12626</td>\n",
       "      <td>C</td>\n",
       "      <td>.</td>\n",
       "      <td>PASS</td>\n",
       "      <td>0/0</td>\n",
       "    </tr>\n",
       "    <tr>\n",
       "      <td>88</td>\n",
       "      <td>chr1</td>\n",
       "      <td>12660</td>\n",
       "      <td>A</td>\n",
       "      <td>.</td>\n",
       "      <td>PASS</td>\n",
       "      <td>0/0</td>\n",
       "    </tr>\n",
       "    <tr>\n",
       "      <td>90</td>\n",
       "      <td>chr1</td>\n",
       "      <td>12673</td>\n",
       "      <td>G</td>\n",
       "      <td>.</td>\n",
       "      <td>PASS</td>\n",
       "      <td>0/0</td>\n",
       "    </tr>\n",
       "    <tr>\n",
       "      <td>91</td>\n",
       "      <td>chr1</td>\n",
       "      <td>12697</td>\n",
       "      <td>T</td>\n",
       "      <td>.</td>\n",
       "      <td>PASS</td>\n",
       "      <td>0/0</td>\n",
       "    </tr>\n",
       "    <tr>\n",
       "      <td>92</td>\n",
       "      <td>chr1</td>\n",
       "      <td>12783</td>\n",
       "      <td>G</td>\n",
       "      <td>A</td>\n",
       "      <td>PASS</td>\n",
       "      <td>0/1</td>\n",
       "    </tr>\n",
       "  </tbody>\n",
       "</table>\n",
       "</div>"
      ],
      "text/plain": [
       "   CHROM    POS REF ALT FILTER  SNP\n",
       "86  chr1  12626   C   .   PASS  0/0\n",
       "88  chr1  12660   A   .   PASS  0/0\n",
       "90  chr1  12673   G   .   PASS  0/0\n",
       "91  chr1  12697   T   .   PASS  0/0\n",
       "92  chr1  12783   G   A   PASS  0/1"
      ]
     },
     "execution_count": 30,
     "metadata": {},
     "output_type": "execute_result"
    }
   ],
   "source": [
    "#test = df.head(50)\n",
    "\n",
    "#test[\"SNP\"] = test[\"SNP\"].apply(lambda x: x[:3])\n",
    "\n",
    "#test.head()\n",
    "#df[\"SnP\"]= df[\"SNP\"].apply(lambda x: x[:3] if(x[1]==\"/\") else \".\")\n",
    "\n",
    "df[\"SNP\"] = df[\"SNP\"].apply(lambda x: x[:3])\n",
    "df.head()\n",
    "#df.to_csv(\"/BiO/Preterm/raw_data/1009/1009.csv\",index=False)"
   ]
  },
  {
   "cell_type": "code",
   "execution_count": 33,
   "metadata": {},
   "outputs": [
    {
     "data": {
      "text/html": [
       "<div>\n",
       "<style scoped>\n",
       "    .dataframe tbody tr th:only-of-type {\n",
       "        vertical-align: middle;\n",
       "    }\n",
       "\n",
       "    .dataframe tbody tr th {\n",
       "        vertical-align: top;\n",
       "    }\n",
       "\n",
       "    .dataframe thead th {\n",
       "        text-align: right;\n",
       "    }\n",
       "</style>\n",
       "<table border=\"1\" class=\"dataframe\">\n",
       "  <thead>\n",
       "    <tr style=\"text-align: right;\">\n",
       "      <th></th>\n",
       "      <th>CHROM</th>\n",
       "      <th>POS</th>\n",
       "      <th>REF</th>\n",
       "      <th>ALT</th>\n",
       "      <th>SNP</th>\n",
       "    </tr>\n",
       "  </thead>\n",
       "  <tbody>\n",
       "    <tr>\n",
       "      <td>86</td>\n",
       "      <td>chr1</td>\n",
       "      <td>12626</td>\n",
       "      <td>C</td>\n",
       "      <td>.</td>\n",
       "      <td>0/0</td>\n",
       "    </tr>\n",
       "    <tr>\n",
       "      <td>88</td>\n",
       "      <td>chr1</td>\n",
       "      <td>12660</td>\n",
       "      <td>A</td>\n",
       "      <td>.</td>\n",
       "      <td>0/0</td>\n",
       "    </tr>\n",
       "    <tr>\n",
       "      <td>90</td>\n",
       "      <td>chr1</td>\n",
       "      <td>12673</td>\n",
       "      <td>G</td>\n",
       "      <td>.</td>\n",
       "      <td>0/0</td>\n",
       "    </tr>\n",
       "    <tr>\n",
       "      <td>91</td>\n",
       "      <td>chr1</td>\n",
       "      <td>12697</td>\n",
       "      <td>T</td>\n",
       "      <td>.</td>\n",
       "      <td>0/0</td>\n",
       "    </tr>\n",
       "    <tr>\n",
       "      <td>92</td>\n",
       "      <td>chr1</td>\n",
       "      <td>12783</td>\n",
       "      <td>G</td>\n",
       "      <td>A</td>\n",
       "      <td>0/1</td>\n",
       "    </tr>\n",
       "  </tbody>\n",
       "</table>\n",
       "</div>"
      ],
      "text/plain": [
       "   CHROM    POS REF ALT  SNP\n",
       "86  chr1  12626   C   .  0/0\n",
       "88  chr1  12660   A   .  0/0\n",
       "90  chr1  12673   G   .  0/0\n",
       "91  chr1  12697   T   .  0/0\n",
       "92  chr1  12783   G   A  0/1"
      ]
     },
     "execution_count": 33,
     "metadata": {},
     "output_type": "execute_result"
    }
   ],
   "source": [
    "test = df.head(500)\n",
    "test.head()\n",
    "test = test.drop([\"FILTER\"],axis=1)\n",
    "test.head()\n",
    "df = df.drop([\"FILTER\"],axis=1)\n",
    "df.head()"
   ]
  }
 ],
 "metadata": {
  "kernelspec": {
   "display_name": "Python 3",
   "language": "python",
   "name": "python3"
  },
  "language_info": {
   "codemirror_mode": {
    "name": "ipython",
    "version": 3
   },
   "file_extension": ".py",
   "mimetype": "text/x-python",
   "name": "python",
   "nbconvert_exporter": "python",
   "pygments_lexer": "ipython3",
   "version": "3.7.4"
  }
 },
 "nbformat": 4,
 "nbformat_minor": 2
}
