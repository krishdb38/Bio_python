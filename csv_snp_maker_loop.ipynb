{
 "cells": [
  {
   "cell_type": "code",
   "execution_count": 1,
   "metadata": {},
   "outputs": [],
   "source": [
    "import numpy as np\n",
    "import pandas as pd"
   ]
  },
  {
   "cell_type": "code",
   "execution_count": 2,
   "metadata": {},
   "outputs": [],
   "source": [
    "import os\n",
    "import sys"
   ]
  },
  {
   "cell_type": "markdown",
   "metadata": {},
   "source": [
    "## Make a Loop to Convert files in a loop"
   ]
  },
  {
   "cell_type": "code",
   "execution_count": 3,
   "metadata": {},
   "outputs": [],
   "source": [
    "path = \"/BiO/Preterm/raw_data/\"\n",
    "files = os.listdir(path)\n",
    "files1 = files[:10]   #First 10 files\n",
    "files2 = files[10:20]  #Last 10 Files"
   ]
  },
  {
   "cell_type": "code",
   "execution_count": 4,
   "metadata": {},
   "outputs": [
    {
     "name": "stdout",
     "output_type": "stream",
     "text": [
      "['873', '875', '880', '910', '1009', '1134', '1293', '1389', '1428', '1477']\n"
     ]
    },
    {
     "data": {
      "text/plain": [
       "['1481', '1489', '1557', '1584', '1591', '989', '1093', '1119', '1282', '1316']"
      ]
     },
     "execution_count": 4,
     "metadata": {},
     "output_type": "execute_result"
    }
   ],
   "source": [
    "print(files1)\n",
    "files2"
   ]
  },
  {
   "cell_type": "code",
   "execution_count": 6,
   "metadata": {},
   "outputs": [],
   "source": [
    "#Creating A Function to speed the Task\n",
    "def snp_new_col(df):\n",
    "    if df[\"SNP\"]==\"0/0\":\n",
    "        return (str(df[\"REF\"])+\"/\"+str(df[\"REF\"]))\n",
    "    elif df[\"SNP\"]==\"0/1\":\n",
    "        return (str(df[\"REF\"])+\"/\"+str(df[\"ALT\"]))\n",
    "    elif df[\"SNP\"]==\"1/1\":\n",
    "        return (str(df[\"ALT\"]+\"/\"+str(df[\"ALT\"])))\n",
    "    else:\n",
    "        return (str(df[\"REF\"]+\"/\"+str(df[\"ALT\"])))"
   ]
  },
  {
   "cell_type": "code",
   "execution_count": 7,
   "metadata": {},
   "outputs": [
    {
     "name": "stderr",
     "output_type": "stream",
     "text": [
      "\r",
      "  0%|          | 0/10 [00:00<?, ?it/s]"
     ]
    },
    {
     "name": "stdout",
     "output_type": "stream",
     "text": [
      "1584.csv\tDataFrame loaded\n",
      "File Loaded Now Creating a new Col SnP\n",
      "SNP 2 step Finished\n",
      "Writing csv File\n"
     ]
    },
    {
     "name": "stderr",
     "output_type": "stream",
     "text": [
      "\r",
      " 40%|████      | 4/10 [22:04<33:07, 331.20s/it]"
     ]
    },
    {
     "name": "stdout",
     "output_type": "stream",
     "text": [
      "1584 Completed\n",
      "1591.csv\tDataFrame loaded\n",
      "File Loaded Now Creating a new Col SnP\n",
      "SNP 2 step Finished\n",
      "Writing csv File\n"
     ]
    },
    {
     "name": "stderr",
     "output_type": "stream",
     "text": [
      "\r",
      " 50%|█████     | 5/10 [1:10:28<1:31:54, 1102.89s/it]"
     ]
    },
    {
     "name": "stdout",
     "output_type": "stream",
     "text": [
      "1591 Completed\n",
      "989.csv\tDataFrame loaded\n",
      "File Loaded Now Creating a new Col SnP\n",
      "SNP 2 step Finished\n",
      "Writing csv File\n"
     ]
    },
    {
     "name": "stderr",
     "output_type": "stream",
     "text": [
      "\r",
      " 60%|██████    | 6/10 [1:38:32<1:25:09, 1277.30s/it]"
     ]
    },
    {
     "name": "stdout",
     "output_type": "stream",
     "text": [
      "989 Completed\n",
      "1093.csv\tDataFrame loaded\n",
      "File Loaded Now Creating a new Col SnP\n",
      "SNP 2 step Finished\n",
      "Writing csv File\n"
     ]
    },
    {
     "name": "stderr",
     "output_type": "stream",
     "text": [
      "\r",
      " 70%|███████   | 7/10 [1:58:39<1:02:48, 1256.12s/it]"
     ]
    },
    {
     "name": "stdout",
     "output_type": "stream",
     "text": [
      "1093 Completed\n",
      "1119.csv\tDataFrame loaded\n",
      "File Loaded Now Creating a new Col SnP\n",
      "SNP 2 step Finished\n",
      "Writing csv File\n"
     ]
    },
    {
     "name": "stderr",
     "output_type": "stream",
     "text": [
      "\r",
      " 80%|████████  | 8/10 [2:25:59<45:42, 1371.45s/it]  "
     ]
    },
    {
     "name": "stdout",
     "output_type": "stream",
     "text": [
      "1119 Completed\n",
      "1282.csv\tDataFrame loaded\n",
      "File Loaded Now Creating a new Col SnP\n",
      "SNP 2 step Finished\n",
      "Writing csv File\n"
     ]
    },
    {
     "name": "stderr",
     "output_type": "stream",
     "text": [
      "\r",
      " 90%|█████████ | 9/10 [2:45:19<21:47, 1307.91s/it]"
     ]
    },
    {
     "name": "stdout",
     "output_type": "stream",
     "text": [
      "1282 Completed\n",
      "1316.csv\tDataFrame loaded\n",
      "File Loaded Now Creating a new Col SnP\n",
      "SNP 2 step Finished\n",
      "Writing csv File\n"
     ]
    },
    {
     "name": "stderr",
     "output_type": "stream",
     "text": [
      "100%|██████████| 10/10 [3:05:40<00:00, 1114.01s/it]"
     ]
    },
    {
     "name": "stdout",
     "output_type": "stream",
     "text": [
      "1316 Completed\n"
     ]
    },
    {
     "name": "stderr",
     "output_type": "stream",
     "text": [
      "\n"
     ]
    }
   ],
   "source": [
    "import tqdm\n",
    "path = \"/BiO/Preterm/raw_data/\"\n",
    "\n",
    "for file in tqdm.tqdm(files2): #Change Files1 and 2\n",
    "    file_list =  os.listdir(path+file+ \"/\")\n",
    "    \n",
    "    if (file+\"_snp.csv\") in file_list:\n",
    "        #print(\"\\nFile already Exist\",file+\"_snp.csv\")\n",
    "        #print(\"Remove this Manually if you want do Again...\\n\")\n",
    "        pass\n",
    "    elif file+\".csv\" in file_list:\n",
    "        print(file +\".csv\", end=\"\\t\")\n",
    "        df = pd.read_csv(path+file+\"/\"+file+\".csv\")\n",
    "        print(\"DataFrame loaded\")\n",
    "        df = df.drop(df[df.SNP==\".\"].index)\n",
    "        print(\"File Loaded Now Creating a new Col SnP\")\n",
    "        \n",
    "        #df[\"SnP\"] = df.apply (lambda x : snp_new_col(x),axis=1)\n",
    "        # I will try to reduce these 4 Lines in One line of Code\n",
    "        \n",
    "        df[\"SnP\"] = np.where(df.loc[:,\"SNP\"]==\"0/0\",(df.REF.astype(str)+\"/\"+df.REF.astype(str)),\".\")\n",
    "        df[\"SnP\"] = np.where(df.loc[:,\"SNP\"]==\"0/1\",(df.REF.astype(str)+\"/\"+df.ALT.astype(str)),df.SnP)\n",
    "        print(\"SNP 2 step Finished\")\n",
    "        df[\"SnP\"] = np.where(df.loc[:,\"SNP\"]==\"1/1\",(df.ALT.astype(str)+\"/\"+df.ALT.astype(str)),df.SnP)\n",
    "        df[\"SnP\"] = np.where(df.loc[:,\"SNP\"]==\"1/2\",(df.REF.astype(str)+\"/\"+df.ALT.astype(str)),df.SnP)\n",
    "        print(\"Writing csv File\")\n",
    "        df.to_csv(path+file+\"/\"+file+\"_snp.csv\",index=False)\n",
    "        #df.to_csv(\"/BiO/Preterm/raw_data/\"+first+\"/\"+first+\"_snp.csv\",index=False)\n",
    "        print(file ,\"Completed\")\n",
    "    else :\n",
    "        print(\"Csv File Not Found Please Convert tsv Files to CSV First\")\n",
    "        print(\"Thank You\")"
   ]
  },
  {
   "cell_type": "code",
   "execution_count": 13,
   "metadata": {},
   "outputs": [],
   "source": [
    "df = pd.read_csv(path+first+\"/\"+first+\".csv\")\n",
    "#df2 = pd.read_csv(path+second+\"/\"+second+\".csv\")"
   ]
  },
  {
   "cell_type": "code",
   "execution_count": 118,
   "metadata": {},
   "outputs": [
    {
     "data": {
      "text/html": [
       "<div>\n",
       "<style scoped>\n",
       "    .dataframe tbody tr th:only-of-type {\n",
       "        vertical-align: middle;\n",
       "    }\n",
       "\n",
       "    .dataframe tbody tr th {\n",
       "        vertical-align: top;\n",
       "    }\n",
       "\n",
       "    .dataframe thead th {\n",
       "        text-align: right;\n",
       "    }\n",
       "</style>\n",
       "<table border=\"1\" class=\"dataframe\">\n",
       "  <thead>\n",
       "    <tr style=\"text-align: right;\">\n",
       "      <th></th>\n",
       "      <th>CHROM</th>\n",
       "      <th>POS</th>\n",
       "      <th>REF</th>\n",
       "      <th>ALT</th>\n",
       "      <th>SNP</th>\n",
       "      <th>SnP</th>\n",
       "    </tr>\n",
       "  </thead>\n",
       "  <tbody>\n",
       "    <tr>\n",
       "      <td>0</td>\n",
       "      <td>chr1</td>\n",
       "      <td>12591</td>\n",
       "      <td>C</td>\n",
       "      <td>.</td>\n",
       "      <td>0/0</td>\n",
       "      <td>C/C</td>\n",
       "    </tr>\n",
       "    <tr>\n",
       "      <td>1</td>\n",
       "      <td>chr1</td>\n",
       "      <td>12606</td>\n",
       "      <td>C</td>\n",
       "      <td>.</td>\n",
       "      <td>0/0</td>\n",
       "      <td>C/C</td>\n",
       "    </tr>\n",
       "    <tr>\n",
       "      <td>2</td>\n",
       "      <td>chr1</td>\n",
       "      <td>12615</td>\n",
       "      <td>G</td>\n",
       "      <td>.</td>\n",
       "      <td>0/0</td>\n",
       "      <td>G/G</td>\n",
       "    </tr>\n",
       "    <tr>\n",
       "      <td>3</td>\n",
       "      <td>chr1</td>\n",
       "      <td>12617</td>\n",
       "      <td>G</td>\n",
       "      <td>.</td>\n",
       "      <td>0/0</td>\n",
       "      <td>G/G</td>\n",
       "    </tr>\n",
       "    <tr>\n",
       "      <td>4</td>\n",
       "      <td>chr1</td>\n",
       "      <td>12634</td>\n",
       "      <td>G</td>\n",
       "      <td>.</td>\n",
       "      <td>0/0</td>\n",
       "      <td>G/G</td>\n",
       "    </tr>\n",
       "  </tbody>\n",
       "</table>\n",
       "</div>"
      ],
      "text/plain": [
       "  CHROM    POS REF ALT  SNP  SnP\n",
       "0  chr1  12591   C   .  0/0  C/C\n",
       "1  chr1  12606   C   .  0/0  C/C\n",
       "2  chr1  12615   G   .  0/0  G/G\n",
       "3  chr1  12617   G   .  0/0  G/G\n",
       "4  chr1  12634   G   .  0/0  G/G"
      ]
     },
     "execution_count": 118,
     "metadata": {},
     "output_type": "execute_result"
    }
   ],
   "source": [
    "df.head()"
   ]
  },
  {
   "cell_type": "code",
   "execution_count": 15,
   "metadata": {},
   "outputs": [
    {
     "data": {
      "text/html": [
       "<div>\n",
       "<style scoped>\n",
       "    .dataframe tbody tr th:only-of-type {\n",
       "        vertical-align: middle;\n",
       "    }\n",
       "\n",
       "    .dataframe tbody tr th {\n",
       "        vertical-align: top;\n",
       "    }\n",
       "\n",
       "    .dataframe thead th {\n",
       "        text-align: right;\n",
       "    }\n",
       "</style>\n",
       "<table border=\"1\" class=\"dataframe\">\n",
       "  <thead>\n",
       "    <tr style=\"text-align: right;\">\n",
       "      <th></th>\n",
       "      <th>CHROM</th>\n",
       "      <th>POS</th>\n",
       "      <th>REF</th>\n",
       "      <th>ALT</th>\n",
       "      <th>SNP</th>\n",
       "    </tr>\n",
       "  </thead>\n",
       "  <tbody>\n",
       "    <tr>\n",
       "      <td>0</td>\n",
       "      <td>chr1</td>\n",
       "      <td>12630</td>\n",
       "      <td>G</td>\n",
       "      <td>.</td>\n",
       "      <td>0/0</td>\n",
       "    </tr>\n",
       "    <tr>\n",
       "      <td>1</td>\n",
       "      <td>chr1</td>\n",
       "      <td>12633</td>\n",
       "      <td>T</td>\n",
       "      <td>.</td>\n",
       "      <td>0/0</td>\n",
       "    </tr>\n",
       "    <tr>\n",
       "      <td>2</td>\n",
       "      <td>chr1</td>\n",
       "      <td>12637</td>\n",
       "      <td>C</td>\n",
       "      <td>.</td>\n",
       "      <td>0/0</td>\n",
       "    </tr>\n",
       "    <tr>\n",
       "      <td>3</td>\n",
       "      <td>chr1</td>\n",
       "      <td>12654</td>\n",
       "      <td>C</td>\n",
       "      <td>.</td>\n",
       "      <td>0/0</td>\n",
       "    </tr>\n",
       "    <tr>\n",
       "      <td>4</td>\n",
       "      <td>chr1</td>\n",
       "      <td>12684</td>\n",
       "      <td>T</td>\n",
       "      <td>.</td>\n",
       "      <td>0/0</td>\n",
       "    </tr>\n",
       "  </tbody>\n",
       "</table>\n",
       "</div>"
      ],
      "text/plain": [
       "  CHROM    POS REF ALT  SNP\n",
       "0  chr1  12630   G   .  0/0\n",
       "1  chr1  12633   T   .  0/0\n",
       "2  chr1  12637   C   .  0/0\n",
       "3  chr1  12654   C   .  0/0\n",
       "4  chr1  12684   T   .  0/0"
      ]
     },
     "execution_count": 15,
     "metadata": {},
     "output_type": "execute_result"
    }
   ],
   "source": [
    "df2.head()"
   ]
  },
  {
   "cell_type": "code",
   "execution_count": 33,
   "metadata": {},
   "outputs": [
    {
     "data": {
      "text/plain": [
       "array(['0/0', '0/1', '1/1', '.', '1/2'], dtype=object)"
      ]
     },
     "execution_count": 33,
     "metadata": {},
     "output_type": "execute_result"
    }
   ],
   "source": [
    "df2.SNP.unique() "
   ]
  },
  {
   "cell_type": "code",
   "execution_count": 35,
   "metadata": {},
   "outputs": [
    {
     "name": "stdout",
     "output_type": "stream",
     "text": [
      "(199399537, 5)\n",
      "(199262213, 5)\n"
     ]
    }
   ],
   "source": [
    "#Since We Found there is \".\" in SNP So remove these kind of rows which are use less\n",
    "print(df2.shape)\n",
    "\n",
    "df2 = df2.drop(df2[df2.SNP==\".\"].index)\n",
    "print(df2.shape)"
   ]
  },
  {
   "cell_type": "code",
   "execution_count": 36,
   "metadata": {},
   "outputs": [
    {
     "name": "stdout",
     "output_type": "stream",
     "text": [
      "(226819800, 5)\n",
      "(226666991, 5)\n"
     ]
    }
   ],
   "source": [
    "#same Process for df1 File\n",
    "print(df.shape)\n",
    "df = df.drop(df[df.SNP==\".\"].index)\n",
    "print(df.shape)"
   ]
  },
  {
   "cell_type": "code",
   "execution_count": 38,
   "metadata": {},
   "outputs": [
    {
     "data": {
      "text/plain": [
       "array(['0/0', '0/1', '1/1', '1/2'], dtype=object)"
      ]
     },
     "execution_count": 38,
     "metadata": {},
     "output_type": "execute_result"
    }
   ],
   "source": [
    "df.SNP.unique()"
   ]
  },
  {
   "cell_type": "code",
   "execution_count": 39,
   "metadata": {},
   "outputs": [
    {
     "data": {
      "text/plain": [
       "array(['0/0', '0/1', '1/1', '1/2'], dtype=object)"
      ]
     },
     "execution_count": 39,
     "metadata": {},
     "output_type": "execute_result"
    }
   ],
   "source": [
    "df2.SNP.unique()"
   ]
  },
  {
   "cell_type": "code",
   "execution_count": 41,
   "metadata": {},
   "outputs": [],
   "source": [
    "#df2[df2.SNP==\"1/2\"]"
   ]
  },
  {
   "cell_type": "code",
   "execution_count": 104,
   "metadata": {},
   "outputs": [],
   "source": [
    "test1 = df.head(1000)\n",
    "test2 = df2.head(1000)"
   ]
  },
  {
   "cell_type": "code",
   "execution_count": 98,
   "metadata": {},
   "outputs": [
    {
     "data": {
      "text/html": [
       "<div>\n",
       "<style scoped>\n",
       "    .dataframe tbody tr th:only-of-type {\n",
       "        vertical-align: middle;\n",
       "    }\n",
       "\n",
       "    .dataframe tbody tr th {\n",
       "        vertical-align: top;\n",
       "    }\n",
       "\n",
       "    .dataframe thead th {\n",
       "        text-align: right;\n",
       "    }\n",
       "</style>\n",
       "<table border=\"1\" class=\"dataframe\">\n",
       "  <thead>\n",
       "    <tr style=\"text-align: right;\">\n",
       "      <th></th>\n",
       "      <th>CHROM</th>\n",
       "      <th>POS</th>\n",
       "      <th>REF</th>\n",
       "      <th>ALT</th>\n",
       "      <th>SNP</th>\n",
       "    </tr>\n",
       "  </thead>\n",
       "  <tbody>\n",
       "  </tbody>\n",
       "</table>\n",
       "</div>"
      ],
      "text/plain": [
       "Empty DataFrame\n",
       "Columns: [CHROM, POS, REF, ALT, SNP]\n",
       "Index: []"
      ]
     },
     "execution_count": 98,
     "metadata": {},
     "output_type": "execute_result"
    }
   ],
   "source": [
    "#Create a blank Container\n",
    "\n",
    "combine_df = pd.DataFrame(columns=test1.columns)\n",
    "combine_df"
   ]
  },
  {
   "cell_type": "code",
   "execution_count": 99,
   "metadata": {},
   "outputs": [
    {
     "data": {
      "text/html": [
       "<div>\n",
       "<style scoped>\n",
       "    .dataframe tbody tr th:only-of-type {\n",
       "        vertical-align: middle;\n",
       "    }\n",
       "\n",
       "    .dataframe tbody tr th {\n",
       "        vertical-align: top;\n",
       "    }\n",
       "\n",
       "    .dataframe thead th {\n",
       "        text-align: right;\n",
       "    }\n",
       "</style>\n",
       "<table border=\"1\" class=\"dataframe\">\n",
       "  <thead>\n",
       "    <tr style=\"text-align: right;\">\n",
       "      <th></th>\n",
       "      <th>CHROM</th>\n",
       "      <th>POS</th>\n",
       "      <th>REF</th>\n",
       "      <th>ALT</th>\n",
       "      <th>SNP</th>\n",
       "    </tr>\n",
       "  </thead>\n",
       "  <tbody>\n",
       "    <tr>\n",
       "      <td>995</td>\n",
       "      <td>chr1</td>\n",
       "      <td>20510</td>\n",
       "      <td>C</td>\n",
       "      <td>.</td>\n",
       "      <td>C/C</td>\n",
       "    </tr>\n",
       "    <tr>\n",
       "      <td>996</td>\n",
       "      <td>chr1</td>\n",
       "      <td>20511</td>\n",
       "      <td>A</td>\n",
       "      <td>.</td>\n",
       "      <td>A/A</td>\n",
       "    </tr>\n",
       "    <tr>\n",
       "      <td>997</td>\n",
       "      <td>chr1</td>\n",
       "      <td>20512</td>\n",
       "      <td>G</td>\n",
       "      <td>T</td>\n",
       "      <td>G/T</td>\n",
       "    </tr>\n",
       "    <tr>\n",
       "      <td>998</td>\n",
       "      <td>chr1</td>\n",
       "      <td>20513</td>\n",
       "      <td>A</td>\n",
       "      <td>.</td>\n",
       "      <td>A/A</td>\n",
       "    </tr>\n",
       "    <tr>\n",
       "      <td>999</td>\n",
       "      <td>chr1</td>\n",
       "      <td>20541</td>\n",
       "      <td>T</td>\n",
       "      <td>.</td>\n",
       "      <td>T/T</td>\n",
       "    </tr>\n",
       "  </tbody>\n",
       "</table>\n",
       "</div>"
      ],
      "text/plain": [
       "    CHROM    POS REF ALT  SNP\n",
       "995  chr1  20510   C   .  C/C\n",
       "996  chr1  20511   A   .  A/A\n",
       "997  chr1  20512   G   T  G/T\n",
       "998  chr1  20513   A   .  A/A\n",
       "999  chr1  20541   T   .  T/T"
      ]
     },
     "execution_count": 99,
     "metadata": {},
     "output_type": "execute_result"
    }
   ],
   "source": [
    "test2.tail()"
   ]
  },
  {
   "cell_type": "code",
   "execution_count": 111,
   "metadata": {},
   "outputs": [
    {
     "data": {
      "text/html": [
       "<div>\n",
       "<style scoped>\n",
       "    .dataframe tbody tr th:only-of-type {\n",
       "        vertical-align: middle;\n",
       "    }\n",
       "\n",
       "    .dataframe tbody tr th {\n",
       "        vertical-align: top;\n",
       "    }\n",
       "\n",
       "    .dataframe thead th {\n",
       "        text-align: right;\n",
       "    }\n",
       "</style>\n",
       "<table border=\"1\" class=\"dataframe\">\n",
       "  <thead>\n",
       "    <tr style=\"text-align: right;\">\n",
       "      <th></th>\n",
       "      <th>CHROM</th>\n",
       "      <th>POS</th>\n",
       "      <th>REF</th>\n",
       "      <th>ALT</th>\n",
       "      <th>SNP</th>\n",
       "      <th>SnP</th>\n",
       "    </tr>\n",
       "  </thead>\n",
       "  <tbody>\n",
       "    <tr>\n",
       "      <td>0</td>\n",
       "      <td>chr1</td>\n",
       "      <td>12591</td>\n",
       "      <td>C</td>\n",
       "      <td>.</td>\n",
       "      <td>0/0</td>\n",
       "      <td>C/C</td>\n",
       "    </tr>\n",
       "    <tr>\n",
       "      <td>1</td>\n",
       "      <td>chr1</td>\n",
       "      <td>12606</td>\n",
       "      <td>C</td>\n",
       "      <td>.</td>\n",
       "      <td>0/0</td>\n",
       "      <td>C/C</td>\n",
       "    </tr>\n",
       "    <tr>\n",
       "      <td>2</td>\n",
       "      <td>chr1</td>\n",
       "      <td>12615</td>\n",
       "      <td>G</td>\n",
       "      <td>.</td>\n",
       "      <td>0/0</td>\n",
       "      <td>G/G</td>\n",
       "    </tr>\n",
       "    <tr>\n",
       "      <td>3</td>\n",
       "      <td>chr1</td>\n",
       "      <td>12617</td>\n",
       "      <td>G</td>\n",
       "      <td>.</td>\n",
       "      <td>0/0</td>\n",
       "      <td>G/G</td>\n",
       "    </tr>\n",
       "    <tr>\n",
       "      <td>4</td>\n",
       "      <td>chr1</td>\n",
       "      <td>12634</td>\n",
       "      <td>G</td>\n",
       "      <td>.</td>\n",
       "      <td>0/0</td>\n",
       "      <td>G/G</td>\n",
       "    </tr>\n",
       "  </tbody>\n",
       "</table>\n",
       "</div>"
      ],
      "text/plain": [
       "  CHROM    POS REF ALT  SNP  SnP\n",
       "0  chr1  12591   C   .  0/0  C/C\n",
       "1  chr1  12606   C   .  0/0  C/C\n",
       "2  chr1  12615   G   .  0/0  G/G\n",
       "3  chr1  12617   G   .  0/0  G/G\n",
       "4  chr1  12634   G   .  0/0  G/G"
      ]
     },
     "execution_count": 111,
     "metadata": {},
     "output_type": "execute_result"
    }
   ],
   "source": [
    "df[\"SnP\"] = np.where(df.loc[:,\"SNP\"]==\"0/0\",(df.REF.astype(str)+\"/\"+df.REF.astype(str)),\".\")\n",
    "df[\"SnP\"] = np.where(df.loc[:,\"SNP\"]==\"0/1\",(df.REF.astype(str)+\"/\"+df.ALT.astype(str)),df.SnP)\n",
    "df[\"SnP\"] = np.where(df.loc[:,\"SNP\"]==\"1/1\",(df.ALT.astype(str)+\"/\"+df.ALT.astype(str)),df.SnP)\n",
    "df[\"SnP\"] = np.where(df.loc[:,\"SNP\"]==\"1/2\",(df.REF.astype(str)+\"/\"+df.ALT.astype(str)),df.SnP)\n",
    "\n",
    "df.head()"
   ]
  },
  {
   "cell_type": "code",
   "execution_count": 113,
   "metadata": {},
   "outputs": [
    {
     "data": {
      "text/html": [
       "<div>\n",
       "<style scoped>\n",
       "    .dataframe tbody tr th:only-of-type {\n",
       "        vertical-align: middle;\n",
       "    }\n",
       "\n",
       "    .dataframe tbody tr th {\n",
       "        vertical-align: top;\n",
       "    }\n",
       "\n",
       "    .dataframe thead th {\n",
       "        text-align: right;\n",
       "    }\n",
       "</style>\n",
       "<table border=\"1\" class=\"dataframe\">\n",
       "  <thead>\n",
       "    <tr style=\"text-align: right;\">\n",
       "      <th></th>\n",
       "      <th>CHROM</th>\n",
       "      <th>POS</th>\n",
       "      <th>REF</th>\n",
       "      <th>ALT</th>\n",
       "      <th>SNP</th>\n",
       "      <th>SnP</th>\n",
       "    </tr>\n",
       "  </thead>\n",
       "  <tbody>\n",
       "    <tr>\n",
       "      <td>361</td>\n",
       "      <td>chr1</td>\n",
       "      <td>15274</td>\n",
       "      <td>A</td>\n",
       "      <td>G,T</td>\n",
       "      <td>1/2</td>\n",
       "      <td>A/G,T</td>\n",
       "    </tr>\n",
       "    <tr>\n",
       "      <td>2242</td>\n",
       "      <td>chr1</td>\n",
       "      <td>83829</td>\n",
       "      <td>GAGAAAGAAAGAAAGAAAGAAAGAA</td>\n",
       "      <td>G,GAGAAAGAAAGAAAGAGAAAGAAAGAA</td>\n",
       "      <td>1/2</td>\n",
       "      <td>GAGAAAGAAAGAAAGAAAGAAAGAA/G,GAGAAAGAAAGAAAGAGA...</td>\n",
       "    </tr>\n",
       "    <tr>\n",
       "      <td>9947</td>\n",
       "      <td>chr1</td>\n",
       "      <td>726313</td>\n",
       "      <td>CGAATGGAATGGAATG</td>\n",
       "      <td>CGAATGGAATG,C</td>\n",
       "      <td>1/2</td>\n",
       "      <td>CGAATGGAATGGAATG/CGAATGGAATG,C</td>\n",
       "    </tr>\n",
       "    <tr>\n",
       "      <td>15283</td>\n",
       "      <td>chr1</td>\n",
       "      <td>795558</td>\n",
       "      <td>C</td>\n",
       "      <td>CTT,CTTTTT</td>\n",
       "      <td>1/2</td>\n",
       "      <td>C/CTT,CTTTTT</td>\n",
       "    </tr>\n",
       "    <tr>\n",
       "      <td>18016</td>\n",
       "      <td>chr1</td>\n",
       "      <td>821280</td>\n",
       "      <td>GTCT</td>\n",
       "      <td>GT,GTC</td>\n",
       "      <td>1/2</td>\n",
       "      <td>GTCT/GT,GTC</td>\n",
       "    </tr>\n",
       "    <tr>\n",
       "      <td>...</td>\n",
       "      <td>...</td>\n",
       "      <td>...</td>\n",
       "      <td>...</td>\n",
       "      <td>...</td>\n",
       "      <td>...</td>\n",
       "      <td>...</td>\n",
       "    </tr>\n",
       "    <tr>\n",
       "      <td>226804310</td>\n",
       "      <td>chrX</td>\n",
       "      <td>154845791</td>\n",
       "      <td>CCT</td>\n",
       "      <td>CTCT,C</td>\n",
       "      <td>1/2</td>\n",
       "      <td>CCT/CTCT,C</td>\n",
       "    </tr>\n",
       "    <tr>\n",
       "      <td>226804880</td>\n",
       "      <td>chrX</td>\n",
       "      <td>154854178</td>\n",
       "      <td>CATCTATCT</td>\n",
       "      <td>CATCTATCTATCT,C</td>\n",
       "      <td>1/2</td>\n",
       "      <td>CATCTATCT/CATCTATCTATCT,C</td>\n",
       "    </tr>\n",
       "    <tr>\n",
       "      <td>226810846</td>\n",
       "      <td>chrY</td>\n",
       "      <td>10002859</td>\n",
       "      <td>TTGTG</td>\n",
       "      <td>T,TT</td>\n",
       "      <td>1/2</td>\n",
       "      <td>TTGTG/T,TT</td>\n",
       "    </tr>\n",
       "    <tr>\n",
       "      <td>226810899</td>\n",
       "      <td>chrY</td>\n",
       "      <td>13314070</td>\n",
       "      <td>A</td>\n",
       "      <td>C,T</td>\n",
       "      <td>1/2</td>\n",
       "      <td>A/C,T</td>\n",
       "    </tr>\n",
       "    <tr>\n",
       "      <td>226819610</td>\n",
       "      <td>chrM</td>\n",
       "      <td>16183</td>\n",
       "      <td>AC</td>\n",
       "      <td>ACC,A</td>\n",
       "      <td>1/2</td>\n",
       "      <td>AC/ACC,A</td>\n",
       "    </tr>\n",
       "  </tbody>\n",
       "</table>\n",
       "<p>46167 rows × 6 columns</p>\n",
       "</div>"
      ],
      "text/plain": [
       "          CHROM        POS                        REF  \\\n",
       "361        chr1      15274                          A   \n",
       "2242       chr1      83829  GAGAAAGAAAGAAAGAAAGAAAGAA   \n",
       "9947       chr1     726313           CGAATGGAATGGAATG   \n",
       "15283      chr1     795558                          C   \n",
       "18016      chr1     821280                       GTCT   \n",
       "...         ...        ...                        ...   \n",
       "226804310  chrX  154845791                        CCT   \n",
       "226804880  chrX  154854178                  CATCTATCT   \n",
       "226810846  chrY   10002859                      TTGTG   \n",
       "226810899  chrY   13314070                          A   \n",
       "226819610  chrM      16183                         AC   \n",
       "\n",
       "                                     ALT  SNP  \\\n",
       "361                                  G,T  1/2   \n",
       "2242       G,GAGAAAGAAAGAAAGAGAAAGAAAGAA  1/2   \n",
       "9947                       CGAATGGAATG,C  1/2   \n",
       "15283                         CTT,CTTTTT  1/2   \n",
       "18016                             GT,GTC  1/2   \n",
       "...                                  ...  ...   \n",
       "226804310                         CTCT,C  1/2   \n",
       "226804880                CATCTATCTATCT,C  1/2   \n",
       "226810846                           T,TT  1/2   \n",
       "226810899                            C,T  1/2   \n",
       "226819610                          ACC,A  1/2   \n",
       "\n",
       "                                                         SnP  \n",
       "361                                                    A/G,T  \n",
       "2242       GAGAAAGAAAGAAAGAAAGAAAGAA/G,GAGAAAGAAAGAAAGAGA...  \n",
       "9947                          CGAATGGAATGGAATG/CGAATGGAATG,C  \n",
       "15283                                           C/CTT,CTTTTT  \n",
       "18016                                            GTCT/GT,GTC  \n",
       "...                                                      ...  \n",
       "226804310                                         CCT/CTCT,C  \n",
       "226804880                          CATCTATCT/CATCTATCTATCT,C  \n",
       "226810846                                         TTGTG/T,TT  \n",
       "226810899                                              A/C,T  \n",
       "226819610                                           AC/ACC,A  \n",
       "\n",
       "[46167 rows x 6 columns]"
      ]
     },
     "execution_count": 113,
     "metadata": {},
     "output_type": "execute_result"
    }
   ],
   "source": [
    "df[df.SNP == \"1/2\"]"
   ]
  },
  {
   "cell_type": "code",
   "execution_count": 115,
   "metadata": {},
   "outputs": [],
   "source": [
    "df.to_csv(\"/BiO/Preterm/raw_data/\"+first+\"/\"+first+\"_snp.csv\",index=False)"
   ]
  },
  {
   "cell_type": "code",
   "execution_count": 74,
   "metadata": {},
   "outputs": [],
   "source": [
    "#test2[\"SnP\"] = test2[[\"SNP\",\"REF\",\"ALT\"]].apply(lambda x:(test2[\"REF\"].astype(str)/test2[\"REF\"].astype(str))if x ==\"0/0\"\\\n",
    "#                else((test2[\"REF\"].astype(str)+\"/\"+test2[\"ALT\"].astype(str))if x == \"0/1\"\\\n",
    "#                                  else((test2[\"ALT\"].astype(str)+\"/\"+test2[\"ALT\"].astype(str))if x== \"1\\1\" \\\n",
    "#                                  else (test2[\"REF\"].astype(str)+\"/\"+test2[\"ALT\"].astype(str))))\n",
    "                                        \n",
    "#test2.head()\n",
    "                                                \n",
    "#    np.where(df.iloc[:,-1]==\"0/1\",df[\"REF\"].astype(str)+\"/\"+df[\"ALT\"]),\n",
    "#                      (df[\"ALT\"].astype(str)+\"/\"+df[\"ALT\"]))"
   ]
  },
  {
   "cell_type": "code",
   "execution_count": 100,
   "metadata": {},
   "outputs": [],
   "source": [
    "#test2.loc[:,\"SNP\"].head(2)\n",
    "import warnings\n",
    "warnings.filterwarnings(\"ignore\")"
   ]
  },
  {
   "cell_type": "code",
   "execution_count": 102,
   "metadata": {},
   "outputs": [
    {
     "data": {
      "text/html": [
       "<div>\n",
       "<style scoped>\n",
       "    .dataframe tbody tr th:only-of-type {\n",
       "        vertical-align: middle;\n",
       "    }\n",
       "\n",
       "    .dataframe tbody tr th {\n",
       "        vertical-align: top;\n",
       "    }\n",
       "\n",
       "    .dataframe thead th {\n",
       "        text-align: right;\n",
       "    }\n",
       "</style>\n",
       "<table border=\"1\" class=\"dataframe\">\n",
       "  <thead>\n",
       "    <tr style=\"text-align: right;\">\n",
       "      <th></th>\n",
       "      <th>CHROM</th>\n",
       "      <th>POS</th>\n",
       "      <th>REF</th>\n",
       "      <th>ALT</th>\n",
       "      <th>SNP</th>\n",
       "    </tr>\n",
       "  </thead>\n",
       "  <tbody>\n",
       "    <tr>\n",
       "      <td>0</td>\n",
       "      <td>chr1</td>\n",
       "      <td>12630</td>\n",
       "      <td>G</td>\n",
       "      <td>.</td>\n",
       "      <td>G/G</td>\n",
       "    </tr>\n",
       "    <tr>\n",
       "      <td>1</td>\n",
       "      <td>chr1</td>\n",
       "      <td>12633</td>\n",
       "      <td>T</td>\n",
       "      <td>.</td>\n",
       "      <td>T/T</td>\n",
       "    </tr>\n",
       "    <tr>\n",
       "      <td>2</td>\n",
       "      <td>chr1</td>\n",
       "      <td>12637</td>\n",
       "      <td>C</td>\n",
       "      <td>.</td>\n",
       "      <td>C/C</td>\n",
       "    </tr>\n",
       "    <tr>\n",
       "      <td>3</td>\n",
       "      <td>chr1</td>\n",
       "      <td>12654</td>\n",
       "      <td>C</td>\n",
       "      <td>.</td>\n",
       "      <td>C/C</td>\n",
       "    </tr>\n",
       "    <tr>\n",
       "      <td>4</td>\n",
       "      <td>chr1</td>\n",
       "      <td>12684</td>\n",
       "      <td>T</td>\n",
       "      <td>.</td>\n",
       "      <td>T/T</td>\n",
       "    </tr>\n",
       "  </tbody>\n",
       "</table>\n",
       "</div>"
      ],
      "text/plain": [
       "  CHROM    POS REF ALT  SNP\n",
       "0  chr1  12630   G   .  G/G\n",
       "1  chr1  12633   T   .  T/T\n",
       "2  chr1  12637   C   .  C/C\n",
       "3  chr1  12654   C   .  C/C\n",
       "4  chr1  12684   T   .  T/T"
      ]
     },
     "execution_count": 102,
     "metadata": {},
     "output_type": "execute_result"
    }
   ],
   "source": [
    "test2[\"SNP\"] = np.where(test2.loc[:,\"SNP\"]==\"0/0\",(test2.REF.astype(str)+\"/\"+test2.REF.astype(str)),test2.SNP)\n",
    "test2[\"SNP\"] = np.where(test2.loc[:,\"SNP\"]==\"0/1\",(test2.REF.astype(str)+\"/\"+test2.ALT.astype(str)),test2.SNP)\n",
    "test2[\"SNP\"] = np.where(test2.loc[:,\"SNP\"]==\"1/1\",(test2.ALT.astype(str)+\"/\"+test2.ALT.astype(str)),test2.SNP)\n",
    "test2[\"SNP\"] = np.where(test2.loc[:,\"SNP\"]==\"1/2\",(test2.REF.astype(str)+\"/\"+test2.ALT.astype(str)),test2.SNP)\n",
    "\n",
    "test2.head()"
   ]
  },
  {
   "cell_type": "code",
   "execution_count": 106,
   "metadata": {},
   "outputs": [
    {
     "data": {
      "text/html": [
       "<div>\n",
       "<style scoped>\n",
       "    .dataframe tbody tr th:only-of-type {\n",
       "        vertical-align: middle;\n",
       "    }\n",
       "\n",
       "    .dataframe tbody tr th {\n",
       "        vertical-align: top;\n",
       "    }\n",
       "\n",
       "    .dataframe thead th {\n",
       "        text-align: right;\n",
       "    }\n",
       "</style>\n",
       "<table border=\"1\" class=\"dataframe\">\n",
       "  <thead>\n",
       "    <tr style=\"text-align: right;\">\n",
       "      <th></th>\n",
       "      <th>CHROM</th>\n",
       "      <th>POS</th>\n",
       "      <th>REF</th>\n",
       "      <th>ALT</th>\n",
       "      <th>SNP</th>\n",
       "    </tr>\n",
       "  </thead>\n",
       "  <tbody>\n",
       "  </tbody>\n",
       "</table>\n",
       "</div>"
      ],
      "text/plain": [
       "Empty DataFrame\n",
       "Columns: [CHROM, POS, REF, ALT, SNP]\n",
       "Index: []"
      ]
     },
     "execution_count": 106,
     "metadata": {},
     "output_type": "execute_result"
    }
   ],
   "source": [
    "test2[test2.SNP==\"1/2\"]"
   ]
  },
  {
   "cell_type": "code",
   "execution_count": 108,
   "metadata": {},
   "outputs": [
    {
     "data": {
      "text/plain": [
       "array(['G/G', 'T/T', 'C/C', 'A/A', 'C/CGAGA', 'G/A', 'GC/GC', 'T/C',\n",
       "       'G/C', 'C/T', 'A/G', 'A/C', 'G/T'], dtype=object)"
      ]
     },
     "execution_count": 108,
     "metadata": {},
     "output_type": "execute_result"
    }
   ],
   "source": [
    "test2.SNP.unique()"
   ]
  },
  {
   "cell_type": "code",
   "execution_count": 58,
   "metadata": {},
   "outputs": [
    {
     "ename": "ValueError",
     "evalue": "Wrong number of items passed 1000, placement implies 1",
     "output_type": "error",
     "traceback": [
      "\u001b[0;31m---------------------------------------------------------------------------\u001b[0m",
      "\u001b[0;31mKeyError\u001b[0m                                  Traceback (most recent call last)",
      "\u001b[0;32m~/anaconda3/lib/python3.7/site-packages/pandas/core/indexes/base.py\u001b[0m in \u001b[0;36mget_loc\u001b[0;34m(self, key, method, tolerance)\u001b[0m\n\u001b[1;32m   2896\u001b[0m             \u001b[0;32mtry\u001b[0m\u001b[0;34m:\u001b[0m\u001b[0;34m\u001b[0m\u001b[0;34m\u001b[0m\u001b[0m\n\u001b[0;32m-> 2897\u001b[0;31m                 \u001b[0;32mreturn\u001b[0m \u001b[0mself\u001b[0m\u001b[0;34m.\u001b[0m\u001b[0m_engine\u001b[0m\u001b[0;34m.\u001b[0m\u001b[0mget_loc\u001b[0m\u001b[0;34m(\u001b[0m\u001b[0mkey\u001b[0m\u001b[0;34m)\u001b[0m\u001b[0;34m\u001b[0m\u001b[0;34m\u001b[0m\u001b[0m\n\u001b[0m\u001b[1;32m   2898\u001b[0m             \u001b[0;32mexcept\u001b[0m \u001b[0mKeyError\u001b[0m\u001b[0;34m:\u001b[0m\u001b[0;34m\u001b[0m\u001b[0;34m\u001b[0m\u001b[0m\n",
      "\u001b[0;32mpandas/_libs/index.pyx\u001b[0m in \u001b[0;36mpandas._libs.index.IndexEngine.get_loc\u001b[0;34m()\u001b[0m\n",
      "\u001b[0;32mpandas/_libs/index.pyx\u001b[0m in \u001b[0;36mpandas._libs.index.IndexEngine.get_loc\u001b[0;34m()\u001b[0m\n",
      "\u001b[0;32mpandas/_libs/hashtable_class_helper.pxi\u001b[0m in \u001b[0;36mpandas._libs.hashtable.PyObjectHashTable.get_item\u001b[0;34m()\u001b[0m\n",
      "\u001b[0;32mpandas/_libs/hashtable_class_helper.pxi\u001b[0m in \u001b[0;36mpandas._libs.hashtable.PyObjectHashTable.get_item\u001b[0;34m()\u001b[0m\n",
      "\u001b[0;31mKeyError\u001b[0m: 'SnP'",
      "\nDuring handling of the above exception, another exception occurred:\n",
      "\u001b[0;31mKeyError\u001b[0m                                  Traceback (most recent call last)",
      "\u001b[0;32m~/anaconda3/lib/python3.7/site-packages/pandas/core/internals/managers.py\u001b[0m in \u001b[0;36mset\u001b[0;34m(self, item, value)\u001b[0m\n\u001b[1;32m   1068\u001b[0m         \u001b[0;32mtry\u001b[0m\u001b[0;34m:\u001b[0m\u001b[0;34m\u001b[0m\u001b[0;34m\u001b[0m\u001b[0m\n\u001b[0;32m-> 1069\u001b[0;31m             \u001b[0mloc\u001b[0m \u001b[0;34m=\u001b[0m \u001b[0mself\u001b[0m\u001b[0;34m.\u001b[0m\u001b[0mitems\u001b[0m\u001b[0;34m.\u001b[0m\u001b[0mget_loc\u001b[0m\u001b[0;34m(\u001b[0m\u001b[0mitem\u001b[0m\u001b[0;34m)\u001b[0m\u001b[0;34m\u001b[0m\u001b[0;34m\u001b[0m\u001b[0m\n\u001b[0m\u001b[1;32m   1070\u001b[0m         \u001b[0;32mexcept\u001b[0m \u001b[0mKeyError\u001b[0m\u001b[0;34m:\u001b[0m\u001b[0;34m\u001b[0m\u001b[0;34m\u001b[0m\u001b[0m\n",
      "\u001b[0;32m~/anaconda3/lib/python3.7/site-packages/pandas/core/indexes/base.py\u001b[0m in \u001b[0;36mget_loc\u001b[0;34m(self, key, method, tolerance)\u001b[0m\n\u001b[1;32m   2898\u001b[0m             \u001b[0;32mexcept\u001b[0m \u001b[0mKeyError\u001b[0m\u001b[0;34m:\u001b[0m\u001b[0;34m\u001b[0m\u001b[0;34m\u001b[0m\u001b[0m\n\u001b[0;32m-> 2899\u001b[0;31m                 \u001b[0;32mreturn\u001b[0m \u001b[0mself\u001b[0m\u001b[0;34m.\u001b[0m\u001b[0m_engine\u001b[0m\u001b[0;34m.\u001b[0m\u001b[0mget_loc\u001b[0m\u001b[0;34m(\u001b[0m\u001b[0mself\u001b[0m\u001b[0;34m.\u001b[0m\u001b[0m_maybe_cast_indexer\u001b[0m\u001b[0;34m(\u001b[0m\u001b[0mkey\u001b[0m\u001b[0;34m)\u001b[0m\u001b[0;34m)\u001b[0m\u001b[0;34m\u001b[0m\u001b[0;34m\u001b[0m\u001b[0m\n\u001b[0m\u001b[1;32m   2900\u001b[0m         \u001b[0mindexer\u001b[0m \u001b[0;34m=\u001b[0m \u001b[0mself\u001b[0m\u001b[0;34m.\u001b[0m\u001b[0mget_indexer\u001b[0m\u001b[0;34m(\u001b[0m\u001b[0;34m[\u001b[0m\u001b[0mkey\u001b[0m\u001b[0;34m]\u001b[0m\u001b[0;34m,\u001b[0m \u001b[0mmethod\u001b[0m\u001b[0;34m=\u001b[0m\u001b[0mmethod\u001b[0m\u001b[0;34m,\u001b[0m \u001b[0mtolerance\u001b[0m\u001b[0;34m=\u001b[0m\u001b[0mtolerance\u001b[0m\u001b[0;34m)\u001b[0m\u001b[0;34m\u001b[0m\u001b[0;34m\u001b[0m\u001b[0m\n",
      "\u001b[0;32mpandas/_libs/index.pyx\u001b[0m in \u001b[0;36mpandas._libs.index.IndexEngine.get_loc\u001b[0;34m()\u001b[0m\n",
      "\u001b[0;32mpandas/_libs/index.pyx\u001b[0m in \u001b[0;36mpandas._libs.index.IndexEngine.get_loc\u001b[0;34m()\u001b[0m\n",
      "\u001b[0;32mpandas/_libs/hashtable_class_helper.pxi\u001b[0m in \u001b[0;36mpandas._libs.hashtable.PyObjectHashTable.get_item\u001b[0;34m()\u001b[0m\n",
      "\u001b[0;32mpandas/_libs/hashtable_class_helper.pxi\u001b[0m in \u001b[0;36mpandas._libs.hashtable.PyObjectHashTable.get_item\u001b[0;34m()\u001b[0m\n",
      "\u001b[0;31mKeyError\u001b[0m: 'SnP'",
      "\nDuring handling of the above exception, another exception occurred:\n",
      "\u001b[0;31mValueError\u001b[0m                                Traceback (most recent call last)",
      "\u001b[0;32m<ipython-input-58-c02a10915a18>\u001b[0m in \u001b[0;36m<module>\u001b[0;34m\u001b[0m\n\u001b[0;32m----> 1\u001b[0;31m test2[\"SnP\"] = test2[\"SNP\"].apply(lambda x: test2[\"REF\"].astype(str)+\"/\"+test2[\"REF\"].astype(str) if x ==\"0/0\"\\\n\u001b[0m\u001b[1;32m      2\u001b[0m                 else test2[\"REF\"].astype(str)+\"/\"+test2[\"ALT\"].astype(str))#if x == \"0/1\"\n",
      "\u001b[0;32m~/anaconda3/lib/python3.7/site-packages/pandas/core/frame.py\u001b[0m in \u001b[0;36m__setitem__\u001b[0;34m(self, key, value)\u001b[0m\n\u001b[1;32m   3470\u001b[0m         \u001b[0;32melse\u001b[0m\u001b[0;34m:\u001b[0m\u001b[0;34m\u001b[0m\u001b[0;34m\u001b[0m\u001b[0m\n\u001b[1;32m   3471\u001b[0m             \u001b[0;31m# set column\u001b[0m\u001b[0;34m\u001b[0m\u001b[0;34m\u001b[0m\u001b[0;34m\u001b[0m\u001b[0m\n\u001b[0;32m-> 3472\u001b[0;31m             \u001b[0mself\u001b[0m\u001b[0;34m.\u001b[0m\u001b[0m_set_item\u001b[0m\u001b[0;34m(\u001b[0m\u001b[0mkey\u001b[0m\u001b[0;34m,\u001b[0m \u001b[0mvalue\u001b[0m\u001b[0;34m)\u001b[0m\u001b[0;34m\u001b[0m\u001b[0;34m\u001b[0m\u001b[0m\n\u001b[0m\u001b[1;32m   3473\u001b[0m \u001b[0;34m\u001b[0m\u001b[0m\n\u001b[1;32m   3474\u001b[0m     \u001b[0;32mdef\u001b[0m \u001b[0m_setitem_slice\u001b[0m\u001b[0;34m(\u001b[0m\u001b[0mself\u001b[0m\u001b[0;34m,\u001b[0m \u001b[0mkey\u001b[0m\u001b[0;34m,\u001b[0m \u001b[0mvalue\u001b[0m\u001b[0;34m)\u001b[0m\u001b[0;34m:\u001b[0m\u001b[0;34m\u001b[0m\u001b[0;34m\u001b[0m\u001b[0m\n",
      "\u001b[0;32m~/anaconda3/lib/python3.7/site-packages/pandas/core/frame.py\u001b[0m in \u001b[0;36m_set_item\u001b[0;34m(self, key, value)\u001b[0m\n\u001b[1;32m   3548\u001b[0m         \u001b[0mself\u001b[0m\u001b[0;34m.\u001b[0m\u001b[0m_ensure_valid_index\u001b[0m\u001b[0;34m(\u001b[0m\u001b[0mvalue\u001b[0m\u001b[0;34m)\u001b[0m\u001b[0;34m\u001b[0m\u001b[0;34m\u001b[0m\u001b[0m\n\u001b[1;32m   3549\u001b[0m         \u001b[0mvalue\u001b[0m \u001b[0;34m=\u001b[0m \u001b[0mself\u001b[0m\u001b[0;34m.\u001b[0m\u001b[0m_sanitize_column\u001b[0m\u001b[0;34m(\u001b[0m\u001b[0mkey\u001b[0m\u001b[0;34m,\u001b[0m \u001b[0mvalue\u001b[0m\u001b[0;34m)\u001b[0m\u001b[0;34m\u001b[0m\u001b[0;34m\u001b[0m\u001b[0m\n\u001b[0;32m-> 3550\u001b[0;31m         \u001b[0mNDFrame\u001b[0m\u001b[0;34m.\u001b[0m\u001b[0m_set_item\u001b[0m\u001b[0;34m(\u001b[0m\u001b[0mself\u001b[0m\u001b[0;34m,\u001b[0m \u001b[0mkey\u001b[0m\u001b[0;34m,\u001b[0m \u001b[0mvalue\u001b[0m\u001b[0;34m)\u001b[0m\u001b[0;34m\u001b[0m\u001b[0;34m\u001b[0m\u001b[0m\n\u001b[0m\u001b[1;32m   3551\u001b[0m \u001b[0;34m\u001b[0m\u001b[0m\n\u001b[1;32m   3552\u001b[0m         \u001b[0;31m# check if we are modifying a copy\u001b[0m\u001b[0;34m\u001b[0m\u001b[0;34m\u001b[0m\u001b[0;34m\u001b[0m\u001b[0m\n",
      "\u001b[0;32m~/anaconda3/lib/python3.7/site-packages/pandas/core/generic.py\u001b[0m in \u001b[0;36m_set_item\u001b[0;34m(self, key, value)\u001b[0m\n\u001b[1;32m   3379\u001b[0m \u001b[0;34m\u001b[0m\u001b[0m\n\u001b[1;32m   3380\u001b[0m     \u001b[0;32mdef\u001b[0m \u001b[0m_set_item\u001b[0m\u001b[0;34m(\u001b[0m\u001b[0mself\u001b[0m\u001b[0;34m,\u001b[0m \u001b[0mkey\u001b[0m\u001b[0;34m,\u001b[0m \u001b[0mvalue\u001b[0m\u001b[0;34m)\u001b[0m\u001b[0;34m:\u001b[0m\u001b[0;34m\u001b[0m\u001b[0;34m\u001b[0m\u001b[0m\n\u001b[0;32m-> 3381\u001b[0;31m         \u001b[0mself\u001b[0m\u001b[0;34m.\u001b[0m\u001b[0m_data\u001b[0m\u001b[0;34m.\u001b[0m\u001b[0mset\u001b[0m\u001b[0;34m(\u001b[0m\u001b[0mkey\u001b[0m\u001b[0;34m,\u001b[0m \u001b[0mvalue\u001b[0m\u001b[0;34m)\u001b[0m\u001b[0;34m\u001b[0m\u001b[0;34m\u001b[0m\u001b[0m\n\u001b[0m\u001b[1;32m   3382\u001b[0m         \u001b[0mself\u001b[0m\u001b[0;34m.\u001b[0m\u001b[0m_clear_item_cache\u001b[0m\u001b[0;34m(\u001b[0m\u001b[0;34m)\u001b[0m\u001b[0;34m\u001b[0m\u001b[0;34m\u001b[0m\u001b[0m\n\u001b[1;32m   3383\u001b[0m \u001b[0;34m\u001b[0m\u001b[0m\n",
      "\u001b[0;32m~/anaconda3/lib/python3.7/site-packages/pandas/core/internals/managers.py\u001b[0m in \u001b[0;36mset\u001b[0;34m(self, item, value)\u001b[0m\n\u001b[1;32m   1070\u001b[0m         \u001b[0;32mexcept\u001b[0m \u001b[0mKeyError\u001b[0m\u001b[0;34m:\u001b[0m\u001b[0;34m\u001b[0m\u001b[0;34m\u001b[0m\u001b[0m\n\u001b[1;32m   1071\u001b[0m             \u001b[0;31m# This item wasn't present, just insert at end\u001b[0m\u001b[0;34m\u001b[0m\u001b[0;34m\u001b[0m\u001b[0;34m\u001b[0m\u001b[0m\n\u001b[0;32m-> 1072\u001b[0;31m             \u001b[0mself\u001b[0m\u001b[0;34m.\u001b[0m\u001b[0minsert\u001b[0m\u001b[0;34m(\u001b[0m\u001b[0mlen\u001b[0m\u001b[0;34m(\u001b[0m\u001b[0mself\u001b[0m\u001b[0;34m.\u001b[0m\u001b[0mitems\u001b[0m\u001b[0;34m)\u001b[0m\u001b[0;34m,\u001b[0m \u001b[0mitem\u001b[0m\u001b[0;34m,\u001b[0m \u001b[0mvalue\u001b[0m\u001b[0;34m)\u001b[0m\u001b[0;34m\u001b[0m\u001b[0;34m\u001b[0m\u001b[0m\n\u001b[0m\u001b[1;32m   1073\u001b[0m             \u001b[0;32mreturn\u001b[0m\u001b[0;34m\u001b[0m\u001b[0;34m\u001b[0m\u001b[0m\n\u001b[1;32m   1074\u001b[0m \u001b[0;34m\u001b[0m\u001b[0m\n",
      "\u001b[0;32m~/anaconda3/lib/python3.7/site-packages/pandas/core/internals/managers.py\u001b[0m in \u001b[0;36minsert\u001b[0;34m(self, loc, item, value, allow_duplicates)\u001b[0m\n\u001b[1;32m   1179\u001b[0m         \u001b[0mnew_axis\u001b[0m \u001b[0;34m=\u001b[0m \u001b[0mself\u001b[0m\u001b[0;34m.\u001b[0m\u001b[0mitems\u001b[0m\u001b[0;34m.\u001b[0m\u001b[0minsert\u001b[0m\u001b[0;34m(\u001b[0m\u001b[0mloc\u001b[0m\u001b[0;34m,\u001b[0m \u001b[0mitem\u001b[0m\u001b[0;34m)\u001b[0m\u001b[0;34m\u001b[0m\u001b[0;34m\u001b[0m\u001b[0m\n\u001b[1;32m   1180\u001b[0m \u001b[0;34m\u001b[0m\u001b[0m\n\u001b[0;32m-> 1181\u001b[0;31m         \u001b[0mblock\u001b[0m \u001b[0;34m=\u001b[0m \u001b[0mmake_block\u001b[0m\u001b[0;34m(\u001b[0m\u001b[0mvalues\u001b[0m\u001b[0;34m=\u001b[0m\u001b[0mvalue\u001b[0m\u001b[0;34m,\u001b[0m \u001b[0mndim\u001b[0m\u001b[0;34m=\u001b[0m\u001b[0mself\u001b[0m\u001b[0;34m.\u001b[0m\u001b[0mndim\u001b[0m\u001b[0;34m,\u001b[0m \u001b[0mplacement\u001b[0m\u001b[0;34m=\u001b[0m\u001b[0mslice\u001b[0m\u001b[0;34m(\u001b[0m\u001b[0mloc\u001b[0m\u001b[0;34m,\u001b[0m \u001b[0mloc\u001b[0m \u001b[0;34m+\u001b[0m \u001b[0;36m1\u001b[0m\u001b[0;34m)\u001b[0m\u001b[0;34m)\u001b[0m\u001b[0;34m\u001b[0m\u001b[0;34m\u001b[0m\u001b[0m\n\u001b[0m\u001b[1;32m   1182\u001b[0m \u001b[0;34m\u001b[0m\u001b[0m\n\u001b[1;32m   1183\u001b[0m         \u001b[0;32mfor\u001b[0m \u001b[0mblkno\u001b[0m\u001b[0;34m,\u001b[0m \u001b[0mcount\u001b[0m \u001b[0;32min\u001b[0m \u001b[0m_fast_count_smallints\u001b[0m\u001b[0;34m(\u001b[0m\u001b[0mself\u001b[0m\u001b[0;34m.\u001b[0m\u001b[0m_blknos\u001b[0m\u001b[0;34m[\u001b[0m\u001b[0mloc\u001b[0m\u001b[0;34m:\u001b[0m\u001b[0;34m]\u001b[0m\u001b[0;34m)\u001b[0m\u001b[0;34m:\u001b[0m\u001b[0;34m\u001b[0m\u001b[0;34m\u001b[0m\u001b[0m\n",
      "\u001b[0;32m~/anaconda3/lib/python3.7/site-packages/pandas/core/internals/blocks.py\u001b[0m in \u001b[0;36mmake_block\u001b[0;34m(values, placement, klass, ndim, dtype, fastpath)\u001b[0m\n\u001b[1;32m   3265\u001b[0m         \u001b[0mvalues\u001b[0m \u001b[0;34m=\u001b[0m \u001b[0mDatetimeArray\u001b[0m\u001b[0;34m.\u001b[0m\u001b[0m_simple_new\u001b[0m\u001b[0;34m(\u001b[0m\u001b[0mvalues\u001b[0m\u001b[0;34m,\u001b[0m \u001b[0mdtype\u001b[0m\u001b[0;34m=\u001b[0m\u001b[0mdtype\u001b[0m\u001b[0;34m)\u001b[0m\u001b[0;34m\u001b[0m\u001b[0;34m\u001b[0m\u001b[0m\n\u001b[1;32m   3266\u001b[0m \u001b[0;34m\u001b[0m\u001b[0m\n\u001b[0;32m-> 3267\u001b[0;31m     \u001b[0;32mreturn\u001b[0m \u001b[0mklass\u001b[0m\u001b[0;34m(\u001b[0m\u001b[0mvalues\u001b[0m\u001b[0;34m,\u001b[0m \u001b[0mndim\u001b[0m\u001b[0;34m=\u001b[0m\u001b[0mndim\u001b[0m\u001b[0;34m,\u001b[0m \u001b[0mplacement\u001b[0m\u001b[0;34m=\u001b[0m\u001b[0mplacement\u001b[0m\u001b[0;34m)\u001b[0m\u001b[0;34m\u001b[0m\u001b[0;34m\u001b[0m\u001b[0m\n\u001b[0m\u001b[1;32m   3268\u001b[0m \u001b[0;34m\u001b[0m\u001b[0m\n\u001b[1;32m   3269\u001b[0m \u001b[0;34m\u001b[0m\u001b[0m\n",
      "\u001b[0;32m~/anaconda3/lib/python3.7/site-packages/pandas/core/internals/blocks.py\u001b[0m in \u001b[0;36m__init__\u001b[0;34m(self, values, placement, ndim)\u001b[0m\n\u001b[1;32m   2773\u001b[0m             \u001b[0mvalues\u001b[0m \u001b[0;34m=\u001b[0m \u001b[0mnp\u001b[0m\u001b[0;34m.\u001b[0m\u001b[0marray\u001b[0m\u001b[0;34m(\u001b[0m\u001b[0mvalues\u001b[0m\u001b[0;34m,\u001b[0m \u001b[0mdtype\u001b[0m\u001b[0;34m=\u001b[0m\u001b[0mobject\u001b[0m\u001b[0;34m)\u001b[0m\u001b[0;34m\u001b[0m\u001b[0;34m\u001b[0m\u001b[0m\n\u001b[1;32m   2774\u001b[0m \u001b[0;34m\u001b[0m\u001b[0m\n\u001b[0;32m-> 2775\u001b[0;31m         \u001b[0msuper\u001b[0m\u001b[0;34m(\u001b[0m\u001b[0;34m)\u001b[0m\u001b[0;34m.\u001b[0m\u001b[0m__init__\u001b[0m\u001b[0;34m(\u001b[0m\u001b[0mvalues\u001b[0m\u001b[0;34m,\u001b[0m \u001b[0mndim\u001b[0m\u001b[0;34m=\u001b[0m\u001b[0mndim\u001b[0m\u001b[0;34m,\u001b[0m \u001b[0mplacement\u001b[0m\u001b[0;34m=\u001b[0m\u001b[0mplacement\u001b[0m\u001b[0;34m)\u001b[0m\u001b[0;34m\u001b[0m\u001b[0;34m\u001b[0m\u001b[0m\n\u001b[0m\u001b[1;32m   2776\u001b[0m \u001b[0;34m\u001b[0m\u001b[0m\n\u001b[1;32m   2777\u001b[0m     \u001b[0;34m@\u001b[0m\u001b[0mproperty\u001b[0m\u001b[0;34m\u001b[0m\u001b[0;34m\u001b[0m\u001b[0m\n",
      "\u001b[0;32m~/anaconda3/lib/python3.7/site-packages/pandas/core/internals/blocks.py\u001b[0m in \u001b[0;36m__init__\u001b[0;34m(self, values, placement, ndim)\u001b[0m\n\u001b[1;32m    126\u001b[0m             raise ValueError(\n\u001b[1;32m    127\u001b[0m                 \u001b[0;34m\"Wrong number of items passed {val}, placement implies \"\u001b[0m\u001b[0;34m\u001b[0m\u001b[0;34m\u001b[0m\u001b[0m\n\u001b[0;32m--> 128\u001b[0;31m                 \u001b[0;34m\"{mgr}\"\u001b[0m\u001b[0;34m.\u001b[0m\u001b[0mformat\u001b[0m\u001b[0;34m(\u001b[0m\u001b[0mval\u001b[0m\u001b[0;34m=\u001b[0m\u001b[0mlen\u001b[0m\u001b[0;34m(\u001b[0m\u001b[0mself\u001b[0m\u001b[0;34m.\u001b[0m\u001b[0mvalues\u001b[0m\u001b[0;34m)\u001b[0m\u001b[0;34m,\u001b[0m \u001b[0mmgr\u001b[0m\u001b[0;34m=\u001b[0m\u001b[0mlen\u001b[0m\u001b[0;34m(\u001b[0m\u001b[0mself\u001b[0m\u001b[0;34m.\u001b[0m\u001b[0mmgr_locs\u001b[0m\u001b[0;34m)\u001b[0m\u001b[0;34m)\u001b[0m\u001b[0;34m\u001b[0m\u001b[0;34m\u001b[0m\u001b[0m\n\u001b[0m\u001b[1;32m    129\u001b[0m             )\n\u001b[1;32m    130\u001b[0m \u001b[0;34m\u001b[0m\u001b[0m\n",
      "\u001b[0;31mValueError\u001b[0m: Wrong number of items passed 1000, placement implies 1"
     ]
    }
   ],
   "source": [
    "test2[\"SnP\"] = test2[\"SNP\"].apply(lambda x: test2[\"REF\"].astype(str)+\"/\"+test2[\"REF\"].astype(str) if x ==\"0/0\"\\\n",
    "                else test2[\"REF\"].astype(str)+\"/\"+test2[\"ALT\"].astype(str))#if x == \"0/1\""
   ]
  },
  {
   "cell_type": "code",
   "execution_count": 25,
   "metadata": {},
   "outputs": [
    {
     "data": {
      "text/plain": [
       "array(['0/0', '0/1', '1/1', '.', '1/2'], dtype=object)"
      ]
     },
     "execution_count": 25,
     "metadata": {},
     "output_type": "execute_result"
    }
   ],
   "source": [
    "df2.SNP.unique()"
   ]
  },
  {
   "cell_type": "code",
   "execution_count": 44,
   "metadata": {},
   "outputs": [],
   "source": [
    "#df[df.SNP==\".\"] #873"
   ]
  },
  {
   "cell_type": "code",
   "execution_count": 43,
   "metadata": {},
   "outputs": [],
   "source": [
    "#df[df[\"POS\"]==231051]"
   ]
  },
  {
   "cell_type": "code",
   "execution_count": 42,
   "metadata": {},
   "outputs": [],
   "source": [
    "#df2[df2.SNP==\".\"] #875"
   ]
  }
 ],
 "metadata": {
  "kernelspec": {
   "display_name": "Python 3",
   "language": "python",
   "name": "python3"
  },
  "language_info": {
   "codemirror_mode": {
    "name": "ipython",
    "version": 3
   },
   "file_extension": ".py",
   "mimetype": "text/x-python",
   "name": "python",
   "nbconvert_exporter": "python",
   "pygments_lexer": "ipython3",
   "version": "3.7.4"
  }
 },
 "nbformat": 4,
 "nbformat_minor": 2
}
