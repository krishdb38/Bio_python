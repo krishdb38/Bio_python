{
 "cells": [
  {
   "cell_type": "code",
   "execution_count": 2,
   "metadata": {},
   "outputs": [],
   "source": [
    "import pandas as pd\n",
    "import numpy as np\n",
    "import matplotlib.pyplot as plt\n",
    "from matplotlib.colors import ListedColormap\n",
    "import seaborn as sns\n",
    "from collections import Counter\n",
    "\n",
    "import warnings\n",
    "warnings.filterwarnings(\"ignore\")"
   ]
  },
  {
   "cell_type": "code",
   "execution_count": 3,
   "metadata": {},
   "outputs": [],
   "source": [
    "path = \"/BiO/Preterm/raw_data/\""
   ]
  },
  {
   "cell_type": "code",
   "execution_count": null,
   "metadata": {},
   "outputs": [],
   "source": [
    "#df = pd.read_csv(path+\"case_control.csv\",dtype = object, low_memory=False)"
   ]
  },
  {
   "cell_type": "code",
   "execution_count": null,
   "metadata": {},
   "outputs": [],
   "source": [
    "df.shape"
   ]
  },
  {
   "cell_type": "code",
   "execution_count": null,
   "metadata": {},
   "outputs": [],
   "source": [
    "df.head(2)"
   ]
  },
  {
   "cell_type": "code",
   "execution_count": null,
   "metadata": {},
   "outputs": [],
   "source": [
    "#df.columns\n",
    "pos = [75245928, 20326677, 130898247]\n",
    "#df[df.POS.isin(pos)]"
   ]
  },
  {
   "cell_type": "markdown",
   "metadata": {},
   "source": [
    "## We take out 100 % SNP in Case  Only"
   ]
  },
  {
   "cell_type": "code",
   "execution_count": null,
   "metadata": {},
   "outputs": [],
   "source": [
    "df.columns"
   ]
  },
  {
   "cell_type": "code",
   "execution_count": 6,
   "metadata": {},
   "outputs": [],
   "source": [
    "cas_col = ['1119_CS', '910_CS', '873_CS','880_CS','1282_CS','1584_CS','875_CS','1009_CS','1489_CS','989_CS']\n",
    "con_col = ['1093_CNT', '1134_CNT', '1293_CNT', '1428_CNT', '1477_CNT', '1481_CNT','1557_CNT', '1591_CNT', \\\n",
    "           '1316_CNT', '1389_CNT']"
   ]
  },
  {
   "cell_type": "code",
   "execution_count": null,
   "metadata": {},
   "outputs": [],
   "source": [
    "case_control_100 = df[(df.loc[:,con_col].isnull().sum(axis =1)>9) \n",
    "    &(df.loc[:,cas_col].isnull().sum(axis =1)<1)]"
   ]
  },
  {
   "cell_type": "code",
   "execution_count": null,
   "metadata": {},
   "outputs": [],
   "source": [
    "case_control_100\n",
    "case_control_100.to_csv(path+\"case_control_100.csv\",index = False)"
   ]
  },
  {
   "cell_type": "markdown",
   "metadata": {},
   "source": [
    "## Again Just Opposite  100% SNP in Control but not in Case"
   ]
  },
  {
   "cell_type": "code",
   "execution_count": null,
   "metadata": {},
   "outputs": [],
   "source": [
    "control_case_100 = df[(df.loc[:,con_col].isnull().sum(axis =1)<1) \n",
    "    &(df.loc[:,cas_col].isnull().sum(axis =1)>9)]"
   ]
  },
  {
   "cell_type": "code",
   "execution_count": null,
   "metadata": {},
   "outputs": [],
   "source": [
    "control_case_100\n",
    "#Save this for Future Fast Processing\n",
    "#control_case_100.to_csv(path+\"control_case_100.csv\",index=False)"
   ]
  },
  {
   "cell_type": "markdown",
   "metadata": {},
   "source": [
    "## Since 100 % may not always be Found so lets Think For 90% with many Factors"
   ]
  },
  {
   "cell_type": "code",
   "execution_count": null,
   "metadata": {},
   "outputs": [],
   "source": [
    "case_con_90= df[(df.loc[:,con_col].isnull().sum(axis =1)>9) #na in Control But Not in Case\n",
    "    &(df.loc[:,cas_col].isnull().sum(axis =1)<2)]"
   ]
  },
  {
   "cell_type": "code",
   "execution_count": null,
   "metadata": {},
   "outputs": [],
   "source": [
    "case_con_90[\"CHRM_POS\"] = (case_con_90[\"CHROM\"]+\"_\"+case_con_90.POS.astype(str))\n",
    "case_con_90 = case_con_90.rename(index= case_con_90[\"CHRM_POS\"])#.drop(columns=[\"POS\",\"CHROM\"])\n",
    "#case_con.head(2)"
   ]
  },
  {
   "cell_type": "code",
   "execution_count": null,
   "metadata": {
    "scrolled": true
   },
   "outputs": [],
   "source": [
    "fig = plt.figure(figsize=(15,10))\n",
    "plt.title(\"Heat Map REF and ALT\")\n",
    "plt.xlabel(\"Case(c) & Control(cn)\")\n",
    "plt.ylabel(\"Position of Sequence (SNP)\")\n",
    "sns.heatmap(case_con_90.loc[:,cas_col+con_col].isnull(),cmap=ListedColormap(['red','green']),\\\n",
    "            cbar = False ,linewidth = 0.2,annot = True)\n",
    "plt.savefig(\"../heatMeap_case_control_90_.png\")\n",
    "plt.show\n",
    "#y Index is Not Proper Set Pos\n",
    "\n",
    "#Cool Warm is Con & Case cmap=\"coolwarm\""
   ]
  },
  {
   "cell_type": "code",
   "execution_count": null,
   "metadata": {},
   "outputs": [],
   "source": [
    "sns.countplot(case_con_90[\"CHROM\"])\n",
    "plt.xlabel(\"Chromosome Name\")\n",
    "plt.ylabel(\"Repeting Count\")\n",
    "plt.savefig(\"../chr_n_Rep_90.png\")"
   ]
  },
  {
   "cell_type": "markdown",
   "metadata": {},
   "source": [
    "## Check For 80 %"
   ]
  },
  {
   "cell_type": "code",
   "execution_count": null,
   "metadata": {},
   "outputs": [],
   "source": [
    "#We can see that the Case 2 People 1584 and 880 are exception"
   ]
  },
  {
   "cell_type": "code",
   "execution_count": null,
   "metadata": {},
   "outputs": [],
   "source": [
    "case_con_80= df[(df.loc[:,con_col].isnull().sum(axis =1)>8) #na in Control But Not in Case\n",
    "    &(df.loc[:,cas_col].isnull().sum(axis =1)<2)]"
   ]
  },
  {
   "cell_type": "code",
   "execution_count": null,
   "metadata": {},
   "outputs": [],
   "source": [
    "case_con_80[\"CHRM_POS\"] = (case_con_80[\"CHROM\"]+\"_\"+case_con_80.POS.astype(str))\n",
    "case_con_80 = case_con_80.rename(index= case_con_80[\"CHRM_POS\"])#.drop(columns=[\"POS\",\"CHROM\"])\n",
    "#case_con.head(2)"
   ]
  },
  {
   "cell_type": "code",
   "execution_count": null,
   "metadata": {},
   "outputs": [],
   "source": [
    "case_con_80.shape"
   ]
  },
  {
   "cell_type": "code",
   "execution_count": null,
   "metadata": {},
   "outputs": [],
   "source": [
    "fig = plt.figure(figsize=(20,15))\n",
    "plt.title(\"Heat Map REF and ALT\")\n",
    "plt.xlabel(\"Case(c) & Control(cn)\")\n",
    "plt.ylabel(\"Position of Sequence (SNP)\")\n",
    "sns.heatmap(case_con_80.loc[:,cas_col+con_col].isnull(),cmap=ListedColormap(['red','green']),\\\n",
    "            cbar = False ,linewidth = 0.2,annot = True)\n",
    "plt.savefig(\"../heatMeap_case_control_80_.png\")\n",
    "plt.show\n",
    "#y Index is Not Proper Set Pos\n",
    "\n",
    "#Cool Warm is Con & Case cmap=\"coolwarm\" cmap=ListedColormap(['red','green'])"
   ]
  },
  {
   "cell_type": "code",
   "execution_count": null,
   "metadata": {},
   "outputs": [],
   "source": [
    "sns.countplot(case_con_80[\"CHROM\"])\n",
    "plt.xlabel(\"Chromosome Name\")\n",
    "plt.ylabel(\"Repeting Count\")\n",
    "plt.savefig(\"../chr_n_Rep_80.png\")"
   ]
  },
  {
   "cell_type": "code",
   "execution_count": null,
   "metadata": {},
   "outputs": [],
   "source": [
    "#Check with 70%"
   ]
  },
  {
   "cell_type": "code",
   "execution_count": null,
   "metadata": {},
   "outputs": [],
   "source": [
    "case_con_70= df[(df.loc[:,con_col].isnull().sum(axis =1)>7) #na in Control But Not in Case\n",
    "    &(df.loc[:,cas_col].isnull().sum(axis =1)<3)]"
   ]
  },
  {
   "cell_type": "markdown",
   "metadata": {},
   "source": [
    "## let's see the Aggregate Figure"
   ]
  },
  {
   "cell_type": "code",
   "execution_count": null,
   "metadata": {},
   "outputs": [],
   "source": [
    "#Save csv File for Later Fast Processing\n",
    "case_control_90.to_csv(path+\"case_control_90.csv\",index= False)"
   ]
  },
  {
   "cell_type": "code",
   "execution_count": null,
   "metadata": {},
   "outputs": [],
   "source": [
    "case_control_90.head(2)"
   ]
  },
  {
   "cell_type": "code",
   "execution_count": null,
   "metadata": {},
   "outputs": [],
   "source": [
    "#case_control_90[\"CHRM_POS\"] = (case_control_90[\"CHROM\"]+\"_\"+case_control_90.POS.astype(str))\n",
    "#case_control_90 = case_control_90.rename(index= case_control_90[\"CHRM_POS\"])#.drop(columns=[\"POS\",\"CHROM\"])\n",
    "\n",
    "#case_con[\"CHRM_POS\"] = (case_con[\"CHROM\"]+\"_\"+case_con.POS.astype(str))\n",
    "#case_con = case_con.rename(index= case_con[\"CHRM_POS\"])#.drop(columns=[\"POS\",\"CHROM\"])\n",
    "#case_con.head(2)\n"
   ]
  },
  {
   "cell_type": "code",
   "execution_count": null,
   "metadata": {},
   "outputs": [],
   "source": [
    "#case_control_90.head()"
   ]
  },
  {
   "cell_type": "code",
   "execution_count": null,
   "metadata": {},
   "outputs": [],
   "source": [
    "#case_con.head()"
   ]
  },
  {
   "cell_type": "code",
   "execution_count": null,
   "metadata": {},
   "outputs": [],
   "source": []
  },
  {
   "cell_type": "markdown",
   "metadata": {},
   "source": [
    "## Just Testing with in 80 %"
   ]
  },
  {
   "cell_type": "code",
   "execution_count": null,
   "metadata": {},
   "outputs": [],
   "source": [
    "con_case= df[(df.loc[:,con_col].isnull().sum(axis =1)<2) #na not in Con but in Case\n",
    "    &(df.loc[:,case_col].isnull().sum(axis =1)>8)] #Welcome NaN \n",
    "\n",
    "#Doing at 90 % "
   ]
  },
  {
   "cell_type": "code",
   "execution_count": null,
   "metadata": {},
   "outputs": [],
   "source": [
    "#case_con.to_csv(path +\"con_on_case.csv\",index=False)\n",
    "#Read this File Directly From Here"
   ]
  },
  {
   "cell_type": "code",
   "execution_count": null,
   "metadata": {},
   "outputs": [],
   "source": []
  },
  {
   "cell_type": "code",
   "execution_count": null,
   "metadata": {},
   "outputs": [],
   "source": [
    "case_con= df[(df.loc[:,con_col].isnull().sum(axis =1)>8) #na in Control But Not in Case\n",
    "    &(df.loc[:,cas_col].isnull().sum(axis =1)<2)]"
   ]
  },
  {
   "cell_type": "code",
   "execution_count": null,
   "metadata": {},
   "outputs": [],
   "source": [
    "case_con.head()"
   ]
  },
  {
   "cell_type": "code",
   "execution_count": null,
   "metadata": {},
   "outputs": [],
   "source": [
    "#case_col = [\"1c\",\"2c\",\"3c\",\"4c\",\"5c\",\"6c\",\"7c\",\"8c\",\"9c\",\"10c\"]\n",
    "#con_col = [\"1cn\",\"2cn\",\"3cn\",\"4cn\",\"5cn\",\"6cn\",\"7cn\",\"8cn\",'9cn','10cn']"
   ]
  },
  {
   "cell_type": "code",
   "execution_count": null,
   "metadata": {},
   "outputs": [],
   "source": [
    "#case_con.to_csv(path +\"../case_on_control_whole80.csv\",index=False)\n",
    "#con_case.to_csv(path+\"../con_case_whole.csv\",index=False)\n",
    "#when need this file read\n",
    "\n",
    "#case_con = pd.read_csv(\"/BiO/Preterm/case_on_control_whole.csv\")"
   ]
  },
  {
   "cell_type": "code",
   "execution_count": null,
   "metadata": {},
   "outputs": [],
   "source": [
    "#case_con_merge = pd.DataFrame(columns= list(case_con.columns))\n",
    "#case_con_merge.head()"
   ]
  },
  {
   "cell_type": "code",
   "execution_count": null,
   "metadata": {
    "scrolled": true
   },
   "outputs": [],
   "source": [
    "#for easy of Use we merge both case & Control\n",
    "#case_con_merge = case_con.merge(con_case,how=\"outer\",on =list(case_con.columns))\n",
    "#case_con_merge.to_csv(path+\"../con_case_merge.csv\",index=False)"
   ]
  },
  {
   "cell_type": "code",
   "execution_count": null,
   "metadata": {},
   "outputs": [],
   "source": [
    "#case_con_merge.columns\n",
    "#case_con.shape"
   ]
  },
  {
   "cell_type": "code",
   "execution_count": null,
   "metadata": {},
   "outputs": [],
   "source": [
    "case_con.head(2)"
   ]
  },
  {
   "cell_type": "code",
   "execution_count": null,
   "metadata": {
    "scrolled": true
   },
   "outputs": [],
   "source": [
    "case_con[\"CHRM_POS\"] = (case_con[\"CHROM\"]+\"_\"+case_con.POS.astype(str))\n",
    "case_con = case_con.rename(index= case_con[\"CHRM_POS\"])#.drop(columns=[\"POS\",\"CHROM\"])\n",
    "case_con.head(2)"
   ]
  },
  {
   "cell_type": "code",
   "execution_count": null,
   "metadata": {},
   "outputs": [],
   "source": [
    "case_con.shape == case_control_90.shape"
   ]
  },
  {
   "cell_type": "code",
   "execution_count": null,
   "metadata": {},
   "outputs": [],
   "source": [
    "fig = plt.figure(figsize=(10,10))\n",
    "plt.title(\"Heat Map REF and ALT\")\n",
    "plt.xlabel(\"Case(c) & Control(cn)\")\n",
    "plt.ylabel(\"Position of Sequence (SNP)\")\n",
    "sns.heatmap(case_con.loc[:,cas_col+con_col].isnull(),cmap=ListedColormap(['red','green']),\\\n",
    "            cbar = False ,linewidth = 0.2,annot = True)\n",
    "plt.savefig(\"../heatMeap_case_control_70_.png\")\n",
    "plt.show\n",
    "#y Index is Not Proper Set Pos\n",
    "\n",
    "#Cool Warm is Con & Case cmap=\"coolwarm\""
   ]
  },
  {
   "cell_type": "code",
   "execution_count": null,
   "metadata": {},
   "outputs": [],
   "source": [
    "case_con.shape"
   ]
  },
  {
   "cell_type": "code",
   "execution_count": null,
   "metadata": {},
   "outputs": [],
   "source": [
    "plt.figure(figsize=(15,8))\n",
    "sns.countplot(case_con[\"CHROM\"],\n",
    "             order = case_con.CHROM.value_counts().index)\n",
    "plt.xlabel(\"Chromosome Name_POsition\")\n",
    "plt.ylabel(\"Repeting Count\")\n",
    "plt.savefig(\"../CHRM_count_80.png\")"
   ]
  },
  {
   "cell_type": "code",
   "execution_count": null,
   "metadata": {},
   "outputs": [],
   "source": [
    "con_case[\"CHRM_POS\"] = (con_case[\"CHROM\"]+\"_\"+con_case.POS.astype(str))\n",
    "con_case= con_case.rename(index= con_case[\"CHRM_POS\"])#drop(columns=[\"POS\",\"CHROM\"])\n",
    "con_case.head()"
   ]
  },
  {
   "cell_type": "code",
   "execution_count": null,
   "metadata": {},
   "outputs": [],
   "source": [
    "fig = plt.figure(figsize=(10,10))\n",
    "plt.title(\"Heat Map REF and ALT\")\n",
    "plt.xlabel(\"Case(c) & Control(cn)\")\n",
    "plt.ylabel(\"Position of Sequence (SNP)\")\n",
    "sns.heatmap(con_case.loc[:,case_col+con_col].isnull(),cmap=ListedColormap(['red','green']),\\\n",
    "            cbar = False ,linewidth = 0.2,annot = True)\n",
    "plt.savefig(\"../heatMap_control_case_80.png\")\n",
    "plt.show\n",
    "#y Index is Not Proper Set Pos\n",
    "\n",
    "#Cool Warm is Con & Case cmap=\"coolwarm\"  cmap=ListedColormap(['red','green'])"
   ]
  },
  {
   "cell_type": "markdown",
   "metadata": {},
   "source": [
    "# Part 2 Method Of Analysis"
   ]
  },
  {
   "cell_type": "markdown",
   "metadata": {},
   "source": [
    "## Method 2"
   ]
  },
  {
   "cell_type": "code",
   "execution_count": null,
   "metadata": {},
   "outputs": [],
   "source": [
    "#Now We Analyse "
   ]
  },
  {
   "cell_type": "code",
   "execution_count": null,
   "metadata": {},
   "outputs": [],
   "source": [
    "print(df.shape)\n",
    "df =df[df.isna().sum(axis=1)<5]\n",
    "df.shape"
   ]
  },
  {
   "cell_type": "code",
   "execution_count": null,
   "metadata": {},
   "outputs": [],
   "source": [
    "df.head()"
   ]
  },
  {
   "cell_type": "markdown",
   "metadata": {},
   "source": [
    "### Read From Here Direct Fast"
   ]
  },
  {
   "cell_type": "code",
   "execution_count": 36,
   "metadata": {},
   "outputs": [],
   "source": [
    "#df.head()\n",
    "#df.to_csv(path+\"case_control_na_moved.csv\",index=False)\n",
    "df = pd.read_csv(path + \"case_control_na_moved.csv\")"
   ]
  },
  {
   "cell_type": "markdown",
   "metadata": {},
   "source": [
    "# Adding all value in a single "
   ]
  },
  {
   "cell_type": "code",
   "execution_count": 37,
   "metadata": {},
   "outputs": [],
   "source": [
    "df[\"Case\"]= df[cas_col].apply(lambda row  :\",\".join(row.values.astype(str)),axis = 1)\n",
    "df[\"Control\"] = df[con_col].apply(lambda row : \",\".join(row.values.astype(str)),axis =1)"
   ]
  },
  {
   "cell_type": "code",
   "execution_count": 38,
   "metadata": {},
   "outputs": [
    {
     "name": "stdout",
     "output_type": "stream",
     "text": [
      "(7468522, 25)\n"
     ]
    },
    {
     "data": {
      "text/html": [
       "<div>\n",
       "<style scoped>\n",
       "    .dataframe tbody tr th:only-of-type {\n",
       "        vertical-align: middle;\n",
       "    }\n",
       "\n",
       "    .dataframe tbody tr th {\n",
       "        vertical-align: top;\n",
       "    }\n",
       "\n",
       "    .dataframe thead th {\n",
       "        text-align: right;\n",
       "    }\n",
       "</style>\n",
       "<table border=\"1\" class=\"dataframe\">\n",
       "  <thead>\n",
       "    <tr style=\"text-align: right;\">\n",
       "      <th></th>\n",
       "      <th>CHROM</th>\n",
       "      <th>POS</th>\n",
       "      <th>REF</th>\n",
       "      <th>1119_CS</th>\n",
       "      <th>910_CS</th>\n",
       "      <th>873_CS</th>\n",
       "      <th>880_CS</th>\n",
       "      <th>1282_CS</th>\n",
       "      <th>1584_CS</th>\n",
       "      <th>875_CS</th>\n",
       "      <th>...</th>\n",
       "      <th>1293_CNT</th>\n",
       "      <th>1428_CNT</th>\n",
       "      <th>1477_CNT</th>\n",
       "      <th>1481_CNT</th>\n",
       "      <th>1557_CNT</th>\n",
       "      <th>1591_CNT</th>\n",
       "      <th>1316_CNT</th>\n",
       "      <th>1389_CNT</th>\n",
       "      <th>Case</th>\n",
       "      <th>Control</th>\n",
       "    </tr>\n",
       "  </thead>\n",
       "  <tbody>\n",
       "    <tr>\n",
       "      <th>0</th>\n",
       "      <td>chr1</td>\n",
       "      <td>13656</td>\n",
       "      <td>CAG</td>\n",
       "      <td>CAG/C</td>\n",
       "      <td>CAG/C</td>\n",
       "      <td>CAG/C</td>\n",
       "      <td>CAG/C</td>\n",
       "      <td>CAG/C</td>\n",
       "      <td>CAG/C</td>\n",
       "      <td>NaN</td>\n",
       "      <td>...</td>\n",
       "      <td>CAG/C</td>\n",
       "      <td>CAG/C</td>\n",
       "      <td>CAG/C</td>\n",
       "      <td>CAG/C</td>\n",
       "      <td>NaN</td>\n",
       "      <td>NaN</td>\n",
       "      <td>CAG/C</td>\n",
       "      <td>CAG/C</td>\n",
       "      <td>CAG/C,CAG/C,CAG/C,CAG/C,CAG/C,CAG/C,nan,CAG/C,...</td>\n",
       "      <td>CAG/C,CAG/C,CAG/C,CAG/C,CAG/C,CAG/C,nan,nan,CA...</td>\n",
       "    </tr>\n",
       "    <tr>\n",
       "      <th>1</th>\n",
       "      <td>chr1</td>\n",
       "      <td>15211</td>\n",
       "      <td>T</td>\n",
       "      <td>T/G</td>\n",
       "      <td>T/G</td>\n",
       "      <td>G/G</td>\n",
       "      <td>T/G</td>\n",
       "      <td>T/G</td>\n",
       "      <td>T/G</td>\n",
       "      <td>NaN</td>\n",
       "      <td>...</td>\n",
       "      <td>T/G</td>\n",
       "      <td>NaN</td>\n",
       "      <td>T/G</td>\n",
       "      <td>T/G</td>\n",
       "      <td>T/G</td>\n",
       "      <td>T/G</td>\n",
       "      <td>T/G</td>\n",
       "      <td>T/G</td>\n",
       "      <td>T/G,T/G,G/G,T/G,T/G,T/G,nan,T/G,T/G,nan</td>\n",
       "      <td>T/G,T/G,T/G,nan,T/G,T/G,T/G,T/G,T/G,T/G</td>\n",
       "    </tr>\n",
       "  </tbody>\n",
       "</table>\n",
       "<p>2 rows × 25 columns</p>\n",
       "</div>"
      ],
      "text/plain": [
       "  CHROM    POS  REF 1119_CS 910_CS 873_CS 880_CS 1282_CS 1584_CS 875_CS  ...  \\\n",
       "0  chr1  13656  CAG   CAG/C  CAG/C  CAG/C  CAG/C   CAG/C   CAG/C    NaN  ...   \n",
       "1  chr1  15211    T     T/G    T/G    G/G    T/G     T/G     T/G    NaN  ...   \n",
       "\n",
       "  1293_CNT 1428_CNT 1477_CNT 1481_CNT 1557_CNT 1591_CNT 1316_CNT 1389_CNT  \\\n",
       "0    CAG/C    CAG/C    CAG/C    CAG/C      NaN      NaN    CAG/C    CAG/C   \n",
       "1      T/G      NaN      T/G      T/G      T/G      T/G      T/G      T/G   \n",
       "\n",
       "                                                Case  \\\n",
       "0  CAG/C,CAG/C,CAG/C,CAG/C,CAG/C,CAG/C,nan,CAG/C,...   \n",
       "1            T/G,T/G,G/G,T/G,T/G,T/G,nan,T/G,T/G,nan   \n",
       "\n",
       "                                             Control  \n",
       "0  CAG/C,CAG/C,CAG/C,CAG/C,CAG/C,CAG/C,nan,nan,CA...  \n",
       "1            T/G,T/G,T/G,nan,T/G,T/G,T/G,T/G,T/G,T/G  \n",
       "\n",
       "[2 rows x 25 columns]"
      ]
     },
     "execution_count": 38,
     "metadata": {},
     "output_type": "execute_result"
    }
   ],
   "source": [
    "print(df.shape)\n",
    "df.head(2)"
   ]
  },
  {
   "cell_type": "markdown",
   "metadata": {},
   "source": [
    "## Now We keep all datas (all Columns)"
   ]
  },
  {
   "cell_type": "code",
   "execution_count": null,
   "metadata": {},
   "outputs": [],
   "source": [
    "#df = df.loc[:,[\"CHROM\",\"POS\",\"REF\",\"case\",\"Control\"]]\n",
    "#print(df.shape)\n",
    "#df = df[df.loc[:,[\"CHROM\",\"POS\",\"REF\",\"Control\",\"Case\"]]]\n",
    "#df= df.loc[:,[\"CHROM\",\"POS\",\"REF\",\"Case\",\"Control\"]]"
   ]
  },
  {
   "cell_type": "code",
   "execution_count": 9,
   "metadata": {},
   "outputs": [
    {
     "data": {
      "text/plain": [
       "(7083271, 25)"
      ]
     },
     "execution_count": 9,
     "metadata": {},
     "output_type": "execute_result"
    }
   ],
   "source": [
    "#df =df[~(df.Control == df.Case)]\n",
    "#df.shape"
   ]
  },
  {
   "cell_type": "code",
   "execution_count": 39,
   "metadata": {},
   "outputs": [],
   "source": [
    "df[\"Control_Max\"] = df.Control.apply(lambda x:(Counter(x.split(\",\"))).most_common(1))\n",
    "df[\"Case_Max\"] = df.Case.apply(lambda x:(Counter(x.split(\",\"))).most_common(1))"
   ]
  },
  {
   "cell_type": "code",
   "execution_count": 11,
   "metadata": {},
   "outputs": [
    {
     "data": {
      "text/plain": [
       "(7083271, 27)"
      ]
     },
     "execution_count": 11,
     "metadata": {},
     "output_type": "execute_result"
    }
   ],
   "source": [
    "df.shape"
   ]
  },
  {
   "cell_type": "code",
   "execution_count": 45,
   "metadata": {},
   "outputs": [],
   "source": [
    "#We Only Need to keep different data to Each Other \n",
    "#If same Values are Repeating Highly in Both Case and Control then We Drop these kinds of Datas\n",
    "#equal = (df.Control_Max.map(lambda x : x[0][0]) !=df.Case_Max.map(lambda x : x[0][0])) \n",
    "no_equal = (df.Control_Max.map(lambda x : x[0][0]) !=df.Case_Max.map(lambda x : x[0][0])) "
   ]
  },
  {
   "cell_type": "code",
   "execution_count": 15,
   "metadata": {},
   "outputs": [
    {
     "data": {
      "text/plain": [
       "0    False\n",
       "1    False\n",
       "dtype: bool"
      ]
     },
     "execution_count": 15,
     "metadata": {},
     "output_type": "execute_result"
    }
   ],
   "source": [
    "no_equal.head(2)"
   ]
  },
  {
   "cell_type": "markdown",
   "metadata": {},
   "source": [
    "## For Fast Processing We assign df to only No Eq datas"
   ]
  },
  {
   "cell_type": "code",
   "execution_count": 47,
   "metadata": {},
   "outputs": [],
   "source": [
    "df = df[no_equal]\n",
    "#no_equal.shape, df.shape"
   ]
  },
  {
   "cell_type": "markdown",
   "metadata": {},
   "source": [
    "## Till Now the data Size is Big so reduce to Greater than 8\n",
    "#### Now We Do Percent wise Comparison\n",
    "## Take datas that are more than 8"
   ]
  },
  {
   "cell_type": "code",
   "execution_count": null,
   "metadata": {},
   "outputs": [],
   "source": [
    "#Both method Give the same output\n",
    "#df_80=df[(df.Control_Max.map(lambda x : x[0][1]) >8) & (df.Case_Max.map(lambda x : x[0][1]) >8)]"
   ]
  },
  {
   "cell_type": "code",
   "execution_count": 56,
   "metadata": {},
   "outputs": [],
   "source": [
    "fil_co = [\"Control_Max\",\"Case_Max\"]\n",
    "#First Condition is for First input Control Max and Second is for Case max \n",
    "Result= df[fil_co].apply(lambda row  : True if ((row.values[0][0][1]>8)&(row.values[1][0][1]>8)) else False , axis=1)"
   ]
  },
  {
   "cell_type": "code",
   "execution_count": 64,
   "metadata": {},
   "outputs": [],
   "source": [
    "#Save 80 % more different Datas for Fast Processing\n",
    "#no_eq_80 = df[Result]\n",
    "#no_eq_80.isin(df_80) , df_80.shape"
   ]
  },
  {
   "cell_type": "markdown",
   "metadata": {},
   "source": [
    "### Take Out data With 90 % Accuracy"
   ]
  },
  {
   "cell_type": "code",
   "execution_count": 65,
   "metadata": {},
   "outputs": [],
   "source": [
    "#df_90=df[(df.Control_Max.map(lambda x : x[0][1]) >8) & (df.Case_Max.map(lambda x : x[0][1]) >8)]\n",
    "\n",
    "#Since we no need to chekc whole data because we already Reduced to 80 %\n",
    "\n",
    "df_90=df_80[(df_80.Control_Max.map(lambda x : x[0][1]) >8) & (df_80.Case_Max.map(lambda x : x[0][1]) >8)]"
   ]
  },
  {
   "cell_type": "code",
   "execution_count": 66,
   "metadata": {
    "scrolled": true
   },
   "outputs": [
    {
     "data": {
      "text/html": [
       "<div>\n",
       "<style scoped>\n",
       "    .dataframe tbody tr th:only-of-type {\n",
       "        vertical-align: middle;\n",
       "    }\n",
       "\n",
       "    .dataframe tbody tr th {\n",
       "        vertical-align: top;\n",
       "    }\n",
       "\n",
       "    .dataframe thead th {\n",
       "        text-align: right;\n",
       "    }\n",
       "</style>\n",
       "<table border=\"1\" class=\"dataframe\">\n",
       "  <thead>\n",
       "    <tr style=\"text-align: right;\">\n",
       "      <th></th>\n",
       "      <th>CHROM</th>\n",
       "      <th>POS</th>\n",
       "      <th>REF</th>\n",
       "      <th>1119_CS</th>\n",
       "      <th>910_CS</th>\n",
       "      <th>873_CS</th>\n",
       "      <th>880_CS</th>\n",
       "      <th>1282_CS</th>\n",
       "      <th>1584_CS</th>\n",
       "      <th>875_CS</th>\n",
       "      <th>...</th>\n",
       "      <th>1477_CNT</th>\n",
       "      <th>1481_CNT</th>\n",
       "      <th>1557_CNT</th>\n",
       "      <th>1591_CNT</th>\n",
       "      <th>1316_CNT</th>\n",
       "      <th>1389_CNT</th>\n",
       "      <th>Case</th>\n",
       "      <th>Control</th>\n",
       "      <th>Control_Max</th>\n",
       "      <th>Case_Max</th>\n",
       "    </tr>\n",
       "  </thead>\n",
       "  <tbody>\n",
       "    <tr>\n",
       "      <th>82000</th>\n",
       "      <td>chr1</td>\n",
       "      <td>85980715</td>\n",
       "      <td>C</td>\n",
       "      <td>C/T</td>\n",
       "      <td>C/T</td>\n",
       "      <td>C/T</td>\n",
       "      <td>C/T</td>\n",
       "      <td>C/T</td>\n",
       "      <td>C/T</td>\n",
       "      <td>C/T</td>\n",
       "      <td>...</td>\n",
       "      <td>C/CAT</td>\n",
       "      <td>C/CAT</td>\n",
       "      <td>C/CAT</td>\n",
       "      <td>C/CAT</td>\n",
       "      <td>C/CAT</td>\n",
       "      <td>C/CAT</td>\n",
       "      <td>C/T,C/T,C/T,C/T,C/T,C/T,C/T,C/T,C/T,C/T</td>\n",
       "      <td>C/CAT,C/T,C/CAT,C/CAT,C/CAT,C/CAT,C/CAT,C/CAT,...</td>\n",
       "      <td>[(C/CAT, 9)]</td>\n",
       "      <td>[(C/T, 10)]</td>\n",
       "    </tr>\n",
       "    <tr>\n",
       "      <th>82256</th>\n",
       "      <td>chr1</td>\n",
       "      <td>85980715</td>\n",
       "      <td>C</td>\n",
       "      <td>C/T</td>\n",
       "      <td>C/T</td>\n",
       "      <td>C/T</td>\n",
       "      <td>C/T</td>\n",
       "      <td>C/T</td>\n",
       "      <td>C/T</td>\n",
       "      <td>C/T</td>\n",
       "      <td>...</td>\n",
       "      <td>C/CAT</td>\n",
       "      <td>C/CAT</td>\n",
       "      <td>C/CAT</td>\n",
       "      <td>C/CAT</td>\n",
       "      <td>C/CAT</td>\n",
       "      <td>C/CAT</td>\n",
       "      <td>C/T,C/T,C/T,C/T,C/T,C/T,C/T,C/T,C/T,C/CAT</td>\n",
       "      <td>C/CAT,C/T,C/CAT,C/CAT,C/CAT,C/CAT,C/CAT,C/CAT,...</td>\n",
       "      <td>[(C/CAT, 9)]</td>\n",
       "      <td>[(C/T, 9)]</td>\n",
       "    </tr>\n",
       "    <tr>\n",
       "      <th>82512</th>\n",
       "      <td>chr1</td>\n",
       "      <td>85980715</td>\n",
       "      <td>C</td>\n",
       "      <td>C/T</td>\n",
       "      <td>C/T</td>\n",
       "      <td>C/T</td>\n",
       "      <td>C/T</td>\n",
       "      <td>C/T</td>\n",
       "      <td>C/T</td>\n",
       "      <td>C/T</td>\n",
       "      <td>...</td>\n",
       "      <td>C/CAT</td>\n",
       "      <td>C/CAT</td>\n",
       "      <td>C/CAT</td>\n",
       "      <td>C/CAT</td>\n",
       "      <td>C/CAT</td>\n",
       "      <td>C/CAT</td>\n",
       "      <td>C/T,C/T,C/T,C/T,C/T,C/T,C/T,C/T,C/CAT,C/T</td>\n",
       "      <td>C/CAT,C/T,C/CAT,C/CAT,C/CAT,C/CAT,C/CAT,C/CAT,...</td>\n",
       "      <td>[(C/CAT, 9)]</td>\n",
       "      <td>[(C/T, 9)]</td>\n",
       "    </tr>\n",
       "    <tr>\n",
       "      <th>83024</th>\n",
       "      <td>chr1</td>\n",
       "      <td>85980715</td>\n",
       "      <td>C</td>\n",
       "      <td>C/T</td>\n",
       "      <td>C/T</td>\n",
       "      <td>C/T</td>\n",
       "      <td>C/T</td>\n",
       "      <td>C/T</td>\n",
       "      <td>C/T</td>\n",
       "      <td>C/T</td>\n",
       "      <td>...</td>\n",
       "      <td>C/CAT</td>\n",
       "      <td>C/CAT</td>\n",
       "      <td>C/CAT</td>\n",
       "      <td>C/CAT</td>\n",
       "      <td>C/CAT</td>\n",
       "      <td>C/CAT</td>\n",
       "      <td>C/T,C/T,C/T,C/T,C/T,C/T,C/T,C/CAT,C/T,C/T</td>\n",
       "      <td>C/CAT,C/T,C/CAT,C/CAT,C/CAT,C/CAT,C/CAT,C/CAT,...</td>\n",
       "      <td>[(C/CAT, 9)]</td>\n",
       "      <td>[(C/T, 9)]</td>\n",
       "    </tr>\n",
       "    <tr>\n",
       "      <th>84048</th>\n",
       "      <td>chr1</td>\n",
       "      <td>85980715</td>\n",
       "      <td>C</td>\n",
       "      <td>C/T</td>\n",
       "      <td>C/T</td>\n",
       "      <td>C/T</td>\n",
       "      <td>C/T</td>\n",
       "      <td>C/T</td>\n",
       "      <td>C/T</td>\n",
       "      <td>C/CAT</td>\n",
       "      <td>...</td>\n",
       "      <td>C/CAT</td>\n",
       "      <td>C/CAT</td>\n",
       "      <td>C/CAT</td>\n",
       "      <td>C/CAT</td>\n",
       "      <td>C/CAT</td>\n",
       "      <td>C/CAT</td>\n",
       "      <td>C/T,C/T,C/T,C/T,C/T,C/T,C/CAT,C/T,C/T,C/T</td>\n",
       "      <td>C/CAT,C/T,C/CAT,C/CAT,C/CAT,C/CAT,C/CAT,C/CAT,...</td>\n",
       "      <td>[(C/CAT, 9)]</td>\n",
       "      <td>[(C/T, 9)]</td>\n",
       "    </tr>\n",
       "    <tr>\n",
       "      <th>...</th>\n",
       "      <td>...</td>\n",
       "      <td>...</td>\n",
       "      <td>...</td>\n",
       "      <td>...</td>\n",
       "      <td>...</td>\n",
       "      <td>...</td>\n",
       "      <td>...</td>\n",
       "      <td>...</td>\n",
       "      <td>...</td>\n",
       "      <td>...</td>\n",
       "      <td>...</td>\n",
       "      <td>...</td>\n",
       "      <td>...</td>\n",
       "      <td>...</td>\n",
       "      <td>...</td>\n",
       "      <td>...</td>\n",
       "      <td>...</td>\n",
       "      <td>...</td>\n",
       "      <td>...</td>\n",
       "      <td>...</td>\n",
       "      <td>...</td>\n",
       "    </tr>\n",
       "    <tr>\n",
       "      <th>6761704</th>\n",
       "      <td>chr17</td>\n",
       "      <td>21521488</td>\n",
       "      <td>T</td>\n",
       "      <td>T/TTC</td>\n",
       "      <td>T/TTC</td>\n",
       "      <td>T/TTC</td>\n",
       "      <td>T/TTC</td>\n",
       "      <td>T/TTC</td>\n",
       "      <td>T/TTC</td>\n",
       "      <td>T/TTC</td>\n",
       "      <td>...</td>\n",
       "      <td>T/TTC</td>\n",
       "      <td>T/A</td>\n",
       "      <td>T/A</td>\n",
       "      <td>T/A</td>\n",
       "      <td>T/A</td>\n",
       "      <td>T/A</td>\n",
       "      <td>T/TTC,T/TTC,T/TTC,T/TTC,T/TTC,T/TTC,T/TTC,T/TT...</td>\n",
       "      <td>T/A,T/A,T/A,T/A,T/TTC,T/A,T/A,T/A,T/A,T/A</td>\n",
       "      <td>[(T/A, 9)]</td>\n",
       "      <td>[(T/TTC, 10)]</td>\n",
       "    </tr>\n",
       "    <tr>\n",
       "      <th>6761736</th>\n",
       "      <td>chr17</td>\n",
       "      <td>21521488</td>\n",
       "      <td>T</td>\n",
       "      <td>T/TTC</td>\n",
       "      <td>T/TTC</td>\n",
       "      <td>T/TTC</td>\n",
       "      <td>T/TTC</td>\n",
       "      <td>T/TTC</td>\n",
       "      <td>T/TTC</td>\n",
       "      <td>T/TTC</td>\n",
       "      <td>...</td>\n",
       "      <td>T/A</td>\n",
       "      <td>T/A</td>\n",
       "      <td>T/A</td>\n",
       "      <td>T/A</td>\n",
       "      <td>T/A</td>\n",
       "      <td>T/A</td>\n",
       "      <td>T/TTC,T/TTC,T/TTC,T/TTC,T/TTC,T/TTC,T/TTC,T/TT...</td>\n",
       "      <td>T/A,T/A,T/A,T/TTC,T/A,T/A,T/A,T/A,T/A,T/A</td>\n",
       "      <td>[(T/A, 9)]</td>\n",
       "      <td>[(T/TTC, 10)]</td>\n",
       "    </tr>\n",
       "    <tr>\n",
       "      <th>6761800</th>\n",
       "      <td>chr17</td>\n",
       "      <td>21521488</td>\n",
       "      <td>T</td>\n",
       "      <td>T/TTC</td>\n",
       "      <td>T/TTC</td>\n",
       "      <td>T/TTC</td>\n",
       "      <td>T/TTC</td>\n",
       "      <td>T/TTC</td>\n",
       "      <td>T/TTC</td>\n",
       "      <td>T/TTC</td>\n",
       "      <td>...</td>\n",
       "      <td>T/A</td>\n",
       "      <td>T/A</td>\n",
       "      <td>T/A</td>\n",
       "      <td>T/A</td>\n",
       "      <td>T/A</td>\n",
       "      <td>T/A</td>\n",
       "      <td>T/TTC,T/TTC,T/TTC,T/TTC,T/TTC,T/TTC,T/TTC,T/TT...</td>\n",
       "      <td>T/A,T/A,T/TTC,T/A,T/A,T/A,T/A,T/A,T/A,T/A</td>\n",
       "      <td>[(T/A, 9)]</td>\n",
       "      <td>[(T/TTC, 10)]</td>\n",
       "    </tr>\n",
       "    <tr>\n",
       "      <th>6761928</th>\n",
       "      <td>chr17</td>\n",
       "      <td>21521488</td>\n",
       "      <td>T</td>\n",
       "      <td>T/TTC</td>\n",
       "      <td>T/TTC</td>\n",
       "      <td>T/TTC</td>\n",
       "      <td>T/TTC</td>\n",
       "      <td>T/TTC</td>\n",
       "      <td>T/TTC</td>\n",
       "      <td>T/TTC</td>\n",
       "      <td>...</td>\n",
       "      <td>T/A</td>\n",
       "      <td>T/A</td>\n",
       "      <td>T/A</td>\n",
       "      <td>T/A</td>\n",
       "      <td>T/A</td>\n",
       "      <td>T/A</td>\n",
       "      <td>T/TTC,T/TTC,T/TTC,T/TTC,T/TTC,T/TTC,T/TTC,T/TT...</td>\n",
       "      <td>T/A,T/TTC,T/A,T/A,T/A,T/A,T/A,T/A,T/A,T/A</td>\n",
       "      <td>[(T/A, 9)]</td>\n",
       "      <td>[(T/TTC, 10)]</td>\n",
       "    </tr>\n",
       "    <tr>\n",
       "      <th>6762184</th>\n",
       "      <td>chr17</td>\n",
       "      <td>21521488</td>\n",
       "      <td>T</td>\n",
       "      <td>T/TTC</td>\n",
       "      <td>T/TTC</td>\n",
       "      <td>T/TTC</td>\n",
       "      <td>T/TTC</td>\n",
       "      <td>T/TTC</td>\n",
       "      <td>T/TTC</td>\n",
       "      <td>T/TTC</td>\n",
       "      <td>...</td>\n",
       "      <td>T/A</td>\n",
       "      <td>T/A</td>\n",
       "      <td>T/A</td>\n",
       "      <td>T/A</td>\n",
       "      <td>T/A</td>\n",
       "      <td>T/A</td>\n",
       "      <td>T/TTC,T/TTC,T/TTC,T/TTC,T/TTC,T/TTC,T/TTC,T/TT...</td>\n",
       "      <td>T/TTC,T/A,T/A,T/A,T/A,T/A,T/A,T/A,T/A,T/A</td>\n",
       "      <td>[(T/A, 9)]</td>\n",
       "      <td>[(T/TTC, 10)]</td>\n",
       "    </tr>\n",
       "  </tbody>\n",
       "</table>\n",
       "<p>732 rows × 27 columns</p>\n",
       "</div>"
      ],
      "text/plain": [
       "         CHROM       POS REF 1119_CS 910_CS 873_CS 880_CS 1282_CS 1584_CS  \\\n",
       "82000     chr1  85980715   C     C/T    C/T    C/T    C/T     C/T     C/T   \n",
       "82256     chr1  85980715   C     C/T    C/T    C/T    C/T     C/T     C/T   \n",
       "82512     chr1  85980715   C     C/T    C/T    C/T    C/T     C/T     C/T   \n",
       "83024     chr1  85980715   C     C/T    C/T    C/T    C/T     C/T     C/T   \n",
       "84048     chr1  85980715   C     C/T    C/T    C/T    C/T     C/T     C/T   \n",
       "...        ...       ...  ..     ...    ...    ...    ...     ...     ...   \n",
       "6761704  chr17  21521488   T   T/TTC  T/TTC  T/TTC  T/TTC   T/TTC   T/TTC   \n",
       "6761736  chr17  21521488   T   T/TTC  T/TTC  T/TTC  T/TTC   T/TTC   T/TTC   \n",
       "6761800  chr17  21521488   T   T/TTC  T/TTC  T/TTC  T/TTC   T/TTC   T/TTC   \n",
       "6761928  chr17  21521488   T   T/TTC  T/TTC  T/TTC  T/TTC   T/TTC   T/TTC   \n",
       "6762184  chr17  21521488   T   T/TTC  T/TTC  T/TTC  T/TTC   T/TTC   T/TTC   \n",
       "\n",
       "        875_CS  ... 1477_CNT 1481_CNT 1557_CNT 1591_CNT 1316_CNT 1389_CNT  \\\n",
       "82000      C/T  ...    C/CAT    C/CAT    C/CAT    C/CAT    C/CAT    C/CAT   \n",
       "82256      C/T  ...    C/CAT    C/CAT    C/CAT    C/CAT    C/CAT    C/CAT   \n",
       "82512      C/T  ...    C/CAT    C/CAT    C/CAT    C/CAT    C/CAT    C/CAT   \n",
       "83024      C/T  ...    C/CAT    C/CAT    C/CAT    C/CAT    C/CAT    C/CAT   \n",
       "84048    C/CAT  ...    C/CAT    C/CAT    C/CAT    C/CAT    C/CAT    C/CAT   \n",
       "...        ...  ...      ...      ...      ...      ...      ...      ...   \n",
       "6761704  T/TTC  ...    T/TTC      T/A      T/A      T/A      T/A      T/A   \n",
       "6761736  T/TTC  ...      T/A      T/A      T/A      T/A      T/A      T/A   \n",
       "6761800  T/TTC  ...      T/A      T/A      T/A      T/A      T/A      T/A   \n",
       "6761928  T/TTC  ...      T/A      T/A      T/A      T/A      T/A      T/A   \n",
       "6762184  T/TTC  ...      T/A      T/A      T/A      T/A      T/A      T/A   \n",
       "\n",
       "                                                      Case  \\\n",
       "82000              C/T,C/T,C/T,C/T,C/T,C/T,C/T,C/T,C/T,C/T   \n",
       "82256            C/T,C/T,C/T,C/T,C/T,C/T,C/T,C/T,C/T,C/CAT   \n",
       "82512            C/T,C/T,C/T,C/T,C/T,C/T,C/T,C/T,C/CAT,C/T   \n",
       "83024            C/T,C/T,C/T,C/T,C/T,C/T,C/T,C/CAT,C/T,C/T   \n",
       "84048            C/T,C/T,C/T,C/T,C/T,C/T,C/CAT,C/T,C/T,C/T   \n",
       "...                                                    ...   \n",
       "6761704  T/TTC,T/TTC,T/TTC,T/TTC,T/TTC,T/TTC,T/TTC,T/TT...   \n",
       "6761736  T/TTC,T/TTC,T/TTC,T/TTC,T/TTC,T/TTC,T/TTC,T/TT...   \n",
       "6761800  T/TTC,T/TTC,T/TTC,T/TTC,T/TTC,T/TTC,T/TTC,T/TT...   \n",
       "6761928  T/TTC,T/TTC,T/TTC,T/TTC,T/TTC,T/TTC,T/TTC,T/TT...   \n",
       "6762184  T/TTC,T/TTC,T/TTC,T/TTC,T/TTC,T/TTC,T/TTC,T/TT...   \n",
       "\n",
       "                                                   Control   Control_Max  \\\n",
       "82000    C/CAT,C/T,C/CAT,C/CAT,C/CAT,C/CAT,C/CAT,C/CAT,...  [(C/CAT, 9)]   \n",
       "82256    C/CAT,C/T,C/CAT,C/CAT,C/CAT,C/CAT,C/CAT,C/CAT,...  [(C/CAT, 9)]   \n",
       "82512    C/CAT,C/T,C/CAT,C/CAT,C/CAT,C/CAT,C/CAT,C/CAT,...  [(C/CAT, 9)]   \n",
       "83024    C/CAT,C/T,C/CAT,C/CAT,C/CAT,C/CAT,C/CAT,C/CAT,...  [(C/CAT, 9)]   \n",
       "84048    C/CAT,C/T,C/CAT,C/CAT,C/CAT,C/CAT,C/CAT,C/CAT,...  [(C/CAT, 9)]   \n",
       "...                                                    ...           ...   \n",
       "6761704          T/A,T/A,T/A,T/A,T/TTC,T/A,T/A,T/A,T/A,T/A    [(T/A, 9)]   \n",
       "6761736          T/A,T/A,T/A,T/TTC,T/A,T/A,T/A,T/A,T/A,T/A    [(T/A, 9)]   \n",
       "6761800          T/A,T/A,T/TTC,T/A,T/A,T/A,T/A,T/A,T/A,T/A    [(T/A, 9)]   \n",
       "6761928          T/A,T/TTC,T/A,T/A,T/A,T/A,T/A,T/A,T/A,T/A    [(T/A, 9)]   \n",
       "6762184          T/TTC,T/A,T/A,T/A,T/A,T/A,T/A,T/A,T/A,T/A    [(T/A, 9)]   \n",
       "\n",
       "              Case_Max  \n",
       "82000      [(C/T, 10)]  \n",
       "82256       [(C/T, 9)]  \n",
       "82512       [(C/T, 9)]  \n",
       "83024       [(C/T, 9)]  \n",
       "84048       [(C/T, 9)]  \n",
       "...                ...  \n",
       "6761704  [(T/TTC, 10)]  \n",
       "6761736  [(T/TTC, 10)]  \n",
       "6761800  [(T/TTC, 10)]  \n",
       "6761928  [(T/TTC, 10)]  \n",
       "6762184  [(T/TTC, 10)]  \n",
       "\n",
       "[732 rows x 27 columns]"
      ]
     },
     "execution_count": 66,
     "metadata": {},
     "output_type": "execute_result"
    }
   ],
   "source": [
    "df_90"
   ]
  },
  {
   "cell_type": "code",
   "execution_count": 71,
   "metadata": {},
   "outputs": [],
   "source": [
    "df_90.to_csv(path+\"case_cont_diff_90.csv\",index = False)"
   ]
  },
  {
   "cell_type": "markdown",
   "metadata": {},
   "source": [
    "## 100 % Opposite  SNP to each Other"
   ]
  },
  {
   "cell_type": "code",
   "execution_count": 70,
   "metadata": {
    "scrolled": true
   },
   "outputs": [
    {
     "data": {
      "text/html": [
       "<div>\n",
       "<style scoped>\n",
       "    .dataframe tbody tr th:only-of-type {\n",
       "        vertical-align: middle;\n",
       "    }\n",
       "\n",
       "    .dataframe tbody tr th {\n",
       "        vertical-align: top;\n",
       "    }\n",
       "\n",
       "    .dataframe thead th {\n",
       "        text-align: right;\n",
       "    }\n",
       "</style>\n",
       "<table border=\"1\" class=\"dataframe\">\n",
       "  <thead>\n",
       "    <tr style=\"text-align: right;\">\n",
       "      <th></th>\n",
       "      <th>CHROM</th>\n",
       "      <th>POS</th>\n",
       "      <th>REF</th>\n",
       "      <th>1119_CS</th>\n",
       "      <th>910_CS</th>\n",
       "      <th>873_CS</th>\n",
       "      <th>880_CS</th>\n",
       "      <th>1282_CS</th>\n",
       "      <th>1584_CS</th>\n",
       "      <th>875_CS</th>\n",
       "      <th>...</th>\n",
       "      <th>1477_CNT</th>\n",
       "      <th>1481_CNT</th>\n",
       "      <th>1557_CNT</th>\n",
       "      <th>1591_CNT</th>\n",
       "      <th>1316_CNT</th>\n",
       "      <th>1389_CNT</th>\n",
       "      <th>Case</th>\n",
       "      <th>Control</th>\n",
       "      <th>Control_Max</th>\n",
       "      <th>Case_Max</th>\n",
       "    </tr>\n",
       "  </thead>\n",
       "  <tbody>\n",
       "    <tr>\n",
       "      <th>1266226</th>\n",
       "      <td>chr2</td>\n",
       "      <td>91908521</td>\n",
       "      <td>T</td>\n",
       "      <td>T/A</td>\n",
       "      <td>T/A</td>\n",
       "      <td>T/A</td>\n",
       "      <td>T/A</td>\n",
       "      <td>T/A</td>\n",
       "      <td>T/A</td>\n",
       "      <td>T/A</td>\n",
       "      <td>...</td>\n",
       "      <td>T/TAA</td>\n",
       "      <td>T/TAA</td>\n",
       "      <td>T/TAA</td>\n",
       "      <td>T/TAA</td>\n",
       "      <td>T/TAA</td>\n",
       "      <td>T/TAA</td>\n",
       "      <td>T/A,T/A,T/A,T/A,T/A,T/A,T/A,T/A,T/A,T/A</td>\n",
       "      <td>T/TAA,T/TAA,T/TAA,T/TAA,T/TAA,T/TAA,T/TAA,T/TA...</td>\n",
       "      <td>[(T/TAA, 10)]</td>\n",
       "      <td>[(T/A, 10)]</td>\n",
       "    </tr>\n",
       "    <tr>\n",
       "      <th>2312755</th>\n",
       "      <td>chr2</td>\n",
       "      <td>91908521</td>\n",
       "      <td>T</td>\n",
       "      <td>T/TAA</td>\n",
       "      <td>T/TAA</td>\n",
       "      <td>T/TAA</td>\n",
       "      <td>T/TAA</td>\n",
       "      <td>T/TAA</td>\n",
       "      <td>T/TAA</td>\n",
       "      <td>T/TAA</td>\n",
       "      <td>...</td>\n",
       "      <td>T/A</td>\n",
       "      <td>T/A</td>\n",
       "      <td>T/A</td>\n",
       "      <td>T/A</td>\n",
       "      <td>T/A</td>\n",
       "      <td>T/A</td>\n",
       "      <td>T/TAA,T/TAA,T/TAA,T/TAA,T/TAA,T/TAA,T/TAA,T/TA...</td>\n",
       "      <td>T/A,T/A,T/A,T/A,T/A,T/A,T/A,T/A,T/A,T/A</td>\n",
       "      <td>[(T/A, 10)]</td>\n",
       "      <td>[(T/TAA, 10)]</td>\n",
       "    </tr>\n",
       "    <tr>\n",
       "      <th>2890273</th>\n",
       "      <td>chr2</td>\n",
       "      <td>133106409</td>\n",
       "      <td>C</td>\n",
       "      <td>C/CAAAT</td>\n",
       "      <td>C/CAAAT</td>\n",
       "      <td>C/CAAAT</td>\n",
       "      <td>C/CAAAT</td>\n",
       "      <td>C/CAAAT</td>\n",
       "      <td>C/CAAAT</td>\n",
       "      <td>C/CAAAT</td>\n",
       "      <td>...</td>\n",
       "      <td>C/T</td>\n",
       "      <td>C/T</td>\n",
       "      <td>C/T</td>\n",
       "      <td>C/T</td>\n",
       "      <td>C/T</td>\n",
       "      <td>C/T</td>\n",
       "      <td>C/CAAAT,C/CAAAT,C/CAAAT,C/CAAAT,C/CAAAT,C/CAAA...</td>\n",
       "      <td>C/T,C/T,C/T,C/T,C/T,C/T,C/T,C/T,C/T,C/T</td>\n",
       "      <td>[(C/T, 10)]</td>\n",
       "      <td>[(C/CAAAT, 10)]</td>\n",
       "    </tr>\n",
       "    <tr>\n",
       "      <th>5715143</th>\n",
       "      <td>chr17</td>\n",
       "      <td>21521488</td>\n",
       "      <td>T</td>\n",
       "      <td>T/A</td>\n",
       "      <td>T/A</td>\n",
       "      <td>T/A</td>\n",
       "      <td>T/A</td>\n",
       "      <td>T/A</td>\n",
       "      <td>T/A</td>\n",
       "      <td>T/A</td>\n",
       "      <td>...</td>\n",
       "      <td>T/TTC</td>\n",
       "      <td>T/TTC</td>\n",
       "      <td>T/TTC</td>\n",
       "      <td>T/TTC</td>\n",
       "      <td>T/TTC</td>\n",
       "      <td>T/TTC</td>\n",
       "      <td>T/A,T/A,T/A,T/A,T/A,T/A,T/A,T/A,T/A,T/A</td>\n",
       "      <td>T/TTC,T/TTC,T/TTC,T/TTC,T/TTC,T/TTC,T/TTC,T/TT...</td>\n",
       "      <td>[(T/TTC, 10)]</td>\n",
       "      <td>[(T/A, 10)]</td>\n",
       "    </tr>\n",
       "    <tr>\n",
       "      <th>6761672</th>\n",
       "      <td>chr17</td>\n",
       "      <td>21521488</td>\n",
       "      <td>T</td>\n",
       "      <td>T/TTC</td>\n",
       "      <td>T/TTC</td>\n",
       "      <td>T/TTC</td>\n",
       "      <td>T/TTC</td>\n",
       "      <td>T/TTC</td>\n",
       "      <td>T/TTC</td>\n",
       "      <td>T/TTC</td>\n",
       "      <td>...</td>\n",
       "      <td>T/A</td>\n",
       "      <td>T/A</td>\n",
       "      <td>T/A</td>\n",
       "      <td>T/A</td>\n",
       "      <td>T/A</td>\n",
       "      <td>T/A</td>\n",
       "      <td>T/TTC,T/TTC,T/TTC,T/TTC,T/TTC,T/TTC,T/TTC,T/TT...</td>\n",
       "      <td>T/A,T/A,T/A,T/A,T/A,T/A,T/A,T/A,T/A,T/A</td>\n",
       "      <td>[(T/A, 10)]</td>\n",
       "      <td>[(T/TTC, 10)]</td>\n",
       "    </tr>\n",
       "  </tbody>\n",
       "</table>\n",
       "<p>5 rows × 27 columns</p>\n",
       "</div>"
      ],
      "text/plain": [
       "         CHROM        POS REF  1119_CS   910_CS   873_CS   880_CS  1282_CS  \\\n",
       "1266226   chr2   91908521   T      T/A      T/A      T/A      T/A      T/A   \n",
       "2312755   chr2   91908521   T    T/TAA    T/TAA    T/TAA    T/TAA    T/TAA   \n",
       "2890273   chr2  133106409   C  C/CAAAT  C/CAAAT  C/CAAAT  C/CAAAT  C/CAAAT   \n",
       "5715143  chr17   21521488   T      T/A      T/A      T/A      T/A      T/A   \n",
       "6761672  chr17   21521488   T    T/TTC    T/TTC    T/TTC    T/TTC    T/TTC   \n",
       "\n",
       "         1584_CS   875_CS  ... 1477_CNT 1481_CNT 1557_CNT 1591_CNT 1316_CNT  \\\n",
       "1266226      T/A      T/A  ...    T/TAA    T/TAA    T/TAA    T/TAA    T/TAA   \n",
       "2312755    T/TAA    T/TAA  ...      T/A      T/A      T/A      T/A      T/A   \n",
       "2890273  C/CAAAT  C/CAAAT  ...      C/T      C/T      C/T      C/T      C/T   \n",
       "5715143      T/A      T/A  ...    T/TTC    T/TTC    T/TTC    T/TTC    T/TTC   \n",
       "6761672    T/TTC    T/TTC  ...      T/A      T/A      T/A      T/A      T/A   \n",
       "\n",
       "        1389_CNT                                               Case  \\\n",
       "1266226    T/TAA            T/A,T/A,T/A,T/A,T/A,T/A,T/A,T/A,T/A,T/A   \n",
       "2312755      T/A  T/TAA,T/TAA,T/TAA,T/TAA,T/TAA,T/TAA,T/TAA,T/TA...   \n",
       "2890273      C/T  C/CAAAT,C/CAAAT,C/CAAAT,C/CAAAT,C/CAAAT,C/CAAA...   \n",
       "5715143    T/TTC            T/A,T/A,T/A,T/A,T/A,T/A,T/A,T/A,T/A,T/A   \n",
       "6761672      T/A  T/TTC,T/TTC,T/TTC,T/TTC,T/TTC,T/TTC,T/TTC,T/TT...   \n",
       "\n",
       "                                                   Control    Control_Max  \\\n",
       "1266226  T/TAA,T/TAA,T/TAA,T/TAA,T/TAA,T/TAA,T/TAA,T/TA...  [(T/TAA, 10)]   \n",
       "2312755            T/A,T/A,T/A,T/A,T/A,T/A,T/A,T/A,T/A,T/A    [(T/A, 10)]   \n",
       "2890273            C/T,C/T,C/T,C/T,C/T,C/T,C/T,C/T,C/T,C/T    [(C/T, 10)]   \n",
       "5715143  T/TTC,T/TTC,T/TTC,T/TTC,T/TTC,T/TTC,T/TTC,T/TT...  [(T/TTC, 10)]   \n",
       "6761672            T/A,T/A,T/A,T/A,T/A,T/A,T/A,T/A,T/A,T/A    [(T/A, 10)]   \n",
       "\n",
       "                Case_Max  \n",
       "1266226      [(T/A, 10)]  \n",
       "2312755    [(T/TAA, 10)]  \n",
       "2890273  [(C/CAAAT, 10)]  \n",
       "5715143      [(T/A, 10)]  \n",
       "6761672    [(T/TTC, 10)]  \n",
       "\n",
       "[5 rows x 27 columns]"
      ]
     },
     "execution_count": 70,
     "metadata": {},
     "output_type": "execute_result"
    }
   ],
   "source": [
    "#since Our data Set is 10 10 so max repeating is 10 i.e greater than 9\n",
    "df_100=df_80[(df_80.Control_Max.map(lambda x : x[0][1]) >9) & (df_80.Case_Max.map(lambda x : x[0][1]) >9)]\n",
    "df_100.head()"
   ]
  },
  {
   "cell_type": "code",
   "execution_count": 72,
   "metadata": {},
   "outputs": [],
   "source": [
    "df_100.to_csv(path+\"case_cont_diff_100.csv\",index = False)"
   ]
  },
  {
   "cell_type": "code",
   "execution_count": null,
   "metadata": {
    "scrolled": false
   },
   "outputs": [],
   "source": [
    "plt.figure(figsize=(14,5))\n",
    "sns.countplot(backup.CHROM,\n",
    "             order =backup.CHROM.value_counts().index)\n",
    "plt.xlabel(\"Chromosome Name_POsition\")\n",
    "plt.ylabel(\"Repeting Count\")\n",
    "#plt.savefig(\"../CHRM_Count_Opposite.png\")"
   ]
  }
 ],
 "metadata": {
  "kernelspec": {
   "display_name": "Python 3",
   "language": "python",
   "name": "python3"
  },
  "language_info": {
   "codemirror_mode": {
    "name": "ipython",
    "version": 3
   },
   "file_extension": ".py",
   "mimetype": "text/x-python",
   "name": "python",
   "nbconvert_exporter": "python",
   "pygments_lexer": "ipython3",
   "version": "3.7.7"
  },
  "latex_envs": {
   "LaTeX_envs_menu_present": true,
   "autoclose": false,
   "autocomplete": true,
   "bibliofile": "biblio.bib",
   "cite_by": "apalike",
   "current_citInitial": 1,
   "eqLabelWithNumbers": true,
   "eqNumInitial": 1,
   "hotkeys": {
    "equation": "Ctrl-E",
    "itemize": "Ctrl-I"
   },
   "labels_anchors": false,
   "latex_user_defs": false,
   "report_style_numbering": false,
   "user_envs_cfg": false
  },
  "nbTranslate": {
   "displayLangs": [
    "*"
   ],
   "hotkey": "alt-t",
   "langInMainMenu": true,
   "sourceLang": "en",
   "targetLang": "fr",
   "useGoogleTranslate": true
  }
 },
 "nbformat": 4,
 "nbformat_minor": 4
}
