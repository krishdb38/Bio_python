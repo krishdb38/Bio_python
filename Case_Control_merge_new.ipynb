{
 "cells": [
  {
   "cell_type": "code",
   "execution_count": 2,
   "metadata": {},
   "outputs": [],
   "source": [
    "import pandas as pd\n",
    "import numpy as np\n",
    "import os\n",
    "import sys"
   ]
  },
  {
   "cell_type": "code",
   "execution_count": 3,
   "metadata": {},
   "outputs": [
    {
     "data": {
      "text/plain": [
       "'910'"
      ]
     },
     "execution_count": 3,
     "metadata": {},
     "output_type": "execute_result"
    }
   ],
   "source": [
    "#path = \"/BiO/Preterm/raw_data/\"\n",
    "#files = os.listdir(path) #Last 10 Files\n",
    "#files\n",
    "control =[1093,1134,1293,1316,1389,1428,1477,1481,1557,1591]\n",
    "case = [1119,910,873,1489,989,880,1282,1584,875,1009]\n",
    "str(case[1])"
   ]
  },
  {
   "cell_type": "code",
   "execution_count": 4,
   "metadata": {},
   "outputs": [],
   "source": [
    "files = ['873','875','880','910','1009','1134','1293','1389','1428','1477','1481','1489',\\\n",
    "         '1557','1584','1591','989','1093','1119','1282','1316']"
   ]
  },
  {
   "cell_type": "markdown",
   "metadata": {},
   "source": [
    "## For Loop to do all Task Once"
   ]
  },
  {
   "cell_type": "code",
   "execution_count": 66,
   "metadata": {},
   "outputs": [
    {
     "name": "stdout",
     "output_type": "stream",
     "text": [
      "1119 Loading case Remaining 10\n",
      "910 Loading case Remaining 9\n",
      "873 Loading case Remaining 8\n",
      "1489 Loading case Remaining 7\n",
      "989 Loading case Remaining 6\n",
      "880 Loading case Remaining 5\n",
      "1282 Loading case Remaining 4\n",
      "1584 Loading case Remaining 3\n",
      "875 Loading case Remaining 2\n",
      "1009 Loading case Remaining 1\n",
      "1093 Loading Control Remaining 10\n",
      "1134 Loading Control Remaining 9\n",
      "1293 Loading Control Remaining 8\n",
      "1316 Loading Control Remaining 7\n",
      "1389 Loading Control Remaining 6\n",
      "1428 Loading Control Remaining 5\n",
      "1477 Loading Control Remaining 4\n",
      "1481 Loading Control Remaining 3\n",
      "1557 Loading Control Remaining 2\n",
      "1591 Loading Control Remaining 1\n",
      "0 0\n"
     ]
    }
   ],
   "source": [
    "cs = cn =10\n",
    "i=j=1\n",
    "path = \"/BiO/Preterm/raw_data/\"\n",
    "case_merged = pd.DataFrame(columns=[\"CHROM\",\"POS\",\"REF\",\"ALT\"])\n",
    "control_merged = pd.DataFrame([\"CHROM\",\"POS\",\"REF\",\"ALT\"])\n",
    "for file in case:\n",
    "        print(file,\"Loading case\",\"Remaining\",cs)\n",
    "        df = pd.read_csv(path+file+\"/\"+file+\"_snp.csv\",usecols=[\"CHROM\",\"POS\",\"REF\",\"ALT\",\"SnP\"])\n",
    "        df = df.rename(columns={'SnP': (str(i)+\"cs\")});i+=1                        \n",
    "        case_merged = pd.merge(case_merged,df,how=\"outer\",on=['CHROM', 'POS', 'REF',\"ALT\"])\n",
    "        case_merged = case_merged.sort_values('POS', ascending=True) #If this took long time then do Outside\n",
    "        cs-=1\n",
    "\n",
    "#case_merged = case_merged.sort_values('POS', ascending=True)                                   \n",
    "case_merged.to_csv(path+\"case_snp_new.csv\",index=False) \n",
    "#While case_merged Complete lets Freee Memory\n",
    "df=case_merged = Null                               \n",
    "for file in control:\n",
    "        print(file,\"Loading Control\",\"Remaining\",cn)\n",
    "        df = pd.read_csv(path+file+\"/\"+file+\"_snp.csv\",usecols=[\"CHROM\",\"POS\",\"REF\",\"ALT\",\"SnP\"])\n",
    "                                    \n",
    "        df = df.rename(columns={'SnP': (str(i)+\"cn\")});i+=1 #Increase by 1 and label the                        \n",
    "        control_merged = pd.merge(control_merged,df,how=\"outer\",on=['CHROM', 'POS', 'REF',\"ALT\"])\n",
    "        control_merged = control_merged.sort_values('POS', ascending=True)#If this took long time then do Outside\n",
    "        cn-=1\n",
    "#control_merged = control_merged.sort_values('POS', ascending=True)\n",
    "control_merged.to_csv(path+\"control_snp_new.csv\",index=False)\n",
    "#control_merged=Null\n",
    "print(cs , cn)"
   ]
  },
  {
   "cell_type": "code",
   "execution_count": 70,
   "metadata": {},
   "outputs": [],
   "source": [
    "#df1 = pd.read_csv(\"../1389_snp.csv\",usecols=[\"CHROM\",\"POS\",\"REF\",\"ALT\",\"SnP\"] , nrows=1000)"
   ]
  },
  {
   "cell_type": "code",
   "execution_count": 71,
   "metadata": {},
   "outputs": [],
   "source": [
    "#df1.head()"
   ]
  },
  {
   "cell_type": "code",
   "execution_count": 72,
   "metadata": {},
   "outputs": [
    {
     "data": {
      "text/html": [
       "<div>\n",
       "<style scoped>\n",
       "    .dataframe tbody tr th:only-of-type {\n",
       "        vertical-align: middle;\n",
       "    }\n",
       "\n",
       "    .dataframe tbody tr th {\n",
       "        vertical-align: top;\n",
       "    }\n",
       "\n",
       "    .dataframe thead th {\n",
       "        text-align: right;\n",
       "    }\n",
       "</style>\n",
       "<table border=\"1\" class=\"dataframe\">\n",
       "  <thead>\n",
       "    <tr style=\"text-align: right;\">\n",
       "      <th></th>\n",
       "      <th>CHROM</th>\n",
       "      <th>POS</th>\n",
       "      <th>REF</th>\n",
       "      <th>ALT</th>\n",
       "      <th>1cs</th>\n",
       "    </tr>\n",
       "  </thead>\n",
       "  <tbody>\n",
       "    <tr>\n",
       "      <td>0</td>\n",
       "      <td>chr1</td>\n",
       "      <td>12654</td>\n",
       "      <td>C</td>\n",
       "      <td>.</td>\n",
       "      <td>C/C</td>\n",
       "    </tr>\n",
       "    <tr>\n",
       "      <td>1</td>\n",
       "      <td>chr1</td>\n",
       "      <td>12671</td>\n",
       "      <td>A</td>\n",
       "      <td>.</td>\n",
       "      <td>A/A</td>\n",
       "    </tr>\n",
       "    <tr>\n",
       "      <td>2</td>\n",
       "      <td>chr1</td>\n",
       "      <td>12689</td>\n",
       "      <td>C</td>\n",
       "      <td>.</td>\n",
       "      <td>C/C</td>\n",
       "    </tr>\n",
       "    <tr>\n",
       "      <td>3</td>\n",
       "      <td>chr1</td>\n",
       "      <td>12707</td>\n",
       "      <td>C</td>\n",
       "      <td>.</td>\n",
       "      <td>C/C</td>\n",
       "    </tr>\n",
       "    <tr>\n",
       "      <td>4</td>\n",
       "      <td>chr1</td>\n",
       "      <td>12737</td>\n",
       "      <td>A</td>\n",
       "      <td>.</td>\n",
       "      <td>A/A</td>\n",
       "    </tr>\n",
       "  </tbody>\n",
       "</table>\n",
       "</div>"
      ],
      "text/plain": [
       "  CHROM    POS REF ALT  1cs\n",
       "0  chr1  12654   C   .  C/C\n",
       "1  chr1  12671   A   .  A/A\n",
       "2  chr1  12689   C   .  C/C\n",
       "3  chr1  12707   C   .  C/C\n",
       "4  chr1  12737   A   .  A/A"
      ]
     },
     "execution_count": 72,
     "metadata": {},
     "output_type": "execute_result"
    }
   ],
   "source": [
    "df1 = pd.read_csv(\"../1389_snp.csv\",usecols=[\"CHROM\",\"POS\",\"REF\",\"ALT\",\"SnP\"] , nrows=10000)\n",
    "df1 = df1.rename(columns={'SnP': (str(1)+\"cs\")})\n",
    "df1.head()"
   ]
  },
  {
   "cell_type": "code",
   "execution_count": 73,
   "metadata": {},
   "outputs": [
    {
     "data": {
      "text/html": [
       "<div>\n",
       "<style scoped>\n",
       "    .dataframe tbody tr th:only-of-type {\n",
       "        vertical-align: middle;\n",
       "    }\n",
       "\n",
       "    .dataframe tbody tr th {\n",
       "        vertical-align: top;\n",
       "    }\n",
       "\n",
       "    .dataframe thead th {\n",
       "        text-align: right;\n",
       "    }\n",
       "</style>\n",
       "<table border=\"1\" class=\"dataframe\">\n",
       "  <thead>\n",
       "    <tr style=\"text-align: right;\">\n",
       "      <th></th>\n",
       "      <th>CHROM</th>\n",
       "      <th>POS</th>\n",
       "      <th>REF</th>\n",
       "      <th>ALT</th>\n",
       "      <th>2cs</th>\n",
       "    </tr>\n",
       "  </thead>\n",
       "  <tbody>\n",
       "    <tr>\n",
       "      <td>0</td>\n",
       "      <td>chr1</td>\n",
       "      <td>12675</td>\n",
       "      <td>C</td>\n",
       "      <td>.</td>\n",
       "      <td>C/C</td>\n",
       "    </tr>\n",
       "    <tr>\n",
       "      <td>1</td>\n",
       "      <td>chr1</td>\n",
       "      <td>12680</td>\n",
       "      <td>G</td>\n",
       "      <td>.</td>\n",
       "      <td>G/G</td>\n",
       "    </tr>\n",
       "    <tr>\n",
       "      <td>2</td>\n",
       "      <td>chr1</td>\n",
       "      <td>12685</td>\n",
       "      <td>G</td>\n",
       "      <td>.</td>\n",
       "      <td>G/G</td>\n",
       "    </tr>\n",
       "    <tr>\n",
       "      <td>3</td>\n",
       "      <td>chr1</td>\n",
       "      <td>12705</td>\n",
       "      <td>T</td>\n",
       "      <td>.</td>\n",
       "      <td>T/T</td>\n",
       "    </tr>\n",
       "    <tr>\n",
       "      <td>4</td>\n",
       "      <td>chr1</td>\n",
       "      <td>12762</td>\n",
       "      <td>C</td>\n",
       "      <td>.</td>\n",
       "      <td>C/C</td>\n",
       "    </tr>\n",
       "  </tbody>\n",
       "</table>\n",
       "</div>"
      ],
      "text/plain": [
       "  CHROM    POS REF ALT  2cs\n",
       "0  chr1  12675   C   .  C/C\n",
       "1  chr1  12680   G   .  G/G\n",
       "2  chr1  12685   G   .  G/G\n",
       "3  chr1  12705   T   .  T/T\n",
       "4  chr1  12762   C   .  C/C"
      ]
     },
     "execution_count": 73,
     "metadata": {},
     "output_type": "execute_result"
    }
   ],
   "source": [
    "df2 = pd.read_csv(\"../1428_snp.csv\",usecols=[\"CHROM\",\"POS\",\"REF\",\"ALT\",\"SnP\"] , nrows=10000)\n",
    "df2 = df2.rename(columns={'SnP': (str(2)+\"cs\")})\n",
    "df2.head()"
   ]
  },
  {
   "cell_type": "code",
   "execution_count": 74,
   "metadata": {},
   "outputs": [
    {
     "data": {
      "text/html": [
       "<div>\n",
       "<style scoped>\n",
       "    .dataframe tbody tr th:only-of-type {\n",
       "        vertical-align: middle;\n",
       "    }\n",
       "\n",
       "    .dataframe tbody tr th {\n",
       "        vertical-align: top;\n",
       "    }\n",
       "\n",
       "    .dataframe thead th {\n",
       "        text-align: right;\n",
       "    }\n",
       "</style>\n",
       "<table border=\"1\" class=\"dataframe\">\n",
       "  <thead>\n",
       "    <tr style=\"text-align: right;\">\n",
       "      <th></th>\n",
       "      <th>CHROM</th>\n",
       "      <th>POS</th>\n",
       "      <th>REF</th>\n",
       "      <th>ALT</th>\n",
       "    </tr>\n",
       "  </thead>\n",
       "  <tbody>\n",
       "  </tbody>\n",
       "</table>\n",
       "</div>"
      ],
      "text/plain": [
       "Empty DataFrame\n",
       "Columns: [CHROM, POS, REF, ALT]\n",
       "Index: []"
      ]
     },
     "execution_count": 74,
     "metadata": {},
     "output_type": "execute_result"
    }
   ],
   "source": [
    "merged = pd.DataFrame(columns=[\"CHROM\",\"POS\",\"REF\",\"ALT\"])\n",
    "merged"
   ]
  },
  {
   "cell_type": "code",
   "execution_count": 76,
   "metadata": {},
   "outputs": [
    {
     "data": {
      "text/plain": [
       "CHROM       0\n",
       "POS         0\n",
       "REF         0\n",
       "ALT         0\n",
       "1cs      8866\n",
       "2cs      8866\n",
       "dtype: int64"
      ]
     },
     "execution_count": 76,
     "metadata": {},
     "output_type": "execute_result"
    }
   ],
   "source": [
    "merged = pd.merge(df1,df2,how=\"outer\",on=['CHROM', 'POS', 'REF',\"ALT\"])\n",
    "merged = merged.sort_values('POS', ascending=True)\n",
    "merged.isna().sum()"
   ]
  },
  {
   "cell_type": "code",
   "execution_count": 77,
   "metadata": {},
   "outputs": [
    {
     "data": {
      "text/plain": [
       "(18866, 6)"
      ]
     },
     "execution_count": 77,
     "metadata": {},
     "output_type": "execute_result"
    }
   ],
   "source": [
    "merged.shape"
   ]
  },
  {
   "cell_type": "code",
   "execution_count": 79,
   "metadata": {
    "scrolled": true
   },
   "outputs": [
    {
     "data": {
      "text/plain": [
       "(10000, 5)"
      ]
     },
     "execution_count": 79,
     "metadata": {},
     "output_type": "execute_result"
    }
   ],
   "source": [
    "#df1.head(10)\n",
    "df1.shape"
   ]
  },
  {
   "cell_type": "code",
   "execution_count": 80,
   "metadata": {},
   "outputs": [
    {
     "data": {
      "text/plain": [
       "(10000, 5)"
      ]
     },
     "execution_count": 80,
     "metadata": {},
     "output_type": "execute_result"
    }
   ],
   "source": [
    "df2.shape"
   ]
  },
  {
   "cell_type": "code",
   "execution_count": 84,
   "metadata": {
    "scrolled": true
   },
   "outputs": [
    {
     "data": {
      "text/html": [
       "<div>\n",
       "<style scoped>\n",
       "    .dataframe tbody tr th:only-of-type {\n",
       "        vertical-align: middle;\n",
       "    }\n",
       "\n",
       "    .dataframe tbody tr th {\n",
       "        vertical-align: top;\n",
       "    }\n",
       "\n",
       "    .dataframe thead th {\n",
       "        text-align: right;\n",
       "    }\n",
       "</style>\n",
       "<table border=\"1\" class=\"dataframe\">\n",
       "  <thead>\n",
       "    <tr style=\"text-align: right;\">\n",
       "      <th></th>\n",
       "      <th>CHROM</th>\n",
       "      <th>POS</th>\n",
       "      <th>REF</th>\n",
       "      <th>ALT</th>\n",
       "      <th>2cs</th>\n",
       "    </tr>\n",
       "  </thead>\n",
       "  <tbody>\n",
       "    <tr>\n",
       "      <td>0</td>\n",
       "      <td>chr1</td>\n",
       "      <td>12675</td>\n",
       "      <td>C</td>\n",
       "      <td>.</td>\n",
       "      <td>C/C</td>\n",
       "    </tr>\n",
       "    <tr>\n",
       "      <td>1</td>\n",
       "      <td>chr1</td>\n",
       "      <td>12680</td>\n",
       "      <td>G</td>\n",
       "      <td>.</td>\n",
       "      <td>G/G</td>\n",
       "    </tr>\n",
       "    <tr>\n",
       "      <td>2</td>\n",
       "      <td>chr1</td>\n",
       "      <td>12685</td>\n",
       "      <td>G</td>\n",
       "      <td>.</td>\n",
       "      <td>G/G</td>\n",
       "    </tr>\n",
       "    <tr>\n",
       "      <td>3</td>\n",
       "      <td>chr1</td>\n",
       "      <td>12705</td>\n",
       "      <td>T</td>\n",
       "      <td>.</td>\n",
       "      <td>T/T</td>\n",
       "    </tr>\n",
       "    <tr>\n",
       "      <td>4</td>\n",
       "      <td>chr1</td>\n",
       "      <td>12762</td>\n",
       "      <td>C</td>\n",
       "      <td>.</td>\n",
       "      <td>C/C</td>\n",
       "    </tr>\n",
       "    <tr>\n",
       "      <td>5</td>\n",
       "      <td>chr1</td>\n",
       "      <td>12763</td>\n",
       "      <td>T</td>\n",
       "      <td>.</td>\n",
       "      <td>T/T</td>\n",
       "    </tr>\n",
       "    <tr>\n",
       "      <td>6</td>\n",
       "      <td>chr1</td>\n",
       "      <td>12765</td>\n",
       "      <td>G</td>\n",
       "      <td>.</td>\n",
       "      <td>G/G</td>\n",
       "    </tr>\n",
       "    <tr>\n",
       "      <td>7</td>\n",
       "      <td>chr1</td>\n",
       "      <td>12783</td>\n",
       "      <td>G</td>\n",
       "      <td>A</td>\n",
       "      <td>G/A</td>\n",
       "    </tr>\n",
       "    <tr>\n",
       "      <td>8</td>\n",
       "      <td>chr1</td>\n",
       "      <td>12784</td>\n",
       "      <td>T</td>\n",
       "      <td>.</td>\n",
       "      <td>T/T</td>\n",
       "    </tr>\n",
       "    <tr>\n",
       "      <td>9</td>\n",
       "      <td>chr1</td>\n",
       "      <td>12808</td>\n",
       "      <td>G</td>\n",
       "      <td>.</td>\n",
       "      <td>G/G</td>\n",
       "    </tr>\n",
       "  </tbody>\n",
       "</table>\n",
       "</div>"
      ],
      "text/plain": [
       "  CHROM    POS REF ALT  2cs\n",
       "0  chr1  12675   C   .  C/C\n",
       "1  chr1  12680   G   .  G/G\n",
       "2  chr1  12685   G   .  G/G\n",
       "3  chr1  12705   T   .  T/T\n",
       "4  chr1  12762   C   .  C/C\n",
       "5  chr1  12763   T   .  T/T\n",
       "6  chr1  12765   G   .  G/G\n",
       "7  chr1  12783   G   A  G/A\n",
       "8  chr1  12784   T   .  T/T\n",
       "9  chr1  12808   G   .  G/G"
      ]
     },
     "execution_count": 84,
     "metadata": {},
     "output_type": "execute_result"
    }
   ],
   "source": [
    "df2.head(10)"
   ]
  },
  {
   "cell_type": "code",
   "execution_count": 81,
   "metadata": {},
   "outputs": [
    {
     "data": {
      "text/html": [
       "<div>\n",
       "<style scoped>\n",
       "    .dataframe tbody tr th:only-of-type {\n",
       "        vertical-align: middle;\n",
       "    }\n",
       "\n",
       "    .dataframe tbody tr th {\n",
       "        vertical-align: top;\n",
       "    }\n",
       "\n",
       "    .dataframe thead th {\n",
       "        text-align: right;\n",
       "    }\n",
       "</style>\n",
       "<table border=\"1\" class=\"dataframe\">\n",
       "  <thead>\n",
       "    <tr style=\"text-align: right;\">\n",
       "      <th></th>\n",
       "      <th>CHROM</th>\n",
       "      <th>POS</th>\n",
       "      <th>REF</th>\n",
       "      <th>ALT</th>\n",
       "      <th>1cs</th>\n",
       "    </tr>\n",
       "  </thead>\n",
       "  <tbody>\n",
       "    <tr>\n",
       "      <td>0</td>\n",
       "      <td>chr1</td>\n",
       "      <td>12654</td>\n",
       "      <td>C</td>\n",
       "      <td>.</td>\n",
       "      <td>C/C</td>\n",
       "    </tr>\n",
       "    <tr>\n",
       "      <td>1</td>\n",
       "      <td>chr1</td>\n",
       "      <td>12671</td>\n",
       "      <td>A</td>\n",
       "      <td>.</td>\n",
       "      <td>A/A</td>\n",
       "    </tr>\n",
       "    <tr>\n",
       "      <td>2</td>\n",
       "      <td>chr1</td>\n",
       "      <td>12689</td>\n",
       "      <td>C</td>\n",
       "      <td>.</td>\n",
       "      <td>C/C</td>\n",
       "    </tr>\n",
       "    <tr>\n",
       "      <td>3</td>\n",
       "      <td>chr1</td>\n",
       "      <td>12707</td>\n",
       "      <td>C</td>\n",
       "      <td>.</td>\n",
       "      <td>C/C</td>\n",
       "    </tr>\n",
       "    <tr>\n",
       "      <td>4</td>\n",
       "      <td>chr1</td>\n",
       "      <td>12737</td>\n",
       "      <td>A</td>\n",
       "      <td>.</td>\n",
       "      <td>A/A</td>\n",
       "    </tr>\n",
       "  </tbody>\n",
       "</table>\n",
       "</div>"
      ],
      "text/plain": [
       "  CHROM    POS REF ALT  1cs\n",
       "0  chr1  12654   C   .  C/C\n",
       "1  chr1  12671   A   .  A/A\n",
       "2  chr1  12689   C   .  C/C\n",
       "3  chr1  12707   C   .  C/C\n",
       "4  chr1  12737   A   .  A/A"
      ]
     },
     "execution_count": 81,
     "metadata": {},
     "output_type": "execute_result"
    }
   ],
   "source": [
    "df1.head()"
   ]
  },
  {
   "cell_type": "code",
   "execution_count": 83,
   "metadata": {},
   "outputs": [
    {
     "data": {
      "text/html": [
       "<div>\n",
       "<style scoped>\n",
       "    .dataframe tbody tr th:only-of-type {\n",
       "        vertical-align: middle;\n",
       "    }\n",
       "\n",
       "    .dataframe tbody tr th {\n",
       "        vertical-align: top;\n",
       "    }\n",
       "\n",
       "    .dataframe thead th {\n",
       "        text-align: right;\n",
       "    }\n",
       "</style>\n",
       "<table border=\"1\" class=\"dataframe\">\n",
       "  <thead>\n",
       "    <tr style=\"text-align: right;\">\n",
       "      <th></th>\n",
       "      <th>CHROM</th>\n",
       "      <th>POS</th>\n",
       "      <th>REF</th>\n",
       "      <th>ALT</th>\n",
       "      <th>1cs</th>\n",
       "      <th>2cs</th>\n",
       "    </tr>\n",
       "  </thead>\n",
       "  <tbody>\n",
       "    <tr>\n",
       "      <td>0</td>\n",
       "      <td>chr1</td>\n",
       "      <td>12654</td>\n",
       "      <td>C</td>\n",
       "      <td>.</td>\n",
       "      <td>C/C</td>\n",
       "      <td>NaN</td>\n",
       "    </tr>\n",
       "    <tr>\n",
       "      <td>1</td>\n",
       "      <td>chr1</td>\n",
       "      <td>12671</td>\n",
       "      <td>A</td>\n",
       "      <td>.</td>\n",
       "      <td>A/A</td>\n",
       "      <td>NaN</td>\n",
       "    </tr>\n",
       "    <tr>\n",
       "      <td>10000</td>\n",
       "      <td>chr1</td>\n",
       "      <td>12675</td>\n",
       "      <td>C</td>\n",
       "      <td>.</td>\n",
       "      <td>NaN</td>\n",
       "      <td>C/C</td>\n",
       "    </tr>\n",
       "    <tr>\n",
       "      <td>10001</td>\n",
       "      <td>chr1</td>\n",
       "      <td>12680</td>\n",
       "      <td>G</td>\n",
       "      <td>.</td>\n",
       "      <td>NaN</td>\n",
       "      <td>G/G</td>\n",
       "    </tr>\n",
       "    <tr>\n",
       "      <td>10002</td>\n",
       "      <td>chr1</td>\n",
       "      <td>12685</td>\n",
       "      <td>G</td>\n",
       "      <td>.</td>\n",
       "      <td>NaN</td>\n",
       "      <td>G/G</td>\n",
       "    </tr>\n",
       "    <tr>\n",
       "      <td>2</td>\n",
       "      <td>chr1</td>\n",
       "      <td>12689</td>\n",
       "      <td>C</td>\n",
       "      <td>.</td>\n",
       "      <td>C/C</td>\n",
       "      <td>NaN</td>\n",
       "    </tr>\n",
       "    <tr>\n",
       "      <td>10003</td>\n",
       "      <td>chr1</td>\n",
       "      <td>12705</td>\n",
       "      <td>T</td>\n",
       "      <td>.</td>\n",
       "      <td>NaN</td>\n",
       "      <td>T/T</td>\n",
       "    </tr>\n",
       "    <tr>\n",
       "      <td>3</td>\n",
       "      <td>chr1</td>\n",
       "      <td>12707</td>\n",
       "      <td>C</td>\n",
       "      <td>.</td>\n",
       "      <td>C/C</td>\n",
       "      <td>NaN</td>\n",
       "    </tr>\n",
       "    <tr>\n",
       "      <td>4</td>\n",
       "      <td>chr1</td>\n",
       "      <td>12737</td>\n",
       "      <td>A</td>\n",
       "      <td>.</td>\n",
       "      <td>A/A</td>\n",
       "      <td>NaN</td>\n",
       "    </tr>\n",
       "    <tr>\n",
       "      <td>10004</td>\n",
       "      <td>chr1</td>\n",
       "      <td>12762</td>\n",
       "      <td>C</td>\n",
       "      <td>.</td>\n",
       "      <td>NaN</td>\n",
       "      <td>C/C</td>\n",
       "    </tr>\n",
       "  </tbody>\n",
       "</table>\n",
       "</div>"
      ],
      "text/plain": [
       "      CHROM    POS REF ALT  1cs  2cs\n",
       "0      chr1  12654   C   .  C/C  NaN\n",
       "1      chr1  12671   A   .  A/A  NaN\n",
       "10000  chr1  12675   C   .  NaN  C/C\n",
       "10001  chr1  12680   G   .  NaN  G/G\n",
       "10002  chr1  12685   G   .  NaN  G/G\n",
       "2      chr1  12689   C   .  C/C  NaN\n",
       "10003  chr1  12705   T   .  NaN  T/T\n",
       "3      chr1  12707   C   .  C/C  NaN\n",
       "4      chr1  12737   A   .  A/A  NaN\n",
       "10004  chr1  12762   C   .  NaN  C/C"
      ]
     },
     "execution_count": 83,
     "metadata": {},
     "output_type": "execute_result"
    }
   ],
   "source": [
    "merged.head(10)"
   ]
  },
  {
   "cell_type": "code",
   "execution_count": 8,
   "metadata": {},
   "outputs": [],
   "source": [
    "#df has no Col SnP so \n",
    "def snp_new_col(df):\n",
    "    if (df[\"SNP\"]==\"0/0\"):\n",
    "        return (str(df[\"REF\"])+\"/\"+str(df[\"REF\"]))\n",
    "    elif ((df[\"SNP\"]==\"0/1\") or (df[\"SNP\"]==\"1/2\")):\n",
    "        return (str(df[\"REF\"])+\"/\"+str(df[\"ALT\"]))\n",
    "    elif (df[\"SNP\"]==\"1/1\"):\n",
    "        return (str(df[\"ALT\"]+\"/\"+str(df[\"ALT\"])))\n",
    "    else:\n",
    "        return (str(df[\"REF\"])+\"/\"+str(df[\"ALT\"]))\n",
    "        "
   ]
  },
  {
   "cell_type": "code",
   "execution_count": 12,
   "metadata": {},
   "outputs": [
    {
     "name": "stdout",
     "output_type": "stream",
     "text": [
      "  CHROM    POS REF ALT  SNP  SnP\n",
      "0  chr1  12630   G   .  0/0  G/G\n",
      "1  chr1  12633   T   .  0/0  T/T\n",
      "\n",
      "\n",
      "  CHROM    POS REF ALT  SNP  SnP\n",
      "0  chr1  12664   G   .  0/0  G/G\n",
      "1  chr1  12670   G   C  0/1  G/C\n"
     ]
    }
   ],
   "source": [
    "#df1[\"SnP\"] = df1.apply (lambda x : snp_new_col(x),axis=1)\n",
    "#df2[\"SnP\"] = df2.apply (lambda x : snp_new_col(x),axis=1)\n",
    "#df[df.SNP == \"1/2\"]\n",
    "print(df1.head(2))\n",
    "print(\"\\n\")\n",
    "print(df2.head(2))"
   ]
  },
  {
   "cell_type": "code",
   "execution_count": 13,
   "metadata": {},
   "outputs": [],
   "source": [
    "#df1.columns\n",
    "df1 =df2.loc[:,['CHROM', 'POS', 'REF', 'SnP']]\n",
    "df2 =df2.loc[:,['CHROM', 'POS', 'REF', 'SnP']]"
   ]
  },
  {
   "cell_type": "code",
   "execution_count": 21,
   "metadata": {},
   "outputs": [],
   "source": [
    "df1.columns = ['CHROM', 'POS', 'REF', 'Snp_1']\n",
    "df2.columns = ['CHROM', 'POS', 'REF', 'Snp_2']\n",
    "#== df2.columns"
   ]
  },
  {
   "cell_type": "code",
   "execution_count": 23,
   "metadata": {},
   "outputs": [
    {
     "data": {
      "text/html": [
       "<div>\n",
       "<style scoped>\n",
       "    .dataframe tbody tr th:only-of-type {\n",
       "        vertical-align: middle;\n",
       "    }\n",
       "\n",
       "    .dataframe tbody tr th {\n",
       "        vertical-align: top;\n",
       "    }\n",
       "\n",
       "    .dataframe thead th {\n",
       "        text-align: right;\n",
       "    }\n",
       "</style>\n",
       "<table border=\"1\" class=\"dataframe\">\n",
       "  <thead>\n",
       "    <tr style=\"text-align: right;\">\n",
       "      <th></th>\n",
       "    </tr>\n",
       "  </thead>\n",
       "  <tbody>\n",
       "  </tbody>\n",
       "</table>\n",
       "</div>"
      ],
      "text/plain": [
       "Empty DataFrame\n",
       "Columns: []\n",
       "Index: []"
      ]
     },
     "execution_count": 23,
     "metadata": {},
     "output_type": "execute_result"
    }
   ],
   "source": [
    "df_merged = pd.DataFrame()\n",
    "df_merged"
   ]
  },
  {
   "cell_type": "code",
   "execution_count": null,
   "metadata": {},
   "outputs": [],
   "source": []
  },
  {
   "cell_type": "code",
   "execution_count": null,
   "metadata": {},
   "outputs": [],
   "source": []
  },
  {
   "cell_type": "code",
   "execution_count": 46,
   "metadata": {},
   "outputs": [
    {
     "data": {
      "text/plain": [
       "(10004, 5)"
      ]
     },
     "execution_count": 46,
     "metadata": {},
     "output_type": "execute_result"
    }
   ],
   "source": [
    "test = df_merged.sort_values('POS', ascending=True)\n",
    "test.shape\n",
    "#est = df.sort('one', ascending=False)"
   ]
  },
  {
   "cell_type": "code",
   "execution_count": 27,
   "metadata": {},
   "outputs": [
    {
     "data": {
      "text/plain": [
       "(10004, 5)"
      ]
     },
     "execution_count": 27,
     "metadata": {},
     "output_type": "execute_result"
    }
   ],
   "source": [
    "#df_merged = pd.merge(df1,df2,how=\"outer\",on=['CHROM', 'POS', 'REF'])\n",
    "df_merged.shape"
   ]
  },
  {
   "cell_type": "code",
   "execution_count": 52,
   "metadata": {},
   "outputs": [
    {
     "data": {
      "text/html": [
       "<div>\n",
       "<style scoped>\n",
       "    .dataframe tbody tr th:only-of-type {\n",
       "        vertical-align: middle;\n",
       "    }\n",
       "\n",
       "    .dataframe tbody tr th {\n",
       "        vertical-align: top;\n",
       "    }\n",
       "\n",
       "    .dataframe thead th {\n",
       "        text-align: right;\n",
       "    }\n",
       "</style>\n",
       "<table border=\"1\" class=\"dataframe\">\n",
       "  <thead>\n",
       "    <tr style=\"text-align: right;\">\n",
       "      <th></th>\n",
       "      <th>CHROM</th>\n",
       "      <th>POS</th>\n",
       "      <th>REF</th>\n",
       "      <th>Snp_1</th>\n",
       "      <th>Snp_2</th>\n",
       "    </tr>\n",
       "  </thead>\n",
       "  <tbody>\n",
       "    <tr>\n",
       "      <td>1579</td>\n",
       "      <td>chr1</td>\n",
       "      <td>55249</td>\n",
       "      <td>C</td>\n",
       "      <td>C/CTATGG</td>\n",
       "      <td>C/C</td>\n",
       "    </tr>\n",
       "    <tr>\n",
       "      <td>1578</td>\n",
       "      <td>chr1</td>\n",
       "      <td>55249</td>\n",
       "      <td>C</td>\n",
       "      <td>C/C</td>\n",
       "      <td>C/CTATGG</td>\n",
       "    </tr>\n",
       "    <tr>\n",
       "      <td>9380</td>\n",
       "      <td>chr1</td>\n",
       "      <td>252367</td>\n",
       "      <td>G</td>\n",
       "      <td>G/G</td>\n",
       "      <td>G/GA</td>\n",
       "    </tr>\n",
       "    <tr>\n",
       "      <td>9381</td>\n",
       "      <td>chr1</td>\n",
       "      <td>252367</td>\n",
       "      <td>G</td>\n",
       "      <td>G/GA</td>\n",
       "      <td>G/G</td>\n",
       "    </tr>\n",
       "  </tbody>\n",
       "</table>\n",
       "</div>"
      ],
      "text/plain": [
       "     CHROM     POS REF     Snp_1     Snp_2\n",
       "1579  chr1   55249   C  C/CTATGG       C/C\n",
       "1578  chr1   55249   C       C/C  C/CTATGG\n",
       "9380  chr1  252367   G       G/G      G/GA\n",
       "9381  chr1  252367   G      G/GA       G/G"
      ]
     },
     "execution_count": 52,
     "metadata": {},
     "output_type": "execute_result"
    }
   ],
   "source": [
    "test[test.Snp_1!=test.Snp_2] #Compare 2 Data Set"
   ]
  },
  {
   "cell_type": "code",
   "execution_count": 40,
   "metadata": {},
   "outputs": [
    {
     "data": {
      "text/html": [
       "<div>\n",
       "<style scoped>\n",
       "    .dataframe tbody tr th:only-of-type {\n",
       "        vertical-align: middle;\n",
       "    }\n",
       "\n",
       "    .dataframe tbody tr th {\n",
       "        vertical-align: top;\n",
       "    }\n",
       "\n",
       "    .dataframe thead th {\n",
       "        text-align: right;\n",
       "    }\n",
       "</style>\n",
       "<table border=\"1\" class=\"dataframe\">\n",
       "  <thead>\n",
       "    <tr style=\"text-align: right;\">\n",
       "      <th></th>\n",
       "      <th>CHROM</th>\n",
       "      <th>POS</th>\n",
       "      <th>REF</th>\n",
       "      <th>Snp_1</th>\n",
       "    </tr>\n",
       "  </thead>\n",
       "  <tbody>\n",
       "    <tr>\n",
       "      <td>9995</td>\n",
       "      <td>chr1</td>\n",
       "      <td>524836</td>\n",
       "      <td>T</td>\n",
       "      <td>T/T</td>\n",
       "    </tr>\n",
       "    <tr>\n",
       "      <td>9996</td>\n",
       "      <td>chr1</td>\n",
       "      <td>524855</td>\n",
       "      <td>C</td>\n",
       "      <td>C/C</td>\n",
       "    </tr>\n",
       "    <tr>\n",
       "      <td>9997</td>\n",
       "      <td>chr1</td>\n",
       "      <td>524866</td>\n",
       "      <td>T</td>\n",
       "      <td>T/T</td>\n",
       "    </tr>\n",
       "    <tr>\n",
       "      <td>9998</td>\n",
       "      <td>chr1</td>\n",
       "      <td>524890</td>\n",
       "      <td>C</td>\n",
       "      <td>C/C</td>\n",
       "    </tr>\n",
       "    <tr>\n",
       "      <td>9999</td>\n",
       "      <td>chr1</td>\n",
       "      <td>524918</td>\n",
       "      <td>G</td>\n",
       "      <td>G/G</td>\n",
       "    </tr>\n",
       "  </tbody>\n",
       "</table>\n",
       "</div>"
      ],
      "text/plain": [
       "     CHROM     POS REF Snp_1\n",
       "9995  chr1  524836   T   T/T\n",
       "9996  chr1  524855   C   C/C\n",
       "9997  chr1  524866   T   T/T\n",
       "9998  chr1  524890   C   C/C\n",
       "9999  chr1  524918   G   G/G"
      ]
     },
     "execution_count": 40,
     "metadata": {},
     "output_type": "execute_result"
    }
   ],
   "source": [
    "df1.tail()"
   ]
  },
  {
   "cell_type": "code",
   "execution_count": 119,
   "metadata": {},
   "outputs": [],
   "source": [
    "df.to_csv(\"../test1.csv\",index=False)"
   ]
  },
  {
   "cell_type": "code",
   "execution_count": 120,
   "metadata": {},
   "outputs": [],
   "source": []
  },
  {
   "cell_type": "code",
   "execution_count": 121,
   "metadata": {},
   "outputs": [
    {
     "data": {
      "text/html": [
       "<div>\n",
       "<style scoped>\n",
       "    .dataframe tbody tr th:only-of-type {\n",
       "        vertical-align: middle;\n",
       "    }\n",
       "\n",
       "    .dataframe tbody tr th {\n",
       "        vertical-align: top;\n",
       "    }\n",
       "\n",
       "    .dataframe thead th {\n",
       "        text-align: right;\n",
       "    }\n",
       "</style>\n",
       "<table border=\"1\" class=\"dataframe\">\n",
       "  <thead>\n",
       "    <tr style=\"text-align: right;\">\n",
       "      <th></th>\n",
       "      <th>CHROM</th>\n",
       "      <th>POS</th>\n",
       "      <th>REF</th>\n",
       "      <th>SnP</th>\n",
       "    </tr>\n",
       "  </thead>\n",
       "  <tbody>\n",
       "    <tr>\n",
       "      <td>0</td>\n",
       "      <td>chr1</td>\n",
       "      <td>12630</td>\n",
       "      <td>G</td>\n",
       "      <td>G/G</td>\n",
       "    </tr>\n",
       "    <tr>\n",
       "      <td>1</td>\n",
       "      <td>chr1</td>\n",
       "      <td>12633</td>\n",
       "      <td>T</td>\n",
       "      <td>T/T</td>\n",
       "    </tr>\n",
       "    <tr>\n",
       "      <td>2</td>\n",
       "      <td>chr1</td>\n",
       "      <td>12637</td>\n",
       "      <td>C</td>\n",
       "      <td>C/C</td>\n",
       "    </tr>\n",
       "    <tr>\n",
       "      <td>3</td>\n",
       "      <td>chr1</td>\n",
       "      <td>12654</td>\n",
       "      <td>C</td>\n",
       "      <td>C/C</td>\n",
       "    </tr>\n",
       "    <tr>\n",
       "      <td>4</td>\n",
       "      <td>chr1</td>\n",
       "      <td>12684</td>\n",
       "      <td>T</td>\n",
       "      <td>T/T</td>\n",
       "    </tr>\n",
       "  </tbody>\n",
       "</table>\n",
       "</div>"
      ],
      "text/plain": [
       "  CHROM    POS REF  SnP\n",
       "0  chr1  12630   G  G/G\n",
       "1  chr1  12633   T  T/T\n",
       "2  chr1  12637   C  C/C\n",
       "3  chr1  12654   C  C/C\n",
       "4  chr1  12684   T  T/T"
      ]
     },
     "execution_count": 121,
     "metadata": {},
     "output_type": "execute_result"
    }
   ],
   "source": [
    "df1.head()"
   ]
  },
  {
   "cell_type": "code",
   "execution_count": 55,
   "metadata": {},
   "outputs": [
    {
     "data": {
      "text/html": [
       "<div>\n",
       "<style scoped>\n",
       "    .dataframe tbody tr th:only-of-type {\n",
       "        vertical-align: middle;\n",
       "    }\n",
       "\n",
       "    .dataframe tbody tr th {\n",
       "        vertical-align: top;\n",
       "    }\n",
       "\n",
       "    .dataframe thead th {\n",
       "        text-align: right;\n",
       "    }\n",
       "</style>\n",
       "<table border=\"1\" class=\"dataframe\">\n",
       "  <thead>\n",
       "    <tr style=\"text-align: right;\">\n",
       "      <th></th>\n",
       "      <th>CHROM</th>\n",
       "      <th>POS</th>\n",
       "      <th>REF</th>\n",
       "      <th>ALT</th>\n",
       "      <th>SNP</th>\n",
       "      <th>SnP</th>\n",
       "    </tr>\n",
       "  </thead>\n",
       "  <tbody>\n",
       "    <tr>\n",
       "      <td>0</td>\n",
       "      <td>chr1</td>\n",
       "      <td>12630</td>\n",
       "      <td>G</td>\n",
       "      <td>.</td>\n",
       "      <td>0/0</td>\n",
       "      <td>G/G</td>\n",
       "    </tr>\n",
       "    <tr>\n",
       "      <td>1</td>\n",
       "      <td>chr1</td>\n",
       "      <td>12633</td>\n",
       "      <td>T</td>\n",
       "      <td>.</td>\n",
       "      <td>0/0</td>\n",
       "      <td>T/T</td>\n",
       "    </tr>\n",
       "    <tr>\n",
       "      <td>2</td>\n",
       "      <td>chr1</td>\n",
       "      <td>12637</td>\n",
       "      <td>C</td>\n",
       "      <td>.</td>\n",
       "      <td>0/0</td>\n",
       "      <td>C/C</td>\n",
       "    </tr>\n",
       "    <tr>\n",
       "      <td>3</td>\n",
       "      <td>chr1</td>\n",
       "      <td>12654</td>\n",
       "      <td>C</td>\n",
       "      <td>.</td>\n",
       "      <td>0/0</td>\n",
       "      <td>C/C</td>\n",
       "    </tr>\n",
       "    <tr>\n",
       "      <td>4</td>\n",
       "      <td>chr1</td>\n",
       "      <td>12684</td>\n",
       "      <td>T</td>\n",
       "      <td>.</td>\n",
       "      <td>0/0</td>\n",
       "      <td>T/T</td>\n",
       "    </tr>\n",
       "  </tbody>\n",
       "</table>\n",
       "</div>"
      ],
      "text/plain": [
       "  CHROM    POS REF ALT  SNP  SnP\n",
       "0  chr1  12630   G   .  0/0  G/G\n",
       "1  chr1  12633   T   .  0/0  T/T\n",
       "2  chr1  12637   C   .  0/0  C/C\n",
       "3  chr1  12654   C   .  0/0  C/C\n",
       "4  chr1  12684   T   .  0/0  T/T"
      ]
     },
     "execution_count": 55,
     "metadata": {},
     "output_type": "execute_result"
    }
   ],
   "source": [
    "#df = df.iloc[:1000000,:]\n",
    "df1.head()"
   ]
  },
  {
   "cell_type": "code",
   "execution_count": 48,
   "metadata": {},
   "outputs": [
    {
     "data": {
      "text/plain": [
       "(1000000, 5)"
      ]
     },
     "execution_count": 48,
     "metadata": {},
     "output_type": "execute_result"
    }
   ],
   "source": [
    "df.shape"
   ]
  },
  {
   "cell_type": "code",
   "execution_count": 41,
   "metadata": {},
   "outputs": [],
   "source": [
    "#Creating A Function to speed the Task\n",
    "def snp_new_col(df):\n",
    "    if df[\"SNP\"]==\"0/0\":\n",
    "        return (str(df[\"REF\"])+\"/\"+str(df[\"REF\"]))\n",
    "    elif df[\"SNP\"]==\"0/1\":\n",
    "        return (str(df[\"REF\"])+\"/\"+str(df[\"ALT\"]))\n",
    "    elif df[\"SNP\"]==\"1/1\":\n",
    "        return (str(df[\"ALT\"]+\"/\"+str(df[\"ALT\"])))\n",
    "    else:\n",
    "        return (str(df[\"REF\"]+\"/\"+str(df[\"ALT\"])))"
   ]
  },
  {
   "cell_type": "code",
   "execution_count": 49,
   "metadata": {},
   "outputs": [
    {
     "name": "stderr",
     "output_type": "stream",
     "text": [
      "C:\\ProgramData\\Anaconda3\\lib\\site-packages\\ipykernel_launcher.py:1: SettingWithCopyWarning: \n",
      "A value is trying to be set on a copy of a slice from a DataFrame.\n",
      "Try using .loc[row_indexer,col_indexer] = value instead\n",
      "\n",
      "See the caveats in the documentation: http://pandas.pydata.org/pandas-docs/stable/user_guide/indexing.html#returning-a-view-versus-a-copy\n",
      "  \"\"\"Entry point for launching an IPython kernel.\n"
     ]
    }
   ],
   "source": []
  },
  {
   "cell_type": "code",
   "execution_count": 50,
   "metadata": {},
   "outputs": [
    {
     "data": {
      "text/html": [
       "<div>\n",
       "<style scoped>\n",
       "    .dataframe tbody tr th:only-of-type {\n",
       "        vertical-align: middle;\n",
       "    }\n",
       "\n",
       "    .dataframe tbody tr th {\n",
       "        vertical-align: top;\n",
       "    }\n",
       "\n",
       "    .dataframe thead th {\n",
       "        text-align: right;\n",
       "    }\n",
       "</style>\n",
       "<table border=\"1\" class=\"dataframe\">\n",
       "  <thead>\n",
       "    <tr style=\"text-align: right;\">\n",
       "      <th></th>\n",
       "      <th>CHROM</th>\n",
       "      <th>POS</th>\n",
       "      <th>REF</th>\n",
       "      <th>ALT</th>\n",
       "      <th>SNP</th>\n",
       "      <th>SnP</th>\n",
       "    </tr>\n",
       "  </thead>\n",
       "  <tbody>\n",
       "    <tr>\n",
       "      <td>0</td>\n",
       "      <td>chr1</td>\n",
       "      <td>12630</td>\n",
       "      <td>G</td>\n",
       "      <td>.</td>\n",
       "      <td>0/0</td>\n",
       "      <td>G/G</td>\n",
       "    </tr>\n",
       "    <tr>\n",
       "      <td>1</td>\n",
       "      <td>chr1</td>\n",
       "      <td>12633</td>\n",
       "      <td>T</td>\n",
       "      <td>.</td>\n",
       "      <td>0/0</td>\n",
       "      <td>T/T</td>\n",
       "    </tr>\n",
       "    <tr>\n",
       "      <td>2</td>\n",
       "      <td>chr1</td>\n",
       "      <td>12637</td>\n",
       "      <td>C</td>\n",
       "      <td>.</td>\n",
       "      <td>0/0</td>\n",
       "      <td>C/C</td>\n",
       "    </tr>\n",
       "    <tr>\n",
       "      <td>3</td>\n",
       "      <td>chr1</td>\n",
       "      <td>12654</td>\n",
       "      <td>C</td>\n",
       "      <td>.</td>\n",
       "      <td>0/0</td>\n",
       "      <td>C/C</td>\n",
       "    </tr>\n",
       "    <tr>\n",
       "      <td>4</td>\n",
       "      <td>chr1</td>\n",
       "      <td>12684</td>\n",
       "      <td>T</td>\n",
       "      <td>.</td>\n",
       "      <td>0/0</td>\n",
       "      <td>T/T</td>\n",
       "    </tr>\n",
       "  </tbody>\n",
       "</table>\n",
       "</div>"
      ],
      "text/plain": [
       "  CHROM    POS REF ALT  SNP  SnP\n",
       "0  chr1  12630   G   .  0/0  G/G\n",
       "1  chr1  12633   T   .  0/0  T/T\n",
       "2  chr1  12637   C   .  0/0  C/C\n",
       "3  chr1  12654   C   .  0/0  C/C\n",
       "4  chr1  12684   T   .  0/0  T/T"
      ]
     },
     "execution_count": 50,
     "metadata": {},
     "output_type": "execute_result"
    }
   ],
   "source": [
    "df.head()"
   ]
  },
  {
   "cell_type": "code",
   "execution_count": 52,
   "metadata": {},
   "outputs": [
    {
     "data": {
      "text/html": [
       "<div>\n",
       "<style scoped>\n",
       "    .dataframe tbody tr th:only-of-type {\n",
       "        vertical-align: middle;\n",
       "    }\n",
       "\n",
       "    .dataframe tbody tr th {\n",
       "        vertical-align: top;\n",
       "    }\n",
       "\n",
       "    .dataframe thead th {\n",
       "        text-align: right;\n",
       "    }\n",
       "</style>\n",
       "<table border=\"1\" class=\"dataframe\">\n",
       "  <thead>\n",
       "    <tr style=\"text-align: right;\">\n",
       "      <th></th>\n",
       "      <th>CHROM</th>\n",
       "      <th>POS</th>\n",
       "      <th>REF</th>\n",
       "      <th>ALT</th>\n",
       "      <th>SNP</th>\n",
       "      <th>SnP</th>\n",
       "    </tr>\n",
       "  </thead>\n",
       "  <tbody>\n",
       "    <tr>\n",
       "      <td>361</td>\n",
       "      <td>chr1</td>\n",
       "      <td>15274</td>\n",
       "      <td>A</td>\n",
       "      <td>G</td>\n",
       "      <td>1/1</td>\n",
       "      <td>G/G</td>\n",
       "    </tr>\n",
       "    <tr>\n",
       "      <td>464</td>\n",
       "      <td>chr1</td>\n",
       "      <td>15903</td>\n",
       "      <td>G</td>\n",
       "      <td>GC</td>\n",
       "      <td>1/1</td>\n",
       "      <td>GC/GC</td>\n",
       "    </tr>\n",
       "    <tr>\n",
       "      <td>1098</td>\n",
       "      <td>chr1</td>\n",
       "      <td>49298</td>\n",
       "      <td>T</td>\n",
       "      <td>C</td>\n",
       "      <td>1/1</td>\n",
       "      <td>C/C</td>\n",
       "    </tr>\n",
       "    <tr>\n",
       "      <td>1148</td>\n",
       "      <td>chr1</td>\n",
       "      <td>51803</td>\n",
       "      <td>T</td>\n",
       "      <td>C</td>\n",
       "      <td>1/1</td>\n",
       "      <td>C/C</td>\n",
       "    </tr>\n",
       "    <tr>\n",
       "      <td>1280</td>\n",
       "      <td>chr1</td>\n",
       "      <td>55164</td>\n",
       "      <td>C</td>\n",
       "      <td>A</td>\n",
       "      <td>1/1</td>\n",
       "      <td>A/A</td>\n",
       "    </tr>\n",
       "    <tr>\n",
       "      <td>...</td>\n",
       "      <td>...</td>\n",
       "      <td>...</td>\n",
       "      <td>...</td>\n",
       "      <td>...</td>\n",
       "      <td>...</td>\n",
       "      <td>...</td>\n",
       "    </tr>\n",
       "    <tr>\n",
       "      <td>997341</td>\n",
       "      <td>chr1</td>\n",
       "      <td>14052895</td>\n",
       "      <td>G</td>\n",
       "      <td>C</td>\n",
       "      <td>1/1</td>\n",
       "      <td>C/C</td>\n",
       "    </tr>\n",
       "    <tr>\n",
       "      <td>997983</td>\n",
       "      <td>chr1</td>\n",
       "      <td>14062433</td>\n",
       "      <td>A</td>\n",
       "      <td>C</td>\n",
       "      <td>1/1</td>\n",
       "      <td>C/C</td>\n",
       "    </tr>\n",
       "    <tr>\n",
       "      <td>998378</td>\n",
       "      <td>chr1</td>\n",
       "      <td>14067851</td>\n",
       "      <td>A</td>\n",
       "      <td>G</td>\n",
       "      <td>1/1</td>\n",
       "      <td>G/G</td>\n",
       "    </tr>\n",
       "    <tr>\n",
       "      <td>998949</td>\n",
       "      <td>chr1</td>\n",
       "      <td>14075529</td>\n",
       "      <td>G</td>\n",
       "      <td>T</td>\n",
       "      <td>1/1</td>\n",
       "      <td>T/T</td>\n",
       "    </tr>\n",
       "    <tr>\n",
       "      <td>999346</td>\n",
       "      <td>chr1</td>\n",
       "      <td>14080223</td>\n",
       "      <td>T</td>\n",
       "      <td>C</td>\n",
       "      <td>1/1</td>\n",
       "      <td>C/C</td>\n",
       "    </tr>\n",
       "  </tbody>\n",
       "</table>\n",
       "<p>7185 rows × 6 columns</p>\n",
       "</div>"
      ],
      "text/plain": [
       "       CHROM       POS REF ALT  SNP    SnP\n",
       "361     chr1     15274   A   G  1/1    G/G\n",
       "464     chr1     15903   G  GC  1/1  GC/GC\n",
       "1098    chr1     49298   T   C  1/1    C/C\n",
       "1148    chr1     51803   T   C  1/1    C/C\n",
       "1280    chr1     55164   C   A  1/1    A/A\n",
       "...      ...       ...  ..  ..  ...    ...\n",
       "997341  chr1  14052895   G   C  1/1    C/C\n",
       "997983  chr1  14062433   A   C  1/1    C/C\n",
       "998378  chr1  14067851   A   G  1/1    G/G\n",
       "998949  chr1  14075529   G   T  1/1    T/T\n",
       "999346  chr1  14080223   T   C  1/1    C/C\n",
       "\n",
       "[7185 rows x 6 columns]"
      ]
     },
     "execution_count": 52,
     "metadata": {},
     "output_type": "execute_result"
    }
   ],
   "source": [
    "df[df.SNP == \"1/1\"]"
   ]
  },
  {
   "cell_type": "code",
   "execution_count": null,
   "metadata": {},
   "outputs": [],
   "source": [
    "#df.apply (lambda row: label_race(row), axis=1)\n",
    "#Function to apply"
   ]
  }
 ],
 "metadata": {
  "kernelspec": {
   "display_name": "Python 3.7.4 64-bit ('base': conda)",
   "language": "python",
   "name": "python37464bitbaseconda67970ada4b5d499c879aef5e70dc73ee"
  },
  "language_info": {
   "codemirror_mode": {
    "name": "ipython",
    "version": 3
   },
   "file_extension": ".py",
   "mimetype": "text/x-python",
   "name": "python",
   "nbconvert_exporter": "python",
   "pygments_lexer": "ipython3",
   "version": "3.7.4"
  }
 },
 "nbformat": 4,
 "nbformat_minor": 2
}
