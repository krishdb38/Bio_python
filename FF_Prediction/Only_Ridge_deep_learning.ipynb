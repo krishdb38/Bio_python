{
 "cells": [
  {
   "cell_type": "code",
   "execution_count": 1,
   "metadata": {
    "ExecuteTime": {
     "end_time": "2020-07-03T07:29:23.109166Z",
     "start_time": "2020-07-03T07:29:23.107165Z"
    }
   },
   "outputs": [],
   "source": [
    "# here I did prediction with combined data sets of \n",
    "# Read Length and Read Count"
   ]
  },
  {
   "cell_type": "code",
   "execution_count": 15,
   "metadata": {
    "ExecuteTime": {
     "end_time": "2020-07-03T07:42:17.763625Z",
     "start_time": "2020-07-03T07:42:17.758625Z"
    }
   },
   "outputs": [],
   "source": [
    "import pandas as pd\n",
    "import numpy as np\n",
    "import matplotlib.pyplot as plt\n",
    "\n",
    "from sklearn.model_selection import train_test_split\n",
    "from sklearn import linear_model\n",
    "from sklearn import metrics"
   ]
  },
  {
   "cell_type": "code",
   "execution_count": 3,
   "metadata": {
    "ExecuteTime": {
     "end_time": "2020-07-03T07:30:03.262101Z",
     "start_time": "2020-07-03T07:29:24.570166Z"
    }
   },
   "outputs": [],
   "source": [
    "df_gc = pd.read_csv(\"../../datas_not_to_upload/gc_drop_null.csv\")\n",
    "df_rl = pd.read_csv(\"../../datas_not_to_upload/rl_drop_null.csv\")"
   ]
  },
  {
   "cell_type": "code",
   "execution_count": 4,
   "metadata": {
    "ExecuteTime": {
     "end_time": "2020-07-03T07:30:03.287104Z",
     "start_time": "2020-07-03T07:30:03.263073Z"
    }
   },
   "outputs": [
    {
     "data": {
      "text/html": [
       "<div>\n",
       "<style scoped>\n",
       "    .dataframe tbody tr th:only-of-type {\n",
       "        vertical-align: middle;\n",
       "    }\n",
       "\n",
       "    .dataframe tbody tr th {\n",
       "        vertical-align: top;\n",
       "    }\n",
       "\n",
       "    .dataframe thead th {\n",
       "        text-align: right;\n",
       "    }\n",
       "</style>\n",
       "<table border=\"1\" class=\"dataframe\">\n",
       "  <thead>\n",
       "    <tr style=\"text-align: right;\">\n",
       "      <th></th>\n",
       "      <th>GC</th>\n",
       "      <th>V1</th>\n",
       "      <th>V2</th>\n",
       "      <th>V3</th>\n",
       "      <th>V4</th>\n",
       "      <th>V5</th>\n",
       "      <th>V6</th>\n",
       "      <th>V7</th>\n",
       "      <th>V8</th>\n",
       "      <th>V9</th>\n",
       "      <th>...</th>\n",
       "      <th>V9607</th>\n",
       "      <th>V9608</th>\n",
       "      <th>V9609</th>\n",
       "      <th>V9610</th>\n",
       "      <th>V9611</th>\n",
       "      <th>V9612</th>\n",
       "      <th>V9613</th>\n",
       "      <th>V9614</th>\n",
       "      <th>V9615</th>\n",
       "      <th>V9616</th>\n",
       "    </tr>\n",
       "  </thead>\n",
       "  <tbody>\n",
       "    <tr>\n",
       "      <th>0</th>\n",
       "      <td>19.052706</td>\n",
       "      <td>0.879025</td>\n",
       "      <td>0.687329</td>\n",
       "      <td>0.983194</td>\n",
       "      <td>0.970820</td>\n",
       "      <td>0.900728</td>\n",
       "      <td>0.735702</td>\n",
       "      <td>0.960757</td>\n",
       "      <td>1.074772</td>\n",
       "      <td>1.597032</td>\n",
       "      <td>...</td>\n",
       "      <td>1.155784</td>\n",
       "      <td>1.183426</td>\n",
       "      <td>1.116000</td>\n",
       "      <td>1.136232</td>\n",
       "      <td>1.055771</td>\n",
       "      <td>0.805667</td>\n",
       "      <td>0.880747</td>\n",
       "      <td>0.861866</td>\n",
       "      <td>0.799674</td>\n",
       "      <td>1.012808</td>\n",
       "    </tr>\n",
       "    <tr>\n",
       "      <th>1</th>\n",
       "      <td>17.772070</td>\n",
       "      <td>0.869801</td>\n",
       "      <td>0.620215</td>\n",
       "      <td>1.008849</td>\n",
       "      <td>0.926203</td>\n",
       "      <td>0.884105</td>\n",
       "      <td>0.884811</td>\n",
       "      <td>1.020117</td>\n",
       "      <td>0.987255</td>\n",
       "      <td>1.335856</td>\n",
       "      <td>...</td>\n",
       "      <td>1.083800</td>\n",
       "      <td>1.294737</td>\n",
       "      <td>1.187249</td>\n",
       "      <td>1.054525</td>\n",
       "      <td>1.070078</td>\n",
       "      <td>0.836637</td>\n",
       "      <td>0.914356</td>\n",
       "      <td>0.805049</td>\n",
       "      <td>0.695066</td>\n",
       "      <td>1.020791</td>\n",
       "    </tr>\n",
       "  </tbody>\n",
       "</table>\n",
       "<p>2 rows × 8809 columns</p>\n",
       "</div>"
      ],
      "text/plain": [
       "          GC        V1        V2        V3        V4        V5        V6  \\\n",
       "0  19.052706  0.879025  0.687329  0.983194  0.970820  0.900728  0.735702   \n",
       "1  17.772070  0.869801  0.620215  1.008849  0.926203  0.884105  0.884811   \n",
       "\n",
       "         V7        V8        V9  ...     V9607     V9608     V9609     V9610  \\\n",
       "0  0.960757  1.074772  1.597032  ...  1.155784  1.183426  1.116000  1.136232   \n",
       "1  1.020117  0.987255  1.335856  ...  1.083800  1.294737  1.187249  1.054525   \n",
       "\n",
       "      V9611     V9612     V9613     V9614     V9615     V9616  \n",
       "0  1.055771  0.805667  0.880747  0.861866  0.799674  1.012808  \n",
       "1  1.070078  0.836637  0.914356  0.805049  0.695066  1.020791  \n",
       "\n",
       "[2 rows x 8809 columns]"
      ]
     },
     "execution_count": 4,
     "metadata": {},
     "output_type": "execute_result"
    }
   ],
   "source": [
    "df_gc.head(2)"
   ]
  },
  {
   "cell_type": "code",
   "execution_count": 5,
   "metadata": {
    "ExecuteTime": {
     "end_time": "2020-07-03T07:30:03.307072Z",
     "start_time": "2020-07-03T07:30:03.288071Z"
    }
   },
   "outputs": [
    {
     "data": {
      "text/html": [
       "<div>\n",
       "<style scoped>\n",
       "    .dataframe tbody tr th:only-of-type {\n",
       "        vertical-align: middle;\n",
       "    }\n",
       "\n",
       "    .dataframe tbody tr th {\n",
       "        vertical-align: top;\n",
       "    }\n",
       "\n",
       "    .dataframe thead th {\n",
       "        text-align: right;\n",
       "    }\n",
       "</style>\n",
       "<table border=\"1\" class=\"dataframe\">\n",
       "  <thead>\n",
       "    <tr style=\"text-align: right;\">\n",
       "      <th></th>\n",
       "      <th>GC</th>\n",
       "      <th>V1</th>\n",
       "      <th>V2</th>\n",
       "      <th>V3</th>\n",
       "      <th>V4</th>\n",
       "      <th>V5</th>\n",
       "      <th>V6</th>\n",
       "      <th>V7</th>\n",
       "      <th>V8</th>\n",
       "      <th>V9</th>\n",
       "      <th>...</th>\n",
       "      <th>V3601</th>\n",
       "      <th>V3602</th>\n",
       "      <th>V3603</th>\n",
       "      <th>V3604</th>\n",
       "      <th>V3605</th>\n",
       "      <th>V3606</th>\n",
       "      <th>V3607</th>\n",
       "      <th>V3608</th>\n",
       "      <th>V3609</th>\n",
       "      <th>V3610</th>\n",
       "    </tr>\n",
       "  </thead>\n",
       "  <tbody>\n",
       "    <tr>\n",
       "      <th>0</th>\n",
       "      <td>19.052706</td>\n",
       "      <td>1.179333</td>\n",
       "      <td>1.334434</td>\n",
       "      <td>1.403288</td>\n",
       "      <td>1.541632</td>\n",
       "      <td>1.325201</td>\n",
       "      <td>1.101396</td>\n",
       "      <td>1.096208</td>\n",
       "      <td>1.169582</td>\n",
       "      <td>1.201159</td>\n",
       "      <td>...</td>\n",
       "      <td>1.214459</td>\n",
       "      <td>1.137815</td>\n",
       "      <td>1.084471</td>\n",
       "      <td>1.334146</td>\n",
       "      <td>1.159960</td>\n",
       "      <td>1.072909</td>\n",
       "      <td>1.194103</td>\n",
       "      <td>1.202118</td>\n",
       "      <td>1.307157</td>\n",
       "      <td>0.847474</td>\n",
       "    </tr>\n",
       "    <tr>\n",
       "      <th>1</th>\n",
       "      <td>17.772070</td>\n",
       "      <td>1.148473</td>\n",
       "      <td>1.422455</td>\n",
       "      <td>1.373932</td>\n",
       "      <td>1.515307</td>\n",
       "      <td>1.337463</td>\n",
       "      <td>1.077379</td>\n",
       "      <td>1.061001</td>\n",
       "      <td>1.157020</td>\n",
       "      <td>1.258965</td>\n",
       "      <td>...</td>\n",
       "      <td>1.162154</td>\n",
       "      <td>1.197372</td>\n",
       "      <td>1.216741</td>\n",
       "      <td>1.290969</td>\n",
       "      <td>1.162834</td>\n",
       "      <td>1.072192</td>\n",
       "      <td>1.150107</td>\n",
       "      <td>1.194950</td>\n",
       "      <td>1.369463</td>\n",
       "      <td>1.132686</td>\n",
       "    </tr>\n",
       "    <tr>\n",
       "      <th>2</th>\n",
       "      <td>16.200000</td>\n",
       "      <td>1.189828</td>\n",
       "      <td>1.341258</td>\n",
       "      <td>1.318985</td>\n",
       "      <td>1.428393</td>\n",
       "      <td>1.231587</td>\n",
       "      <td>1.093561</td>\n",
       "      <td>1.002102</td>\n",
       "      <td>1.112995</td>\n",
       "      <td>1.176748</td>\n",
       "      <td>...</td>\n",
       "      <td>1.126933</td>\n",
       "      <td>1.119189</td>\n",
       "      <td>1.113998</td>\n",
       "      <td>1.172282</td>\n",
       "      <td>1.123764</td>\n",
       "      <td>1.037933</td>\n",
       "      <td>1.087116</td>\n",
       "      <td>1.221538</td>\n",
       "      <td>1.271180</td>\n",
       "      <td>1.165280</td>\n",
       "    </tr>\n",
       "  </tbody>\n",
       "</table>\n",
       "<p>3 rows × 3146 columns</p>\n",
       "</div>"
      ],
      "text/plain": [
       "          GC        V1        V2        V3        V4        V5        V6  \\\n",
       "0  19.052706  1.179333  1.334434  1.403288  1.541632  1.325201  1.101396   \n",
       "1  17.772070  1.148473  1.422455  1.373932  1.515307  1.337463  1.077379   \n",
       "2  16.200000  1.189828  1.341258  1.318985  1.428393  1.231587  1.093561   \n",
       "\n",
       "         V7        V8        V9  ...     V3601     V3602     V3603     V3604  \\\n",
       "0  1.096208  1.169582  1.201159  ...  1.214459  1.137815  1.084471  1.334146   \n",
       "1  1.061001  1.157020  1.258965  ...  1.162154  1.197372  1.216741  1.290969   \n",
       "2  1.002102  1.112995  1.176748  ...  1.126933  1.119189  1.113998  1.172282   \n",
       "\n",
       "      V3605     V3606     V3607     V3608     V3609     V3610  \n",
       "0  1.159960  1.072909  1.194103  1.202118  1.307157  0.847474  \n",
       "1  1.162834  1.072192  1.150107  1.194950  1.369463  1.132686  \n",
       "2  1.123764  1.037933  1.087116  1.221538  1.271180  1.165280  \n",
       "\n",
       "[3 rows x 3146 columns]"
      ]
     },
     "execution_count": 5,
     "metadata": {},
     "output_type": "execute_result"
    }
   ],
   "source": [
    "df_rl.head(3)"
   ]
  },
  {
   "cell_type": "code",
   "execution_count": 6,
   "metadata": {
    "ExecuteTime": {
     "end_time": "2020-07-03T07:30:03.311072Z",
     "start_time": "2020-07-03T07:30:03.308072Z"
    }
   },
   "outputs": [],
   "source": [
    "## \n",
    "#df_gc.drop([col for col,value in df_gc.sum().iteritems() if value < 10],axis=1, inplace=True)\n",
    "#pd.concat([y,df_gc],axis=1).to_csv(\"../../datas_not_to_upload/gc_drop_null.csv\")"
   ]
  },
  {
   "cell_type": "markdown",
   "metadata": {},
   "source": [
    "# Split data to Train and Test Sets\n"
   ]
  },
  {
   "cell_type": "code",
   "execution_count": 7,
   "metadata": {
    "ExecuteTime": {
     "end_time": "2020-07-03T07:30:03.317073Z",
     "start_time": "2020-07-03T07:30:03.312071Z"
    }
   },
   "outputs": [],
   "source": [
    "x_rl = df_rl.iloc[:,1:]\n",
    "x_gc = df_gc.iloc[:,1:]\n",
    "y = df_rl[\"GC\"]"
   ]
  },
  {
   "cell_type": "code",
   "execution_count": 8,
   "metadata": {
    "ExecuteTime": {
     "end_time": "2020-07-03T07:30:03.322073Z",
     "start_time": "2020-07-03T07:30:03.318072Z"
    }
   },
   "outputs": [],
   "source": [
    "def split_data(x,test_size = 0.20, random_state =10 ):\n",
    "    return train_test_split(x, y, test_size=test_size, random_state=random_state)"
   ]
  },
  {
   "cell_type": "code",
   "execution_count": 9,
   "metadata": {
    "ExecuteTime": {
     "end_time": "2020-07-03T07:30:04.022072Z",
     "start_time": "2020-07-03T07:30:03.325074Z"
    }
   },
   "outputs": [],
   "source": [
    "x_train_rl, x_test_rl, y_train_rl, y_test_rl = split_data(x_rl,test_size=0.2, random_state=10)\n",
    "x_train_gc, x_test_gc , y_train_gc, y_test_gc = split_data(x_gc,test_size=0.2,random_state=10)"
   ]
  },
  {
   "cell_type": "code",
   "execution_count": 10,
   "metadata": {
    "ExecuteTime": {
     "end_time": "2020-07-03T07:30:04.061072Z",
     "start_time": "2020-07-03T07:30:04.024072Z"
    }
   },
   "outputs": [
    {
     "name": "stdout",
     "output_type": "stream",
     "text": [
      "x_train _rl 3\n"
     ]
    },
    {
     "data": {
      "text/html": [
       "<div>\n",
       "<style scoped>\n",
       "    .dataframe tbody tr th:only-of-type {\n",
       "        vertical-align: middle;\n",
       "    }\n",
       "\n",
       "    .dataframe tbody tr th {\n",
       "        vertical-align: top;\n",
       "    }\n",
       "\n",
       "    .dataframe thead th {\n",
       "        text-align: right;\n",
       "    }\n",
       "</style>\n",
       "<table border=\"1\" class=\"dataframe\">\n",
       "  <thead>\n",
       "    <tr style=\"text-align: right;\">\n",
       "      <th></th>\n",
       "      <th>V1</th>\n",
       "      <th>V2</th>\n",
       "      <th>V3</th>\n",
       "      <th>V4</th>\n",
       "      <th>V5</th>\n",
       "      <th>V6</th>\n",
       "      <th>V7</th>\n",
       "      <th>V8</th>\n",
       "      <th>V9</th>\n",
       "      <th>V10</th>\n",
       "      <th>...</th>\n",
       "      <th>V3601</th>\n",
       "      <th>V3602</th>\n",
       "      <th>V3603</th>\n",
       "      <th>V3604</th>\n",
       "      <th>V3605</th>\n",
       "      <th>V3606</th>\n",
       "      <th>V3607</th>\n",
       "      <th>V3608</th>\n",
       "      <th>V3609</th>\n",
       "      <th>V3610</th>\n",
       "    </tr>\n",
       "  </thead>\n",
       "  <tbody>\n",
       "    <tr>\n",
       "      <th>937</th>\n",
       "      <td>1.148863</td>\n",
       "      <td>1.236624</td>\n",
       "      <td>1.273476</td>\n",
       "      <td>1.594509</td>\n",
       "      <td>1.119174</td>\n",
       "      <td>1.017691</td>\n",
       "      <td>0.946570</td>\n",
       "      <td>0.997322</td>\n",
       "      <td>1.146759</td>\n",
       "      <td>1.075649</td>\n",
       "      <td>...</td>\n",
       "      <td>1.094923</td>\n",
       "      <td>1.066034</td>\n",
       "      <td>1.012995</td>\n",
       "      <td>1.124494</td>\n",
       "      <td>1.00989</td>\n",
       "      <td>0.990103</td>\n",
       "      <td>1.102685</td>\n",
       "      <td>1.138949</td>\n",
       "      <td>1.190696</td>\n",
       "      <td>1.450708</td>\n",
       "    </tr>\n",
       "    <tr>\n",
       "      <th>9355</th>\n",
       "      <td>1.247705</td>\n",
       "      <td>1.417974</td>\n",
       "      <td>1.248661</td>\n",
       "      <td>2.003602</td>\n",
       "      <td>1.166130</td>\n",
       "      <td>1.036487</td>\n",
       "      <td>0.970803</td>\n",
       "      <td>1.150281</td>\n",
       "      <td>1.234875</td>\n",
       "      <td>1.115482</td>\n",
       "      <td>...</td>\n",
       "      <td>1.247111</td>\n",
       "      <td>1.138742</td>\n",
       "      <td>1.156699</td>\n",
       "      <td>1.214721</td>\n",
       "      <td>1.14126</td>\n",
       "      <td>1.029806</td>\n",
       "      <td>1.057033</td>\n",
       "      <td>1.288271</td>\n",
       "      <td>1.356013</td>\n",
       "      <td>1.359966</td>\n",
       "    </tr>\n",
       "    <tr>\n",
       "      <th>2293</th>\n",
       "      <td>1.217422</td>\n",
       "      <td>1.264813</td>\n",
       "      <td>1.180422</td>\n",
       "      <td>1.665205</td>\n",
       "      <td>1.140997</td>\n",
       "      <td>1.014608</td>\n",
       "      <td>0.970974</td>\n",
       "      <td>0.997261</td>\n",
       "      <td>1.109847</td>\n",
       "      <td>0.999425</td>\n",
       "      <td>...</td>\n",
       "      <td>1.052208</td>\n",
       "      <td>1.009529</td>\n",
       "      <td>1.000934</td>\n",
       "      <td>1.131235</td>\n",
       "      <td>1.04064</td>\n",
       "      <td>1.029634</td>\n",
       "      <td>1.034725</td>\n",
       "      <td>1.126542</td>\n",
       "      <td>1.308551</td>\n",
       "      <td>0.984150</td>\n",
       "    </tr>\n",
       "  </tbody>\n",
       "</table>\n",
       "<p>3 rows × 3145 columns</p>\n",
       "</div>"
      ],
      "text/plain": [
       "            V1        V2        V3        V4        V5        V6        V7  \\\n",
       "937   1.148863  1.236624  1.273476  1.594509  1.119174  1.017691  0.946570   \n",
       "9355  1.247705  1.417974  1.248661  2.003602  1.166130  1.036487  0.970803   \n",
       "2293  1.217422  1.264813  1.180422  1.665205  1.140997  1.014608  0.970974   \n",
       "\n",
       "            V8        V9       V10  ...     V3601     V3602     V3603  \\\n",
       "937   0.997322  1.146759  1.075649  ...  1.094923  1.066034  1.012995   \n",
       "9355  1.150281  1.234875  1.115482  ...  1.247111  1.138742  1.156699   \n",
       "2293  0.997261  1.109847  0.999425  ...  1.052208  1.009529  1.000934   \n",
       "\n",
       "         V3604    V3605     V3606     V3607     V3608     V3609     V3610  \n",
       "937   1.124494  1.00989  0.990103  1.102685  1.138949  1.190696  1.450708  \n",
       "9355  1.214721  1.14126  1.029806  1.057033  1.288271  1.356013  1.359966  \n",
       "2293  1.131235  1.04064  1.029634  1.034725  1.126542  1.308551  0.984150  \n",
       "\n",
       "[3 rows x 3145 columns]"
      ]
     },
     "metadata": {},
     "output_type": "display_data"
    },
    {
     "name": "stdout",
     "output_type": "stream",
     "text": [
      "x_train_gc 3\n"
     ]
    },
    {
     "data": {
      "text/html": [
       "<div>\n",
       "<style scoped>\n",
       "    .dataframe tbody tr th:only-of-type {\n",
       "        vertical-align: middle;\n",
       "    }\n",
       "\n",
       "    .dataframe tbody tr th {\n",
       "        vertical-align: top;\n",
       "    }\n",
       "\n",
       "    .dataframe thead th {\n",
       "        text-align: right;\n",
       "    }\n",
       "</style>\n",
       "<table border=\"1\" class=\"dataframe\">\n",
       "  <thead>\n",
       "    <tr style=\"text-align: right;\">\n",
       "      <th></th>\n",
       "      <th>V1</th>\n",
       "      <th>V2</th>\n",
       "      <th>V3</th>\n",
       "      <th>V4</th>\n",
       "      <th>V5</th>\n",
       "      <th>V6</th>\n",
       "      <th>V7</th>\n",
       "      <th>V8</th>\n",
       "      <th>V9</th>\n",
       "      <th>V10</th>\n",
       "      <th>...</th>\n",
       "      <th>V9607</th>\n",
       "      <th>V9608</th>\n",
       "      <th>V9609</th>\n",
       "      <th>V9610</th>\n",
       "      <th>V9611</th>\n",
       "      <th>V9612</th>\n",
       "      <th>V9613</th>\n",
       "      <th>V9614</th>\n",
       "      <th>V9615</th>\n",
       "      <th>V9616</th>\n",
       "    </tr>\n",
       "  </thead>\n",
       "  <tbody>\n",
       "    <tr>\n",
       "      <th>937</th>\n",
       "      <td>0.959231</td>\n",
       "      <td>0.799453</td>\n",
       "      <td>1.326316</td>\n",
       "      <td>0.821119</td>\n",
       "      <td>0.956507</td>\n",
       "      <td>0.772290</td>\n",
       "      <td>0.983940</td>\n",
       "      <td>0.984026</td>\n",
       "      <td>1.586564</td>\n",
       "      <td>1.278902</td>\n",
       "      <td>...</td>\n",
       "      <td>1.218071</td>\n",
       "      <td>1.265855</td>\n",
       "      <td>1.248562</td>\n",
       "      <td>1.234563</td>\n",
       "      <td>1.086126</td>\n",
       "      <td>0.844246</td>\n",
       "      <td>0.817693</td>\n",
       "      <td>0.876737</td>\n",
       "      <td>0.709895</td>\n",
       "      <td>1.023527</td>\n",
       "    </tr>\n",
       "    <tr>\n",
       "      <th>9355</th>\n",
       "      <td>0.869949</td>\n",
       "      <td>0.875055</td>\n",
       "      <td>1.135056</td>\n",
       "      <td>0.953710</td>\n",
       "      <td>0.850591</td>\n",
       "      <td>0.891380</td>\n",
       "      <td>1.033587</td>\n",
       "      <td>1.058201</td>\n",
       "      <td>1.594433</td>\n",
       "      <td>1.115274</td>\n",
       "      <td>...</td>\n",
       "      <td>1.070740</td>\n",
       "      <td>1.157376</td>\n",
       "      <td>1.064536</td>\n",
       "      <td>1.045779</td>\n",
       "      <td>1.038547</td>\n",
       "      <td>0.862965</td>\n",
       "      <td>0.898523</td>\n",
       "      <td>0.920337</td>\n",
       "      <td>0.731688</td>\n",
       "      <td>1.021389</td>\n",
       "    </tr>\n",
       "    <tr>\n",
       "      <th>2293</th>\n",
       "      <td>0.844195</td>\n",
       "      <td>0.747872</td>\n",
       "      <td>1.050042</td>\n",
       "      <td>0.985533</td>\n",
       "      <td>0.853833</td>\n",
       "      <td>0.803392</td>\n",
       "      <td>0.946191</td>\n",
       "      <td>1.093843</td>\n",
       "      <td>1.664460</td>\n",
       "      <td>1.157345</td>\n",
       "      <td>...</td>\n",
       "      <td>1.125719</td>\n",
       "      <td>1.206644</td>\n",
       "      <td>1.168575</td>\n",
       "      <td>1.237721</td>\n",
       "      <td>1.091236</td>\n",
       "      <td>0.867132</td>\n",
       "      <td>0.886125</td>\n",
       "      <td>0.834293</td>\n",
       "      <td>0.743254</td>\n",
       "      <td>1.011248</td>\n",
       "    </tr>\n",
       "  </tbody>\n",
       "</table>\n",
       "<p>3 rows × 8808 columns</p>\n",
       "</div>"
      ],
      "text/plain": [
       "            V1        V2        V3        V4        V5        V6        V7  \\\n",
       "937   0.959231  0.799453  1.326316  0.821119  0.956507  0.772290  0.983940   \n",
       "9355  0.869949  0.875055  1.135056  0.953710  0.850591  0.891380  1.033587   \n",
       "2293  0.844195  0.747872  1.050042  0.985533  0.853833  0.803392  0.946191   \n",
       "\n",
       "            V8        V9       V10  ...     V9607     V9608     V9609  \\\n",
       "937   0.984026  1.586564  1.278902  ...  1.218071  1.265855  1.248562   \n",
       "9355  1.058201  1.594433  1.115274  ...  1.070740  1.157376  1.064536   \n",
       "2293  1.093843  1.664460  1.157345  ...  1.125719  1.206644  1.168575   \n",
       "\n",
       "         V9610     V9611     V9612     V9613     V9614     V9615     V9616  \n",
       "937   1.234563  1.086126  0.844246  0.817693  0.876737  0.709895  1.023527  \n",
       "9355  1.045779  1.038547  0.862965  0.898523  0.920337  0.731688  1.021389  \n",
       "2293  1.237721  1.091236  0.867132  0.886125  0.834293  0.743254  1.011248  \n",
       "\n",
       "[3 rows x 8808 columns]"
      ]
     },
     "metadata": {},
     "output_type": "display_data"
    },
    {
     "name": "stdout",
     "output_type": "stream",
     "text": [
      "y_train_rl 3\n"
     ]
    }
   ],
   "source": [
    "# Lets Check both Index are equal or Not\n",
    "print(\"x_train _rl 3\")\n",
    "display(x_test_rl[:3])\n",
    "print(\"x_train_gc 3\")\n",
    "display(x_test_gc.head(3))\n",
    "\n",
    "print(\"y_train_rl 3\")"
   ]
  },
  {
   "cell_type": "markdown",
   "metadata": {},
   "source": [
    "# Scaling\n",
    "` There are Two Methods of Normalilzation and standardization`\n",
    "## Normalization  (change between 0~1)\n",
    "## Standardization ( distribution mean 0 and sd 1)"
   ]
  },
  {
   "cell_type": "markdown",
   "metadata": {},
   "source": [
    "## Scalling GC data sets"
   ]
  },
  {
   "cell_type": "code",
   "execution_count": 11,
   "metadata": {
    "ExecuteTime": {
     "end_time": "2020-07-03T07:30:06.336072Z",
     "start_time": "2020-07-03T07:30:04.062076Z"
    }
   },
   "outputs": [],
   "source": [
    "from sklearn.preprocessing import StandardScaler\n",
    "scaler = StandardScaler()\n",
    "scaler.fit(df_gc.iloc[:,1:])\n",
    "x_train_gc = scaler.transform(x_train_gc)\n",
    "x_test_gc = scaler.transform(x_test_gc)"
   ]
  },
  {
   "cell_type": "markdown",
   "metadata": {},
   "source": [
    "## Scalling RL data sets"
   ]
  },
  {
   "cell_type": "code",
   "execution_count": 12,
   "metadata": {
    "ExecuteTime": {
     "end_time": "2020-07-03T07:30:07.170104Z",
     "start_time": "2020-07-03T07:30:06.337072Z"
    }
   },
   "outputs": [],
   "source": [
    "from sklearn.preprocessing import StandardScaler\n",
    "scaler = StandardScaler()\n",
    "scaler.fit(df_rl.iloc[:,1:])\n",
    "x_train_rl = scaler.transform(x_train_rl)\n",
    "x_test_rl = scaler.transform(x_test_rl)"
   ]
  },
  {
   "cell_type": "markdown",
   "metadata": {},
   "source": [
    "## Bayesian Model for rl_data sets"
   ]
  },
  {
   "cell_type": "code",
   "execution_count": 16,
   "metadata": {
    "ExecuteTime": {
     "end_time": "2020-07-03T07:42:38.032144Z",
     "start_time": "2020-07-03T07:42:22.611142Z"
    }
   },
   "outputs": [
    {
     "name": "stdout",
     "output_type": "stream",
     "text": [
      "Model Accuracy is :  0.7399177924097842\n"
     ]
    },
    {
     "data": {
      "image/png": "[encoded data removed]",
      "text/plain": [
       "<Figure size 2160x720 with 1 Axes>"
      ]
     },
     "metadata": {
      "needs_background": "light"
     },
     "output_type": "display_data"
    },
    {
     "data": {
      "text/html": [
       "<div>\n",
       "<style scoped>\n",
       "    .dataframe tbody tr th:only-of-type {\n",
       "        vertical-align: middle;\n",
       "    }\n",
       "\n",
       "    .dataframe tbody tr th {\n",
       "        vertical-align: top;\n",
       "    }\n",
       "\n",
       "    .dataframe thead th {\n",
       "        text-align: right;\n",
       "    }\n",
       "</style>\n",
       "<table border=\"1\" class=\"dataframe\">\n",
       "  <thead>\n",
       "    <tr style=\"text-align: right;\">\n",
       "      <th></th>\n",
       "      <th>Actual</th>\n",
       "      <th>Predicted</th>\n",
       "    </tr>\n",
       "  </thead>\n",
       "  <tbody>\n",
       "    <tr>\n",
       "      <th>0</th>\n",
       "      <td>13.119819</td>\n",
       "      <td>9.634850</td>\n",
       "    </tr>\n",
       "    <tr>\n",
       "      <th>1</th>\n",
       "      <td>6.287667</td>\n",
       "      <td>7.092771</td>\n",
       "    </tr>\n",
       "    <tr>\n",
       "      <th>2</th>\n",
       "      <td>13.004863</td>\n",
       "      <td>14.036196</td>\n",
       "    </tr>\n",
       "    <tr>\n",
       "      <th>3</th>\n",
       "      <td>14.370000</td>\n",
       "      <td>12.310694</td>\n",
       "    </tr>\n",
       "    <tr>\n",
       "      <th>4</th>\n",
       "      <td>6.223930</td>\n",
       "      <td>5.351118</td>\n",
       "    </tr>\n",
       "  </tbody>\n",
       "</table>\n",
       "</div>"
      ],
      "text/plain": [
       "      Actual  Predicted\n",
       "0  13.119819   9.634850\n",
       "1   6.287667   7.092771\n",
       "2  13.004863  14.036196\n",
       "3  14.370000  12.310694\n",
       "4   6.223930   5.351118"
      ]
     },
     "execution_count": 16,
     "metadata": {},
     "output_type": "execute_result"
    }
   ],
   "source": [
    "# Bayesian in Original Data Before Scalling\n",
    "bayesian_ = linear_model.BayesianRidge().fit(x_train_rl, y_train_rl)\n",
    "bayesian_y_pred_ = bayesian_.predict(x_test_rl)\n",
    "bayesian_ = pd.DataFrame({\"Actual\":y_test_rl.to_numpy().flatten(), \"Predicted\":bayesian_y_pred_.flatten()})\n",
    "\n",
    "print(\"Model Accuracy is : \", metrics.r2_score(y_test_rl, bayesian_y_pred_))\n",
    "bayesian_.head(150).plot(kind = \"bar\", figsize=(30, 10))\n",
    "plt.grid(which=\"major\", linestyle = \"-\", linewidth = \"0.5\")\n",
    "plt.show()\n",
    "\n",
    "bayesian_.head()"
   ]
  },
  {
   "cell_type": "markdown",
   "metadata": {},
   "source": [
    "## bayesian Model for gc_data Sets"
   ]
  },
  {
   "cell_type": "code",
   "execution_count": null,
   "metadata": {
    "ExecuteTime": {
     "start_time": "2020-07-03T07:42:27.276Z"
    }
   },
   "outputs": [],
   "source": [
    "# Bayesian in Original Data Before Scalling\n",
    "bayesian_ = linear_model.BayesianRidge().fit(x_train_gc, y_train_gc)\n",
    "bayesian_y_pred_ = bayesian_.predict(x_test_gc)\n",
    "bayesian_gc = pd.DataFrame({\"Actual\":y_test_rl.to_numpy().flatten(), \"Predicted\":bayesian_y_pred_.flatten()})\n",
    "\n",
    "print(\"Model Accuracy is : \", metrics.r2_score(y_test, bayesian_y_pred_))\n",
    "bayesian_gc.head(150).plot(kind = \"bar\", figsize=(30, 10))\n",
    "plt.grid(which=\"major\", linestyle = \"-\", linewidth = \"0.5\")\n",
    "plt.show()\n",
    "\n",
    "bayesian_gc.head()"
   ]
  },
  {
   "cell_type": "markdown",
   "metadata": {},
   "source": [
    "# PCA"
   ]
  },
  {
   "cell_type": "markdown",
   "metadata": {},
   "source": [
    "## GC"
   ]
  },
  {
   "cell_type": "code",
   "execution_count": null,
   "metadata": {
    "ExecuteTime": {
     "start_time": "2020-07-03T07:42:30.542Z"
    }
   },
   "outputs": [],
   "source": [
    "from sklearn.decomposition import PCA\n",
    "pca = PCA(200)\n",
    "pca.fit(x_train_gc)\n",
    "x_train_gc_pca = pca.transform(x_train_gc)\n",
    "x_test_gc_pca = pca.transform(x_test_gc)"
   ]
  },
  {
   "cell_type": "markdown",
   "metadata": {
    "ExecuteTime": {
     "end_time": "2020-07-03T06:40:35.586788Z",
     "start_time": "2020-07-03T06:40:31.056786Z"
    }
   },
   "source": [
    "## RL"
   ]
  },
  {
   "cell_type": "code",
   "execution_count": null,
   "metadata": {
    "ExecuteTime": {
     "start_time": "2020-07-03T07:42:34.810Z"
    }
   },
   "outputs": [],
   "source": [
    "from sklearn.decomposition import PCA\n",
    "pca = PCA(300)\n",
    "pca.fit(x_train_rl)\n",
    "x_train_rl_pca = pca.transform(x_train_rl)\n",
    "x_test_rl_pca = pca.transform(x_test_rl)"
   ]
  },
  {
   "cell_type": "markdown",
   "metadata": {},
   "source": [
    "## Bayesian Regression from PCA Data Sets"
   ]
  },
  {
   "cell_type": "code",
   "execution_count": null,
   "metadata": {
    "ExecuteTime": {
     "start_time": "2020-07-03T07:42:39.951Z"
    }
   },
   "outputs": [],
   "source": [
    "#In the above we can see Column reduced to 100\n",
    "# Lets Fit the Model\n",
    "bayesian_ = linear_model.BayesianRidge().fit(x_train_gc_pca, np.ravel(y_train))\n",
    "bayesian_y_pred = bayesian_.predict(x_test_gc_pca)\n",
    "bayesian_gc = pd.DataFrame({\"Actual\":np.ravel(y_test),\n",
    "                          \"Predicted\":bayesian_y_pred.flatten()})\n",
    "\n",
    "print(\"Model Accuracy is : \", metrics.r2_score(y_test, bayesian_y_pred))\n",
    "bayesian_gc.head(100).plot(kind = \"bar\", figsize=(25, 10))\n",
    "plt.grid(which=\"major\", linestyle = \"-\", linewidth = \"0.5\")\n",
    "plt.show()\n",
    "bayesian_gc.head()"
   ]
  },
  {
   "cell_type": "code",
   "execution_count": null,
   "metadata": {
    "ExecuteTime": {
     "start_time": "2020-07-03T07:42:43.165Z"
    }
   },
   "outputs": [],
   "source": [
    "# Read Length Data Sets\n",
    "\n",
    "#In the above we can see Column reduced to 100\n",
    "# Lets Fit the Model\n",
    "bayesian_ = linear_model.BayesianRidge().fit(x_train_rl_pca, np.ravel(y_train))\n",
    "bayesian_y_pred = bayesian_.predict(x_test_rl_pca)\n",
    "bayesian_rl = pd.DataFrame({\"Actual\":np.ravel(y_test),\n",
    "                          \"Predicted\":bayesian_y_pred.flatten()})\n",
    "\n",
    "print(\"Model Accuracy is : \", metrics.r2_score(y_test, bayesian_y_pred))\n",
    "bayesian_rl.head(100).plot(kind = \"bar\", figsize=(25, 10))\n",
    "plt.grid(which=\"major\", linestyle = \"-\", linewidth = \"0.5\")\n",
    "plt.show()\n",
    "bayesian_rl.head()"
   ]
  },
  {
   "cell_type": "markdown",
   "metadata": {},
   "source": [
    "#  Deep learning"
   ]
  },
  {
   "cell_type": "code",
   "execution_count": null,
   "metadata": {
    "ExecuteTime": {
     "start_time": "2020-07-03T07:42:50.764Z"
    }
   },
   "outputs": [],
   "source": [
    "import tensorflow as tf\n",
    "from tensorflow import keras\n",
    "\n",
    "from tensorflow.keras import layers\n",
    "from tensorflow.keras.layers import Dense\n",
    "print(tf.__version__)"
   ]
  },
  {
   "cell_type": "code",
   "execution_count": null,
   "metadata": {
    "ExecuteTime": {
     "start_time": "2020-07-03T07:42:53.679Z"
    }
   },
   "outputs": [],
   "source": [
    "import tensorflow_docs as tfdocs\n",
    "import tensorflow_docs.plots\n",
    "import tensorflow_docs.modeling"
   ]
  },
  {
   "cell_type": "code",
   "execution_count": null,
   "metadata": {
    "ExecuteTime": {
     "start_time": "2020-07-03T07:42:56.343Z"
    }
   },
   "outputs": [],
   "source": [
    "x_train_gc_pca.shape, y_train.shape"
   ]
  },
  {
   "cell_type": "markdown",
   "metadata": {},
   "source": [
    "## GC"
   ]
  },
  {
   "cell_type": "code",
   "execution_count": null,
   "metadata": {
    "ExecuteTime": {
     "start_time": "2020-07-03T07:42:56.995Z"
    }
   },
   "outputs": [],
   "source": [
    "model = keras.Sequential()\n",
    "model.add(layers.Dense(5, activation = \"relu\",\n",
    "                      input_shape = [x_train_gc_pca.shape[1],]))\n",
    "\n",
    "#model.add(layers.Dense(2,activation = \"relu\"))\n",
    "\n",
    "model.add(layers.Dense(1)) # Only One Output because of Regression Problem\n",
    "\n",
    "# Compile the Model\n",
    "optimizer = tf.keras.optimizers.RMSprop(0.001)\n",
    "model.compile(optimizer = optimizer, loss = \"mse\",\n",
    "             metrics = [\"accuracy\",\"mse\"])\n",
    "\n",
    "# Early Stops if fit  (Which wilp to stop Over Fitting)\n",
    "early_stop = keras.callbacks.EarlyStopping(monitor=\"loss\", patience=20)\n",
    "\n",
    "# Fit the Model\n",
    "model.fit(x_train_gc_pca, y_train, epochs = 100 , validation_split = 0.02,\\\n",
    "          verbose = 0, callbacks = [early_stop, tfdocs.modeling.EpochDots()])\n",
    "\n",
    "## Evaluate the Model\n",
    "loss, acc, _ = model.evaluate(x_test_gc_pca,y_test_gc, verbose = 0)\n",
    "\n",
    "\n",
    "print(\"\\nTest Accuracy = %.3f\"%acc, loss , _)\n",
    "\n",
    "##\n",
    "keras_pred_gc = model.predict(x_test_gc_pca)\n",
    "print(\"Accuracy\", metrics.r2_score(y_test_gc, keras_pred_gc))\n",
    "\n",
    "keras_gc = pd.DataFrame({\"Actual\":y_test_gc.to_numpy().flatten(),\n",
    "                       \"Predicted\":keras_pred_gc.flatten()})\n",
    "\n",
    "print(np.corrcoef(keras_gc[\"Actual\"],keras_gc[\"Predicted\"])[1][0])\n",
    "keras_gc.tail(150).plot(kind = \"bar\", figsize=(25, 10))\n",
    "plt.grid(which=\"major\", linestyle = \"-\", linewidth = \"0.5\")\n",
    "plt.show()\n",
    "display(keras_gc.head(100))"
   ]
  },
  {
   "cell_type": "code",
   "execution_count": null,
   "metadata": {
    "ExecuteTime": {
     "start_time": "2020-07-03T07:42:57.375Z"
    }
   },
   "outputs": [],
   "source": [
    "model = keras.Sequential()\n",
    "model.add(layers.Dense(4, activation = \"relu\",\n",
    "                      input_shape = [x_train_rl_pca.shape[1],]))\n",
    "\n",
    "model.add(layers.Dense(2,activation = \"relu\"))\n",
    "\n",
    "model.add(layers.Dense(1)) # Only One Output because of Regression Problem\n",
    "\n",
    "# Compile the Model\n",
    "optimizer = tf.keras.optimizers.RMSprop(0.001)\n",
    "model.compile(optimizer = optimizer, loss = \"mse\",\n",
    "             metrics = [\"accuracy\",\"mse\"])\n",
    "\n",
    "# Early Stops if fit  (Which wilp to stop Over Fitting)\n",
    "early_stop = keras.callbacks.EarlyStopping(monitor=\"loss\", patience=20)\n",
    "\n",
    "# Fit the Model\n",
    "model.fit(x_train_rl_pca, y_train, epochs = 100 , validation_split = 0.02,\\\n",
    "          verbose = 0, callbacks = [early_stop, tfdocs.modeling.EpochDots()])\n",
    "\n",
    "## Evaluate the Model\n",
    "loss, acc, _ = model.evaluate(x_test_rl_pca,y_test_rl, verbose = 0)\n",
    "\n",
    "\n",
    "print(\"\\nTest Accuracy = %.3f\"%acc, loss , _)\n",
    "\n",
    "##\n",
    "keras_pred_rl = model.predict(x_test_rl_pca)\n",
    "print(\"Accuracy\", metrics.r2_score(y_test_rl, keras_pred_rl))\n",
    "\n",
    "keras_rl = pd.DataFrame({\"Actual\":y_test_rl.to_numpy().flatten(),\n",
    "                       \"Predicted\":keras_pred_rl.flatten()})\n",
    "\n",
    "print(np.corrcoef(keras_rl[\"Actual\"],keras_rl[\"Predicted\"])[1][0])\n",
    "keras_rl.head(100).plot(kind = \"bar\", figsize=(25, 10))\n",
    "plt.grid(which=\"major\", linestyle = \"-\", linewidth = \"0.5\")\n",
    "plt.show()\n",
    "display(keras_rl.head(100))"
   ]
  },
  {
   "cell_type": "markdown",
   "metadata": {},
   "source": [
    "## Lets make Average"
   ]
  },
  {
   "cell_type": "code",
   "execution_count": null,
   "metadata": {
    "ExecuteTime": {
     "start_time": "2020-07-03T07:42:58.333Z"
    }
   },
   "outputs": [],
   "source": [
    "#average = df.\n",
    "predicted = pd.concat([keras_rl.mean(axis=1), keras_gc.mean(axis = 1)],axis=1).mean(axis = 1)"
   ]
  },
  {
   "cell_type": "code",
   "execution_count": null,
   "metadata": {
    "ExecuteTime": {
     "start_time": "2020-07-03T07:42:58.770Z"
    }
   },
   "outputs": [],
   "source": [
    "y_test.shape , predicted.shape"
   ]
  },
  {
   "cell_type": "code",
   "execution_count": null,
   "metadata": {
    "ExecuteTime": {
     "start_time": "2020-07-03T07:42:59.138Z"
    }
   },
   "outputs": [],
   "source": [
    "y_test = y_test.reset_index(drop=True)"
   ]
  },
  {
   "cell_type": "code",
   "execution_count": null,
   "metadata": {
    "ExecuteTime": {
     "start_time": "2020-07-03T07:42:59.514Z"
    }
   },
   "outputs": [],
   "source": [
    "predicted.head()"
   ]
  },
  {
   "cell_type": "code",
   "execution_count": null,
   "metadata": {
    "ExecuteTime": {
     "start_time": "2020-07-03T07:42:59.873Z"
    }
   },
   "outputs": [],
   "source": [
    "#test = pd.DataFrame(y_test)\n",
    "#predicted = pd.DataFrame(predicted)\n",
    "predicted.columns = [\"Predicted\"]\n",
    "predicted_merged = pd.concat([test,predicted],axis=1)\n",
    "predicted_merged.head()"
   ]
  },
  {
   "cell_type": "code",
   "execution_count": null,
   "metadata": {
    "ExecuteTime": {
     "start_time": "2020-07-03T07:43:00.243Z"
    }
   },
   "outputs": [],
   "source": [
    "print(\"Accuracy\", metrics.r2_score(predicted_merged[\"Predicted\"], predicted_merged[\"GC\"]))\n",
    "print(np.corrcoef(predicted_merged[\"Predicted\"], predicted_merged[\"GC\"])[1][0]) # Correlation\n",
    "\n",
    "predicted_merged.tail(150).plot(kind = \"bar\", figsize=(25, 10))\n",
    "plt.grid(which=\"major\", linestyle = \"-\", linewidth = \"0.5\")\n",
    "plt.show()\n",
    "display(predicted_merged.head(100))"
   ]
  },
  {
   "cell_type": "code",
   "execution_count": null,
   "metadata": {},
   "outputs": [],
   "source": []
  }
 ],
 "metadata": {
  "kernelspec": {
   "display_name": "Python 3",
   "language": "python",
   "name": "python3"
  },
  "language_info": {
   "codemirror_mode": {
    "name": "ipython",
    "version": 3
   },
   "file_extension": ".py",
   "mimetype": "text/x-python",
   "name": "python",
   "nbconvert_exporter": "python",
   "pygments_lexer": "ipython3",
   "version": "3.7.6"
  },
  "nbTranslate": {
   "displayLangs": [
    "*"
   ],
   "hotkey": "alt-t",
   "langInMainMenu": true,
   "sourceLang": "en",
   "targetLang": "fr",
   "useGoogleTranslate": true
  },
  "toc": {
   "base_numbering": 1,
   "nav_menu": {},
   "number_sections": true,
   "sideBar": true,
   "skip_h1_title": false,
   "title_cell": "Table of Contents",
   "title_sidebar": "Contents",
   "toc_cell": false,
   "toc_position": {},
   "toc_section_display": true,
   "toc_window_display": false
  }
 },
 "nbformat": 4,
 "nbformat_minor": 4
}
