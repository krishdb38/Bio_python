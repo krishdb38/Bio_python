{
 "cells": [
  {
   "cell_type": "code",
   "execution_count": 1,
   "metadata": {
    "ExecuteTime": {
     "end_time": "2020-07-03T04:45:52.265487Z",
     "start_time": "2020-07-03T04:45:52.262487Z"
    }
   },
   "outputs": [],
   "source": [
    "# here I did prediction with combined data sets of \n",
    "# Read Length and Read Count"
   ]
  },
  {
   "cell_type": "code",
   "execution_count": 24,
   "metadata": {
    "ExecuteTime": {
     "end_time": "2020-07-03T05:03:15.109739Z",
     "start_time": "2020-07-03T05:03:15.106740Z"
    }
   },
   "outputs": [],
   "source": [
    "import pandas as pd\n",
    "import numpy as np\n",
    "import matplotlib.pyplot as plt\n",
    "\n",
    "from sklearn.model_selection import train_test_split\n",
    "from sklearn import linear_model"
   ]
  },
  {
   "cell_type": "code",
   "execution_count": 9,
   "metadata": {
    "ExecuteTime": {
     "end_time": "2020-07-03T04:50:49.680200Z",
     "start_time": "2020-07-03T04:50:10.911090Z"
    }
   },
   "outputs": [],
   "source": [
    "df_gc = pd.read_csv(\"../../datas_not_to_upload/gc_drop_null.csv\")\n",
    "df_rl = pd.read_csv(\"../../datas_not_to_upload/rl_drop_null.csv\")"
   ]
  },
  {
   "cell_type": "code",
   "execution_count": 11,
   "metadata": {
    "ExecuteTime": {
     "end_time": "2020-07-03T04:50:51.846090Z",
     "start_time": "2020-07-03T04:50:51.830090Z"
    }
   },
   "outputs": [
    {
     "data": {
      "text/html": [
       "<div>\n",
       "<style scoped>\n",
       "    .dataframe tbody tr th:only-of-type {\n",
       "        vertical-align: middle;\n",
       "    }\n",
       "\n",
       "    .dataframe tbody tr th {\n",
       "        vertical-align: top;\n",
       "    }\n",
       "\n",
       "    .dataframe thead th {\n",
       "        text-align: right;\n",
       "    }\n",
       "</style>\n",
       "<table border=\"1\" class=\"dataframe\">\n",
       "  <thead>\n",
       "    <tr style=\"text-align: right;\">\n",
       "      <th></th>\n",
       "      <th>GC</th>\n",
       "      <th>V1</th>\n",
       "      <th>V2</th>\n",
       "      <th>V3</th>\n",
       "      <th>V4</th>\n",
       "      <th>V5</th>\n",
       "      <th>V6</th>\n",
       "      <th>V7</th>\n",
       "      <th>V8</th>\n",
       "      <th>V9</th>\n",
       "      <th>...</th>\n",
       "      <th>V9607</th>\n",
       "      <th>V9608</th>\n",
       "      <th>V9609</th>\n",
       "      <th>V9610</th>\n",
       "      <th>V9611</th>\n",
       "      <th>V9612</th>\n",
       "      <th>V9613</th>\n",
       "      <th>V9614</th>\n",
       "      <th>V9615</th>\n",
       "      <th>V9616</th>\n",
       "    </tr>\n",
       "  </thead>\n",
       "  <tbody>\n",
       "    <tr>\n",
       "      <th>0</th>\n",
       "      <td>19.052706</td>\n",
       "      <td>0.879025</td>\n",
       "      <td>0.687329</td>\n",
       "      <td>0.983194</td>\n",
       "      <td>0.970820</td>\n",
       "      <td>0.900728</td>\n",
       "      <td>0.735702</td>\n",
       "      <td>0.960757</td>\n",
       "      <td>1.074772</td>\n",
       "      <td>1.597032</td>\n",
       "      <td>...</td>\n",
       "      <td>1.155784</td>\n",
       "      <td>1.183426</td>\n",
       "      <td>1.116000</td>\n",
       "      <td>1.136232</td>\n",
       "      <td>1.055771</td>\n",
       "      <td>0.805667</td>\n",
       "      <td>0.880747</td>\n",
       "      <td>0.861866</td>\n",
       "      <td>0.799674</td>\n",
       "      <td>1.012808</td>\n",
       "    </tr>\n",
       "    <tr>\n",
       "      <th>1</th>\n",
       "      <td>17.772070</td>\n",
       "      <td>0.869801</td>\n",
       "      <td>0.620215</td>\n",
       "      <td>1.008849</td>\n",
       "      <td>0.926203</td>\n",
       "      <td>0.884105</td>\n",
       "      <td>0.884811</td>\n",
       "      <td>1.020117</td>\n",
       "      <td>0.987255</td>\n",
       "      <td>1.335856</td>\n",
       "      <td>...</td>\n",
       "      <td>1.083800</td>\n",
       "      <td>1.294737</td>\n",
       "      <td>1.187249</td>\n",
       "      <td>1.054525</td>\n",
       "      <td>1.070078</td>\n",
       "      <td>0.836637</td>\n",
       "      <td>0.914356</td>\n",
       "      <td>0.805049</td>\n",
       "      <td>0.695066</td>\n",
       "      <td>1.020791</td>\n",
       "    </tr>\n",
       "  </tbody>\n",
       "</table>\n",
       "<p>2 rows × 8809 columns</p>\n",
       "</div>"
      ],
      "text/plain": [
       "          GC        V1        V2        V3        V4        V5        V6  \\\n",
       "0  19.052706  0.879025  0.687329  0.983194  0.970820  0.900728  0.735702   \n",
       "1  17.772070  0.869801  0.620215  1.008849  0.926203  0.884105  0.884811   \n",
       "\n",
       "         V7        V8        V9  ...     V9607     V9608     V9609     V9610  \\\n",
       "0  0.960757  1.074772  1.597032  ...  1.155784  1.183426  1.116000  1.136232   \n",
       "1  1.020117  0.987255  1.335856  ...  1.083800  1.294737  1.187249  1.054525   \n",
       "\n",
       "      V9611     V9612     V9613     V9614     V9615     V9616  \n",
       "0  1.055771  0.805667  0.880747  0.861866  0.799674  1.012808  \n",
       "1  1.070078  0.836637  0.914356  0.805049  0.695066  1.020791  \n",
       "\n",
       "[2 rows x 8809 columns]"
      ]
     },
     "execution_count": 11,
     "metadata": {},
     "output_type": "execute_result"
    }
   ],
   "source": [
    "df_gc.head(2)"
   ]
  },
  {
   "cell_type": "code",
   "execution_count": 13,
   "metadata": {
    "ExecuteTime": {
     "end_time": "2020-07-03T04:51:13.181286Z",
     "start_time": "2020-07-03T04:51:13.165287Z"
    }
   },
   "outputs": [
    {
     "data": {
      "text/html": [
       "<div>\n",
       "<style scoped>\n",
       "    .dataframe tbody tr th:only-of-type {\n",
       "        vertical-align: middle;\n",
       "    }\n",
       "\n",
       "    .dataframe tbody tr th {\n",
       "        vertical-align: top;\n",
       "    }\n",
       "\n",
       "    .dataframe thead th {\n",
       "        text-align: right;\n",
       "    }\n",
       "</style>\n",
       "<table border=\"1\" class=\"dataframe\">\n",
       "  <thead>\n",
       "    <tr style=\"text-align: right;\">\n",
       "      <th></th>\n",
       "      <th>GC</th>\n",
       "      <th>V1</th>\n",
       "      <th>V2</th>\n",
       "      <th>V3</th>\n",
       "      <th>V4</th>\n",
       "      <th>V5</th>\n",
       "      <th>V6</th>\n",
       "      <th>V7</th>\n",
       "      <th>V8</th>\n",
       "      <th>V9</th>\n",
       "      <th>...</th>\n",
       "      <th>V3601</th>\n",
       "      <th>V3602</th>\n",
       "      <th>V3603</th>\n",
       "      <th>V3604</th>\n",
       "      <th>V3605</th>\n",
       "      <th>V3606</th>\n",
       "      <th>V3607</th>\n",
       "      <th>V3608</th>\n",
       "      <th>V3609</th>\n",
       "      <th>V3610</th>\n",
       "    </tr>\n",
       "  </thead>\n",
       "  <tbody>\n",
       "    <tr>\n",
       "      <th>0</th>\n",
       "      <td>19.052706</td>\n",
       "      <td>1.179333</td>\n",
       "      <td>1.334434</td>\n",
       "      <td>1.403288</td>\n",
       "      <td>1.541632</td>\n",
       "      <td>1.325201</td>\n",
       "      <td>1.101396</td>\n",
       "      <td>1.096208</td>\n",
       "      <td>1.169582</td>\n",
       "      <td>1.201159</td>\n",
       "      <td>...</td>\n",
       "      <td>1.214459</td>\n",
       "      <td>1.137815</td>\n",
       "      <td>1.084471</td>\n",
       "      <td>1.334146</td>\n",
       "      <td>1.159960</td>\n",
       "      <td>1.072909</td>\n",
       "      <td>1.194103</td>\n",
       "      <td>1.202118</td>\n",
       "      <td>1.307157</td>\n",
       "      <td>0.847474</td>\n",
       "    </tr>\n",
       "    <tr>\n",
       "      <th>1</th>\n",
       "      <td>17.772070</td>\n",
       "      <td>1.148473</td>\n",
       "      <td>1.422455</td>\n",
       "      <td>1.373932</td>\n",
       "      <td>1.515307</td>\n",
       "      <td>1.337463</td>\n",
       "      <td>1.077379</td>\n",
       "      <td>1.061001</td>\n",
       "      <td>1.157020</td>\n",
       "      <td>1.258965</td>\n",
       "      <td>...</td>\n",
       "      <td>1.162154</td>\n",
       "      <td>1.197372</td>\n",
       "      <td>1.216741</td>\n",
       "      <td>1.290969</td>\n",
       "      <td>1.162834</td>\n",
       "      <td>1.072192</td>\n",
       "      <td>1.150107</td>\n",
       "      <td>1.194950</td>\n",
       "      <td>1.369463</td>\n",
       "      <td>1.132686</td>\n",
       "    </tr>\n",
       "    <tr>\n",
       "      <th>2</th>\n",
       "      <td>16.200000</td>\n",
       "      <td>1.189828</td>\n",
       "      <td>1.341258</td>\n",
       "      <td>1.318985</td>\n",
       "      <td>1.428393</td>\n",
       "      <td>1.231587</td>\n",
       "      <td>1.093561</td>\n",
       "      <td>1.002102</td>\n",
       "      <td>1.112995</td>\n",
       "      <td>1.176748</td>\n",
       "      <td>...</td>\n",
       "      <td>1.126933</td>\n",
       "      <td>1.119189</td>\n",
       "      <td>1.113998</td>\n",
       "      <td>1.172282</td>\n",
       "      <td>1.123764</td>\n",
       "      <td>1.037933</td>\n",
       "      <td>1.087116</td>\n",
       "      <td>1.221538</td>\n",
       "      <td>1.271180</td>\n",
       "      <td>1.165280</td>\n",
       "    </tr>\n",
       "  </tbody>\n",
       "</table>\n",
       "<p>3 rows × 3146 columns</p>\n",
       "</div>"
      ],
      "text/plain": [
       "          GC        V1        V2        V3        V4        V5        V6  \\\n",
       "0  19.052706  1.179333  1.334434  1.403288  1.541632  1.325201  1.101396   \n",
       "1  17.772070  1.148473  1.422455  1.373932  1.515307  1.337463  1.077379   \n",
       "2  16.200000  1.189828  1.341258  1.318985  1.428393  1.231587  1.093561   \n",
       "\n",
       "         V7        V8        V9  ...     V3601     V3602     V3603     V3604  \\\n",
       "0  1.096208  1.169582  1.201159  ...  1.214459  1.137815  1.084471  1.334146   \n",
       "1  1.061001  1.157020  1.258965  ...  1.162154  1.197372  1.216741  1.290969   \n",
       "2  1.002102  1.112995  1.176748  ...  1.126933  1.119189  1.113998  1.172282   \n",
       "\n",
       "      V3605     V3606     V3607     V3608     V3609     V3610  \n",
       "0  1.159960  1.072909  1.194103  1.202118  1.307157  0.847474  \n",
       "1  1.162834  1.072192  1.150107  1.194950  1.369463  1.132686  \n",
       "2  1.123764  1.037933  1.087116  1.221538  1.271180  1.165280  \n",
       "\n",
       "[3 rows x 3146 columns]"
      ]
     },
     "execution_count": 13,
     "metadata": {},
     "output_type": "execute_result"
    }
   ],
   "source": [
    "df_rl.head(3)"
   ]
  },
  {
   "cell_type": "code",
   "execution_count": null,
   "metadata": {
    "ExecuteTime": {
     "end_time": "2020-07-03T04:42:16.984869Z",
     "start_time": "2020-07-03T04:40:13.911838Z"
    }
   },
   "outputs": [],
   "source": [
    "## \n",
    "#df_gc.drop([col for col,value in df_gc.sum().iteritems() if value < 10],axis=1, inplace=True)\n",
    "#pd.concat([y,df_gc],axis=1).to_csv(\"../../datas_not_to_upload/gc_drop_null.csv\")"
   ]
  },
  {
   "cell_type": "markdown",
   "metadata": {},
   "source": [
    "# Split data to Train and Test Sets\n"
   ]
  },
  {
   "cell_type": "code",
   "execution_count": 74,
   "metadata": {
    "ExecuteTime": {
     "end_time": "2020-07-03T05:16:08.584423Z",
     "start_time": "2020-07-03T05:16:08.580392Z"
    }
   },
   "outputs": [],
   "source": [
    "x_rl = df_rl.iloc[:,1:]\n",
    "x_gc = df_gc.iloc[:,1:]\n",
    "y = df_rl[\"GC\"]"
   ]
  },
  {
   "cell_type": "code",
   "execution_count": 65,
   "metadata": {
    "ExecuteTime": {
     "end_time": "2020-07-03T05:11:30.264145Z",
     "start_time": "2020-07-03T05:11:30.259158Z"
    }
   },
   "outputs": [],
   "source": [
    "def split_data(x,test_size = 0.20, random_state =10 ):\n",
    "    return train_test_split(x, y, test_size=test_size, random_state=random_state)"
   ]
  },
  {
   "cell_type": "code",
   "execution_count": 75,
   "metadata": {
    "ExecuteTime": {
     "end_time": "2020-07-03T05:16:11.820109Z",
     "start_time": "2020-07-03T05:16:11.050073Z"
    }
   },
   "outputs": [],
   "source": [
    "x_train_rl, x_test_rl, y_train_rl, y_test_rl = split_data(x_rl,test_size=0.2, random_state=10)\n",
    "x_train_gc, x_test_gc , y_train_gc, y_test_gc = split_data(x_gc,test_size=0.2,random_state=10)"
   ]
  },
  {
   "cell_type": "code",
   "execution_count": 77,
   "metadata": {
    "ExecuteTime": {
     "end_time": "2020-07-03T05:16:33.862297Z",
     "start_time": "2020-07-03T05:16:33.829328Z"
    }
   },
   "outputs": [
    {
     "name": "stdout",
     "output_type": "stream",
     "text": [
      "x_train _rl 3\n"
     ]
    },
    {
     "data": {
      "text/html": [
       "<div>\n",
       "<style scoped>\n",
       "    .dataframe tbody tr th:only-of-type {\n",
       "        vertical-align: middle;\n",
       "    }\n",
       "\n",
       "    .dataframe tbody tr th {\n",
       "        vertical-align: top;\n",
       "    }\n",
       "\n",
       "    .dataframe thead th {\n",
       "        text-align: right;\n",
       "    }\n",
       "</style>\n",
       "<table border=\"1\" class=\"dataframe\">\n",
       "  <thead>\n",
       "    <tr style=\"text-align: right;\">\n",
       "      <th></th>\n",
       "      <th>V1</th>\n",
       "      <th>V2</th>\n",
       "      <th>V3</th>\n",
       "      <th>V4</th>\n",
       "      <th>V5</th>\n",
       "      <th>V6</th>\n",
       "      <th>V7</th>\n",
       "      <th>V8</th>\n",
       "      <th>V9</th>\n",
       "      <th>V10</th>\n",
       "      <th>...</th>\n",
       "      <th>V3601</th>\n",
       "      <th>V3602</th>\n",
       "      <th>V3603</th>\n",
       "      <th>V3604</th>\n",
       "      <th>V3605</th>\n",
       "      <th>V3606</th>\n",
       "      <th>V3607</th>\n",
       "      <th>V3608</th>\n",
       "      <th>V3609</th>\n",
       "      <th>V3610</th>\n",
       "    </tr>\n",
       "  </thead>\n",
       "  <tbody>\n",
       "    <tr>\n",
       "      <th>937</th>\n",
       "      <td>1.148863</td>\n",
       "      <td>1.236624</td>\n",
       "      <td>1.273476</td>\n",
       "      <td>1.594509</td>\n",
       "      <td>1.119174</td>\n",
       "      <td>1.017691</td>\n",
       "      <td>0.946570</td>\n",
       "      <td>0.997322</td>\n",
       "      <td>1.146759</td>\n",
       "      <td>1.075649</td>\n",
       "      <td>...</td>\n",
       "      <td>1.094923</td>\n",
       "      <td>1.066034</td>\n",
       "      <td>1.012995</td>\n",
       "      <td>1.124494</td>\n",
       "      <td>1.00989</td>\n",
       "      <td>0.990103</td>\n",
       "      <td>1.102685</td>\n",
       "      <td>1.138949</td>\n",
       "      <td>1.190696</td>\n",
       "      <td>1.450708</td>\n",
       "    </tr>\n",
       "    <tr>\n",
       "      <th>9355</th>\n",
       "      <td>1.247705</td>\n",
       "      <td>1.417974</td>\n",
       "      <td>1.248661</td>\n",
       "      <td>2.003602</td>\n",
       "      <td>1.166130</td>\n",
       "      <td>1.036487</td>\n",
       "      <td>0.970803</td>\n",
       "      <td>1.150281</td>\n",
       "      <td>1.234875</td>\n",
       "      <td>1.115482</td>\n",
       "      <td>...</td>\n",
       "      <td>1.247111</td>\n",
       "      <td>1.138742</td>\n",
       "      <td>1.156699</td>\n",
       "      <td>1.214721</td>\n",
       "      <td>1.14126</td>\n",
       "      <td>1.029806</td>\n",
       "      <td>1.057033</td>\n",
       "      <td>1.288271</td>\n",
       "      <td>1.356013</td>\n",
       "      <td>1.359966</td>\n",
       "    </tr>\n",
       "    <tr>\n",
       "      <th>2293</th>\n",
       "      <td>1.217422</td>\n",
       "      <td>1.264813</td>\n",
       "      <td>1.180422</td>\n",
       "      <td>1.665205</td>\n",
       "      <td>1.140997</td>\n",
       "      <td>1.014608</td>\n",
       "      <td>0.970974</td>\n",
       "      <td>0.997261</td>\n",
       "      <td>1.109847</td>\n",
       "      <td>0.999425</td>\n",
       "      <td>...</td>\n",
       "      <td>1.052208</td>\n",
       "      <td>1.009529</td>\n",
       "      <td>1.000934</td>\n",
       "      <td>1.131235</td>\n",
       "      <td>1.04064</td>\n",
       "      <td>1.029634</td>\n",
       "      <td>1.034725</td>\n",
       "      <td>1.126542</td>\n",
       "      <td>1.308551</td>\n",
       "      <td>0.984150</td>\n",
       "    </tr>\n",
       "  </tbody>\n",
       "</table>\n",
       "<p>3 rows × 3145 columns</p>\n",
       "</div>"
      ],
      "text/plain": [
       "            V1        V2        V3        V4        V5        V6        V7  \\\n",
       "937   1.148863  1.236624  1.273476  1.594509  1.119174  1.017691  0.946570   \n",
       "9355  1.247705  1.417974  1.248661  2.003602  1.166130  1.036487  0.970803   \n",
       "2293  1.217422  1.264813  1.180422  1.665205  1.140997  1.014608  0.970974   \n",
       "\n",
       "            V8        V9       V10  ...     V3601     V3602     V3603  \\\n",
       "937   0.997322  1.146759  1.075649  ...  1.094923  1.066034  1.012995   \n",
       "9355  1.150281  1.234875  1.115482  ...  1.247111  1.138742  1.156699   \n",
       "2293  0.997261  1.109847  0.999425  ...  1.052208  1.009529  1.000934   \n",
       "\n",
       "         V3604    V3605     V3606     V3607     V3608     V3609     V3610  \n",
       "937   1.124494  1.00989  0.990103  1.102685  1.138949  1.190696  1.450708  \n",
       "9355  1.214721  1.14126  1.029806  1.057033  1.288271  1.356013  1.359966  \n",
       "2293  1.131235  1.04064  1.029634  1.034725  1.126542  1.308551  0.984150  \n",
       "\n",
       "[3 rows x 3145 columns]"
      ]
     },
     "metadata": {},
     "output_type": "display_data"
    },
    {
     "name": "stdout",
     "output_type": "stream",
     "text": [
      "x_train_gc 3\n"
     ]
    },
    {
     "data": {
      "text/html": [
       "<div>\n",
       "<style scoped>\n",
       "    .dataframe tbody tr th:only-of-type {\n",
       "        vertical-align: middle;\n",
       "    }\n",
       "\n",
       "    .dataframe tbody tr th {\n",
       "        vertical-align: top;\n",
       "    }\n",
       "\n",
       "    .dataframe thead th {\n",
       "        text-align: right;\n",
       "    }\n",
       "</style>\n",
       "<table border=\"1\" class=\"dataframe\">\n",
       "  <thead>\n",
       "    <tr style=\"text-align: right;\">\n",
       "      <th></th>\n",
       "      <th>V1</th>\n",
       "      <th>V2</th>\n",
       "      <th>V3</th>\n",
       "      <th>V4</th>\n",
       "      <th>V5</th>\n",
       "      <th>V6</th>\n",
       "      <th>V7</th>\n",
       "      <th>V8</th>\n",
       "      <th>V9</th>\n",
       "      <th>V10</th>\n",
       "      <th>...</th>\n",
       "      <th>V9607</th>\n",
       "      <th>V9608</th>\n",
       "      <th>V9609</th>\n",
       "      <th>V9610</th>\n",
       "      <th>V9611</th>\n",
       "      <th>V9612</th>\n",
       "      <th>V9613</th>\n",
       "      <th>V9614</th>\n",
       "      <th>V9615</th>\n",
       "      <th>V9616</th>\n",
       "    </tr>\n",
       "  </thead>\n",
       "  <tbody>\n",
       "    <tr>\n",
       "      <th>937</th>\n",
       "      <td>0.959231</td>\n",
       "      <td>0.799453</td>\n",
       "      <td>1.326316</td>\n",
       "      <td>0.821119</td>\n",
       "      <td>0.956507</td>\n",
       "      <td>0.772290</td>\n",
       "      <td>0.983940</td>\n",
       "      <td>0.984026</td>\n",
       "      <td>1.586564</td>\n",
       "      <td>1.278902</td>\n",
       "      <td>...</td>\n",
       "      <td>1.218071</td>\n",
       "      <td>1.265855</td>\n",
       "      <td>1.248562</td>\n",
       "      <td>1.234563</td>\n",
       "      <td>1.086126</td>\n",
       "      <td>0.844246</td>\n",
       "      <td>0.817693</td>\n",
       "      <td>0.876737</td>\n",
       "      <td>0.709895</td>\n",
       "      <td>1.023527</td>\n",
       "    </tr>\n",
       "    <tr>\n",
       "      <th>9355</th>\n",
       "      <td>0.869949</td>\n",
       "      <td>0.875055</td>\n",
       "      <td>1.135056</td>\n",
       "      <td>0.953710</td>\n",
       "      <td>0.850591</td>\n",
       "      <td>0.891380</td>\n",
       "      <td>1.033587</td>\n",
       "      <td>1.058201</td>\n",
       "      <td>1.594433</td>\n",
       "      <td>1.115274</td>\n",
       "      <td>...</td>\n",
       "      <td>1.070740</td>\n",
       "      <td>1.157376</td>\n",
       "      <td>1.064536</td>\n",
       "      <td>1.045779</td>\n",
       "      <td>1.038547</td>\n",
       "      <td>0.862965</td>\n",
       "      <td>0.898523</td>\n",
       "      <td>0.920337</td>\n",
       "      <td>0.731688</td>\n",
       "      <td>1.021389</td>\n",
       "    </tr>\n",
       "    <tr>\n",
       "      <th>2293</th>\n",
       "      <td>0.844195</td>\n",
       "      <td>0.747872</td>\n",
       "      <td>1.050042</td>\n",
       "      <td>0.985533</td>\n",
       "      <td>0.853833</td>\n",
       "      <td>0.803392</td>\n",
       "      <td>0.946191</td>\n",
       "      <td>1.093843</td>\n",
       "      <td>1.664460</td>\n",
       "      <td>1.157345</td>\n",
       "      <td>...</td>\n",
       "      <td>1.125719</td>\n",
       "      <td>1.206644</td>\n",
       "      <td>1.168575</td>\n",
       "      <td>1.237721</td>\n",
       "      <td>1.091236</td>\n",
       "      <td>0.867132</td>\n",
       "      <td>0.886125</td>\n",
       "      <td>0.834293</td>\n",
       "      <td>0.743254</td>\n",
       "      <td>1.011248</td>\n",
       "    </tr>\n",
       "  </tbody>\n",
       "</table>\n",
       "<p>3 rows × 8808 columns</p>\n",
       "</div>"
      ],
      "text/plain": [
       "            V1        V2        V3        V4        V5        V6        V7  \\\n",
       "937   0.959231  0.799453  1.326316  0.821119  0.956507  0.772290  0.983940   \n",
       "9355  0.869949  0.875055  1.135056  0.953710  0.850591  0.891380  1.033587   \n",
       "2293  0.844195  0.747872  1.050042  0.985533  0.853833  0.803392  0.946191   \n",
       "\n",
       "            V8        V9       V10  ...     V9607     V9608     V9609  \\\n",
       "937   0.984026  1.586564  1.278902  ...  1.218071  1.265855  1.248562   \n",
       "9355  1.058201  1.594433  1.115274  ...  1.070740  1.157376  1.064536   \n",
       "2293  1.093843  1.664460  1.157345  ...  1.125719  1.206644  1.168575   \n",
       "\n",
       "         V9610     V9611     V9612     V9613     V9614     V9615     V9616  \n",
       "937   1.234563  1.086126  0.844246  0.817693  0.876737  0.709895  1.023527  \n",
       "9355  1.045779  1.038547  0.862965  0.898523  0.920337  0.731688  1.021389  \n",
       "2293  1.237721  1.091236  0.867132  0.886125  0.834293  0.743254  1.011248  \n",
       "\n",
       "[3 rows x 8808 columns]"
      ]
     },
     "metadata": {},
     "output_type": "display_data"
    }
   ],
   "source": [
    "# Lets Check both Index are equal or Not\n",
    "print(\"x_train _rl 3\")\n",
    "display(x_test_rl[:3])\n",
    "print(\"x_train_gc 3\")\n",
    "display(x_test_gc.head(3))\n",
    "\n",
    "print(\"y_train_rl 3\")"
   ]
  },
  {
   "cell_type": "markdown",
   "metadata": {},
   "source": [
    "# Scaling\n",
    "` There are Two Methods of Normalilzation and standardization`\n",
    "## Normalization  (change between 0~1)\n",
    "## Standardization ( distribution mean 0 and sd 1)"
   ]
  },
  {
   "cell_type": "markdown",
   "metadata": {},
   "source": [
    "## Scalling GC data sets"
   ]
  },
  {
   "cell_type": "code",
   "execution_count": 79,
   "metadata": {
    "ExecuteTime": {
     "end_time": "2020-07-03T06:31:53.995458Z",
     "start_time": "2020-07-03T06:31:50.999488Z"
    }
   },
   "outputs": [],
   "source": [
    "from sklearn.preprocessing import StandardScaler\n",
    "scaler = StandardScaler()\n",
    "scaler.fit(df_gc.iloc[:,1:])\n",
    "x_train_gc = scaler.transform(x_train_gc)\n",
    "x_test_gc = scaler.transform(x_test_gc)"
   ]
  },
  {
   "cell_type": "markdown",
   "metadata": {},
   "source": [
    "## Scalling RL data sets"
   ]
  },
  {
   "cell_type": "code",
   "execution_count": 80,
   "metadata": {
    "ExecuteTime": {
     "end_time": "2020-07-03T06:31:54.915488Z",
     "start_time": "2020-07-03T06:31:53.996457Z"
    }
   },
   "outputs": [],
   "source": [
    "from sklearn.preprocessing import StandardScaler\n",
    "scaler = StandardScaler()\n",
    "scaler.fit(df_rl.iloc[:,1:])\n",
    "x_train_rl = scaler.transform(x_train_rl)\n",
    "x_test_rl = scaler.transform(x_test_rl)"
   ]
  },
  {
   "cell_type": "markdown",
   "metadata": {},
   "source": [
    "## Bayesian Model for rl_data sets"
   ]
  },
  {
   "cell_type": "code",
   "execution_count": 81,
   "metadata": {
    "ExecuteTime": {
     "end_time": "2020-07-03T06:33:18.876418Z",
     "start_time": "2020-07-03T06:33:03.427419Z"
    }
   },
   "outputs": [
    {
     "name": "stdout",
     "output_type": "stream",
     "text": [
      "Model Accuracy is :  0.721489466849585\n"
     ]
    },
    {
     "data": {
      "image/png": "[encoded data removed]",
      "text/plain": [
       "<Figure size 2160x720 with 1 Axes>"
      ]
     },
     "metadata": {
      "needs_background": "light"
     },
     "output_type": "display_data"
    },
    {
     "data": {
      "text/html": [
       "<div>\n",
       "<style scoped>\n",
       "    .dataframe tbody tr th:only-of-type {\n",
       "        vertical-align: middle;\n",
       "    }\n",
       "\n",
       "    .dataframe tbody tr th {\n",
       "        vertical-align: top;\n",
       "    }\n",
       "\n",
       "    .dataframe thead th {\n",
       "        text-align: right;\n",
       "    }\n",
       "</style>\n",
       "<table border=\"1\" class=\"dataframe\">\n",
       "  <thead>\n",
       "    <tr style=\"text-align: right;\">\n",
       "      <th></th>\n",
       "      <th>Actual</th>\n",
       "      <th>Predicted</th>\n",
       "    </tr>\n",
       "  </thead>\n",
       "  <tbody>\n",
       "    <tr>\n",
       "      <th>0</th>\n",
       "      <td>13.119819</td>\n",
       "      <td>9.317595</td>\n",
       "    </tr>\n",
       "    <tr>\n",
       "      <th>1</th>\n",
       "      <td>6.287667</td>\n",
       "      <td>6.744465</td>\n",
       "    </tr>\n",
       "    <tr>\n",
       "      <th>2</th>\n",
       "      <td>13.004863</td>\n",
       "      <td>14.139963</td>\n",
       "    </tr>\n",
       "    <tr>\n",
       "      <th>3</th>\n",
       "      <td>14.370000</td>\n",
       "      <td>11.965627</td>\n",
       "    </tr>\n",
       "    <tr>\n",
       "      <th>4</th>\n",
       "      <td>6.223930</td>\n",
       "      <td>4.733303</td>\n",
       "    </tr>\n",
       "  </tbody>\n",
       "</table>\n",
       "</div>"
      ],
      "text/plain": [
       "      Actual  Predicted\n",
       "0  13.119819   9.317595\n",
       "1   6.287667   6.744465\n",
       "2  13.004863  14.139963\n",
       "3  14.370000  11.965627\n",
       "4   6.223930   4.733303"
      ]
     },
     "execution_count": 81,
     "metadata": {},
     "output_type": "execute_result"
    }
   ],
   "source": [
    "# Bayesian in Original Data Before Scalling\n",
    "bayesian_ = linear_model.BayesianRidge().fit(x_train_rl, y_train_rl)\n",
    "bayesian_y_pred_ = bayesian_.predict(x_test_rl)\n",
    "bayesian_ = pd.DataFrame({\"Actual\":y_test.to_numpy().flatten(), \"Predicted\":bayesian_y_pred_.flatten()})\n",
    "\n",
    "print(\"Model Accuracy is : \", metrics.r2_score(y_test, bayesian_y_pred_))\n",
    "bayesian_.head(150).plot(kind = \"bar\", figsize=(30, 10))\n",
    "plt.grid(which=\"major\", linestyle = \"-\", linewidth = \"0.5\")\n",
    "plt.show()\n",
    "\n",
    "bayesian_.head()"
   ]
  },
  {
   "cell_type": "markdown",
   "metadata": {},
   "source": [
    "## bayesian Model for gc_data Sets"
   ]
  },
  {
   "cell_type": "code",
   "execution_count": 82,
   "metadata": {
    "ExecuteTime": {
     "end_time": "2020-07-03T06:38:38.016333Z",
     "start_time": "2020-07-03T06:33:53.556305Z"
    }
   },
   "outputs": [
    {
     "name": "stdout",
     "output_type": "stream",
     "text": [
      "Model Accuracy is :  0.7138383777689159\n"
     ]
    },
    {
     "data": {
      "image/png": "[encoded data removed]",
      "text/plain": [
       "<Figure size 2160x720 with 1 Axes>"
      ]
     },
     "metadata": {
      "needs_background": "light"
     },
     "output_type": "display_data"
    },
    {
     "data": {
      "text/html": [
       "<div>\n",
       "<style scoped>\n",
       "    .dataframe tbody tr th:only-of-type {\n",
       "        vertical-align: middle;\n",
       "    }\n",
       "\n",
       "    .dataframe tbody tr th {\n",
       "        vertical-align: top;\n",
       "    }\n",
       "\n",
       "    .dataframe thead th {\n",
       "        text-align: right;\n",
       "    }\n",
       "</style>\n",
       "<table border=\"1\" class=\"dataframe\">\n",
       "  <thead>\n",
       "    <tr style=\"text-align: right;\">\n",
       "      <th></th>\n",
       "      <th>Actual</th>\n",
       "      <th>Predicted</th>\n",
       "    </tr>\n",
       "  </thead>\n",
       "  <tbody>\n",
       "    <tr>\n",
       "      <th>0</th>\n",
       "      <td>13.119819</td>\n",
       "      <td>9.292591</td>\n",
       "    </tr>\n",
       "    <tr>\n",
       "      <th>1</th>\n",
       "      <td>6.287667</td>\n",
       "      <td>4.895576</td>\n",
       "    </tr>\n",
       "    <tr>\n",
       "      <th>2</th>\n",
       "      <td>13.004863</td>\n",
       "      <td>9.722117</td>\n",
       "    </tr>\n",
       "    <tr>\n",
       "      <th>3</th>\n",
       "      <td>14.370000</td>\n",
       "      <td>14.623960</td>\n",
       "    </tr>\n",
       "    <tr>\n",
       "      <th>4</th>\n",
       "      <td>6.223930</td>\n",
       "      <td>5.875661</td>\n",
       "    </tr>\n",
       "  </tbody>\n",
       "</table>\n",
       "</div>"
      ],
      "text/plain": [
       "      Actual  Predicted\n",
       "0  13.119819   9.292591\n",
       "1   6.287667   4.895576\n",
       "2  13.004863   9.722117\n",
       "3  14.370000  14.623960\n",
       "4   6.223930   5.875661"
      ]
     },
     "execution_count": 82,
     "metadata": {},
     "output_type": "execute_result"
    }
   ],
   "source": [
    "# Bayesian in Original Data Before Scalling\n",
    "bayesian_ = linear_model.BayesianRidge().fit(x_train_gc, y_train_gc)\n",
    "bayesian_y_pred_ = bayesian_.predict(x_test_gc)\n",
    "bayesian_gc = pd.DataFrame({\"Actual\":y_test.to_numpy().flatten(), \"Predicted\":bayesian_y_pred_.flatten()})\n",
    "\n",
    "print(\"Model Accuracy is : \", metrics.r2_score(y_test, bayesian_y_pred_))\n",
    "bayesian_gc.head(150).plot(kind = \"bar\", figsize=(30, 10))\n",
    "plt.grid(which=\"major\", linestyle = \"-\", linewidth = \"0.5\")\n",
    "plt.show()\n",
    "\n",
    "bayesian_gc.head()"
   ]
  },
  {
   "cell_type": "markdown",
   "metadata": {},
   "source": [
    "# PCA"
   ]
  },
  {
   "cell_type": "markdown",
   "metadata": {},
   "source": [
    "## GC"
   ]
  },
  {
   "cell_type": "code",
   "execution_count": 89,
   "metadata": {
    "ExecuteTime": {
     "end_time": "2020-07-03T06:40:30.621412Z",
     "start_time": "2020-07-03T06:40:30.617447Z"
    }
   },
   "outputs": [],
   "source": [
    "from sklearn.decomposition import PCA\n",
    "pca = PCA(200)\n",
    "pca.fit(x_train_gc)\n",
    "x_train_gc_pca = pca.transform(x_train_gc)\n",
    "x_test_gc_pca = pca.transform(x_test_gc)"
   ]
  },
  {
   "cell_type": "markdown",
   "metadata": {
    "ExecuteTime": {
     "end_time": "2020-07-03T06:40:35.586788Z",
     "start_time": "2020-07-03T06:40:31.056786Z"
    }
   },
   "source": [
    "## RL"
   ]
  },
  {
   "cell_type": "code",
   "execution_count": 97,
   "metadata": {
    "ExecuteTime": {
     "end_time": "2020-07-03T06:44:27.424222Z",
     "start_time": "2020-07-03T06:44:25.082223Z"
    }
   },
   "outputs": [],
   "source": [
    "from sklearn.decomposition import PCA\n",
    "pca = PCA(300)\n",
    "pca.fit(x_train_rl)\n",
    "x_train_rl_pca = pca.transform(x_train_rl)\n",
    "x_test_rl_pca = pca.transform(x_test_rl)"
   ]
  },
  {
   "cell_type": "markdown",
   "metadata": {},
   "source": [
    "## Bayesian Regression from PCA Data Sets"
   ]
  },
  {
   "cell_type": "code",
   "execution_count": 93,
   "metadata": {
    "ExecuteTime": {
     "end_time": "2020-07-03T06:41:05.933247Z",
     "start_time": "2020-07-03T06:41:04.929248Z"
    }
   },
   "outputs": [
    {
     "name": "stdout",
     "output_type": "stream",
     "text": [
      "Model Accuracy is :  0.7436010713477261\n"
     ]
    },
    {
     "data": {
      "image/png": "[encoded data removed]",
      "text/plain": [
       "<Figure size 1800x720 with 1 Axes>"
      ]
     },
     "metadata": {
      "needs_background": "light"
     },
     "output_type": "display_data"
    },
    {
     "data": {
      "text/html": [
       "<div>\n",
       "<style scoped>\n",
       "    .dataframe tbody tr th:only-of-type {\n",
       "        vertical-align: middle;\n",
       "    }\n",
       "\n",
       "    .dataframe tbody tr th {\n",
       "        vertical-align: top;\n",
       "    }\n",
       "\n",
       "    .dataframe thead th {\n",
       "        text-align: right;\n",
       "    }\n",
       "</style>\n",
       "<table border=\"1\" class=\"dataframe\">\n",
       "  <thead>\n",
       "    <tr style=\"text-align: right;\">\n",
       "      <th></th>\n",
       "      <th>Actual</th>\n",
       "      <th>Predicted</th>\n",
       "    </tr>\n",
       "  </thead>\n",
       "  <tbody>\n",
       "    <tr>\n",
       "      <th>0</th>\n",
       "      <td>13.119819</td>\n",
       "      <td>12.864292</td>\n",
       "    </tr>\n",
       "    <tr>\n",
       "      <th>1</th>\n",
       "      <td>6.287667</td>\n",
       "      <td>7.446336</td>\n",
       "    </tr>\n",
       "    <tr>\n",
       "      <th>2</th>\n",
       "      <td>13.004863</td>\n",
       "      <td>11.688696</td>\n",
       "    </tr>\n",
       "    <tr>\n",
       "      <th>3</th>\n",
       "      <td>14.370000</td>\n",
       "      <td>14.260126</td>\n",
       "    </tr>\n",
       "    <tr>\n",
       "      <th>4</th>\n",
       "      <td>6.223930</td>\n",
       "      <td>7.692432</td>\n",
       "    </tr>\n",
       "  </tbody>\n",
       "</table>\n",
       "</div>"
      ],
      "text/plain": [
       "      Actual  Predicted\n",
       "0  13.119819  12.864292\n",
       "1   6.287667   7.446336\n",
       "2  13.004863  11.688696\n",
       "3  14.370000  14.260126\n",
       "4   6.223930   7.692432"
      ]
     },
     "execution_count": 93,
     "metadata": {},
     "output_type": "execute_result"
    }
   ],
   "source": [
    "#In the above we can see Column reduced to 100\n",
    "# Lets Fit the Model\n",
    "bayesian_ = linear_model.BayesianRidge().fit(x_train_gc_pca, np.ravel(y_train))\n",
    "bayesian_y_pred = bayesian_.predict(x_test_gc_pca)\n",
    "bayesian_gc = pd.DataFrame({\"Actual\":np.ravel(y_test),\n",
    "                          \"Predicted\":bayesian_y_pred.flatten()})\n",
    "\n",
    "print(\"Model Accuracy is : \", metrics.r2_score(y_test, bayesian_y_pred))\n",
    "bayesian_gc.head(100).plot(kind = \"bar\", figsize=(25, 10))\n",
    "plt.grid(which=\"major\", linestyle = \"-\", linewidth = \"0.5\")\n",
    "plt.show()\n",
    "bayesian_gc.head()"
   ]
  },
  {
   "cell_type": "code",
   "execution_count": 98,
   "metadata": {
    "ExecuteTime": {
     "end_time": "2020-07-03T06:44:31.570937Z",
     "start_time": "2020-07-03T06:44:30.569978Z"
    }
   },
   "outputs": [
    {
     "name": "stdout",
     "output_type": "stream",
     "text": [
      "Model Accuracy is :  0.6692440638733319\n"
     ]
    },
    {
     "data": {
      "image/png": "[encoded data removed]",
      "text/plain": [
       "<Figure size 1800x720 with 1 Axes>"
      ]
     },
     "metadata": {
      "needs_background": "light"
     },
     "output_type": "display_data"
    },
    {
     "data": {
      "text/html": [
       "<div>\n",
       "<style scoped>\n",
       "    .dataframe tbody tr th:only-of-type {\n",
       "        vertical-align: middle;\n",
       "    }\n",
       "\n",
       "    .dataframe tbody tr th {\n",
       "        vertical-align: top;\n",
       "    }\n",
       "\n",
       "    .dataframe thead th {\n",
       "        text-align: right;\n",
       "    }\n",
       "</style>\n",
       "<table border=\"1\" class=\"dataframe\">\n",
       "  <thead>\n",
       "    <tr style=\"text-align: right;\">\n",
       "      <th></th>\n",
       "      <th>Actual</th>\n",
       "      <th>Predicted</th>\n",
       "    </tr>\n",
       "  </thead>\n",
       "  <tbody>\n",
       "    <tr>\n",
       "      <th>0</th>\n",
       "      <td>13.119819</td>\n",
       "      <td>8.264609</td>\n",
       "    </tr>\n",
       "    <tr>\n",
       "      <th>1</th>\n",
       "      <td>6.287667</td>\n",
       "      <td>8.913605</td>\n",
       "    </tr>\n",
       "    <tr>\n",
       "      <th>2</th>\n",
       "      <td>13.004863</td>\n",
       "      <td>12.285558</td>\n",
       "    </tr>\n",
       "    <tr>\n",
       "      <th>3</th>\n",
       "      <td>14.370000</td>\n",
       "      <td>11.146022</td>\n",
       "    </tr>\n",
       "    <tr>\n",
       "      <th>4</th>\n",
       "      <td>6.223930</td>\n",
       "      <td>6.962292</td>\n",
       "    </tr>\n",
       "  </tbody>\n",
       "</table>\n",
       "</div>"
      ],
      "text/plain": [
       "      Actual  Predicted\n",
       "0  13.119819   8.264609\n",
       "1   6.287667   8.913605\n",
       "2  13.004863  12.285558\n",
       "3  14.370000  11.146022\n",
       "4   6.223930   6.962292"
      ]
     },
     "execution_count": 98,
     "metadata": {},
     "output_type": "execute_result"
    }
   ],
   "source": [
    "# Read Length Data Sets\n",
    "\n",
    "#In the above we can see Column reduced to 100\n",
    "# Lets Fit the Model\n",
    "bayesian_ = linear_model.BayesianRidge().fit(x_train_rl_pca, np.ravel(y_train))\n",
    "bayesian_y_pred = bayesian_.predict(x_test_rl_pca)\n",
    "bayesian_rl = pd.DataFrame({\"Actual\":np.ravel(y_test),\n",
    "                          \"Predicted\":bayesian_y_pred.flatten()})\n",
    "\n",
    "print(\"Model Accuracy is : \", metrics.r2_score(y_test, bayesian_y_pred))\n",
    "bayesian_rl.head(100).plot(kind = \"bar\", figsize=(25, 10))\n",
    "plt.grid(which=\"major\", linestyle = \"-\", linewidth = \"0.5\")\n",
    "plt.show()\n",
    "bayesian_rl.head()"
   ]
  },
  {
   "cell_type": "markdown",
   "metadata": {},
   "source": [
    "#  Deep learning"
   ]
  },
  {
   "cell_type": "code",
   "execution_count": 101,
   "metadata": {
    "ExecuteTime": {
     "end_time": "2020-07-03T06:48:54.224372Z",
     "start_time": "2020-07-03T06:48:54.220384Z"
    }
   },
   "outputs": [
    {
     "name": "stdout",
     "output_type": "stream",
     "text": [
      "2.2.0\n"
     ]
    }
   ],
   "source": [
    "import tensorflow as tf\n",
    "from tensorflow import keras\n",
    "\n",
    "from tensorflow.keras import layers\n",
    "from tensorflow.keras.layers import Dense\n",
    "print(tf.__version__)"
   ]
  },
  {
   "cell_type": "code",
   "execution_count": 100,
   "metadata": {
    "ExecuteTime": {
     "end_time": "2020-07-03T06:46:59.605067Z",
     "start_time": "2020-07-03T06:46:59.494974Z"
    }
   },
   "outputs": [],
   "source": [
    "import tensorflow_docs as tfdocs\n",
    "import tensorflow_docs.plots\n",
    "import tensorflow_docs.modeling"
   ]
  },
  {
   "cell_type": "code",
   "execution_count": 111,
   "metadata": {
    "ExecuteTime": {
     "end_time": "2020-07-03T07:02:02.491282Z",
     "start_time": "2020-07-03T07:02:02.486281Z"
    }
   },
   "outputs": [
    {
     "data": {
      "text/plain": [
       "((8000, 200), (8000,))"
      ]
     },
     "execution_count": 111,
     "metadata": {},
     "output_type": "execute_result"
    }
   ],
   "source": [
    "x_train_gc_pca.shape, y_train.shape"
   ]
  },
  {
   "cell_type": "markdown",
   "metadata": {},
   "source": [
    "## GC"
   ]
  },
  {
   "cell_type": "code",
   "execution_count": 115,
   "metadata": {
    "ExecuteTime": {
     "end_time": "2020-07-03T07:05:03.265810Z",
     "start_time": "2020-07-03T07:04:51.195018Z"
    }
   },
   "outputs": [
    {
     "name": "stdout",
     "output_type": "stream",
     "text": [
      "\n",
      "Epoch: 0, accuracy:0.0000,  loss:47.2201,  mse:47.2201,  val_accuracy:0.0000,  val_loss:26.6198,  val_mse:26.6198,  \n",
      "....................................................................................................\n",
      "Test Accuracy = 0.000 4.549051284790039 4.549051284790039\n",
      "Accuracy 0.7123857917301792\n",
      "0.8588050618361645\n"
     ]
    },
    {
     "data": {
      "image/png": "[encoded data removed]",
      "text/plain": [
       "<Figure size 1800x720 with 1 Axes>"
      ]
     },
     "metadata": {
      "needs_background": "light"
     },
     "output_type": "display_data"
    },
    {
     "data": {
      "text/html": [
       "<div>\n",
       "<style scoped>\n",
       "    .dataframe tbody tr th:only-of-type {\n",
       "        vertical-align: middle;\n",
       "    }\n",
       "\n",
       "    .dataframe tbody tr th {\n",
       "        vertical-align: top;\n",
       "    }\n",
       "\n",
       "    .dataframe thead th {\n",
       "        text-align: right;\n",
       "    }\n",
       "</style>\n",
       "<table border=\"1\" class=\"dataframe\">\n",
       "  <thead>\n",
       "    <tr style=\"text-align: right;\">\n",
       "      <th></th>\n",
       "      <th>Actual</th>\n",
       "      <th>Predicted</th>\n",
       "    </tr>\n",
       "  </thead>\n",
       "  <tbody>\n",
       "    <tr>\n",
       "      <th>0</th>\n",
       "      <td>13.119819</td>\n",
       "      <td>12.184656</td>\n",
       "    </tr>\n",
       "    <tr>\n",
       "      <th>1</th>\n",
       "      <td>6.287667</td>\n",
       "      <td>6.645267</td>\n",
       "    </tr>\n",
       "    <tr>\n",
       "      <th>2</th>\n",
       "      <td>13.004863</td>\n",
       "      <td>10.850437</td>\n",
       "    </tr>\n",
       "    <tr>\n",
       "      <th>3</th>\n",
       "      <td>14.370000</td>\n",
       "      <td>12.792316</td>\n",
       "    </tr>\n",
       "    <tr>\n",
       "      <th>4</th>\n",
       "      <td>6.223930</td>\n",
       "      <td>6.734346</td>\n",
       "    </tr>\n",
       "    <tr>\n",
       "      <th>...</th>\n",
       "      <td>...</td>\n",
       "      <td>...</td>\n",
       "    </tr>\n",
       "    <tr>\n",
       "      <th>95</th>\n",
       "      <td>9.379613</td>\n",
       "      <td>8.760721</td>\n",
       "    </tr>\n",
       "    <tr>\n",
       "      <th>96</th>\n",
       "      <td>9.436365</td>\n",
       "      <td>8.556057</td>\n",
       "    </tr>\n",
       "    <tr>\n",
       "      <th>97</th>\n",
       "      <td>11.202495</td>\n",
       "      <td>8.802216</td>\n",
       "    </tr>\n",
       "    <tr>\n",
       "      <th>98</th>\n",
       "      <td>8.134729</td>\n",
       "      <td>6.591189</td>\n",
       "    </tr>\n",
       "    <tr>\n",
       "      <th>99</th>\n",
       "      <td>6.322748</td>\n",
       "      <td>7.638463</td>\n",
       "    </tr>\n",
       "  </tbody>\n",
       "</table>\n",
       "<p>100 rows × 2 columns</p>\n",
       "</div>"
      ],
      "text/plain": [
       "       Actual  Predicted\n",
       "0   13.119819  12.184656\n",
       "1    6.287667   6.645267\n",
       "2   13.004863  10.850437\n",
       "3   14.370000  12.792316\n",
       "4    6.223930   6.734346\n",
       "..        ...        ...\n",
       "95   9.379613   8.760721\n",
       "96   9.436365   8.556057\n",
       "97  11.202495   8.802216\n",
       "98   8.134729   6.591189\n",
       "99   6.322748   7.638463\n",
       "\n",
       "[100 rows x 2 columns]"
      ]
     },
     "metadata": {},
     "output_type": "display_data"
    }
   ],
   "source": [
    "model = keras.Sequential()\n",
    "model.add(layers.Dense(5, activation = \"relu\",\n",
    "                      input_shape = [x_train_gc_pca.shape[1],]))\n",
    "\n",
    "#model.add(layers.Dense(2,activation = \"relu\"))\n",
    "\n",
    "model.add(layers.Dense(1)) # Only One Output because of Regression Problem\n",
    "\n",
    "# Compile the Model\n",
    "optimizer = tf.keras.optimizers.RMSprop(0.001)\n",
    "model.compile(optimizer = optimizer, loss = \"mse\",\n",
    "             metrics = [\"accuracy\",\"mse\"])\n",
    "\n",
    "# Early Stops if fit  (Which wilp to stop Over Fitting)\n",
    "early_stop = keras.callbacks.EarlyStopping(monitor=\"loss\", patience=20)\n",
    "\n",
    "# Fit the Model\n",
    "model.fit(x_train_gc_pca, y_train, epochs = 100 , validation_split = 0.02,\\\n",
    "          verbose = 0, callbacks = [early_stop, tfdocs.modeling.EpochDots()])\n",
    "\n",
    "## Evaluate the Model\n",
    "loss, acc, _ = model.evaluate(x_test_gc_pca,y_test_gc, verbose = 0)\n",
    "\n",
    "\n",
    "print(\"\\nTest Accuracy = %.3f\"%acc, loss , _)\n",
    "\n",
    "##\n",
    "keras_pred_gc = model.predict(x_test_gc_pca)\n",
    "print(\"Accuracy\", metrics.r2_score(y_test_gc, keras_pred_gc))\n",
    "\n",
    "keras_gc = pd.DataFrame({\"Actual\":y_test_gc.to_numpy().flatten(),\n",
    "                       \"Predicted\":keras_pred_gc.flatten()})\n",
    "\n",
    "print(np.corrcoef(keras_gc[\"Actual\"],keras_gc[\"Predicted\"])[1][0])\n",
    "keras_gc.head(100).plot(kind = \"bar\", figsize=(25, 10))\n",
    "plt.grid(which=\"major\", linestyle = \"-\", linewidth = \"0.5\")\n",
    "plt.show()\n",
    "display(keras_gc.head(100))"
   ]
  },
  {
   "cell_type": "code",
   "execution_count": 117,
   "metadata": {
    "ExecuteTime": {
     "end_time": "2020-07-03T07:07:48.718103Z",
     "start_time": "2020-07-03T07:07:35.646266Z"
    }
   },
   "outputs": [
    {
     "name": "stdout",
     "output_type": "stream",
     "text": [
      "\n",
      "Epoch: 0, accuracy:0.0000,  loss:760.8033,  mse:760.8033,  val_accuracy:0.0000,  val_loss:293.0411,  val_mse:293.0411,  \n",
      "....................................................................................................\n",
      "Test Accuracy = 0.000 6.254271984100342 6.254271984100342\n",
      "Accuracy 0.6045730158685575\n",
      "0.7939349925391971\n"
     ]
    },
    {
     "data": {
      "image/png": "[encoded data removed]",
      "text/plain": [
       "<Figure size 1800x720 with 1 Axes>"
      ]
     },
     "metadata": {
      "needs_background": "light"
     },
     "output_type": "display_data"
    },
    {
     "data": {
      "text/html": [
       "<div>\n",
       "<style scoped>\n",
       "    .dataframe tbody tr th:only-of-type {\n",
       "        vertical-align: middle;\n",
       "    }\n",
       "\n",
       "    .dataframe tbody tr th {\n",
       "        vertical-align: top;\n",
       "    }\n",
       "\n",
       "    .dataframe thead th {\n",
       "        text-align: right;\n",
       "    }\n",
       "</style>\n",
       "<table border=\"1\" class=\"dataframe\">\n",
       "  <thead>\n",
       "    <tr style=\"text-align: right;\">\n",
       "      <th></th>\n",
       "      <th>Actual</th>\n",
       "      <th>Predicted</th>\n",
       "    </tr>\n",
       "  </thead>\n",
       "  <tbody>\n",
       "    <tr>\n",
       "      <th>0</th>\n",
       "      <td>13.119819</td>\n",
       "      <td>5.923013</td>\n",
       "    </tr>\n",
       "    <tr>\n",
       "      <th>1</th>\n",
       "      <td>6.287667</td>\n",
       "      <td>5.923013</td>\n",
       "    </tr>\n",
       "    <tr>\n",
       "      <th>2</th>\n",
       "      <td>13.004863</td>\n",
       "      <td>11.092906</td>\n",
       "    </tr>\n",
       "    <tr>\n",
       "      <th>3</th>\n",
       "      <td>14.370000</td>\n",
       "      <td>9.744444</td>\n",
       "    </tr>\n",
       "    <tr>\n",
       "      <th>4</th>\n",
       "      <td>6.223930</td>\n",
       "      <td>8.468052</td>\n",
       "    </tr>\n",
       "    <tr>\n",
       "      <th>...</th>\n",
       "      <td>...</td>\n",
       "      <td>...</td>\n",
       "    </tr>\n",
       "    <tr>\n",
       "      <th>95</th>\n",
       "      <td>9.379613</td>\n",
       "      <td>9.251871</td>\n",
       "    </tr>\n",
       "    <tr>\n",
       "      <th>96</th>\n",
       "      <td>9.436365</td>\n",
       "      <td>5.923013</td>\n",
       "    </tr>\n",
       "    <tr>\n",
       "      <th>97</th>\n",
       "      <td>11.202495</td>\n",
       "      <td>5.923013</td>\n",
       "    </tr>\n",
       "    <tr>\n",
       "      <th>98</th>\n",
       "      <td>8.134729</td>\n",
       "      <td>8.807295</td>\n",
       "    </tr>\n",
       "    <tr>\n",
       "      <th>99</th>\n",
       "      <td>6.322748</td>\n",
       "      <td>5.923013</td>\n",
       "    </tr>\n",
       "  </tbody>\n",
       "</table>\n",
       "<p>100 rows × 2 columns</p>\n",
       "</div>"
      ],
      "text/plain": [
       "       Actual  Predicted\n",
       "0   13.119819   5.923013\n",
       "1    6.287667   5.923013\n",
       "2   13.004863  11.092906\n",
       "3   14.370000   9.744444\n",
       "4    6.223930   8.468052\n",
       "..        ...        ...\n",
       "95   9.379613   9.251871\n",
       "96   9.436365   5.923013\n",
       "97  11.202495   5.923013\n",
       "98   8.134729   8.807295\n",
       "99   6.322748   5.923013\n",
       "\n",
       "[100 rows x 2 columns]"
      ]
     },
     "metadata": {},
     "output_type": "display_data"
    }
   ],
   "source": [
    "model = keras.Sequential()\n",
    "model.add(layers.Dense(4, activation = \"relu\",\n",
    "                      input_shape = [x_train_rl_pca.shape[1],]))\n",
    "\n",
    "model.add(layers.Dense(2,activation = \"relu\"))\n",
    "\n",
    "model.add(layers.Dense(1)) # Only One Output because of Regression Problem\n",
    "\n",
    "# Compile the Model\n",
    "optimizer = tf.keras.optimizers.RMSprop(0.001)\n",
    "model.compile(optimizer = optimizer, loss = \"mse\",\n",
    "             metrics = [\"accuracy\",\"mse\"])\n",
    "\n",
    "# Early Stops if fit  (Which wilp to stop Over Fitting)\n",
    "early_stop = keras.callbacks.EarlyStopping(monitor=\"loss\", patience=20)\n",
    "\n",
    "# Fit the Model\n",
    "model.fit(x_train_rl_pca, y_train, epochs = 100 , validation_split = 0.02,\\\n",
    "          verbose = 0, callbacks = [early_stop, tfdocs.modeling.EpochDots()])\n",
    "\n",
    "## Evaluate the Model\n",
    "loss, acc, _ = model.evaluate(x_test_rl_pca,y_test_rl, verbose = 0)\n",
    "\n",
    "\n",
    "print(\"\\nTest Accuracy = %.3f\"%acc, loss , _)\n",
    "\n",
    "##\n",
    "keras_pred_rl = model.predict(x_test_rl_pca)\n",
    "print(\"Accuracy\", metrics.r2_score(y_test_rl, keras_pred_rl))\n",
    "\n",
    "keras_rl = pd.DataFrame({\"Actual\":y_test_rl.to_numpy().flatten(),\n",
    "                       \"Predicted\":keras_pred_rl.flatten()})\n",
    "\n",
    "print(np.corrcoef(keras_rl[\"Actual\"],keras_rl[\"Predicted\"])[1][0])\n",
    "keras_rl.head(100).plot(kind = \"bar\", figsize=(25, 10))\n",
    "plt.grid(which=\"major\", linestyle = \"-\", linewidth = \"0.5\")\n",
    "plt.show()\n",
    "display(keras_rl.head(100))"
   ]
  },
  {
   "cell_type": "markdown",
   "metadata": {},
   "source": [
    "## Lets make Average"
   ]
  },
  {
   "cell_type": "code",
   "execution_count": 126,
   "metadata": {
    "ExecuteTime": {
     "end_time": "2020-07-03T07:11:29.731853Z",
     "start_time": "2020-07-03T07:11:29.726823Z"
    }
   },
   "outputs": [],
   "source": [
    "#average = df.\n",
    "predicted = pd.concat([keras_rl.mean(axis=1), keras_gc.mean(axis = 1)],axis=1).mean(axis = 1)"
   ]
  },
  {
   "cell_type": "code",
   "execution_count": 132,
   "metadata": {
    "ExecuteTime": {
     "end_time": "2020-07-03T07:13:25.666187Z",
     "start_time": "2020-07-03T07:13:25.660221Z"
    }
   },
   "outputs": [
    {
     "data": {
      "text/plain": [
       "((2000,), (2000,))"
      ]
     },
     "execution_count": 132,
     "metadata": {},
     "output_type": "execute_result"
    }
   ],
   "source": [
    "y_test.shape , predicted.shape"
   ]
  },
  {
   "cell_type": "code",
   "execution_count": 139,
   "metadata": {
    "ExecuteTime": {
     "end_time": "2020-07-03T07:15:12.757519Z",
     "start_time": "2020-07-03T07:15:12.752521Z"
    }
   },
   "outputs": [
    {
     "data": {
      "text/plain": [
       "937     13.119819\n",
       "9355     6.287667\n",
       "2293    13.004863\n",
       "192     14.370000\n",
       "8675     6.223930\n",
       "Name: GC, dtype: float64"
      ]
     },
     "execution_count": 139,
     "metadata": {},
     "output_type": "execute_result"
    }
   ],
   "source": [
    "y_test.head()"
   ]
  },
  {
   "cell_type": "code",
   "execution_count": 141,
   "metadata": {
    "ExecuteTime": {
     "end_time": "2020-07-03T07:15:30.820949Z",
     "start_time": "2020-07-03T07:15:30.815948Z"
    }
   },
   "outputs": [
    {
     "data": {
      "text/plain": [
       "0    11.086827\n",
       "1     6.285904\n",
       "2    11.988267\n",
       "3    12.819190\n",
       "4     6.912565\n",
       "dtype: float64"
      ]
     },
     "execution_count": 141,
     "metadata": {},
     "output_type": "execute_result"
    }
   ],
   "source": [
    "predicted.head()"
   ]
  },
  {
   "cell_type": "code",
   "execution_count": 143,
   "metadata": {
    "ExecuteTime": {
     "end_time": "2020-07-03T07:16:08.754929Z",
     "start_time": "2020-07-03T07:16:08.750931Z"
    }
   },
   "outputs": [
    {
     "name": "stdout",
     "output_type": "stream",
     "text": [
      "0.9791347734851074\n"
     ]
    }
   ],
   "source": [
    "print(np.corrcoef(predicted,y_test)[1][0]) # Correlation"
   ]
  },
  {
   "cell_type": "code",
   "execution_count": 144,
   "metadata": {
    "ExecuteTime": {
     "end_time": "2020-07-03T07:17:15.714300Z",
     "start_time": "2020-07-03T07:17:15.709329Z"
    }
   },
   "outputs": [
    {
     "name": "stdout",
     "output_type": "stream",
     "text": [
      "Accuracy 0.9104558723399354\n"
     ]
    }
   ],
   "source": [
    "## Accuration\n",
    "print(\"Accuracy\", metrics.r2_score(predicted, y_test))"
   ]
  }
 ],
 "metadata": {
  "kernelspec": {
   "display_name": "Python 3",
   "language": "python",
   "name": "python3"
  },
  "language_info": {
   "codemirror_mode": {
    "name": "ipython",
    "version": 3
   },
   "file_extension": ".py",
   "mimetype": "text/x-python",
   "name": "python",
   "nbconvert_exporter": "python",
   "pygments_lexer": "ipython3",
   "version": "3.7.6"
  },
  "nbTranslate": {
   "displayLangs": [
    "*"
   ],
   "hotkey": "alt-t",
   "langInMainMenu": true,
   "sourceLang": "en",
   "targetLang": "fr",
   "useGoogleTranslate": true
  },
  "toc": {
   "base_numbering": 1,
   "nav_menu": {},
   "number_sections": true,
   "sideBar": true,
   "skip_h1_title": false,
   "title_cell": "Table of Contents",
   "title_sidebar": "Contents",
   "toc_cell": false,
   "toc_position": {},
   "toc_section_display": true,
   "toc_window_display": false
  }
 },
 "nbformat": 4,
 "nbformat_minor": 4
}
