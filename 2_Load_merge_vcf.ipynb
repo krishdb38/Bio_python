{
 "cells": [
  {
   "cell_type": "markdown",
   "metadata": {},
   "source": [
    "### In this Jupyter Note Book <br>\n",
    "We will read merged VCF file, remove the all unnecessary fields and keep only snp"
   ]
  },
  {
   "cell_type": "code",
   "execution_count": null,
   "metadata": {},
   "outputs": [],
   "source": [
    "import pandas as pd\n",
    "import numpy as np"
   ]
  },
  {
   "cell_type": "code",
   "execution_count": null,
   "metadata": {},
   "outputs": [],
   "source": [
    "#df = pd.read_csv(\"Merged_vcf/merge_case.vcf\", skiprows=84, sep=\"\\t\")"
   ]
  },
  {
   "cell_type": "code",
   "execution_count": null,
   "metadata": {},
   "outputs": [],
   "source": [
    "# This is is For Case Only, in case of Control the col name is Different\n",
    "\n",
    "new_columns = ['CHROM', 'POS', 'ID', 'REF', 'ALT', 'QUAL', 'FILTER', 'INFO', 'FORMAT',\n",
    "       '1009', '875', '1584','1282','880',\"989\", \"1489\",\"873\",'910', '1119',\n",
    "        'MWB_110', 'MWB_161','MWB_174','MWB_242','MWB_276','MWB_437','MWB_490',\n",
    "        'MWB_506','MWB_540','MWB_548','MWB_564','MWB_626','MWB_719','MWB_740',\n",
    "        'MWB_746','MWB_815','MWB_870','MWB_1226','MWB_1276','MWB_1445']"
   ]
  },
  {
   "cell_type": "code",
   "execution_count": null,
   "metadata": {},
   "outputs": [],
   "source": [
    "df.columns = new_columns\n",
    "df.head()"
   ]
  },
  {
   "cell_type": "code",
   "execution_count": null,
   "metadata": {},
   "outputs": [],
   "source": [
    "#df.to_csv(\"Merged_vcf/merge_case_okg.csv\", index = False)"
   ]
  },
  {
   "cell_type": "code",
   "execution_count": null,
   "metadata": {},
   "outputs": [],
   "source": [
    "#df = pd.read_csv(\"Merged_vcf/merge_control.vcf\", skiprows=84, sep=\"\\t\")\n",
    "#df.columns = new_columns # Column Name is Different in Control\n",
    "#df.to_csv(\"Merged_vcf/merge_control_okg.csv\", index = False)"
   ]
  },
  {
   "cell_type": "markdown",
   "metadata": {},
   "source": [
    "### We will take Out SNP Only"
   ]
  },
  {
   "cell_type": "code",
   "execution_count": null,
   "metadata": {},
   "outputs": [],
   "source": [
    "a = \"1/1:81:48:9:0:6,3\"\n",
    "def split(x):\n",
    "    \"This Fuction recieved input like a\\\n",
    "    and split and return first SNP type\"\n",
    "    temp = x.split(\":\")[0]\n",
    "    if temp in [\"0/1\", \"1/1\", \"1/2\"]:\n",
    "        return temp\n",
    "    else:\n",
    "        return \"0/0\""
   ]
  },
  {
   "cell_type": "code",
   "execution_count": null,
   "metadata": {},
   "outputs": [],
   "source": [
    "skip = ['CHROM', 'POS', 'ID', 'REF', 'ALT', 'QUAL' ,'FILTER', 'INFO' ,'FORMAT']\n",
    "for _ in df.columns:\n",
    "    if _ in skip:\n",
    "        continue\n",
    "    df[_] = df[_].apply(lambda x : split(x))"
   ]
  },
  {
   "cell_type": "code",
   "execution_count": null,
   "metadata": {},
   "outputs": [],
   "source": [
    "#df[\"1009_\"] = df[\"1009\"].apply(lambda x : split(x))"
   ]
  },
  {
   "cell_type": "code",
   "execution_count": null,
   "metadata": {},
   "outputs": [],
   "source": [
    "df.tail()"
   ]
  },
  {
   "cell_type": "markdown",
   "metadata": {},
   "source": [
    "## Data saved Next time can be done with Open_csv"
   ]
  },
  {
   "cell_type": "code",
   "execution_count": null,
   "metadata": {},
   "outputs": [],
   "source": [
    "#df.to_csv(\"Merged_vcf/merge_case_snp.csv\", index = False)"
   ]
  },
  {
   "cell_type": "code",
   "execution_count": null,
   "metadata": {},
   "outputs": [],
   "source": [
    "df[\"1009\"].unique()"
   ]
  },
  {
   "cell_type": "markdown",
   "metadata": {},
   "source": [
    "## Repeat the same for Control"
   ]
  },
  {
   "cell_type": "code",
   "execution_count": null,
   "metadata": {},
   "outputs": [],
   "source": [
    "column_name_control = ['CHROM', 'POS', 'ID', 'REF', 'ALT', 'QUAL', 'FILTER', \n",
    "                       'INFO', 'FORMAT', '1093','1134','1293','1316','1389',\n",
    "                       '1428','1477','1481','1557','1591','MWB_895','MWB_911',\n",
    "                       'MWB_941','MWB_956','MWB_961','MWB_1151',\"MWB_1008\",\n",
    "                       'MWB_1040','MWB_1244', 'MWB_1250','MWB_1443','MWB_1676',\n",
    "                       'MWB_1960','MWB_1964','MWB_1975','MWB_1977','MWB_1982',\n",
    "                       'MWB_1995','MWB_2007','MWB_2008']"
   ]
  },
  {
   "cell_type": "code",
   "execution_count": null,
   "metadata": {},
   "outputs": [],
   "source": [
    "df.columns"
   ]
  },
  {
   "cell_type": "code",
   "execution_count": null,
   "metadata": {},
   "outputs": [],
   "source": [
    "## Read Merged case VCf FIle created by okg\n",
    "\n",
    "#df = pd.read_csv(\"Merged_vcf/merge_control.vcf\", skiprows=84, sep=\"\\t\")\n",
    "#df.columns = column_name_control"
   ]
  },
  {
   "cell_type": "code",
   "execution_count": null,
   "metadata": {},
   "outputs": [],
   "source": [
    "skip = ['CHROM', 'POS', 'ID', 'REF', 'ALT', 'QUAL' ,'FILTER', 'INFO' ,'FORMAT']\n",
    "for _ in df.columns:\n",
    "    if _ in skip:\n",
    "        continue\n",
    "    df[_] = df[_].apply(lambda x : split(x))"
   ]
  },
  {
   "cell_type": "code",
   "execution_count": null,
   "metadata": {},
   "outputs": [],
   "source": [
    "## Check data before write\n",
    "df.head()"
   ]
  },
  {
   "cell_type": "code",
   "execution_count": null,
   "metadata": {},
   "outputs": [],
   "source": [
    "#df.to_csv(\"Merged_vcf/merge_control_snp.csv\", index = False)\n",
    "\n",
    "# Data saved \n",
    "# Can be used with open"
   ]
  },
  {
   "cell_type": "markdown",
   "metadata": {},
   "source": [
    "### Lets Open CSV File and add all as a single Columns"
   ]
  },
  {
   "cell_type": "code",
   "execution_count": null,
   "metadata": {},
   "outputs": [],
   "source": [
    "import pandas as pd\n",
    "import numpy as np"
   ]
  },
  {
   "cell_type": "code",
   "execution_count": null,
   "metadata": {},
   "outputs": [],
   "source": [
    "df = pd.read_csv(\"Merged_vcf/merge_control_snp.csv\", nrows=100)"
   ]
  },
  {
   "cell_type": "code",
   "execution_count": null,
   "metadata": {},
   "outputs": [],
   "source": [
    "df.drop([\"INFO\", \"FORMAT\",\"FILTER\"], axis=1, inplace= True)"
   ]
  },
  {
   "cell_type": "code",
   "execution_count": null,
   "metadata": {},
   "outputs": [],
   "source": [
    "df.head()"
   ]
  },
  {
   "cell_type": "code",
   "execution_count": null,
   "metadata": {},
   "outputs": [],
   "source": [
    "#df[\"total\"] = df[\"1009\"] +\",\"+ df[\"875\"]"
   ]
  },
  {
   "cell_type": "code",
   "execution_count": null,
   "metadata": {},
   "outputs": [],
   "source": [
    "#df[\"total\"].apply(lambda x : x.split(\",\"))"
   ]
  },
  {
   "cell_type": "markdown",
   "metadata": {},
   "source": [
    "### Merge All Columns as a single Columns \n",
    "Here We will open \"Merged_vcf/merge_control_snp.csv\" and make a single Column to check weather which which is maximum repeating"
   ]
  },
  {
   "cell_type": "markdown",
   "metadata": {},
   "source": [
    "## Always Remember The column Name for case and Controls are differents"
   ]
  },
  {
   "cell_type": "code",
   "execution_count": null,
   "metadata": {},
   "outputs": [],
   "source": [
    "import pandas as pd"
   ]
  },
  {
   "cell_type": "code",
   "execution_count": null,
   "metadata": {},
   "outputs": [],
   "source": [
    "#df.drop([\"total\"], inplace=True, axis=1)\n",
    "df = pd.read_csv(\"Merged_vcf/merge_case_snp.csv\")\n",
    "df.drop(['ID', \"QUAL\", \"FILTER\", \"INFO\", \"FORMAT\"], axis = 1, inplace = True)\n",
    "# We did a mistake because these columns are no needed"
   ]
  },
  {
   "cell_type": "code",
   "execution_count": null,
   "metadata": {},
   "outputs": [],
   "source": [
    "print(df.shape)\n",
    "df.head(2)"
   ]
  },
  {
   "cell_type": "code",
   "execution_count": null,
   "metadata": {},
   "outputs": [],
   "source": [
    "skip = [\"1009\", \"Total\",\"CHROM\", \"POS\", \"REF\",\"ALT\"]\n",
    "\n",
    "# Assign 1009 for Total and drop Column 1009\n",
    "df[\"Total\"] = df[\"1009\"] \n",
    "df.drop([\"1009\"], inplace = True, axis = 1)\n",
    "\n",
    "#Remove so memory will be free\n",
    "for _ in df.columns:\n",
    "    if _ in skip:\n",
    "        continue\n",
    "    df[\"Total\"] = df[\"Total\"]+\",\" + df[str(_)]\n",
    "    df.drop([_],inplace = True, axis = 1)"
   ]
  },
  {
   "cell_type": "code",
   "execution_count": null,
   "metadata": {
    "scrolled": true
   },
   "outputs": [],
   "source": [
    "print(df.shape)\n",
    "df.head(2)"
   ]
  },
  {
   "cell_type": "code",
   "execution_count": null,
   "metadata": {},
   "outputs": [],
   "source": [
    "len(df.Total[0].split(\",\")) # We can check all 30 elemnets are inside the table"
   ]
  },
  {
   "cell_type": "code",
   "execution_count": null,
   "metadata": {},
   "outputs": [],
   "source": [
    "# For Fast Processing Lets save this file and call again when Neededd\n",
    "#df.to_csv(\"Merged_vcf/merge_case_combine_30.csv\", index = False)"
   ]
  },
  {
   "cell_type": "markdown",
   "metadata": {},
   "source": [
    "### Merge Control file as a single File"
   ]
  },
  {
   "cell_type": "code",
   "execution_count": null,
   "metadata": {},
   "outputs": [],
   "source": []
  },
  {
   "cell_type": "code",
   "execution_count": null,
   "metadata": {},
   "outputs": [],
   "source": []
  },
  {
   "cell_type": "code",
   "execution_count": null,
   "metadata": {},
   "outputs": [],
   "source": []
  },
  {
   "cell_type": "code",
   "execution_count": null,
   "metadata": {},
   "outputs": [],
   "source": []
  },
  {
   "cell_type": "markdown",
   "metadata": {},
   "source": [
    "### Loading \"Merged_vcf/merge_case_combine_30.csv\" is fast Processing"
   ]
  },
  {
   "cell_type": "code",
   "execution_count": null,
   "metadata": {},
   "outputs": [],
   "source": [
    "import pandas as pd"
   ]
  },
  {
   "cell_type": "code",
   "execution_count": null,
   "metadata": {},
   "outputs": [],
   "source": [
    "df = pd.read_csv(\"Merged_vcf/merge_control_combine_30.csv\")"
   ]
  },
  {
   "cell_type": "code",
   "execution_count": null,
   "metadata": {},
   "outputs": [],
   "source": [
    "df.head(2)"
   ]
  },
  {
   "cell_type": "code",
   "execution_count": null,
   "metadata": {},
   "outputs": [],
   "source": [
    "#### Now we will find out the maximum repeating in each Position except \"0/0\""
   ]
  },
  {
   "cell_type": "code",
   "execution_count": null,
   "metadata": {},
   "outputs": [],
   "source": [
    "def drop_n_max(x):\n",
    "    \"This Function will split and count SNP,\\\n",
    "    We will ignore snp '0/0' Because this is same like reference\"\n",
    "    \n",
    "    from collections import Counter\n",
    "    x_ = Counter(x.split(\",\"))\n",
    "    del x_[\"0/0\"] \n",
    "    # This is Reference so we dont need\n",
    "    # Although We can return maximum value only but we are returning all \n",
    "    # Because we can compare later\n",
    "    return x_"
   ]
  },
  {
   "cell_type": "code",
   "execution_count": null,
   "metadata": {},
   "outputs": [],
   "source": [
    "#drop_n_max(df.Total[0]) # Testing"
   ]
  },
  {
   "cell_type": "code",
   "execution_count": null,
   "metadata": {},
   "outputs": [],
   "source": [
    "# Function Testing\n",
    "#a = df.Total[0]   \n",
    "#_ = Counter(a.split(\",\"))\n",
    "#del _[\"0/0\"]\n",
    "#_.most_common()[0]"
   ]
  },
  {
   "cell_type": "code",
   "execution_count": null,
   "metadata": {},
   "outputs": [],
   "source": [
    "df[\"Repeated_\"] = df.Total.apply(lambda x : drop_n_max(x))"
   ]
  },
  {
   "cell_type": "code",
   "execution_count": null,
   "metadata": {
    "scrolled": true
   },
   "outputs": [],
   "source": [
    "display(df.tail(2))\n",
    "#df.drop([\"Total\"],inplace = True, axis = 1)\n",
    "print(\"After\")\n",
    "df.tail(2)"
   ]
  },
  {
   "cell_type": "code",
   "execution_count": null,
   "metadata": {},
   "outputs": [],
   "source": [
    "import pandas as pd\n",
    "pd.set_option('display.max_rows', 500)\n",
    "pd.set_option('display.max_columns', 500)\n",
    "pd.set_option('display.width', 1000)\n",
    "#df.loc[700:1000,:]"
   ]
  },
  {
   "cell_type": "code",
   "execution_count": null,
   "metadata": {},
   "outputs": [],
   "source": [
    "df = df[df[\"Repeated_\"].str.len() >0]"
   ]
  },
  {
   "cell_type": "code",
   "execution_count": null,
   "metadata": {},
   "outputs": [],
   "source": [
    "df.head()"
   ]
  },
  {
   "cell_type": "code",
   "execution_count": null,
   "metadata": {},
   "outputs": [],
   "source": [
    "df[\"MAX_control\"] = df.Repeated_.apply(lambda x : x.most_common(1)[0][1])\n",
    "#df[df[(type(df[\"MAX\"]) != list).index()]]\n",
    "df.head()"
   ]
  },
  {
   "cell_type": "code",
   "execution_count": null,
   "metadata": {},
   "outputs": [],
   "source": [
    "df[df.MAX_control >28].tail()"
   ]
  },
  {
   "cell_type": "code",
   "execution_count": null,
   "metadata": {},
   "outputs": [],
   "source": [
    "df.head()"
   ]
  },
  {
   "cell_type": "code",
   "execution_count": null,
   "metadata": {},
   "outputs": [],
   "source": [
    "# Lets Save this as a Final File"
   ]
  },
  {
   "cell_type": "code",
   "execution_count": null,
   "metadata": {},
   "outputs": [],
   "source": [
    "#df.to_csv(\"Merged_vcf/merged_case_with_maximum_vcf_og_pass.csv\", index = False)"
   ]
  },
  {
   "cell_type": "code",
   "execution_count": null,
   "metadata": {},
   "outputs": [],
   "source": [
    "df.to_csv(\"Merged_vcf/merged_control_with_maximum_vcf_og_pass.csv\", index = False)"
   ]
  },
  {
   "cell_type": "markdown",
   "metadata": {},
   "source": [
    "### When Needed You can load this File"
   ]
  },
  {
   "cell_type": "code",
   "execution_count": null,
   "metadata": {},
   "outputs": [],
   "source": [
    "import pandas as pd"
   ]
  },
  {
   "cell_type": "code",
   "execution_count": null,
   "metadata": {},
   "outputs": [],
   "source": [
    "df_case = pd.read_csv(\"Merged_vcf/merged_case_with_maximum_vcf_og_pass.csv\")\n",
    "df_control = pd.read_csv(\"Merged_vcf/merged_control_with_maximum_vcf_og_pass.csv\")"
   ]
  },
  {
   "cell_type": "code",
   "execution_count": null,
   "metadata": {
    "scrolled": true
   },
   "outputs": [],
   "source": [
    "df_case.head()"
   ]
  },
  {
   "cell_type": "code",
   "execution_count": null,
   "metadata": {},
   "outputs": [],
   "source": [
    "df_case.columns"
   ]
  },
  {
   "cell_type": "code",
   "execution_count": null,
   "metadata": {},
   "outputs": [],
   "source": [
    "df_case = df_case.loc[:,['CHROM', 'POS', 'REF', 'ALT', 'Repeated_', 'MAX']]\n",
    "df_case.columns = ['CHROM', 'POS', 'REF', 'ALT', 'Repeated_Case', 'MAX_Case']"
   ]
  },
  {
   "cell_type": "code",
   "execution_count": null,
   "metadata": {
    "scrolled": true
   },
   "outputs": [],
   "source": [
    "df_case.head()"
   ]
  },
  {
   "cell_type": "code",
   "execution_count": null,
   "metadata": {},
   "outputs": [],
   "source": [
    "df_control.head()"
   ]
  },
  {
   "cell_type": "code",
   "execution_count": null,
   "metadata": {},
   "outputs": [],
   "source": [
    "df_control.columns"
   ]
  },
  {
   "cell_type": "code",
   "execution_count": null,
   "metadata": {},
   "outputs": [],
   "source": [
    "df_control = df_control.loc[:,['CHROM', 'POS', 'REF', 'ALT', 'Repeated_', 'MAX_control']]"
   ]
  },
  {
   "cell_type": "code",
   "execution_count": null,
   "metadata": {},
   "outputs": [],
   "source": [
    "df_control.head()"
   ]
  },
  {
   "cell_type": "code",
   "execution_count": null,
   "metadata": {
    "scrolled": true
   },
   "outputs": [],
   "source": [
    "df_control.columns = ['CHROM', 'POS', 'REF', 'ALT', 'Repeated_Control', 'MAX_Control']"
   ]
  },
  {
   "cell_type": "markdown",
   "metadata": {},
   "source": [
    "### Lets Merge 2 Table as a single Table"
   ]
  },
  {
   "cell_type": "code",
   "execution_count": null,
   "metadata": {},
   "outputs": [],
   "source": [
    "#merged = pd.merge(df_case,df_control, on = ['CHROM', 'POS', 'REF', 'ALT'], how = \"outer\")\n",
    "#merged.to_csv(\"Merged_vcf/Final_mergedf_case_con_vcf_og_pass.csv\", index = False)"
   ]
  },
  {
   "cell_type": "markdown",
   "metadata": {},
   "source": [
    "### Compare the data"
   ]
  },
  {
   "cell_type": "code",
   "execution_count": null,
   "metadata": {},
   "outputs": [],
   "source": [
    "import pandas as pd\n",
    "df = pd.read_csv(\"Merged_vcf/Final_mergedf_case_con_vcf_og_pass.csv\", low_meory = False)"
   ]
  },
  {
   "cell_type": "code",
   "execution_count": null,
   "metadata": {},
   "outputs": [],
   "source": [
    "df.head()"
   ]
  },
  {
   "cell_type": "code",
   "execution_count": null,
   "metadata": {},
   "outputs": [],
   "source": [
    "df.dtypes"
   ]
  },
  {
   "cell_type": "code",
   "execution_count": null,
   "metadata": {},
   "outputs": [],
   "source": [
    "# Since Case and Control dtype is Float64, It can compare now\n",
    "test = df[(df.MAX_Case>20) & (df.MAX_Control<15)]"
   ]
  },
  {
   "cell_type": "code",
   "execution_count": null,
   "metadata": {},
   "outputs": [],
   "source": [
    "test.to_csv(\"Merged_vcf/merged_case_gt_20_cont_lt_15.csv\", index = False)"
   ]
  },
  {
   "cell_type": "markdown",
   "metadata": {},
   "source": [
    "### For Fast Processing and Checking lets open test File"
   ]
  },
  {
   "cell_type": "code",
   "execution_count": 1,
   "metadata": {},
   "outputs": [],
   "source": [
    "import pandas as pd\n",
    "df = pd.read_csv(\"Merged_vcf/merged_case_gt_20_cont_lt_15.csv\")"
   ]
  },
  {
   "cell_type": "code",
   "execution_count": 3,
   "metadata": {},
   "outputs": [
    {
     "data": {
      "text/html": [
       "<div>\n",
       "<style scoped>\n",
       "    .dataframe tbody tr th:only-of-type {\n",
       "        vertical-align: middle;\n",
       "    }\n",
       "\n",
       "    .dataframe tbody tr th {\n",
       "        vertical-align: top;\n",
       "    }\n",
       "\n",
       "    .dataframe thead th {\n",
       "        text-align: right;\n",
       "    }\n",
       "</style>\n",
       "<table border=\"1\" class=\"dataframe\">\n",
       "  <thead>\n",
       "    <tr style=\"text-align: right;\">\n",
       "      <th></th>\n",
       "      <th>CHROM</th>\n",
       "      <th>POS</th>\n",
       "      <th>REF</th>\n",
       "      <th>ALT</th>\n",
       "      <th>Repeated_Case</th>\n",
       "      <th>MAX_Case</th>\n",
       "      <th>Repeated_Control</th>\n",
       "      <th>MAX_Control</th>\n",
       "    </tr>\n",
       "  </thead>\n",
       "  <tbody>\n",
       "    <tr>\n",
       "      <th>0</th>\n",
       "      <td>chr1</td>\n",
       "      <td>101550</td>\n",
       "      <td>C</td>\n",
       "      <td>T</td>\n",
       "      <td>Counter({'0/1': 21})</td>\n",
       "      <td>21.0</td>\n",
       "      <td>Counter({'0/1': 11})</td>\n",
       "      <td>11.0</td>\n",
       "    </tr>\n",
       "    <tr>\n",
       "      <th>1</th>\n",
       "      <td>chr1</td>\n",
       "      <td>905130</td>\n",
       "      <td>ATG</td>\n",
       "      <td>A</td>\n",
       "      <td>Counter({'0/1': 21, '1/1': 5})</td>\n",
       "      <td>21.0</td>\n",
       "      <td>Counter({'1/1': 14, '0/1': 12})</td>\n",
       "      <td>14.0</td>\n",
       "    </tr>\n",
       "    <tr>\n",
       "      <th>2</th>\n",
       "      <td>chr1</td>\n",
       "      <td>1017029</td>\n",
       "      <td>C</td>\n",
       "      <td>G</td>\n",
       "      <td>Counter({'1/1': 21})</td>\n",
       "      <td>21.0</td>\n",
       "      <td>Counter({'1/1': 14})</td>\n",
       "      <td>14.0</td>\n",
       "    </tr>\n",
       "    <tr>\n",
       "      <th>3</th>\n",
       "      <td>chr1</td>\n",
       "      <td>1226102</td>\n",
       "      <td>G</td>\n",
       "      <td>A</td>\n",
       "      <td>Counter({'0/1': 21, '1/1': 6})</td>\n",
       "      <td>21.0</td>\n",
       "      <td>Counter({'0/1': 14, '1/1': 7})</td>\n",
       "      <td>14.0</td>\n",
       "    </tr>\n",
       "    <tr>\n",
       "      <th>4</th>\n",
       "      <td>chr1</td>\n",
       "      <td>1311078</td>\n",
       "      <td>G</td>\n",
       "      <td>T</td>\n",
       "      <td>Counter({'1/1': 23, '0/1': 6})</td>\n",
       "      <td>23.0</td>\n",
       "      <td>Counter({'0/1': 14, '1/1': 14})</td>\n",
       "      <td>14.0</td>\n",
       "    </tr>\n",
       "  </tbody>\n",
       "</table>\n",
       "</div>"
      ],
      "text/plain": [
       "  CHROM      POS  REF ALT                   Repeated_Case  MAX_Case  \\\n",
       "0  chr1   101550    C   T            Counter({'0/1': 21})      21.0   \n",
       "1  chr1   905130  ATG   A  Counter({'0/1': 21, '1/1': 5})      21.0   \n",
       "2  chr1  1017029    C   G            Counter({'1/1': 21})      21.0   \n",
       "3  chr1  1226102    G   A  Counter({'0/1': 21, '1/1': 6})      21.0   \n",
       "4  chr1  1311078    G   T  Counter({'1/1': 23, '0/1': 6})      23.0   \n",
       "\n",
       "                  Repeated_Control  MAX_Control  \n",
       "0             Counter({'0/1': 11})         11.0  \n",
       "1  Counter({'1/1': 14, '0/1': 12})         14.0  \n",
       "2             Counter({'1/1': 14})         14.0  \n",
       "3   Counter({'0/1': 14, '1/1': 7})         14.0  \n",
       "4  Counter({'0/1': 14, '1/1': 14})         14.0  "
      ]
     },
     "execution_count": 3,
     "metadata": {},
     "output_type": "execute_result"
    }
   ],
   "source": [
    "df.head()"
   ]
  },
  {
   "cell_type": "code",
   "execution_count": 7,
   "metadata": {},
   "outputs": [
    {
     "data": {
      "text/html": [
       "<div>\n",
       "<style scoped>\n",
       "    .dataframe tbody tr th:only-of-type {\n",
       "        vertical-align: middle;\n",
       "    }\n",
       "\n",
       "    .dataframe tbody tr th {\n",
       "        vertical-align: top;\n",
       "    }\n",
       "\n",
       "    .dataframe thead th {\n",
       "        text-align: right;\n",
       "    }\n",
       "</style>\n",
       "<table border=\"1\" class=\"dataframe\">\n",
       "  <thead>\n",
       "    <tr style=\"text-align: right;\">\n",
       "      <th></th>\n",
       "      <th>CHROM</th>\n",
       "      <th>POS</th>\n",
       "      <th>REF</th>\n",
       "      <th>ALT</th>\n",
       "      <th>Repeated_Case</th>\n",
       "      <th>MAX_Case</th>\n",
       "      <th>Repeated_Control</th>\n",
       "      <th>MAX_Control</th>\n",
       "    </tr>\n",
       "  </thead>\n",
       "  <tbody>\n",
       "    <tr>\n",
       "      <th>0</th>\n",
       "      <td>chr1</td>\n",
       "      <td>101550</td>\n",
       "      <td>C</td>\n",
       "      <td>T</td>\n",
       "      <td>Counter({'0/1': 21})</td>\n",
       "      <td>21.0</td>\n",
       "      <td>Counter({'0/1': 11})</td>\n",
       "      <td>11.0</td>\n",
       "    </tr>\n",
       "    <tr>\n",
       "      <th>1</th>\n",
       "      <td>chr1</td>\n",
       "      <td>905130</td>\n",
       "      <td>ATG</td>\n",
       "      <td>A</td>\n",
       "      <td>Counter({'0/1': 21, '1/1': 5})</td>\n",
       "      <td>21.0</td>\n",
       "      <td>Counter({'1/1': 14, '0/1': 12})</td>\n",
       "      <td>14.0</td>\n",
       "    </tr>\n",
       "    <tr>\n",
       "      <th>2</th>\n",
       "      <td>chr1</td>\n",
       "      <td>1017029</td>\n",
       "      <td>C</td>\n",
       "      <td>G</td>\n",
       "      <td>Counter({'1/1': 21})</td>\n",
       "      <td>21.0</td>\n",
       "      <td>Counter({'1/1': 14})</td>\n",
       "      <td>14.0</td>\n",
       "    </tr>\n",
       "    <tr>\n",
       "      <th>3</th>\n",
       "      <td>chr1</td>\n",
       "      <td>1226102</td>\n",
       "      <td>G</td>\n",
       "      <td>A</td>\n",
       "      <td>Counter({'0/1': 21, '1/1': 6})</td>\n",
       "      <td>21.0</td>\n",
       "      <td>Counter({'0/1': 14, '1/1': 7})</td>\n",
       "      <td>14.0</td>\n",
       "    </tr>\n",
       "    <tr>\n",
       "      <th>4</th>\n",
       "      <td>chr1</td>\n",
       "      <td>1311078</td>\n",
       "      <td>G</td>\n",
       "      <td>T</td>\n",
       "      <td>Counter({'1/1': 23, '0/1': 6})</td>\n",
       "      <td>23.0</td>\n",
       "      <td>Counter({'0/1': 14, '1/1': 14})</td>\n",
       "      <td>14.0</td>\n",
       "    </tr>\n",
       "    <tr>\n",
       "      <th>...</th>\n",
       "      <td>...</td>\n",
       "      <td>...</td>\n",
       "      <td>...</td>\n",
       "      <td>...</td>\n",
       "      <td>...</td>\n",
       "      <td>...</td>\n",
       "      <td>...</td>\n",
       "      <td>...</td>\n",
       "    </tr>\n",
       "    <tr>\n",
       "      <th>15591</th>\n",
       "      <td>chrX</td>\n",
       "      <td>151613987</td>\n",
       "      <td>T</td>\n",
       "      <td>A</td>\n",
       "      <td>Counter({'0/1': 21, '1/1': 5})</td>\n",
       "      <td>21.0</td>\n",
       "      <td>Counter({'1/1': 10, '0/1': 10})</td>\n",
       "      <td>10.0</td>\n",
       "    </tr>\n",
       "    <tr>\n",
       "      <th>15592</th>\n",
       "      <td>chrX</td>\n",
       "      <td>151619708</td>\n",
       "      <td>T</td>\n",
       "      <td>G</td>\n",
       "      <td>Counter({'0/1': 21, '1/1': 3})</td>\n",
       "      <td>21.0</td>\n",
       "      <td>Counter({'0/1': 13, '1/1': 7})</td>\n",
       "      <td>13.0</td>\n",
       "    </tr>\n",
       "    <tr>\n",
       "      <th>15593</th>\n",
       "      <td>chrX</td>\n",
       "      <td>152089039</td>\n",
       "      <td>G</td>\n",
       "      <td>A</td>\n",
       "      <td>Counter({'0/1': 22, '1/1': 4})</td>\n",
       "      <td>22.0</td>\n",
       "      <td>Counter({'1/1': 13, '0/1': 13})</td>\n",
       "      <td>13.0</td>\n",
       "    </tr>\n",
       "    <tr>\n",
       "      <th>15594</th>\n",
       "      <td>chrX</td>\n",
       "      <td>152090551</td>\n",
       "      <td>T</td>\n",
       "      <td>C</td>\n",
       "      <td>Counter({'0/1': 22, '1/1': 4})</td>\n",
       "      <td>22.0</td>\n",
       "      <td>Counter({'1/1': 12, '0/1': 12})</td>\n",
       "      <td>12.0</td>\n",
       "    </tr>\n",
       "    <tr>\n",
       "      <th>15595</th>\n",
       "      <td>chrX</td>\n",
       "      <td>153177384</td>\n",
       "      <td>A</td>\n",
       "      <td>AG,AAG</td>\n",
       "      <td>Counter({'0/1': 23, '1/2': 4, '1/1': 1})</td>\n",
       "      <td>23.0</td>\n",
       "      <td>Counter({'1/2': 1})</td>\n",
       "      <td>1.0</td>\n",
       "    </tr>\n",
       "  </tbody>\n",
       "</table>\n",
       "<p>15596 rows × 8 columns</p>\n",
       "</div>"
      ],
      "text/plain": [
       "      CHROM        POS  REF     ALT                             Repeated_Case  \\\n",
       "0      chr1     101550    C       T                      Counter({'0/1': 21})   \n",
       "1      chr1     905130  ATG       A            Counter({'0/1': 21, '1/1': 5})   \n",
       "2      chr1    1017029    C       G                      Counter({'1/1': 21})   \n",
       "3      chr1    1226102    G       A            Counter({'0/1': 21, '1/1': 6})   \n",
       "4      chr1    1311078    G       T            Counter({'1/1': 23, '0/1': 6})   \n",
       "...     ...        ...  ...     ...                                       ...   \n",
       "15591  chrX  151613987    T       A            Counter({'0/1': 21, '1/1': 5})   \n",
       "15592  chrX  151619708    T       G            Counter({'0/1': 21, '1/1': 3})   \n",
       "15593  chrX  152089039    G       A            Counter({'0/1': 22, '1/1': 4})   \n",
       "15594  chrX  152090551    T       C            Counter({'0/1': 22, '1/1': 4})   \n",
       "15595  chrX  153177384    A  AG,AAG  Counter({'0/1': 23, '1/2': 4, '1/1': 1})   \n",
       "\n",
       "       MAX_Case                 Repeated_Control  MAX_Control  \n",
       "0          21.0             Counter({'0/1': 11})         11.0  \n",
       "1          21.0  Counter({'1/1': 14, '0/1': 12})         14.0  \n",
       "2          21.0             Counter({'1/1': 14})         14.0  \n",
       "3          21.0   Counter({'0/1': 14, '1/1': 7})         14.0  \n",
       "4          23.0  Counter({'0/1': 14, '1/1': 14})         14.0  \n",
       "...         ...                              ...          ...  \n",
       "15591      21.0  Counter({'1/1': 10, '0/1': 10})         10.0  \n",
       "15592      21.0   Counter({'0/1': 13, '1/1': 7})         13.0  \n",
       "15593      22.0  Counter({'1/1': 13, '0/1': 13})         13.0  \n",
       "15594      22.0  Counter({'1/1': 12, '0/1': 12})         12.0  \n",
       "15595      23.0              Counter({'1/2': 1})          1.0  \n",
       "\n",
       "[15596 rows x 8 columns]"
      ]
     },
     "execution_count": 7,
     "metadata": {},
     "output_type": "execute_result"
    }
   ],
   "source": [
    "df[(df[\"MAX_Case\"]>20) & (df[\"MAX_Control\"]<15)]"
   ]
  }
 ],
 "metadata": {
  "kernelspec": {
   "display_name": "Python 3",
   "language": "python",
   "name": "python3"
  },
  "language_info": {
   "codemirror_mode": {
    "name": "ipython",
    "version": 3
   },
   "file_extension": ".py",
   "mimetype": "text/x-python",
   "name": "python",
   "nbconvert_exporter": "python",
   "pygments_lexer": "ipython3",
   "version": "3.7.6"
  },
  "nbTranslate": {
   "displayLangs": [
    "*"
   ],
   "hotkey": "alt-t",
   "langInMainMenu": true,
   "sourceLang": "en",
   "targetLang": "fr",
   "useGoogleTranslate": true
  },
  "toc": {
   "base_numbering": 1,
   "nav_menu": {},
   "number_sections": true,
   "sideBar": true,
   "skip_h1_title": false,
   "title_cell": "Table of Contents",
   "title_sidebar": "Contents",
   "toc_cell": false,
   "toc_position": {},
   "toc_section_display": true,
   "toc_window_display": false
  }
 },
 "nbformat": 4,
 "nbformat_minor": 4
}
