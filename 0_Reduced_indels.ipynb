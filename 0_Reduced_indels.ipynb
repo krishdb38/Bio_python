{
 "cells": [
  {
   "cell_type": "markdown",
   "metadata": {},
   "source": [
    "### This Jupyter Note book is First step\n",
    "``` Where we load Annotat"
   ]
  },
  {
   "cell_type": "code",
   "execution_count": 5,
   "metadata": {},
   "outputs": [],
   "source": [
    "import pandas as pd\n",
    "import numpy as np\n",
    "import os\n",
    "import sys"
   ]
  },
  {
   "cell_type": "code",
   "execution_count": 6,
   "metadata": {},
   "outputs": [],
   "source": [
    "pd.set_option('display.max_rows', 500)\n",
    "pd.set_option('display.max_columns', 500)\n",
    "pd.set_option('display.width', 1000)"
   ]
  },
  {
   "cell_type": "code",
   "execution_count": 7,
   "metadata": {},
   "outputs": [
    {
     "name": "stdout",
     "output_type": "stream",
     "text": [
      "30\n",
      "30\n"
     ]
    }
   ],
   "source": [
    "case = ['1119','910','873','1489','989','880','1282','1584','875','1009','MWB_110',\n",
    "        'MWB_161','MWB_174','MWB_242','MWB_276','MWB_437','MWB_490','MWB_506',\n",
    "        'MWB_540','MWB_548','MWB_564','MWB_626','MWB_719','MWB_740','MWB_746',\n",
    "        'MWB_815','MWB_870','MWB_1226','MWB_1276',\n",
    "        'MWB_1445']\n",
    "\n",
    "\n",
    "control = ['1093','1134','1293','1316','1389','1428','1477','1481','1557','1591','MWB_895','MWB_911',\n",
    "           'MWB_941','MWB_956','MWB_961',\"MWB_1008\",'MWB_1040','MWB_1151','MWB_1244',\n",
    "           'MWB_1250','MWB_1443','MWB_1676','MWB_1960','MWB_1964','MWB_1975',\n",
    "           'MWB_1977','MWB_1982','MWB_1995','MWB_2007','MWB_2008']\n",
    "\n",
    "print(len(case))\n",
    "print(len(control))"
   ]
  },
  {
   "cell_type": "code",
   "execution_count": null,
   "metadata": {},
   "outputs": [],
   "source": [
    "# These Are the New COlumns that are used to Replace the Column Name\n",
    "new_col = ['Chr', 'Start', 'End', 'Ref', 'Alt', 'Ref_Gene', 'Func_refGene',\n",
    "       'ExonicFunc_refGene', 'Gene_ensGene', 'avsnp147', 'AAChange_ensGene',\n",
    "       'AAChange_refGene', 'Clinvar','InterVar_Evidence','Freq_gnomAD_genome_ALL',\n",
    "       'Freq_esp6500siv2_all', 'Freq_1000g2015aug_all', 'CADD_raw',\n",
    "       'CADD_phred', 'SIFT_score', 'GERP++_RS', 'phyloP46way_placental',\n",
    "       'dbscSNV_ADA_SCORE', 'dbscSNV_RF_SCORE', 'Interpro_domain',#\n",
    "       'AAChange.knownGene', 'rmsk', 'MetaSVM_score',\n",
    "       'Freq_gnomAD_genome_POPs', 'OMIM', 'Phenotype_MIM', 'OrphaNumber',\n",
    "       'Orpha', 'Otherinfo']"
   ]
  },
  {
   "cell_type": "code",
   "execution_count": null,
   "metadata": {},
   "outputs": [],
   "source": [
    "open_col_only = ['#Chr', 'Start', 'End', 'Ref', 'Alt', 'Ref.Gene', 'Func.refGene',\n",
    "        'avsnp147','clinvar: Clinvar ',' InterVar: InterVar and Evidence ', 'OMIM']\n",
    "# these columns are need to open while opening intervar file\n",
    "# After Opening we will change the column Name\n",
    "out_col = ['Chr', 'Start', 'End', 'Ref', 'Alt', 'Ref_Gene', 'Func_refGene',\n",
    "        'avsnp147','Clinvar','InterVar', 'OMIM']\n",
    "## \n",
    "\n",
    "# In Case fo SNV the start and end position is same so we dont need Start and End\n",
    "# But in case of indels the insertion and deletion might not be same so we need\n",
    "len(open_col_only) == len(out_col)"
   ]
  },
  {
   "cell_type": "code",
   "execution_count": null,
   "metadata": {},
   "outputs": [],
   "source": [
    "def check_file(case_or_control, file_extension = \".hg19_multianno.txt.intervar\"):\n",
    "    # \"Annovar_result/1119/1119.hg19_multianno.txt.intervar\"\n",
    "    \"\"\"This Function us useful to check weather file exists or Not and return 0 if \n",
    "    any file not exists\"\"\"\n",
    "    import os\n",
    "    file_extension = file_extension\n",
    "    for _ in case_or_control:\n",
    "        \n",
    "        condition = os.path.exists(_+\"/\"+_+file_extension)\n",
    "        if condition:\n",
    "            print(_, \"exist\", end= \"-->\")\n",
    "        else:\n",
    "            print()\n",
    "            print(\"\\n\")\n",
    "            print(\"X-#-!\"*20)\n",
    "            print(_,\"not exist\")\n",
    "            print(\"###\"*20,\"\\n\")\n",
    "            print(\"Check this file and run\",_)\n",
    "            return 0\n",
    "    print(\"\\n\\nAll File exists\")\n",
    "    return 1"
   ]
  },
  {
   "cell_type": "code",
   "execution_count": null,
   "metadata": {},
   "outputs": [],
   "source": [
    "check_file(case)"
   ]
  },
  {
   "cell_type": "code",
   "execution_count": null,
   "metadata": {},
   "outputs": [],
   "source": [
    "check_file(control)"
   ]
  },
  {
   "cell_type": "code",
   "execution_count": null,
   "metadata": {},
   "outputs": [],
   "source": [
    "import os\n",
    "def split(x):\n",
    "    x = x[10:]\n",
    "    splitted = x.rsplit()\n",
    "    if splitted[0] in [\"Pathogenic\", \"Benign\"]:\n",
    "        return splitted[:1][0]\n",
    "    else:\n",
    "        return \"_\".join(splitted[:2])"
   ]
  },
  {
   "cell_type": "markdown",
   "metadata": {},
   "source": [
    "##### Since all file exists Now we need to create different file snv and Indel"
   ]
  },
  {
   "cell_type": "markdown",
   "metadata": {},
   "source": [
    "## For Python convert to Code\n",
    "for _ in control:\n",
    "    condition = os.path.exists(_+\"/\"+_+\"_indels.csv\")\n",
    "    if  condition:\n",
    "        print(\"Doing\", _)\n",
    "        df = pd.read_csv(_+\"/\"+_+\".hg19_multianno.txt.intervar\",\n",
    "                 low_memory=False,sep = \"\\t\",usecols = open_col_only)\n",
    "        df.columns = out_col\n",
    "        df.Clinvar = df.Clinvar.apply(lambda x : x[9:])\n",
    "        \n",
    "        df.InterVar = df.InterVar.apply(lambda x : split(x))\n",
    "        df_snvs = df.loc[(df.Ref != \"-\") & (df.Alt.str.len()== 1) &\n",
    "                         (df.Ref.str.len() == 1)&(df.Alt != \"-\")]\n",
    "        df_indels = df.loc[(df.Ref == \"-\") | (df.Alt == \"-\")]\n",
    "        df_snvs.to_csv(_+\"/\"+_+\"_snv.csv\", index = False)\n",
    "        df_indels.to_csv(_+\"/\"+_+\"_indels.csv\", index = False)\n",
    "    else:\n",
    "        print(\"skipping\", _)\n",
    "    print(\"done\",_)"
   ]
  },
  {
   "cell_type": "code",
   "execution_count": null,
   "metadata": {},
   "outputs": [],
   "source": [
    "#_ = \"1119\"\n",
    "#df = pd.read_csv(_+\"/\"+_+\".hg19_multianno.txt.intervar\",\n",
    "#                 low_memory=False,nrows = 1000,sep = \"\\t\",usecols = open_col_only)\n",
    "#df.columns = out_col\n",
    "#df.Clinvar = df.Clinvar.apply(lambda x : x[9:])\n",
    "#df.InterVar = df.InterVar.apply(lambda x : x[10:])\n",
    "#df_snvs = df.loc[(df.Ref != \"-\") & (df.Alt.str.len()== 1) & (df.Ref.str.len() == 1)]\n",
    "#df_indels = df.loc[(df.Ref == \"-\") | (df.Alt == \"-\")]\n",
    "#df_snvs.to_csv(_+\"/\"+_+\"_snv.csv\", index = False)\n",
    "#df_indels.to_csv(_+\"/\"+_+\"_indels.csv\", index = False)"
   ]
  },
  {
   "cell_type": "code",
   "execution_count": null,
   "metadata": {},
   "outputs": [],
   "source": [
    "#df_snvs = df.loc[(df.Ref.str.len() == 1) & (df.Alt.str.len()== 1)]\n",
    "#df_indels = df.loc[df.Ref.str.len()>1 | (df.Alt.str.len()>1)]\n",
    "\n",
    "#df_snvs = df.loc[(df.Ref != \"-\") & (df.Alt.str.len()== 1) & (df.Ref.str.len() == 1)]\n",
    "#df_indels = df.loc[(df.Ref == \"-\") | (df.Alt == \"-\")]"
   ]
  },
  {
   "cell_type": "code",
   "execution_count": null,
   "metadata": {},
   "outputs": [],
   "source": [
    "#df_snvs.head()\n",
    "#df_snvs.to_csv(_+\"/\"+_+\"_snv.csv\", index = False)"
   ]
  },
  {
   "cell_type": "code",
   "execution_count": null,
   "metadata": {
    "scrolled": true
   },
   "outputs": [],
   "source": [
    "#__ = pd.read_csv(_+\"/\"+_+\"_snv.csv\")\n",
    "#__.head()\n",
    "#df_snvs[df_snvs.Ref ==\"-\"]"
   ]
  },
  {
   "cell_type": "code",
   "execution_count": null,
   "metadata": {},
   "outputs": [],
   "source": [
    "#df_indels.head()"
   ]
  },
  {
   "cell_type": "markdown",
   "metadata": {},
   "source": [
    "## Counting Repeting SNV with "
   ]
  },
  {
   "cell_type": "code",
   "execution_count": 8,
   "metadata": {},
   "outputs": [],
   "source": [
    "import pandas as pd"
   ]
  },
  {
   "cell_type": "code",
   "execution_count": 9,
   "metadata": {},
   "outputs": [],
   "source": [
    "#df = pd.read_csv(\"1389/1389_indels.csv\", nrows=100)"
   ]
  },
  {
   "cell_type": "code",
   "execution_count": 3,
   "metadata": {},
   "outputs": [
    {
     "name": "stdout",
     "output_type": "stream",
     "text": [
      "(1553869, 5)\n"
     ]
    },
    {
     "data": {
      "text/html": [
       "<div>\n",
       "<style scoped>\n",
       "    .dataframe tbody tr th:only-of-type {\n",
       "        vertical-align: middle;\n",
       "    }\n",
       "\n",
       "    .dataframe tbody tr th {\n",
       "        vertical-align: top;\n",
       "    }\n",
       "\n",
       "    .dataframe thead th {\n",
       "        text-align: right;\n",
       "    }\n",
       "</style>\n",
       "<table border=\"1\" class=\"dataframe\">\n",
       "  <thead>\n",
       "    <tr style=\"text-align: right;\">\n",
       "      <th></th>\n",
       "      <th>Chr</th>\n",
       "      <th>Start</th>\n",
       "      <th>Ref</th>\n",
       "      <th>Alt</th>\n",
       "      <th>SNP</th>\n",
       "    </tr>\n",
       "  </thead>\n",
       "  <tbody>\n",
       "    <tr>\n",
       "      <th>2</th>\n",
       "      <td>1</td>\n",
       "      <td>14907</td>\n",
       "      <td>A</td>\n",
       "      <td>G</td>\n",
       "      <td>1</td>\n",
       "    </tr>\n",
       "    <tr>\n",
       "      <th>3</th>\n",
       "      <td>1</td>\n",
       "      <td>14930</td>\n",
       "      <td>A</td>\n",
       "      <td>G</td>\n",
       "      <td>1</td>\n",
       "    </tr>\n",
       "    <tr>\n",
       "      <th>4</th>\n",
       "      <td>1</td>\n",
       "      <td>15211</td>\n",
       "      <td>T</td>\n",
       "      <td>G</td>\n",
       "      <td>1</td>\n",
       "    </tr>\n",
       "    <tr>\n",
       "      <th>5</th>\n",
       "      <td>1</td>\n",
       "      <td>15274</td>\n",
       "      <td>A</td>\n",
       "      <td>G</td>\n",
       "      <td>1</td>\n",
       "    </tr>\n",
       "    <tr>\n",
       "      <th>6</th>\n",
       "      <td>1</td>\n",
       "      <td>15274</td>\n",
       "      <td>A</td>\n",
       "      <td>T</td>\n",
       "      <td>1</td>\n",
       "    </tr>\n",
       "  </tbody>\n",
       "</table>\n",
       "</div>"
      ],
      "text/plain": [
       "  Chr  Start Ref Alt  SNP\n",
       "2   1  14907   A   G    1\n",
       "3   1  14930   A   G    1\n",
       "4   1  15211   T   G    1\n",
       "5   1  15274   A   G    1\n",
       "6   1  15274   A   T    1"
      ]
     },
     "execution_count": 3,
     "metadata": {},
     "output_type": "execute_result"
    }
   ],
   "source": [
    "case_merged = None  # To clear Memory\n",
    "control_merged = None\n",
    "open_cols = [\"Chr\", 'Start', 'Ref',\"Alt\"]\n",
    "merged_cols = [\"Chr\", 'Start', 'Ref',\"Alt\",\"SNP\"]\n",
    "control_merged = pd.read_csv(\"1093/1093_snv.csv\", low_memory= False,usecols=open_cols, dtype=\"object\")\n",
    "control_merged.drop_duplicates(subset =  [\"Start\",\"Alt\"], keep = False, inplace = True)\n",
    "control_merged[\"SNP\"] = 1\n",
    "print(control_merged.shape)\n",
    "control_merged.head()"
   ]
  },
  {
   "cell_type": "code",
   "execution_count": 10,
   "metadata": {},
   "outputs": [
    {
     "name": "stdout",
     "output_type": "stream",
     "text": [
      "Done in the begining\n",
      "1134\n",
      "1293\n",
      "1316\n",
      "1389\n",
      "1428\n",
      "1477\n",
      "1481\n",
      "1557\n",
      "1591\n",
      "MWB_895\n",
      "MWB_911\n",
      "MWB_941\n",
      "MWB_956\n",
      "MWB_961\n",
      "MWB_1008\n",
      "MWB_1040\n",
      "MWB_1151\n",
      "MWB_1244\n",
      "MWB_1250\n",
      "MWB_1443\n",
      "MWB_1676\n",
      "MWB_1960\n",
      "MWB_1964\n",
      "MWB_1975\n",
      "MWB_1977\n",
      "MWB_1982\n",
      "MWB_1995\n",
      "MWB_2007\n",
      "MWB_2008\n"
     ]
    }
   ],
   "source": [
    "for _ in control:\n",
    "    if _ == \"1093\":\n",
    "        print(\"Done in the begining\")\n",
    "        continue\n",
    "    print(_)\n",
    "    df = pd.read_csv(_+\"/\"+_+\"_snv.csv\", usecols = open_cols, low_memory=False, dtype=\"object\")\n",
    "    df.drop_duplicates(subset = [\"Start\",\"Alt\"], keep = False, inplace = True)\n",
    "    \n",
    "    df[\"SNP_\"] = 1\n",
    "    control_merged = pd.merge(control_merged, df, on= open_cols, how = \"outer\")\n",
    "    control_merged.fillna(0, inplace = True)\n",
    "    \n",
    "    control_merged[\"SNP\"] = control_merged.SNP + control_merged.SNP_\n",
    "    #case_merged.drop_duplicates(subset = \"Start\", keep = False, inplace = True)\n",
    "    control_merged.drop([\"SNP_\"], axis = 1, inplace=True)\n",
    "    del df"
   ]
  },
  {
   "cell_type": "code",
   "execution_count": 11,
   "metadata": {},
   "outputs": [],
   "source": [
    "control_merged.to_csv(\"30_control_mearged_snv.csv\", index=False)"
   ]
  },
  {
   "cell_type": "code",
   "execution_count": 13,
   "metadata": {},
   "outputs": [
    {
     "data": {
      "text/html": [
       "<div>\n",
       "<style scoped>\n",
       "    .dataframe tbody tr th:only-of-type {\n",
       "        vertical-align: middle;\n",
       "    }\n",
       "\n",
       "    .dataframe tbody tr th {\n",
       "        vertical-align: top;\n",
       "    }\n",
       "\n",
       "    .dataframe thead th {\n",
       "        text-align: right;\n",
       "    }\n",
       "</style>\n",
       "<table border=\"1\" class=\"dataframe\">\n",
       "  <thead>\n",
       "    <tr style=\"text-align: right;\">\n",
       "      <th></th>\n",
       "      <th>Chr</th>\n",
       "      <th>Start</th>\n",
       "      <th>Ref</th>\n",
       "      <th>Alt</th>\n",
       "      <th>SNP</th>\n",
       "    </tr>\n",
       "  </thead>\n",
       "  <tbody>\n",
       "    <tr>\n",
       "      <th>30</th>\n",
       "      <td>1</td>\n",
       "      <td>714427</td>\n",
       "      <td>G</td>\n",
       "      <td>A</td>\n",
       "      <td>30.0</td>\n",
       "    </tr>\n",
       "    <tr>\n",
       "      <th>31</th>\n",
       "      <td>1</td>\n",
       "      <td>752566</td>\n",
       "      <td>G</td>\n",
       "      <td>A</td>\n",
       "      <td>30.0</td>\n",
       "    </tr>\n",
       "    <tr>\n",
       "      <th>34</th>\n",
       "      <td>1</td>\n",
       "      <td>753269</td>\n",
       "      <td>C</td>\n",
       "      <td>G</td>\n",
       "      <td>30.0</td>\n",
       "    </tr>\n",
       "    <tr>\n",
       "      <th>42</th>\n",
       "      <td>1</td>\n",
       "      <td>760912</td>\n",
       "      <td>C</td>\n",
       "      <td>T</td>\n",
       "      <td>30.0</td>\n",
       "    </tr>\n",
       "    <tr>\n",
       "      <th>43</th>\n",
       "      <td>1</td>\n",
       "      <td>761147</td>\n",
       "      <td>T</td>\n",
       "      <td>C</td>\n",
       "      <td>30.0</td>\n",
       "    </tr>\n",
       "    <tr>\n",
       "      <th>...</th>\n",
       "      <td>...</td>\n",
       "      <td>...</td>\n",
       "      <td>...</td>\n",
       "      <td>...</td>\n",
       "      <td>...</td>\n",
       "    </tr>\n",
       "    <tr>\n",
       "      <th>1553827</th>\n",
       "      <td>X</td>\n",
       "      <td>154880667</td>\n",
       "      <td>T</td>\n",
       "      <td>C</td>\n",
       "      <td>30.0</td>\n",
       "    </tr>\n",
       "    <tr>\n",
       "      <th>1553845</th>\n",
       "      <td>X</td>\n",
       "      <td>154898561</td>\n",
       "      <td>T</td>\n",
       "      <td>C</td>\n",
       "      <td>30.0</td>\n",
       "    </tr>\n",
       "    <tr>\n",
       "      <th>1553858</th>\n",
       "      <td>M</td>\n",
       "      <td>410</td>\n",
       "      <td>A</td>\n",
       "      <td>T</td>\n",
       "      <td>30.0</td>\n",
       "    </tr>\n",
       "    <tr>\n",
       "      <th>1553860</th>\n",
       "      <td>M</td>\n",
       "      <td>2354</td>\n",
       "      <td>C</td>\n",
       "      <td>T</td>\n",
       "      <td>30.0</td>\n",
       "    </tr>\n",
       "    <tr>\n",
       "      <th>1553861</th>\n",
       "      <td>M</td>\n",
       "      <td>2485</td>\n",
       "      <td>C</td>\n",
       "      <td>T</td>\n",
       "      <td>30.0</td>\n",
       "    </tr>\n",
       "  </tbody>\n",
       "</table>\n",
       "<p>306383 rows × 5 columns</p>\n",
       "</div>"
      ],
      "text/plain": [
       "        Chr      Start Ref Alt   SNP\n",
       "30        1     714427   G   A  30.0\n",
       "31        1     752566   G   A  30.0\n",
       "34        1     753269   C   G  30.0\n",
       "42        1     760912   C   T  30.0\n",
       "43        1     761147   T   C  30.0\n",
       "...      ..        ...  ..  ..   ...\n",
       "1553827   X  154880667   T   C  30.0\n",
       "1553845   X  154898561   T   C  30.0\n",
       "1553858   M        410   A   T  30.0\n",
       "1553860   M       2354   C   T  30.0\n",
       "1553861   M       2485   C   T  30.0\n",
       "\n",
       "[306383 rows x 5 columns]"
      ]
     },
     "execution_count": 13,
     "metadata": {},
     "output_type": "execute_result"
    }
   ],
   "source": [
    "control_merged[control_merged.SNP == 30]"
   ]
  },
  {
   "cell_type": "markdown",
   "metadata": {},
   "source": [
    "### Load Original Pass VCF File"
   ]
  }
 ],
 "metadata": {
  "kernelspec": {
   "display_name": "Python 3",
   "language": "python",
   "name": "python3"
  },
  "language_info": {
   "codemirror_mode": {
    "name": "ipython",
    "version": 3
   },
   "file_extension": ".py",
   "mimetype": "text/x-python",
   "name": "python",
   "nbconvert_exporter": "python",
   "pygments_lexer": "ipython3",
   "version": "3.7.6"
  },
  "nbTranslate": {
   "displayLangs": [
    "*"
   ],
   "hotkey": "alt-t",
   "langInMainMenu": true,
   "sourceLang": "en",
   "targetLang": "fr",
   "useGoogleTranslate": true
  },
  "toc": {
   "base_numbering": 1,
   "nav_menu": {},
   "number_sections": true,
   "sideBar": true,
   "skip_h1_title": false,
   "title_cell": "Table of Contents",
   "title_sidebar": "Contents",
   "toc_cell": false,
   "toc_position": {},
   "toc_section_display": true,
   "toc_window_display": false
  }
 },
 "nbformat": 4,
 "nbformat_minor": 4
}
