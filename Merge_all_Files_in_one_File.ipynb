{
 "cells": [
  {
   "cell_type": "code",
   "execution_count": 1,
   "metadata": {},
   "outputs": [],
   "source": [
    "import numpy as np\n",
    "import pandas as pd\n",
    "import os\n",
    "import sys"
   ]
  },
  {
   "cell_type": "code",
   "execution_count": 11,
   "metadata": {},
   "outputs": [
    {
     "data": {
      "text/plain": [
       "'910'"
      ]
     },
     "execution_count": 11,
     "metadata": {},
     "output_type": "execute_result"
    }
   ],
   "source": [
    "path = \"/BiO/Preterm/raw_data/\"\n",
    "files = os.listdir(path) #Last 10 Files\n",
    "files\n",
    "control1 = [1093,1134,1293]\n",
    "control2 = [1428,1477,1481]\n",
    "control3 = [1557,1591,1316,1389]\n",
    "\n",
    "\n",
    "\n",
    "case1 = [1119,910,873]\n",
    "case2 = [880,1282,1584]\n",
    "case3 =  [875,1009,1489,989]\n",
    "str(case1[1])"
   ]
  },
  {
   "cell_type": "code",
   "execution_count": 6,
   "metadata": {},
   "outputs": [],
   "source": [
    "#files[:20]"
   ]
  },
  {
   "cell_type": "markdown",
   "metadata": {},
   "source": [
    "## Make a Loop to Convert files in a loop"
   ]
  },
  {
   "cell_type": "code",
   "execution_count": 3,
   "metadata": {},
   "outputs": [],
   "source": [
    "import tqdm\n",
    "#path = \"/BiO/Preterm/raw_data/\""
   ]
  },
  {
   "cell_type": "code",
   "execution_count": 7,
   "metadata": {},
   "outputs": [
    {
     "name": "stderr",
     "output_type": "stream",
     "text": [
      "\n",
      "  0%|          | 0/4 [00:00<?, ?it/s]\u001b[A"
     ]
    },
    {
     "name": "stdout",
     "output_type": "stream",
     "text": [
      "875 Loading case Remaining 5\n",
      "Duplicate  droped\n"
     ]
    },
    {
     "name": "stderr",
     "output_type": "stream",
     "text": [
      "\n",
      " 25%|██▌       | 1/4 [03:07<09:23, 187.82s/it]\u001b[A"
     ]
    },
    {
     "name": "stdout",
     "output_type": "stream",
     "text": [
      "DUplicate dropping\n",
      "1009 Loading case Remaining 4\n",
      "Duplicate  droped\n"
     ]
    },
    {
     "name": "stderr",
     "output_type": "stream",
     "text": [
      "\n",
      " 50%|█████     | 2/4 [08:29<07:36, 228.02s/it]\u001b[A"
     ]
    },
    {
     "name": "stdout",
     "output_type": "stream",
     "text": [
      "DUplicate dropping\n",
      "1489 Loading case Remaining 3\n",
      "Duplicate  droped\n"
     ]
    },
    {
     "name": "stderr",
     "output_type": "stream",
     "text": [
      "\n",
      " 75%|███████▌  | 3/4 [17:07<05:15, 315.05s/it]\u001b[A"
     ]
    },
    {
     "name": "stdout",
     "output_type": "stream",
     "text": [
      "DUplicate dropping\n",
      "989 Loading case Remaining 2\n",
      "Duplicate  droped\n"
     ]
    },
    {
     "name": "stderr",
     "output_type": "stream",
     "text": [
      "\n",
      "100%|██████████| 4/4 [31:25<00:00, 471.43s/it]\u001b[A"
     ]
    },
    {
     "name": "stdout",
     "output_type": "stream",
     "text": [
      "DUplicate dropping\n",
      "Writing CSV File\n"
     ]
    },
    {
     "name": "stderr",
     "output_type": "stream",
     "text": [
      "\n"
     ]
    }
   ],
   "source": [
    "cs = 5\n",
    "i=j=1\n",
    "path = \"/BiO/Preterm/raw_data/\"\n",
    "\n",
    "#case_merged = pd.DataFrame(columns=[\"CHROM\",\"POS\",\"REF\",\"ALT\"])\n",
    "#control_merged = pd.DataFrame([\"CHROM\",\"POS\",\"REF\",\"ALT\"])\n",
    "case_merged = pd.DataFrame(columns=[\"CHROM\",\"POS\"])\n",
    "\n",
    "\n",
    "\n",
    "for file in tqdm.tqdm(case3):\n",
    "    file= str(file)\n",
    "    print(file,\"Loading case\",\"Remaining\",cs)\n",
    "    #df = pd.read_csv(path+file+\"/\"+file+\"_snp.csv\",usecols=[\"CHROM\",\"POS\",\"REF\",\"ALT\",\"SnP\"])\n",
    "    df = pd.read_csv(path+file+\"/\"+file+\"_snp.csv\",usecols=[\"CHROM\",\"POS\",\"SnP\"])\n",
    "    #df.drop_duplicates(subset = [\"CHROM\",\"POS\"],keep = \"first\",inplace=True)\n",
    "    print(\"Duplicate  droped\")\n",
    "    #This will reduce memomory size    \n",
    "    #df = df.rename(columns={'SnP': (str(i)+\"cs\")});i+=1#Rename the Col                   \n",
    "    \n",
    "    #case_merged = pd.merge(case_merged,df,how=\"outer\",on=['CHROM', 'POS', 'REF',\"ALT\"])\n",
    "    case_merged = pd.merge(case_merged,df,how=\"outer\",on=[\"CHROM\",'POS'])\n",
    "    print(\"DUplicate dropping\")\n",
    "    #case_merged = case_merged.sort_values('POS', ascending=True) #If this took long time then do Outside\n",
    "    cs-=1\n",
    "print(\"Writing CSV File\")\n",
    "#case_merged = case_merged.sort_values('POS', ascending=True)                                   \n",
    "case_merged.to_csv(path+\"case_snp_new3.csv\",index=False) \n",
    "#While case_merged Complete lets Freee Memory\n"
   ]
  },
  {
   "cell_type": "markdown",
   "metadata": {},
   "source": [
    "## For Control"
   ]
  },
  {
   "cell_type": "code",
   "execution_count": 14,
   "metadata": {},
   "outputs": [
    {
     "name": "stderr",
     "output_type": "stream",
     "text": [
      "\n",
      "  0%|          | 0/4 [00:00<?, ?it/s]\u001b[A"
     ]
    },
    {
     "name": "stdout",
     "output_type": "stream",
     "text": [
      "1557 Loading Control Remaining 5\n"
     ]
    },
    {
     "name": "stderr",
     "output_type": "stream",
     "text": [
      "\n",
      " 25%|██▌       | 1/4 [06:46<20:18, 406.16s/it]\u001b[A"
     ]
    },
    {
     "name": "stdout",
     "output_type": "stream",
     "text": [
      "1591 Loading Control Remaining 4\n"
     ]
    },
    {
     "name": "stderr",
     "output_type": "stream",
     "text": [
      "\n",
      " 50%|█████     | 2/4 [20:22<17:38, 529.26s/it]\u001b[A"
     ]
    },
    {
     "name": "stdout",
     "output_type": "stream",
     "text": [
      "1316 Loading Control Remaining 3\n"
     ]
    },
    {
     "name": "stderr",
     "output_type": "stream",
     "text": [
      "\n",
      " 75%|███████▌  | 3/4 [33:48<10:12, 612.37s/it]\u001b[A"
     ]
    },
    {
     "name": "stdout",
     "output_type": "stream",
     "text": [
      "1389 Loading Control Remaining 2\n"
     ]
    },
    {
     "name": "stderr",
     "output_type": "stream",
     "text": [
      "\n",
      "100%|██████████| 4/4 [52:22<00:00, 785.62s/it]\u001b[A\n"
     ]
    },
    {
     "name": "stdout",
     "output_type": "stream",
     "text": [
      "Writing CSV\n",
      "1 1\n"
     ]
    }
   ],
   "source": [
    "df=case_merged = None #Clear all Memory  \n",
    "control_merged = pd.DataFrame(columns=[\"CHROM\",\"POS\",\"REF\"])\n",
    "cn =5\n",
    "for file in tqdm.tqdm(control3): #if change here then also change in Output File\n",
    "    #We do by 5 and 5 because it will create Memory Error\n",
    "    file = str(file)\n",
    "    print(file,\"Loading Control\",\"Remaining\",cn)\n",
    "    \n",
    "    #df = pd.read_csv(path+file+\"/\"+file+\"_snp.csv\",usecols=[\"CHROM\",\"POS\",\"REF\",\"ALT\",\"SnP\"])\n",
    "    df = pd.read_csv(path+file+\"/\"+file+\"_snp.csv\",usecols=[\"CHROM\",\"POS\",\"REF\",\"SnP\"])\n",
    "    #Since the all File took High Memory We compare only with POS\n",
    "    \n",
    "    df = df.rename(columns={'SnP': (str(i)+\"cn\")});i+=1 #Increase by 1 and label the                        \n",
    "    control_merged = pd.merge(control_merged,df,how=\"outer\",on=[\"CHROM\",\"POS\",\"REF\"])\n",
    "    \n",
    "    #control_merged = control_merged.sort_values('POS', ascending=True)#If this took long time then do Outside\n",
    "    cn-=1\n",
    "#control_merged = control_merged.sort_values('POS', ascending=True)\n",
    "print(\"Writing CSV\")\n",
    "control_merged.to_csv(path+\"control_snp_new3.csv\",index=False) #Must change 1 &2\n",
    "#control_merged=Null\n",
    "print(cs , cn)"
   ]
  },
  {
   "cell_type": "code",
   "execution_count": 2,
   "metadata": {},
   "outputs": [],
   "source": [
    "#file = \"1093\"#"
   ]
  },
  {
   "cell_type": "code",
   "execution_count": 8,
   "metadata": {},
   "outputs": [],
   "source": [
    "df = pd.read_csv(path+file+\"/\"+file+\"_snp.csv\",usecols=[\"CHROM\",\"POS\",\"REF\",\"ALT\",\"SnP\"])"
   ]
  },
  {
   "cell_type": "code",
   "execution_count": 10,
   "metadata": {},
   "outputs": [
    {
     "data": {
      "text/plain": [
       "(204020637, 5)"
      ]
     },
     "execution_count": 10,
     "metadata": {},
     "output_type": "execute_result"
    }
   ],
   "source": [
    "df.shape"
   ]
  },
  {
   "cell_type": "code",
   "execution_count": 24,
   "metadata": {},
   "outputs": [
    {
     "data": {
      "text/plain": [
       "(100000, 5)"
      ]
     },
     "execution_count": 24,
     "metadata": {},
     "output_type": "execute_result"
    }
   ],
   "source": [
    "df1 = df.head(100000)\n",
    "df1.shape"
   ]
  },
  {
   "cell_type": "code",
   "execution_count": 25,
   "metadata": {},
   "outputs": [
    {
     "name": "stderr",
     "output_type": "stream",
     "text": [
      "/home/albatross/anaconda3/lib/python3.7/site-packages/ipykernel_launcher.py:1: SettingWithCopyWarning: \n",
      "A value is trying to be set on a copy of a slice from a DataFrame\n",
      "\n",
      "See the caveats in the documentation: http://pandas.pydata.org/pandas-docs/stable/user_guide/indexing.html#returning-a-view-versus-a-copy\n",
      "  \"\"\"Entry point for launching an IPython kernel.\n"
     ]
    },
    {
     "data": {
      "text/plain": [
       "(99960, 5)"
      ]
     },
     "execution_count": 25,
     "metadata": {},
     "output_type": "execute_result"
    }
   ],
   "source": [
    "df1.drop_duplicates(subset = [\"CHROM\",\"POS\"],keep = \"first\",inplace=True)\n",
    "df1.shape"
   ]
  }
 ],
 "metadata": {
  "kernelspec": {
   "display_name": "Python 3",
   "language": "python",
   "name": "python3"
  },
  "language_info": {
   "codemirror_mode": {
    "name": "ipython",
    "version": 3
   },
   "file_extension": ".py",
   "mimetype": "text/x-python",
   "name": "python",
   "nbconvert_exporter": "python",
   "pygments_lexer": "ipython3",
   "version": "3.7.4"
  }
 },
 "nbformat": 4,
 "nbformat_minor": 2
}
